{
 "cells": [
  {
   "cell_type": "code",
   "execution_count": 1,
   "id": "11066d57",
   "metadata": {},
   "outputs": [
    {
     "data": {
      "text/plain": [
       "2"
      ]
     },
     "execution_count": 1,
     "metadata": {},
     "output_type": "execute_result"
    }
   ],
   "source": [
    "#longest common Subsequences\n",
    "\n",
    "\n",
    "def lcs(s1,s2,m,n):\n",
    "    if m==0 or n==0:\n",
    "        return 0\n",
    "    \n",
    "    if s1[m-1]==s2[n-1]:\n",
    "        return 1 + lcs(s1,s2,m-1,n-1)\n",
    "    else:\n",
    "        return max(lcs(s1,s2,m,n-1), lcs(s1,s2,m-1,n))\n",
    "    \n",
    "s1 = \"AXYZ\"\n",
    "s2 = \"BAZ\"\n",
    "\n",
    "lcs(s1,s2,len(s1),len(s2))"
   ]
  },
  {
   "cell_type": "code",
   "execution_count": 10,
   "id": "aee42b57",
   "metadata": {},
   "outputs": [
    {
     "data": {
      "text/plain": [
       "2"
      ]
     },
     "execution_count": 10,
     "metadata": {},
     "output_type": "execute_result"
    }
   ],
   "source": [
    "## tabulation formate\n",
    "\n",
    "def lcs(s1,s2,m,n):\n",
    "    m = len(s1)\n",
    "    n = len(s2)\n",
    "    \n",
    "    dp = [[0]*(n+1) for _ in range(m+1)]\n",
    "    \n",
    "    for i in range(1,m+1):\n",
    "        for j in range(1,n+1):\n",
    "            if i==0 or j==0:\n",
    "                dp[i][j]= 0\n",
    "                \n",
    "            if s1[i-1]==s2[j-1]:\n",
    "                dp[i][j] = 1+dp[i-1][j-1]\n",
    "            else:\n",
    "                dp[i][j] = max(dp[i-1][j],dp[i][j-1])\n",
    "                \n",
    "    return dp[m][n]\n",
    "s1 = \"AXYZ\"\n",
    "s2 = \"BAZ\"\n",
    "\n",
    "lcs(s1,s2,len(s1),len(s2))"
   ]
  },
  {
   "cell_type": "code",
   "execution_count": 1,
   "id": "e1bc240a",
   "metadata": {},
   "outputs": [
    {
     "data": {
      "text/plain": [
       "1"
      ]
     },
     "execution_count": 1,
     "metadata": {},
     "output_type": "execute_result"
    }
   ],
   "source": [
    "## Coin change count combimation\n",
    "\n",
    "def eD(s1,s2,m,n):\n",
    "    dp = [[0]*(n+1) for _ in range(m+1)]\n",
    "    \n",
    "    for i in range(m+1):\n",
    "        dp[i][0] = i\n",
    "        \n",
    "    for j in range(n+1):\n",
    "        dp[0][j] = j\n",
    "        \n",
    "    for i in range(1,m+1):\n",
    "        for j in range(1,n+1):\n",
    "            if s1[i-1]==s2[j-1]:\n",
    "                dp[i][j] = dp[i-1][j-1]\n",
    "            else:\n",
    "                dp[i][j] = 1 + min(dp[i][j-1],dp[i-1][j],dp[i-1][j-1])\n",
    "                \n",
    "    return dp[m][n]\n",
    "\n",
    "s1 = \"cut\"\n",
    "s2 = \"cat\"\n",
    "eD(s1,s2,len(s1),len(s2))"
   ]
  },
  {
   "cell_type": "code",
   "execution_count": 3,
   "id": "53ae96ae",
   "metadata": {},
   "outputs": [
    {
     "data": {
      "text/plain": [
       "4"
      ]
     },
     "execution_count": 3,
     "metadata": {},
     "output_type": "execute_result"
    }
   ],
   "source": [
    "def countWays(coin,s):\n",
    "    n=len(coin)\n",
    "    dp = [[0 for i in range(s+1)] for x in range(n+1)]\n",
    "    \n",
    "    for i in range(n+1):\n",
    "        dp[i][0] = 1\n",
    "    \n",
    "    for i in range(1,n+1):\n",
    "        for j in range(1,s+1):\n",
    "            dp[i][j] = dp[i-1][j]\n",
    "            if j>=coin[i-1]:\n",
    "                dp[i][j]+=dp[i][j-coin[i-1]]\n",
    "                \n",
    "    return dp[n][s]\n",
    "\n",
    "coin = [1,2,3]\n",
    "s = 4\n",
    "countWays(coin,s)\n",
    "        \n",
    "    "
   ]
  },
  {
   "cell_type": "code",
   "execution_count": 5,
   "id": "3d947f07",
   "metadata": {},
   "outputs": [
    {
     "data": {
      "text/plain": [
       "3"
      ]
     },
     "execution_count": 5,
     "metadata": {},
     "output_type": "execute_result"
    }
   ],
   "source": [
    "## Longest Increasing Subsequences using O(nlogn) time\n",
    "\n",
    "def lis(arr):\n",
    "    n = len(arr)\n",
    "    tail = [arr[0]]\n",
    "    \n",
    "    for i in range(1,n):\n",
    "        if arr[i]>tail[-1]:\n",
    "            tail.append(arr[i])\n",
    "        else:\n",
    "            c = ceilIndex(tail,arr[i])\n",
    "            tail[c] = arr[i]\n",
    "    return len(tail)\n",
    "\n",
    "def ceilIndex(tail,x):\n",
    "    l=0\n",
    "    r = len(tail)-1\n",
    "    while l<r:\n",
    "        m = l+(r-l)//2\n",
    "        if arr[m]>=x:\n",
    "            r = m\n",
    "        else:\n",
    "            l = m+1\n",
    "    return r\n",
    "\n",
    "\n",
    "arr = [3,10,20,4,6,7]\n",
    "lis(arr)\n",
    "            "
   ]
  },
  {
   "cell_type": "code",
   "execution_count": null,
   "id": "1af6c2c2",
   "metadata": {},
   "outputs": [],
   "source": []
  }
 ],
 "metadata": {
  "kernelspec": {
   "display_name": "Python 3 (ipykernel)",
   "language": "python",
   "name": "python3"
  },
  "language_info": {
   "codemirror_mode": {
    "name": "ipython",
    "version": 3
   },
   "file_extension": ".py",
   "mimetype": "text/x-python",
   "name": "python",
   "nbconvert_exporter": "python",
   "pygments_lexer": "ipython3",
   "version": "3.9.13"
  }
 },
 "nbformat": 4,
 "nbformat_minor": 5
}
