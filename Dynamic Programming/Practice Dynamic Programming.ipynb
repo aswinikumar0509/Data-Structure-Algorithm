{
 "cells": [
  {
   "cell_type": "code",
   "execution_count": 1,
   "id": "1af6c2c2",
   "metadata": {},
   "outputs": [
    {
     "data": {
      "text/plain": [
       "34"
      ]
     },
     "execution_count": 1,
     "metadata": {},
     "output_type": "execute_result"
    }
   ],
   "source": [
    "## Practice Dynamic Programming\n",
    "\n",
    "## Fibonacci Series\n",
    "\n",
    "def fibonacci(n):\n",
    "    if(n<=1):\n",
    "        return n\n",
    "    return fibonacci(n-1)+fibonacci(n-2)\n",
    "\n",
    "n = 9\n",
    "fibonacci(n)"
   ]
  },
  {
   "cell_type": "code",
   "execution_count": 2,
   "id": "6768987f",
   "metadata": {},
   "outputs": [
    {
     "data": {
      "text/plain": [
       "4"
      ]
     },
     "execution_count": 2,
     "metadata": {},
     "output_type": "execute_result"
    }
   ],
   "source": [
    "## Coin Chnage Problem\n",
    "\n",
    "def countways(coin,s):\n",
    "    n = len(coin)\n",
    "    dp = [[0 for x in range(s+1)]\n",
    "         for x in range(n+1)]\n",
    "    \n",
    "    for i in range(n+1):\n",
    "        dp[i][0] = 1\n",
    "        \n",
    "    for i in range(1,n+1):\n",
    "        for j  in range(1,s+1):\n",
    "            dp[i][j] = dp[i-1][j]\n",
    "            if j>=coin[i-1]:\n",
    "                dp[i][j]+=dp[i][j-coin[i-1]]\n",
    "                \n",
    "    return dp[n][s]\n",
    "\n",
    "coin = [1,2,3]\n",
    "n = len(coin)\n",
    "s = 4\n",
    "countways(coin,s)\n"
   ]
  },
  {
   "cell_type": "code",
   "execution_count": 6,
   "id": "b824eacc",
   "metadata": {},
   "outputs": [
    {
     "data": {
      "text/plain": [
       "1"
      ]
     },
     "execution_count": 6,
     "metadata": {},
     "output_type": "execute_result"
    }
   ],
   "source": [
    "# Edit Distance Problem\n",
    "\n",
    "def ed(s1,s2,m,n):\n",
    "    if m==0:\n",
    "        return n\n",
    "    if n==0:\n",
    "        return m\n",
    "    \n",
    "    if s1[m-1]==s2[n-1]:\n",
    "        return ed(s1,s2,m-1,n-1)\n",
    "    else:\n",
    "        return 1 + min(ed(s1,s2,m-1,n) ,ed(s1,s2,m,n-1) ,ed(s1,s2,m-1,n-1))\n",
    "        \n",
    "        \n",
    "s1 = \"CAT\"\n",
    "s2 = \"CUT\"\n",
    "m = len(s1)\n",
    "n = len(s2)\n",
    "\n",
    "ed(s1,s2,m,n)"
   ]
  },
  {
   "cell_type": "code",
   "execution_count": 11,
   "id": "76708c83",
   "metadata": {},
   "outputs": [
    {
     "data": {
      "text/plain": [
       "1"
      ]
     },
     "execution_count": 11,
     "metadata": {},
     "output_type": "execute_result"
    }
   ],
   "source": [
    "def ed(s1,s2,m,n):\n",
    "    dp = [[0 for i in range(m+1)] for i in range(n+1)]\n",
    "    \n",
    "    for i in range(m+1):\n",
    "        dp[i][0] = i\n",
    "    for j in range(n+1):\n",
    "        dp[0][j] = j\n",
    "        \n",
    "    for i in range(1,m+1):\n",
    "        for j in range(1,n+1):\n",
    "            if s1[i-1]==s2[j-1]:\n",
    "                dp[i][j] = dp[i-1][j-1]\n",
    "            else:\n",
    "                dp[i][j] = 1 + min(dp[i][j-1] , dp[i-1][j] , dp[i-1][j-1])\n",
    "                \n",
    "    return dp[m][n]\n",
    "\n",
    "s1 = \"CAT\"\n",
    "s2 = \"CUT\"\n",
    "m = len(s1)\n",
    "n = len(s2)\n",
    "\n",
    "ed(s1,s2,m,n)"
   ]
  },
  {
   "cell_type": "code",
   "execution_count": 12,
   "id": "f8feda20",
   "metadata": {},
   "outputs": [
    {
     "data": {
      "text/plain": [
       "4"
      ]
     },
     "execution_count": 12,
     "metadata": {},
     "output_type": "execute_result"
    }
   ],
   "source": [
    "#Longest Increasing Subsequence\n",
    "\n",
    "def LIS(arr,n):\n",
    "    lis = [1]*n\n",
    "    \n",
    "    for i in range(1,n):\n",
    "        for j in range(0,i):\n",
    "            if arr[i]>arr[j]:\n",
    "                lis[i] = max(lis[i],lis[j]+1)\n",
    "                \n",
    "    res = lis[0]\n",
    "    for i in range(n):\n",
    "        res = max(lis[i],res)\n",
    "        \n",
    "    return res\n",
    "\n",
    "arr = [3,4,2,8,10,5,1]\n",
    "n = len(arr)\n",
    "LIS(arr,n)\n",
    "                "
   ]
  },
  {
   "cell_type": "code",
   "execution_count": 14,
   "id": "db4366a8",
   "metadata": {},
   "outputs": [
    {
     "data": {
      "text/plain": [
       "4"
      ]
     },
     "execution_count": 14,
     "metadata": {},
     "output_type": "execute_result"
    }
   ],
   "source": [
    "def LIS(arr):\n",
    "    n = len(arr)\n",
    "    tail = [arr[0]]\n",
    "    \n",
    "    for i in range(1,n):\n",
    "        if arr[i]>tail[-1]:\n",
    "            tail.append(arr[i])\n",
    "        else:\n",
    "            c = ceil(tail,arr[i])\n",
    "            tail[c] = arr[i]\n",
    "    return len(tail)\n",
    "\n",
    "def ceil(tail,x):\n",
    "    l = 0\n",
    "    r = len(tail)-1\n",
    "    \n",
    "    while r>l:\n",
    "        m = l+(r-l)//2\n",
    "        if(tail[m]>=x):\n",
    "            r = m\n",
    "        else:\n",
    "            l = m+1\n",
    "    return m\n",
    "\n",
    "arr = [3,4,2,8,10,5,1]\n",
    "LIS(arr)"
   ]
  },
  {
   "cell_type": "code",
   "execution_count": null,
   "id": "7114af9d",
   "metadata": {},
   "outputs": [],
   "source": []
  }
 ],
 "metadata": {
  "kernelspec": {
   "display_name": "Python 3 (ipykernel)",
   "language": "python",
   "name": "python3"
  },
  "language_info": {
   "codemirror_mode": {
    "name": "ipython",
    "version": 3
   },
   "file_extension": ".py",
   "mimetype": "text/x-python",
   "name": "python",
   "nbconvert_exporter": "python",
   "pygments_lexer": "ipython3",
   "version": "3.9.13"
  }
 },
 "nbformat": 4,
 "nbformat_minor": 5
}
