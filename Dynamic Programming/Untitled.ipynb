{
 "cells": [
  {
   "cell_type": "code",
   "execution_count": 1,
   "id": "6998bb38",
   "metadata": {},
   "outputs": [
    {
     "name": "stdout",
     "output_type": "stream",
     "text": [
      "Dynamic Programming\n"
     ]
    }
   ],
   "source": [
    "print(\"Dynamic Programming\")"
   ]
  },
  {
   "cell_type": "code",
   "execution_count": 2,
   "id": "435541ab",
   "metadata": {},
   "outputs": [
    {
     "data": {
      "text/plain": [
       "2"
      ]
     },
     "execution_count": 2,
     "metadata": {},
     "output_type": "execute_result"
    }
   ],
   "source": [
    "## print the fibonachi series\n",
    "\n",
    "def fib(n):\n",
    "    if n==0 or n==1:\n",
    "        return n\n",
    "    else:\n",
    "        return fib(n-1)+fib(n-2)\n",
    "    \n",
    "fib(3)"
   ]
  },
  {
   "cell_type": "code",
   "execution_count": 3,
   "id": "f0ee8663",
   "metadata": {},
   "outputs": [
    {
     "data": {
      "text/plain": [
       "354224848179261915075"
      ]
     },
     "execution_count": 3,
     "metadata": {},
     "output_type": "execute_result"
    }
   ],
   "source": [
    "## using the menorization technique\n",
    "\n",
    "memo = [None]*1000\n",
    "\n",
    "def fib(n):\n",
    "    \n",
    "    if memo[n]!=None:\n",
    "        return memo[n]\n",
    "    if n==0 or n==1:\n",
    "        memo[n] = n\n",
    "    else:\n",
    "        memo[n] = fib(n-1)+fib(n-2)\n",
    "        \n",
    "    return memo[n]\n",
    "\n",
    "fib(100)\n",
    "        "
   ]
  },
  {
   "cell_type": "code",
   "execution_count": 4,
   "id": "8ac6987b",
   "metadata": {},
   "outputs": [
    {
     "data": {
      "text/plain": [
       "5"
      ]
     },
     "execution_count": 4,
     "metadata": {},
     "output_type": "execute_result"
    }
   ],
   "source": [
    "## tabulation technique in dp\n",
    "\n",
    "def fib(n):\n",
    "    dp = [None]*(n+1)\n",
    "    \n",
    "    dp[0] = 0\n",
    "    dp[1] = 1\n",
    "    \n",
    "    for i in range(2,n+1):\n",
    "        dp[i] = dp[i-1]+dp[i-2]\n",
    "    return dp[n]\n",
    "\n",
    "fib(5)"
   ]
  },
  {
   "cell_type": "code",
   "execution_count": 5,
   "id": "c1220e05",
   "metadata": {},
   "outputs": [
    {
     "data": {
      "text/plain": [
       "2"
      ]
     },
     "execution_count": 5,
     "metadata": {},
     "output_type": "execute_result"
    }
   ],
   "source": [
    "## Longest common subsequence\n",
    "\n",
    "def lcs(s1,s2,m,n):\n",
    "    if m==0 or n==0:\n",
    "        return 0\n",
    "    elif s1[m-1]==s2[n-1]:\n",
    "        return 1+lcs(s1,s2,n-1,m-1)\n",
    "    else:\n",
    "        return max(lcs(s1,s2,m,n-1),lcs(s1,s2,m-1,n))\n",
    "    \n",
    "    \n",
    "\n",
    "    \n",
    "s1 = \"axyt\"\n",
    "s2= \"ayzx\"\n",
    "m = len(s1)\n",
    "n = len(s2)\n",
    "lcs(s1,s2,m,n)"
   ]
  },
  {
   "cell_type": "code",
   "execution_count": 6,
   "id": "bc4abb80",
   "metadata": {},
   "outputs": [
    {
     "name": "stdout",
     "output_type": "stream",
     "text": [
      "Length of LCS is 4\n"
     ]
    }
   ],
   "source": [
    "## dynamic programming approch for this problem\n",
    "\n",
    "def lcs(s1,s2,m,n,dp):\n",
    "    \n",
    "    if dp[m][n]!=-1:\n",
    "        return dp[m][n]\n",
    "    \n",
    "    if m==0 or n==0:\n",
    "        return 0\n",
    "    \n",
    "    if s1[m-1]==s2[n-1]:\n",
    "        dp[m][n] = 1+lcs(s1,s2,m-1,n-1,dp)\n",
    "        return dp[m][n]\n",
    "    \n",
    "    dp[m][n] = max(lcs(s1,s2,m-1,n,dp),lcs(s1,s2,m,n-1,dp))\n",
    "    return dp[m][n]\n",
    "\n",
    "X = \"AGGTAB\"\n",
    "Y = \"GXTXAYB\"\n",
    "\n",
    "m = len(X)\n",
    "n = len(Y)\n",
    "dp = [[-1 for i in range(n + 1)]for j in range(m + 1)]\n",
    "\n",
    "print(f\"Length of LCS is {lcs(X, Y, m, n, dp)}\")"
   ]
  },
  {
   "cell_type": "code",
   "execution_count": 7,
   "id": "e98a88a6",
   "metadata": {},
   "outputs": [],
   "source": [
    "## Mathematics"
   ]
  },
  {
   "cell_type": "code",
   "execution_count": 8,
   "id": "01651ba8",
   "metadata": {},
   "outputs": [
    {
     "data": {
      "text/plain": [
       "21"
      ]
     },
     "execution_count": 8,
     "metadata": {},
     "output_type": "execute_result"
    }
   ],
   "source": [
    "## Find the sum of first n natural number\n",
    "\n",
    "def natural_number(l):\n",
    "    res = 0\n",
    "    for i in range(len(l)):\n",
    "        res+=l[i]\n",
    "    return res\n",
    "\n",
    "l = [6,5,4,3,2,1]\n",
    "natural_number(l)"
   ]
  },
  {
   "cell_type": "code",
   "execution_count": 9,
   "id": "8e1c7704",
   "metadata": {},
   "outputs": [],
   "source": [
    "# the task is to find the count of digit present in this number\n",
    "\n"
   ]
  },
  {
   "cell_type": "code",
   "execution_count": 10,
   "id": "af8059e0",
   "metadata": {},
   "outputs": [
    {
     "name": "stdout",
     "output_type": "stream",
     "text": [
      "yes\n"
     ]
    }
   ],
   "source": [
    "## Checking the palindrome in the give number\n",
    "\n",
    "def checkpalindrome(n):\n",
    "    \n",
    "    reverse = 0\n",
    "    temp  = n \n",
    "    while(temp!=0):\n",
    "        reverse = (reverse*10)+(temp%10)\n",
    "        temp = temp//10\n",
    "        \n",
    "    return reverse == n\n",
    "\n",
    "n = 7007\n",
    "if (checkpalindrome(n)==1):\n",
    "    print(\"yes\")\n",
    "else:\n",
    "    print(\"No\")"
   ]
  },
  {
   "cell_type": "code",
   "execution_count": 11,
   "id": "01c97da4",
   "metadata": {},
   "outputs": [
    {
     "name": "stdout",
     "output_type": "stream",
     "text": [
      "120\n"
     ]
    }
   ],
   "source": [
    "## factorial of the number\n",
    "\n",
    "def factorail(n):\n",
    "    \n",
    "    if (n==0 or n==1):\n",
    "        return 1\n",
    "    else:\n",
    "        return n*factorail(n-1)\n",
    "    \n",
    "n = 5\n",
    "print(factorail(n))"
   ]
  },
  {
   "cell_type": "code",
   "execution_count": 12,
   "id": "d1e71af4",
   "metadata": {},
   "outputs": [
    {
     "data": {
      "text/plain": [
       "4"
      ]
     },
     "execution_count": 12,
     "metadata": {},
     "output_type": "execute_result"
    }
   ],
   "source": [
    "## Longest common subsequence in the string\n",
    "\n",
    "def lcs(s1,s2,n,m):\n",
    "    if n==0 or m==0:\n",
    "        return 0\n",
    "    \n",
    "    if s1[n-1]==s2[m-1]:\n",
    "        return 1+lcs(s1,s2,n-1,m-1)\n",
    "    else:\n",
    "        return max(lcs(s1,s2,n,m-1),lcs(s1,s2,n-1,m))\n",
    "    \n",
    "    \n",
    "s1 = \"AXYZ\"\n",
    "s2 = \"BAXYZ\"\n",
    "\n",
    "lcs(s1,s2,len(s1),len(s2))"
   ]
  },
  {
   "cell_type": "code",
   "execution_count": 1,
   "id": "bad5e95f",
   "metadata": {},
   "outputs": [
    {
     "name": "stdout",
     "output_type": "stream",
     "text": [
      "Length of LCS is 4\n"
     ]
    }
   ],
   "source": [
    "## Memorization technique to find the longest common subsequence\n",
    "\n",
    "def lcs(X, Y, m, n, dp):\n",
    "\n",
    "\tif (m == 0 or n == 0):\n",
    "\t\treturn 0\n",
    "\n",
    "\tif (dp[m][n] != -1):\n",
    "\t\treturn dp[m][n]\n",
    "\n",
    "\tif X[m - 1] == Y[n - 1]:\n",
    "\t\tdp[m][n] = 1 + lcs(X, Y, m - 1, n - 1, dp)\n",
    "\t\treturn dp[m][n]\n",
    "\n",
    "\tdp[m][n] = max(lcs(X, Y, m, n - 1, dp),lcs(X, Y, m - 1, n, dp))\n",
    "\treturn dp[m][n]\n",
    "\n",
    "# Driver code\n",
    "\n",
    "X = \"AGGTAB\"\n",
    "Y = \"GXTXAYB\"\n",
    "\n",
    "m = len(X)\n",
    "n = len(Y)\n",
    "dp = [[-1 for i in range(n + 1)]for j in range(m + 1)]\n",
    "\n",
    "print(f\"Length of LCS is {lcs(X, Y, m, n, dp)}\")"
   ]
  },
  {
   "cell_type": "code",
   "execution_count": 7,
   "id": "adbe21ad",
   "metadata": {},
   "outputs": [
    {
     "data": {
      "text/plain": [
       "5"
      ]
     },
     "execution_count": 7,
     "metadata": {},
     "output_type": "execute_result"
    }
   ],
   "source": [
    "def count(coin,n,s):\n",
    "    if s==0:\n",
    "        return 1\n",
    "    if s<0:\n",
    "        return 0\n",
    "    if n<=0:\n",
    "        return 0\n",
    "    \n",
    "    return count(coin,n-1,s)+count(coin,n,s-coin[n-1])\n",
    "coin = [1,2,3]\n",
    "n = len(coin)\n",
    "s = 5\n",
    "count(coin,n,s)"
   ]
  },
  {
   "cell_type": "code",
   "execution_count": null,
   "id": "8f42223e",
   "metadata": {},
   "outputs": [],
   "source": []
  }
 ],
 "metadata": {
  "kernelspec": {
   "display_name": "Python 3 (ipykernel)",
   "language": "python",
   "name": "python3"
  },
  "language_info": {
   "codemirror_mode": {
    "name": "ipython",
    "version": 3
   },
   "file_extension": ".py",
   "mimetype": "text/x-python",
   "name": "python",
   "nbconvert_exporter": "python",
   "pygments_lexer": "ipython3",
   "version": "3.9.13"
  }
 },
 "nbformat": 4,
 "nbformat_minor": 5
}
