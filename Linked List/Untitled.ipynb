{
 "cells": [
  {
   "cell_type": "code",
   "execution_count": 1,
   "id": "5aeb714f",
   "metadata": {},
   "outputs": [
    {
     "name": "stdout",
     "output_type": "stream",
     "text": [
      "10\n",
      "20\n",
      "30\n"
     ]
    }
   ],
   "source": [
    "#simple way to implement the linked list\n",
    "\n",
    "class Node:\n",
    "    \n",
    "    def __init__(self,k):\n",
    "        self.key = k\n",
    "        self.next = None\n",
    "        \n",
    "temp1 = Node(10)\n",
    "temp2 = Node(20)\n",
    "temp3 = Node(30)\n",
    "\n",
    "temp1.next = temp2\n",
    "temp2.next = temp3\n",
    "\n",
    "head = temp1\n",
    "\n",
    "print(head.key)\n",
    "print(head.next.key)\n",
    "print(head.next.next.key)"
   ]
  },
  {
   "cell_type": "code",
   "execution_count": 2,
   "id": "4a211a98",
   "metadata": {},
   "outputs": [
    {
     "name": "stdout",
     "output_type": "stream",
     "text": [
      "10 20 15 30 "
     ]
    }
   ],
   "source": [
    "# Traversal of the linked list\n",
    "\n",
    "class node:\n",
    "    \n",
    "    def __init__(self,k):\n",
    "        self.key = k\n",
    "        self.next = None\n",
    "        \n",
    "def printlist(head):\n",
    "    curr = head\n",
    "    while curr!=None:\n",
    "        print(curr.key,end = \" \")\n",
    "        curr=curr.next\n",
    "\n",
    "        \n",
    "head = node(10)\n",
    "head.next = node(20)\n",
    "head.next.next = node(15)\n",
    "head.next.next.next = node(30)\n",
    "printlist(head)     "
   ]
  },
  {
   "cell_type": "code",
   "execution_count": 3,
   "id": "8241aaa9",
   "metadata": {},
   "outputs": [
    {
     "name": "stdout",
     "output_type": "stream",
     "text": [
      "10 20 15 30 "
     ]
    },
    {
     "data": {
      "text/plain": [
       "2"
      ]
     },
     "execution_count": 3,
     "metadata": {},
     "output_type": "execute_result"
    }
   ],
   "source": [
    "## Searching of the linked list\n",
    "\n",
    "class node:\n",
    "    \n",
    "    def __init__(self,k):\n",
    "        self.key = k\n",
    "        self.next = None\n",
    "        \n",
    "    def printlist(head):\n",
    "        curr = head\n",
    "        while curr!=None:\n",
    "            print(curr.key , end = \" \")\n",
    "            curr=curr.next\n",
    "\n",
    "def searchelement(head,x):\n",
    "        pos=1\n",
    "        curr = head\n",
    "        while curr!=None:\n",
    "            if curr.key==x:\n",
    "                return pos\n",
    "            pos = pos+1\n",
    "            curr = curr.next\n",
    "        return -1\n",
    "    \n",
    "#driver code\n",
    "\n",
    "\n",
    "\n",
    "head = node(10)\n",
    "head.next = node(20)\n",
    "head.next.next = node(15)\n",
    "head.next.next.next = node(30)\n",
    "printlist(head) \n",
    "\n",
    "searchelement(head,20)\n"
   ]
  },
  {
   "cell_type": "code",
   "execution_count": 4,
   "id": "4cefad96",
   "metadata": {},
   "outputs": [
    {
     "name": "stdout",
     "output_type": "stream",
     "text": [
      "<__main__.node object at 0x000002A19672BF70>\n",
      "30 20 10 "
     ]
    },
    {
     "data": {
      "text/plain": [
       "2"
      ]
     },
     "execution_count": 4,
     "metadata": {},
     "output_type": "execute_result"
    }
   ],
   "source": [
    "# insertation at the begning of the linked list\n",
    "\n",
    "class node:\n",
    "    \n",
    "    def __init__(self,k):\n",
    "        self.key = k\n",
    "        self.next = None\n",
    "        \n",
    "        \n",
    "def printlist(head):\n",
    "    curr = head\n",
    "    while curr!=None:\n",
    "        print(curr.key , end = \" \")\n",
    "        curr = curr.next\n",
    "        \n",
    "        \n",
    "def insertbegin(head,key):\n",
    "    temp = node(key)\n",
    "    temp.next = head\n",
    "    return temp\n",
    "\n",
    "\n",
    "def searchpos(head,x):\n",
    "    pos = 1\n",
    "    curr = head\n",
    "    while curr!=None:\n",
    "        if curr.key==x:\n",
    "            return pos\n",
    "        pos = pos+1\n",
    "        curr = curr.next\n",
    "    return -1\n",
    "\n",
    "\n",
    "head=None\n",
    "head=insertbegin(head,10)\n",
    "head=insertbegin(head,20)\n",
    "head=insertbegin(head,30)\n",
    "print(head)\n",
    "printlist(head)\n",
    "searchpos(head,20)\n",
    "        "
   ]
  },
  {
   "cell_type": "code",
   "execution_count": 5,
   "id": "e2335752",
   "metadata": {},
   "outputs": [
    {
     "name": "stdout",
     "output_type": "stream",
     "text": [
      "<__main__.node object at 0x000002A19675E4C0>\n",
      "10 20 24 30 "
     ]
    },
    {
     "data": {
      "text/plain": [
       "3"
      ]
     },
     "execution_count": 5,
     "metadata": {},
     "output_type": "execute_result"
    }
   ],
   "source": [
    "class node:\n",
    "    \n",
    "    def __init__(self,k):\n",
    "        self.key = k\n",
    "        self.next = None\n",
    "        \n",
    "        \n",
    "def printlist(head):\n",
    "    curr = head\n",
    "    while curr!=None:\n",
    "        print(curr.key, end = \" \")\n",
    "        curr = curr.next\n",
    "        \n",
    "        \n",
    "def insert_begining(head,key):\n",
    "    temp = node(key)\n",
    "    temp.next = head\n",
    "    return temp\n",
    "\n",
    "\n",
    "def insert_last(head,key):\n",
    "    \n",
    "    if head==None:\n",
    "        return node(key)\n",
    "    \n",
    "    curr = head\n",
    "    while curr.next!=None:\n",
    "        curr = curr.next\n",
    "    curr.next = node(key)\n",
    "    return head\n",
    "\n",
    "\n",
    "def insert_pos(head,pos,data):\n",
    "    temp = node(data)\n",
    "    if pos==1:\n",
    "        temp.next=head\n",
    "        return temp\n",
    "    \n",
    "    curr = head\n",
    "    for i in range(pos-2):\n",
    "        curr = curr.next\n",
    "        if curr==None:\n",
    "            return head\n",
    "    temp.next = curr.next\n",
    "    curr.next = temp\n",
    "    return head\n",
    "\n",
    "\n",
    "def search(head,x):\n",
    "    pos = 1\n",
    "    curr=head\n",
    "    while curr!=None:\n",
    "        if curr.key==x:\n",
    "            return pos\n",
    "        pos = pos+1\n",
    "        curr = curr.next\n",
    "    return head\n",
    "\n",
    "## driver code    \n",
    "\n",
    "head = None\n",
    "head=insert_last(head,10)\n",
    "head=insert_last(head,20)\n",
    "head=insert_last(head,30)\n",
    "head=insert_pos(head,3,24)\n",
    "print(head)\n",
    "printlist(head)\n",
    "search(head,24)\n"
   ]
  },
  {
   "cell_type": "code",
   "execution_count": 7,
   "id": "2e5dd13b",
   "metadata": {},
   "outputs": [
    {
     "name": "stdout",
     "output_type": "stream",
     "text": [
      "24 30 20 10 "
     ]
    },
    {
     "ename": "AttributeError",
     "evalue": "'int' object has no attribute 'key'",
     "output_type": "error",
     "traceback": [
      "\u001b[1;31m---------------------------------------------------------------------------\u001b[0m",
      "\u001b[1;31mAttributeError\u001b[0m                            Traceback (most recent call last)",
      "\u001b[1;32m~\\AppData\\Local\\Temp\\ipykernel_11584\\2448656900.py\u001b[0m in \u001b[0;36m<module>\u001b[1;34m\u001b[0m\n\u001b[0;32m     34\u001b[0m \u001b[0mprintlist\u001b[0m\u001b[1;33m(\u001b[0m\u001b[0mhead\u001b[0m\u001b[1;33m)\u001b[0m\u001b[1;33m\u001b[0m\u001b[1;33m\u001b[0m\u001b[0m\n\u001b[0;32m     35\u001b[0m \u001b[0mhead\u001b[0m \u001b[1;33m=\u001b[0m \u001b[0mdel_first\u001b[0m\u001b[1;33m(\u001b[0m\u001b[1;36m10\u001b[0m\u001b[1;33m)\u001b[0m\u001b[1;33m\u001b[0m\u001b[1;33m\u001b[0m\u001b[0m\n\u001b[1;32m---> 36\u001b[1;33m \u001b[0mprintlist\u001b[0m\u001b[1;33m(\u001b[0m\u001b[0mhead\u001b[0m\u001b[1;33m)\u001b[0m\u001b[1;33m\u001b[0m\u001b[1;33m\u001b[0m\u001b[0m\n\u001b[0m",
      "\u001b[1;32m~\\AppData\\Local\\Temp\\ipykernel_11584\\2448656900.py\u001b[0m in \u001b[0;36mprintlist\u001b[1;34m(head)\u001b[0m\n\u001b[0;32m     10\u001b[0m     \u001b[0mcurr\u001b[0m \u001b[1;33m=\u001b[0m  \u001b[0mhead\u001b[0m\u001b[1;33m\u001b[0m\u001b[1;33m\u001b[0m\u001b[0m\n\u001b[0;32m     11\u001b[0m     \u001b[1;32mwhile\u001b[0m \u001b[0mcurr\u001b[0m\u001b[1;33m!=\u001b[0m\u001b[1;32mNone\u001b[0m\u001b[1;33m:\u001b[0m\u001b[1;33m\u001b[0m\u001b[1;33m\u001b[0m\u001b[0m\n\u001b[1;32m---> 12\u001b[1;33m         \u001b[0mprint\u001b[0m\u001b[1;33m(\u001b[0m\u001b[0mcurr\u001b[0m\u001b[1;33m.\u001b[0m\u001b[0mkey\u001b[0m \u001b[1;33m,\u001b[0m \u001b[0mend\u001b[0m \u001b[1;33m=\u001b[0m \u001b[1;34m\" \"\u001b[0m\u001b[1;33m)\u001b[0m\u001b[1;33m\u001b[0m\u001b[1;33m\u001b[0m\u001b[0m\n\u001b[0m\u001b[0;32m     13\u001b[0m         \u001b[0mcurr\u001b[0m \u001b[1;33m=\u001b[0m \u001b[0mcurr\u001b[0m\u001b[1;33m.\u001b[0m\u001b[0mnext\u001b[0m\u001b[1;33m\u001b[0m\u001b[1;33m\u001b[0m\u001b[0m\n\u001b[0;32m     14\u001b[0m \u001b[1;33m\u001b[0m\u001b[0m\n",
      "\u001b[1;31mAttributeError\u001b[0m: 'int' object has no attribute 'key'"
     ]
    }
   ],
   "source": [
    "# deleting the node of the linked list\n",
    "\n",
    "class node:\n",
    "    \n",
    "    def __init__(self,k):\n",
    "        self.key = k\n",
    "        self.next = None\n",
    "        \n",
    "def printlist(head):\n",
    "    curr =  head\n",
    "    while curr!=None:\n",
    "        print(curr.key , end = \" \")\n",
    "        curr = curr.next\n",
    "        \n",
    "def insert(head,key):\n",
    "    temp = node(key)\n",
    "    temp.next = head\n",
    "    return temp\n",
    "\n",
    "def del_first(head):\n",
    "    if head==None:\n",
    "        return None\n",
    "    else:\n",
    "        return head\n",
    "    \n",
    "# driver code\n",
    "\n",
    "head = None\n",
    "head=insert(head,10)\n",
    "head=insert(head,20)\n",
    "head=insert(head,30)\n",
    "head=insert(head,24)\n",
    "#print(head)\n",
    "printlist(head)\n",
    "head = del_first(10)\n",
    "printlist(head)"
   ]
  },
  {
   "cell_type": "code",
   "execution_count": 8,
   "id": "c140f3bf",
   "metadata": {},
   "outputs": [
    {
     "name": "stdout",
     "output_type": "stream",
     "text": [
      "10\n",
      "20\n",
      "30\n",
      "40\n",
      "\n",
      "20\n",
      "30\n",
      "40\n",
      "\n"
     ]
    }
   ],
   "source": [
    "class Node:\n",
    "    def __init__(self, k):\n",
    "        self.key = k\n",
    "        self.next = None\n",
    "\n",
    "\n",
    "def delFirst(head):\n",
    "    if head == None:\n",
    "        return None\n",
    "    else:\n",
    "        return head.next\n",
    "\n",
    "\n",
    "def printList(head):\n",
    "    curr = head\n",
    "    while curr != None:\n",
    "        print(curr.key)\n",
    "        curr = curr.next\n",
    "    print()\n",
    "\n",
    "\n",
    "head = Node(10)\n",
    "head.next = Node(20)\n",
    "head.next.next = Node(30)\n",
    "head.next.next.next = Node(40)\n",
    "\n",
    "printList(head)\n",
    "\n",
    "head = delFirst(head)\n",
    "\n",
    "printList(head)"
   ]
  },
  {
   "cell_type": "code",
   "execution_count": 3,
   "id": "d6fb559f",
   "metadata": {},
   "outputs": [
    {
     "name": "stdout",
     "output_type": "stream",
     "text": [
      "30 20 10 "
     ]
    }
   ],
   "source": [
    "## insertation in the linked list\n",
    "\n",
    "class node:\n",
    "    \n",
    "    def __init__(self,k):\n",
    "        self.key = k\n",
    "        self.next = None\n",
    "        \n",
    "def insert_first(head,key):\n",
    "    temp = node(key)\n",
    "    temp.next = head\n",
    "    return temp\n",
    "\n",
    "def print_list(head):\n",
    "    while head!=None:\n",
    "        print(head.key,end=\" \")\n",
    "        head = head.next\n",
    "\n",
    "head=None\n",
    "head=insert_first(head,10)\n",
    "head=insert_first(head,20)\n",
    "head=insert_first(head,30)\n",
    "print_list(head)\n",
    "\n",
    "        \n",
    "        "
   ]
  },
  {
   "cell_type": "code",
   "execution_count": 7,
   "id": "7a926877",
   "metadata": {},
   "outputs": [
    {
     "name": "stdout",
     "output_type": "stream",
     "text": [
      "10\n",
      "20\n",
      "30\n"
     ]
    }
   ],
   "source": [
    "## Insert at the end of the linked list\n",
    "\n",
    "class node:\n",
    "    def __init__(self,k):\n",
    "        self.key = k\n",
    "        self.next = None\n",
    "        \n",
    "def insertEnd(head,key):\n",
    "    if head==None:\n",
    "        return node(key)\n",
    "    curr = head\n",
    "    while curr.next!=None:\n",
    "        curr = curr.next\n",
    "    curr.next = node(key)\n",
    "    return head\n",
    "def print_list(head):\n",
    "    while head!=None:\n",
    "        print(head.key)\n",
    "        head = head.next\n",
    "        \n",
    "head=None\n",
    "head=insertEnd(head,10)\n",
    "head=insertEnd(head,20)\n",
    "head=insertEnd(head,30)\n",
    "print_list(head)\n",
    "    "
   ]
  },
  {
   "cell_type": "code",
   "execution_count": 12,
   "id": "127f4e36",
   "metadata": {},
   "outputs": [
    {
     "data": {
      "text/plain": [
       "2"
      ]
     },
     "execution_count": 12,
     "metadata": {},
     "output_type": "execute_result"
    }
   ],
   "source": [
    "## Search in the linked list\n",
    "\n",
    "class node:\n",
    "    def __init__(self,k):\n",
    "        self.key = k\n",
    "        self.next = None\n",
    "        \n",
    "def insertEnd(head,key):\n",
    "    if head==None:\n",
    "        return node(key)\n",
    "    curr = head\n",
    "    while curr.next!=None:\n",
    "        curr = curr.next\n",
    "    curr.next = node(key)\n",
    "    return head\n",
    "def print_list(head):\n",
    "    while head!=None:\n",
    "        print(head.key)\n",
    "        head = head.next\n",
    "        \n",
    "head=None\n",
    "head=insertEnd(head,10)\n",
    "head=insertEnd(head,20)\n",
    "head=insertEnd(head,30)\n",
    "\n",
    "def search(head,x):\n",
    "    pos = 1\n",
    "    if head==None:\n",
    "        return \n",
    "    curr = head\n",
    "    while curr!=None:\n",
    "        if curr.key==x:\n",
    "            return pos\n",
    "        pos = pos+1\n",
    "        curr = curr.next\n",
    "search(head,20)"
   ]
  },
  {
   "cell_type": "code",
   "execution_count": 21,
   "id": "70c7bd2d",
   "metadata": {},
   "outputs": [
    {
     "ename": "AttributeError",
     "evalue": "'NoneType' object has no attribute 'next'",
     "output_type": "error",
     "traceback": [
      "\u001b[1;31m---------------------------------------------------------------------------\u001b[0m",
      "\u001b[1;31mAttributeError\u001b[0m                            Traceback (most recent call last)",
      "\u001b[1;32m~\\AppData\\Local\\Temp\\ipykernel_11900\\1288249314.py\u001b[0m in \u001b[0;36m<module>\u001b[1;34m\u001b[0m\n\u001b[0;32m     42\u001b[0m \u001b[0mhead\u001b[0m\u001b[1;33m=\u001b[0m\u001b[0minsertEnd\u001b[0m\u001b[1;33m(\u001b[0m\u001b[0mhead\u001b[0m\u001b[1;33m,\u001b[0m\u001b[1;36m30\u001b[0m\u001b[1;33m)\u001b[0m\u001b[1;33m\u001b[0m\u001b[1;33m\u001b[0m\u001b[0m\n\u001b[0;32m     43\u001b[0m \u001b[0mprint_list\u001b[0m\u001b[1;33m(\u001b[0m\u001b[0mhead\u001b[0m\u001b[1;33m)\u001b[0m\u001b[1;33m\u001b[0m\u001b[1;33m\u001b[0m\u001b[0m\n\u001b[1;32m---> 44\u001b[1;33m \u001b[0minsertPos\u001b[0m\u001b[1;33m(\u001b[0m\u001b[0mhead\u001b[0m\u001b[1;33m,\u001b[0m\u001b[1;36m4\u001b[0m\u001b[1;33m,\u001b[0m\u001b[1;36m34\u001b[0m\u001b[1;33m)\u001b[0m\u001b[1;33m\u001b[0m\u001b[1;33m\u001b[0m\u001b[0m\n\u001b[0m\u001b[0;32m     45\u001b[0m \u001b[0mprint_list\u001b[0m\u001b[1;33m(\u001b[0m\u001b[0mhead\u001b[0m\u001b[1;33m)\u001b[0m\u001b[1;33m\u001b[0m\u001b[1;33m\u001b[0m\u001b[0m\n",
      "\u001b[1;32m~\\AppData\\Local\\Temp\\ipykernel_11900\\811662857.py\u001b[0m in \u001b[0;36minsertPos\u001b[1;34m(head, data, pos)\u001b[0m\n\u001b[0;32m     28\u001b[0m \u001b[1;33m\u001b[0m\u001b[0m\n\u001b[0;32m     29\u001b[0m     \u001b[1;32mfor\u001b[0m \u001b[0mi\u001b[0m \u001b[1;32min\u001b[0m \u001b[0mrange\u001b[0m\u001b[1;33m(\u001b[0m\u001b[0mpos\u001b[0m\u001b[1;33m-\u001b[0m\u001b[1;36m2\u001b[0m\u001b[1;33m)\u001b[0m\u001b[1;33m:\u001b[0m\u001b[1;33m\u001b[0m\u001b[1;33m\u001b[0m\u001b[0m\n\u001b[1;32m---> 30\u001b[1;33m         \u001b[0mcurr\u001b[0m \u001b[1;33m=\u001b[0m \u001b[0mcurr\u001b[0m\u001b[1;33m.\u001b[0m\u001b[0mnext\u001b[0m\u001b[1;33m\u001b[0m\u001b[1;33m\u001b[0m\u001b[0m\n\u001b[0m\u001b[0;32m     31\u001b[0m         \u001b[1;32mif\u001b[0m \u001b[0mcurr\u001b[0m \u001b[1;33m==\u001b[0m \u001b[1;32mNone\u001b[0m\u001b[1;33m:\u001b[0m\u001b[1;33m\u001b[0m\u001b[1;33m\u001b[0m\u001b[0m\n\u001b[0;32m     32\u001b[0m             \u001b[1;32mreturn\u001b[0m \u001b[0mhead\u001b[0m\u001b[1;33m\u001b[0m\u001b[1;33m\u001b[0m\u001b[0m\n",
      "\u001b[1;31mAttributeError\u001b[0m: 'NoneType' object has no attribute 'next'"
     ]
    }
   ],
   "source": [
    "## Insert at the given position of the linked list\n",
    "\n",
    "class node:\n",
    "    \n",
    "    def __init__(self, k):\n",
    "        self.key = k\n",
    "        self.next = None\n",
    "        \n",
    "    def insert(head,key):\n",
    "        head = curr\n",
    "        temp = node(key)\n",
    "        temp.next = curr\n",
    "        return temp\n",
    "\n",
    "    def insertEnd(head,key):\n",
    "        while head!=None:\n",
    "            print(head.key,end = \" \")\n",
    "            head = head.next\n",
    "\n",
    "    def insertPos(head,data,pos):\n",
    "\n",
    "        temp = node(data)\n",
    "\n",
    "        if pos ==1:\n",
    "            temp.next = head\n",
    "            return temp\n",
    "        curr = head\n",
    "\n",
    "        for i in range(pos-2):\n",
    "            curr = curr.next\n",
    "            if curr == None:\n",
    "                return head\n",
    "\n",
    "        temp.next = curr.next\n",
    "        curr.next = temp\n",
    "\n",
    "        return head\n",
    "    \n",
    "head=None\n",
    "head=insertEnd(head,10)\n",
    "head=insertEnd(head,20)\n",
    "head=insertEnd(head,30)\n",
    "print_list(head) \n",
    "insertPos(head,4,34)\n",
    "print_list(head)"
   ]
  },
  {
   "cell_type": "code",
   "execution_count": 22,
   "id": "627fd561",
   "metadata": {},
   "outputs": [
    {
     "name": "stdout",
     "output_type": "stream",
     "text": [
      "10\n",
      "20\n",
      "30\n",
      "40\n",
      "50\n",
      "\n",
      "10\n",
      "20\n",
      "30\n",
      "45\n",
      "40\n",
      "50\n",
      "\n"
     ]
    }
   ],
   "source": [
    "class Node:\n",
    "    def __init__(self, k):\n",
    "        self.key = k\n",
    "        self.next = None\n",
    "\n",
    "\n",
    "def insertPos(head,data,pos):\n",
    "\n",
    "    temp = Node(data)\n",
    "\n",
    "    if pos ==1:\n",
    "        temp.next = head\n",
    "        return temp\n",
    "    curr = head\n",
    "\n",
    "    for i in range(pos-2):\n",
    "        curr = curr.next\n",
    "        if curr == None:\n",
    "            return head\n",
    "\n",
    "    temp.next = curr.next\n",
    "    curr.next = temp\n",
    "\n",
    "    return head\n",
    "\n",
    "\n",
    "def printList(head):\n",
    "    curr = head\n",
    "    while curr != None:\n",
    "        print(curr.key)\n",
    "        curr = curr.next\n",
    "    print()\n",
    "\n",
    "\n",
    "head = Node(10)\n",
    "head.next = Node(20)\n",
    "head.next.next = Node(30)\n",
    "head.next.next.next = Node(40)\n",
    "head.next.next.next.next = Node(50)\n",
    "\n",
    "printList(head)\n",
    "\n",
    "head = insertPos(head,45,4)\n",
    "\n",
    "printList(head)"
   ]
  },
  {
   "cell_type": "code",
   "execution_count": 25,
   "id": "dec52c68",
   "metadata": {},
   "outputs": [
    {
     "name": "stdout",
     "output_type": "stream",
     "text": [
      "10\n",
      "20\n",
      "30\n",
      "40\n",
      "\n",
      "After Deletion\n",
      "20\n",
      "30\n",
      "40\n",
      "\n"
     ]
    }
   ],
   "source": [
    "## Deleting of the linked list\n",
    "\n",
    "class node:\n",
    "    \n",
    "    def __init__(self,key):\n",
    "        self.key = key\n",
    "        self.next = None\n",
    "    \n",
    "def delete_node(head):\n",
    "    if head==None:\n",
    "        return None\n",
    "    else:\n",
    "        return head.next\n",
    "    \n",
    "def printList(head):\n",
    "    curr = head\n",
    "    while curr != None:\n",
    "        print(curr.key)\n",
    "        curr = curr.next\n",
    "    print()\n",
    "\n",
    "\n",
    "head = Node(10)\n",
    "head.next = Node(20)\n",
    "head.next.next = Node(30)\n",
    "head.next.next.next = Node(40)\n",
    "\n",
    "printList(head)\n",
    "\n",
    "head = delete_node(head)\n",
    "print(\"After Deletion\")\n",
    "\n",
    "printList(head)"
   ]
  },
  {
   "cell_type": "code",
   "execution_count": 27,
   "id": "18fd79c8",
   "metadata": {},
   "outputs": [
    {
     "name": "stdout",
     "output_type": "stream",
     "text": [
      "10\n",
      "20\n",
      "30\n",
      "40\n",
      "\n",
      "10\n",
      "20\n",
      "30\n",
      "\n"
     ]
    }
   ],
   "source": [
    "class Node:\n",
    "    def __init__(self, k):\n",
    "        self.key = k\n",
    "        self.next = None\n",
    "\n",
    "def deleteNode(head):\n",
    "    if head == None:\n",
    "        return None\n",
    "    if head.next==None:\n",
    "        return None\n",
    "    curr = head\n",
    "    while curr.next.next!=None:\n",
    "        curr = curr.next\n",
    "    curr.next = None\n",
    "    return head\n",
    "\n",
    "def printList(head):\n",
    "    curr = head\n",
    "    while curr != None:\n",
    "        print(curr.key)\n",
    "        curr = curr.next\n",
    "    print()\n",
    "\n",
    "\n",
    "head = Node(10)\n",
    "head.next = Node(20)\n",
    "head.next.next = Node(30)\n",
    "head.next.next.next = Node(40)\n",
    "\n",
    "printList(head)\n",
    "\n",
    "head = deleteNode(head)\n",
    "\n",
    "printList(head)"
   ]
  },
  {
   "cell_type": "code",
   "execution_count": 35,
   "id": "eb81a3d1",
   "metadata": {},
   "outputs": [
    {
     "name": "stdout",
     "output_type": "stream",
     "text": [
      "10 10 20 10 20 "
     ]
    }
   ],
   "source": [
    "class node:\n",
    "    \n",
    "    def __init__(self,k):\n",
    "        self.data = k\n",
    "        self.next = None\n",
    "        \n",
    "def printList(head):\n",
    "    curr = head\n",
    "    while curr!=None:\n",
    "        print(curr.data,end = \" \")\n",
    "        curr = curr.next\n",
    "        \n",
    "def deleteNode(ptr):\n",
    "    temp = ptr.next\n",
    "    ptr.data = temp.data\n",
    "    ptr.next = temp.next\n",
    "    \n",
    "head = Node(10)\n",
    "head.next = Node(10)\n",
    "head.next.next = Node(20)\n",
    "\n",
    "\n",
    "printList(head)\n",
    "\n",
    "deleteNode(head.next)\n",
    "\n",
    "printList(head)"
   ]
  },
  {
   "cell_type": "code",
   "execution_count": 34,
   "id": "a47d0b24",
   "metadata": {},
   "outputs": [
    {
     "name": "stdout",
     "output_type": "stream",
     "text": [
      "10\n",
      "10\n",
      "20\n",
      "\n",
      "10\n",
      "20\n",
      "\n"
     ]
    }
   ],
   "source": [
    "class Node:\n",
    "    def __init__(self, k):\n",
    "        self.data = k\n",
    "        self.next = None\n",
    "\n",
    "def printList(head):\n",
    "    curr = head\n",
    "    while curr != None:\n",
    "        print(curr.data)\n",
    "        curr = curr.next\n",
    "    print()\n",
    "\n",
    "\n",
    "    \n",
    "def deleteNode(ptr):\n",
    "    temp = ptr.next\n",
    "    ptr.data = temp.data\n",
    "    ptr.next = temp.next\n",
    "    \n",
    "            \n",
    "head = Node(10)\n",
    "head.next = Node(10)\n",
    "head.next.next = Node(20)\n",
    "\n",
    "\n",
    "printList(head)\n",
    "deleteNode(head)\n",
    "printList(head)    "
   ]
  },
  {
   "cell_type": "code",
   "execution_count": 43,
   "id": "9580df4d",
   "metadata": {},
   "outputs": [
    {
     "name": "stdout",
     "output_type": "stream",
     "text": [
      "Before \n",
      "\n",
      "10 20 30 40 \n",
      "\n",
      "After \n",
      "\n",
      "10 20 30 35 40 "
     ]
    }
   ],
   "source": [
    "## Shorted insert linked list in python\n",
    "\n",
    "class node:\n",
    "    \n",
    "    def __init__(self,k):\n",
    "        self.data = k\n",
    "        self.next = None\n",
    "        \n",
    "def sorted_insert(head,x):\n",
    "    temp = node(x)\n",
    "    if head==None:\n",
    "        return temp\n",
    "    elif x<head.data:\n",
    "        temp.next = head\n",
    "        return head\n",
    "    else:\n",
    "        curr = head\n",
    "        while curr.next!=None and curr.next.data<x:\n",
    "            curr = curr.next\n",
    "        temp.next = curr.next\n",
    "        curr.next = temp\n",
    "        return head\n",
    "    \n",
    "head = Node(10)\n",
    "head.next = Node(20)\n",
    "head.next.next = Node(30)\n",
    "head.next.next.next = Node(40)\n",
    "\n",
    "def print_list(head):\n",
    "    while head!=None:\n",
    "        print(head.data,end = \" \")\n",
    "        head = head.next\n",
    "print(\"Before \\n\")       \n",
    "print_list(head)\n",
    "\n",
    "print(\"\\n\")\n",
    "\n",
    "sorted_insert(head,35)\n",
    "\n",
    "print(\"After \\n\")\n",
    "\n",
    "print_list(head)"
   ]
  },
  {
   "cell_type": "code",
   "execution_count": null,
   "id": "edc0e6fe",
   "metadata": {},
   "outputs": [],
   "source": []
  }
 ],
 "metadata": {
  "kernelspec": {
   "display_name": "Python 3 (ipykernel)",
   "language": "python",
   "name": "python3"
  },
  "language_info": {
   "codemirror_mode": {
    "name": "ipython",
    "version": 3
   },
   "file_extension": ".py",
   "mimetype": "text/x-python",
   "name": "python",
   "nbconvert_exporter": "python",
   "pygments_lexer": "ipython3",
   "version": "3.9.13"
  }
 },
 "nbformat": 4,
 "nbformat_minor": 5
}
