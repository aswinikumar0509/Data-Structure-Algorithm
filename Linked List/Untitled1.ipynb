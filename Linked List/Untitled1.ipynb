{
 "cells": [
  {
   "cell_type": "code",
   "execution_count": 2,
   "id": "25eee760",
   "metadata": {},
   "outputs": [
    {
     "name": "stdout",
     "output_type": "stream",
     "text": [
      "10 20 15 30 "
     ]
    }
   ],
   "source": [
    "### Traversing in the linked list\n",
    "\n",
    "class Node:\n",
    "    \n",
    "    def __init__(self,data):\n",
    "        self.data = data\n",
    "        self.next = None\n",
    "        \n",
    "def printList(head):\n",
    "    curr = head\n",
    "    while curr!=None:\n",
    "        print(curr.data , end = \" \")\n",
    "        curr = curr.next\n",
    "        \n",
    "        \n",
    "head = Node(10)\n",
    "head.next = Node(20)\n",
    "head.next.next = Node(15)\n",
    "head.next.next.next = Node(30)\n",
    "printList(head)"
   ]
  },
  {
   "cell_type": "code",
   "execution_count": 3,
   "id": "d77f90d5",
   "metadata": {},
   "outputs": [
    {
     "name": "stdout",
     "output_type": "stream",
     "text": [
      "3\n"
     ]
    }
   ],
   "source": [
    "### Searching in the linked list\n",
    "\n",
    "class Node:\n",
    "    \n",
    "    def __init__(self,data):\n",
    "        self.data = data\n",
    "        self.next = None\n",
    "        \n",
    "def search(head,x):\n",
    "    curr = head\n",
    "    pos = 1\n",
    "    \n",
    "    while curr!=None:\n",
    "        if curr.data==x:\n",
    "            return pos\n",
    "        pos+=1\n",
    "        curr = curr.next\n",
    "        \n",
    "    return -1\n",
    "\n",
    "head = Node(10)\n",
    "head.next = Node(15)\n",
    "head.next.next = Node(20)\n",
    "head.next.next.next = Node(25)\n",
    "x = 20\n",
    "print(search(head, x))\n",
    "\n",
    "            "
   ]
  },
  {
   "cell_type": "code",
   "execution_count": 6,
   "id": "b8653407",
   "metadata": {},
   "outputs": [
    {
     "name": "stdout",
     "output_type": "stream",
     "text": [
      "30\n",
      "20\n",
      "10\n"
     ]
    }
   ],
   "source": [
    "### Insert in the begining of the linked list\n",
    "\n",
    "class Node:\n",
    "    \n",
    "    def __init__(self,data):\n",
    "        self.data = data\n",
    "        self.next = None\n",
    "        \n",
    "def insertBegin(head,data):\n",
    "    \n",
    "    temp = Node(data)\n",
    "    temp.next = head\n",
    "    return temp\n",
    "\n",
    "head=None\n",
    "head=insertBegin(head,10)\n",
    "head=insertBegin(head,20)\n",
    "head=insertBegin(head,30)\n",
    "\n",
    "def printList(head):\n",
    "    curr = head\n",
    "    while curr!= None:\n",
    "        print(curr.data)\n",
    "        curr = curr.next\n",
    "\n",
    "\n",
    "printList(head)\n",
    "    \n",
    "    "
   ]
  },
  {
   "cell_type": "code",
   "execution_count": 7,
   "id": "e444f762",
   "metadata": {},
   "outputs": [
    {
     "name": "stdout",
     "output_type": "stream",
     "text": [
      "10\n",
      "20\n",
      "30\n"
     ]
    }
   ],
   "source": [
    "### Insert in the end of the linked list\n",
    "\n",
    "class Node:\n",
    "    \n",
    "    def __init__(self,data):\n",
    "        self.data = data\n",
    "        self.next = None\n",
    "        \n",
    "def insertEnd(head,data):\n",
    "    curr = head\n",
    "    if curr==None:\n",
    "        return Node(data)\n",
    "    \n",
    "    while curr.next!=None:\n",
    "        curr = curr.next\n",
    "        \n",
    "    curr.next = Node(data)\n",
    "    return head\n",
    "\n",
    "head=None\n",
    "head=insertEnd(head,10)\n",
    "head=insertEnd(head,20)\n",
    "head=insertEnd(head,30)\n",
    "\n",
    "\n",
    "def printList(head):\n",
    "    curr = head\n",
    "    while curr!= None:\n",
    "        print(curr.data)\n",
    "        curr = curr.next\n",
    "\n",
    "printList(head)\n",
    "\n",
    "    "
   ]
  },
  {
   "cell_type": "code",
   "execution_count": 9,
   "id": "69bda7d8",
   "metadata": {},
   "outputs": [
    {
     "name": "stdout",
     "output_type": "stream",
     "text": [
      "10\n",
      "20\n",
      "30\n",
      "40\n",
      "50\n",
      "\n"
     ]
    }
   ],
   "source": [
    "class node:\n",
    "    \n",
    "    def __init__(self,data):\n",
    "        self.data = data\n",
    "        self.next = None\n",
    "        \n",
    "def insertPos(head,data,pos):\n",
    "    temp = Node(data)\n",
    "    if pos==1:\n",
    "        temp.next = head\n",
    "        return temp\n",
    "    curr = head\n",
    "    for i in range(pos-2):\n",
    "        if curr==None:\n",
    "            return head\n",
    "        curr = curr.next\n",
    "        \n",
    "    temp.next = curr.next\n",
    "    curr.next = temp\n",
    "    \n",
    "    return head\n",
    "\n",
    "def printList(head):\n",
    "    curr = head\n",
    "    while curr != None:\n",
    "        print(curr.data)\n",
    "        curr = curr.next\n",
    "    print()\n",
    "\n",
    "\n",
    "head = Node(10)\n",
    "head.next = Node(20)\n",
    "head.next.next = Node(30)\n",
    "head.next.next.next = Node(40)\n",
    "head.next.next.next.next = Node(50)\n",
    "\n",
    "printList(head)\n",
    "\n",
    "head = insertPos(head,45,4)\n",
    "\n",
    "    "
   ]
  },
  {
   "cell_type": "code",
   "execution_count": 12,
   "id": "3069ad46",
   "metadata": {},
   "outputs": [
    {
     "name": "stdout",
     "output_type": "stream",
     "text": [
      "10\n",
      "20\n",
      "30\n",
      "40\n",
      "\n",
      "20\n",
      "30\n",
      "40\n",
      "\n"
     ]
    }
   ],
   "source": [
    "### Deleting first node in the linked list\n",
    "\n",
    "class Node:\n",
    "    \n",
    "    def __init__(self,data):\n",
    "        self.data = data\n",
    "        self.next = None\n",
    "        \n",
    "def delFirst(head):\n",
    "    if head==None:\n",
    "        return None\n",
    "    else:\n",
    "        return head.next\n",
    "    \n",
    "def printList(head):\n",
    "    curr = head\n",
    "    while curr != None:\n",
    "        print(curr.data)\n",
    "        curr = curr.next\n",
    "    print()\n",
    "\n",
    "\n",
    "head = Node(10)\n",
    "head.next = Node(20)\n",
    "head.next.next = Node(30)\n",
    "head.next.next.next = Node(40)\n",
    "\n",
    "printList(head)\n",
    "\n",
    "head = delFirst(head)\n",
    "\n",
    "printList(head)\n",
    "    \n",
    "    "
   ]
  },
  {
   "cell_type": "code",
   "execution_count": 13,
   "id": "1fbcc8b7",
   "metadata": {},
   "outputs": [
    {
     "name": "stdout",
     "output_type": "stream",
     "text": [
      "10\n",
      "20\n",
      "30\n",
      "40\n",
      "\n",
      "10\n",
      "20\n",
      "30\n",
      "\n"
     ]
    }
   ],
   "source": [
    "### Deleting the last node of the linked list\n",
    "\n",
    "class Node:\n",
    "    \n",
    "    def __init__(self,data):\n",
    "        self.data = data\n",
    "        self.next = None\n",
    "        \n",
    "def deleteNode(head):\n",
    "    \n",
    "    if head==None:\n",
    "        return None\n",
    "    \n",
    "    if head.next==None:\n",
    "        return None\n",
    "    \n",
    "    curr = head\n",
    "    \n",
    "    while curr.next.next != None:\n",
    "        curr = curr.next\n",
    "        \n",
    "    curr.next = None\n",
    "    \n",
    "    return head\n",
    "\n",
    "def printList(head):\n",
    "    curr = head\n",
    "    while curr != None:\n",
    "        print(curr.data)\n",
    "        curr = curr.next\n",
    "    print()\n",
    "\n",
    "\n",
    "head = Node(10)\n",
    "head.next = Node(20)\n",
    "head.next.next = Node(30)\n",
    "head.next.next.next = Node(40)\n",
    "\n",
    "printList(head)\n",
    "\n",
    "head = deleteNode(head)\n",
    "\n",
    "printList(head)\n",
    "        \n"
   ]
  },
  {
   "cell_type": "code",
   "execution_count": 18,
   "id": "40d99a23",
   "metadata": {},
   "outputs": [
    {
     "name": "stdout",
     "output_type": "stream",
     "text": [
      "10\n",
      "16\n",
      "17\n",
      "++++++++++++++++++++\n",
      "++++++++++++++++++++++\n",
      "10\n",
      "15\n",
      "16\n",
      "17\n"
     ]
    }
   ],
   "source": [
    "## Insert the element in the sorted array\n",
    "\n",
    "class Node:\n",
    "    \n",
    "    def __init__(self,data):\n",
    "        self.data = data\n",
    "        self.next = None\n",
    "        \n",
    "def insertSort(head,x):\n",
    "    temp = Node(x)\n",
    "    if head==None:\n",
    "        return temp\n",
    "    elif x<head.data:\n",
    "        temp.next = head\n",
    "        return temp\n",
    "    \n",
    "    else:\n",
    "        curr = head\n",
    "        while curr.next!=None and curr.next.data<x:\n",
    "            curr = curr.next\n",
    "        temp.next = curr.next\n",
    "        curr.next = temp\n",
    "        return head\n",
    "    \n",
    "def printList(head):\n",
    "    curr = head\n",
    "    while curr.next!=None:\n",
    "        print(curr.data)\n",
    "        curr = curr.next\n",
    "        \n",
    "        \n",
    "head = Node(10)\n",
    "head.next = Node(16)\n",
    "head.next.next = Node(17)\n",
    "head.next.next.next = Node(18)\n",
    "\n",
    "printList(head)\n",
    "print(\"++++++++++++++++++++\")\n",
    "\n",
    "insertSort(head,15)\n",
    "\n",
    "print(\"++++++++++++++++++++++\")\n",
    "\n",
    "printList(head)"
   ]
  },
  {
   "cell_type": "code",
   "execution_count": 5,
   "id": "196a1f93",
   "metadata": {},
   "outputs": [
    {
     "name": "stdout",
     "output_type": "stream",
     "text": [
      "10\n",
      "10\n",
      "20\n"
     ]
    },
    {
     "ename": "AttributeError",
     "evalue": "'NoneType' object has no attribute 'next'",
     "output_type": "error",
     "traceback": [
      "\u001b[1;31m---------------------------------------------------------------------------\u001b[0m",
      "\u001b[1;31mAttributeError\u001b[0m                            Traceback (most recent call last)",
      "\u001b[1;32m~\\AppData\\Local\\Temp\\ipykernel_11440\\3473418577.py\u001b[0m in \u001b[0;36m<module>\u001b[1;34m\u001b[0m\n\u001b[0;32m     34\u001b[0m \u001b[1;33m\u001b[0m\u001b[0m\n\u001b[0;32m     35\u001b[0m \u001b[0mprintList\u001b[0m\u001b[1;33m(\u001b[0m\u001b[0mhead\u001b[0m\u001b[1;33m)\u001b[0m\u001b[1;33m\u001b[0m\u001b[1;33m\u001b[0m\u001b[0m\n\u001b[1;32m---> 36\u001b[1;33m \u001b[0mprintMiddle\u001b[0m\u001b[1;33m(\u001b[0m\u001b[0mhead\u001b[0m\u001b[1;33m)\u001b[0m\u001b[1;33m\u001b[0m\u001b[1;33m\u001b[0m\u001b[0m\n\u001b[0m\u001b[0;32m     37\u001b[0m \u001b[1;33m\u001b[0m\u001b[0m\n",
      "\u001b[1;32m~\\AppData\\Local\\Temp\\ipykernel_11440\\3473418577.py\u001b[0m in \u001b[0;36mprintMiddle\u001b[1;34m(head)\u001b[0m\n\u001b[0;32m     17\u001b[0m \u001b[1;33m\u001b[0m\u001b[0m\n\u001b[0;32m     18\u001b[0m     \u001b[1;32mfor\u001b[0m \u001b[0mi\u001b[0m \u001b[1;32min\u001b[0m \u001b[0mrange\u001b[0m\u001b[1;33m(\u001b[0m\u001b[0mcount\u001b[0m\u001b[1;33m//\u001b[0m\u001b[1;36m2\u001b[0m\u001b[1;33m)\u001b[0m\u001b[1;33m:\u001b[0m\u001b[1;33m\u001b[0m\u001b[1;33m\u001b[0m\u001b[0m\n\u001b[1;32m---> 19\u001b[1;33m         \u001b[0mhead\u001b[0m \u001b[1;33m=\u001b[0m \u001b[0mhead\u001b[0m\u001b[1;33m.\u001b[0m\u001b[0mnext\u001b[0m\u001b[1;33m\u001b[0m\u001b[1;33m\u001b[0m\u001b[0m\n\u001b[0m\u001b[0;32m     20\u001b[0m \u001b[1;33m\u001b[0m\u001b[0m\n\u001b[0;32m     21\u001b[0m     \u001b[0mprint\u001b[0m\u001b[1;33m(\u001b[0m\u001b[0mhead\u001b[0m\u001b[1;33m.\u001b[0m\u001b[0mdata\u001b[0m\u001b[1;33m)\u001b[0m\u001b[1;33m\u001b[0m\u001b[1;33m\u001b[0m\u001b[0m\n",
      "\u001b[1;31mAttributeError\u001b[0m: 'NoneType' object has no attribute 'next'"
     ]
    }
   ],
   "source": [
    "### Finding the middle of the linked list\n",
    "class Node:\n",
    "    \n",
    "    def __init__(self,data):\n",
    "        self.data = data\n",
    "        self.next = None\n",
    "            \n",
    "def printMiddle(head):\n",
    "    \n",
    "    if head==None:\n",
    "        return None\n",
    "    \n",
    "    count = 0\n",
    "    while head:\n",
    "        head = head.next\n",
    "        count+=1\n",
    "        \n",
    "    for i in range(count//2):\n",
    "        head = head.next\n",
    "        \n",
    "    print(head.data)\n",
    "    \n",
    "    \n",
    "def printList(head):\n",
    "    \n",
    "    while head!=None:\n",
    "        print(head.data)\n",
    "        head = head.next\n",
    "    \n",
    "head = Node(10)\n",
    "head.next = Node(10)\n",
    "head.next.next = Node(20)\n",
    "\n",
    "\n",
    "printList(head)\n",
    "printMiddle(head)\n",
    "    "
   ]
  },
  {
   "cell_type": "code",
   "execution_count": 6,
   "id": "be2e7c7f",
   "metadata": {},
   "outputs": [
    {
     "name": "stdout",
     "output_type": "stream",
     "text": [
      "10\n",
      "10\n",
      "20\n",
      "\n",
      "10\n"
     ]
    }
   ],
   "source": [
    "class Node:\n",
    "    \n",
    "    def __init__(self,data):\n",
    "        self.data = data\n",
    "        self.next = None\n",
    "        \n",
    "def printList(head):\n",
    "    curr = head\n",
    "    \n",
    "    while curr!=None:\n",
    "        print(curr.data)\n",
    "        curr = curr.next\n",
    "        \n",
    "    print()\n",
    "    \n",
    "def printMiddle(head):\n",
    "    if head==None:\n",
    "        return None\n",
    "    \n",
    "    slow = head\n",
    "    fast = head\n",
    "    while fast!=None and fast.next!=None:\n",
    "        slow = slow.next\n",
    "        fast = fast.next.next\n",
    "        \n",
    "    print(slow.data)\n",
    "    \n",
    "head = Node(10)\n",
    "head.next = Node(10)\n",
    "head.next.next = Node(20)\n",
    "\n",
    "\n",
    "printList(head)\n",
    "printMiddle(head)\n",
    "    \n",
    "    "
   ]
  },
  {
   "cell_type": "code",
   "execution_count": null,
   "id": "49f90116",
   "metadata": {},
   "outputs": [],
   "source": [
    "### Nth Node from the last\n"
   ]
  }
 ],
 "metadata": {
  "kernelspec": {
   "display_name": "Python 3 (ipykernel)",
   "language": "python",
   "name": "python3"
  },
  "language_info": {
   "codemirror_mode": {
    "name": "ipython",
    "version": 3
   },
   "file_extension": ".py",
   "mimetype": "text/x-python",
   "name": "python",
   "nbconvert_exporter": "python",
   "pygments_lexer": "ipython3",
   "version": "3.9.13"
  }
 },
 "nbformat": 4,
 "nbformat_minor": 5
}
