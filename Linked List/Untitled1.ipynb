{
 "cells": [
  {
   "cell_type": "code",
   "execution_count": 1,
   "id": "4b38b463",
   "metadata": {},
   "outputs": [
    {
     "name": "stdout",
     "output_type": "stream",
     "text": [
      "10\n",
      "20\n",
      "30\n"
     ]
    }
   ],
   "source": [
    "class Node:\n",
    "    \n",
    "    def __init__(self,k):\n",
    "        self.key = k\n",
    "        self.next = None\n",
    "        \n",
    "temp1 = Node(10)\n",
    "temp2 = Node(20)\n",
    "temp3 = Node(30)\n",
    "\n",
    "temp1.next = temp2\n",
    "temp2.next = temp3\n",
    "\n",
    "head = temp1\n",
    "\n",
    "print(head.key)\n",
    "print(head.next.key)\n",
    "print(head.next.next.key)\n",
    "        "
   ]
  },
  {
   "cell_type": "code",
   "execution_count": 2,
   "id": "2c9b5782",
   "metadata": {},
   "outputs": [
    {
     "name": "stdout",
     "output_type": "stream",
     "text": [
      "10\n",
      "20\n",
      "30\n",
      "40\n"
     ]
    }
   ],
   "source": [
    "class Node:\n",
    "    \n",
    "    \n",
    "    def __init__(self,data):\n",
    "        self.data = data\n",
    "        self.next = None\n",
    "        \n",
    "def printlist(head):\n",
    "    curr = head\n",
    "    while curr!=None:\n",
    "        print(curr.data)\n",
    "        curr = curr.next\n",
    "            \n",
    "head = Node(10)\n",
    "head.next = Node(20)\n",
    "head.next.next = Node(30)\n",
    "head.next.next.next = Node(40)\n",
    "\n",
    "printlist(head)"
   ]
  },
  {
   "cell_type": "code",
   "execution_count": 3,
   "id": "1d93ccec",
   "metadata": {},
   "outputs": [
    {
     "name": "stdout",
     "output_type": "stream",
     "text": [
      "10\n",
      "20\n",
      "30\n",
      "40\n"
     ]
    },
    {
     "ename": "NameError",
     "evalue": "name 'search' is not defined",
     "output_type": "error",
     "traceback": [
      "\u001b[1;31m---------------------------------------------------------------------------\u001b[0m",
      "\u001b[1;31mNameError\u001b[0m                                 Traceback (most recent call last)",
      "\u001b[1;32m~\\AppData\\Local\\Temp\\ipykernel_28124\\2421457507.py\u001b[0m in \u001b[0;36m<module>\u001b[1;34m\u001b[0m\n\u001b[0;32m     31\u001b[0m \u001b[1;33m\u001b[0m\u001b[0m\n\u001b[0;32m     32\u001b[0m \u001b[0mprintlist\u001b[0m\u001b[1;33m(\u001b[0m\u001b[0mhead\u001b[0m\u001b[1;33m)\u001b[0m\u001b[1;33m\u001b[0m\u001b[1;33m\u001b[0m\u001b[0m\n\u001b[1;32m---> 33\u001b[1;33m \u001b[0msearch\u001b[0m\u001b[1;33m(\u001b[0m\u001b[0mhead\u001b[0m\u001b[1;33m,\u001b[0m\u001b[0mx\u001b[0m\u001b[1;33m)\u001b[0m\u001b[1;33m\u001b[0m\u001b[1;33m\u001b[0m\u001b[0m\n\u001b[0m",
      "\u001b[1;31mNameError\u001b[0m: name 'search' is not defined"
     ]
    }
   ],
   "source": [
    "## Searching the element in the list\n",
    "\n",
    "# class node:\n",
    "    \n",
    "#     def __init__(self,data):\n",
    "#         self.data = data\n",
    "#         self.next = None\n",
    "        \n",
    "#     def search(self,head,x):\n",
    "#         pos=1\n",
    "#         curr = head\n",
    "#         while curr!=None:\n",
    "#             if curr.data == x:\n",
    "#                 return pos\n",
    "#             pos = pos+1\n",
    "#             curr = curr.next\n",
    "\n",
    "#         return -1\n",
    "\n",
    "#     def printlist(self,head):\n",
    "#         curr = head\n",
    "#         while curr!=None:\n",
    "#             print(curr.data)\n",
    "#             curr = curr.next\n",
    "            \n",
    "# head = Node(10)\n",
    "# head.next = Node(20)\n",
    "# head.next.next = Node(30)\n",
    "# head.next.next.next = Node(40)\n",
    "# x = 20\n",
    "\n",
    "# printlist(head)\n",
    "# search(head,x)\n"
   ]
  },
  {
   "cell_type": "code",
   "execution_count": 6,
   "id": "2d1b5d84",
   "metadata": {},
   "outputs": [
    {
     "name": "stdout",
     "output_type": "stream",
     "text": [
      "30\n",
      "20\n",
      "10\n"
     ]
    }
   ],
   "source": [
    "# Inserting the begining of the linked list\n",
    "\n",
    "class node:\n",
    "    \n",
    "    def __init__(self,data):\n",
    "        self.data = data\n",
    "        self.next = None\n",
    "        \n",
    "def insertBegin(head,data):\n",
    "    temp = node(data)\n",
    "    temp.next = head\n",
    "    return temp\n",
    "def printlist(head):\n",
    "    curr = head\n",
    "    while curr!=None:\n",
    "        print(curr.data)\n",
    "        curr = curr.next\n",
    "            \n",
    "            \n",
    "head = None\n",
    "head = insertBegin(head,10)\n",
    "head = insertBegin(head,20)\n",
    "head = insertBegin(head,30)\n",
    "\n",
    "printlist(head)\n",
    "        \n",
    "    "
   ]
  },
  {
   "cell_type": "code",
   "execution_count": null,
   "id": "5791ec53",
   "metadata": {},
   "outputs": [],
   "source": [
    "##Insert at the end of the linked list\n"
   ]
  }
 ],
 "metadata": {
  "kernelspec": {
   "display_name": "Python 3 (ipykernel)",
   "language": "python",
   "name": "python3"
  },
  "language_info": {
   "codemirror_mode": {
    "name": "ipython",
    "version": 3
   },
   "file_extension": ".py",
   "mimetype": "text/x-python",
   "name": "python",
   "nbconvert_exporter": "python",
   "pygments_lexer": "ipython3",
   "version": "3.9.13"
  }
 },
 "nbformat": 4,
 "nbformat_minor": 5
}
