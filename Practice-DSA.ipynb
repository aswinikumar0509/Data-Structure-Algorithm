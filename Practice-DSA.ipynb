{
 "cells": [
  {
   "cell_type": "code",
   "execution_count": 1,
   "id": "d6b8121f",
   "metadata": {},
   "outputs": [
    {
     "name": "stdout",
     "output_type": "stream",
     "text": [
      "Average of the list = 35.75\n"
     ]
    }
   ],
   "source": [
    "## Rhe Average of the list of the number\n",
    "\n",
    "def average_sum(arr):\n",
    "    n = len(arr)\n",
    "    sum_of_list = 0\n",
    "    for i in range(n):\n",
    "        sum_of_list+=arr[i]\n",
    "    average = sum_of_list/n\n",
    "    return average\n",
    "\n",
    "lst = [15, 9, 55, 41, 35, 20, 62, 49]\n",
    "average = average_sum(lst)\n",
    "print(\"Average of the list =\", round(average, 2))"
   ]
  },
  {
   "cell_type": "code",
   "execution_count": 8,
   "id": "076f35fe",
   "metadata": {},
   "outputs": [
    {
     "name": "stdout",
     "output_type": "stream",
     "text": [
      "[1, 4, 8, 10]"
     ]
    }
   ],
   "source": [
    "## Whrite the function that contain the element that is smaller than x\n",
    "\n",
    "def smaller_x(arr,x):\n",
    "    res = []\n",
    "    for i in arr:\n",
    "        if i < x:\n",
    "            res.append(i)\n",
    "    return res\n",
    "arr = [1, 12, 4, 25, 8, 10]\n",
    "x = 11\n",
    "n = len(arr)\n",
    "print(smaller_x(arr,x), end =\"\")"
   ]
  },
  {
   "cell_type": "code",
   "execution_count": 11,
   "id": "e1b5cbee",
   "metadata": {},
   "outputs": [
    {
     "name": "stdout",
     "output_type": "stream",
     "text": [
      "Output List using for loop: [2, 4, 4, 6]\n"
     ]
    }
   ],
   "source": [
    "## List compression\n",
    "\n",
    "input_number = [1,2,3,4,4,5,6,7,7]\n",
    "\n",
    "output_number = []\n",
    "\n",
    "for i in input_number:\n",
    "    if i%2==0:\n",
    "        output_number.append(i)\n",
    "print(\"Output List using for loop:\", output_number)"
   ]
  },
  {
   "cell_type": "code",
   "execution_count": 12,
   "id": "dc8c20ad",
   "metadata": {},
   "outputs": [
    {
     "name": "stdout",
     "output_type": "stream",
     "text": [
      "Output List using for loop: [2, 4, 4, 6]\n"
     ]
    }
   ],
   "source": [
    "##Using the list compession \n",
    "\n",
    "input_number = [1,2,3,4,4,5,6,7,7]\n",
    "\n",
    "output=[var for var in input_number if var%2==0]\n",
    "\n",
    "print(\"Output List using for loop:\", output)"
   ]
  },
  {
   "cell_type": "code",
   "execution_count": 13,
   "id": "7f09abae",
   "metadata": {},
   "outputs": [
    {
     "name": "stdout",
     "output_type": "stream",
     "text": [
      "Output List using for loop: {2: 4, 4: 16, 6: 36}\n"
     ]
    }
   ],
   "source": [
    "## Dictionary compression\n",
    "\n",
    "input_number = [1,2,3,4,4,5,6,7,7]\n",
    "output = {}\n",
    "\n",
    "for var in input_number:\n",
    "    if var%2==0:\n",
    "        output[var] = var**2\n",
    "print(\"Output List using for loop:\", output)"
   ]
  },
  {
   "cell_type": "code",
   "execution_count": 15,
   "id": "afd7df18",
   "metadata": {},
   "outputs": [
    {
     "name": "stdout",
     "output_type": "stream",
     "text": [
      "Output List using for loop: {16, 4, 36}\n"
     ]
    }
   ],
   "source": [
    "#set compression\n",
    "\n",
    "input_number = [1,2,3,4,4,5,6,7,7]\n",
    "output = set()\n",
    "\n",
    "for var in input_number:\n",
    "    if var%2==0:\n",
    "        output.add(var**2)\n",
    "print(\"Output List using for loop:\", output)"
   ]
  },
  {
   "cell_type": "code",
   "execution_count": 16,
   "id": "5fb413dc",
   "metadata": {},
   "outputs": [
    {
     "name": "stdout",
     "output_type": "stream",
     "text": [
      "Largest element is: 99\n"
     ]
    }
   ],
   "source": [
    "## Largest element in the array\n",
    "\n",
    "def largest_element(arr):\n",
    "    max_element = arr[0]\n",
    "    for i in arr:\n",
    "        if i>max_element:\n",
    "            max_element = i\n",
    "    return max_element\n",
    " \n",
    " \n",
    "# Driver code\n",
    "list1 = [10, 20, 4, 45, 99]\n",
    "print(\"Largest element is:\", largest_element(list1))\n",
    "            "
   ]
  },
  {
   "cell_type": "code",
   "execution_count": 22,
   "id": "d2f642a6",
   "metadata": {},
   "outputs": [
    {
     "name": "stdout",
     "output_type": "stream",
     "text": [
      "The second largest element is 34\n"
     ]
    }
   ],
   "source": [
    "## Write the code for the second largest number\n",
    "\n",
    "def second_largest(arr,n):\n",
    "    \n",
    "    if n<2:\n",
    "        return \"Invalid array\"\n",
    "    \n",
    "    first = second = -2147483648\n",
    "    for i in range(n):\n",
    "        if arr[i]>first:\n",
    "            second = first\n",
    "            first = arr[i]\n",
    "        elif (arr[i] > second and arr[i] != first):\n",
    "            second = arr[i]\n",
    "    if (second == -2147483648):\n",
    "        print(\"There is no second largest element\")\n",
    "    else:\n",
    "        print(\"The second largest element is\", second)\n",
    "\n",
    "\n",
    "# Driver program to test\n",
    "# above function\n",
    "arr = [12, 35, 1, 10, 34, 1]\n",
    "n = len(arr)\n",
    "\n",
    "second_largest(arr, n)"
   ]
  },
  {
   "cell_type": "code",
   "execution_count": 26,
   "id": "ed22fe1b",
   "metadata": {},
   "outputs": [
    {
     "name": "stdout",
     "output_type": "stream",
     "text": [
      "Yes\n"
     ]
    }
   ],
   "source": [
    "## Check if the array is sorted or not\n",
    "\n",
    "def check_sorted(arr):\n",
    "    l = sorted(arr)\n",
    "    if l==arr:\n",
    "        return True\n",
    "    else:\n",
    "        return False\n",
    "    \n",
    "l = [10,20,30,15,40]\n",
    "l1 = [1,2,3,4,5,6]\n",
    "\n",
    "if check_sorted(l1):\n",
    "    print(\"Yes\")\n",
    "else:\n",
    "    print(\"No\")"
   ]
  },
  {
   "cell_type": "code",
   "execution_count": 28,
   "id": "263be5e4",
   "metadata": {},
   "outputs": [
    {
     "name": "stdout",
     "output_type": "stream",
     "text": [
      "Yes\n"
     ]
    }
   ],
   "source": [
    "## iterative approch\n",
    "\n",
    "def is_sorted(arr,n):\n",
    "    if n==0 or n==1:\n",
    "        return True\n",
    "    \n",
    "    for i in range(1,n):\n",
    "        if arr[i-1]>arr[i]:\n",
    "            return False\n",
    "        else:\n",
    "            return True\n",
    "        \n",
    "arr = [20, 23, 23, 45, 78, 88]\n",
    "n = len(arr)\n",
    "if (is_sorted(arr, n)):\n",
    "    print(\"Yes\")\n",
    "else:\n",
    "    print(\"No\")"
   ]
  },
  {
   "cell_type": "code",
   "execution_count": 32,
   "id": "3d5f03fa",
   "metadata": {},
   "outputs": [
    {
     "name": "stdout",
     "output_type": "stream",
     "text": [
      "1,2,3,4,5\n",
      "[5, 4, 3, 2, 1]\n"
     ]
    }
   ],
   "source": [
    "## Reverse the list in the iterative and recurssive approch\n",
    "\n",
    "def reverse_arr(arr):\n",
    "    n = len(arr)\n",
    "    s = 0\n",
    "    e = n-1\n",
    "    while s<e:\n",
    "        arr[s],arr[e] = arr[e],arr[s]\n",
    "        s+=1\n",
    "        e-=1\n",
    "        \n",
    "\n",
    "\n",
    "        \n",
    "l = [int(x) for x in input().split(',')]\n",
    "reverse_arr(l)\n",
    "print(l)\n",
    "    "
   ]
  },
  {
   "cell_type": "code",
   "execution_count": 34,
   "id": "9cf56375",
   "metadata": {},
   "outputs": [
    {
     "name": "stdout",
     "output_type": "stream",
     "text": [
      "1 2 3 4 5 "
     ]
    }
   ],
   "source": [
    "# Removing  the duplicate in the array\n",
    "def remove_duplicate(arr,n):\n",
    "    \n",
    "    if n==0 or n==1:\n",
    "        return n\n",
    "    temp = list(range(n))\n",
    "    \n",
    "    j = 0\n",
    "    for i in range(0,n-1):\n",
    "        if arr[i]!=arr[i+1]:\n",
    "            temp[j] = arr[i]\n",
    "            j = j+1\n",
    "            \n",
    "    temp[j] = arr[n-1]\n",
    "    j+=1\n",
    "    \n",
    "    for i in range(j):\n",
    "        arr[i] = temp[i]\n",
    "    \n",
    "    return j\n",
    "\n",
    "arr = [1, 2, 2, 3, 4, 4, 4, 5, 5]\n",
    "n = len(arr)\n",
    "\n",
    "# removeDuplicates() returns\n",
    "# new size of array.\n",
    "n = remove_duplicate(arr, n)\n",
    "\n",
    "# Print updated array\n",
    "for i in range(n):\n",
    "    print (\"%d\"%(arr[i]), end = \" \")\n"
   ]
  },
  {
   "cell_type": "code",
   "execution_count": 39,
   "id": "5bae04a3",
   "metadata": {},
   "outputs": [
    {
     "name": "stdout",
     "output_type": "stream",
     "text": [
      "[20, 30, 40, 10]\n"
     ]
    }
   ],
   "source": [
    "## Left rotating the array\n",
    "\n",
    "def rotateByone(l):\n",
    "    n = len(l)\n",
    "    x = l[0]\n",
    "    for i in range(1,n):\n",
    "        l[i-1] = l[i]\n",
    "        \n",
    "    l[n-1] = x\n",
    "    \n",
    "l = [10, 20, 30, 40]\n",
    "rotateByone(l)\n",
    "print(l)"
   ]
  },
  {
   "cell_type": "code",
   "execution_count": 40,
   "id": "ed187496",
   "metadata": {},
   "outputs": [
    {
     "name": "stdout",
     "output_type": "stream",
     "text": [
      "5\n"
     ]
    }
   ],
   "source": [
    "# An odd occuring element in the array\n",
    "def getOddOccurrence(arr, arr_size):\n",
    "\t\n",
    "\tfor i in range(0,arr_size):\n",
    "\t\tcount = 0\n",
    "\t\tfor j in range(0, arr_size):\n",
    "\t\t\tif arr[i] == arr[j]:\n",
    "\t\t\t\tcount+=1\n",
    "\t\t\t\n",
    "\t\tif (count % 2 != 0):\n",
    "\t\t\treturn arr[i]\n",
    "\t\t\n",
    "\treturn -1\n",
    "\t\n",
    "\t\n",
    "# driver code\n",
    "arr = [2, 3, 5, 4, 5, 2, 4, 3, 5, 2, 4, 4, 2 ]\n",
    "n = len(arr)\n",
    "print(getOddOccurrence(arr, n))"
   ]
  },
  {
   "cell_type": "code",
   "execution_count": 1,
   "id": "377cfe93",
   "metadata": {},
   "outputs": [
    {
     "name": "stdout",
     "output_type": "stream",
     "text": [
      "[40, 50, 10, 20, 30]\n"
     ]
    }
   ],
   "source": [
    "## Left rotate with the d place\n",
    "\n",
    "def l_rotate(arr,d):\n",
    "    n = len(arr)\n",
    "    for i in range(0,d):\n",
    "        arr.append(arr.pop(0))\n",
    "        \n",
    "l=[10,20,30,40,50]\n",
    "d=3\n",
    "l_rotate(l,d)\n",
    "print(l)\n",
    "        "
   ]
  },
  {
   "cell_type": "code",
   "execution_count": 2,
   "id": "39b86208",
   "metadata": {},
   "outputs": [
    {
     "name": "stdout",
     "output_type": "stream",
     "text": [
      "8\n"
     ]
    }
   ],
   "source": [
    "## Maximum difference in the array\n",
    "## Naive solution\n",
    "def max_diff(arr,n):\n",
    "    \n",
    "    res = arr[0]-arr[1]\n",
    "    \n",
    "    for i in range(0,n-1):\n",
    "        for j in range(i+1,n):\n",
    "            res = max(res,arr[j]-arr[i])\n",
    "    return res\n",
    "\n",
    "arr = [2,3,10,6,4,8,1]\n",
    "n = len(arr)\n",
    "print(max_diff(arr,n))"
   ]
  },
  {
   "cell_type": "code",
   "execution_count": 6,
   "id": "9aeb2b1e",
   "metadata": {},
   "outputs": [
    {
     "name": "stdout",
     "output_type": "stream",
     "text": [
      "9\n"
     ]
    }
   ],
   "source": [
    "## Efficeinet solution\n",
    "\n",
    "def max_diff(arr,n):\n",
    "    max_ele = arr[0]\n",
    "    min_ele = arr[0]\n",
    "    \n",
    "    for i in range(1,n):\n",
    "        max_ele = max(max_ele,arr[i])\n",
    "        min_ele = min(min_ele,arr[i])\n",
    "        \n",
    "    return (max_ele-min_ele)\n",
    "\n",
    "arr = [2,3,10,6,4,8,1]\n",
    "n = len(arr)\n",
    "print(max_diff(arr, n))"
   ]
  },
  {
   "cell_type": "code",
   "execution_count": 11,
   "id": "1976e2ae",
   "metadata": {},
   "outputs": [
    {
     "data": {
      "text/plain": [
       "'maximum profit 655,buying day 40, selling day 695'"
      ]
     },
     "execution_count": 11,
     "metadata": {},
     "output_type": "execute_result"
    }
   ],
   "source": [
    "## Stock buy and seel with the maximum profit\n",
    "\n",
    "def buy_sell(arr,n):\n",
    "    \n",
    "    buy = arr[0]\n",
    "    sell = arr[0]\n",
    "    \n",
    "    for i in range(1,n):\n",
    "        sell = max(sell,arr[i])\n",
    "        buy = min(buy,arr[i])\n",
    "        profit = sell-buy\n",
    "    return (f\"maximum profit {profit},buying day {buy}, selling day {sell}\")\n",
    "\n",
    "arr = [100, 180, 260, 310, 40, 535, 695]\n",
    "n = len(arr)\n",
    "buy_sell(arr,n)"
   ]
  },
  {
   "cell_type": "code",
   "execution_count": 12,
   "id": "419e42fa",
   "metadata": {},
   "outputs": [
    {
     "name": "stdout",
     "output_type": "stream",
     "text": [
      "6\n"
     ]
    }
   ],
   "source": [
    "## Trapping the rain watter\n",
    "\n",
    "def trap_rain(arr,n):\n",
    "    res = 0\n",
    "    for i in range(1,n-1):\n",
    "        left = arr[i]\n",
    "        for j in range(i):\n",
    "            left = max(left,arr[j])\n",
    "            \n",
    "        right = arr[i]\n",
    "        for j in range(i+1,n):\n",
    "            right = max(right,arr[j])\n",
    "            \n",
    "        \n",
    "        res = res + (min(left,right)-arr[i])\n",
    "        \n",
    "    return res\n",
    "if __name__ == \"__main__\":\n",
    "\n",
    "\tarr = [0, 1, 0, 2, 1, 0,1, 3, 2, 1, 2, 1]\n",
    "\tn = len(arr)\n",
    "\n",
    "\tprint(trap_rain(arr, n))"
   ]
  },
  {
   "cell_type": "code",
   "execution_count": 15,
   "id": "fa461055",
   "metadata": {},
   "outputs": [
    {
     "ename": "TabError",
     "evalue": "inconsistent use of tabs and spaces in indentation (1648763456.py, line 12)",
     "output_type": "error",
     "traceback": [
      "\u001b[1;36m  File \u001b[1;32m\"C:\\Users\\aswin\\AppData\\Local\\Temp\\ipykernel_5260\\1648763456.py\"\u001b[1;36m, line \u001b[1;32m12\u001b[0m\n\u001b[1;33m    curr_sum = res\u001b[0m\n\u001b[1;37m    ^\u001b[0m\n\u001b[1;31mTabError\u001b[0m\u001b[1;31m:\u001b[0m inconsistent use of tabs and spaces in indentation\n"
     ]
    }
   ],
   "source": [
    "## Write the program for the maximum sum subarray\n",
    "\n",
    "def max_sum(arr,n,k):\n",
    "    \n",
    "    if n<k:\n",
    "        return \"Invalid input\"\n",
    "    \n",
    "    res = 0\n",
    "    \n",
    "    for i in range(k):\n",
    "        res+=arr[i]\n",
    "\tcurr_sum = res\n",
    "\tfor i in range(k, n):\n",
    "\t\n",
    "\t\tcurr_sum += arr[i] - arr[i-k]\n",
    "\t\tres = max(res, curr_sum)\n",
    "\n",
    "\treturn res\n",
    "\n",
    "arr = [1, 4, 2, 10, 2, 3, 1, 0, 20]\n",
    "k = 4\n",
    "n = len(arr)\n",
    "print(max_sum(arr, n, k))\n",
    "        "
   ]
  },
  {
   "cell_type": "code",
   "execution_count": 16,
   "id": "572796b9",
   "metadata": {},
   "outputs": [
    {
     "name": "stdout",
     "output_type": "stream",
     "text": [
      "24\n"
     ]
    }
   ],
   "source": [
    "def maxSum(arr, n, k):\n",
    "\n",
    "\t# k must be smaller than n\n",
    "\tif (n < k):\n",
    "\t\n",
    "\t\tprint(\"Invalid\")\n",
    "\t\treturn -1\n",
    "\t\n",
    "\t# Compute sum of first\n",
    "\t# window of size k\n",
    "\tres = 0\n",
    "\tfor i in range(k):\n",
    "\t\tres += arr[i]\n",
    "\n",
    "\t# Compute sums of remaining windows by\n",
    "\t# removing first element of previous\n",
    "\t# window and adding last element of\n",
    "\t# current window.\n",
    "\tcurr_sum = res\n",
    "\tfor i in range(k, n):\n",
    "\t\n",
    "\t\tcurr_sum += arr[i] - arr[i-k]\n",
    "\t\tres = max(res, curr_sum)\n",
    "\n",
    "\treturn res\n",
    "\n",
    "# Driver code\n",
    "arr = [1, 4, 2, 10, 2, 3, 1, 0, 20]\n",
    "k = 4\n",
    "n = len(arr)\n",
    "print(maxSum(arr, n, k))"
   ]
  },
  {
   "cell_type": "code",
   "execution_count": null,
   "id": "55b42ad7",
   "metadata": {},
   "outputs": [],
   "source": []
  }
 ],
 "metadata": {
  "kernelspec": {
   "display_name": "Python 3 (ipykernel)",
   "language": "python",
   "name": "python3"
  },
  "language_info": {
   "codemirror_mode": {
    "name": "ipython",
    "version": 3
   },
   "file_extension": ".py",
   "mimetype": "text/x-python",
   "name": "python",
   "nbconvert_exporter": "python",
   "pygments_lexer": "ipython3",
   "version": "3.9.13"
  }
 },
 "nbformat": 4,
 "nbformat_minor": 5
}
