{
 "cells": [
  {
   "cell_type": "code",
   "execution_count": 1,
   "id": "db7c3217",
   "metadata": {},
   "outputs": [],
   "source": [
    "## Searching"
   ]
  },
  {
   "cell_type": "code",
   "execution_count": 2,
   "id": "af4842be",
   "metadata": {},
   "outputs": [
    {
     "data": {
      "text/plain": [
       "4"
      ]
     },
     "execution_count": 2,
     "metadata": {},
     "output_type": "execute_result"
    }
   ],
   "source": [
    "##index of first occurance of the element\n",
    "\n",
    "def firstoccurance(arr,n,x): \n",
    "    s = 0\n",
    "    e = n-1\n",
    "    \n",
    "    while s<=e:\n",
    "        mid = (s+e)//2\n",
    "        \n",
    "        if x>arr[mid]:\n",
    "            s = mid+1\n",
    "        elif x<arr[mid]:\n",
    "            e = mid-1\n",
    "            \n",
    "        else:\n",
    "            if mid==0 or arr[mid-1]!=arr[mid]:\n",
    "                return mid\n",
    "            else:\n",
    "                e=mid-1\n",
    "                \n",
    "    return -1\n",
    "\n",
    "arr = [1,10,10,10,20,20,40]\n",
    "x = 20\n",
    "n = len(arr)\n",
    "\n",
    "firstoccurance(arr,n,x)            "
   ]
  },
  {
   "cell_type": "code",
   "execution_count": 3,
   "id": "8b935bf1",
   "metadata": {},
   "outputs": [
    {
     "name": "stdout",
     "output_type": "stream",
     "text": [
      "1 4 7 2 5 8 3 6 9 \n"
     ]
    }
   ],
   "source": [
    "def transpose(A):\n",
    "    m,n = 3,3\n",
    "    B = [[0 for i in range(m)] for j in range(n)]\n",
    "    \n",
    "    for i in range(m):\n",
    "        for j in range(n):\n",
    "            B[i][j] = A[j][i]       \n",
    "    for i in range(m):\n",
    "        for j in range(n):\n",
    "            print(B[i][j],end=\" \")\n",
    "    print()\n",
    "            \n",
    "            \n",
    "A = [[1,2,3],[4,5,6],[7,8,9]]\n",
    "\n",
    "\n",
    "transpose(A)  "
   ]
  },
  {
   "cell_type": "code",
   "execution_count": 4,
   "id": "0d2097bd",
   "metadata": {},
   "outputs": [
    {
     "name": "stdout",
     "output_type": "stream",
     "text": [
      "Original matrix:\n",
      "1 2 3\n",
      "4 5 6\n",
      "7 8 9\n",
      "Rotated matrix:\n",
      "3 6 9\n",
      "2 5 8\n",
      "1 4 7\n"
     ]
    }
   ],
   "source": [
    "## rotate the matrix\n",
    "\n",
    "def rotate_matrix(martix):\n",
    "    \n",
    "    n = len(matrix)\n",
    "    \n",
    "    for i in range(n):\n",
    "        for j in range(i,n):\n",
    "            matrix[i][j],matrix[j][i] = matrix[j][i],matrix[i][j]\n",
    "            \n",
    "    for i in range(n):\n",
    "        for j , k in zip(range(n//2),range(n-1 , n//2-1 , -1)):\n",
    "            matrix[j][i] , matrix[k][i] = matrix[k][i] , matrix[j][i]\n",
    "            \n",
    "    \n",
    "def print_matrix(matrix):\n",
    "    for row in matrix:\n",
    "        print(' '.join(str(elem) for elem in row))\n",
    "\n",
    "matrix = [[1, 2, 3], [4, 5, 6], [7, 8, 9]]\n",
    "print(\"Original matrix:\")\n",
    "print_matrix(matrix)\n",
    "rotate_matrix(matrix)\n",
    "print(\"Rotated matrix:\")\n",
    "print_matrix(matrix)\n",
    "            \n",
    "    "
   ]
  },
  {
   "cell_type": "code",
   "execution_count": 5,
   "id": "9258da45",
   "metadata": {},
   "outputs": [
    {
     "name": "stdout",
     "output_type": "stream",
     "text": [
      "10 20 30 "
     ]
    }
   ],
   "source": [
    "## Printing the element in the linked list\n",
    "\n",
    "class node:\n",
    "    \n",
    "    def __init__(self,data):\n",
    "        self.data = data\n",
    "        self.next = None\n",
    "        \n",
    "        \n",
    "def printlist(head):\n",
    "    \n",
    "    while head!=None:\n",
    "        print(head.data,end = \" \")\n",
    "        head = head.next\n",
    "        \n",
    "head = node(10)\n",
    "head.next = node(20)\n",
    "head.next.next = node(30)\n",
    "\n",
    "printlist(head)"
   ]
  },
  {
   "cell_type": "code",
   "execution_count": 6,
   "id": "4a1c4a17",
   "metadata": {},
   "outputs": [
    {
     "name": "stdout",
     "output_type": "stream",
     "text": [
      "10 20 30 40 "
     ]
    },
    {
     "ename": "NameError",
     "evalue": "name 'insertBegin' is not defined",
     "output_type": "error",
     "traceback": [
      "\u001b[1;31m---------------------------------------------------------------------------\u001b[0m",
      "\u001b[1;31mNameError\u001b[0m                                 Traceback (most recent call last)",
      "\u001b[1;32m~\\AppData\\Local\\Temp\\ipykernel_27916\\638892163.py\u001b[0m in \u001b[0;36m<module>\u001b[1;34m\u001b[0m\n\u001b[0;32m     29\u001b[0m \u001b[0mprintlist\u001b[0m\u001b[1;33m(\u001b[0m\u001b[0mhead\u001b[0m\u001b[1;33m)\u001b[0m\u001b[1;33m\u001b[0m\u001b[1;33m\u001b[0m\u001b[0m\n\u001b[0;32m     30\u001b[0m \u001b[0msearchElement\u001b[0m\u001b[1;33m(\u001b[0m\u001b[0mhead\u001b[0m\u001b[1;33m,\u001b[0m\u001b[1;36m30\u001b[0m\u001b[1;33m)\u001b[0m\u001b[1;33m\u001b[0m\u001b[1;33m\u001b[0m\u001b[0m\n\u001b[1;32m---> 31\u001b[1;33m \u001b[0mprint\u001b[0m\u001b[1;33m(\u001b[0m\u001b[0minsertBegin\u001b[0m\u001b[1;33m(\u001b[0m\u001b[0mhead\u001b[0m\u001b[1;33m,\u001b[0m\u001b[1;36m50\u001b[0m\u001b[1;33m)\u001b[0m\u001b[1;33m)\u001b[0m\u001b[1;33m\u001b[0m\u001b[1;33m\u001b[0m\u001b[0m\n\u001b[0m\u001b[0;32m     32\u001b[0m \u001b[0mprintlist\u001b[0m\u001b[1;33m(\u001b[0m\u001b[0mhead\u001b[0m\u001b[1;33m)\u001b[0m\u001b[1;33m\u001b[0m\u001b[1;33m\u001b[0m\u001b[0m\n",
      "\u001b[1;31mNameError\u001b[0m: name 'insertBegin' is not defined"
     ]
    }
   ],
   "source": [
    "class node:\n",
    "    \n",
    "    def __init__(self,data):\n",
    "        self.data = data\n",
    "        self.next = None\n",
    "        \n",
    "\n",
    "def searchElement(head,x):\n",
    "    pos = 1\n",
    "    curr = head\n",
    "    while curr!=None:\n",
    "        if curr.data==x:\n",
    "            return pos\n",
    "        pos+=1\n",
    "        curr = curr.next\n",
    "    return -1\n",
    "            \n",
    "        \n",
    "def printlist(head):\n",
    "    \n",
    "    while head!=None:\n",
    "        print(head.data,end = \" \")\n",
    "        head = head.next\n",
    "        \n",
    "head = node(10)\n",
    "head.next = node(20)\n",
    "head.next.next = node(30)\n",
    "head.next.next.next = node(40)\n",
    "printlist(head)\n",
    "searchElement(head,30)\n",
    "print(insertBegin(head,50))\n",
    "printlist(head)"
   ]
  },
  {
   "cell_type": "code",
   "execution_count": 7,
   "id": "d09fe8ea",
   "metadata": {},
   "outputs": [],
   "source": [
    "## Insert in the begining of the linked list\n",
    "\n",
    "def insertBegin(head,data):\n",
    "    temp = node(data)\n",
    "    temp.next = head\n",
    "    return temp"
   ]
  },
  {
   "cell_type": "code",
   "execution_count": 8,
   "id": "b5ef7e2b",
   "metadata": {},
   "outputs": [
    {
     "name": "stdout",
     "output_type": "stream",
     "text": [
      "10 20 30 40 <__main__.node object at 0x000002C33C3A9340>\n",
      "10 20 30 40 "
     ]
    }
   ],
   "source": [
    "class node:\n",
    "    \n",
    "    def __init__(self,data):\n",
    "        self.data = data\n",
    "        self.next = None\n",
    "        \n",
    "\n",
    "def searchElement(head,x):\n",
    "    pos = 1\n",
    "    curr = head\n",
    "    while curr!=None:\n",
    "        if curr.data==x:\n",
    "            return pos\n",
    "        pos+=1\n",
    "        curr = curr.next\n",
    "    return -1\n",
    "\n",
    "def insertBegin(head,data):\n",
    "    temp = node(data)\n",
    "    temp.next = head\n",
    "    return temp\n",
    "            \n",
    "        \n",
    "def printlist(head):\n",
    "    \n",
    "    while head!=None:\n",
    "        print(head.data,end = \" \")\n",
    "        head = head.next\n",
    "        \n",
    "head = node(10)\n",
    "head.next = node(20)\n",
    "head.next.next = node(30)\n",
    "head.next.next.next = node(40)\n",
    "printlist(head)\n",
    "searchElement(head,30)\n",
    "print(insertBegin(head,50))\n",
    "printlist(head)"
   ]
  },
  {
   "cell_type": "code",
   "execution_count": 9,
   "id": "ccb4f0d3",
   "metadata": {},
   "outputs": [
    {
     "name": "stdout",
     "output_type": "stream",
     "text": [
      "10 20 30 "
     ]
    }
   ],
   "source": [
    "## insert at the end of the linked list\n",
    "\n",
    "class node:\n",
    "    \n",
    "    def __init__(self,data):\n",
    "        self.data = data\n",
    "        self.next = None\n",
    "        \n",
    "    \n",
    "def printList(head):\n",
    "    curr = head\n",
    "    while curr.next!=None:\n",
    "        print(curr.data , end = \" \")\n",
    "        curr = curr.next\n",
    "        \n",
    "\n",
    "def insertEnd(head,key):\n",
    "    if head==None:\n",
    "        return node(key)\n",
    "    curr=head\n",
    "    while curr.next!=None:\n",
    "        curr=curr.next\n",
    "    curr.next=node(key)\n",
    "    return head\n",
    "\n",
    "head=None\n",
    "head=insertEnd(head,10)\n",
    "head=insertEnd(head,20)\n",
    "head=insertEnd(head,30)\n",
    "head=insertEnd(head,40)\n",
    "printList(head)"
   ]
  },
  {
   "cell_type": "code",
   "execution_count": 20,
   "id": "615a3c9e",
   "metadata": {},
   "outputs": [
    {
     "name": "stdout",
     "output_type": "stream",
     "text": [
      "10 20 30 40 \n",
      "10 45 20 30 40 \n"
     ]
    }
   ],
   "source": [
    "## Insert at any position of the linked list\n",
    "\n",
    "class node:\n",
    "    \n",
    "    def __init__(self,data):\n",
    "        self.data = data\n",
    "        self.next  = None\n",
    "        \n",
    "def insertPosition(head,x,pos):\n",
    "    temp = node(x)\n",
    "    \n",
    "    pos = 1\n",
    "    \n",
    "    if head==None:\n",
    "        temp.next = head\n",
    "        return temp\n",
    "    curr =  head\n",
    "    \n",
    "    for i in range(pos-2):\n",
    "        if curr == None:\n",
    "            return head\n",
    "        curr = curr.next\n",
    "        \n",
    "        \n",
    "    \n",
    "    temp.next = curr.next\n",
    "    curr.next = temp\n",
    "\n",
    "    return head\n",
    "        \n",
    "def printList(head):\n",
    "    curr = head\n",
    "    while curr.next!=None:\n",
    "        print(curr.data , end = \" \")\n",
    "        curr = curr.next\n",
    "    print()\n",
    "        \n",
    "        \n",
    "head = node(10)\n",
    "head.next = node(20)\n",
    "head.next.next = node(30)\n",
    "head.next.next.next = node(40)\n",
    "head.next.next.next.next = node(50)\n",
    "\n",
    "printList(head)\n",
    "\n",
    "head = insertPosition(head,45,4)\n",
    "\n",
    "printList(head)\n",
    "        "
   ]
  },
  {
   "cell_type": "code",
   "execution_count": 18,
   "id": "3163a373",
   "metadata": {},
   "outputs": [
    {
     "name": "stdout",
     "output_type": "stream",
     "text": [
      "10\n",
      "20\n",
      "30\n",
      "40\n",
      "50\n",
      "\n",
      "10\n",
      "20\n",
      "30\n",
      "45\n",
      "40\n",
      "50\n",
      "\n"
     ]
    }
   ],
   "source": [
    "class Node:\n",
    "    def __init__(self, k):\n",
    "        self.key = k\n",
    "        self.next = None\n",
    "\n",
    "\n",
    "def insertPos(head, data, pos):\n",
    "    temp = Node(data)\n",
    "\n",
    "    if pos == 1:\n",
    "        temp.next = head\n",
    "        return temp\n",
    "\n",
    "    curr = head\n",
    "    for i in range(pos - 2):\n",
    "        if curr == None:\n",
    "            return head\n",
    "        curr = curr.next\n",
    "\n",
    "    temp.next = curr.next\n",
    "    curr.next = temp\n",
    "\n",
    "    return head\n",
    "\n",
    "\n",
    "\n",
    "def printList(head):\n",
    "    curr = head\n",
    "    while curr != None:\n",
    "        print(curr.key)\n",
    "        curr = curr.next\n",
    "    print()\n",
    "\n",
    "\n",
    "head = Node(10)\n",
    "head.next = Node(20)\n",
    "head.next.next = Node(30)\n",
    "head.next.next.next = Node(40)\n",
    "head.next.next.next.next = Node(50)\n",
    "\n",
    "printList(head)\n",
    "\n",
    "head = insertPos(head,45,4)\n",
    "\n",
    "printList(head)"
   ]
  },
  {
   "cell_type": "code",
   "execution_count": null,
   "id": "b1720a26",
   "metadata": {},
   "outputs": [],
   "source": []
  }
 ],
 "metadata": {
  "kernelspec": {
   "display_name": "Python 3 (ipykernel)",
   "language": "python",
   "name": "python3"
  },
  "language_info": {
   "codemirror_mode": {
    "name": "ipython",
    "version": 3
   },
   "file_extension": ".py",
   "mimetype": "text/x-python",
   "name": "python",
   "nbconvert_exporter": "python",
   "pygments_lexer": "ipython3",
   "version": "3.9.13"
  }
 },
 "nbformat": 4,
 "nbformat_minor": 5
}
