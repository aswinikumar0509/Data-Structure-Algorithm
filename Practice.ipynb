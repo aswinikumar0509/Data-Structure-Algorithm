{
 "cells": [
  {
   "cell_type": "code",
   "execution_count": 1,
   "id": "db7c3217",
   "metadata": {},
   "outputs": [],
   "source": [
    "## Searching"
   ]
  },
  {
   "cell_type": "code",
   "execution_count": 2,
   "id": "af4842be",
   "metadata": {},
   "outputs": [
    {
     "data": {
      "text/plain": [
       "4"
      ]
     },
     "execution_count": 2,
     "metadata": {},
     "output_type": "execute_result"
    }
   ],
   "source": [
    "##index of first occurance of the element\n",
    "\n",
    "def firstoccurance(arr,n,x): \n",
    "    s = 0\n",
    "    e = n-1\n",
    "    \n",
    "    while s<=e:\n",
    "        mid = (s+e)//2\n",
    "        \n",
    "        if x>arr[mid]:\n",
    "            s = mid+1\n",
    "        elif x<arr[mid]:\n",
    "            e = mid-1\n",
    "            \n",
    "        else:\n",
    "            if mid==0 or arr[mid-1]!=arr[mid]:\n",
    "                return mid\n",
    "            else:\n",
    "                e=mid-1\n",
    "                \n",
    "    return -1\n",
    "\n",
    "arr = [1,10,10,10,20,20,40]\n",
    "x = 20\n",
    "n = len(arr)\n",
    "\n",
    "firstoccurance(arr,n,x)            "
   ]
  },
  {
   "cell_type": "code",
   "execution_count": null,
   "id": "8b935bf1",
   "metadata": {},
   "outputs": [],
   "source": []
  }
 ],
 "metadata": {
  "kernelspec": {
   "display_name": "Python 3 (ipykernel)",
   "language": "python",
   "name": "python3"
  },
  "language_info": {
   "codemirror_mode": {
    "name": "ipython",
    "version": 3
   },
   "file_extension": ".py",
   "mimetype": "text/x-python",
   "name": "python",
   "nbconvert_exporter": "python",
   "pygments_lexer": "ipython3",
   "version": "3.9.13"
  }
 },
 "nbformat": 4,
 "nbformat_minor": 5
}
