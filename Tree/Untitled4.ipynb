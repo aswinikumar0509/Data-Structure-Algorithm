{
 "cells": [
  {
   "cell_type": "code",
   "execution_count": 1,
   "id": "722adf7e",
   "metadata": {},
   "outputs": [],
   "source": [
    "from collections import deque"
   ]
  },
  {
   "cell_type": "code",
   "execution_count": 10,
   "id": "ef6d6b61",
   "metadata": {},
   "outputs": [
    {
     "name": "stdout",
     "output_type": "stream",
     "text": [
      "Level Order Traversal of binary tree is -\n",
      "1 \n",
      "2 3 \n",
      "4 5 \n"
     ]
    }
   ],
   "source": [
    "class node:\n",
    "    \n",
    "    def __init__(self,data):\n",
    "        self.data  = data\n",
    "        self.left  = None\n",
    "        self.right = None\n",
    "        \n",
    "\n",
    "        \n",
    "#         Recurssive Method\n",
    "# def levelOrder(root):\n",
    "    \n",
    "#     if root is None:\n",
    "#         return\n",
    "    \n",
    "#     q = deque()\n",
    "#     q.append(root)\n",
    "#     q.append(None)\n",
    "    \n",
    "#     while len(q)>1:\n",
    "#         curr = q.popleft()\n",
    "#         if curr == None:\n",
    "#             print()\n",
    "#             q.append(None)\n",
    "#             continue\n",
    "#         print(curr.data,end=\" \")\n",
    "        \n",
    "#         if curr.left is not None:\n",
    "#             q.append(curr.left)\n",
    "            \n",
    "#         if curr.right is not None:\n",
    "#             q.append(curr.right)\n",
    "\n",
    "\n",
    "def printLevel(root):\n",
    "    \n",
    "    if root is None:\n",
    "        return \n",
    "    q = deque()\n",
    "    q.append(root)\n",
    "    \n",
    "    while len(q)>0:\n",
    "        count = len(q)\n",
    "        for i in range(count):\n",
    "            curr = q.popleft()\n",
    "            print(curr.data , end = \" \")\n",
    "            if curr.left is not None:\n",
    "                q.append(curr.left)\n",
    "            if curr.right is not None:\n",
    "                q.append(curr.right)\n",
    "        print()\n",
    "            \n",
    "            \n",
    "            \n",
    "            \n",
    "    \n",
    "        \n",
    "root = node(1)\n",
    "root.left = node(2)\n",
    "root.right = node(3)\n",
    "root.left.left = node(4)\n",
    "root.left.right = node(5)\n",
    "\n",
    "print(\"Level Order Traversal of binary tree is -\")\n",
    "printLevel(root)      \n",
    "        "
   ]
  },
  {
   "cell_type": "code",
   "execution_count": 16,
   "id": "1c9dc7a1",
   "metadata": {},
   "outputs": [
    {
     "name": "stdout",
     "output_type": "stream",
     "text": [
      "Tree is not Balanced\n"
     ]
    }
   ],
   "source": [
    "## Checking the tree is balanced or not balanced\n",
    "\n",
    "class node:\n",
    "    \n",
    "    def __init__(self,data):\n",
    "        self.data =  data\n",
    "        self.left = None\n",
    "        self.right = None\n",
    "        \n",
    "def height(root):\n",
    "    \n",
    "    if root is None:\n",
    "        return 0\n",
    "    \n",
    "    return max(height(root.left),height(root.right)) + 1\n",
    "\n",
    "def isBalanced(root):\n",
    "    \n",
    "    if root is None:\n",
    "        return \n",
    "    \n",
    "    lh = height(root.left)\n",
    "    rh = height(root.right)\n",
    "    \n",
    "    if (abs(lh-rh)<=1) and isBalanced(root.left) is True and isBalanced(root.right) is True:\n",
    "        return True\n",
    "    \n",
    "    return False\n",
    "\n",
    "root = node(1)\n",
    "root.left = node(2)\n",
    "root.right = node(3)\n",
    "root.left.left = node(4)\n",
    "root.left.right = node(5)\n",
    "root.left.left.left = node(6)\n",
    "\n",
    "if isBalanced(root):\n",
    "    print(\"Tree is Balanced\")\n",
    "else:\n",
    "    print(\"Tree is not Balanced\")\n"
   ]
  },
  {
   "cell_type": "code",
   "execution_count": null,
   "id": "934ed22e",
   "metadata": {},
   "outputs": [],
   "source": [
    "## Print the tree in the vertical order\n"
   ]
  }
 ],
 "metadata": {
  "kernelspec": {
   "display_name": "Python 3 (ipykernel)",
   "language": "python",
   "name": "python3"
  },
  "language_info": {
   "codemirror_mode": {
    "name": "ipython",
    "version": 3
   },
   "file_extension": ".py",
   "mimetype": "text/x-python",
   "name": "python",
   "nbconvert_exporter": "python",
   "pygments_lexer": "ipython3",
   "version": "3.9.13"
  }
 },
 "nbformat": 4,
 "nbformat_minor": 5
}
