{
 "cells": [
  {
   "cell_type": "code",
   "execution_count": 8,
   "id": "34e20bae",
   "metadata": {},
   "outputs": [
    {
     "name": "stdout",
     "output_type": "stream",
     "text": [
      "True\n",
      "False\n"
     ]
    }
   ],
   "source": [
    "## Searchig in the Bst tree\n",
    "\n",
    "class node:\n",
    "    def __init__(self,key):\n",
    "        self.key = key\n",
    "        self.left = None\n",
    "        self.right = None\n",
    "        \n",
    "def searchbst(root,key):\n",
    "        \n",
    "    if root == None:\n",
    "        return False\n",
    "    elif root.key==key:\n",
    "        return True\n",
    "    elif root.key > key:\n",
    "        return searchbst(root.left, key)\n",
    "    else:\n",
    "        return searchbst(root.right,key)\n",
    "    return False\n",
    "        \n",
    "#drivercode\n",
    "\n",
    "root = node(10)\n",
    "root.left = node(5)\n",
    "root.right = node(15)\n",
    "root.left.left = node(3)\n",
    "root.left.right = node(7)\n",
    "root.right.left = node(12)\n",
    "root.right.right = node(20)\n",
    "\n",
    "print(searchbst(root,20))\n",
    "print(searchbst(root,1))\n"
   ]
  },
  {
   "cell_type": "code",
   "execution_count": 17,
   "id": "967a8237",
   "metadata": {},
   "outputs": [
    {
     "name": "stdout",
     "output_type": "stream",
     "text": [
      "<__main__.node object at 0x0000027D71987DC0>\n"
     ]
    }
   ],
   "source": [
    "##Inserting the value in the bst tree\n",
    "\n",
    "class node:\n",
    "    def __init__(self,key):\n",
    "        self.key = key\n",
    "        self.left = None\n",
    "        self.right = None\n",
    "        \n",
    "def insertbst(root,key):\n",
    "    \n",
    "    if root == None:\n",
    "        return node(key)\n",
    "    \n",
    "    elif root.key==key:\n",
    "        return root\n",
    "    elif root.key>key:\n",
    "        return insertbst(root.left,key)\n",
    "    else:\n",
    "        return insertbst(root.right,key)\n",
    "    return root\n",
    "    \n",
    "#drivercode\n",
    "\n",
    "root = node(10)\n",
    "root.left = node(5)\n",
    "root.right = node(15)\n",
    "root.left.left = node(3)\n",
    "root.left.right = node(7)\n",
    "root.right.left = node(12)\n",
    "root.right.right = node(20)\n",
    "\n",
    "print(insertbst(root,40))\n",
    "    \n"
   ]
  },
  {
   "cell_type": "code",
   "execution_count": 13,
   "id": "a0685934",
   "metadata": {},
   "outputs": [
    {
     "name": "stdout",
     "output_type": "stream",
     "text": [
      "20\n",
      "30\n",
      "40\n",
      "50\n",
      "60\n",
      "70\n",
      "80\n"
     ]
    }
   ],
   "source": [
    "# Python program to demonstrate \n",
    "# insert operation in binary search tree\n",
    "\n",
    "# A utility class that represents \n",
    "# an individual node in a BST\n",
    "\n",
    "\n",
    "class Node:\n",
    "    def __init__(self, key):\n",
    "        self.left = None\n",
    "        self.right = None\n",
    "        self.val = key\n",
    "\n",
    "# A utility function to insert \n",
    "# a new node with the given key\n",
    "\n",
    "\n",
    "def insert(root, key):\n",
    "    if root is None:\n",
    "        return Node(key)\n",
    "    else:\n",
    "        if root.val == key:\n",
    "            return root\n",
    "        elif root.val < key:\n",
    "            root.right = insert(root.right, key)\n",
    "        else:\n",
    "            root.left = insert(root.left, key)\n",
    "    return root\n",
    "\n",
    "# A utility function to do inorder tree traversal\n",
    "\n",
    "\n",
    "def inorder(root):\n",
    "    if root:\n",
    "        inorder(root.left)\n",
    "        print(root.val)\n",
    "        inorder(root.right)\n",
    "\n",
    "\n",
    "# Driver program to test the above functions\n",
    "# Let us create the following BST\n",
    "#    50\n",
    "#  /     \\\n",
    "# 30     70\n",
    "#  / \\ / \\\n",
    "# 20 40 60 80\n",
    "\n",
    "r = Node(50)\n",
    "r = insert(r, 30)\n",
    "r = insert(r, 20)\n",
    "r = insert(r, 40)\n",
    "r = insert(r, 70)\n",
    "r = insert(r, 60)\n",
    "r = insert(r, 80)\n",
    "\n",
    "# Print inoder traversal of the BST\n",
    "inorder(r)"
   ]
  },
  {
   "cell_type": "code",
   "execution_count": 23,
   "id": "7cfb5a26",
   "metadata": {},
   "outputs": [
    {
     "name": "stdout",
     "output_type": "stream",
     "text": [
      "<__main__.node object at 0x0000027D738B8D60>\n"
     ]
    }
   ],
   "source": [
    "# deletion in the bst\n",
    "class node:\n",
    "    def __init__(self,key):\n",
    "        self.key = key\n",
    "        self.left = None\n",
    "        self.right = None\n",
    "        \n",
    "def deletebst(root,key):\n",
    "    if root == None:\n",
    "        return \n",
    "    if root.key > key:\n",
    "        root.left = deletebst(root.left, key)\n",
    "    elif root.key < key:\n",
    "        root.right = deletebst(root.right,key)\n",
    "    else:\n",
    "            if root.left == None:\n",
    "                return root.right\n",
    "            elif root.right==None:\n",
    "                return root.right\n",
    "            else:\n",
    "                succ = getsucc(root.right,key)\n",
    "                root.key = succ\n",
    "                root.right = deletebst(root.right,succ)\n",
    "    return root\n",
    "\n",
    "\n",
    "def getsucc(curr,key):\n",
    "    while curr.left!=None:\n",
    "        curr = curr.left\n",
    "    return curr.left\n",
    " \n",
    "#drivercode\n",
    "\n",
    "root = node(10)\n",
    "root.left = node(5)\n",
    "root.right = node(15)\n",
    "root.left.left = node(3)\n",
    "root.left.right = node(7)\n",
    "root.right.left = node(12)\n",
    "root.right.right = node(20)\n",
    "\n",
    "print(deletebst(root,20))"
   ]
  },
  {
   "cell_type": "code",
   "execution_count": null,
   "id": "3766abf1",
   "metadata": {},
   "outputs": [],
   "source": []
  }
 ],
 "metadata": {
  "kernelspec": {
   "display_name": "Python 3 (ipykernel)",
   "language": "python",
   "name": "python3"
  },
  "language_info": {
   "codemirror_mode": {
    "name": "ipython",
    "version": 3
   },
   "file_extension": ".py",
   "mimetype": "text/x-python",
   "name": "python",
   "nbconvert_exporter": "python",
   "pygments_lexer": "ipython3",
   "version": "3.9.13"
  }
 },
 "nbformat": 4,
 "nbformat_minor": 5
}
