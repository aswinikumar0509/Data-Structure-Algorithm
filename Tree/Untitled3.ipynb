{
 "cells": [
  {
   "cell_type": "code",
   "execution_count": 9,
   "id": "619be501",
   "metadata": {},
   "outputs": [
    {
     "name": "stdout",
     "output_type": "stream",
     "text": [
      "1 \n",
      "2 3 \n",
      "4 5 6 "
     ]
    }
   ],
   "source": [
    "## Level Order Traversal of the Tree\n",
    "\n",
    "from collections import deque\n",
    "class node:\n",
    "    \n",
    "    def __init__(self,data):\n",
    "        self.data = data\n",
    "        self.left = None\n",
    "        self.right = None\n",
    "        \n",
    "# def levelOrder(root):\n",
    "    \n",
    "#     if root is None:\n",
    "#         return \n",
    "    \n",
    "#     q = deque()\n",
    "#     q.append(root)\n",
    "#     q.append(None)\n",
    "    \n",
    "#     while len(q)>1:\n",
    "#         curr = q.popleft()\n",
    "        \n",
    "#         if curr == None:\n",
    "#             print()\n",
    "#             q.append(None)\n",
    "#             continue\n",
    "#         print(curr.data,end=\" \")\n",
    "#         if curr.left is not None:\n",
    "#             q.append(curr.left)\n",
    "#         if curr.right is not None:\n",
    "#             q.append(curr.right)\n",
    "\n",
    "\n",
    "def levelOrder2(root):\n",
    "    \n",
    "    if root is None:\n",
    "        return\n",
    "        \n",
    "    q = deque()\n",
    "    q.append(root)\n",
    "    \n",
    "    while len(q)>0:\n",
    "        count = len(q)\n",
    "        \n",
    "        for i in range(count):\n",
    "            curr = q.popleft()\n",
    "            print(curr.data,end=\" \")\n",
    "            if curr.left is not None:\n",
    "                q.append(curr.left)\n",
    "            if curr.right is not None:\n",
    "                q.append(curr.right)\n",
    "        print()\n",
    "            \n",
    "        \n",
    "        \n",
    "            \n",
    "root = node(1)\n",
    "root.left = node(2)\n",
    "root.right = node(3)\n",
    "root.left.left = node(4)\n",
    "root.left.right = node(5)\n",
    "root.right.right = node(6)\n",
    "\n",
    "levelOrder(root)\n",
    "\n"
   ]
  },
  {
   "cell_type": "code",
   "execution_count": 11,
   "id": "15f7c6c5",
   "metadata": {},
   "outputs": [
    {
     "data": {
      "text/plain": [
       "True"
      ]
     },
     "execution_count": 11,
     "metadata": {},
     "output_type": "execute_result"
    }
   ],
   "source": [
    "## Checking the tree is balance or not\n",
    "\n",
    "class node:\n",
    "    \n",
    "    def __init__(self,data):\n",
    "        self.data = data\n",
    "        self.left = None\n",
    "        self.right = None\n",
    "        \n",
    "def isBalanced(root):\n",
    "    \n",
    "    if root is None:\n",
    "        return 0\n",
    "    \n",
    "    lh = isBalanced(root.left)\n",
    "    if lh==-1:\n",
    "        return -1\n",
    "    rh = isBalanced(root.right)\n",
    "    if rh==-1:\n",
    "        return -1\n",
    "    if abs(lh-rh)>1:\n",
    "        return -1\n",
    "    return max(lh,rh)+1\n",
    "\n",
    "def isBalance(root):\n",
    "    \n",
    "    if isBalanced(root)==-1:\n",
    "        return False\n",
    "    return True\n",
    "    \n",
    "root = node(1)\n",
    "root.left = node(2)\n",
    "root.right = node(3)\n",
    "root.left.left = node(4)\n",
    "root.left.right = node(5)\n",
    "root.right.right = node(6)\n",
    "\n",
    "isBalance(root)\n"
   ]
  },
  {
   "cell_type": "code",
   "execution_count": 13,
   "id": "1403c9eb",
   "metadata": {},
   "outputs": [
    {
     "data": {
      "text/plain": [
       "3"
      ]
     },
     "execution_count": 13,
     "metadata": {},
     "output_type": "execute_result"
    }
   ],
   "source": [
    "class node:\n",
    "    \n",
    "    def __init__(self,data):\n",
    "        self.data = data\n",
    "        self.left = None\n",
    "        self.right = None\n",
    "        \n",
    "def countWidth(root):\n",
    "    \n",
    "    if root is None:\n",
    "        return \n",
    "    q = deque()\n",
    "    q.append(root)\n",
    "    \n",
    "    res = 0\n",
    "    \n",
    "    while q:\n",
    "        count = len(q)\n",
    "        node = q.popleft()\n",
    "        if node.left:\n",
    "            q.append(node.left)\n",
    "        if node.right:\n",
    "            q.append(node.right)\n",
    "            \n",
    "        res = max(res,count)\n",
    "    return res\n",
    "        \n",
    "    \n",
    "root = node(1)\n",
    "root.left = node(2)\n",
    "root.right = node(3)\n",
    "root.left.left = node(4)\n",
    "root.left.right = node(5)\n",
    "root.right.right = node(6)\n",
    "\n",
    "countWidth(root)"
   ]
  },
  {
   "cell_type": "code",
   "execution_count": 19,
   "id": "f7b7b3ac",
   "metadata": {},
   "outputs": [
    {
     "name": "stdout",
     "output_type": "stream",
     "text": [
      "4 2 5 1 3 6 "
     ]
    }
   ],
   "source": [
    "## Convert Binary to Doubly Linked List\n",
    "\n",
    "class node:\n",
    "    \n",
    "    def __init__(self,data):\n",
    "        self.data = data\n",
    "        self.left = None\n",
    "        self.right = None\n",
    "        \n",
    "prev = None\n",
    "def convert(root):\n",
    "    \n",
    "    if root is None:\n",
    "        return \n",
    "    head = convert(root.left)\n",
    "    \n",
    "    global prev\n",
    "    \n",
    "    if prev is None:\n",
    "        head = root\n",
    "    else:\n",
    "        prev.right = root\n",
    "        root.left = prev\n",
    "        \n",
    "    prev = root\n",
    "    convert(root.right)\n",
    "    return head\n",
    "\n",
    "def print_dll(head):\n",
    "    while head is not None:\n",
    "        print(head.data, end=\" \")\n",
    "        head = head.right\n",
    "\n",
    "        \n",
    "    \n",
    "root = node(1)\n",
    "root.left = node(2)\n",
    "root.right = node(3)\n",
    "root.left.left = node(4)\n",
    "root.left.right = node(5)\n",
    "root.right.right = node(6)\n",
    "\n",
    "head=convert(root)\n",
    "print_dll(head)"
   ]
  },
  {
   "cell_type": "code",
   "execution_count": null,
   "id": "daa6dc2d",
   "metadata": {},
   "outputs": [],
   "source": []
  }
 ],
 "metadata": {
  "kernelspec": {
   "display_name": "Python 3 (ipykernel)",
   "language": "python",
   "name": "python3"
  },
  "language_info": {
   "codemirror_mode": {
    "name": "ipython",
    "version": 3
   },
   "file_extension": ".py",
   "mimetype": "text/x-python",
   "name": "python",
   "nbconvert_exporter": "python",
   "pygments_lexer": "ipython3",
   "version": "3.9.13"
  }
 },
 "nbformat": 4,
 "nbformat_minor": 5
}
