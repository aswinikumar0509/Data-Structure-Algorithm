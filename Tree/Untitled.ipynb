{
 "cells": [
  {
   "cell_type": "code",
   "execution_count": 1,
   "id": "89114453",
   "metadata": {},
   "outputs": [
    {
     "name": "stdout",
     "output_type": "stream",
     "text": [
      "<__main__.node object at 0x00000233ABF415B0>\n"
     ]
    }
   ],
   "source": [
    "# Binary tree representation\n",
    "\n",
    "class node:\n",
    "    \n",
    "    def __init__(self,k):\n",
    "        self.key = k\n",
    "        self.left = None\n",
    "        self.right = None\n",
    "        \n",
    "# driver code\n",
    "\n",
    "root = node(10)\n",
    "root.left = node(20)\n",
    "root.right = node(30)\n",
    "root.left.left = node(40)\n",
    "print(root)"
   ]
  },
  {
   "cell_type": "code",
   "execution_count": 2,
   "id": "cd893fc2",
   "metadata": {},
   "outputs": [
    {
     "name": "stdout",
     "output_type": "stream",
     "text": [
      "<__main__.node object at 0x00000233ABF28EB0>\n",
      "40\n",
      "20\n",
      "10\n",
      "30\n"
     ]
    }
   ],
   "source": [
    "# Inorder traveral (left root right)\n",
    "# left (left subtree)\n",
    "# right (right subtree)\n",
    "\n",
    "class node:\n",
    "    \n",
    "    def __init__(self,k):\n",
    "        self.key = k\n",
    "        self.left = None\n",
    "        self.right = None\n",
    "        \n",
    "def inorder(root):\n",
    "        \n",
    "    if root!=None:\n",
    "        inorder(root.left)\n",
    "        print(root.key)\n",
    "        inorder(root.right)\n",
    "            \n",
    "root = node(10)\n",
    "root.left = node(20)\n",
    "root.right = node(30)\n",
    "root.left.left = node(40)\n",
    "print(root)\n",
    "inorder(root)\n",
    "\n",
    "            "
   ]
  },
  {
   "cell_type": "code",
   "execution_count": 3,
   "id": "ecc45979",
   "metadata": {},
   "outputs": [
    {
     "name": "stdout",
     "output_type": "stream",
     "text": [
      "<__main__.node object at 0x00000233ABF410D0>\n",
      "10\n",
      "20\n",
      "40\n",
      "30\n"
     ]
    }
   ],
   "source": [
    "# Preorder traversal (root,left,right)\n",
    "# left (left subtree)\n",
    "# right (right subtree)\n",
    "\n",
    "class node:\n",
    "    \n",
    "    def __init__(self,k):\n",
    "        self.key = k\n",
    "        self.left = None\n",
    "        self.right = None\n",
    "        \n",
    "def preorder(root):\n",
    "    if root!=None:\n",
    "        print(root.key)\n",
    "        preorder(root.left)\n",
    "        preorder(root.right)\n",
    "            \n",
    "#driver code\n",
    "\n",
    "root = node(10)\n",
    "root.left = node(20)\n",
    "root.right = node(30)\n",
    "root.left.left = node(40)\n",
    "print(root)\n",
    "preorder(root)\n"
   ]
  },
  {
   "cell_type": "code",
   "execution_count": 4,
   "id": "75679414",
   "metadata": {},
   "outputs": [
    {
     "name": "stdout",
     "output_type": "stream",
     "text": [
      "<__main__.node object at 0x00000233ABF28A90>\n",
      "40\n",
      "20\n",
      "30\n",
      "10\n"
     ]
    }
   ],
   "source": [
    "# Postorder traversal (left,right,root)\n",
    "# left (left subtree)\n",
    "# right (right subtree)\n",
    "\n",
    "class node:\n",
    "    \n",
    "    def __init__(self,k):\n",
    "        self.key = k\n",
    "        self.left = None\n",
    "        self.right = None\n",
    "        \n",
    "def preorder(root):\n",
    "    if root!=None:\n",
    "        preorder(root.left)\n",
    "        preorder(root.right)\n",
    "        print(root.key)\n",
    "            \n",
    "#driver code\n",
    "\n",
    "root = node(10)\n",
    "root.left = node(20)\n",
    "root.right = node(30)\n",
    "root.left.left = node(40)\n",
    "print(root)\n",
    "preorder(root)"
   ]
  },
  {
   "cell_type": "code",
   "execution_count": 5,
   "id": "89a2ff74",
   "metadata": {},
   "outputs": [
    {
     "name": "stdout",
     "output_type": "stream",
     "text": [
      "<__main__.node object at 0x00000233ABF41820>\n"
     ]
    },
    {
     "data": {
      "text/plain": [
       "3"
      ]
     },
     "execution_count": 5,
     "metadata": {},
     "output_type": "execute_result"
    }
   ],
   "source": [
    "# Height of the binary search tree\n",
    "\n",
    "class node:\n",
    "    \n",
    "    def __init__(self,k):\n",
    "        self.key = k\n",
    "        self.left = None\n",
    "        self.right = None\n",
    "        \n",
    "def height(root):\n",
    "    \n",
    "    if root==None:\n",
    "        return 0\n",
    "    else:\n",
    "        lh = height(root.left)\n",
    "        rh = height(root.right)\n",
    "        return max(lh,rh)+1\n",
    "    \n",
    "def edge(root):\n",
    "    \n",
    "    if root==None:\n",
    "        return -1\n",
    "    else:\n",
    "        lh = height(root.left)\n",
    "        rh = height(root.right)\n",
    "        return max(lh,rh)-1\n",
    "    \n",
    "root = node(10)\n",
    "root.left = node(20)\n",
    "root.right = node(30)\n",
    "root.left.left = node(40)\n",
    "print(root)\n",
    "height(root)\n",
    "#edge(root)"
   ]
  },
  {
   "cell_type": "code",
   "execution_count": 6,
   "id": "8d6e4f23",
   "metadata": {},
   "outputs": [
    {
     "name": "stdout",
     "output_type": "stream",
     "text": [
      "<__main__.node object at 0x00000233ABF6AF40>\n"
     ]
    },
    {
     "data": {
      "text/plain": [
       "1"
      ]
     },
     "execution_count": 6,
     "metadata": {},
     "output_type": "execute_result"
    }
   ],
   "source": [
    "# Edges of the binary search tree\n",
    "\n",
    "class node:\n",
    "    \n",
    "    def __init__(self,k):\n",
    "        self.key = k\n",
    "        self.left = None\n",
    "        self.right = None\n",
    "        \n",
    "def edge(root):\n",
    "    \n",
    "    if root==None:\n",
    "        return -1\n",
    "    else:\n",
    "        lh = height(root.left)\n",
    "        rh = height(root.right)\n",
    "        return max(lh,rh)-1\n",
    "    \n",
    "root = node(10)\n",
    "root.left = node(20)\n",
    "root.right = node(30)\n",
    "root.left.left = node(40)\n",
    "print(root)\n",
    "edge(root)"
   ]
  },
  {
   "cell_type": "code",
   "execution_count": 7,
   "id": "18fc109b",
   "metadata": {},
   "outputs": [
    {
     "name": "stdout",
     "output_type": "stream",
     "text": [
      "<__main__.node object at 0x00000233ABF60190>\n",
      "40 "
     ]
    }
   ],
   "source": [
    "# print k node of the tree\n",
    "\n",
    "class node:\n",
    "    \n",
    "    def __init__(self,k):\n",
    "        self.key = k\n",
    "        self.left = None\n",
    "        self.right = None\n",
    "        \n",
    "def printKnode(root,k):\n",
    "    \n",
    "    if root == None:\n",
    "        return 0\n",
    "    \n",
    "    if k==0:\n",
    "        print(root.key,end = \" \")\n",
    "    else:\n",
    "        printKnode(root.left,k-1)\n",
    "        printKnode(root.right,k-1)\n",
    "        \n",
    "root = node(10)\n",
    "root.left = node(20)\n",
    "root.right = node(30)\n",
    "root.left.left = node(40)\n",
    "print(root)\n",
    "printKnode(root,2)"
   ]
  },
  {
   "cell_type": "code",
   "execution_count": 8,
   "id": "d20b3e64",
   "metadata": {},
   "outputs": [],
   "source": [
    "from collections import deque"
   ]
  },
  {
   "cell_type": "code",
   "execution_count": 9,
   "id": "01e18fe0",
   "metadata": {},
   "outputs": [
    {
     "name": "stdout",
     "output_type": "stream",
     "text": [
      "Level Order Traversal of binary tree is -\n",
      "1\n",
      "2\n",
      "3\n",
      "4\n",
      "5\n"
     ]
    }
   ],
   "source": [
    "## level order travelsal\n",
    "class Node:\n",
    "    \n",
    "    def __init__(self,k):\n",
    "        self.key = k\n",
    "        self.left = None\n",
    "        self.right = None\n",
    "        \n",
    "def levelordertraversal(root):\n",
    "    \n",
    "    if root is None:\n",
    "        return\n",
    "    \n",
    "    q = deque()\n",
    "    q.append(root)\n",
    "    \n",
    "    while len(q)>0:\n",
    "        node = q.popleft()\n",
    "        print(node.key)\n",
    "        \n",
    "        if node.left is not None:\n",
    "            q.append(node.left)\n",
    "            \n",
    "        if node.right is not None:\n",
    "            q.append(node.right)\n",
    "            \n",
    "# Driver Program to test above function\n",
    "root = Node(1)\n",
    "root.left = Node(2)\n",
    "root.right = Node(3)\n",
    "root.left.left = Node(4)\n",
    "root.left.right = Node(5)\n",
    "\n",
    "print(\"Level Order Traversal of binary tree is -\")\n",
    "levelordertraversal(root)"
   ]
  },
  {
   "cell_type": "code",
   "execution_count": 10,
   "id": "aa1ef0be",
   "metadata": {},
   "outputs": [
    {
     "data": {
      "text/plain": [
       "5"
      ]
     },
     "execution_count": 10,
     "metadata": {},
     "output_type": "execute_result"
    }
   ],
   "source": [
    "# size of the tree\n",
    "class Node:\n",
    "    \n",
    "    def __init__(self,k):\n",
    "        self.key = k\n",
    "        self.left = None\n",
    "        self.right = None\n",
    "        \n",
    "def treesize(root):\n",
    "    if root ==None:\n",
    "        return 0\n",
    "    else:\n",
    "        return 1+treesize(root.left)+treesize(root.right)\n",
    "\n",
    "# Driver Program to test above function\n",
    "root = Node(1)\n",
    "root.left = Node(2)\n",
    "root.right = Node(3)\n",
    "root.left.left = Node(4)\n",
    "root.left.right = Node(5)\n",
    "\n",
    "treesize(root)"
   ]
  },
  {
   "cell_type": "code",
   "execution_count": 11,
   "id": "42481cbd",
   "metadata": {},
   "outputs": [
    {
     "data": {
      "text/plain": [
       "5"
      ]
     },
     "execution_count": 11,
     "metadata": {},
     "output_type": "execute_result"
    }
   ],
   "source": [
    "#getting the maximum element\n",
    "\n",
    "import math\n",
    "\n",
    "class Node:\n",
    "    \n",
    "    def __init__(self,k):\n",
    "        self.key = k\n",
    "        self.left = None\n",
    "        self.right = None\n",
    "        \n",
    "def getmax(root):\n",
    "    \n",
    "    if root == None:\n",
    "        return -math.inf\n",
    "    \n",
    "    else:\n",
    "        lm = getmax(root.left)\n",
    "        rm = getmax(root.right)\n",
    "        return max(root.key,lm,rm)\n",
    "    \n",
    "# Driver Program to test above function\n",
    "root = Node(1)\n",
    "root.left = Node(2)\n",
    "root.right = Node(3)\n",
    "root.left.left = Node(4)\n",
    "root.left.right = Node(5)\n",
    "\n",
    "getmax(root)"
   ]
  },
  {
   "cell_type": "code",
   "execution_count": null,
   "id": "3b9141bc",
   "metadata": {},
   "outputs": [],
   "source": []
  }
 ],
 "metadata": {
  "kernelspec": {
   "display_name": "Python 3 (ipykernel)",
   "language": "python",
   "name": "python3"
  },
  "language_info": {
   "codemirror_mode": {
    "name": "ipython",
    "version": 3
   },
   "file_extension": ".py",
   "mimetype": "text/x-python",
   "name": "python",
   "nbconvert_exporter": "python",
   "pygments_lexer": "ipython3",
   "version": "3.9.13"
  }
 },
 "nbformat": 4,
 "nbformat_minor": 5
}
