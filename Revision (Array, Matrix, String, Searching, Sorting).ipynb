{
 "cells": [
  {
   "cell_type": "code",
   "execution_count": 2,
   "id": "2dcbdf83",
   "metadata": {},
   "outputs": [
    {
     "name": "stdout",
     "output_type": "stream",
     "text": [
      "[40, 50, 10, 20, 30]\n"
     ]
    }
   ],
   "source": [
    "### left Rotate of the list\n",
    "\n",
    "def leftRotate(l,k):\n",
    "    for i in range(0,k):\n",
    "        l.append(l.pop(0))\n",
    "        \n",
    "l = [10,20,30,40,50]\n",
    "k=3\n",
    "leftRotate(l,k)\n",
    "print(l)"
   ]
  },
  {
   "cell_type": "code",
   "execution_count": 9,
   "id": "030207a6",
   "metadata": {},
   "outputs": [
    {
     "name": "stdout",
     "output_type": "stream",
     "text": [
      "[30, 40, 50, 10, 20]\n"
     ]
    }
   ],
   "source": [
    "def reverse(l,s,e):\n",
    "    while s<e:\n",
    "        l[s],l[e] = l[e],l[s]\n",
    "        s+=1\n",
    "        e-=1\n",
    "        \n",
    "def leftRotate(l,k):\n",
    "    n = len(l)\n",
    "    reverse(l,0,k-1)\n",
    "    reverse(l,k,n-1)\n",
    "    reverse(l,0,n-1)\n",
    "    \n",
    "# one more question we try iterate of the count of k and continous change teh rotated and print the value\n",
    "\n",
    "    \n",
    "l = [10,20,30,40,50]\n",
    "k = 2\n",
    "leftRotate(l,k)\n",
    "print(l)\n",
    "        "
   ]
  },
  {
   "cell_type": "code",
   "execution_count": 10,
   "id": "d48d2fe2",
   "metadata": {},
   "outputs": [
    {
     "name": "stdout",
     "output_type": "stream",
     "text": [
      "(1, 5)\n"
     ]
    }
   ],
   "source": [
    "### Maximum and the minimum difference in the number\n",
    "\n",
    "def maxAbsDiff(arr,n):\n",
    "    minEle = arr[0]\n",
    "    maxEle = arr[0]\n",
    "    \n",
    "    for i in range(1,n):\n",
    "        minEle = min(minEle,arr[i])\n",
    "        maxEle = max(maxEle,arr[i])\n",
    "        \n",
    "    return (minEle,maxEle)\n",
    "\n",
    "arr = [2,1,5,3]\n",
    "n = len(arr)\n",
    "print(maxAbsDiff(arr,n))"
   ]
  },
  {
   "cell_type": "code",
   "execution_count": 12,
   "id": "ef218407",
   "metadata": {},
   "outputs": [],
   "source": [
    "### Stock buy and sell value\n",
    "\n",
    "def maxProfit(price,start,end):\n",
    "    if(end<=start):\n",
    "        return 0\n",
    "    profit = 0\n",
    "    for i in range(start,end,1):\n",
    "        for j in range(i+1,end+1):\n",
    "            if price[j]>price[i]:\n",
    "                curr_profit = price[j]-price[i] + maxProfit(price,start,i-1) + maxProfit(price,j+1,end)\n",
    "                profit = max(profit,curr_profit)\n",
    "                \n",
    "    return profit\n",
    "                "
   ]
  },
  {
   "cell_type": "code",
   "execution_count": 13,
   "id": "42405853",
   "metadata": {},
   "outputs": [],
   "source": [
    "### Trapping rain water\n",
    "def rainWater(arr,n):\n",
    "    left = [0]*n\n",
    "    right = [0]*n\n",
    "    \n",
    "    water = 0\n",
    "    left[0] = arr[0]\n",
    "    right[n-1] = arr[n-1]\n",
    "    \n",
    "    for i in range(1,n):\n",
    "        left[i] = max(left[i-1],arr[i])\n",
    "    for j in range(n-2,-1,-1):\n",
    "        right[j] = max(right[i+1],arr[i])\n",
    "        \n",
    "    for i in range(0,n):\n",
    "        water += min(left[i],right[j])-arr[i]\n",
    "        \n",
    "    return water\n",
    "    "
   ]
  },
  {
   "cell_type": "code",
   "execution_count": 3,
   "id": "b21354f7",
   "metadata": {},
   "outputs": [
    {
     "data": {
      "text/plain": [
       "2"
      ]
     },
     "execution_count": 3,
     "metadata": {},
     "output_type": "execute_result"
    }
   ],
   "source": [
    "### Maximum the number of cut in the rob\n",
    "\n",
    "def maxPieces(n,a,b,c):\n",
    "    if n==0:\n",
    "        return 0\n",
    "    if n<=-1:\n",
    "        return -1\n",
    "    \n",
    "    res = max(maxPieces(n-a,a,b,c),\n",
    "             maxPieces(n-b,a,b,c),\n",
    "             maxPieces(n-c,a,b,c))\n",
    "    \n",
    "    if res==-1:\n",
    "        return -1\n",
    "    return res+1\n",
    "\n",
    "n=23\n",
    "a = 11\n",
    "b = 9\n",
    "c = 12\n",
    "maxPieces(n,a,b,c)"
   ]
  },
  {
   "cell_type": "code",
   "execution_count": 12,
   "id": "8e590b33",
   "metadata": {},
   "outputs": [
    {
     "name": "stdout",
     "output_type": "stream",
     "text": [
      "Yes\n"
     ]
    }
   ],
   "source": [
    "def isPalRec(st,s,e):\n",
    "    if s==e:\n",
    "        return True\n",
    "    if(st[s]!=st[e]):\n",
    "        return False\n",
    "    if(s<e+1):\n",
    "        return isPalRec(st,s+1,e-1)\n",
    "    \n",
    "def isPalindrome(st):\n",
    "    n = len(st)\n",
    "    if(n==0):\n",
    "        return True\n",
    "    return isPalRec(st,0,n-1)\n",
    "\n",
    "st = \"geg\"\n",
    "if(isPalindrome(st)):\n",
    "    print(\"Yes\")\n",
    "else:\n",
    "    print(\"No\")"
   ]
  },
  {
   "cell_type": "code",
   "execution_count": 14,
   "id": "800e3ad6",
   "metadata": {},
   "outputs": [
    {
     "name": "stdout",
     "output_type": "stream",
     "text": [
      "3\n"
     ]
    }
   ],
   "source": [
    "### Josephus Problem in Python\n",
    "\n",
    "def jos(n,k):\n",
    "    if n==1:\n",
    "        return 0\n",
    "    else:\n",
    "        return (jos(n-1,k)+k)%n\n",
    "    \n",
    "print(jos(5,3))"
   ]
  },
  {
   "cell_type": "code",
   "execution_count": 15,
   "id": "4c5cc288",
   "metadata": {},
   "outputs": [
    {
     "name": "stdout",
     "output_type": "stream",
     "text": [
      "4\n"
     ]
    }
   ],
   "source": [
    "### Subset Sum Problem\n",
    "\n",
    "def countSubsetSum(arr,n,sum):\n",
    "    if n==0:\n",
    "        if sum==0:\n",
    "            return 1\n",
    "        else:\n",
    "            return 0\n",
    "        \n",
    "    return countSubsetSum(arr,n-1,sum)+countSubsetSum(arr,n-1,sum-arr[n-1])\n",
    "\n",
    "arr = [1,2,3,5,6,7]\n",
    "n = 6\n",
    "sum = 8\n",
    "print(countSubsetSum(arr,n,sum))\n"
   ]
  },
  {
   "cell_type": "code",
   "execution_count": 16,
   "id": "5f0fa29e",
   "metadata": {},
   "outputs": [
    {
     "name": "stdout",
     "output_type": "stream",
     "text": [
      "ABC\n",
      "ACB\n",
      "BAC\n",
      "BCA\n",
      "CBA\n",
      "CAB\n"
     ]
    }
   ],
   "source": [
    "### Permutation of the string \n",
    "\n",
    "def toString(list):\n",
    "    return ''.join(list)\n",
    "\n",
    "def permute(a,l,r):\n",
    "    if l==r:\n",
    "        print(toString(a))\n",
    "        \n",
    "    else:\n",
    "        for i in range(l,r):\n",
    "            a[l],a[i]=a[i],a[l]\n",
    "            permute(a,l+1,r)\n",
    "            a[l],a[i]=a[i],a[l]\n",
    "            \n",
    "string = \"ABC\"\n",
    "n = len(string)\n",
    "a = list(string)\n",
    "permute(a,0,n)"
   ]
  },
  {
   "cell_type": "code",
   "execution_count": 1,
   "id": "70ea78f6",
   "metadata": {},
   "outputs": [
    {
     "name": "stdout",
     "output_type": "stream",
     "text": [
      "24\n"
     ]
    }
   ],
   "source": [
    "## Maximum subarray sum in the array\n",
    "\n",
    "def maxSum(arr,n,k):\n",
    "    if (n<k):\n",
    "        print(\"Invalid\")\n",
    "        return -1\n",
    "    \n",
    "    res = 0\n",
    "    for i in range(k):\n",
    "        res+=arr[i]\n",
    "        \n",
    "    curr_sum = res\n",
    "    for i in range(k,n):\n",
    "        curr_sum += arr[i]-arr[i-k]\n",
    "        res = max(res,curr_sum)\n",
    "        \n",
    "    return res\n",
    "arr = [1,4,2,10,2,3,1,0,20]\n",
    "k=4\n",
    "n = len(arr)\n",
    "print(maxSum(arr,n,k))\n",
    "        "
   ]
  },
  {
   "cell_type": "code",
   "execution_count": 8,
   "id": "00e91927",
   "metadata": {},
   "outputs": [
    {
     "name": "stdout",
     "output_type": "stream",
     "text": [
      "5\n"
     ]
    }
   ],
   "source": [
    "### Count of longest odd and even subarray\n",
    "\n",
    "def longestEvenOddSubarray(arr,n):\n",
    "    longest = 1\n",
    "    cnt = 1\n",
    "    for i in range(n-1):\n",
    "        if((arr[i]+arr[i+1])%2==1):\n",
    "            cnt=cnt+1\n",
    "        else:\n",
    "            longest = max(longest,cnt)\n",
    "            cnt=1\n",
    "        \n",
    "    if(longest==1):\n",
    "        return 0\n",
    "    \n",
    "    return max(cnt,longest)\n",
    "\n",
    "arr = [1,2,3,4,5,7,8]\n",
    "n = len(arr)\n",
    "print(longestEvenOddSubarray(arr,n))"
   ]
  },
  {
   "cell_type": "code",
   "execution_count": 10,
   "id": "7573b08a",
   "metadata": {},
   "outputs": [
    {
     "name": "stdout",
     "output_type": "stream",
     "text": [
      "Maximum circular sum is 31\n"
     ]
    }
   ],
   "source": [
    "def maxCircularSum(arr,n):\n",
    "    if(n==1):\n",
    "        return a[0]\n",
    "    \n",
    "    sum=0\n",
    "    for i in range(n):\n",
    "        sum+=a[i]\n",
    "        \n",
    "    curr_max = a[0]\n",
    "    max_so_far = a[0]\n",
    "    curr_min = a[0]\n",
    "    min_so_far = a[0]\n",
    "    \n",
    "    for i in range(1,n):\n",
    "        curr_max = max(curr_max+a[i],a[i])\n",
    "        max_so_far = max(max_so_far,curr_max)\n",
    "        \n",
    "        curr_min = min(curr_min+a[i],a[i])\n",
    "        min_so_far = min(min_so_far,curr_min)\n",
    "        \n",
    "    if(min_so_far==sum):\n",
    "        return max_so_far\n",
    "    \n",
    "    return max(max_so_far,sum-min_so_far)\n",
    "\n",
    "a = [11, 10, -20, 5, -3, -5, 8, -13, 10]\n",
    "n = len(a)\n",
    "print(\"Maximum circular sum is\", maxCircularSum(a, n))\n"
   ]
  },
  {
   "cell_type": "code",
   "execution_count": 1,
   "id": "221a801d",
   "metadata": {},
   "outputs": [
    {
     "name": "stdout",
     "output_type": "stream",
     "text": [
      "1\n"
     ]
    }
   ],
   "source": [
    "### Majority of the candiate\n",
    "\n",
    "\n",
    "def findMajority(arr,n):\n",
    "    maxcount = 0\n",
    "    index=-1\n",
    "    for i in range(n):\n",
    "        count = 0\n",
    "        for j in range(n):\n",
    "            if(arr[i]==arr[j]):\n",
    "                count+=1\n",
    "                \n",
    "        if(count>maxcount):\n",
    "            maxcount=count\n",
    "            index=i\n",
    "            \n",
    "    if(maxcount>n//2):\n",
    "        print(arr[index])\n",
    "    else:\n",
    "        print(\"No Majority Element\")\n",
    "        \n",
    "arr = [1,1,2,1,3,5,1]\n",
    "n=len(arr)\n",
    "findMajority(arr,n)            "
   ]
  },
  {
   "cell_type": "code",
   "execution_count": 7,
   "id": "8bfc4776",
   "metadata": {},
   "outputs": [
    {
     "name": "stdout",
     "output_type": "stream",
     "text": [
      "1\n"
     ]
    }
   ],
   "source": [
    "def findCandiate(arr):\n",
    "    maj_index= 0\n",
    "    count = 1\n",
    "    for i in range(len(arr)):\n",
    "        if arr[maj_index]!=arr[i]:\n",
    "            count+=1\n",
    "        else:\n",
    "            count-=1\n",
    "        if count==0:\n",
    "            maj_index=i\n",
    "            count=1\n",
    "            \n",
    "    return arr[maj_index]\n",
    "\n",
    "\n",
    "def isMajority(arr,cand):\n",
    "    count=0\n",
    "    for i in range(len(arr)):\n",
    "        if(arr[i]==cand):\n",
    "            count+=1\n",
    "    if count>len(arr)/2:\n",
    "        return True\n",
    "    else:\n",
    "        return False\n",
    "    \n",
    "def printMajority(arr):\n",
    "    cand = findCandiate(arr)\n",
    "    if isMajority(arr,cand)==True:\n",
    "        print(cand)\n",
    "    else:\n",
    "        print(\"No Majority Element\")\n",
    "        \n",
    "arr = [1,1,2,1,3,5,1]\n",
    "printMajority(arr)"
   ]
  },
  {
   "cell_type": "code",
   "execution_count": 2,
   "id": "8d7e551b",
   "metadata": {},
   "outputs": [
    {
     "name": "stdout",
     "output_type": "stream",
     "text": [
      "Index = 2\n"
     ]
    }
   ],
   "source": [
    "### Search an infinite sized array\n",
    "\n",
    "def indexofFirstOne(arr,low,high):\n",
    "    while(low<=high):\n",
    "        mid = (low+high)//2\n",
    "        \n",
    "        if(arr[mid]==1 and(mid==0 or arr[mid]==0)):\n",
    "            break\n",
    "            \n",
    "        elif(arr[mid]==1):\n",
    "            high=mid-1\n",
    "        else:\n",
    "            low=mid+1\n",
    "    return mid\n",
    "\n",
    "def posofFirstOne(arr):\n",
    "    l=0\n",
    "    h=1\n",
    "    \n",
    "    while(arr[h]==0):\n",
    "        l=h\n",
    "        h=2*h\n",
    "        \n",
    "    return indexofFirstOne(arr,l,h)\n",
    "\n",
    "arr = [0,0,1,1,1,1]\n",
    "print(\"Index =\",posofFirstOne(arr))"
   ]
  },
  {
   "cell_type": "code",
   "execution_count": 3,
   "id": "d8508bab",
   "metadata": {},
   "outputs": [
    {
     "name": "stdout",
     "output_type": "stream",
     "text": [
      "Index if a peak point is  2\n"
     ]
    }
   ],
   "source": [
    "### Finding the peak element in the array\n",
    "\n",
    "def findPeak(arr,n):\n",
    "    if(n==1):\n",
    "        return 0\n",
    "    if(arr[0]>=arr[1]):\n",
    "        return 0\n",
    "    if(arr[n-1]>=arr[n-2]):\n",
    "        return n-1\n",
    "    \n",
    "    for i in range(1,n-1):\n",
    "        if(arr[i]>arr[i-1] and arr[i]>arr[i+1]):\n",
    "            return i\n",
    "        \n",
    "        \n",
    "arr = [1,3,20,4,1,0]\n",
    "n=len(arr)\n",
    "print(\"Index if a peak point is \", findPeak(arr,n))"
   ]
  },
  {
   "cell_type": "code",
   "execution_count": null,
   "id": "43343236",
   "metadata": {},
   "outputs": [],
   "source": []
  }
 ],
 "metadata": {
  "kernelspec": {
   "display_name": "Python 3 (ipykernel)",
   "language": "python",
   "name": "python3"
  },
  "language_info": {
   "codemirror_mode": {
    "name": "ipython",
    "version": 3
   },
   "file_extension": ".py",
   "mimetype": "text/x-python",
   "name": "python",
   "nbconvert_exporter": "python",
   "pygments_lexer": "ipython3",
   "version": "3.9.13"
  }
 },
 "nbformat": 4,
 "nbformat_minor": 5
}
