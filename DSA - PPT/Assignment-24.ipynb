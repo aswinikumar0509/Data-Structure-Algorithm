{
 "cells": [
  {
   "cell_type": "markdown",
   "id": "1f1e4bc6",
   "metadata": {},
   "source": [
    " 1. **Roman to Integer**\n",
    "\n",
    "Roman numerals are represented by seven different symbols: `I`, `V`, `X`, `L`, `C`, `D` and `M`.\n",
    "\n",
    "```\n",
    "SymbolValue\n",
    "I             1\n",
    "V             5\n",
    "X             10\n",
    "L             50\n",
    "C             100\n",
    "D             500\n",
    "M             1000\n",
    "```\n",
    "\n",
    "For example, `2` is written as `II` in Roman numeral, just two ones added together. `12` is written as `XII`, which is simply `X + II`. The number `27` is written as `XXVII`, which is `XX + V + II`.\n",
    "\n",
    "Roman numerals are usually written largest to smallest from left to right. However, the numeral for four is not `IIII`. Instead, the number four is written as `IV`. Because the one is before the five we subtract it making four. The same principle applies to the number nine, which is written as `IX`. There are six instances where subtraction is used:\n",
    "\n",
    "- `I` can be placed before `V` (5) and `X` (10) to make 4 and 9.\n",
    "- `X` can be placed before `L` (50) and `C` (100) to make 40 and 90.\n",
    "- `C` can be placed before `D` (500) and `M` (1000) to make 400 and 900.\n",
    "\n",
    "Given a roman numeral, convert it to an integer.\n",
    "\n",
    "</aside>"
   ]
  },
  {
   "cell_type": "code",
   "execution_count": 1,
   "id": "12d50f04",
   "metadata": {},
   "outputs": [
    {
     "data": {
      "text/plain": [
       "3"
      ]
     },
     "execution_count": 1,
     "metadata": {},
     "output_type": "execute_result"
    }
   ],
   "source": [
    "def romanToInt(s) -> int:\n",
    "    # Dictionary of roman numerals\n",
    "    roman_map = {'I': 1, 'V': 5, 'X': 10, 'L': 50, 'C': 100, 'D': 500, 'M': 1000}\n",
    "    # Length of the given string\n",
    "    n = len(s)\n",
    "    # This variable will store result\n",
    "    num = roman_map[s[n - 1]]\n",
    "    # Loop for each character from right to left\n",
    "    for i in range(n - 2, -1, -1):\n",
    "        # Check if the character at right of current character is bigger or smaller\n",
    "        if roman_map[s[i]] >= roman_map[s[i + 1]]:\n",
    "            num += roman_map[s[i]]\n",
    "        else:\n",
    "            num -= roman_map[s[i]]\n",
    "    return num\n",
    "\n",
    "s = \"III\"\n",
    "romanToInt(s)"
   ]
  },
  {
   "cell_type": "markdown",
   "id": "c51c97f0",
   "metadata": {},
   "source": [
    "2. **Longest Substring Without Repeating Characters**\n",
    "\n",
    "Given a string `s`, find the length of the **longest substring** without repeating characters.\n",
    "\n",
    "</aside>"
   ]
  },
  {
   "cell_type": "code",
   "execution_count": 2,
   "id": "87589291",
   "metadata": {},
   "outputs": [
    {
     "data": {
      "text/plain": [
       "3"
      ]
     },
     "execution_count": 2,
     "metadata": {},
     "output_type": "execute_result"
    }
   ],
   "source": [
    "def lengthOfLongestSubstring(s)-> int:\n",
    "    if len(s) == 1: return 1\n",
    "\n",
    "\n",
    "    count, s_result = 0, ''\n",
    "\n",
    "    for i in s:\n",
    "        if i not in s_result:\n",
    "            s_result += i\n",
    "        else:\n",
    "            s_result = s_result[s_result.index(i)+1:] + i\n",
    "\n",
    "        if len(s_result) > count:\n",
    "            count = len(s_result)\n",
    "        \n",
    "    return count\n",
    "\n",
    "s = \"abcabcbb\"\n",
    "lengthOfLongestSubstring(s)\n",
    "    "
   ]
  },
  {
   "cell_type": "markdown",
   "id": "0ec0fd7d",
   "metadata": {},
   "source": [
    "3. **Majority Element**\n",
    "\n",
    "Given an array `nums` of size `n`, return *the majority element*.\n",
    "\n",
    "The majority element is the element that appears more than `⌊n / 2⌋` times. You may assume that the majority element always exists in the array.\n",
    "\n",
    "</aside>"
   ]
  },
  {
   "cell_type": "code",
   "execution_count": 3,
   "id": "dcabf2cf",
   "metadata": {},
   "outputs": [
    {
     "data": {
      "text/plain": [
       "3"
      ]
     },
     "execution_count": 3,
     "metadata": {},
     "output_type": "execute_result"
    }
   ],
   "source": [
    "def majorityElement(nums) -> int:\n",
    "    candidate = -1\n",
    "    count = 0\n",
    "        \n",
    "        # Find potential majority element\n",
    "    for num in nums:\n",
    "        if count == 0:\n",
    "            candidate = num\n",
    "        if num == candidate:\n",
    "            count += 1\n",
    "        else:\n",
    "            count -= 1\n",
    "        \n",
    "        # Check if the candidate is the majority element\n",
    "    count = 0\n",
    "    for num in nums:\n",
    "        if num == candidate:\n",
    "            count += 1\n",
    "    if count > len(nums) // 2:\n",
    "        return candidate\n",
    "    else:\n",
    "        return -1\n",
    "    \n",
    "nums = [3,2,3]\n",
    "majorityElement(nums)\n",
    "    \n"
   ]
  },
  {
   "cell_type": "markdown",
   "id": "fee16054",
   "metadata": {},
   "source": [
    "4. **Group Anagram**\n",
    "\n",
    "Given an array of strings `strs`, group **the anagrams** together. You can return the answer in **any order**.\n",
    "\n",
    "An **Anagram** is a word or phrase formed by rearranging the letters of a different word or phrase, typically using all the original letters exactly once.\n",
    "\n",
    "</aside>"
   ]
  },
  {
   "cell_type": "code",
   "execution_count": 6,
   "id": "c1ab138f",
   "metadata": {},
   "outputs": [
    {
     "name": "stdout",
     "output_type": "stream",
     "text": [
      "cat tac act dog god "
     ]
    }
   ],
   "source": [
    "from typing import List, Tuple\n",
    "def create_duplicate_array(wordAr: List[str]) -> List[Tuple[str, int]]:\n",
    "    dup_array = []\n",
    "    # Iterate through the original list of words\n",
    "    for i, word in enumerate(wordAr):\n",
    "        # Append each word along with its index in the original list to the duplicate array\n",
    "        dup_array.append((word, i))\n",
    "    return dup_array\n",
    " \n",
    "# Function to print out all the words that are anagrams of each other next to each other\n",
    "def print_anagrams_together(wordArr: List[str]):\n",
    "    # Create a duplicate array containing the words and their indices\n",
    "    dup_array = create_duplicate_array(wordArr)\n",
    " \n",
    "    # Iterate through the duplicate array and sort each word alphabetically\n",
    "    for i in range(len(wordArr)):\n",
    "        dup_array[i] = (sorted(dup_array[i][0]), dup_array[i][1])\n",
    "    # Sort the duplicate array based on the sorted words\n",
    "    dup_array.sort()\n",
    " \n",
    "    # Iterate through the sorted duplicate array and print out the original words using their indices\n",
    "    for i in range(len(wordArr)):\n",
    "        print(wordArr[dup_array[i][1]], end=' ')\n",
    " \n",
    "# Test the function with an example list of words\n",
    "wordArr = [\"cat\", \"dog\", \"tac\", \"god\", \"act\"]\n",
    "print_anagrams_together(wordArr)"
   ]
  },
  {
   "cell_type": "markdown",
   "id": "2ce96339",
   "metadata": {},
   "source": [
    "5. **Ugly Numbers**\n",
    "\n",
    "An **ugly number** is a positive integer whose prime factors are limited to `2`, `3`, and `5`.\n",
    "\n",
    "Given an integer `n`, return *the* `nth` ***ugly number***.\n",
    "\n",
    "</aside>"
   ]
  },
  {
   "cell_type": "code",
   "execution_count": 7,
   "id": "e5577741",
   "metadata": {},
   "outputs": [
    {
     "name": "stdout",
     "output_type": "stream",
     "text": [
      "150th ugly no. is  5832\n"
     ]
    }
   ],
   "source": [
    "def maxDivide(a, b):\n",
    "    while a % b == 0:\n",
    "        a = a / b\n",
    "    return a\n",
    " \n",
    "# Function to check if a number\n",
    "# is ugly or not\n",
    "def isUgly(no):\n",
    "    no = maxDivide(no, 2)\n",
    "    no = maxDivide(no, 3)\n",
    "    no = maxDivide(no, 5)\n",
    "    return 1 if no == 1 else 0\n",
    " \n",
    "# Function to get the nth ugly number\n",
    "def getNthUglyNo(n):\n",
    "    i = 1\n",
    "     \n",
    "    # ugly number count\n",
    "    count = 1 \n",
    " \n",
    "    # Check for all integers until\n",
    "    # ugly count becomes n\n",
    "    while n > count:\n",
    "        i += 1\n",
    "        if isUgly(i):\n",
    "            count += 1\n",
    "    return i\n",
    " \n",
    " \n",
    "# Driver code\n",
    "no = getNthUglyNo(150)\n",
    "print(\"150th ugly no. is \", no)"
   ]
  },
  {
   "cell_type": "markdown",
   "id": "b51818c7",
   "metadata": {},
   "source": [
    "6. **Top K Frequent Words**\n",
    "\n",
    "Given an array of strings `words` and an integer `k`, return *the* `k` *most frequent strings*.\n",
    "\n",
    "Return the answer **sorted** by **the frequency** from highest to lowest. Sort the words with the same frequency by their **lexicographical order**.\n",
    "\n",
    "</aside>"
   ]
  },
  {
   "cell_type": "code",
   "execution_count": 9,
   "id": "ddc0a334",
   "metadata": {},
   "outputs": [
    {
     "data": {
      "text/plain": [
       "('i', 'love')"
      ]
     },
     "execution_count": 9,
     "metadata": {},
     "output_type": "execute_result"
    }
   ],
   "source": [
    "from collections import Counter\n",
    "def topKFrequent(words, k) -> List[str]:\n",
    "    return next(zip(*Counter(sorted(words)).most_common(k)))\n",
    "\n",
    "words = [\"i\",\"love\",\"leetcode\",\"i\",\"love\",\"coding\"]\n",
    "k = 2\n",
    "topKFrequent(words,k)\n"
   ]
  },
  {
   "cell_type": "markdown",
   "id": "47dfa07e",
   "metadata": {},
   "source": [
    "7. **Sliding Window Maximum**\n",
    "\n",
    "You are given an array of integers `nums`, there is a sliding window of size `k` which is moving from the very left of the array to the very right. You can only see the `k` numbers in the window. Each time the sliding window moves right by one position.\n",
    "\n",
    "Return *the max sliding window*.\n",
    "\n",
    "</aside>"
   ]
  },
  {
   "cell_type": "code",
   "execution_count": 10,
   "id": "142dd76a",
   "metadata": {},
   "outputs": [
    {
     "name": "stdout",
     "output_type": "stream",
     "text": [
      "3 4 5 6 7 8 9 10 "
     ]
    }
   ],
   "source": [
    "def printMax(arr, N, K):\n",
    "    max = 0\n",
    " \n",
    "    for i in range(N - K + 1):\n",
    "        max = arr[i]\n",
    "        for j in range(1, K):\n",
    "            if arr[i + j] > max:\n",
    "                max = arr[i + j]\n",
    "        print(str(max) + \" \", end=\"\")\n",
    " \n",
    " \n",
    "# Driver's code\n",
    "if __name__ == \"__main__\":\n",
    "    arr = [1, 2, 3, 4, 5, 6, 7, 8, 9, 10]\n",
    "    N = len(arr)\n",
    "    K = 3\n",
    "     \n",
    "    # Function call\n",
    "    printMax(arr, N, K)"
   ]
  },
  {
   "cell_type": "markdown",
   "id": "58577f97",
   "metadata": {},
   "source": [
    "8. **Find K Closest Elements**\n",
    "\n",
    "Given a **sorted** integer array `arr`, two integers `k` and `x`, return the `k` closest integers to `x` in the array. The result should also be sorted in ascending order.\n",
    "\n",
    "An integer `a` is closer to `x` than an integer `b` if:\n",
    "\n",
    "- `|a - x| < |b - x|`, or\n",
    "- `|a - x| == |b - x|` and `a < b`\n",
    "\n",
    "**Example 1:**\n",
    "\n",
    "</aside>"
   ]
  },
  {
   "cell_type": "code",
   "execution_count": 11,
   "id": "09f932d2",
   "metadata": {},
   "outputs": [
    {
     "name": "stdout",
     "output_type": "stream",
     "text": [
      "39 30 42 45 "
     ]
    }
   ],
   "source": [
    "def findCrossOver(arr, low, high, x) :\n",
    " \n",
    "    # Base cases\n",
    "    if (arr[high] <= x) : # x is greater than all\n",
    "        return high\n",
    "         \n",
    "    if (arr[low] > x) : # x is smaller than all\n",
    "        return low\n",
    "     \n",
    "    # Find the middle point\n",
    "    mid = (low + high) // 2 # low + (high - low)// 2\n",
    "\n",
    "    if (arr[mid] <= x and arr[mid + 1] > x) :\n",
    "        return mid\n",
    "     \n",
    "\n",
    "    if(arr[mid] < x) :\n",
    "        return findCrossOver(arr, mid + 1, high, x)\n",
    "     \n",
    "    return findCrossOver(arr, low, mid - 1, x)\n",
    " \n",
    "\n",
    "def printKclosest(arr, x, k, n) :\n",
    "     \n",
    "    # Find the crossover point\n",
    "    l = findCrossOver(arr, 0, n - 1, x)\n",
    "    r = l + 1 \n",
    "    count = 0 \n",
    "\n",
    "    if (arr[l] == x) :\n",
    "        l -= 1\n",
    " \n",
    "    # Compare elements on left and right of crossover\n",
    "    # point to find the k closest elements\n",
    "    while (l >= 0 and r < n and count < k) :\n",
    "         \n",
    "        if (x - arr[l] < arr[r] - x) :\n",
    "            print(arr[l], end = \" \")\n",
    "            l -= 1\n",
    "        else :\n",
    "            print(arr[r], end = \" \")\n",
    "            r += 1\n",
    "        count += 1\n",
    "\n",
    "    while (count < k and l >= 0) :\n",
    "        print(arr[l], end = \" \")\n",
    "        l -= 1\n",
    "        count += 1\n",
    "\n",
    "    while (count < k and r < n) :\n",
    "        print(arr[r], end = \" \")\n",
    "        r += 1\n",
    "        count += 1\n",
    " \n",
    "# Driver Code\n",
    "if __name__ == \"__main__\" :\n",
    " \n",
    "    arr =[12, 16, 22, 30, 35, 39, 42,\n",
    "              45, 48, 50, 53, 55, 56]\n",
    "                 \n",
    "    n = len(arr)\n",
    "    x = 35\n",
    "    k = 4\n",
    "     \n",
    "    printKclosest(arr, x, 4, n)"
   ]
  },
  {
   "cell_type": "code",
   "execution_count": 12,
   "id": "2afa52ed",
   "metadata": {},
   "outputs": [
    {
     "name": "stdout",
     "output_type": "stream",
     "text": [
      "[1, 2, 3, 4]\n"
     ]
    }
   ],
   "source": [
    "x = [1, 2, 3]\n",
    "y = x\n",
    "x.append(4)\n",
    "print(y)"
   ]
  },
  {
   "cell_type": "code",
   "execution_count": 13,
   "id": "e862c64c",
   "metadata": {},
   "outputs": [
    {
     "name": "stdout",
     "output_type": "stream",
     "text": [
      "2\n"
     ]
    }
   ],
   "source": [
    "def generator_x():\n",
    "\n",
    " \n",
    "\n",
    "   num = 1\n",
    "\n",
    " \n",
    "\n",
    "   while num < 5:\n",
    "\n",
    "       if num % 2 == 0:\n",
    "\n",
    "           yield num\n",
    "\n",
    " \n",
    "\n",
    "       num += 1\n",
    "\n",
    " \n",
    "\n",
    "print(next(generator_x()))"
   ]
  },
  {
   "cell_type": "code",
   "execution_count": 14,
   "id": "b4a1488b",
   "metadata": {},
   "outputs": [
    {
     "data": {
      "text/plain": [
       "[-3, 0, 3, 6]"
      ]
     },
     "execution_count": 14,
     "metadata": {},
     "output_type": "execute_result"
    }
   ],
   "source": [
    "list(range(-3,9,3))"
   ]
  },
  {
   "cell_type": "code",
   "execution_count": 15,
   "id": "ab8308f4",
   "metadata": {},
   "outputs": [
    {
     "name": "stdout",
     "output_type": "stream",
     "text": [
      "2 3 -3 3.12\n"
     ]
    }
   ],
   "source": [
    "from math import *\n",
    "a = 2.13\n",
    "b = 3.7777\n",
    "c = -3.12\n",
    "print(int(a), floor(b), ceil(c), fabs(c)) "
   ]
  },
  {
   "cell_type": "code",
   "execution_count": 16,
   "id": "763aea8c",
   "metadata": {},
   "outputs": [
    {
     "name": "stdout",
     "output_type": "stream",
     "text": [
      "15\n"
     ]
    }
   ],
   "source": [
    "def outer_func(x):\n",
    "    def inner_func(y):\n",
    "        return x + y\n",
    "    return inner_func\n",
    "\n",
    "result = outer_func(10)(5)\n",
    "print(result)"
   ]
  },
  {
   "cell_type": "code",
   "execution_count": 17,
   "id": "5f8e18fb",
   "metadata": {},
   "outputs": [
    {
     "ename": "SyntaxError",
     "evalue": "invalid character '‘' (U+2018) (3398129905.py, line 3)",
     "output_type": "error",
     "traceback": [
      "\u001b[1;36m  File \u001b[1;32m\"C:\\Users\\aswin\\AppData\\Local\\Temp\\ipykernel_33368\\3398129905.py\"\u001b[1;36m, line \u001b[1;32m3\u001b[0m\n\u001b[1;33m    print(re.search(‘aa?cb?’,’aacb aaccbd’).group())\u001b[0m\n\u001b[1;37m                    ^\u001b[0m\n\u001b[1;31mSyntaxError\u001b[0m\u001b[1;31m:\u001b[0m invalid character '‘' (U+2018)\n"
     ]
    }
   ],
   "source": [
    "import re\n",
    "\n",
    "print(re.search(‘aa?cb?’,’aacb aaccbd’).group())"
   ]
  },
  {
   "cell_type": "code",
   "execution_count": 18,
   "id": "a97438ee",
   "metadata": {},
   "outputs": [
    {
     "name": "stdout",
     "output_type": "stream",
     "text": [
      "[4, 10, 18]\n"
     ]
    }
   ],
   "source": [
    "x = [1, 2, 3]\n",
    "y = [4, 5, 6]\n",
    "result = list(map(lambda a, b: a * b, x, y))\n",
    "print(result)"
   ]
  },
  {
   "cell_type": "code",
   "execution_count": 19,
   "id": "401eab44",
   "metadata": {},
   "outputs": [
    {
     "ename": "SyntaxError",
     "evalue": "invalid character '‘' (U+2018) (4171895822.py, line 1)",
     "output_type": "error",
     "traceback": [
      "\u001b[1;36m  File \u001b[1;32m\"C:\\Users\\aswin\\AppData\\Local\\Temp\\ipykernel_33368\\4171895822.py\"\u001b[1;36m, line \u001b[1;32m1\u001b[0m\n\u001b[1;33m    for i in zip(‘Python’,{1,2,3,4,5,6}):\u001b[0m\n\u001b[1;37m                 ^\u001b[0m\n\u001b[1;31mSyntaxError\u001b[0m\u001b[1;31m:\u001b[0m invalid character '‘' (U+2018)\n"
     ]
    }
   ],
   "source": [
    "for i in zip(‘Python’,{1,2,3,4,5,6}):\n",
    "    print(i,end=(‘ ‘))"
   ]
  },
  {
   "cell_type": "code",
   "execution_count": 20,
   "id": "567b8c89",
   "metadata": {},
   "outputs": [
    {
     "name": "stdout",
     "output_type": "stream",
     "text": [
      "3\n"
     ]
    }
   ],
   "source": [
    "def my_func():\n",
    "    try:\n",
    "        return 1\n",
    "    except:\n",
    "        return 2\n",
    "    finally:\n",
    "        return 3\n",
    "\n",
    "result = my_func()\n",
    "print(result)"
   ]
  },
  {
   "cell_type": "code",
   "execution_count": 21,
   "id": "42ca0d05",
   "metadata": {},
   "outputs": [
    {
     "name": "stdout",
     "output_type": "stream",
     "text": [
      "10\n"
     ]
    }
   ],
   "source": [
    "x = 10\n",
    "\n",
    "def foo():\n",
    "    x = 5\n",
    "    x += 10\n",
    "\n",
    "foo()\n",
    "print(x)"
   ]
  },
  {
   "cell_type": "code",
   "execution_count": 22,
   "id": "6849a8a6",
   "metadata": {},
   "outputs": [
    {
     "name": "stdout",
     "output_type": "stream",
     "text": [
      "<class 'int'>\n"
     ]
    }
   ],
   "source": [
    "var = (4)\n",
    "print(type(var))"
   ]
  },
  {
   "cell_type": "code",
   "execution_count": 24,
   "id": "2dfc1172",
   "metadata": {},
   "outputs": [
    {
     "name": "stdout",
     "output_type": "stream",
     "text": [
      "43210"
     ]
    }
   ],
   "source": [
    "n=5\n",
    "while(n):\n",
    "    n=n-1\n",
    "    print(n, end=\"\")"
   ]
  },
  {
   "cell_type": "code",
   "execution_count": 25,
   "id": "895bd07f",
   "metadata": {},
   "outputs": [
    {
     "ename": "SyntaxError",
     "evalue": "invalid character '“' (U+201C) (3653477037.py, line 3)",
     "output_type": "error",
     "traceback": [
      "\u001b[1;36m  File \u001b[1;32m\"C:\\Users\\aswin\\AppData\\Local\\Temp\\ipykernel_33368\\3653477037.py\"\u001b[1;36m, line \u001b[1;32m3\u001b[0m\n\u001b[1;33m    name = “String 1”\u001b[0m\n\u001b[1;37m           ^\u001b[0m\n\u001b[1;31mSyntaxError\u001b[0m\u001b[1;31m:\u001b[0m invalid character '“' (U+201C)\n"
     ]
    }
   ],
   "source": [
    "class  SuperClass1:\n",
    "\n",
    "   name = “String 1”\n",
    "\n",
    " \n",
    "\n",
    "class SuperClass2:\n",
    "\n",
    "   name = “String 2”\n",
    "\n",
    " \n",
    "\n",
    "class BaseClass(SuperClass1, SuperClass2):\n",
    "\n",
    "   pass\n",
    "\n",
    " \n",
    "\n",
    "print(BaseClass.name)"
   ]
  },
  {
   "cell_type": "code",
   "execution_count": 26,
   "id": "3f04f8f7",
   "metadata": {},
   "outputs": [
    {
     "name": "stdout",
     "output_type": "stream",
     "text": [
      "8\n"
     ]
    }
   ],
   "source": [
    "var=[[1,2,3,4],[5,6,7,8],[9,10,11,12]]\n",
    "print(var[1][-1])"
   ]
  },
  {
   "cell_type": "code",
   "execution_count": 33,
   "id": "550689b4",
   "metadata": {},
   "outputs": [
    {
     "ename": "AttributeError",
     "evalue": "'tuple' object has no attribute 'sort'",
     "output_type": "error",
     "traceback": [
      "\u001b[1;31m---------------------------------------------------------------------------\u001b[0m",
      "\u001b[1;31mAttributeError\u001b[0m                            Traceback (most recent call last)",
      "\u001b[1;32m~\\AppData\\Local\\Temp\\ipykernel_33368\\3820318450.py\u001b[0m in \u001b[0;36m<module>\u001b[1;34m\u001b[0m\n\u001b[0;32m      5\u001b[0m \u001b[1;31m#seq2.count(7)\u001b[0m\u001b[1;33m\u001b[0m\u001b[1;33m\u001b[0m\u001b[0m\n\u001b[0;32m      6\u001b[0m \u001b[1;31m#seq1.append(7)\u001b[0m\u001b[1;33m\u001b[0m\u001b[1;33m\u001b[0m\u001b[0m\n\u001b[1;32m----> 7\u001b[1;33m \u001b[0mseq2\u001b[0m\u001b[1;33m.\u001b[0m\u001b[0msort\u001b[0m\u001b[1;33m(\u001b[0m\u001b[1;33m)\u001b[0m\u001b[1;33m\u001b[0m\u001b[1;33m\u001b[0m\u001b[0m\n\u001b[0m",
      "\u001b[1;31mAttributeError\u001b[0m: 'tuple' object has no attribute 'sort'"
     ]
    }
   ],
   "source": [
    "seq1=[1,2,3,4,5]\n",
    "seq2=(1,2,3,4,5)\n",
    "\n",
    "#seq1.index(3)\n",
    "#seq2.count(7)\n",
    "#seq1.append(7)\n",
    "seq2.sort()"
   ]
  },
  {
   "cell_type": "code",
   "execution_count": 34,
   "id": "74d14fc9",
   "metadata": {},
   "outputs": [
    {
     "ename": "SyntaxError",
     "evalue": "non-default argument follows default argument (1050328770.py, line 1)",
     "output_type": "error",
     "traceback": [
      "\u001b[1;36m  File \u001b[1;32m\"C:\\Users\\aswin\\AppData\\Local\\Temp\\ipykernel_33368\\1050328770.py\"\u001b[1;36m, line \u001b[1;32m1\u001b[0m\n\u001b[1;33m    def fun(x,y=0,z):\u001b[0m\n\u001b[1;37m                   ^\u001b[0m\n\u001b[1;31mSyntaxError\u001b[0m\u001b[1;31m:\u001b[0m non-default argument follows default argument\n"
     ]
    }
   ],
   "source": [
    "def fun(x,y=0,z):\n",
    "    print(x-y+z)\n",
    "fun(1,23)"
   ]
  },
  {
   "cell_type": "code",
   "execution_count": 35,
   "id": "bbf067f3",
   "metadata": {},
   "outputs": [
    {
     "ename": "SyntaxError",
     "evalue": "non-default argument follows default argument (1050328770.py, line 1)",
     "output_type": "error",
     "traceback": [
      "\u001b[1;36m  File \u001b[1;32m\"C:\\Users\\aswin\\AppData\\Local\\Temp\\ipykernel_33368\\1050328770.py\"\u001b[1;36m, line \u001b[1;32m1\u001b[0m\n\u001b[1;33m    def fun(x,y=0,z):\u001b[0m\n\u001b[1;37m                   ^\u001b[0m\n\u001b[1;31mSyntaxError\u001b[0m\u001b[1;31m:\u001b[0m non-default argument follows default argument\n"
     ]
    }
   ],
   "source": [
    "def fun(x,y=0,z):\n",
    "    print(x-y+z)\n",
    "fun(1,23)"
   ]
  },
  {
   "cell_type": "code",
   "execution_count": 36,
   "id": "d19f49d9",
   "metadata": {},
   "outputs": [
    {
     "name": "stdout",
     "output_type": "stream",
     "text": [
      "9\n"
     ]
    }
   ],
   "source": [
    "class Cat: \n",
    "\n",
    "   def __init__(self, age):\n",
    "\n",
    "       self.age = age\n",
    "\n",
    " \n",
    "\n",
    "   def set_age(self, num):\n",
    "\n",
    "       self.age = num\n",
    "\n",
    " \n",
    "\n",
    "   def get_age(self):\n",
    "\n",
    "       return self.age\n",
    "\n",
    " \n",
    "\n",
    "cat1 = Cat(2)\n",
    "\n",
    "cat2 = Cat(4)\n",
    "\n",
    "cat1.set_age(cat2.get_age())\n",
    "\n",
    "cat2.set_age(5)\n",
    "\n",
    "cat3 = Cat(cat1.get_age() + cat2.get_age())\n",
    "\n",
    "print(cat3.get_age())"
   ]
  },
  {
   "cell_type": "code",
   "execution_count": 37,
   "id": "f13027ca",
   "metadata": {},
   "outputs": [
    {
     "ename": "AttributeError",
     "evalue": "'int' object has no attribute 'isdigit'",
     "output_type": "error",
     "traceback": [
      "\u001b[1;31m---------------------------------------------------------------------------\u001b[0m",
      "\u001b[1;31mAttributeError\u001b[0m                            Traceback (most recent call last)",
      "\u001b[1;32m~\\AppData\\Local\\Temp\\ipykernel_33368\\2498805251.py\u001b[0m in \u001b[0;36m<module>\u001b[1;34m\u001b[0m\n\u001b[0;32m      1\u001b[0m \u001b[0ma\u001b[0m\u001b[1;33m=\u001b[0m\u001b[1;36m1234\u001b[0m\u001b[1;33m\u001b[0m\u001b[1;33m\u001b[0m\u001b[0m\n\u001b[0;32m      2\u001b[0m \u001b[1;33m\u001b[0m\u001b[0m\n\u001b[1;32m----> 3\u001b[1;33m \u001b[0ma\u001b[0m\u001b[1;33m.\u001b[0m\u001b[0misdigit\u001b[0m\u001b[1;33m(\u001b[0m\u001b[1;33m)\u001b[0m\u001b[1;33m\u001b[0m\u001b[1;33m\u001b[0m\u001b[0m\n\u001b[0m",
      "\u001b[1;31mAttributeError\u001b[0m: 'int' object has no attribute 'isdigit'"
     ]
    }
   ],
   "source": [
    "a=1234\n",
    "\n",
    "a.isdigit()"
   ]
  },
  {
   "cell_type": "code",
   "execution_count": 38,
   "id": "efb81fba",
   "metadata": {},
   "outputs": [
    {
     "ename": "SyntaxError",
     "evalue": "invalid character '’' (U+2019) (47836487.py, line 1)",
     "output_type": "error",
     "traceback": [
      "\u001b[1;36m  File \u001b[1;32m\"C:\\Users\\aswin\\AppData\\Local\\Temp\\ipykernel_33368\\47836487.py\"\u001b[1;36m, line \u001b[1;32m1\u001b[0m\n\u001b[1;33m    dic={1:’a’,2:’e’,3:’i’,4:’o’,5:’u’}\u001b[0m\n\u001b[1;37m           ^\u001b[0m\n\u001b[1;31mSyntaxError\u001b[0m\u001b[1;31m:\u001b[0m invalid character '’' (U+2019)\n"
     ]
    }
   ],
   "source": [
    "dic={1:’a’,2:’e’,3:’i’,4:’o’,5:’u’}\n",
    "type(dic.keys())"
   ]
  },
  {
   "cell_type": "code",
   "execution_count": 43,
   "id": "ab0c6ec4",
   "metadata": {},
   "outputs": [
    {
     "name": "stdout",
     "output_type": "stream",
     "text": [
      "True False\n"
     ]
    }
   ],
   "source": [
    "str1=str(1234)\n",
    "str2='1234'\n",
    "print(str1==str2,end=\" \")\n",
    "print(str1 is str2)"
   ]
  },
  {
   "cell_type": "code",
   "execution_count": 46,
   "id": "da917772",
   "metadata": {},
   "outputs": [
    {
     "data": {
      "text/plain": [
       "'e '"
      ]
     },
     "execution_count": 46,
     "metadata": {},
     "output_type": "execute_result"
    }
   ],
   "source": [
    "import re\n",
    "re.search(r'\\w\\s','Choose the option').group()\n"
   ]
  },
  {
   "cell_type": "code",
   "execution_count": 47,
   "id": "de0ebb62",
   "metadata": {},
   "outputs": [
    {
     "name": "stdout",
     "output_type": "stream",
     "text": [
      "16\n"
     ]
    }
   ],
   "source": [
    "class Square:\n",
    "\n",
    " \n",
    "\n",
    "   def __init__(self, side):\n",
    "\n",
    "       self.side = side\n",
    "\n",
    "       self.area = side*side\n",
    "\n",
    " \n",
    "\n",
    "s1 = Square(Square(Square(2).side).area)\n",
    "\n",
    "print(s1.area)"
   ]
  },
  {
   "cell_type": "code",
   "execution_count": null,
   "id": "88ac3870",
   "metadata": {},
   "outputs": [],
   "source": []
  }
 ],
 "metadata": {
  "kernelspec": {
   "display_name": "Python 3 (ipykernel)",
   "language": "python",
   "name": "python3"
  },
  "language_info": {
   "codemirror_mode": {
    "name": "ipython",
    "version": 3
   },
   "file_extension": ".py",
   "mimetype": "text/x-python",
   "name": "python",
   "nbconvert_exporter": "python",
   "pygments_lexer": "ipython3",
   "version": "3.9.13"
  }
 },
 "nbformat": 4,
 "nbformat_minor": 5
}
