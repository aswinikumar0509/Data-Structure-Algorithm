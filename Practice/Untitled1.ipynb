{
 "cells": [
  {
   "cell_type": "code",
   "execution_count": 4,
   "id": "cd26db57",
   "metadata": {},
   "outputs": [
    {
     "name": "stdout",
     "output_type": "stream",
     "text": [
      "54 546\n",
      "546 548\n",
      "548 60\n",
      "54 546\n",
      "546 548\n",
      "54 546\n"
     ]
    },
    {
     "data": {
      "text/plain": [
       "'6054854654'"
      ]
     },
     "execution_count": 4,
     "metadata": {},
     "output_type": "execute_result"
    }
   ],
   "source": [
    "def largestnumber(arr):\n",
    "    \n",
    "    if len(arr)==0:\n",
    "        return str(arr[0])\n",
    "    for i in range(len(arr)):\n",
    "        arr[i] = str(arr[i])\n",
    "        \n",
    "    for i in range(len(arr)):\n",
    "        for j in range(1+i,len(arr)):\n",
    "            print(arr[i],arr[j])\n",
    "            if arr[j]+arr[i]>arr[i]+arr[j]:\n",
    "                arr[i],arr[j] = arr[j],arr[i]\n",
    "    result = ''.join(arr)\n",
    "#     if(result=='0'*len(result)):\n",
    "#         return '0'\n",
    "#     else:\n",
    "    return result\n",
    "            \n",
    "arr = [54,546,548,60]\n",
    "largestnumber(arr)"
   ]
  },
  {
   "cell_type": "code",
   "execution_count": 9,
   "id": "e4f8c53a",
   "metadata": {},
   "outputs": [
    {
     "data": {
      "text/plain": [
       "3"
      ]
     },
     "execution_count": 9,
     "metadata": {},
     "output_type": "execute_result"
    }
   ],
   "source": [
    "def josh(n,k):\n",
    "    i=1\n",
    "    ans = 0\n",
    "    while(i<=n):\n",
    "        ans = (ans+k)%i\n",
    "        i+=1\n",
    "    return ans+1\n",
    "n = 5\n",
    "k=2\n",
    "josh(n,k)"
   ]
  },
  {
   "cell_type": "code",
   "execution_count": 10,
   "id": "5fab6239",
   "metadata": {},
   "outputs": [
    {
     "name": "stdout",
     "output_type": "stream",
     "text": [
      "-14\n",
      "-4\n"
     ]
    }
   ],
   "source": [
    "def max_energy(energy, k):\n",
    "    total_energy = 0\n",
    "    current_energy = 0\n",
    "    max_energy = float('-inf')\n",
    "    n = len(energy)\n",
    "\n",
    "    # Calculate total energy sum\n",
    "    for i in range(n):\n",
    "        total_energy += energy[i]\n",
    "\n",
    "    # Sliding window approach to find maximum energy\n",
    "    for i in range(n - k):\n",
    "        current_energy += energy[i]\n",
    "        if i >= k:\n",
    "            current_energy -= energy[i - k]\n",
    "        max_energy = max(max_energy, current_energy)\n",
    "\n",
    "    return total_energy - max_energy\n",
    "\n",
    "# Test cases\n",
    "print(max_energy([5,2,-10,-5,1], 3))  # Output: 3\n",
    "print(max_energy([-2,-3,-1], 2))      # Output: -1\n"
   ]
  },
  {
   "cell_type": "code",
   "execution_count": 11,
   "id": "359470fa",
   "metadata": {},
   "outputs": [
    {
     "name": "stdout",
     "output_type": "stream",
     "text": [
      "-4\n",
      "-2\n"
     ]
    }
   ],
   "source": [
    "def max_energy(energy, k):\n",
    "    total_energy = 0\n",
    "    current_energy = 0\n",
    "    max_energy = float('-inf')\n",
    "    n = len(energy)\n",
    "\n",
    "    # Calculate total energy sum\n",
    "    for i in range(n):\n",
    "        total_energy += energy[i]\n",
    "\n",
    "    # Sliding window approach to find maximum energy\n",
    "    for i in range(n):\n",
    "        current_energy += energy[i]\n",
    "        if i >= k:\n",
    "            current_energy -= energy[i - k]\n",
    "        if i >= k - 1:\n",
    "            max_energy = max(max_energy, current_energy)\n",
    "\n",
    "    return total_energy - max_energy\n",
    "\n",
    "# Test cases\n",
    "print(max_energy([5,2,-10,-5,1], 3))  # Output: 3\n",
    "print(max_energy([-2,-3,-1], 2))      # Output: -1\n"
   ]
  },
  {
   "cell_type": "code",
   "execution_count": 12,
   "id": "6cc363c5",
   "metadata": {},
   "outputs": [
    {
     "name": "stdout",
     "output_type": "stream",
     "text": [
      "-4\n",
      "-2\n"
     ]
    }
   ],
   "source": [
    "def max_energy(energy, k):\n",
    "    total_energy = 0\n",
    "    current_energy = 0\n",
    "    max_energy = float('-inf')\n",
    "    n = len(energy)\n",
    "\n",
    "    # Calculate total energy sum\n",
    "    for i in range(n):\n",
    "        total_energy += energy[i]\n",
    "\n",
    "    # Consider each starting point\n",
    "    for i in range(n - k + 1):\n",
    "        current_energy = sum(energy[i:i+k])\n",
    "        max_energy = max(max_energy, current_energy)\n",
    "\n",
    "    return total_energy - max_energy\n",
    "\n",
    "# Test cases\n",
    "print(max_energy([5,2,-10,-5,1], 3))  # Output: 3\n",
    "print(max_energy([-2,-3,-1], 2))      # Output: -1\n"
   ]
  },
  {
   "cell_type": "code",
   "execution_count": 13,
   "id": "06f531bd",
   "metadata": {},
   "outputs": [
    {
     "ename": "NameError",
     "evalue": "name 'List' is not defined",
     "output_type": "error",
     "traceback": [
      "\u001b[1;31m---------------------------------------------------------------------------\u001b[0m",
      "\u001b[1;31mNameError\u001b[0m                                 Traceback (most recent call last)",
      "\u001b[1;32m~\\AppData\\Local\\Temp\\ipykernel_29020\\2530137290.py\u001b[0m in \u001b[0;36m<module>\u001b[1;34m\u001b[0m\n\u001b[1;32m----> 1\u001b[1;33m \u001b[1;32mclass\u001b[0m \u001b[0mSolution\u001b[0m\u001b[1;33m:\u001b[0m\u001b[1;33m\u001b[0m\u001b[1;33m\u001b[0m\u001b[0m\n\u001b[0m\u001b[0;32m      2\u001b[0m     \u001b[1;32mdef\u001b[0m \u001b[0mmaximumEnergy\u001b[0m\u001b[1;33m(\u001b[0m\u001b[0mself\u001b[0m\u001b[1;33m,\u001b[0m \u001b[0menergy\u001b[0m\u001b[1;33m:\u001b[0m \u001b[0mList\u001b[0m\u001b[1;33m[\u001b[0m\u001b[0mint\u001b[0m\u001b[1;33m]\u001b[0m\u001b[1;33m,\u001b[0m \u001b[0mk\u001b[0m\u001b[1;33m:\u001b[0m \u001b[0mint\u001b[0m\u001b[1;33m)\u001b[0m \u001b[1;33m->\u001b[0m \u001b[0mint\u001b[0m\u001b[1;33m:\u001b[0m\u001b[1;33m\u001b[0m\u001b[1;33m\u001b[0m\u001b[0m\n\u001b[0;32m      3\u001b[0m         \u001b[0mtotal_energy\u001b[0m \u001b[1;33m=\u001b[0m \u001b[1;36m0\u001b[0m\u001b[1;33m\u001b[0m\u001b[1;33m\u001b[0m\u001b[0m\n\u001b[0;32m      4\u001b[0m         \u001b[0mcurr_energy\u001b[0m \u001b[1;33m=\u001b[0m \u001b[1;36m0\u001b[0m\u001b[1;33m\u001b[0m\u001b[1;33m\u001b[0m\u001b[0m\n\u001b[0;32m      5\u001b[0m         \u001b[0mmax_energy\u001b[0m \u001b[1;33m=\u001b[0m \u001b[0mfloat\u001b[0m\u001b[1;33m(\u001b[0m\u001b[1;34m'-inf'\u001b[0m\u001b[1;33m)\u001b[0m\u001b[1;33m\u001b[0m\u001b[1;33m\u001b[0m\u001b[0m\n",
      "\u001b[1;32m~\\AppData\\Local\\Temp\\ipykernel_29020\\2530137290.py\u001b[0m in \u001b[0;36mSolution\u001b[1;34m()\u001b[0m\n\u001b[0;32m      1\u001b[0m \u001b[1;32mclass\u001b[0m \u001b[0mSolution\u001b[0m\u001b[1;33m:\u001b[0m\u001b[1;33m\u001b[0m\u001b[1;33m\u001b[0m\u001b[0m\n\u001b[1;32m----> 2\u001b[1;33m     \u001b[1;32mdef\u001b[0m \u001b[0mmaximumEnergy\u001b[0m\u001b[1;33m(\u001b[0m\u001b[0mself\u001b[0m\u001b[1;33m,\u001b[0m \u001b[0menergy\u001b[0m\u001b[1;33m:\u001b[0m \u001b[0mList\u001b[0m\u001b[1;33m[\u001b[0m\u001b[0mint\u001b[0m\u001b[1;33m]\u001b[0m\u001b[1;33m,\u001b[0m \u001b[0mk\u001b[0m\u001b[1;33m:\u001b[0m \u001b[0mint\u001b[0m\u001b[1;33m)\u001b[0m \u001b[1;33m->\u001b[0m \u001b[0mint\u001b[0m\u001b[1;33m:\u001b[0m\u001b[1;33m\u001b[0m\u001b[1;33m\u001b[0m\u001b[0m\n\u001b[0m\u001b[0;32m      3\u001b[0m         \u001b[0mtotal_energy\u001b[0m \u001b[1;33m=\u001b[0m \u001b[1;36m0\u001b[0m\u001b[1;33m\u001b[0m\u001b[1;33m\u001b[0m\u001b[0m\n\u001b[0;32m      4\u001b[0m         \u001b[0mcurr_energy\u001b[0m \u001b[1;33m=\u001b[0m \u001b[1;36m0\u001b[0m\u001b[1;33m\u001b[0m\u001b[1;33m\u001b[0m\u001b[0m\n\u001b[0;32m      5\u001b[0m         \u001b[0mmax_energy\u001b[0m \u001b[1;33m=\u001b[0m \u001b[0mfloat\u001b[0m\u001b[1;33m(\u001b[0m\u001b[1;34m'-inf'\u001b[0m\u001b[1;33m)\u001b[0m\u001b[1;33m\u001b[0m\u001b[1;33m\u001b[0m\u001b[0m\n",
      "\u001b[1;31mNameError\u001b[0m: name 'List' is not defined"
     ]
    }
   ],
   "source": [
    "class Solution:\n",
    "    def maximumEnergy(self, energy: List[int], k: int) -> int:\n",
    "        total_energy = 0\n",
    "        curr_energy = 0\n",
    "        max_energy = float('-inf')\n",
    "        n = len(energy)\n",
    "\n",
    "        # Calculate total energy sum\n",
    "        for i in range(n):\n",
    "            total_energy += energy[i]\n",
    "\n",
    "        # Sliding window approach to find maximum energy\n",
    "        for i in range(n - k + 1):\n",
    "            curr_energy = sum(energy[i:i+k])\n",
    "            max_energy = max(max_energy, curr_energy)\n",
    "\n",
    "        return total_energy - max_energy\n"
   ]
  },
  {
   "cell_type": "code",
   "execution_count": 14,
   "id": "6c421d68",
   "metadata": {},
   "outputs": [
    {
     "name": "stdout",
     "output_type": "stream",
     "text": [
      "5\n",
      "-1\n"
     ]
    }
   ],
   "source": [
    "def max_energy(energy, k):\n",
    "    n = len(energy)\n",
    "    dp = [0] * n\n",
    "\n",
    "    # Initialize dp[i] with energy[i]\n",
    "    for i in range(n):\n",
    "        dp[i] = energy[i]\n",
    "\n",
    "    # Update dp[i] for each magician\n",
    "    for i in range(n):\n",
    "        for j in range(i + k, min(i + k + 1, n)):\n",
    "            dp[i] = max(dp[i], energy[i] + dp[j])\n",
    "\n",
    "    # Find the maximum energy\n",
    "    return max(dp)\n",
    "\n",
    "# Example usage\n",
    "energy1 = [5, 2, -10, -5, 1]\n",
    "k1 = 3\n",
    "print(max_energy(energy1, k1))  # Output: 3\n",
    "\n",
    "energy2 = [-2, -3, -1]\n",
    "k2 = 2\n",
    "print(max_energy(energy2, k2))  # Output: -1\n"
   ]
  },
  {
   "cell_type": "code",
   "execution_count": 15,
   "id": "97a9c19e",
   "metadata": {},
   "outputs": [
    {
     "name": "stdout",
     "output_type": "stream",
     "text": [
      "8\n",
      "-1\n"
     ]
    }
   ],
   "source": [
    "def max_energy(energy, k):\n",
    "    n = len(energy)\n",
    "    dp = [0] * n\n",
    "\n",
    "    # Initialize dp[i] with energy[i]\n",
    "    for i in range(n):\n",
    "        dp[i] = energy[i]\n",
    "\n",
    "    # Update dp[i] for each magician\n",
    "    for i in range(n - 2, -1, -1):  # Start from the second last magician\n",
    "        for j in range(i + 1, min(i + k + 1, n)):\n",
    "            dp[i] = max(dp[i], energy[i] + dp[j])\n",
    "\n",
    "    # Find the maximum energy\n",
    "    return max(dp)\n",
    "\n",
    "# Example usage\n",
    "energy1 = [5, 2, -10, -5, 1]\n",
    "k1 = 3\n",
    "print(max_energy(energy1, k1))  # Output: 3\n",
    "\n",
    "energy2 = [-2, -3, -1]\n",
    "k2 = 2\n",
    "print(max_energy(energy2, k2))  # Output: -1\n"
   ]
  },
  {
   "cell_type": "code",
   "execution_count": 16,
   "id": "68f9528e",
   "metadata": {},
   "outputs": [
    {
     "name": "stdout",
     "output_type": "stream",
     "text": [
      "51\n",
      "10\n"
     ]
    }
   ],
   "source": [
    "def max_score(grid):\n",
    "    m, n = len(grid), len(grid[0])\n",
    "    dp = [[float('-inf')] * (n + 1) for _ in range(m + 1)]\n",
    "    dp[m - 1][n] = dp[m][n - 1] = 0\n",
    "    \n",
    "    for i in range(m - 1, -1, -1):\n",
    "        for j in range(n - 1, -1, -1):\n",
    "            dp[i][j] = max(dp[i + 1][j], dp[i][j + 1]) + grid[i][j]\n",
    "    \n",
    "    return dp[0][0]\n",
    "\n",
    "# Test cases\n",
    "grid1 = [[9,5,7,3],[8,9,6,1],[6,7,14,3],[2,5,3,1]]\n",
    "print(max_score(grid1))  # Output: 9\n",
    "\n",
    "grid2 = [[4,3,2],[3,2,1]]\n",
    "print(max_score(grid2))  # Output: -1\n"
   ]
  },
  {
   "cell_type": "code",
   "execution_count": 17,
   "id": "ea1b4798",
   "metadata": {},
   "outputs": [
    {
     "ename": "IndexError",
     "evalue": "list index out of range",
     "output_type": "error",
     "traceback": [
      "\u001b[1;31m---------------------------------------------------------------------------\u001b[0m",
      "\u001b[1;31mIndexError\u001b[0m                                Traceback (most recent call last)",
      "\u001b[1;32m~\\AppData\\Local\\Temp\\ipykernel_29020\\2620562010.py\u001b[0m in \u001b[0;36m<module>\u001b[1;34m\u001b[0m\n\u001b[0;32m     18\u001b[0m \u001b[1;31m# Example usage\u001b[0m\u001b[1;33m\u001b[0m\u001b[1;33m\u001b[0m\u001b[0m\n\u001b[0;32m     19\u001b[0m \u001b[0mgrid1\u001b[0m \u001b[1;33m=\u001b[0m \u001b[1;33m[\u001b[0m\u001b[1;33m[\u001b[0m\u001b[1;36m9\u001b[0m\u001b[1;33m,\u001b[0m \u001b[1;36m5\u001b[0m\u001b[1;33m,\u001b[0m \u001b[1;36m7\u001b[0m\u001b[1;33m,\u001b[0m \u001b[1;36m3\u001b[0m\u001b[1;33m]\u001b[0m\u001b[1;33m,\u001b[0m \u001b[1;33m[\u001b[0m\u001b[1;36m8\u001b[0m\u001b[1;33m,\u001b[0m \u001b[1;36m9\u001b[0m\u001b[1;33m,\u001b[0m \u001b[1;36m6\u001b[0m\u001b[1;33m,\u001b[0m \u001b[1;36m1\u001b[0m\u001b[1;33m]\u001b[0m\u001b[1;33m,\u001b[0m \u001b[1;33m[\u001b[0m\u001b[1;36m6\u001b[0m\u001b[1;33m,\u001b[0m \u001b[1;36m7\u001b[0m\u001b[1;33m,\u001b[0m \u001b[1;36m14\u001b[0m\u001b[1;33m,\u001b[0m \u001b[1;36m3\u001b[0m\u001b[1;33m]\u001b[0m\u001b[1;33m,\u001b[0m \u001b[1;33m[\u001b[0m\u001b[1;36m2\u001b[0m\u001b[1;33m,\u001b[0m \u001b[1;36m5\u001b[0m\u001b[1;33m,\u001b[0m \u001b[1;36m3\u001b[0m\u001b[1;33m,\u001b[0m \u001b[1;36m1\u001b[0m\u001b[1;33m]\u001b[0m\u001b[1;33m]\u001b[0m\u001b[1;33m\u001b[0m\u001b[1;33m\u001b[0m\u001b[0m\n\u001b[1;32m---> 20\u001b[1;33m \u001b[0mprint\u001b[0m\u001b[1;33m(\u001b[0m\u001b[0mmax_difference_score\u001b[0m\u001b[1;33m(\u001b[0m\u001b[0mgrid1\u001b[0m\u001b[1;33m)\u001b[0m\u001b[1;33m)\u001b[0m  \u001b[1;31m# Output: 9\u001b[0m\u001b[1;33m\u001b[0m\u001b[1;33m\u001b[0m\u001b[0m\n\u001b[0m\u001b[0;32m     21\u001b[0m \u001b[1;33m\u001b[0m\u001b[0m\n\u001b[0;32m     22\u001b[0m \u001b[0mgrid2\u001b[0m \u001b[1;33m=\u001b[0m \u001b[1;33m[\u001b[0m\u001b[1;33m[\u001b[0m\u001b[1;36m4\u001b[0m\u001b[1;33m,\u001b[0m \u001b[1;36m3\u001b[0m\u001b[1;33m,\u001b[0m \u001b[1;36m2\u001b[0m\u001b[1;33m]\u001b[0m\u001b[1;33m,\u001b[0m \u001b[1;33m[\u001b[0m\u001b[1;36m3\u001b[0m\u001b[1;33m,\u001b[0m \u001b[1;36m2\u001b[0m\u001b[1;33m,\u001b[0m \u001b[1;36m1\u001b[0m\u001b[1;33m]\u001b[0m\u001b[1;33m]\u001b[0m\u001b[1;33m\u001b[0m\u001b[1;33m\u001b[0m\u001b[0m\n",
      "\u001b[1;32m~\\AppData\\Local\\Temp\\ipykernel_29020\\2620562010.py\u001b[0m in \u001b[0;36mmax_difference_score\u001b[1;34m(grid)\u001b[0m\n\u001b[0;32m     11\u001b[0m     \u001b[1;32mfor\u001b[0m \u001b[0mi\u001b[0m \u001b[1;32min\u001b[0m \u001b[0mrange\u001b[0m\u001b[1;33m(\u001b[0m\u001b[0mm\u001b[0m \u001b[1;33m-\u001b[0m \u001b[1;36m1\u001b[0m\u001b[1;33m,\u001b[0m \u001b[1;33m-\u001b[0m\u001b[1;36m1\u001b[0m\u001b[1;33m,\u001b[0m \u001b[1;33m-\u001b[0m\u001b[1;36m1\u001b[0m\u001b[1;33m)\u001b[0m\u001b[1;33m:\u001b[0m\u001b[1;33m\u001b[0m\u001b[1;33m\u001b[0m\u001b[0m\n\u001b[0;32m     12\u001b[0m         \u001b[1;32mfor\u001b[0m \u001b[0mj\u001b[0m \u001b[1;32min\u001b[0m \u001b[0mrange\u001b[0m\u001b[1;33m(\u001b[0m\u001b[0mn\u001b[0m \u001b[1;33m-\u001b[0m \u001b[1;36m1\u001b[0m\u001b[1;33m,\u001b[0m \u001b[1;33m-\u001b[0m\u001b[1;36m1\u001b[0m\u001b[1;33m,\u001b[0m \u001b[1;33m-\u001b[0m\u001b[1;36m1\u001b[0m\u001b[1;33m)\u001b[0m\u001b[1;33m:\u001b[0m\u001b[1;33m\u001b[0m\u001b[1;33m\u001b[0m\u001b[0m\n\u001b[1;32m---> 13\u001b[1;33m             \u001b[0mdp\u001b[0m\u001b[1;33m[\u001b[0m\u001b[0mi\u001b[0m\u001b[1;33m]\u001b[0m\u001b[1;33m[\u001b[0m\u001b[0mj\u001b[0m\u001b[1;33m]\u001b[0m \u001b[1;33m+=\u001b[0m \u001b[0mmax\u001b[0m\u001b[1;33m(\u001b[0m\u001b[0mdp\u001b[0m\u001b[1;33m[\u001b[0m\u001b[0mi\u001b[0m \u001b[1;33m+\u001b[0m \u001b[1;36m1\u001b[0m\u001b[1;33m]\u001b[0m\u001b[1;33m[\u001b[0m\u001b[0mj\u001b[0m\u001b[1;33m]\u001b[0m\u001b[1;33m,\u001b[0m \u001b[0mdp\u001b[0m\u001b[1;33m[\u001b[0m\u001b[0mi\u001b[0m\u001b[1;33m]\u001b[0m\u001b[1;33m[\u001b[0m\u001b[0mj\u001b[0m \u001b[1;33m+\u001b[0m \u001b[1;36m1\u001b[0m\u001b[1;33m]\u001b[0m\u001b[1;33m)\u001b[0m\u001b[1;33m\u001b[0m\u001b[1;33m\u001b[0m\u001b[0m\n\u001b[0m\u001b[0;32m     14\u001b[0m \u001b[1;33m\u001b[0m\u001b[0m\n\u001b[0;32m     15\u001b[0m     \u001b[1;31m# The answer is stored in dp[0][0]\u001b[0m\u001b[1;33m\u001b[0m\u001b[1;33m\u001b[0m\u001b[0m\n",
      "\u001b[1;31mIndexError\u001b[0m: list index out of range"
     ]
    }
   ],
   "source": [
    "def max_difference_score(grid):\n",
    "    m, n = len(grid), len(grid[0])\n",
    "    dp = [[0] * n for _ in range(m)]\n",
    "\n",
    "    # Initialize dp[i][j] with grid[i][j]\n",
    "    for i in range(m):\n",
    "        for j in range(n):\n",
    "            dp[i][j] = grid[i][j]\n",
    "\n",
    "    # Update dp[i][j] for each cell\n",
    "    for i in range(m - 1, -1, -1):\n",
    "        for j in range(n - 1, -1, -1):\n",
    "            dp[i][j] += max(dp[i + 1][j], dp[i][j + 1])\n",
    "\n",
    "    # The answer is stored in dp[0][0]\n",
    "    return dp[0][0]\n",
    "\n",
    "# Example usage\n",
    "grid1 = [[9, 5, 7, 3], [8, 9, 6, 1], [6, 7, 14, 3], [2, 5, 3, 1]]\n",
    "print(max_difference_score(grid1))  # Output: 9\n",
    "\n",
    "grid2 = [[4, 3, 2], [3, 2, 1]]\n",
    "print(max_difference_score(grid2))  # Output: -1\n"
   ]
  },
  {
   "cell_type": "code",
   "execution_count": 20,
   "id": "c5a6dca4",
   "metadata": {},
   "outputs": [
    {
     "name": "stdout",
     "output_type": "stream",
     "text": [
      "51\n",
      "10\n"
     ]
    }
   ],
   "source": [
    "def max_difference_score(grid):\n",
    "    m, n = len(grid), len(grid[0])\n",
    "    dp = [[0] * (n + 1) for _ in range(m + 1)]\n",
    "\n",
    "    # Initialize dp[i][j] with grid[i][j]\n",
    "    for i in range(m):\n",
    "        for j in range(n):\n",
    "            dp[i][j] = grid[i][j]\n",
    "\n",
    "    # Update dp[i][j] for each cell\n",
    "    for i in range(m - 1, -1, -1):\n",
    "        for j in range(n - 1, -1, -1):\n",
    "            dp[i][j] += max(dp[i + 1][j], dp[i][j + 1])\n",
    "\n",
    "    # The answer is stored in dp[0][0]\n",
    "    return dp[0][0]\n",
    "\n",
    "# Example usage\n",
    "grid1 = [[9, 5, 7, 3], [8, 9, 6, 1], [6, 7, 14, 3], [2, 5, 3, 1]]\n",
    "print(max_difference_score(grid1))  # Output: 9\n",
    "\n",
    "grid2 = [[4, 3, 2], [3, 2, 1]]\n",
    "print(max_difference_score(grid2))  # Output: -1\n"
   ]
  },
  {
   "cell_type": "code",
   "execution_count": 21,
   "id": "0d756dc9",
   "metadata": {},
   "outputs": [
    {
     "ename": "IndexError",
     "evalue": "list index out of range",
     "output_type": "error",
     "traceback": [
      "\u001b[1;31m---------------------------------------------------------------------------\u001b[0m",
      "\u001b[1;31mIndexError\u001b[0m                                Traceback (most recent call last)",
      "\u001b[1;32m~\\AppData\\Local\\Temp\\ipykernel_29020\\3166822492.py\u001b[0m in \u001b[0;36m<module>\u001b[1;34m\u001b[0m\n\u001b[0;32m      7\u001b[0m \u001b[1;31m# Example usage\u001b[0m\u001b[1;33m\u001b[0m\u001b[1;33m\u001b[0m\u001b[0m\n\u001b[0;32m      8\u001b[0m \u001b[0mnums1\u001b[0m \u001b[1;33m=\u001b[0m \u001b[1;33m[\u001b[0m\u001b[1;36m1\u001b[0m\u001b[1;33m,\u001b[0m \u001b[1;36m0\u001b[0m\u001b[1;33m,\u001b[0m \u001b[1;36m2\u001b[0m\u001b[1;33m]\u001b[0m\u001b[1;33m\u001b[0m\u001b[1;33m\u001b[0m\u001b[0m\n\u001b[1;32m----> 9\u001b[1;33m \u001b[0mprint\u001b[0m\u001b[1;33m(\u001b[0m\u001b[0mmin_cost_permutation\u001b[0m\u001b[1;33m(\u001b[0m\u001b[0mnums1\u001b[0m\u001b[1;33m)\u001b[0m\u001b[1;33m)\u001b[0m  \u001b[1;31m# Output: [0, 1, 2]\u001b[0m\u001b[1;33m\u001b[0m\u001b[1;33m\u001b[0m\u001b[0m\n\u001b[0m\u001b[0;32m     10\u001b[0m \u001b[1;33m\u001b[0m\u001b[0m\n\u001b[0;32m     11\u001b[0m \u001b[1;31m# Additional example\u001b[0m\u001b[1;33m\u001b[0m\u001b[1;33m\u001b[0m\u001b[0m\n",
      "\u001b[1;32m~\\AppData\\Local\\Temp\\ipykernel_29020\\3166822492.py\u001b[0m in \u001b[0;36mmin_cost_permutation\u001b[1;34m(nums)\u001b[0m\n\u001b[0;32m      2\u001b[0m     \u001b[0mn\u001b[0m \u001b[1;33m=\u001b[0m \u001b[0mlen\u001b[0m\u001b[1;33m(\u001b[0m\u001b[0mnums\u001b[0m\u001b[1;33m)\u001b[0m\u001b[1;33m\u001b[0m\u001b[1;33m\u001b[0m\u001b[0m\n\u001b[0;32m      3\u001b[0m     \u001b[0mperm\u001b[0m \u001b[1;33m=\u001b[0m \u001b[0mlist\u001b[0m\u001b[1;33m(\u001b[0m\u001b[0mrange\u001b[0m\u001b[1;33m(\u001b[0m\u001b[0mn\u001b[0m\u001b[1;33m)\u001b[0m\u001b[1;33m)\u001b[0m  \u001b[1;31m# Initialize perm as [0, 1, 2, ..., n - 1]\u001b[0m\u001b[1;33m\u001b[0m\u001b[1;33m\u001b[0m\u001b[0m\n\u001b[1;32m----> 4\u001b[1;33m     \u001b[0mperm\u001b[0m\u001b[1;33m.\u001b[0m\u001b[0msort\u001b[0m\u001b[1;33m(\u001b[0m\u001b[0mkey\u001b[0m\u001b[1;33m=\u001b[0m\u001b[1;32mlambda\u001b[0m \u001b[0mi\u001b[0m\u001b[1;33m:\u001b[0m \u001b[0mnums\u001b[0m\u001b[1;33m[\u001b[0m\u001b[0mperm\u001b[0m\u001b[1;33m[\u001b[0m\u001b[0mi\u001b[0m\u001b[1;33m]\u001b[0m\u001b[1;33m]\u001b[0m\u001b[1;33m)\u001b[0m  \u001b[1;31m# Sort perm based on nums[perm[i]]\u001b[0m\u001b[1;33m\u001b[0m\u001b[1;33m\u001b[0m\u001b[0m\n\u001b[0m\u001b[0;32m      5\u001b[0m     \u001b[1;32mreturn\u001b[0m \u001b[0mperm\u001b[0m\u001b[1;33m\u001b[0m\u001b[1;33m\u001b[0m\u001b[0m\n\u001b[0;32m      6\u001b[0m \u001b[1;33m\u001b[0m\u001b[0m\n",
      "\u001b[1;32m~\\AppData\\Local\\Temp\\ipykernel_29020\\3166822492.py\u001b[0m in \u001b[0;36m<lambda>\u001b[1;34m(i)\u001b[0m\n\u001b[0;32m      2\u001b[0m     \u001b[0mn\u001b[0m \u001b[1;33m=\u001b[0m \u001b[0mlen\u001b[0m\u001b[1;33m(\u001b[0m\u001b[0mnums\u001b[0m\u001b[1;33m)\u001b[0m\u001b[1;33m\u001b[0m\u001b[1;33m\u001b[0m\u001b[0m\n\u001b[0;32m      3\u001b[0m     \u001b[0mperm\u001b[0m \u001b[1;33m=\u001b[0m \u001b[0mlist\u001b[0m\u001b[1;33m(\u001b[0m\u001b[0mrange\u001b[0m\u001b[1;33m(\u001b[0m\u001b[0mn\u001b[0m\u001b[1;33m)\u001b[0m\u001b[1;33m)\u001b[0m  \u001b[1;31m# Initialize perm as [0, 1, 2, ..., n - 1]\u001b[0m\u001b[1;33m\u001b[0m\u001b[1;33m\u001b[0m\u001b[0m\n\u001b[1;32m----> 4\u001b[1;33m     \u001b[0mperm\u001b[0m\u001b[1;33m.\u001b[0m\u001b[0msort\u001b[0m\u001b[1;33m(\u001b[0m\u001b[0mkey\u001b[0m\u001b[1;33m=\u001b[0m\u001b[1;32mlambda\u001b[0m \u001b[0mi\u001b[0m\u001b[1;33m:\u001b[0m \u001b[0mnums\u001b[0m\u001b[1;33m[\u001b[0m\u001b[0mperm\u001b[0m\u001b[1;33m[\u001b[0m\u001b[0mi\u001b[0m\u001b[1;33m]\u001b[0m\u001b[1;33m]\u001b[0m\u001b[1;33m)\u001b[0m  \u001b[1;31m# Sort perm based on nums[perm[i]]\u001b[0m\u001b[1;33m\u001b[0m\u001b[1;33m\u001b[0m\u001b[0m\n\u001b[0m\u001b[0;32m      5\u001b[0m     \u001b[1;32mreturn\u001b[0m \u001b[0mperm\u001b[0m\u001b[1;33m\u001b[0m\u001b[1;33m\u001b[0m\u001b[0m\n\u001b[0;32m      6\u001b[0m \u001b[1;33m\u001b[0m\u001b[0m\n",
      "\u001b[1;31mIndexError\u001b[0m: list index out of range"
     ]
    }
   ],
   "source": [
    "def min_cost_permutation(nums):\n",
    "    n = len(nums)\n",
    "    perm = list(range(n))  # Initialize perm as [0, 1, 2, ..., n - 1]\n",
    "    perm.sort(key=lambda i: nums[perm[i]])  # Sort perm based on nums[perm[i]]\n",
    "    return perm\n",
    "\n",
    "# Example usage\n",
    "nums1 = [1, 0, 2]\n",
    "print(min_cost_permutation(nums1))  # Output: [0, 1, 2]\n",
    "\n",
    "# Additional example\n",
    "nums2 = [4, 3, 2, 1]\n",
    "print(min_cost_permutation(nums2))  # Output: [3, 2, 1, 0]\n"
   ]
  },
  {
   "cell_type": "code",
   "execution_count": 22,
   "id": "be752136",
   "metadata": {},
   "outputs": [
    {
     "name": "stdout",
     "output_type": "stream",
     "text": [
      "[1, 0, 2]\n",
      "[3, 2, 1, 0]\n"
     ]
    }
   ],
   "source": [
    "def min_cost_permutation(nums):\n",
    "    n = len(nums)\n",
    "    perm = list(range(n))  # Initialize perm as [0, 1, 2, ..., n - 1]\n",
    "    perm.sort(key=lambda i: nums[i])  # Sort perm based on nums[i]\n",
    "    return perm\n",
    "\n",
    "# Example usage\n",
    "nums1 = [1, 0, 2]\n",
    "print(min_cost_permutation(nums1))  # Output: [0, 1, 2]\n",
    "\n",
    "# Additional example\n",
    "nums2 = [4, 3, 2, 1]\n",
    "print(min_cost_permutation(nums2))  # Output: [3, 2, 1, 0]\n"
   ]
  },
  {
   "cell_type": "code",
   "execution_count": 23,
   "id": "06e6316a",
   "metadata": {},
   "outputs": [
    {
     "ename": "IndexError",
     "evalue": "list index out of range",
     "output_type": "error",
     "traceback": [
      "\u001b[1;31m---------------------------------------------------------------------------\u001b[0m",
      "\u001b[1;31mIndexError\u001b[0m                                Traceback (most recent call last)",
      "\u001b[1;32m~\\AppData\\Local\\Temp\\ipykernel_29020\\3166822492.py\u001b[0m in \u001b[0;36m<module>\u001b[1;34m\u001b[0m\n\u001b[0;32m      7\u001b[0m \u001b[1;31m# Example usage\u001b[0m\u001b[1;33m\u001b[0m\u001b[1;33m\u001b[0m\u001b[0m\n\u001b[0;32m      8\u001b[0m \u001b[0mnums1\u001b[0m \u001b[1;33m=\u001b[0m \u001b[1;33m[\u001b[0m\u001b[1;36m1\u001b[0m\u001b[1;33m,\u001b[0m \u001b[1;36m0\u001b[0m\u001b[1;33m,\u001b[0m \u001b[1;36m2\u001b[0m\u001b[1;33m]\u001b[0m\u001b[1;33m\u001b[0m\u001b[1;33m\u001b[0m\u001b[0m\n\u001b[1;32m----> 9\u001b[1;33m \u001b[0mprint\u001b[0m\u001b[1;33m(\u001b[0m\u001b[0mmin_cost_permutation\u001b[0m\u001b[1;33m(\u001b[0m\u001b[0mnums1\u001b[0m\u001b[1;33m)\u001b[0m\u001b[1;33m)\u001b[0m  \u001b[1;31m# Output: [0, 1, 2]\u001b[0m\u001b[1;33m\u001b[0m\u001b[1;33m\u001b[0m\u001b[0m\n\u001b[0m\u001b[0;32m     10\u001b[0m \u001b[1;33m\u001b[0m\u001b[0m\n\u001b[0;32m     11\u001b[0m \u001b[1;31m# Additional example\u001b[0m\u001b[1;33m\u001b[0m\u001b[1;33m\u001b[0m\u001b[0m\n",
      "\u001b[1;32m~\\AppData\\Local\\Temp\\ipykernel_29020\\3166822492.py\u001b[0m in \u001b[0;36mmin_cost_permutation\u001b[1;34m(nums)\u001b[0m\n\u001b[0;32m      2\u001b[0m     \u001b[0mn\u001b[0m \u001b[1;33m=\u001b[0m \u001b[0mlen\u001b[0m\u001b[1;33m(\u001b[0m\u001b[0mnums\u001b[0m\u001b[1;33m)\u001b[0m\u001b[1;33m\u001b[0m\u001b[1;33m\u001b[0m\u001b[0m\n\u001b[0;32m      3\u001b[0m     \u001b[0mperm\u001b[0m \u001b[1;33m=\u001b[0m \u001b[0mlist\u001b[0m\u001b[1;33m(\u001b[0m\u001b[0mrange\u001b[0m\u001b[1;33m(\u001b[0m\u001b[0mn\u001b[0m\u001b[1;33m)\u001b[0m\u001b[1;33m)\u001b[0m  \u001b[1;31m# Initialize perm as [0, 1, 2, ..., n - 1]\u001b[0m\u001b[1;33m\u001b[0m\u001b[1;33m\u001b[0m\u001b[0m\n\u001b[1;32m----> 4\u001b[1;33m     \u001b[0mperm\u001b[0m\u001b[1;33m.\u001b[0m\u001b[0msort\u001b[0m\u001b[1;33m(\u001b[0m\u001b[0mkey\u001b[0m\u001b[1;33m=\u001b[0m\u001b[1;32mlambda\u001b[0m \u001b[0mi\u001b[0m\u001b[1;33m:\u001b[0m \u001b[0mnums\u001b[0m\u001b[1;33m[\u001b[0m\u001b[0mperm\u001b[0m\u001b[1;33m[\u001b[0m\u001b[0mi\u001b[0m\u001b[1;33m]\u001b[0m\u001b[1;33m]\u001b[0m\u001b[1;33m)\u001b[0m  \u001b[1;31m# Sort perm based on nums[perm[i]]\u001b[0m\u001b[1;33m\u001b[0m\u001b[1;33m\u001b[0m\u001b[0m\n\u001b[0m\u001b[0;32m      5\u001b[0m     \u001b[1;32mreturn\u001b[0m \u001b[0mperm\u001b[0m\u001b[1;33m\u001b[0m\u001b[1;33m\u001b[0m\u001b[0m\n\u001b[0;32m      6\u001b[0m \u001b[1;33m\u001b[0m\u001b[0m\n",
      "\u001b[1;32m~\\AppData\\Local\\Temp\\ipykernel_29020\\3166822492.py\u001b[0m in \u001b[0;36m<lambda>\u001b[1;34m(i)\u001b[0m\n\u001b[0;32m      2\u001b[0m     \u001b[0mn\u001b[0m \u001b[1;33m=\u001b[0m \u001b[0mlen\u001b[0m\u001b[1;33m(\u001b[0m\u001b[0mnums\u001b[0m\u001b[1;33m)\u001b[0m\u001b[1;33m\u001b[0m\u001b[1;33m\u001b[0m\u001b[0m\n\u001b[0;32m      3\u001b[0m     \u001b[0mperm\u001b[0m \u001b[1;33m=\u001b[0m \u001b[0mlist\u001b[0m\u001b[1;33m(\u001b[0m\u001b[0mrange\u001b[0m\u001b[1;33m(\u001b[0m\u001b[0mn\u001b[0m\u001b[1;33m)\u001b[0m\u001b[1;33m)\u001b[0m  \u001b[1;31m# Initialize perm as [0, 1, 2, ..., n - 1]\u001b[0m\u001b[1;33m\u001b[0m\u001b[1;33m\u001b[0m\u001b[0m\n\u001b[1;32m----> 4\u001b[1;33m     \u001b[0mperm\u001b[0m\u001b[1;33m.\u001b[0m\u001b[0msort\u001b[0m\u001b[1;33m(\u001b[0m\u001b[0mkey\u001b[0m\u001b[1;33m=\u001b[0m\u001b[1;32mlambda\u001b[0m \u001b[0mi\u001b[0m\u001b[1;33m:\u001b[0m \u001b[0mnums\u001b[0m\u001b[1;33m[\u001b[0m\u001b[0mperm\u001b[0m\u001b[1;33m[\u001b[0m\u001b[0mi\u001b[0m\u001b[1;33m]\u001b[0m\u001b[1;33m]\u001b[0m\u001b[1;33m)\u001b[0m  \u001b[1;31m# Sort perm based on nums[perm[i]]\u001b[0m\u001b[1;33m\u001b[0m\u001b[1;33m\u001b[0m\u001b[0m\n\u001b[0m\u001b[0;32m      5\u001b[0m     \u001b[1;32mreturn\u001b[0m \u001b[0mperm\u001b[0m\u001b[1;33m\u001b[0m\u001b[1;33m\u001b[0m\u001b[0m\n\u001b[0;32m      6\u001b[0m \u001b[1;33m\u001b[0m\u001b[0m\n",
      "\u001b[1;31mIndexError\u001b[0m: list index out of range"
     ]
    }
   ],
   "source": [
    "def min_cost_permutation(nums):\n",
    "    n = len(nums)\n",
    "    perm = list(range(n))  # Initialize perm as [0, 1, 2, ..., n - 1]\n",
    "    perm.sort(key=lambda i: nums[perm[i]])  # Sort perm based on nums[perm[i]]\n",
    "    return perm\n",
    "\n",
    "# Example usage\n",
    "nums1 = [1, 0, 2]\n",
    "print(min_cost_permutation(nums1))  # Output: [0, 1, 2]\n",
    "\n",
    "# Additional example\n",
    "nums2 = [4, 3, 2, 1]\n",
    "print(min_cost_permutation(nums2))  # Output: [3, 2, 1, 0]\n"
   ]
  },
  {
   "cell_type": "code",
   "execution_count": 24,
   "id": "3b008bdd",
   "metadata": {},
   "outputs": [
    {
     "name": "stdout",
     "output_type": "stream",
     "text": [
      "[1, 0, 2]\n",
      "[3, 2, 1, 0]\n"
     ]
    }
   ],
   "source": [
    "def min_cost_permutation(nums):\n",
    "    n = len(nums)\n",
    "    perm = list(range(n))  # Initialize perm as [0, 1, 2, ..., n - 1]\n",
    "    perm.sort(key=lambda i: nums[i])  # Sort perm based on nums[i]\n",
    "    return perm\n",
    "\n",
    "# Example usage\n",
    "nums1 = [1, 0, 2]\n",
    "print(min_cost_permutation(nums1))  # Output: [0, 1, 2]\n",
    "\n",
    "# Additional example\n",
    "nums2 = [4, 3, 2, 1]\n",
    "print(min_cost_permutation(nums2))  # Output: [3, 2, 1, 0]\n"
   ]
  },
  {
   "cell_type": "code",
   "execution_count": null,
   "id": "794065dc",
   "metadata": {},
   "outputs": [],
   "source": []
  }
 ],
 "metadata": {
  "kernelspec": {
   "display_name": "Python 3 (ipykernel)",
   "language": "python",
   "name": "python3"
  },
  "language_info": {
   "codemirror_mode": {
    "name": "ipython",
    "version": 3
   },
   "file_extension": ".py",
   "mimetype": "text/x-python",
   "name": "python",
   "nbconvert_exporter": "python",
   "pygments_lexer": "ipython3",
   "version": "3.9.13"
  }
 },
 "nbformat": 4,
 "nbformat_minor": 5
}
