{
 "cells": [
  {
   "cell_type": "code",
   "execution_count": 1,
   "id": "caf4a5a5",
   "metadata": {},
   "outputs": [],
   "source": [
    "## Range problem"
   ]
  },
  {
   "cell_type": "code",
   "execution_count": 2,
   "id": "3e0d31d4",
   "metadata": {},
   "outputs": [],
   "source": [
    "## Majority Problem n//3 time"
   ]
  },
  {
   "cell_type": "code",
   "execution_count": null,
   "id": "eab98319",
   "metadata": {},
   "outputs": [],
   "source": []
  }
 ],
 "metadata": {
  "kernelspec": {
   "display_name": "Python 3 (ipykernel)",
   "language": "python",
   "name": "python3"
  },
  "language_info": {
   "codemirror_mode": {
    "name": "ipython",
    "version": 3
   },
   "file_extension": ".py",
   "mimetype": "text/x-python",
   "name": "python",
   "nbconvert_exporter": "python",
   "pygments_lexer": "ipython3",
   "version": "3.9.13"
  }
 },
 "nbformat": 4,
 "nbformat_minor": 5
}
