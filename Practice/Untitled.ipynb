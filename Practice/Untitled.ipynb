{
 "cells": [
  {
   "cell_type": "code",
   "execution_count": 2,
   "id": "7856cf0c",
   "metadata": {},
   "outputs": [
    {
     "name": "stdout",
     "output_type": "stream",
     "text": [
      "This is a string\n"
     ]
    }
   ],
   "source": [
    "a = 'This is a string'\n",
    "print(a)"
   ]
  },
  {
   "cell_type": "code",
   "execution_count": 6,
   "id": "e1439ef7",
   "metadata": {},
   "outputs": [
    {
     "name": "stdout",
     "output_type": "stream",
     "text": [
      "gnirts a si sihT\n"
     ]
    }
   ],
   "source": [
    "print(a[::-1])"
   ]
  },
  {
   "cell_type": "code",
   "execution_count": 8,
   "id": "5f7ba96c",
   "metadata": {},
   "outputs": [
    {
     "name": "stdout",
     "output_type": "stream",
     "text": [
      "This is the string\n"
     ]
    }
   ],
   "source": [
    "b = \"This is the string\"\n",
    "print(b)"
   ]
  },
  {
   "cell_type": "code",
   "execution_count": 14,
   "id": "abdeba35",
   "metadata": {},
   "outputs": [
    {
     "name": "stdout",
     "output_type": "stream",
     "text": [
      "================\n",
      "Hardik\n",
      "=================\n",
      "kidraH\n"
     ]
    }
   ],
   "source": [
    "rajlaxmi = \"Hardik\"\n",
    "print(\"================\")\n",
    "print(rajlaxmi)\n",
    "print(\"=================\")\n",
    "print(rajlaxmi[::-1])"
   ]
  },
  {
   "cell_type": "code",
   "execution_count": 19,
   "id": "dfe20b78",
   "metadata": {},
   "outputs": [
    {
     "name": "stdout",
     "output_type": "stream",
     "text": [
      "[1, 3, 'Hardik', 6, 'rajlaxmi']\n",
      "[1, 3, 'Hardik', 6, 'rajlaxmi', 'vanya']\n",
      "[1, 3, 'Hardik', 6, 'rajlaxmi']\n",
      "[1, 3, 'vanya', 'Hardik', 6, 'rajlaxmi']\n"
     ]
    }
   ],
   "source": [
    "l = [1,3,\"Hardik\",6,\"rajlaxmi\"]\n",
    "print(l)\n",
    "l.append(\"vanya\")\n",
    "print(l)\n",
    "l.pop()\n",
    "print(l)\n",
    "l.insert(2,\"vanya\")\n",
    "print(l)"
   ]
  },
  {
   "cell_type": "code",
   "execution_count": 21,
   "id": "4bdcef6b",
   "metadata": {},
   "outputs": [
    {
     "name": "stdout",
     "output_type": "stream",
     "text": [
      "string\n"
     ]
    }
   ],
   "source": [
    "tup = (1 ,\"a\",\"string\",34)\n",
    "print(tup[2])"
   ]
  },
  {
   "cell_type": "code",
   "execution_count": 50,
   "id": "b94af7de",
   "metadata": {},
   "outputs": [
    {
     "name": "stdout",
     "output_type": "stream",
     "text": [
      "Enter the number : 13\n",
      "13\n",
      "26\n",
      "39\n",
      "52\n",
      "65\n",
      "78\n",
      "91\n",
      "104\n",
      "117\n",
      "130\n"
     ]
    }
   ],
   "source": [
    "## Iteration\n",
    "j = int(input(\"Enter the number : \"))\n",
    "i = 1\n",
    "while i<11:\n",
    "    print(i*j)\n",
    "    i+=1"
   ]
  },
  {
   "cell_type": "code",
   "execution_count": 33,
   "id": "fb483e05",
   "metadata": {},
   "outputs": [
    {
     "name": "stdout",
     "output_type": "stream",
     "text": [
      "H\n",
      "e\n",
      "l\n",
      "l\n",
      "o\n",
      " \n",
      "W\n",
      "o\n",
      "r\n",
      "l\n",
      "d\n"
     ]
    }
   ],
   "source": [
    "s = \"Hello World\"\n",
    "for i in s:\n",
    "    print(i)"
   ]
  },
  {
   "cell_type": "code",
   "execution_count": 34,
   "id": "0640906d",
   "metadata": {},
   "outputs": [
    {
     "name": "stdout",
     "output_type": "stream",
     "text": [
      "1\n",
      "4\n",
      "5\n",
      "7\n",
      "8\n",
      "9\n"
     ]
    }
   ],
   "source": [
    "l = [1,4,5,7,8,9]\n",
    "for i in l:\n",
    "    print(i)"
   ]
  },
  {
   "cell_type": "code",
   "execution_count": 35,
   "id": "b8dbf7a0",
   "metadata": {},
   "outputs": [
    {
     "name": "stdout",
     "output_type": "stream",
     "text": [
      "0\n",
      "1\n",
      "2\n",
      "3\n",
      "4\n",
      "5\n",
      "6\n",
      "7\n",
      "8\n",
      "9\n"
     ]
    }
   ],
   "source": [
    "for i in range(0,10):\n",
    "    print(i)"
   ]
  },
  {
   "cell_type": "code",
   "execution_count": 36,
   "id": "ab279155",
   "metadata": {},
   "outputs": [],
   "source": [
    "## Python String"
   ]
  },
  {
   "cell_type": "code",
   "execution_count": 37,
   "id": "0d381e2f",
   "metadata": {},
   "outputs": [
    {
     "name": "stdout",
     "output_type": "stream",
     "text": [
      "I am a Data Scientist\n"
     ]
    }
   ],
   "source": [
    "print(\"I am a Data Scientist\")"
   ]
  },
  {
   "cell_type": "code",
   "execution_count": 39,
   "id": "855b2b38",
   "metadata": {},
   "outputs": [
    {
     "name": "stdout",
     "output_type": "stream",
     "text": [
      "String with the use of Single Quotes :\n",
      "+++++++++++++++++++++++++++++++++++++\n",
      "Welcome to the geeks world\n",
      "+++++++++++++++++++++++++++++++++++++++\n",
      "I am Geeks\n"
     ]
    }
   ],
   "source": [
    "string1 = \"Welcome to the geeks world\"\n",
    "print(\"String with the use of Single Quotes :\")\n",
    "print(\"+++++++++++++++++++++++++++++++++++++\")\n",
    "print(string1)\n",
    "\n",
    "print(\"+++++++++++++++++++++++++++++++++++++++\")\n",
    "\n",
    "string2 = \"I am Geeks\"\n",
    "print(string2)"
   ]
  },
  {
   "cell_type": "code",
   "execution_count": 43,
   "id": "69814322",
   "metadata": {},
   "outputs": [
    {
     "name": "stdout",
     "output_type": "stream",
     "text": [
      "\n",
      "Initital String : \n",
      "GeeksforGeeks\n",
      "\n",
      " First Character of the string is :\n",
      "G\n",
      "\n",
      " Last Cjaracter of the string\n",
      "s\n"
     ]
    }
   ],
   "source": [
    "String1 = \"GeeksforGeeks\"\n",
    "\n",
    "print(\"\\nInitital String : \")\n",
    "print(String1)\n",
    "\n",
    "print(\"\\n First Character of the string is :\")\n",
    "print(String1[0])\n",
    "\n",
    "print(\"\\n Last Cjaracter of the string\")\n",
    "print(String1[-1])"
   ]
  },
  {
   "cell_type": "code",
   "execution_count": 45,
   "id": "f3c016b1",
   "metadata": {},
   "outputs": [
    {
     "name": "stdout",
     "output_type": "stream",
     "text": [
      "skeegrofskeeg\n"
     ]
    }
   ],
   "source": [
    "gfg = \"geeksforgeeks\"\n",
    "gfg = \"\".join(reversed(gfg))\n",
    "print(gfg)"
   ]
  },
  {
   "cell_type": "code",
   "execution_count": 53,
   "id": "c0a30e81",
   "metadata": {},
   "outputs": [
    {
     "name": "stdout",
     "output_type": "stream",
     "text": [
      "Inititla String\n",
      "geeksforgeeks\n",
      "\n",
      " slicing characters from 3 to -12\n",
      "ksforgeek\n",
      "\n",
      " slicing character between 3rd and 2nd last character : \n",
      "ksforgee\n"
     ]
    }
   ],
   "source": [
    "string1 = \"geeksforgeeks\"\n",
    "\n",
    "print(\"Inititla String\")\n",
    "print(string1)\n",
    "\n",
    "print(\"\\n slicing characters from 3 to -12\")\n",
    "print(string1[3:12])\n",
    "\n",
    "print(\"\\n slicing character between \" + \"3rd and 2nd last character : \")\n",
    "\n",
    "print(string1[3:-2])"
   ]
  },
  {
   "cell_type": "code",
   "execution_count": 56,
   "id": "20eeeff4",
   "metadata": {},
   "outputs": [
    {
     "name": "stdout",
     "output_type": "stream",
     "text": [
      "I am \u0007 \"Geeks\"\n"
     ]
    }
   ],
   "source": [
    "## Sscape Sequenceing in the python\n",
    "\n",
    "string1 = 'I am \\a \"Geeks\"'\n",
    "print(string1)\n"
   ]
  },
  {
   "cell_type": "code",
   "execution_count": null,
   "id": "f496cd22",
   "metadata": {},
   "outputs": [],
   "source": []
  }
 ],
 "metadata": {
  "kernelspec": {
   "display_name": "Python 3 (ipykernel)",
   "language": "python",
   "name": "python3"
  },
  "language_info": {
   "codemirror_mode": {
    "name": "ipython",
    "version": 3
   },
   "file_extension": ".py",
   "mimetype": "text/x-python",
   "name": "python",
   "nbconvert_exporter": "python",
   "pygments_lexer": "ipython3",
   "version": "3.9.13"
  }
 },
 "nbformat": 4,
 "nbformat_minor": 5
}
