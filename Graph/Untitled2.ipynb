{
 "cells": [
  {
   "cell_type": "code",
   "execution_count": 1,
   "id": "086561f1",
   "metadata": {},
   "outputs": [
    {
     "name": "stdout",
     "output_type": "stream",
     "text": [
      "0 1 2 3 4 "
     ]
    }
   ],
   "source": [
    "from collections import deque\n",
    "def bfsGraph(adj,s):\n",
    "    visited = set()\n",
    "    q = deque()\n",
    "    q.append(s)\n",
    "    visited.add(s)\n",
    "    while q:\n",
    "        s = q.popleft()\n",
    "        print(s,end=\" \")\n",
    "        for i in adj[s]:\n",
    "            if i not in visited:\n",
    "                q.append(i)\n",
    "                visited.add(i)\n",
    "                \n",
    "adj = [[1,2],[2,3],[0,1,4],[1,4],[2,3]]\n",
    "s = 0\n",
    "bfsGraph(adj,s)"
   ]
  },
  {
   "cell_type": "code",
   "execution_count": 2,
   "id": "df1483d0",
   "metadata": {},
   "outputs": [
    {
     "name": "stdout",
     "output_type": "stream",
     "text": [
      "0 1 2 3 4 "
     ]
    }
   ],
   "source": [
    "## BFS Traversal of undirected Graph\n",
    "\n",
    "def bfsVisited(adj,s,visited):\n",
    "    q = deque()\n",
    "    q.append(s)\n",
    "    visited.add(s)\n",
    "    while q:\n",
    "        s = q.popleft()\n",
    "        print(s,end = \" \")\n",
    "        for i in adj[s]:\n",
    "            if i not in visited:\n",
    "                q.append(i)\n",
    "                visited.add(i)\n",
    "                \n",
    "def disBFS(adj):\n",
    "    visited = set()\n",
    "    for i in range(len(adj)):\n",
    "        if i not in visited:\n",
    "            bfsVisited(adj,i,visited)\n",
    "            \n",
    "adj = [[1,2],[2,3],[0,1,4],[1,4],[2,3]]\n",
    "disBFS(adj)"
   ]
  },
  {
   "cell_type": "code",
   "execution_count": 3,
   "id": "1b5a4ef7",
   "metadata": {},
   "outputs": [
    {
     "data": {
      "text/plain": [
       "3"
      ]
     },
     "execution_count": 3,
     "metadata": {},
     "output_type": "execute_result"
    }
   ],
   "source": [
    "def bfsVisited(adj,s,visited):\n",
    "    q = deque()\n",
    "    q.append(s)\n",
    "    visited.add(s)\n",
    "    while q:\n",
    "        s = q.popleft()\n",
    "        for i in adj[s]:\n",
    "            if i not in visited:\n",
    "                q.append(i)\n",
    "                visited.add(i)\n",
    "                \n",
    "def disBFS(adj):\n",
    "    visited = set()\n",
    "    res = 0\n",
    "    for i in range(len(adj)):\n",
    "        if i not in visited:\n",
    "            res+=1\n",
    "            bfsVisited(adj,i,visited)\n",
    "    return res\n",
    "            \n",
    "adj = [[1, 2], [0, 2], [0, 1], [4], [3], [6,7], [5],[5]]\n",
    "disBFS(adj)"
   ]
  },
  {
   "cell_type": "code",
   "execution_count": 4,
   "id": "e0a6c0d3",
   "metadata": {},
   "outputs": [
    {
     "data": {
      "text/plain": [
       "{-3, -2, -1, 1, 2, 3, 6, 7}"
      ]
     },
     "execution_count": 4,
     "metadata": {},
     "output_type": "execute_result"
    }
   ],
   "source": [
    "def distinctElement(arr):\n",
    "    return set(arr)\n",
    "arr= [1,3,6,-2,-1,-3,2,7]\n",
    "distinctElement(arr)"
   ]
  },
  {
   "cell_type": "code",
   "execution_count": 5,
   "id": "b0375620",
   "metadata": {},
   "outputs": [
    {
     "name": "stdout",
     "output_type": "stream",
     "text": [
      "97\n"
     ]
    }
   ],
   "source": [
    "print(ord(\"a\"))"
   ]
  },
  {
   "cell_type": "code",
   "execution_count": 6,
   "id": "443ba596",
   "metadata": {},
   "outputs": [
    {
     "name": "stdout",
     "output_type": "stream",
     "text": [
      "65\n"
     ]
    }
   ],
   "source": [
    "print(ord(\"A\"))"
   ]
  },
  {
   "cell_type": "code",
   "execution_count": 7,
   "id": "aabb90c7",
   "metadata": {},
   "outputs": [
    {
     "name": "stdout",
     "output_type": "stream",
     "text": [
      "geek\n",
      "g\n",
      "k\n",
      "e\n",
      "e\n"
     ]
    }
   ],
   "source": [
    "s = \"geek\"\n",
    "print(s)\n",
    "print(s[0])\n",
    "print(s[-1])\n",
    "print(s[1])\n",
    "print(s[-2])"
   ]
  },
  {
   "cell_type": "code",
   "execution_count": 8,
   "id": "3561d470",
   "metadata": {},
   "outputs": [
    {
     "name": "stdout",
     "output_type": "stream",
     "text": [
      "0\n",
      "8\n",
      "8\n"
     ]
    }
   ],
   "source": [
    "s1 = \"geeksforgeeks\"\n",
    "s2 = \"geeks\"\n",
    "print(s1.index(s2))\n",
    "print(s1.rindex(s2))\n",
    "print(s1.index(s2,1,13))"
   ]
  },
  {
   "cell_type": "code",
   "execution_count": 9,
   "id": "8e7574d9",
   "metadata": {},
   "outputs": [
    {
     "name": "stdout",
     "output_type": "stream",
     "text": [
      "True\n",
      "True\n",
      "False\n",
      "True\n"
     ]
    }
   ],
   "source": [
    "s = \"geeksforgeeks python course\"\n",
    "print(s.startswith(\"geeks\"))\n",
    "print(s.endswith(\"course\"))\n",
    "print(s.startswith(\"geeks\",1))\n",
    "print(s.startswith(\"geeks\",8,len(s)))"
   ]
  },
  {
   "cell_type": "code",
   "execution_count": 10,
   "id": "f577dfca",
   "metadata": {},
   "outputs": [
    {
     "name": "stdout",
     "output_type": "stream",
     "text": [
      "['geeks', 'for', 'geeks']\n",
      "['geeks', 'for', 'geeks']\n",
      "geeksforgeeks python course\n",
      "geeksforgeeks , python , course\n"
     ]
    }
   ],
   "source": [
    "s1 = \"geeks for geeks\"\n",
    "print(s1.split())\n",
    "\n",
    "s2 = \"geeks,for,geeks\"\n",
    "print(s2.split(','))\n",
    "\n",
    "l = ['geeksforgeeks','python','course']\n",
    "print(\" \".join(l))\n",
    "print(\" , \".join(l))"
   ]
  },
  {
   "cell_type": "code",
   "execution_count": 11,
   "id": "39bc3a6c",
   "metadata": {},
   "outputs": [
    {
     "name": "stdout",
     "output_type": "stream",
     "text": [
      "geeksforgeeks\n",
      "geeksforgeeks__\n",
      "__geeksforgeeks\n"
     ]
    }
   ],
   "source": [
    "s1 = \"__geeksforgeeks__\"\n",
    "print(s1.strip(\"_\"))\n",
    "print(s1.lstrip(\"_\"))\n",
    "print(s1.rstrip(\"_\"))"
   ]
  },
  {
   "cell_type": "code",
   "execution_count": 12,
   "id": "4f4c4360",
   "metadata": {},
   "outputs": [
    {
     "data": {
      "text/plain": [
       "'skeegrofskeeg'"
      ]
     },
     "execution_count": 12,
     "metadata": {},
     "output_type": "execute_result"
    }
   ],
   "source": [
    "def reverse(s):\n",
    "    str = \"\"\n",
    "    for i in s:\n",
    "        str = i+str\n",
    "    return str\n",
    "s = \"geeksforgeeks\"\n",
    "reverse(s)"
   ]
  },
  {
   "cell_type": "code",
   "execution_count": 13,
   "id": "d508193d",
   "metadata": {},
   "outputs": [
    {
     "name": "stdout",
     "output_type": "stream",
     "text": [
      "0 1 3 2 4 "
     ]
    }
   ],
   "source": [
    "## Printing the DFS in the graph\n",
    "\n",
    "def DFSrec(adj,s,visited):\n",
    "    visited[s] = True\n",
    "    print(s,end=\" \")\n",
    "    for u in adj[s]:\n",
    "        if visited[u]==False:\n",
    "            DFSrec(adj,u,visited)\n",
    "            \n",
    "def dfs(adj,s):\n",
    "    visited = [False]*len(adj)\n",
    "    DFSrec(adj,s,visited)\n",
    "    \n",
    "adj = [[1,2],[0,3,4],[0,3],[1,2,4],[1,4]]\n",
    "s = 0\n",
    "dfs(adj,s)"
   ]
  },
  {
   "cell_type": "code",
   "execution_count": 15,
   "id": "e9ff85a7",
   "metadata": {},
   "outputs": [
    {
     "name": "stdout",
     "output_type": "stream",
     "text": [
      "0 1 2 3 4 "
     ]
    }
   ],
   "source": [
    "### Printing the DFS in the undirected graph\n",
    "\n",
    "def DFSRec(adj, s, visited):\n",
    "    visited[s] = True\n",
    "\n",
    "    print(s, end=' ')\n",
    "\n",
    "    for u in adj[s]:\n",
    "\n",
    "        if visited[u] == False:\n",
    "            DFSRec(adj, u, visited)\n",
    "\n",
    "\n",
    "def DFS(adj):\n",
    "    visited = [False] * len(adj)\n",
    "\n",
    "    for u in range(len(adj)):\n",
    "        if visited[u] == False:\n",
    "            DFSRec(adj, u, visited)\n",
    "\n",
    "            \n",
    "        \n",
    "        \n",
    "adj = [[1, 2], [0, 2], [0, 1], [4], [3]]\n",
    "DFS(adj)"
   ]
  },
  {
   "cell_type": "code",
   "execution_count": 6,
   "id": "0d067a30",
   "metadata": {},
   "outputs": [
    {
     "name": "stdout",
     "output_type": "stream",
     "text": [
      "{0, 1, 2}\n"
     ]
    }
   ],
   "source": [
    "## Shortest Path in Unweighted Graph\n",
    "from collections import deque\n",
    "INT_MAX = 429845673\n",
    "def addEdges(adj,u,v):\n",
    "    adj[u].append(v)\n",
    "    adj[v].append(u)\n",
    "    \n",
    "def bfs(adj,s,dist):\n",
    "    \n",
    "    visited = [False]*len(adj)\n",
    "    \n",
    "    q = deque()\n",
    "    visited[s] = True\n",
    "    q.append(s)\n",
    "    \n",
    "    while q:\n",
    "        u = q.popleft()\n",
    "        for v in adj[u]:\n",
    "            if visited[v]== False:\n",
    "                dist[v] = dist[u]+1\n",
    "                visited[v] = True\n",
    "                q.append(v)\n",
    "                \n",
    "                \n",
    "v = 4 \n",
    "\n",
    "adj = [[] for _ in range(v)]\n",
    "\n",
    "addEdges(adj,0,1)\n",
    "addEdges(adj,0,2)\n",
    "addEdges(adj,1,2)\n",
    "addEdges(adj,1,3)\n",
    "addEdges(adj,2,3)\n",
    "\n",
    "s=0\n",
    "\n",
    "dist = [INT_MAX]*v\n",
    "\n",
    "dist[0] = 0\n",
    "\n",
    "bfs(adj,s,dist)\n",
    "print(set(dist))\n"
   ]
  },
  {
   "cell_type": "code",
   "execution_count": 9,
   "id": "0ff3e2c2",
   "metadata": {},
   "outputs": [
    {
     "name": "stdout",
     "output_type": "stream",
     "text": [
      "Cycle found\n"
     ]
    }
   ],
   "source": [
    "## Detecting the cycle in the graph\n",
    "\n",
    "from collections import deque\n",
    "INT_MAX = 429845673\n",
    "\n",
    "def addEdge(adj,u,v):\n",
    "    adj[u].append(v)\n",
    "    adj[v].append(u)\n",
    "    \n",
    "    \n",
    "def dfsRec(adj,s,visited,parent):\n",
    "    \n",
    "    visited[s]= True\n",
    "    \n",
    "    for u in adj[s]:\n",
    "        if visited[u]==False:\n",
    "            if dfsRec(adj,u,visited,s):\n",
    "                return True\n",
    "            elif u!=parent:\n",
    "                return True\n",
    "            \n",
    "    return False\n",
    "\n",
    "def dfs(adj):\n",
    "    \n",
    "    visited = [False]*len(adj)\n",
    "    \n",
    "    for i in range(len(adj)):\n",
    "        \n",
    "        if(visited[i]==False):\n",
    "            \n",
    "            if dfsRec(adj,i,visited,-1):\n",
    "                return True\n",
    "            \n",
    "    return False\n",
    "\n",
    "\n",
    "v = 4 \n",
    "adj = [[] for i in range(v)]\n",
    "\n",
    "addEdge(adj,0,1)\n",
    "addEdge(adj,1,2)\n",
    "addEdge(adj,2,3)\n",
    "addEdge(adj,0,2)\n",
    "addEdge(adj,0,3)\n",
    "dist =[INT_MAX]*v\n",
    "dist[0]=0\n",
    "\n",
    "if(dfs(adj)):\n",
    "    print(\"Cycle found\")\n",
    "else:\n",
    "    print(\"No cycle\")\n",
    "        \n",
    "        "
   ]
  },
  {
   "cell_type": "code",
   "execution_count": null,
   "id": "5d079e4f",
   "metadata": {},
   "outputs": [],
   "source": []
  }
 ],
 "metadata": {
  "kernelspec": {
   "display_name": "Python 3 (ipykernel)",
   "language": "python",
   "name": "python3"
  },
  "language_info": {
   "codemirror_mode": {
    "name": "ipython",
    "version": 3
   },
   "file_extension": ".py",
   "mimetype": "text/x-python",
   "name": "python",
   "nbconvert_exporter": "python",
   "pygments_lexer": "ipython3",
   "version": "3.9.13"
  }
 },
 "nbformat": 4,
 "nbformat_minor": 5
}
