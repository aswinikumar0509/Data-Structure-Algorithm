{
 "cells": [
  {
   "cell_type": "code",
   "execution_count": 1,
   "id": "310dceb2",
   "metadata": {},
   "outputs": [
    {
     "name": "stdout",
     "output_type": "stream",
     "text": [
      "[1, 2]\n",
      "[0, 2, 3]\n",
      "[0, 1]\n",
      "[1]\n"
     ]
    }
   ],
   "source": [
    "## Adjancey list representation\n",
    "\n",
    "def addedge(adj,u,v):\n",
    "    adj[u].append(v)\n",
    "    adj[v].append(u)\n",
    "    \n",
    "def printgraph(adj):\n",
    "    for l in adj:\n",
    "        print(l)\n",
    "        \n",
    "v = 4\n",
    "\n",
    "adj = [[] for i in range(v)]\n",
    "addedge(adj,0,1)\n",
    "addedge(adj,0,2)\n",
    "addedge(adj,1,2)\n",
    "addedge(adj,1,3)\n",
    "printgraph(adj)"
   ]
  },
  {
   "cell_type": "code",
   "execution_count": 6,
   "id": "c83daa8d",
   "metadata": {},
   "outputs": [
    {
     "name": "stdout",
     "output_type": "stream",
     "text": [
      "0 [1, 2]\n",
      "1 [0, 2, 3]\n",
      "2 [0, 1, 3, 4]\n",
      "3 [1, 2, 4]\n",
      "4 [2, 3]\n",
      "\n",
      "BFS path\n",
      "0 1 2 3 4 "
     ]
    }
   ],
   "source": [
    "## BFS program in python\n",
    "\n",
    "from collections import deque\n",
    "\n",
    "def addedge(adj,u,v):\n",
    "    adj[u].append(v)\n",
    "    adj[v].append(u)\n",
    "    \n",
    "    \n",
    "def bfs(adj,s):\n",
    "    \n",
    "    visited = [False] * len(adj)\n",
    "    q = deque()\n",
    "    q.append(s)\n",
    "    visited[s]=True\n",
    "    while q:\n",
    "        s = q.popleft()\n",
    "        print(s,end=\" \")\n",
    "        for u in adj[s]:\n",
    "            if visited[u] == False:\n",
    "                q.append(u)\n",
    "                visited[u] = True\n",
    "                \n",
    "def printGraph(adj):\n",
    "    for u, l in enumerate(adj):\n",
    "        print(u, l)\n",
    "        \n",
    "# main\n",
    "\n",
    "v = 4\n",
    "\n",
    "adj = [[1, 2], [0, 2, 3], [0, 1, 3, 4], [1, 2, 4], [2, 3]]\n",
    "\n",
    "printGraph(adj)\n",
    "\n",
    "s=0 # starting\n",
    "\n",
    "print('\\nBFS path')\n",
    "bfs(adj,s)\n",
    "    "
   ]
  },
  {
   "cell_type": "code",
   "execution_count": 7,
   "id": "06eec37f",
   "metadata": {},
   "outputs": [
    {
     "name": "stdout",
     "output_type": "stream",
     "text": [
      "0 [1, 2]\n",
      "1 [0, 3]\n",
      "2 [0, 3]\n",
      "3 [1, 2]\n",
      "4 [5, 6]\n",
      "5 [4, 6]\n",
      "6 [4, 5]\n",
      "\n",
      "BFS path\n",
      "0 1 2 3 4 5 6 "
     ]
    }
   ],
   "source": [
    "# BFS for the disconnected graph\n",
    "\n",
    "from collections import deque\n",
    "\n",
    "def addedges(adj,u,v):\n",
    "    adj[u].append(v)\n",
    "    adj[v].append(u)\n",
    "    \n",
    "def bfs(adj,s,visited):\n",
    "    \n",
    "    q = deque()\n",
    "    q.append(s)\n",
    "    visited[s]=True\n",
    "    \n",
    "    while q:\n",
    "        s = q.popleft()\n",
    "        print(s,end=\" \")\n",
    "        for u in adj[s]:\n",
    "            if visited[u]==False:\n",
    "                q.append(u)\n",
    "                visited[u]=True\n",
    "                \n",
    "def bfsdis(adj):\n",
    "    visited = [False]*len(adj)\n",
    "    \n",
    "    for u in range(len(adj)):\n",
    "        if visited[u]==False:\n",
    "            bfs(adj,u,visited)\n",
    "            \n",
    "            \n",
    "def printGraph(adj):\n",
    "    for u, l in enumerate(adj):\n",
    "        print(u, l)\n",
    "\n",
    "\n",
    "# main\n",
    "\n",
    "v = 7\n",
    "\n",
    "adj = [[1, 2], [0, 3], [0, 3], [1, 2], [5, 6], [4, 6], [4, 5]]\n",
    "\n",
    "printGraph(adj)\n",
    "\n",
    "print('\\nBFS path')\n",
    "bfsdis(adj)\n"
   ]
  },
  {
   "cell_type": "code",
   "execution_count": 9,
   "id": "8ba3f43b",
   "metadata": {},
   "outputs": [
    {
     "name": "stdout",
     "output_type": "stream",
     "text": [
      "0 [1, 2]\n",
      "1 [0, 2]\n",
      "2 [0, 1]\n",
      "3 [4]\n",
      "4 [3]\n",
      "5 [6, 7]\n",
      "6 [5]\n",
      "7 [5]\n",
      "\n",
      "connected component\n",
      "no of connected component :  3\n"
     ]
    }
   ],
   "source": [
    "from collections import deque\n",
    "\n",
    "def addedges(adj,u,v):\n",
    "    adj[u].append(v)\n",
    "    adj[v].append(u)\n",
    "    \n",
    "def bfs(adj,s,visited):\n",
    "    \n",
    "    q = deque()\n",
    "    q.append(s)\n",
    "    visited[s]=True\n",
    "    \n",
    "    while q:\n",
    "        s = q.popleft()\n",
    "        #print(s,end=\" \")\n",
    "        for u in adj[s]:\n",
    "            if visited[u]==False:\n",
    "                q.append(u)\n",
    "                visited[u]=True\n",
    "                \n",
    "def bfsdis(adj):\n",
    "    visited = [False]*len(adj)\n",
    "    res = 0\n",
    "    for u in range(len(adj)):\n",
    "        if visited[u]==False:\n",
    "            res+=1\n",
    "            bfs(adj,u,visited)\n",
    "    return res\n",
    "            \n",
    "            \n",
    "def printGraph(adj):\n",
    "    for u, l in enumerate(adj):\n",
    "        print(u, l)\n",
    "        \n",
    "        \n",
    "# main\n",
    "\n",
    "v = 8\n",
    "\n",
    "adj = [[1, 2], [0, 2], [0, 1], [4], [3], [6,7], [5],[5]]\n",
    "\n",
    "printGraph(adj)\n",
    "\n",
    "print('\\nconnected component')\n",
    "print('no of connected component : ',bfsdis(adj))\n"
   ]
  },
  {
   "cell_type": "code",
   "execution_count": null,
   "id": "298fc299",
   "metadata": {},
   "outputs": [],
   "source": []
  }
 ],
 "metadata": {
  "kernelspec": {
   "display_name": "Python 3 (ipykernel)",
   "language": "python",
   "name": "python3"
  },
  "language_info": {
   "codemirror_mode": {
    "name": "ipython",
    "version": 3
   },
   "file_extension": ".py",
   "mimetype": "text/x-python",
   "name": "python",
   "nbconvert_exporter": "python",
   "pygments_lexer": "ipython3",
   "version": "3.9.13"
  }
 },
 "nbformat": 4,
 "nbformat_minor": 5
}
