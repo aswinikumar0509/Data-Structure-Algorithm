{
 "cells": [
  {
   "cell_type": "code",
   "execution_count": 1,
   "id": "c8a2e362",
   "metadata": {},
   "outputs": [
    {
     "name": "stdout",
     "output_type": "stream",
     "text": [
      "0,0,1,2,3,4,"
     ]
    }
   ],
   "source": [
    "## Printing the bfs of the graph\n",
    "from collections import deque\n",
    "def print_bfs(adj,s):\n",
    "    visited = [False]*len(adj)\n",
    "    q = deque()\n",
    "    q.append(s)\n",
    "    \n",
    "    while q:\n",
    "        s = q.popleft()\n",
    "        print(s,end=\",\")\n",
    "        \n",
    "        for u in adj[s]:\n",
    "            if visited[u]==False:\n",
    "                q.append(u)\n",
    "                visited[u]=True\n",
    "                \n",
    "                \n",
    "\n",
    "                \n",
    "adj = [[0,1,2],[1,2,3],[2,4,3,1],[3,1,2,4],[4,2,3]]\n",
    "s = 0\n",
    "print_bfs(adj,s)\n",
    "    "
   ]
  },
  {
   "cell_type": "code",
   "execution_count": 2,
   "id": "f9a16a78",
   "metadata": {},
   "outputs": [
    {
     "name": "stdout",
     "output_type": "stream",
     "text": [
      "0,1,2,0,3,4,4,5,6,"
     ]
    }
   ],
   "source": [
    "## printing the bfs for the disconnecting graph\n",
    "\n",
    "from collections import deque\n",
    "\n",
    "def bfs(adj,s,visited):\n",
    "    q = deque()\n",
    "    q.append(s)\n",
    "    while q:\n",
    "        s = q.popleft()\n",
    "        print(s,end=\",\")\n",
    "        for u in adj[s]:\n",
    "            if visited[u]==False:\n",
    "                q.append(u)\n",
    "                visited[u]=True\n",
    "                \n",
    "def disbfs(adj):\n",
    "    visited = [False]*len(adj)\n",
    "    for u in range(len(adj)):\n",
    "        if visited[u]==False:\n",
    "            bfs(adj,u,visited)\n",
    "        \n",
    "        \n",
    "adj = [[1,2],[0,3],[0,3],[1,2],[4,5],[4,6],[5,6]]\n",
    "disbfs(adj)"
   ]
  },
  {
   "cell_type": "code",
   "execution_count": 3,
   "id": "8033a7e3",
   "metadata": {},
   "outputs": [
    {
     "data": {
      "text/plain": [
       "5"
      ]
     },
     "execution_count": 3,
     "metadata": {},
     "output_type": "execute_result"
    }
   ],
   "source": [
    "## Connected component in undirected graph\n",
    "\n",
    "def bfs(adj,s,visited):\n",
    "    q = deque()\n",
    "    q.append(s)\n",
    "    while q:\n",
    "        s = q.popleft()\n",
    "        for u in adj[s]:\n",
    "            if visited[u]==False:\n",
    "                q.append(u)\n",
    "                visited[u]=True\n",
    "\n",
    "def disbfs(adj):\n",
    "    res = 0\n",
    "    visited = [False]*len(adj)\n",
    "    for u in range(len(adj)):\n",
    "        if visited[u]==False:\n",
    "            res+=1\n",
    "            bfs(adj,s,visited)\n",
    "            \n",
    "    return res\n",
    "\n",
    "adj = [[0,1],[0,2],[1,2],[3,4],[5,6],[5,7],[6,7]]\n",
    "disbfs(adj)\n",
    "            "
   ]
  },
  {
   "cell_type": "code",
   "execution_count": 4,
   "id": "ff470a7f",
   "metadata": {},
   "outputs": [
    {
     "name": "stdout",
     "output_type": "stream",
     "text": [
      "0 1 3 2 4 "
     ]
    }
   ],
   "source": [
    "def DFSRec(adj, s, visited):\n",
    "    visited[s] = True\n",
    "\n",
    "    print(s, end=' ')\n",
    "\n",
    "    for u in adj[s]:\n",
    "\n",
    "        if visited[u] == False:\n",
    "            DFSRec(adj, u, visited)\n",
    "\n",
    "\n",
    "def DFS(adj, s):\n",
    "    visited = [False] * len(adj)\n",
    "    DFSRec(adj, s, visited)\n",
    "\n",
    "\n",
    "# def printGraph(adj):\n",
    "#     for u, l in enumerate(adj):\n",
    "#         print(u, l)\n",
    "\n",
    "\n",
    "adj = [[1, 2], [0, 3, 4], [0, 3], [1, 2, 4], [1, 3]]\n",
    "\n",
    "#printGraph(adj)\n",
    "\n",
    "DFS(adj, 0)"
   ]
  },
  {
   "cell_type": "code",
   "execution_count": 5,
   "id": "e0a7f2f2",
   "metadata": {},
   "outputs": [
    {
     "name": "stdout",
     "output_type": "stream",
     "text": [
      "0 1 2 3 4 "
     ]
    }
   ],
   "source": [
    "## Printing the disconnected graph for the dfs\n",
    "\n",
    "def DFSrec(adj,s,visited):\n",
    "    visited[s]=True\n",
    "    print(s,end=\" \")\n",
    "    for u in adj[s]:\n",
    "        if visited[u]==False:\n",
    "            DFSrec(adj,u,visited)\n",
    "            \n",
    "def DFS(adj):\n",
    "    visited = [False]*len(adj)\n",
    "    for u in range(len(adj)):\n",
    "        if visited[u]==False:\n",
    "            DFSrec(adj,u,visited)\n",
    "            \n",
    "adj = [[1, 2], [0, 2], [0, 1], [4], [3]]\n",
    "DFS(adj)"
   ]
  },
  {
   "cell_type": "code",
   "execution_count": 6,
   "id": "28607b38",
   "metadata": {},
   "outputs": [
    {
     "data": {
      "text/plain": [
       "2"
      ]
     },
     "execution_count": 6,
     "metadata": {},
     "output_type": "execute_result"
    }
   ],
   "source": [
    "def DFSrec(adj,s,visited):\n",
    "    visited[s]=True\n",
    "    for u in adj[s]:\n",
    "        if visited[u]==False:\n",
    "            DFSrec(adj,u,visited)\n",
    "            \n",
    "def DFS(adj):\n",
    "    res = 0\n",
    "    visited = [False]*len(adj)\n",
    "    for u in range(len(adj)):\n",
    "        if visited[u]==False:\n",
    "            res+=1\n",
    "            DFSrec(adj,u,visited)\n",
    "    return res\n",
    "            \n",
    "adj = [[1, 2], [0, 2], [0, 1], [4], [3]]\n",
    "DFS(adj)"
   ]
  },
  {
   "cell_type": "code",
   "execution_count": null,
   "id": "047d8c16",
   "metadata": {},
   "outputs": [],
   "source": []
  }
 ],
 "metadata": {
  "kernelspec": {
   "display_name": "Python 3 (ipykernel)",
   "language": "python",
   "name": "python3"
  },
  "language_info": {
   "codemirror_mode": {
    "name": "ipython",
    "version": 3
   },
   "file_extension": ".py",
   "mimetype": "text/x-python",
   "name": "python",
   "nbconvert_exporter": "python",
   "pygments_lexer": "ipython3",
   "version": "3.9.13"
  }
 },
 "nbformat": 4,
 "nbformat_minor": 5
}
