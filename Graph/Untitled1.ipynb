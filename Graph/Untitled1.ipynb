{
 "cells": [
  {
   "cell_type": "code",
   "execution_count": 1,
   "id": "3b3b8036",
   "metadata": {},
   "outputs": [],
   "source": [
    "## Graph"
   ]
  },
  {
   "cell_type": "code",
   "execution_count": 2,
   "id": "164f1f8d",
   "metadata": {},
   "outputs": [
    {
     "name": "stdout",
     "output_type": "stream",
     "text": [
      "[1, 2, 2, 3]\n",
      "[0]\n",
      "[0, 0]\n",
      "[0]\n"
     ]
    }
   ],
   "source": [
    "def addedge(adj,u,v):\n",
    "    adj[u].append(v)\n",
    "    adj[v].append(u)\n",
    "    \n",
    "def printGraph(adj):\n",
    "    for l in adj:\n",
    "        print(l)\n",
    "        \n",
    "v = 4\n",
    "adj = [[] for i in range(v)]\n",
    "addedge(adj,0,1)\n",
    "addedge(adj,0,2)\n",
    "addedge(adj,0,2)\n",
    "addedge(adj,0,3)\n",
    "printGraph(adj)"
   ]
  },
  {
   "cell_type": "code",
   "execution_count": 3,
   "id": "b6d281c2",
   "metadata": {},
   "outputs": [
    {
     "name": "stdout",
     "output_type": "stream",
     "text": [
      "0 [1, 2]\n",
      "1 [0, 2, 3]\n",
      "2 [0, 1, 3, 4]\n",
      "3 [1, 2, 4]\n",
      "4 [2, 3]\n",
      "\n",
      "BFS path\n",
      "0 1 2 3 4 "
     ]
    }
   ],
   "source": [
    "## Breath First Search in Python\n",
    "\n",
    "## Breath first search in the directed graph\n",
    "\n",
    "from collections import deque\n",
    "def bfs(adj,s):\n",
    "    \n",
    "    visited = [False]*len(adj)\n",
    "    q = deque()\n",
    "    q.append(s)\n",
    "    visited[s] = True\n",
    "    \n",
    "    while q:\n",
    "        s = q.popleft()\n",
    "        print(s,end=\" \")\n",
    "        for u in adj[s]:\n",
    "            if visited[u] == False:\n",
    "                q.append(u)\n",
    "                visited[u] = True\n",
    "                \n",
    "                \n",
    "\n",
    "                \n",
    "def printGraph(adj):\n",
    "    for u, l in enumerate(adj):\n",
    "        print(u, l)\n",
    "\n",
    "\n",
    "# main\n",
    "\n",
    "v = 4\n",
    "\n",
    "adj = [[1, 2], [0, 2, 3], [0, 1, 3, 4], [1, 2, 4], [2, 3]]\n",
    "\n",
    "printGraph(adj)\n",
    "\n",
    "s=0 # starting\n",
    "\n",
    "print('\\nBFS path')\n",
    "bfs(adj,s)\n"
   ]
  },
  {
   "cell_type": "code",
   "execution_count": 4,
   "id": "01a6d85c",
   "metadata": {},
   "outputs": [
    {
     "name": "stdout",
     "output_type": "stream",
     "text": [
      "0 [1, 2]\n",
      "1 [0, 3]\n",
      "2 [0, 3]\n",
      "3 [1, 2]\n",
      "4 [5, 6]\n",
      "5 [4, 6]\n",
      "6 [4, 5]\n",
      "\n",
      "BFS path\n",
      "0 1 2 3 4 5 6 "
     ]
    }
   ],
   "source": [
    "## Breath First Search for Disconneted Graph\n",
    "\n",
    "\n",
    "def addEdge(adj, u, v):\n",
    "    adj[u].append(v)\n",
    "    adj[v].append(u)\n",
    "    \n",
    "\n",
    "def BFS(adj,s,visited):\n",
    "    q = deque()\n",
    "    q.append(s)\n",
    "    visited[s] = True\n",
    "\n",
    "    while q:\n",
    "        s = q.popleft()\n",
    "        print(s, end=' ')\n",
    "\n",
    "        for u in adj[s]:\n",
    "            if visited[u] == False:\n",
    "                q.append(u)\n",
    "                visited[u] = True\n",
    "                \n",
    "def bfsDis(adj):\n",
    "    visited = [False]*len(adj)\n",
    "    for u in range(len(adj)):\n",
    "        if visited[u]==False:\n",
    "            BFS(adj,u,visited)\n",
    "            \n",
    "def printGraph(adj):\n",
    "    for u, l in enumerate(adj):\n",
    "        print(u, l)\n",
    "        \n",
    "        \n",
    "v = 7\n",
    "\n",
    "adj = [[1, 2], [0, 3], [0, 3], [1, 2], [5, 6], [4, 6], [4, 5]]\n",
    "\n",
    "printGraph(adj)\n",
    "\n",
    "print('\\nBFS path')\n",
    "bfsDis(adj)\n"
   ]
  },
  {
   "cell_type": "code",
   "execution_count": 5,
   "id": "35e6e9d3",
   "metadata": {},
   "outputs": [
    {
     "name": "stdout",
     "output_type": "stream",
     "text": [
      "0 [1, 2]\n",
      "1 [0, 3]\n",
      "2 [0, 3]\n",
      "3 [1, 2]\n",
      "4 [5, 6]\n",
      "5 [4, 6]\n",
      "6 [4, 5]\n",
      "\n",
      "BFS path\n",
      "0 1 2 3 4 5 6 "
     ]
    },
    {
     "data": {
      "text/plain": [
       "2"
      ]
     },
     "execution_count": 5,
     "metadata": {},
     "output_type": "execute_result"
    }
   ],
   "source": [
    "## Connect Component in undirected graph\n",
    "\n",
    "def BFS(adj,s,visited):\n",
    "    q = deque()\n",
    "    q.append(s)\n",
    "    visited[s] = True\n",
    "    \n",
    "    while q:\n",
    "        s = q.popleft()\n",
    "        print(s,end=\" \")\n",
    "        for u in adj[s]:\n",
    "            if visited[u]==False:\n",
    "                q.append(u)\n",
    "                visited[u] = True\n",
    "                \n",
    "def BFSDis(adj):\n",
    "    visited = [False]*len(adj)\n",
    "    res = 0\n",
    "    for u in range(len(adj)):\n",
    "        if visited[u]==False:\n",
    "            res = res+1\n",
    "            BFS(adj,u,visited)\n",
    "    return res\n",
    "\n",
    "\n",
    "def printGraph(adj):\n",
    "    for u, l in enumerate(adj):\n",
    "        print(u, l)\n",
    "        \n",
    "        \n",
    "v = 7\n",
    "\n",
    "adj = [[1, 2], [0, 3], [0, 3], [1, 2], [5, 6], [4, 6], [4, 5]]\n",
    "\n",
    "printGraph(adj)\n",
    "\n",
    "print('\\nBFS path')\n",
    "BFSDis(adj)\n",
    "                "
   ]
  },
  {
   "cell_type": "code",
   "execution_count": 6,
   "id": "5851ecfd",
   "metadata": {},
   "outputs": [
    {
     "name": "stdout",
     "output_type": "stream",
     "text": [
      "0 [1, 2]\n",
      "1 [0, 3, 4]\n",
      "2 [0, 3]\n",
      "3 [1, 2, 4]\n",
      "4 [1, 3]\n",
      "0 1 3 2 4 "
     ]
    }
   ],
   "source": [
    "## DFS Depth First Search\n",
    "# The only catch here is that unlike trees and graphs, may contain cycle(a node may be visited twice)\n",
    "\n",
    "def DFSRec(adj,s,visited):\n",
    "    visited[s] = True\n",
    "    print(s,end=\" \")\n",
    "    for u in adj[s]:\n",
    "        if visited[u]==False:\n",
    "            DFSRec(adj,u,visited)\n",
    "\n",
    "\n",
    "def dfs(adj,s):\n",
    "    visited = [False]*len(adj)\n",
    "    DFSRec(adj,s,visited)\n",
    "    \n",
    "def printGraph(adj):\n",
    "    for u, l in enumerate(adj):\n",
    "        print(u, l)\n",
    "\n",
    "\n",
    "adj = [[1, 2], [0, 3, 4], [0, 3], [1, 2, 4], [1, 3]]\n",
    "\n",
    "printGraph(adj)\n",
    "\n",
    "dfs(adj, 0)"
   ]
  },
  {
   "cell_type": "code",
   "execution_count": 7,
   "id": "215667b8",
   "metadata": {},
   "outputs": [
    {
     "name": "stdout",
     "output_type": "stream",
     "text": [
      "0 [1, 2]\n",
      "1 [0, 2]\n",
      "2 [0, 1]\n",
      "3 [4]\n",
      "4 [3]\n",
      "0 1 2 3 4 "
     ]
    }
   ],
   "source": [
    "## DFS For Disconnected Graph\n",
    "\n",
    "def dfsrec(adj,s,visited):\n",
    "    visited[s] = True\n",
    "    print(s,end=\" \")\n",
    "    for u in adj[s]:\n",
    "        if visited[u]==False:\n",
    "            dfsrec(adj,u,visited)\n",
    "            \n",
    "def dfs(adj):\n",
    "    visited = [False]*len(adj)\n",
    "    for u in range(len(adj)):\n",
    "        if visited[u]==False:\n",
    "            dfsrec(adj,u,visited)\n",
    "            \n",
    "            \n",
    "def printGraph(adj):\n",
    "    for u, l in enumerate(adj):\n",
    "        print(u, l)\n",
    "\n",
    "\n",
    "adj = [[1, 2], [0, 2], [0, 1], [4], [3]]\n",
    "\n",
    "printGraph(adj)\n",
    "\n",
    "dfs(adj)\n"
   ]
  },
  {
   "cell_type": "code",
   "execution_count": 9,
   "id": "7e9ed1de",
   "metadata": {},
   "outputs": [],
   "source": [
    "## Connect Component in undirected graph\n",
    "\n",
    "def dfsRec(adj,s,visited):\n",
    "    visited[s] = True\n",
    "    "
   ]
  },
  {
   "cell_type": "code",
   "execution_count": 13,
   "id": "f90230a3",
   "metadata": {},
   "outputs": [
    {
     "name": "stdout",
     "output_type": "stream",
     "text": [
      "0 1 1 1\n"
     ]
    }
   ],
   "source": [
    "## Sortest path in the undirected path\n",
    "\n",
    "from collections import deque\n",
    "\n",
    "INT_MAX = 4294967296\n",
    "\n",
    "def addedge(adj,u,v):\n",
    "    adj[v].append(u)\n",
    "    adj[u].append(v)\n",
    "    \n",
    "def bfs(adj,s,dist):\n",
    "    \n",
    "    visited = [False]*len(adj)\n",
    "    q = deque()\n",
    "    visited[s]= True\n",
    "    q.append(s)\n",
    "    while q:\n",
    "        u=q.popleft()\n",
    "        \n",
    "        for v in adj[u]:\n",
    "            \n",
    "            if visited[v]==False:\n",
    "                dist[v]=dist[u]+1 \n",
    "                visited[v] = True\n",
    "                q.append(v)\n",
    "                \n",
    "                \n",
    "v = 4 \n",
    "adj = [[] for i in range(v)]\n",
    "\n",
    "addEdge(adj,0,1)\n",
    "addEdge(adj,1,2)\n",
    "addEdge(adj,2,3)\n",
    "addEdge(adj,0,2)\n",
    "addEdge(adj,0,3)\n",
    "dist =[INT_MAX]*v\n",
    "dist[0]=0\n",
    "s = 0\n",
    "bfs(adj,s,dist)\n",
    "\n",
    "print(*dist)"
   ]
  },
  {
   "cell_type": "code",
   "execution_count": null,
   "id": "4e00d5d6",
   "metadata": {},
   "outputs": [],
   "source": [
    "## Detect the cycle in the graph"
   ]
  }
 ],
 "metadata": {
  "kernelspec": {
   "display_name": "Python 3 (ipykernel)",
   "language": "python",
   "name": "python3"
  },
  "language_info": {
   "codemirror_mode": {
    "name": "ipython",
    "version": 3
   },
   "file_extension": ".py",
   "mimetype": "text/x-python",
   "name": "python",
   "nbconvert_exporter": "python",
   "pygments_lexer": "ipython3",
   "version": "3.9.13"
  }
 },
 "nbformat": 4,
 "nbformat_minor": 5
}
