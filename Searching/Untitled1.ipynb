{
 "cells": [
  {
   "cell_type": "code",
   "execution_count": 2,
   "id": "3354c617",
   "metadata": {},
   "outputs": [
    {
     "name": "stdout",
     "output_type": "stream",
     "text": [
      "1\n"
     ]
    }
   ],
   "source": [
    "## Searchinr in the infinte arr\n",
    "#Naive approch\n",
    "def search_in(arr,x):\n",
    "    i=0\n",
    "    while True:\n",
    "        if arr[i]==x:\n",
    "            return i\n",
    "        if arr[i]>x:\n",
    "            return -1\n",
    "        i=i+1\n",
    "        \n",
    "arr = [1,10,20,23,34,45,6,7,56,78,688]\n",
    "x = 10\n",
    "print(search_in(arr,x))"
   ]
  },
  {
   "cell_type": "code",
   "execution_count": 4,
   "id": "079f719f",
   "metadata": {},
   "outputs": [
    {
     "name": "stdout",
     "output_type": "stream",
     "text": [
      "Element found at index 4\n"
     ]
    }
   ],
   "source": [
    "##efficient approch\n",
    "\n",
    "def search(arr,x):\n",
    "    if arr[0]==x:\n",
    "        return 0\n",
    "    i = 1\n",
    "    while arr[i]<x:\n",
    "        i = i*2\n",
    "        if arr[i]==x:\n",
    "            return i\n",
    "    return b_search(arr, i//2+1,i-1,x)\n",
    "\n",
    "def b_search(arr,l,r,x):\n",
    "    if r>=l:\n",
    "        mid = (l+r)//2\n",
    "        if arr[mid]==x:\n",
    "            return mid\n",
    "        if arr[mid]>x:\n",
    "            return b_search(arr,l,mid-1,x)\n",
    "        return b_search(arr,mid+1,r,x)\n",
    "    \n",
    "arr = [3, 5, 7, 9, 10, 90, 100, 130, 140, 160, 170]\n",
    "ans = search(arr,10)\n",
    "if ans == -1:\n",
    "\tprint (\"Element not found\")\n",
    "else:\n",
    "\tprint(\"Element found at index\",ans)\n",
    "        "
   ]
  },
  {
   "cell_type": "code",
   "execution_count": 10,
   "id": "b2d51123",
   "metadata": {},
   "outputs": [
    {
     "name": "stdout",
     "output_type": "stream",
     "text": [
      "4\n"
     ]
    }
   ],
   "source": [
    "## Count Occuranve in the sorted rotate array\n",
    "\n",
    "def search(arr,x,n):\n",
    "    #n = len(arr)\n",
    "    low = 0\n",
    "    high = n-1\n",
    "    \n",
    "    while low < high:\n",
    "        mid = (low+high)//2\n",
    "        if(arr[mid]==x):\n",
    "            return mid\n",
    "        ## left half sorted array checking\n",
    "        \n",
    "        if(arr[low]<arr[mid]):\n",
    "            if(arr[low]<=x<arr[mid]):\n",
    "                high=mid-1\n",
    "            else:\n",
    "                low=mid+1\n",
    "                \n",
    "        ## Right half checking\n",
    "        else:\n",
    "            if(arr[mid]<x<=arr[high]):\n",
    "                low=mid+1 \n",
    "            else:\n",
    "                high=mid-1\n",
    "    return -1\n",
    "\n",
    "n=6\n",
    "arr=[100, 200, 400, 1000, 10, 20]\n",
    "x=10\n",
    "print(search(arr,x,n))\n",
    "    "
   ]
  },
  {
   "cell_type": "code",
   "execution_count": 12,
   "id": "31c4e6a8",
   "metadata": {},
   "outputs": [
    {
     "name": "stdout",
     "output_type": "stream",
     "text": [
      "Index of a peak point is 2\n"
     ]
    }
   ],
   "source": [
    "## Fing the peak element in the arr\n",
    "\n",
    "def search(arr,n):\n",
    "    low = 0\n",
    "    high = n-1\n",
    "    \n",
    "    while low<high:\n",
    "        mid = (low+high)//2\n",
    "        if ((mid==0 or arr[mid-1]<=arr[mid]) and\n",
    "           mid == n-1 or arr[mid+1]<=arr[mid]):\n",
    "            return mid\n",
    "        if mid > 0 and arr[mid-1]>=arr[mid]:\n",
    "            high = mid-1\n",
    "        else:\n",
    "            low = mid+1\n",
    "            \n",
    "arr = [1, 3, 20, 4, 1, 0]\n",
    "n = len(arr)\n",
    "print(f\"Index of a peak point is {search(arr, n)}\")\n",
    "\n",
    "    "
   ]
  },
  {
   "cell_type": "code",
   "execution_count": 14,
   "id": "64608e1a",
   "metadata": {},
   "outputs": [
    {
     "name": "stdout",
     "output_type": "stream",
     "text": [
      "10 1\n",
      "20 3\n",
      "30 2\n",
      "25 0\n"
     ]
    }
   ],
   "source": [
    "## Count for occurance\n",
    "\n",
    "def countOccurr(arr,x):\n",
    "    count = 0\n",
    "    for i in arr:\n",
    "        if i==x:\n",
    "            count+=1\n",
    "    return count\n",
    "  \n",
    "l = [10,20,20,20,30,30]\n",
    "\n",
    "print(10,countOccurr(l, 10))\n",
    "print(20,countOccurr(l, 20))\n",
    "print(30,countOccurr(l, 30))\n",
    "print(25,countOccurr(l, 25))"
   ]
  },
  {
   "cell_type": "code",
   "execution_count": 17,
   "id": "d1664619",
   "metadata": {},
   "outputs": [
    {
     "name": "stdout",
     "output_type": "stream",
     "text": [
      "True\n"
     ]
    }
   ],
   "source": [
    "## Two pointer approch:\n",
    "\n",
    "def summ_search(arr,x):\n",
    "    n = len(arr)\n",
    "    i=0\n",
    "    j = n-1\n",
    "    while i<j:\n",
    "        if arr[i]+arr[j]==x:\n",
    "            return True\n",
    "        elif arr[i]+arr[j]>x:\n",
    "            j = j-1\n",
    "        else:\n",
    "            i = i+1\n",
    "    return False\n",
    "\n",
    "arr = [2,5,8,12,30]\n",
    "x = 17 \n",
    "print(summ_search(arr,x))"
   ]
  },
  {
   "cell_type": "code",
   "execution_count": 21,
   "id": "7e0a0db6",
   "metadata": {},
   "outputs": [
    {
     "name": "stdout",
     "output_type": "stream",
     "text": [
      "True\n"
     ]
    }
   ],
   "source": [
    "## Triplet in the given array\n",
    "#Efficeint approch\n",
    "\n",
    "def is_triplet(arr,x):\n",
    "    for i in range(len(arr)-2):\n",
    "        if (is_par(arr,x-arr[i],i+1)):\n",
    "            return True\n",
    "    return False\n",
    "\n",
    "def is_par(arr,x,si):\n",
    "    i = si\n",
    "    j = len(arr)-1\n",
    "    while i<j:\n",
    "        if arr[i]+arr[j]==x:\n",
    "            return True\n",
    "        elif arr[i]+arr[j]>x:\n",
    "            j = j-1\n",
    "        else:\n",
    "            i = i+1\n",
    "    return False\n",
    "\n",
    "arr = [2,5,10,15,18]\n",
    "x = 33 \n",
    "print(is_triplet(arr,x))"
   ]
  },
  {
   "cell_type": "code",
   "execution_count": 1,
   "id": "5828849a",
   "metadata": {},
   "outputs": [
    {
     "name": "stdout",
     "output_type": "stream",
     "text": [
      "Index =  1\n"
     ]
    }
   ],
   "source": [
    "## Searching an infinite size of the array\n",
    "\n",
    "def indexofarray(arr, low, high):\n",
    "    while(low<high):\n",
    "        mid = (low+high)//2\n",
    "        \n",
    "        if (arr[mid]==1 or (mid==0 or arr[mid-1]==0)):\n",
    "            break\n",
    "        elif (arr[mid]==1):\n",
    "            high = mid-1\n",
    "        else:\n",
    "            low = mid+1\n",
    "    return mid\n",
    "\n",
    "def posotionoffirstone(arr):\n",
    "    l=0\n",
    "    h=1\n",
    "    while(arr[h]==0):\n",
    "        l=h\n",
    "        h = 2*h\n",
    "        \n",
    "    return indexofarray(arr,l,h)\n",
    "\n",
    "arr = [ 0, 0, 1, 1, 1, 1 ]\n",
    "print( \"Index = \", posotionoffirstone(arr))\n"
   ]
  },
  {
   "cell_type": "code",
   "execution_count": 2,
   "id": "5b65b142",
   "metadata": {},
   "outputs": [
    {
     "name": "stdout",
     "output_type": "stream",
     "text": [
      "Index of a peak point is 2\n"
     ]
    }
   ],
   "source": [
    "## Finding the peakn eleement in the array\n",
    "\n",
    "def peak_lement(arr,n):\n",
    "    \n",
    "    r = 0\n",
    "    l = n-1\n",
    "    \n",
    "    while r<l:\n",
    "        mid=(r+l) >> 1\n",
    "        \n",
    "        if (mid == 0 or arr[mid-1]<=arr[mid]) and (mid == n-1 or arr[mid+1]<=arr[mid]):\n",
    "            break\n",
    "            \n",
    "        if (mid > 0 or arr[mid-1]>arr[mid]):\n",
    "            r = mid+1\n",
    "            \n",
    "        else:\n",
    "            l = mid-1\n",
    "            \n",
    "    return mid\n",
    "\n",
    "arr = [1, 3, 20, 4, 1, 0]\n",
    "n = len(arr)\n",
    "print(f\"Index of a peak point is {peak_lement(arr, n)}\")\n",
    "            \n",
    "        \n",
    "            \n",
    "    \n",
    "        "
   ]
  },
  {
   "cell_type": "code",
   "execution_count": 5,
   "id": "9f4acd26",
   "metadata": {},
   "outputs": [
    {
     "data": {
      "text/plain": [
       "4"
      ]
     },
     "execution_count": 5,
     "metadata": {},
     "output_type": "execute_result"
    }
   ],
   "source": [
    "## Count occurance in the sorted array\n",
    "\n",
    "def count_occurance(arr,n,x):\n",
    "    res = 0\n",
    "    for i in range(n):\n",
    "        if x==arr[i]:\n",
    "            res+=1\n",
    "            \n",
    "    return res\n",
    "\n",
    "arr  = [1,1,1,2,2,2,2,3]\n",
    "x = 2\n",
    "n = len(arr)\n",
    "count_occurance(arr,n,x)\n",
    "        "
   ]
  },
  {
   "cell_type": "code",
   "execution_count": 6,
   "id": "da2223a9",
   "metadata": {},
   "outputs": [
    {
     "data": {
      "text/plain": [
       "4"
      ]
     },
     "execution_count": 6,
     "metadata": {},
     "output_type": "execute_result"
    }
   ],
   "source": [
    "## while reducing the time complexity\n",
    "\n",
    "def binarysearch(arr,l,r,x):\n",
    "    if r<l:\n",
    "        return -1\n",
    "    \n",
    "    mid = int(l+(r-l)/2)\n",
    "    \n",
    "    if arr[mid]==x:\n",
    "        return mid\n",
    "    \n",
    "    if arr[mid]>x:\n",
    "        return binarysearch(arr,l,mid-1,x)\n",
    "    \n",
    "    return binarysearch(arr,mid+1,r,x)\n",
    "\n",
    "\n",
    "def countoccurnace(arr,n,x):\n",
    "    ind = binarysearch(arr,0,n-1,x)\n",
    "    if ind==-1:\n",
    "        return 0\n",
    "    \n",
    "    count = 1\n",
    "    left = ind-1\n",
    "    \n",
    "    while (left>=0 and arr[left]==x):\n",
    "        count+=1\n",
    "        left-=1\n",
    "        \n",
    "    right = ind+1\n",
    "    \n",
    "    while (right < n and arr[right]==x):\n",
    "        count+=1\n",
    "        right+=1\n",
    "        \n",
    "    return count\n",
    "\n",
    "arr  = [1,1,1,2,2,2,2,3]\n",
    "x = 2\n",
    "n = len(arr)\n",
    "countoccurnace(arr,n,x)"
   ]
  },
  {
   "cell_type": "code",
   "execution_count": 7,
   "id": "8a3a527a",
   "metadata": {},
   "outputs": [
    {
     "name": "stdout",
     "output_type": "stream",
     "text": [
      "True\n"
     ]
    }
   ],
   "source": [
    "## Two pointer approch for finding the sum of the element\n",
    "# nainve approch\n",
    "\n",
    "def pair_sum(arr,x,n):\n",
    "    \n",
    "    for i in range(n):\n",
    "        for j in range(n):\n",
    "            if i==j:\n",
    "                continue\n",
    "                \n",
    "            if arr[i]+arr[j]==x:\n",
    "                return True\n",
    "            \n",
    "            if arr[i]+arr[j]>x:\n",
    "                break\n",
    "                \n",
    "    return 0\n",
    "\n",
    "arr = [2, 3, 5, 8, 9, 10, 11]\n",
    "val = 17\n",
    "\n",
    "print(pair_sum(arr, len(arr), val))"
   ]
  },
  {
   "cell_type": "code",
   "execution_count": 14,
   "id": "ba2cdc31",
   "metadata": {},
   "outputs": [
    {
     "name": "stdout",
     "output_type": "stream",
     "text": [
      "True\n"
     ]
    }
   ],
   "source": [
    "def isPairSum(A, N, X):\n",
    "\n",
    "    # represents first pointer\n",
    "    i = 0\n",
    "\n",
    "    # represents second pointer\n",
    "    j = N - 1\n",
    "\n",
    "    while(i < j):\n",
    "      \n",
    "        # If we find a pair\n",
    "        if (A[i] + A[j] == X):\n",
    "            return True\n",
    "\n",
    "        # If sum of elements at current\n",
    "        # pointers is less, we move towards\n",
    "        # higher values by doing i += 1\n",
    "        elif(A[i] + A[j] < X):\n",
    "            i += 1\n",
    "\n",
    "        # If sum of elements at current\n",
    "        # pointers is more, we move towards\n",
    "        # lower values by doing j -= 1\n",
    "        else:\n",
    "            j -= 1\n",
    "    return 0\n",
    "\n",
    "# array declaration\n",
    "arr = [2, 3, 5, 8, 9, 10, 11]\n",
    "\n",
    "# value to search\n",
    "val = 17\n",
    "\n",
    "print(isPairSum(arr, len(arr), val))"
   ]
  },
  {
   "cell_type": "code",
   "execution_count": null,
   "id": "7079051b",
   "metadata": {},
   "outputs": [],
   "source": []
  }
 ],
 "metadata": {
  "kernelspec": {
   "display_name": "Python 3 (ipykernel)",
   "language": "python",
   "name": "python3"
  },
  "language_info": {
   "codemirror_mode": {
    "name": "ipython",
    "version": 3
   },
   "file_extension": ".py",
   "mimetype": "text/x-python",
   "name": "python",
   "nbconvert_exporter": "python",
   "pygments_lexer": "ipython3",
   "version": "3.9.13"
  }
 },
 "nbformat": 4,
 "nbformat_minor": 5
}
