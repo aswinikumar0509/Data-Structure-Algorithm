{
 "cells": [
  {
   "cell_type": "code",
   "execution_count": 1,
   "id": "f14043ef",
   "metadata": {},
   "outputs": [
    {
     "data": {
      "text/plain": [
       "3"
      ]
     },
     "execution_count": 1,
     "metadata": {},
     "output_type": "execute_result"
    }
   ],
   "source": [
    "## general binary search technique\n",
    "\n",
    "def binarysearch(arr,x):\n",
    "    low = 0\n",
    "    high = len(arr)-1\n",
    "    \n",
    "    while low<high:\n",
    "        mid = low+(low+high)//2\n",
    "        if arr[mid]==x:\n",
    "            return mid\n",
    "        elif arr[mid]>x:\n",
    "            high = high-1\n",
    "        else:\n",
    "            low = low+1\n",
    "    return -1\n",
    "\n",
    "arr=[2,5,6,8,9]\n",
    "x = 8\n",
    "binarysearch(arr,x)\n",
    "            "
   ]
  },
  {
   "cell_type": "code",
   "execution_count": 2,
   "id": "bbf03b24",
   "metadata": {},
   "outputs": [
    {
     "name": "stdout",
     "output_type": "stream",
     "text": [
      "4\n"
     ]
    }
   ],
   "source": [
    "## Search an element in the array with an n rotated\n",
    "\n",
    "def searchRotated(arr,x):\n",
    "    low = 0\n",
    "    high = len(arr)-1\n",
    "    \n",
    "    while low<=high:\n",
    "        mid = (low+high)//2\n",
    "        \n",
    "        if(arr[mid]==x):\n",
    "            return mid\n",
    "        if(arr[low]<=arr[mid]):\n",
    "            if(arr[low]<=x<=arr[mid]):\n",
    "                high = mid-1\n",
    "            else:\n",
    "                low = mid+1\n",
    "        else:\n",
    "            if(arr[mid]<=x<=arr[high]):\n",
    "                low = mid+1\n",
    "            else:\n",
    "                high = mid-1\n",
    "                \n",
    "    return -1\n",
    "\n",
    "arr=[100, 200, 400, 1000, 10, 20]\n",
    "x=10\n",
    "print(searchRotated(arr, x))"
   ]
  },
  {
   "cell_type": "code",
   "execution_count": 3,
   "id": "733f8c68",
   "metadata": {},
   "outputs": [
    {
     "data": {
      "text/plain": [
       "3"
      ]
     },
     "execution_count": 3,
     "metadata": {},
     "output_type": "execute_result"
    }
   ],
   "source": [
    "## Number of time the element is found\n",
    "\n",
    "def countSearchElement(arr,x):\n",
    "    res = 0\n",
    "    for i in range(len(arr)):\n",
    "        if (arr[i]==x):\n",
    "            res+=1\n",
    "    return res\n",
    "arr = [1,1,1,2,3,4,5,5,5]\n",
    "x = 5\n",
    "countSearchElement(arr,x)"
   ]
  },
  {
   "cell_type": "code",
   "execution_count": null,
   "id": "26449fd3",
   "metadata": {},
   "outputs": [],
   "source": [
    "## Efficient way\n",
    "\n",
    "def binarySearch(arr,n,x):\n",
    "    "
   ]
  }
 ],
 "metadata": {
  "kernelspec": {
   "display_name": "Python 3 (ipykernel)",
   "language": "python",
   "name": "python3"
  },
  "language_info": {
   "codemirror_mode": {
    "name": "ipython",
    "version": 3
   },
   "file_extension": ".py",
   "mimetype": "text/x-python",
   "name": "python",
   "nbconvert_exporter": "python",
   "pygments_lexer": "ipython3",
   "version": "3.9.13"
  }
 },
 "nbformat": 4,
 "nbformat_minor": 5
}
