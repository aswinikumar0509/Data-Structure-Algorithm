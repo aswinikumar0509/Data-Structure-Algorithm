{
 "cells": [
  {
   "cell_type": "code",
   "execution_count": 1,
   "id": "f14043ef",
   "metadata": {},
   "outputs": [
    {
     "data": {
      "text/plain": [
       "3"
      ]
     },
     "execution_count": 1,
     "metadata": {},
     "output_type": "execute_result"
    }
   ],
   "source": [
    "## general binary search technique\n",
    "\n",
    "def binarysearch(arr,x):\n",
    "    low = 0\n",
    "    high = len(arr)-1\n",
    "    \n",
    "    while low<high:\n",
    "        mid = low+(low+high)//2\n",
    "        if arr[mid]==x:\n",
    "            return mid\n",
    "        elif arr[mid]>x:\n",
    "            high = high-1\n",
    "        else:\n",
    "            low = low+1\n",
    "    return -1\n",
    "\n",
    "arr=[2,5,6,8,9]\n",
    "x = 8\n",
    "binarysearch(arr,x)\n",
    "            "
   ]
  },
  {
   "cell_type": "code",
   "execution_count": 2,
   "id": "bbf03b24",
   "metadata": {},
   "outputs": [
    {
     "name": "stdout",
     "output_type": "stream",
     "text": [
      "4\n"
     ]
    }
   ],
   "source": [
    "## Search an element in the array with an n rotated\n",
    "\n",
    "def searchRotated(arr,x):\n",
    "    low = 0\n",
    "    high = len(arr)-1\n",
    "    \n",
    "    while low<=high:\n",
    "        mid = (low+high)//2\n",
    "        \n",
    "        if(arr[mid]==x):\n",
    "            return mid\n",
    "        if(arr[low]<=arr[mid]):\n",
    "            if(arr[low]<=x<=arr[mid]):\n",
    "                high = mid-1\n",
    "            else:\n",
    "                low = mid+1\n",
    "        else:\n",
    "            if(arr[mid]<=x<=arr[high]):\n",
    "                low = mid+1\n",
    "            else:\n",
    "                high = mid-1\n",
    "                \n",
    "    return -1\n",
    "\n",
    "arr=[100, 200, 400, 1000, 10, 20]\n",
    "x=10\n",
    "print(searchRotated(arr, x))"
   ]
  },
  {
   "cell_type": "code",
   "execution_count": 3,
   "id": "733f8c68",
   "metadata": {},
   "outputs": [
    {
     "data": {
      "text/plain": [
       "3"
      ]
     },
     "execution_count": 3,
     "metadata": {},
     "output_type": "execute_result"
    }
   ],
   "source": [
    "## Number of time the element is found\n",
    "\n",
    "def countSearchElement(arr,x):\n",
    "    res = 0\n",
    "    for i in range(len(arr)):\n",
    "        if (arr[i]==x):\n",
    "            res+=1\n",
    "    return res\n",
    "arr = [1,1,1,2,3,4,5,5,5]\n",
    "x = 5\n",
    "countSearchElement(arr,x)"
   ]
  },
  {
   "cell_type": "code",
   "execution_count": 3,
   "id": "87bca2c0",
   "metadata": {},
   "outputs": [
    {
     "name": "stdout",
     "output_type": "stream",
     "text": [
      "Index =  2\n"
     ]
    }
   ],
   "source": [
    "## Index of the first one\n",
    "\n",
    "def indexofFirstOne(arr,low,high):\n",
    "    \n",
    "    while(low<=high):\n",
    "        mid = (low+high)//2\n",
    "        \n",
    "        if(arr[mid]==1 and (mid==0 or arr[mid-1]==0)):\n",
    "            break\n",
    "        elif(arr[mid]==1):\n",
    "            high = mid-1\n",
    "            \n",
    "        else:\n",
    "            low = mid+1\n",
    "            \n",
    "    return mid\n",
    "    \n",
    "def posofFirstOne(arr):\n",
    "    l=0\n",
    "    h=1\n",
    "    while(arr[h]==0):\n",
    "        l=h\n",
    "        h=2*h\n",
    "        \n",
    "    return indexofFirstOne(arr,l,h)\n",
    "\n",
    "arr = [0,0,1,1,1,1]\n",
    "print(\"Index = \",posofFirstOne(arr))\n",
    "        "
   ]
  },
  {
   "cell_type": "code",
   "execution_count": 9,
   "id": "42d4b0da",
   "metadata": {},
   "outputs": [
    {
     "name": "stdout",
     "output_type": "stream",
     "text": [
      "Index of a peak point is  ('index:', 2, 'value :', 20)\n"
     ]
    }
   ],
   "source": [
    "## Finding the peak element in the array\n",
    "\n",
    "def findPeak(arr,n):\n",
    "    \n",
    "    if(n==1):\n",
    "        return 0\n",
    "    if(arr[0]>=arr[1]):\n",
    "        return 0\n",
    "    if(arr[n-1]>=arr[n-2]):\n",
    "        return n-1\n",
    "    \n",
    "    for i in range(1,n-1):\n",
    "        if(arr[i]>=arr[i-1] and arr[i]>=arr[i+1]):\n",
    "            \n",
    "            return ('index:', i, 'value :',arr[i])\n",
    "        \n",
    "arr = [1,3,20,4,1,0]\n",
    "n = len(arr)\n",
    "print(\"Index of a peak point is \", findPeak(arr,n))"
   ]
  },
  {
   "cell_type": "code",
   "execution_count": 10,
   "id": "37cf9eb6",
   "metadata": {},
   "outputs": [
    {
     "name": "stdout",
     "output_type": "stream",
     "text": [
      "Index of the peak point is 2\n"
     ]
    }
   ],
   "source": [
    "def findPeak(arr,n):\n",
    "    \n",
    "    l=0\n",
    "    r=n-1\n",
    "    \n",
    "    while(l<=r):\n",
    "        mid = (l+r)>>1\n",
    "        \n",
    "        if(mid==0 or arr[mid-1]<=arr[mid]) and (mid==n-1 or arr[mid+1]<=arr[mid]):\n",
    "            break\n",
    "        if(mid>0 and arr[mid-1]>arr[mid]):\n",
    "            r = mid-1\n",
    "        else:\n",
    "            l = mid+1\n",
    "            \n",
    "    return mid\n",
    "\n",
    "arr = [1,3,20,4,1,0]\n",
    "n = len(arr)\n",
    "print(f\"Index of the peak point is {findPeak(arr,n)}\")"
   ]
  },
  {
   "cell_type": "code",
   "execution_count": 12,
   "id": "55b7c01b",
   "metadata": {},
   "outputs": [
    {
     "name": "stdout",
     "output_type": "stream",
     "text": [
      "4\n"
     ]
    }
   ],
   "source": [
    "## Count the Occurance in the soreted array\n",
    "\n",
    "def countOccurances(arr,n,x):\n",
    "    res = 0\n",
    "    for i in range(n):\n",
    "        if x==arr[i]:\n",
    "            res+=1\n",
    "    return res\n",
    "\n",
    "arr = [1, 2, 2, 2, 2, 3, 4, 7 ,8 ,8]\n",
    "n = len(arr)\n",
    "x = 2\n",
    "print (countOccurances(arr, n, x))"
   ]
  },
  {
   "cell_type": "code",
   "execution_count": 13,
   "id": "7e8f2758",
   "metadata": {},
   "outputs": [
    {
     "name": "stdout",
     "output_type": "stream",
     "text": [
      "4\n"
     ]
    }
   ],
   "source": [
    "## Binary Search\n",
    "\n",
    "def binarySearch(arr,l,r,x):\n",
    "    if(r<l):\n",
    "        return -1\n",
    "    \n",
    "    mid = int(l+(r-l)/2)\n",
    "    \n",
    "    if(arr[mid]==x):\n",
    "        return mid\n",
    "    \n",
    "    if(arr[mid]>x):\n",
    "        return binarySearch(arr,l,mid-1,x)\n",
    "    else:\n",
    "        return binarySearch(arr,0,n-1,x)\n",
    "        \n",
    "def coutOccurance(arr,n,x):\n",
    "    \n",
    "    ind = binarySearch(arr,0,n-1,x)\n",
    "    \n",
    "    if ind==-1:\n",
    "        return 0\n",
    "    \n",
    "    count = 1\n",
    "    left = ind-1\n",
    "    while(left>=0 and arr[left]==x):\n",
    "        count+=1\n",
    "        left-=1\n",
    "    right = ind+1\n",
    "    while(right<n and arr[right]==x):\n",
    "        count+=1\n",
    "        right+=1\n",
    "    return count\n",
    "\n",
    "arr = [1,2,2,2,2,3,4,7,8,8]\n",
    "n = len(arr)\n",
    "x = 2\n",
    "print(coutOccurance(arr,n,x))"
   ]
  },
  {
   "cell_type": "code",
   "execution_count": 14,
   "id": "aa7185e0",
   "metadata": {},
   "outputs": [
    {
     "name": "stdout",
     "output_type": "stream",
     "text": [
      "True\n"
     ]
    }
   ],
   "source": [
    "## Two Pointer approch to find the pair of element in the array\n",
    "\n",
    "def isPairSum(arr,n,x):\n",
    "    \n",
    "    i = 0\n",
    "    j = n-1\n",
    "    \n",
    "    while i<j:\n",
    "        \n",
    "        if(arr[i]+arr[j]==x):\n",
    "            return True\n",
    "        elif(arr[i]+arr[j]<x):\n",
    "            i+=1\n",
    "        else:\n",
    "            j-=1\n",
    "    return 0\n",
    "\n",
    "arr = [2,3,5,8,9,10,11]\n",
    "val = 17\n",
    "print(isPairSum(arr,len(arr),val))"
   ]
  },
  {
   "cell_type": "code",
   "execution_count": 16,
   "id": "ed5a54bd",
   "metadata": {},
   "outputs": [
    {
     "name": "stdout",
     "output_type": "stream",
     "text": [
      "Median of the two arrays is\n",
      "3\n"
     ]
    }
   ],
   "source": [
    "class Solution:\n",
    "\n",
    "\t# Method to find median\n",
    "\tdef Median(self, A, B):\n",
    "\n",
    "\t\t# Assumption both A and B cannot be empty\n",
    "\t\tn = len(A)\n",
    "\t\tm = len(B)\n",
    "\t\tif (n > m):\n",
    "\t\t\treturn self.Median(B, A) # Swapping to make A smaller\n",
    "\n",
    "\t\tstart = 0\n",
    "\t\tend = n\n",
    "\t\trealmidinmergedarray = (n + m + 1) // 2\n",
    "\n",
    "\t\twhile (start <= end):\n",
    "\t\t\tmid = (start + end) // 2\n",
    "\t\t\tleftAsize = mid\n",
    "\t\t\tleftBsize = realmidinmergedarray - mid\n",
    "\n",
    "\t\t\t# checking overflow of indices\n",
    "\t\t\tleftA = A[leftAsize - 1] if (leftAsize > 0) else float('-inf')\n",
    "\t\t\tleftB = B[leftBsize - 1] if (leftBsize > 0) else float('-inf')\n",
    "\t\t\trightA = A[leftAsize] if (leftAsize < n) else float('inf')\n",
    "\t\t\trightB = B[leftBsize] if (leftBsize < m) else float('inf')\n",
    "\n",
    "\t\t\t# if correct partition is done\n",
    "\t\t\tif leftA <= rightB and leftB <= rightA:\n",
    "\t\t\t\tif ((m + n) % 2 == 0):\n",
    "\t\t\t\t\treturn (max(leftA, leftB) + min(rightA, rightB)) / 2.0\n",
    "\t\t\t\treturn max(leftA, leftB)\n",
    "\n",
    "\t\t\telif (leftA > rightB):\n",
    "\t\t\t\tend = mid - 1\n",
    "\t\t\telse:\n",
    "\t\t\t\tstart = mid + 1\n",
    "\n",
    "\n",
    "# Driver code\n",
    "ans = Solution()\n",
    "arr1 = [-5, 3, 6, 12, 15]\n",
    "arr2 = [-12, -10, -6, -3, 4, 10]\n",
    "print(\"Median of the two arrays is\")\n",
    "print(ans.Median(arr1, arr2))\n"
   ]
  },
  {
   "cell_type": "code",
   "execution_count": 17,
   "id": "22a3bd59",
   "metadata": {},
   "outputs": [
    {
     "name": "stdout",
     "output_type": "stream",
     "text": [
      "Median: 16.0\n"
     ]
    }
   ],
   "source": [
    "## Allocating the inimum number of the pages\n",
    "\n",
    "a = [1, 15, 12, 36, 48]\n",
    "b = [2, 30, 13, 17, 45]\n",
    "\n",
    "# Merge the arrays\n",
    "merged = a + b\n",
    "\n",
    "# Sort the merged array\n",
    "merged.sort()\n",
    "\n",
    "# Find the length of the merged array\n",
    "length = len(merged)\n",
    "\n",
    "# Check if the length is even or odd\n",
    "if length % 2 == 0:\n",
    "    # If even, take the average of the middle two elements\n",
    "    median = (merged[length // 2 - 1] + merged[length // 2]) / 2\n",
    "else:\n",
    "    # If odd, take the middle element\n",
    "    median = merged[length // 2]\n",
    "\n",
    "print(\"Median:\", median)\n"
   ]
  },
  {
   "cell_type": "code",
   "execution_count": 19,
   "id": "d4999875",
   "metadata": {},
   "outputs": [
    {
     "name": "stdout",
     "output_type": "stream",
     "text": [
      "113\n"
     ]
    }
   ],
   "source": [
    "def minPages(arr,n,k):\n",
    "    \n",
    "    if k==1:\n",
    "        return sum(arr[0:n])\n",
    "    \n",
    "    if n==1:\n",
    "        return arr[0]\n",
    "    \n",
    "    res = float('inf')\n",
    "    \n",
    "    for i in range(1,n):\n",
    "        res = min(res,max(minPages(arr,i,k-1),sum(arr[i:n])))\n",
    "        \n",
    "    return res\n",
    "        \n",
    "    \n",
    "\n",
    "arr = [12,34,67,90]\n",
    "n = len(arr)\n",
    "k = 2 \n",
    "\n",
    "print(minPages(arr,n,k))"
   ]
  },
  {
   "cell_type": "code",
   "execution_count": null,
   "id": "fb406ac3",
   "metadata": {},
   "outputs": [],
   "source": []
  }
 ],
 "metadata": {
  "kernelspec": {
   "display_name": "Python 3 (ipykernel)",
   "language": "python",
   "name": "python3"
  },
  "language_info": {
   "codemirror_mode": {
    "name": "ipython",
    "version": 3
   },
   "file_extension": ".py",
   "mimetype": "text/x-python",
   "name": "python",
   "nbconvert_exporter": "python",
   "pygments_lexer": "ipython3",
   "version": "3.9.13"
  }
 },
 "nbformat": 4,
 "nbformat_minor": 5
}
