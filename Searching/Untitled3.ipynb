{
 "cells": [
  {
   "cell_type": "code",
   "execution_count": 1,
   "id": "f14043ef",
   "metadata": {},
   "outputs": [
    {
     "data": {
      "text/plain": [
       "3"
      ]
     },
     "execution_count": 1,
     "metadata": {},
     "output_type": "execute_result"
    }
   ],
   "source": [
    "## general binary search technique\n",
    "\n",
    "def binarysearch(arr,x):\n",
    "    low = 0\n",
    "    high = len(arr)-1\n",
    "    \n",
    "    while low<high:\n",
    "        mid = low+(low+high)//2\n",
    "        if arr[mid]==x:\n",
    "            return mid\n",
    "        elif arr[mid]>x:\n",
    "            high = high-1\n",
    "        else:\n",
    "            low = low+1\n",
    "    return -1\n",
    "\n",
    "arr=[2,5,6,8,9]\n",
    "x = 8\n",
    "binarysearch(arr,x)\n",
    "            "
   ]
  },
  {
   "cell_type": "code",
   "execution_count": 1,
   "id": "5d7cea8b",
   "metadata": {},
   "outputs": [
    {
     "data": {
      "text/plain": [
       "1"
      ]
     },
     "execution_count": 1,
     "metadata": {},
     "output_type": "execute_result"
    }
   ],
   "source": [
    "# index of first occurance of the element\n",
    "\n",
    "def first_occurance(arr,x):\n",
    "    # naive solution\n",
    "    \n",
    "    for i in range(0,len(arr)):\n",
    "        if arr[i]==x:\n",
    "            return i\n",
    "    return -1\n",
    "\n",
    "arr = [1,10,10,10,20,20,40]\n",
    "x = 10\n",
    "first_occurance(arr,x)"
   ]
  }
 ],
 "metadata": {
  "kernelspec": {
   "display_name": "Python 3 (ipykernel)",
   "language": "python",
   "name": "python3"
  },
  "language_info": {
   "codemirror_mode": {
    "name": "ipython",
    "version": 3
   },
   "file_extension": ".py",
   "mimetype": "text/x-python",
   "name": "python",
   "nbconvert_exporter": "python",
   "pygments_lexer": "ipython3",
   "version": "3.9.13"
  }
 },
 "nbformat": 4,
 "nbformat_minor": 5
}
