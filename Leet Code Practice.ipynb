{
 "cells": [
  {
   "cell_type": "code",
   "execution_count": 1,
   "id": "7f01eb51",
   "metadata": {},
   "outputs": [
    {
     "data": {
      "text/plain": [
       "6"
      ]
     },
     "execution_count": 1,
     "metadata": {},
     "output_type": "execute_result"
    }
   ],
   "source": [
    "    def removeDuplicates(nums) -> int:\n",
    "        if not nums : return 0\n",
    "        if len(nums) < 2: return 1\n",
    "        \n",
    "        prev, curr = 0, 1\n",
    "        \n",
    "        while curr < len(nums):\n",
    "            if nums[curr] == nums[prev]:\n",
    "                curr += 1\n",
    "            else:\n",
    "                prev+=1\n",
    "                nums[prev] = nums[curr]\n",
    "                curr += 1\n",
    "\n",
    "        return prev+1 \n",
    "    \n",
    "    nums = [0,1,2,2,3,4,5]\n",
    "    removeDuplicates(nums)"
   ]
  },
  {
   "cell_type": "code",
   "execution_count": null,
   "id": "fc0bf581",
   "metadata": {},
   "outputs": [],
   "source": []
  }
 ],
 "metadata": {
  "kernelspec": {
   "display_name": "Python 3 (ipykernel)",
   "language": "python",
   "name": "python3"
  },
  "language_info": {
   "codemirror_mode": {
    "name": "ipython",
    "version": 3
   },
   "file_extension": ".py",
   "mimetype": "text/x-python",
   "name": "python",
   "nbconvert_exporter": "python",
   "pygments_lexer": "ipython3",
   "version": "3.9.13"
  }
 },
 "nbformat": 4,
 "nbformat_minor": 5
}
