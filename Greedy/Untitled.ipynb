{
 "cells": [
  {
   "cell_type": "code",
   "execution_count": 5,
   "id": "83ef4f98",
   "metadata": {},
   "outputs": [
    {
     "data": {
      "text/plain": [
       "3"
      ]
     },
     "execution_count": 5,
     "metadata": {},
     "output_type": "execute_result"
    }
   ],
   "source": [
    "## Activity Selection problem\n",
    "\n",
    "def maxActivity(arr):\n",
    "    n = len(arr)\n",
    "    arr.sort(key=lambda x : x[1])\n",
    "    prev = 0\n",
    "    res = 1\n",
    "    for i in range(1,n):\n",
    "        if arr[i][0]>=arr[prev][1]:\n",
    "            res+=1\n",
    "            prev = i\n",
    "            \n",
    "    return res\n",
    "\n",
    "arr = [(1,3),(2,4),(3,8),(10,11)]\n",
    "maxActivity(arr)\n",
    "        "
   ]
  },
  {
   "cell_type": "code",
   "execution_count": 8,
   "id": "ad59dbde",
   "metadata": {},
   "outputs": [
    {
     "name": "stdout",
     "output_type": "stream",
     "text": [
      "1\n",
      "3\n",
      "4\n"
     ]
    },
    {
     "data": {
      "text/plain": [
       "3"
      ]
     },
     "execution_count": 8,
     "metadata": {},
     "output_type": "execute_result"
    }
   ],
   "source": [
    "# method 2\n",
    "\n",
    "def maxActivity(s,f):\n",
    "    n = len(f)\n",
    "    i=0\n",
    "#     print(i)\n",
    "    res = 0\n",
    "    \n",
    "    for j in range(n):\n",
    "        if s[j]>=f[i]:\n",
    "            res+=1\n",
    "            print(j)\n",
    "            i=j\n",
    "    return res\n",
    "            \n",
    "            \n",
    "s = [1, 3, 0, 5, 8, 5]\n",
    "f = [2, 4, 6, 7, 9, 9]\n",
    "maxActivity(s,f)\n",
    "        "
   ]
  },
  {
   "cell_type": "code",
   "execution_count": 1,
   "id": "3ffa9d2c",
   "metadata": {},
   "outputs": [
    {
     "name": "stdout",
     "output_type": "stream",
     "text": [
      "160.0\n"
     ]
    }
   ],
   "source": [
    "def knapsProblem(arr,w):\n",
    "    \n",
    "    n = len(arr)\n",
    "    costweight = []\n",
    "    for i in range(n):\n",
    "        c,w = arr[i][0],arr[i][1]\n",
    "        costweight.append((c,w,((c*1.0)/w)))\n",
    "        \n",
    "    costweight = sorted(costweight,key=lambda x:x[2],reverse = True)\n",
    "    \n",
    "    res = 0.0\n",
    "    for curr in costweight:\n",
    "        if curr[1]<=w:\n",
    "            res+=curr[0]\n",
    "            w-=curr[1]\n",
    "        else:\n",
    "            res+=(curr[0]+(w/curr[1]))\n",
    "            break\n",
    "            \n",
    "    return res\n",
    "\n",
    "\n",
    "arr = [(120,30),(100,20),(60,10)]\n",
    "w = 50\n",
    "print(knapsProblem(arr,w))    "
   ]
  },
  {
   "cell_type": "code",
   "execution_count": 8,
   "id": "e0b1f933",
   "metadata": {},
   "outputs": [
    {
     "name": "stdout",
     "output_type": "stream",
     "text": [
      "Maximum value we can obtain = 180.0\n"
     ]
    }
   ],
   "source": [
    "class Item:\n",
    "    \n",
    "    def __init__(self,value, weight):\n",
    "        self.value = value\n",
    "        self.weight = weight\n",
    "        \n",
    "        \n",
    "def knapsack(w,arr):\n",
    "     \n",
    "        arr.sort(key=lambda x:(x.value/x.weight), reverse = True)\n",
    "        \n",
    "        \n",
    "        finalvalue = 0.0\n",
    "        \n",
    "        for i in arr:\n",
    "\n",
    "            if i.weight<=w:\n",
    "                w-=i.weight\n",
    "                finalvalue = i.value\n",
    "            else:\n",
    "                finalvalue += i.value*w/i.weight\n",
    "                break\n",
    "                \n",
    "        return finalvalue\n",
    "    \n",
    "    \n",
    "W = 50\n",
    "arr = [Item(60, 10), Item(100, 20), Item(120, 30)]\n",
    "\n",
    "# Function call\n",
    "max_val = knapsack(W, arr)\n",
    "print ('Maximum value we can obtain = {}'.format(max_val))\n",
    "                "
   ]
  },
  {
   "cell_type": "code",
   "execution_count": 2,
   "id": "1b65299e",
   "metadata": {},
   "outputs": [
    {
     "data": {
      "text/plain": [
       "2"
      ]
     },
     "execution_count": 2,
     "metadata": {},
     "output_type": "execute_result"
    }
   ],
   "source": [
    "### Activity Selection\n",
    "\n",
    "def maxactivities(arr):\n",
    "    n = len(arr)\n",
    "    arr.sort(key=lambda x:x[1])\n",
    "    prev=0\n",
    "    res=1\n",
    "    for curr in range(1,n):\n",
    "        if(arr[curr][0]>=arr[prev][1]):\n",
    "            res+=1\n",
    "            prev=curr\n",
    "            \n",
    "    return res\n",
    "\n",
    "arr = [(12,25),(10,20),(20,30)]\n",
    "maxactivities(arr)\n"
   ]
  },
  {
   "cell_type": "code",
   "execution_count": 5,
   "id": "5ee28775",
   "metadata": {},
   "outputs": [
    {
     "data": {
      "text/plain": [
       "60.0"
      ]
     },
     "execution_count": 5,
     "metadata": {},
     "output_type": "execute_result"
    }
   ],
   "source": [
    "### Fraction Kanpsack Problem\n",
    "\n",
    "def fknap(arr,w):\n",
    "    n = len(arr)\n",
    "    costweight = []\n",
    "    for i in range(n):\n",
    "        c,w = arr[i][0],arr[i][1]\n",
    "        costweight.append((c,w,((c*1.0)/w)))\n",
    "    costweight = sorted(costweight ,key=lambda x:x[2],reverse=True)\n",
    "    \n",
    "    res = 0.0\n",
    "    \n",
    "    for curr in costweight:\n",
    "        if curr[1]<=w:\n",
    "            res+=curr[0]\n",
    "            w-=curr[1]\n",
    "        else:\n",
    "            res+=curr[0]*(w/curr[1])\n",
    "            break\n",
    "    return res\n",
    "\n",
    "arr = [(120,30),(100,20),(60,10)]\n",
    "w = 50\n",
    "fknap(arr,w)\n",
    "        "
   ]
  },
  {
   "cell_type": "code",
   "execution_count": null,
   "id": "5e7c1e9e",
   "metadata": {},
   "outputs": [],
   "source": [
    "### Job Sequence Problem\n",
    "\n",
    "def printjobsequence(arr,t):\n",
    "    n = len(arr)\n",
    "    arr.sort(key=lambda x:x[1],reverse=True)\n",
    "    result = [False]*t\n",
    "    res=0\n",
    "    for i in range(n):\n",
    "        for j in range(min(t-1,arr[i][0]-1)-1):\n",
    "            if result[j]==False:\n",
    "                result[j]=True\n",
    "                res+=arr[i][1]\n",
    "                break\n",
    "                \n",
    "    return res\n",
    "\n",
    "arr = [(4,50),(1,5),(1,20),]"
   ]
  }
 ],
 "metadata": {
  "kernelspec": {
   "display_name": "Python 3 (ipykernel)",
   "language": "python",
   "name": "python3"
  },
  "language_info": {
   "codemirror_mode": {
    "name": "ipython",
    "version": 3
   },
   "file_extension": ".py",
   "mimetype": "text/x-python",
   "name": "python",
   "nbconvert_exporter": "python",
   "pygments_lexer": "ipython3",
   "version": "3.9.13"
  }
 },
 "nbformat": 4,
 "nbformat_minor": 5
}
