{
 "cells": [
  {
   "cell_type": "code",
   "execution_count": 1,
   "id": "0ae7c7fa",
   "metadata": {},
   "outputs": [
    {
     "data": {
      "text/plain": [
       "[7, 2, 1, 4, 6]"
      ]
     },
     "execution_count": 1,
     "metadata": {},
     "output_type": "execute_result"
    }
   ],
   "source": [
    "## left rotate with d place\n",
    "\n",
    "def rotate(arr, d):\n",
    "    n = len(arr)\n",
    "    for i in range(0,d):\n",
    "        arr.append(arr.pop(0))\n",
    "    return arr\n",
    "\n",
    "arr = [1,4,6,7,2]\n",
    "rotate(arr,3)"
   ]
  },
  {
   "cell_type": "code",
   "execution_count": 2,
   "id": "278abc6d",
   "metadata": {},
   "outputs": [
    {
     "data": {
      "text/plain": [
       "6"
      ]
     },
     "execution_count": 2,
     "metadata": {},
     "output_type": "execute_result"
    }
   ],
   "source": [
    "## maximum differnece in the array\n",
    "\n",
    "#naive\n",
    "\n",
    "def max_diff(arr,n):\n",
    "    \n",
    "    res = arr[1]-arr[0]\n",
    "    \n",
    "    for i in range(0,n-1):\n",
    "        for j in range(i+1,n):\n",
    "            res = max(res,arr[j]-arr[i])\n",
    "            \n",
    "    return res\n",
    "arr = [1,4,6,7,2]\n",
    "max_diff(arr,len(arr))"
   ]
  },
  {
   "cell_type": "code",
   "execution_count": 4,
   "id": "e1841ed5",
   "metadata": {},
   "outputs": [
    {
     "data": {
      "text/plain": [
       "6"
      ]
     },
     "execution_count": 4,
     "metadata": {},
     "output_type": "execute_result"
    }
   ],
   "source": [
    "## efficient solution\n",
    "\n",
    "def max_diff(arr,n):\n",
    "    \n",
    "    max_elemnet = arr[0]\n",
    "    min_element = arr[0]\n",
    "    \n",
    "    for i in range(n):\n",
    "        max_elemnet = max(max_elemnet,arr[i])\n",
    "        min_element = min(min_element,arr[i])\n",
    "        \n",
    "    return (max_elemnet-min_element)\n",
    "arr1 = [1,4,6,7,2]\n",
    "max_diff(arr1,len(arr1))"
   ]
  },
  {
   "cell_type": "code",
   "execution_count": 8,
   "id": "e18efab5",
   "metadata": {},
   "outputs": [
    {
     "data": {
      "text/plain": [
       "'Stock buy 40 , Stock sell 695 , max_profit 655'"
      ]
     },
     "execution_count": 8,
     "metadata": {},
     "output_type": "execute_result"
    }
   ],
   "source": [
    "## stock buy and sell approch\n",
    "\n",
    "def buy_sell(arr,n):\n",
    "    \n",
    "    if n==0:\n",
    "        return n\n",
    "    \n",
    "    buy = arr[0]\n",
    "    sell = arr[0]\n",
    "    \n",
    "    for i in range(n):\n",
    "        buy = min(buy,arr[i])\n",
    "        sell = max(sell,arr[i])\n",
    "        \n",
    "        profit = sell-buy\n",
    "        \n",
    "    return (f\"Stock buy {buy} , Stock sell {sell} , max_profit {profit}\")\n",
    "\n",
    "arr =[100, 180, 260, 310, 40, 535, 695]\n",
    "buy_sell(arr,len(arr))"
   ]
  },
  {
   "cell_type": "code",
   "execution_count": null,
   "id": "c11a74b8",
   "metadata": {},
   "outputs": [],
   "source": [
    "## Trpping rain water\n",
    "\n"
   ]
  },
  {
   "cell_type": "code",
   "execution_count": 1,
   "id": "a172651b",
   "metadata": {},
   "outputs": [
    {
     "data": {
      "text/plain": [
       "11"
      ]
     },
     "execution_count": 1,
     "metadata": {},
     "output_type": "execute_result"
    }
   ],
   "source": [
    "## maximum sum subarray\n",
    "\n",
    "def max_subarray(arr,n):\n",
    "    res = arr[0]\n",
    "    max_ending = arr[0]\n",
    "    \n",
    "    for i in range(1,n):\n",
    "        max_ending = max(max_ending+arr[i],arr[i])\n",
    "        res = max(max_ending,res)\n",
    "    return res\n",
    "\n",
    "arr = [-3,8,-2,4,-5,6]\n",
    "max_subarray(arr,len(arr))"
   ]
  },
  {
   "cell_type": "code",
   "execution_count": 6,
   "id": "ec7f30ab",
   "metadata": {},
   "outputs": [
    {
     "data": {
      "text/plain": [
       "700"
      ]
     },
     "execution_count": 6,
     "metadata": {},
     "output_type": "execute_result"
    }
   ],
   "source": [
    "# given an interger k , find the maximum subarray sum\n",
    "\n",
    "def max_subarray(arr,k):\n",
    "    n = len(arr)\n",
    "    if n<k:\n",
    "        print(\"Invalid\")\n",
    "        return -1\n",
    "    \n",
    "    res = 0\n",
    "    \n",
    "    for i in range(k):\n",
    "        res+=arr[i]\n",
    "        \n",
    "    curr_sum = res\n",
    "        \n",
    "    for i in range(k,n):\n",
    "        curr_sum+=arr[i]-arr[i-k]\n",
    "        res = max(curr_sum,res)\n",
    "        \n",
    "    return res\n",
    "\n",
    "arr = [100,200,300,400]\n",
    "k = 2\n",
    "max_subarray(arr,k)\n",
    "        "
   ]
  },
  {
   "cell_type": "code",
   "execution_count": 9,
   "id": "aea88ab0",
   "metadata": {},
   "outputs": [
    {
     "data": {
      "text/plain": [
       "4"
      ]
     },
     "execution_count": 9,
     "metadata": {},
     "output_type": "execute_result"
    }
   ],
   "source": [
    "## maximum odd na d even subarray\n",
    "\n",
    "def max_oddeven(arr,n):\n",
    "    ans = 1\n",
    "    for i in range(0,n):\n",
    "        cnt = 0\n",
    "        for j in range(i+1,n):\n",
    "            if ((arr[j]%2==0 and arr[j-1]%2!=0) \n",
    "                or (arr[j]%2!=0 and arr[j-1]%2==0)):\n",
    "                cnt+=1\n",
    "            else:\n",
    "                break\n",
    "        ans = max(ans,cnt)\n",
    "    return ans\n",
    "\n",
    "arr = [1, 2, 3, 4, 5, 7, 8]\n",
    "max_oddeven(arr,len(arr))"
   ]
  },
  {
   "cell_type": "code",
   "execution_count": 11,
   "id": "2d729785",
   "metadata": {},
   "outputs": [
    {
     "data": {
      "text/plain": [
       "6"
      ]
     },
     "execution_count": 11,
     "metadata": {},
     "output_type": "execute_result"
    }
   ],
   "source": [
    "def max_oddeven(arr,n):\n",
    "    res = 1\n",
    "    curr = 1\n",
    "    \n",
    "    for i in range(n):\n",
    "        if ((arr[i]%2==0 and arr[i-1]%2!=0) or (arr[i-1]%2==0 and arr[i]!=0)):\n",
    "            curr+=1\n",
    "            res = max(res,curr)\n",
    "        else:\n",
    "            curr = 1  \n",
    "    return res\n",
    "arr = [1, 2, 3, 4, 5, 7, 8]\n",
    "max_oddeven(arr,len(arr))"
   ]
  },
  {
   "cell_type": "code",
   "execution_count": 13,
   "id": "8cd567cb",
   "metadata": {},
   "outputs": [
    {
     "data": {
      "text/plain": [
       "31"
      ]
     },
     "execution_count": 13,
     "metadata": {},
     "output_type": "execute_result"
    }
   ],
   "source": [
    "## kadden algorithm for finding the subarray\n",
    "\n",
    "def circular_subarray(arr,n):\n",
    "    \n",
    "    sum = 0\n",
    "\n",
    "    for i in range(n):\n",
    "        sum+=arr[i]\n",
    "        \n",
    "    curr_max = arr[0]\n",
    "    max_so_far = arr[0]\n",
    "    curr_min = arr[0]\n",
    "    min_so_far = arr[0]\n",
    "    \n",
    "    ## now applying the kadden algorithm\n",
    "    \n",
    "    for i in range(1,n):\n",
    "        # for finding the maximum element\n",
    "        curr_max = max(curr_max+arr[i],arr[i])\n",
    "        max_so_far = max(max_so_far,curr_max)\n",
    "        \n",
    "        #for finding the minimum element\n",
    "        \n",
    "        curr_min = min(curr_min+arr[i],arr[i])\n",
    "        min_so_far = min(min_so_far,curr_min)\n",
    "        \n",
    "        \n",
    "    if min_so_far==sum:\n",
    "        return max_so_far\n",
    "    \n",
    "    return max(max_so_far,sum-min_so_far)\n",
    "\n",
    "a = [11, 10, -20, 5, -3, -5, 8, -13, 10]\n",
    "n = len(a)\n",
    "\n",
    "circular_subarray(a,n)       "
   ]
  },
  {
   "cell_type": "code",
   "execution_count": 17,
   "id": "e5a522f7",
   "metadata": {},
   "outputs": [
    {
     "name": "stdout",
     "output_type": "stream",
     "text": [
      "6\n"
     ]
    }
   ],
   "source": [
    "# Majority of the element\n",
    "\n",
    "def majority_element(arr,n):\n",
    "    \n",
    "    maxCount = 0\n",
    "    \n",
    "    for i in range(0,n):\n",
    "        count = 1\n",
    "        for j in range(i+1,n):\n",
    "            if arr[i]==arr[j]:\n",
    "                count+=1\n",
    "        if(count > maxCount):\n",
    "            maxCount = count\n",
    "            index = i\n",
    "    if (maxCount > n//2):\n",
    "        print(arr[index])\n",
    "        \n",
    "arr = [8,7,6,8,6,6,6,6]\n",
    "n = len(arr)\n",
    "majority_element(arr,n)"
   ]
  },
  {
   "cell_type": "code",
   "execution_count": 18,
   "id": "2d78ff9e",
   "metadata": {},
   "outputs": [
    {
     "name": "stdout",
     "output_type": "stream",
     "text": [
      "From 1 to2\n",
      "From 6 to7\n"
     ]
    }
   ],
   "source": [
    "## Maximum consecutive flips\n",
    "\n",
    "def print_groups(arr,n):\n",
    "    \n",
    "    for i in range(1,n):\n",
    "        if arr[i]!=arr[i-1]:\n",
    "            if arr[i]!=arr[0]:\n",
    "                print(\"From\",i,\"to\",end=\"\")\n",
    "            else:\n",
    "                print(i-1)\n",
    "    if arr[n-1]!=arr[0]:\n",
    "        print(n-1)\n",
    "        \n",
    "arr = [ 0, 1, 1, 0, 0, 0, 1, 1 ]\n",
    "n = len(arr)\n",
    "print_groups(arr, n)"
   ]
  },
  {
   "cell_type": "code",
   "execution_count": 22,
   "id": "ad2431a1",
   "metadata": {},
   "outputs": [
    {
     "data": {
      "text/plain": [
       "True"
      ]
     },
     "execution_count": 22,
     "metadata": {},
     "output_type": "execute_result"
    }
   ],
   "source": [
    "## Sub array wit the given sum\n",
    "\n",
    "def sub_array(arr,sum):\n",
    "    s,curr = 0,0\n",
    "    for i in range(len(arr)) :\n",
    "        curr += arr[i]\n",
    "        while (sum > curr) :\n",
    "            sum -= arr[s]\n",
    "            s += 1 \n",
    "        if (curr == sum) :\n",
    "            return True\n",
    "    return False\n",
    "\n",
    "arr = [3,2,0,4,7]\n",
    "sum = 6\n",
    "sub_array(arr,sum)"
   ]
  },
  {
   "cell_type": "code",
   "execution_count": 25,
   "id": "f03e8608",
   "metadata": {},
   "outputs": [
    {
     "data": {
      "text/plain": [
       "3"
      ]
     },
     "execution_count": 25,
     "metadata": {},
     "output_type": "execute_result"
    }
   ],
   "source": [
    "## Equilibrium point\n",
    "\n",
    "def equi_point(arr,n):\n",
    "    right_side = 0\n",
    "    left_side = 0\n",
    "    \n",
    "    for i in range(n):\n",
    "        left_side = 0\n",
    "        right_side = 0\n",
    "        \n",
    "        for j in range(i):\n",
    "            left_side+=arr[j]\n",
    "            \n",
    "        for j in range(i+1,n):\n",
    "            right_side+=arr[j]\n",
    "            \n",
    "        if left_side==right_side:\n",
    "            return i\n",
    "    return -1\n",
    "\n",
    "arr = [-7, 1, 5, 2, -4, 3, 0]\n",
    "equi_point(arr,len(arr))"
   ]
  },
  {
   "cell_type": "code",
   "execution_count": 28,
   "id": "1f5acf24",
   "metadata": {},
   "outputs": [
    {
     "ename": "TypeError",
     "evalue": "'int' object is not callable",
     "output_type": "error",
     "traceback": [
      "\u001b[1;31m---------------------------------------------------------------------------\u001b[0m",
      "\u001b[1;31mTypeError\u001b[0m                                 Traceback (most recent call last)",
      "\u001b[1;32m~\\AppData\\Local\\Temp\\ipykernel_31976\\1580661835.py\u001b[0m in \u001b[0;36m<module>\u001b[1;34m\u001b[0m\n\u001b[0;32m     22\u001b[0m \u001b[0marr\u001b[0m \u001b[1;33m=\u001b[0m \u001b[1;33m[\u001b[0m\u001b[1;33m-\u001b[0m\u001b[1;36m7\u001b[0m\u001b[1;33m,\u001b[0m \u001b[1;36m1\u001b[0m\u001b[1;33m,\u001b[0m \u001b[1;36m5\u001b[0m\u001b[1;33m,\u001b[0m \u001b[1;36m2\u001b[0m\u001b[1;33m,\u001b[0m \u001b[1;33m-\u001b[0m\u001b[1;36m4\u001b[0m\u001b[1;33m,\u001b[0m \u001b[1;36m3\u001b[0m\u001b[1;33m,\u001b[0m \u001b[1;36m0\u001b[0m\u001b[1;33m]\u001b[0m\u001b[1;33m\u001b[0m\u001b[1;33m\u001b[0m\u001b[0m\n\u001b[0;32m     23\u001b[0m print ('First equilibrium index is ',\n\u001b[1;32m---> 24\u001b[1;33m        equilibrium(arr))\n\u001b[0m",
      "\u001b[1;32m~\\AppData\\Local\\Temp\\ipykernel_31976\\1580661835.py\u001b[0m in \u001b[0;36mequilibrium\u001b[1;34m(arr)\u001b[0m\n\u001b[0;32m      3\u001b[0m \u001b[1;33m\u001b[0m\u001b[0m\n\u001b[0;32m      4\u001b[0m     \u001b[1;31m# finding the sum of whole array\u001b[0m\u001b[1;33m\u001b[0m\u001b[1;33m\u001b[0m\u001b[0m\n\u001b[1;32m----> 5\u001b[1;33m     \u001b[0mtotal_sum\u001b[0m \u001b[1;33m=\u001b[0m \u001b[0msum\u001b[0m\u001b[1;33m(\u001b[0m\u001b[0marr\u001b[0m\u001b[1;33m)\u001b[0m\u001b[1;33m\u001b[0m\u001b[1;33m\u001b[0m\u001b[0m\n\u001b[0m\u001b[0;32m      6\u001b[0m     \u001b[0mleftsum\u001b[0m \u001b[1;33m=\u001b[0m \u001b[1;36m0\u001b[0m\u001b[1;33m\u001b[0m\u001b[1;33m\u001b[0m\u001b[0m\n\u001b[0;32m      7\u001b[0m     \u001b[1;32mfor\u001b[0m \u001b[0mi\u001b[0m\u001b[1;33m,\u001b[0m \u001b[0mnum\u001b[0m \u001b[1;32min\u001b[0m \u001b[0menumerate\u001b[0m\u001b[1;33m(\u001b[0m\u001b[0marr\u001b[0m\u001b[1;33m)\u001b[0m\u001b[1;33m:\u001b[0m\u001b[1;33m\u001b[0m\u001b[1;33m\u001b[0m\u001b[0m\n",
      "\u001b[1;31mTypeError\u001b[0m: 'int' object is not callable"
     ]
    }
   ],
   "source": [
    "# function to find the equilibrium index\n",
    "def equilibrium(arr):\n",
    "\n",
    "    # finding the sum of whole array\n",
    "    total_sum = sum(arr)\n",
    "    leftsum = 0\n",
    "    for i, num in enumerate(arr):\n",
    "        \n",
    "        # total_sum is now right sum\n",
    "        # for index i\n",
    "        total_sum -= num\n",
    "        \n",
    "        if leftsum == total_sum:\n",
    "            return i\n",
    "        leftsum += num\n",
    "     \n",
    "      # If no equilibrium index found, \n",
    "      # then return -1\n",
    "    return -1\n",
    "    \n",
    "# Driver code\n",
    "arr = [-7, 1, 5, 2, -4, 3, 0]\n",
    "print ('First equilibrium index is ',\n",
    "       equilibrium(arr))"
   ]
  },
  {
   "cell_type": "code",
   "execution_count": 30,
   "id": "83ec8532",
   "metadata": {},
   "outputs": [
    {
     "name": "stdout",
     "output_type": "stream",
     "text": [
      "10  14  30  50  "
     ]
    }
   ],
   "source": [
    "# Fills prefix sum array\n",
    "def fillPrefixSum(arr, n, prefixSum):\n",
    "    prefixSum[0] = arr[0]\n",
    "    for i in range(1, n):\n",
    "        prefixSum[i] = prefixSum[i - 1] + arr[i]\n",
    "\n",
    "# Driver code\n",
    "arr =[10, 4, 16, 20 ]\n",
    "n = len(arr)\n",
    "\n",
    "prefixSum = [0 for i in range(n + 1)]\n",
    "\n",
    "fillPrefixSum(arr, n, prefixSum)\n",
    "\n",
    "for i in range(n):\n",
    "    print(prefixSum[i], \" \", end =\"\")"
   ]
  },
  {
   "cell_type": "code",
   "execution_count": 31,
   "id": "28299d86",
   "metadata": {},
   "outputs": [
    {
     "ename": "TypeError",
     "evalue": "'int' object is not callable",
     "output_type": "error",
     "traceback": [
      "\u001b[1;31m---------------------------------------------------------------------------\u001b[0m",
      "\u001b[1;31mTypeError\u001b[0m                                 Traceback (most recent call last)",
      "\u001b[1;32m~\\AppData\\Local\\Temp\\ipykernel_31976\\855205695.py\u001b[0m in \u001b[0;36m<module>\u001b[1;34m\u001b[0m\n\u001b[0;32m     32\u001b[0m \u001b[0marr\u001b[0m \u001b[1;33m=\u001b[0m \u001b[1;33m[\u001b[0m\u001b[1;36m1\u001b[0m\u001b[1;33m,\u001b[0m \u001b[1;36m4\u001b[0m\u001b[1;33m,\u001b[0m \u001b[1;36m2\u001b[0m\u001b[1;33m,\u001b[0m \u001b[1;36m10\u001b[0m\u001b[1;33m,\u001b[0m \u001b[1;36m2\u001b[0m\u001b[1;33m,\u001b[0m \u001b[1;36m3\u001b[0m\u001b[1;33m,\u001b[0m \u001b[1;36m1\u001b[0m\u001b[1;33m,\u001b[0m \u001b[1;36m0\u001b[0m\u001b[1;33m,\u001b[0m \u001b[1;36m20\u001b[0m\u001b[1;33m]\u001b[0m\u001b[1;33m\u001b[0m\u001b[1;33m\u001b[0m\u001b[0m\n\u001b[0;32m     33\u001b[0m \u001b[0mk\u001b[0m \u001b[1;33m=\u001b[0m \u001b[1;36m4\u001b[0m\u001b[1;33m\u001b[0m\u001b[1;33m\u001b[0m\u001b[0m\n\u001b[1;32m---> 34\u001b[1;33m \u001b[0mprint\u001b[0m\u001b[1;33m(\u001b[0m\u001b[0mmaxSum\u001b[0m\u001b[1;33m(\u001b[0m\u001b[0marr\u001b[0m\u001b[1;33m,\u001b[0m \u001b[0mk\u001b[0m\u001b[1;33m)\u001b[0m\u001b[1;33m)\u001b[0m\u001b[1;33m\u001b[0m\u001b[1;33m\u001b[0m\u001b[0m\n\u001b[0m",
      "\u001b[1;32m~\\AppData\\Local\\Temp\\ipykernel_31976\\855205695.py\u001b[0m in \u001b[0;36mmaxSum\u001b[1;34m(arr, k)\u001b[0m\n\u001b[0;32m     13\u001b[0m \u001b[1;33m\u001b[0m\u001b[0m\n\u001b[0;32m     14\u001b[0m         \u001b[1;31m# Compute sum of first window of size k\u001b[0m\u001b[1;33m\u001b[0m\u001b[1;33m\u001b[0m\u001b[0m\n\u001b[1;32m---> 15\u001b[1;33m         \u001b[0mwindow_sum\u001b[0m \u001b[1;33m=\u001b[0m \u001b[0msum\u001b[0m\u001b[1;33m(\u001b[0m\u001b[0marr\u001b[0m\u001b[1;33m[\u001b[0m\u001b[1;33m:\u001b[0m\u001b[0mk\u001b[0m\u001b[1;33m]\u001b[0m\u001b[1;33m)\u001b[0m\u001b[1;33m\u001b[0m\u001b[1;33m\u001b[0m\u001b[0m\n\u001b[0m\u001b[0;32m     16\u001b[0m \u001b[1;33m\u001b[0m\u001b[0m\n\u001b[0;32m     17\u001b[0m         \u001b[1;31m# first sum available\u001b[0m\u001b[1;33m\u001b[0m\u001b[1;33m\u001b[0m\u001b[0m\n",
      "\u001b[1;31mTypeError\u001b[0m: 'int' object is not callable"
     ]
    }
   ],
   "source": [
    "# O(n) solution for finding\n",
    "# maximum sum of a subarray of size k\n",
    "\n",
    "\n",
    "def maxSum(arr, k):\n",
    "\t# length of the array\n",
    "\tn = len(arr)\n",
    "\n",
    "\t# n must be greater than k\n",
    "\tif n < k:\n",
    "\t\tprint(\"Invalid\")\n",
    "\t\treturn -1\n",
    "\n",
    "\t# Compute sum of first window of size k\n",
    "\twindow_sum = sum(arr[:k])\n",
    "\n",
    "\t# first sum available\n",
    "\tmax_sum = window_sum\n",
    "\n",
    "\t# Compute the sums of remaining windows by\n",
    "\t# removing first element of previous\n",
    "\t# window and adding last element of\n",
    "\t# the current window.\n",
    "\tfor i in range(n - k):\n",
    "\t\twindow_sum = window_sum - arr[i] + arr[i + k]\n",
    "\t\tmax_sum = max(window_sum, max_sum)\n",
    "\n",
    "\treturn max_sum\n",
    "\n",
    "\n",
    "# Driver code\n",
    "arr = [1, 4, 2, 10, 2, 3, 1, 0, 20]\n",
    "k = 4\n",
    "print(maxSum(arr, k))"
   ]
  },
  {
   "cell_type": "code",
   "execution_count": 33,
   "id": "d7b96b5a",
   "metadata": {},
   "outputs": [
    {
     "name": "stdout",
     "output_type": "stream",
     "text": [
      "[]\n"
     ]
    }
   ],
   "source": [
    "list = ['a','b','c']*-3\n",
    "print(list)"
   ]
  },
  {
   "cell_type": "code",
   "execution_count": 34,
   "id": "20d993af",
   "metadata": {},
   "outputs": [
    {
     "name": "stdout",
     "output_type": "stream",
     "text": [
      "[[2, 3, 9], [2, 3, 9], [2, 3, 9]]\n"
     ]
    }
   ],
   "source": [
    "data = [2,3,9]\n",
    "\n",
    "temp = [[x for x in data] for x in range(3)]\n",
    "\n",
    "print(temp)"
   ]
  },
  {
   "cell_type": "code",
   "execution_count": 35,
   "id": "a06b3399",
   "metadata": {},
   "outputs": [
    {
     "name": "stdout",
     "output_type": "stream",
     "text": [
      "[0, 2, 4]\n"
     ]
    }
   ],
   "source": [
    "data = [x for x in range(5)]\n",
    "\n",
    "temp = [x for x in range(7) if x in data and x%2==0]\n",
    "\n",
    "print(temp)"
   ]
  },
  {
   "cell_type": "code",
   "execution_count": 37,
   "id": "0ce1a8cf",
   "metadata": {},
   "outputs": [
    {
     "name": "stdout",
     "output_type": "stream",
     "text": [
      "['G', 'F', 'G']\n"
     ]
    }
   ],
   "source": [
    "temp = [\"Geeks\",\"For\",\"Geeks\"]\n",
    "\n",
    "temp = [i[0].upper() for i in temp]\n",
    "\n",
    "print(temp)"
   ]
  },
  {
   "cell_type": "code",
   "execution_count": 40,
   "id": "4a2a6145",
   "metadata": {},
   "outputs": [
    {
     "name": "stdout",
     "output_type": "stream",
     "text": [
      "[2, 2, 6, 4, 4]\n"
     ]
    }
   ],
   "source": [
    "temp = \"Geeks22536 for445 Geeks\"\n",
    "\n",
    "data = [x for x in (int(x) for x in temp if x.isdigit()) if x%2==0]\n",
    "\n",
    "print(data)"
   ]
  },
  {
   "cell_type": "code",
   "execution_count": 42,
   "id": "55160ff0",
   "metadata": {},
   "outputs": [
    {
     "name": "stdout",
     "output_type": "stream",
     "text": [
      "[]\n"
     ]
    }
   ],
   "source": [
    "data = [x for x in (x for x in \"Geeks 22966 for Geeks\" if x.isdigit()) if (x in ([x for x in range(20)]))]\n",
    "\n",
    "print(data)"
   ]
  },
  {
   "cell_type": "code",
   "execution_count": 43,
   "id": "765d21d3",
   "metadata": {},
   "outputs": [
    {
     "name": "stdout",
     "output_type": "stream",
     "text": [
      "11\n"
     ]
    }
   ],
   "source": [
    "L1 = []\n",
    "\n",
    "L1.append([1,[2,3],4])\n",
    "L1.extend([7,8,9])\n",
    "print(L1[0][1][1]+L1[2])"
   ]
  },
  {
   "cell_type": "code",
   "execution_count": 45,
   "id": "46dd4845",
   "metadata": {},
   "outputs": [
    {
     "ename": "TypeError",
     "evalue": "'list' object is not callable",
     "output_type": "error",
     "traceback": [
      "\u001b[1;31m---------------------------------------------------------------------------\u001b[0m",
      "\u001b[1;31mTypeError\u001b[0m                                 Traceback (most recent call last)",
      "\u001b[1;32m~\\AppData\\Local\\Temp\\ipykernel_31976\\490264936.py\u001b[0m in \u001b[0;36m<module>\u001b[1;34m\u001b[0m\n\u001b[0;32m      2\u001b[0m \u001b[0md2\u001b[0m \u001b[1;33m=\u001b[0m \u001b[1;33m[\u001b[0m\u001b[1;36m1\u001b[0m\u001b[1;33m,\u001b[0m\u001b[1;36m2\u001b[0m\u001b[1;33m,\u001b[0m\u001b[1;36m3\u001b[0m\u001b[1;33m,\u001b[0m\u001b[1;36m4\u001b[0m\u001b[1;33m,\u001b[0m\u001b[1;36m5\u001b[0m\u001b[1;33m]\u001b[0m\u001b[1;33m\u001b[0m\u001b[1;33m\u001b[0m\u001b[0m\n\u001b[0;32m      3\u001b[0m \u001b[1;33m\u001b[0m\u001b[0m\n\u001b[1;32m----> 4\u001b[1;33m \u001b[0msubstracted\u001b[0m \u001b[1;33m=\u001b[0m \u001b[0mlist\u001b[0m\u001b[1;33m(\u001b[0m\u001b[1;33m)\u001b[0m\u001b[1;33m\u001b[0m\u001b[1;33m\u001b[0m\u001b[0m\n\u001b[0m\u001b[0;32m      5\u001b[0m \u001b[1;33m\u001b[0m\u001b[0m\n\u001b[0;32m      6\u001b[0m \u001b[1;32mfor\u001b[0m \u001b[0md1\u001b[0m\u001b[1;33m,\u001b[0m\u001b[0md2\u001b[0m \u001b[1;32min\u001b[0m \u001b[0mzip\u001b[0m\u001b[1;33m(\u001b[0m\u001b[0md1\u001b[0m\u001b[1;33m,\u001b[0m\u001b[0md2\u001b[0m\u001b[1;33m)\u001b[0m\u001b[1;33m:\u001b[0m\u001b[1;33m\u001b[0m\u001b[1;33m\u001b[0m\u001b[0m\n",
      "\u001b[1;31mTypeError\u001b[0m: 'list' object is not callable"
     ]
    }
   ],
   "source": [
    "d1 = [10,20,30,40,50]\n",
    "d2 = [1,2,3,4,5]\n",
    "\n",
    "substracted = list()\n",
    "\n",
    "for d1,d2 in zip(d1,d2):\n",
    "    item = d1-d2\n",
    "    substracted.append(item)\n",
    "    \n",
    "print(substracted)"
   ]
  },
  {
   "cell_type": "code",
   "execution_count": null,
   "id": "70130e44",
   "metadata": {},
   "outputs": [],
   "source": []
  }
 ],
 "metadata": {
  "kernelspec": {
   "display_name": "Python 3 (ipykernel)",
   "language": "python",
   "name": "python3"
  },
  "language_info": {
   "codemirror_mode": {
    "name": "ipython",
    "version": 3
   },
   "file_extension": ".py",
   "mimetype": "text/x-python",
   "name": "python",
   "nbconvert_exporter": "python",
   "pygments_lexer": "ipython3",
   "version": "3.9.13"
  }
 },
 "nbformat": 4,
 "nbformat_minor": 5
}
