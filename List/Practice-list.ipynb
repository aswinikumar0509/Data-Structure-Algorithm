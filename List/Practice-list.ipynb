{
 "cells": [
  {
   "cell_type": "code",
   "execution_count": 1,
   "id": "7854f936",
   "metadata": {},
   "outputs": [
    {
     "name": "stdout",
     "output_type": "stream",
     "text": [
      "[2, 4, 1, 3, 5]\n"
     ]
    }
   ],
   "source": [
    "## rotating the element fo k times\n",
    "\n",
    "def left_rotate(arr,d):\n",
    "    for i in range(0,d):\n",
    "        arr.append(arr.pop(i))\n",
    "    return arr\n",
    "        \n",
    "        \n",
    "        \n",
    "arr = [1,2,3,4,5]\n",
    "d = 3\n",
    "print(left_rotate(arr,d))"
   ]
  },
  {
   "cell_type": "code",
   "execution_count": 2,
   "id": "34a2e0d3",
   "metadata": {},
   "outputs": [
    {
     "data": {
      "text/plain": [
       "4"
      ]
     },
     "execution_count": 2,
     "metadata": {},
     "output_type": "execute_result"
    }
   ],
   "source": [
    "## Maximum value in the given array\n",
    "## Naive approch\n",
    "\n",
    "def max_value(arr):\n",
    "    \n",
    "    res = arr[1]-arr[0]\n",
    "    \n",
    "    for i in range(len(arr)-1):\n",
    "        for j in range(i+1,len(arr)):\n",
    "            res = max(res,arr[j]-arr[i])\n",
    "            \n",
    "    return res\n",
    "\n",
    "\n",
    "arr = [3,4,5,6,7]\n",
    "max_value(arr)\n",
    "        "
   ]
  },
  {
   "cell_type": "code",
   "execution_count": 3,
   "id": "178dbc60",
   "metadata": {},
   "outputs": [
    {
     "data": {
      "text/plain": [
       "4"
      ]
     },
     "execution_count": 3,
     "metadata": {},
     "output_type": "execute_result"
    }
   ],
   "source": [
    "## Efficient approch\n",
    "\n",
    "def max_value(arr):\n",
    "    \n",
    "    res = arr[1]-arr[0]\n",
    "    minval = arr[0]\n",
    "    \n",
    "    for j in range(1,len(arr)):\n",
    "        \n",
    "        res = max(res,arr[j]-minval)\n",
    "        minval = min(arr[j],minval)\n",
    "        \n",
    "    return res\n",
    "\n",
    "arr = [3,4,5,6,7]\n",
    "max_value(arr)"
   ]
  },
  {
   "cell_type": "code",
   "execution_count": 4,
   "id": "8e2aaa19",
   "metadata": {},
   "outputs": [
    {
     "data": {
      "text/plain": [
       "5"
      ]
     },
     "execution_count": 4,
     "metadata": {},
     "output_type": "execute_result"
    }
   ],
   "source": [
    "## Stock Buy and sells problem\n",
    "\n",
    "def maxProfit(arr,b,e):\n",
    "    if(e<=b):\n",
    "        return 0\n",
    "    res=0\n",
    "    for i in range(b, e):\n",
    "        for j in range(i+1, e+1):\n",
    "            if(arr[j]>arr[i]):\n",
    "                curr=arr[j]-arr[i]+maxProfit(arr, 0, i-1)+maxProfit(arr, j+1, e)\n",
    "                res=max(res, curr)\n",
    "    return res\n",
    "\n",
    "arr = [1,2,3,4,5]\n",
    "s = 0\n",
    "e = len(arr)-1\n",
    "maxProfit(arr,s,e)"
   ]
  },
  {
   "cell_type": "code",
   "execution_count": 5,
   "id": "005e7afb",
   "metadata": {},
   "outputs": [
    {
     "data": {
      "text/plain": [
       "4"
      ]
     },
     "execution_count": 5,
     "metadata": {},
     "output_type": "execute_result"
    }
   ],
   "source": [
    "def maxprofit(arr):\n",
    "    \n",
    "    profit = 0\n",
    "    \n",
    "    for i in range(1,len(arr)):\n",
    "        if arr[i]>arr[i-1]:\n",
    "            profit+=arr[i]-arr[i-1]\n",
    "    return profit\n",
    "\n",
    "arr = [1,2,3,4,5]\n",
    "maxprofit(arr)"
   ]
  },
  {
   "cell_type": "code",
   "execution_count": 6,
   "id": "ff9ad30a",
   "metadata": {},
   "outputs": [
    {
     "data": {
      "text/plain": [
       "5"
      ]
     },
     "execution_count": 6,
     "metadata": {},
     "output_type": "execute_result"
    }
   ],
   "source": [
    "## Trapping rainwater problem\n",
    "\n",
    "def trapwater(arr,n):\n",
    "    \n",
    "    res = 0\n",
    "    for i in range(1,n-1):\n",
    "        lmax = arr[i]\n",
    "        \n",
    "        for j in range(0,i):\n",
    "            lmax = max(lmax,arr[j])\n",
    "        rmax = arr[j]\n",
    "        \n",
    "        for j in range(i+1,n):\n",
    "            rmax = max(rmax,arr[j])\n",
    "        res = res+(min(lmax,rmax)-arr[i])\n",
    "        \n",
    "    return res\n",
    "arr = [3,1,0,3,4]\n",
    "n = len(arr)\n",
    "trapwater(arr,n)"
   ]
  },
  {
   "cell_type": "code",
   "execution_count": 7,
   "id": "222048b2",
   "metadata": {},
   "outputs": [
    {
     "name": "stdout",
     "output_type": "stream",
     "text": [
      "5\n"
     ]
    }
   ],
   "source": [
    "# Efficient approch\n",
    "def getWater(arr, n):\n",
    "    res=0\n",
    "    lmax=[0]*n\n",
    "    rmax=[0]*n \n",
    "    \n",
    "    lmax[0]= arr[0]\n",
    "    for i in range(1, n):\n",
    "        lmax[i]= max(arr[i], lmax[i-1])\n",
    "    \n",
    "    rmax[n-1]=arr[n-1]\n",
    "    for i in range(n-2, -1, -1):\n",
    "        rmax[i]= max(arr[i], rmax[i+1])\n",
    "        \n",
    "    for i in range(1, n-1):\n",
    "        res=res+(min(lmax[i], rmax[i])-arr[i])\n",
    "    return res\n",
    "\n",
    "n=5\n",
    "arr=[3, 1, 0, 3, 4]\n",
    "print(getWater(arr, n))\n",
    "    \n",
    "    "
   ]
  },
  {
   "cell_type": "code",
   "execution_count": 8,
   "id": "0d48e713",
   "metadata": {},
   "outputs": [
    {
     "name": "stdout",
     "output_type": "stream",
     "text": [
      "4\n"
     ]
    }
   ],
   "source": [
    "## Maximum subarraysum\n",
    "\n",
    "def maxsum(arr,n):\n",
    "    \n",
    "    res = arr[0]\n",
    "    \n",
    "    for i in range(0,n):\n",
    "        curr = 0\n",
    "        \n",
    "        for j in range(i,n):\n",
    "            curr+=arr[j]\n",
    "            res = max(res,curr)\n",
    "            \n",
    "    return res\n",
    "\n",
    "n=5\n",
    "arr=[1, -2, 3, -1, 2]\n",
    "print(maxsum(arr, n))"
   ]
  },
  {
   "cell_type": "code",
   "execution_count": 9,
   "id": "1aaa3728",
   "metadata": {
    "scrolled": true
   },
   "outputs": [
    {
     "name": "stdout",
     "output_type": "stream",
     "text": [
      "4\n"
     ]
    }
   ],
   "source": [
    "#efficient approch for this question\n",
    "\n",
    "def maxsum(arr,n):\n",
    "    \n",
    "    res = arr[0]\n",
    "    maxending = arr[0]\n",
    "    \n",
    "    for i in range(0,n):\n",
    "        maxending = max(maxending+arr[i],arr[i])\n",
    "        res = max(res,maxending)\n",
    "        \n",
    "    return res\n",
    "\n",
    "arr=[1, -2, 3, -1, 2]\n",
    "n = len(arr)\n",
    "print(maxsum(arr,n))"
   ]
  },
  {
   "cell_type": "code",
   "execution_count": 10,
   "id": "8d507b51",
   "metadata": {},
   "outputs": [
    {
     "data": {
      "text/plain": [
       "3"
      ]
     },
     "execution_count": 10,
     "metadata": {},
     "output_type": "execute_result"
    }
   ],
   "source": [
    "## Chwcking the alternate of odd and even in the array and checking the len of the array\n",
    "\n",
    "def oddeven(arr,n):\n",
    "    res = 1\n",
    "    curr = 1\n",
    "    for i in range(1, n):\n",
    "        if((arr[i]%2==0 and arr[i-1]%2!=0) or (arr[i]%2!=0 and arr[i-1]%2==0)):\n",
    "            curr+=1\n",
    "            res=max(res, curr)\n",
    "        else:\n",
    "            curr=1 \n",
    "            \n",
    "    return res\n",
    "\n",
    "arr = [5, 10, 20, 6, 3, 8]\n",
    "n = len(arr)\n",
    "oddeven(arr,n)\n",
    "            "
   ]
  },
  {
   "cell_type": "code",
   "execution_count": 11,
   "id": "a2f55926",
   "metadata": {},
   "outputs": [],
   "source": [
    "## Minimum consecutive flips"
   ]
  },
  {
   "cell_type": "code",
   "execution_count": 13,
   "id": "6d6cd61c",
   "metadata": {},
   "outputs": [
    {
     "name": "stdout",
     "output_type": "stream",
     "text": [
      "From  2 to 3\n",
      "From  6 to 7\n",
      "None\n"
     ]
    }
   ],
   "source": [
    "def printgroup(arr,n):\n",
    "    \n",
    "    for i in range(1,n):\n",
    "        if arr[i]!=arr[i-1]:\n",
    "            if arr[i]!=arr[0]:\n",
    "                print('From ', i ,'to' , end=\" \")\n",
    "            else:\n",
    "                print(i-1)\n",
    "                \n",
    "    if arr[n-1]!=arr[0]:\n",
    "        print(n-1)\n",
    "        \n",
    "n=9\n",
    "arr=[0, 0, 1, 1, 0, 0, 1, 1, 0]\n",
    "print(printgroup(arr, n))"
   ]
  },
  {
   "cell_type": "code",
   "execution_count": 5,
   "id": "fe1c9991",
   "metadata": {},
   "outputs": [
    {
     "data": {
      "text/plain": [
       "23"
      ]
     },
     "execution_count": 5,
     "metadata": {},
     "output_type": "execute_result"
    }
   ],
   "source": [
    "# finding the maximum sum of the subarray using ksim\n",
    "\n",
    "def subarraysumK(arr,n , k):\n",
    "    res = 0\n",
    "    i=0\n",
    "    while(i+k-1<n):\n",
    "        curr = 0\n",
    "        for j in range(k):\n",
    "            curr+=arr[i+j]\n",
    "        res = max(curr,res)\n",
    "        i+=1\n",
    "        \n",
    "    return res\n",
    "    \n",
    "arr = [10,5,-2,20,1]\n",
    "n = len(arr)\n",
    "k = 3\n",
    "subarraysumK(arr,n,k)"
   ]
  },
  {
   "cell_type": "code",
   "execution_count": 6,
   "id": "f08a54a5",
   "metadata": {},
   "outputs": [
    {
     "data": {
      "text/plain": [
       "23"
      ]
     },
     "execution_count": 6,
     "metadata": {},
     "output_type": "execute_result"
    }
   ],
   "source": [
    "#efficent approch\n",
    "\n",
    "def subarraysumk(arr,n,k):\n",
    "    curr = 0\n",
    "    for i in range(k):\n",
    "        curr+arr[i]\n",
    "    res = curr   \n",
    "    for i in range(k,len(arr)):\n",
    "        curr = curr +arr[i] - arr[i-k]\n",
    "        \n",
    "        res = max(res,curr)\n",
    "        \n",
    "    return res\n",
    "arr = [10,5,-2,20,1]\n",
    "n = len(arr)\n",
    "k = 3\n",
    "subarraysumK(arr,n,k)"
   ]
  },
  {
   "cell_type": "code",
   "execution_count": 10,
   "id": "1af189ec",
   "metadata": {},
   "outputs": [
    {
     "name": "stdout",
     "output_type": "stream",
     "text": [
      "True\n"
     ]
    }
   ],
   "source": [
    "# subarray with the given sum\n",
    "\n",
    "def subarraysum(arr,sum):\n",
    "    \n",
    "    for i in range(len(arr)):\n",
    "        curr = 0\n",
    "        for j in range(i,len(arr)):\n",
    "            curr+=arr[j]\n",
    "            if (curr==sum):\n",
    "                return True\n",
    "    return False\n",
    "\n",
    "arr = [3,2,0,4,7]\n",
    "sum = 6\n",
    "print(subarraysum(arr,sum))"
   ]
  },
  {
   "cell_type": "code",
   "execution_count": null,
   "id": "7fabce4c",
   "metadata": {},
   "outputs": [],
   "source": [
    "## Efficient approch\n",
    "\n",
    "def subarraysum(arr,sum):\n",
    "    \n",
    "    s,curr = 0,0\n",
    "    \n",
    "    for i in range(len(arr)):\n",
    "        curr+=arr[i]\n",
    "        \n",
    "        while(curr>sum):\n",
    "            curr-=arr[s]\n",
    "            s+=\n",
    "            \n",
    "            "
   ]
  }
 ],
 "metadata": {
  "kernelspec": {
   "display_name": "Python 3 (ipykernel)",
   "language": "python",
   "name": "python3"
  },
  "language_info": {
   "codemirror_mode": {
    "name": "ipython",
    "version": 3
   },
   "file_extension": ".py",
   "mimetype": "text/x-python",
   "name": "python",
   "nbconvert_exporter": "python",
   "pygments_lexer": "ipython3",
   "version": "3.9.13"
  }
 },
 "nbformat": 4,
 "nbformat_minor": 5
}
