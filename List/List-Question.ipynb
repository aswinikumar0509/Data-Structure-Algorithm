{
 "cells": [
  {
   "cell_type": "code",
   "execution_count": 1,
   "id": "4e5e94ab",
   "metadata": {},
   "outputs": [
    {
     "name": "stdout",
     "output_type": "stream",
     "text": [
      "Hello, going to practice the list and recurssion question \n"
     ]
    }
   ],
   "source": [
    "print('Hello, going to practice the list and recurssion question ')"
   ]
  },
  {
   "cell_type": "code",
   "execution_count": 2,
   "id": "995d4649",
   "metadata": {},
   "outputs": [
    {
     "name": "stdout",
     "output_type": "stream",
     "text": [
      "5\n"
     ]
    }
   ],
   "source": [
    "## Finding the average in the list\n",
    "\n",
    "def average(lst):\n",
    "    return sum(lst)//len(lst)\n",
    "\n",
    "lst = [2,4,5,6,7,8]\n",
    "print(average(lst))"
   ]
  },
  {
   "cell_type": "code",
   "execution_count": 3,
   "id": "da4683e3",
   "metadata": {},
   "outputs": [
    {
     "name": "stdout",
     "output_type": "stream",
     "text": [
      "[40, 50, 10, 20, 30]\n"
     ]
    }
   ],
   "source": [
    "def reverse(l,b,e):\n",
    "    while b<e:\n",
    "        l[b],l[e]=l[e],l[b]\n",
    "        b=b+1\n",
    "        e=e-1\n",
    "\n",
    "\n",
    "def kRotate(l,k):\n",
    "    n=len(l)\n",
    "    reverse(l,0,k-1)\n",
    "    reverse(l,k,n-1)\n",
    "    reverse(l,0,n-1)\n",
    "\n",
    "\n",
    "l=[10,20,30,40,50]\n",
    "k=3\n",
    "kRotate(l, k)\n",
    "print(l)\n"
   ]
  },
  {
   "cell_type": "code",
   "execution_count": 4,
   "id": "c6cbb5f8",
   "metadata": {},
   "outputs": [
    {
     "data": {
      "text/plain": [
       "4"
      ]
     },
     "execution_count": 4,
     "metadata": {},
     "output_type": "execute_result"
    }
   ],
   "source": [
    "## Maximum difference\n",
    "\n",
    "def maxdiff(arr,n):\n",
    "    arr.sort()\n",
    "    res = 0\n",
    "    for i in range(0,n-1):\n",
    "        for j in range(i+1,n):\n",
    "            res = max(res,arr[j]-arr[i])\n",
    "    return res\n",
    "\n",
    "arr = [2,1,5,3]\n",
    "n = len(arr)\n",
    "maxdiff(arr,n)"
   ]
  },
  {
   "cell_type": "code",
   "execution_count": 5,
   "id": "39b2e2a9",
   "metadata": {},
   "outputs": [
    {
     "data": {
      "text/plain": [
       "'Maximum price :  5 and Minimum price :  1 and Maximum profit : 4'"
      ]
     },
     "execution_count": 5,
     "metadata": {},
     "output_type": "execute_result"
    }
   ],
   "source": [
    "## Efficient approch\n",
    "\n",
    "def maxdiff(arr,n):\n",
    "    min_ele = arr[0]\n",
    "    max_ele = arr[0]\n",
    "    for i in range(1,n):\n",
    "        min_ele = min(min_ele,arr[i])\n",
    "        max_ele = max(max_ele,arr[i])\n",
    "        \n",
    "    return (f\"Maximum price :  {max_ele} and Minimum price :  {min_ele} and Maximum profit : {max_ele-min_ele}\")\n",
    "\n",
    "arr = [2,1,5,3]\n",
    "n  = len(arr)\n",
    "maxdiff(arr,n)"
   ]
  },
  {
   "cell_type": "code",
   "execution_count": 6,
   "id": "bce7319f",
   "metadata": {},
   "outputs": [
    {
     "data": {
      "text/plain": [
       "6"
      ]
     },
     "execution_count": 6,
     "metadata": {},
     "output_type": "execute_result"
    }
   ],
   "source": [
    "## Trapping rain water\n",
    "\n",
    "def maxwater(arr,n):\n",
    "    \n",
    "    res = 0\n",
    "    \n",
    "    for i in range(1,n-1):\n",
    "        \n",
    "        left = arr[i]\n",
    "        \n",
    "        for j in range(i):\n",
    "            \n",
    "            left  = max(left,arr[j])\n",
    "            \n",
    "        right = arr[i]\n",
    "            \n",
    "        for j in range(i+1,n):\n",
    "            \n",
    "            right = max(right,arr[j])\n",
    "            \n",
    "            \n",
    "        res = res+(min(left,right)-arr[i])\n",
    "        \n",
    "    return res\n",
    "\n",
    "arr = [0,1,0,2,1,0,1,3,2,1,2,1]\n",
    "n = len(arr)\n",
    "maxwater(arr,n)\n",
    "            "
   ]
  },
  {
   "cell_type": "code",
   "execution_count": 7,
   "id": "1301f987",
   "metadata": {},
   "outputs": [
    {
     "data": {
      "text/plain": [
       "6"
      ]
     },
     "execution_count": 7,
     "metadata": {},
     "output_type": "execute_result"
    }
   ],
   "source": [
    "## Efficient approch\n",
    "\n",
    "def trap_rain_water(arr,n):\n",
    "    \n",
    "    water = 0\n",
    "    \n",
    "    left = [0]*n\n",
    "    \n",
    "    right = [0]*n\n",
    "    \n",
    "    left[0] = arr[0]\n",
    "    \n",
    "    for i in range(1,n):\n",
    "        left[i] = max(left[i-1],arr[i])\n",
    "        \n",
    "    right[n-1] = arr[n-1]\n",
    "    \n",
    "    for i in range(n-2,-1,-1):\n",
    "        right[i] = max(right[i+1],arr[i])\n",
    "        \n",
    "        \n",
    "    for i in range(0,n):\n",
    "        water+=min(left[i],right[i])-arr[i]\n",
    "        \n",
    "    return water\n",
    "\n",
    "arr = [0,1,0,2,1,0,1,3,2,1,2,1]\n",
    "n = len(arr)\n",
    "trap_rain_water(arr,n)\n"
   ]
  },
  {
   "cell_type": "code",
   "execution_count": 8,
   "id": "db510bbf",
   "metadata": {},
   "outputs": [
    {
     "data": {
      "text/plain": [
       "700"
      ]
     },
     "execution_count": 8,
     "metadata": {},
     "output_type": "execute_result"
    }
   ],
   "source": [
    "#Maximum subarray of size k\n",
    "\n",
    "def maxSum(arr,n,k):\n",
    "    \n",
    "    if (n<k):\n",
    "        print('Invalid')\n",
    "        return -1\n",
    "    \n",
    "    res = 0\n",
    "    for i in range(k):\n",
    "        res+=arr[i]\n",
    "        \n",
    "    curr_sum = res\n",
    "    for i in range(k,n):\n",
    "        curr_sum += arr[i]-arr[i-k]\n",
    "        res = max(res,curr_sum)\n",
    "        \n",
    "    return res\n",
    "\n",
    "arr = [100,200,300,400]\n",
    "k = 2\n",
    "n = len(arr)\n",
    "maxSum(arr,n,k)        "
   ]
  },
  {
   "cell_type": "code",
   "execution_count": 9,
   "id": "86a7657e",
   "metadata": {},
   "outputs": [
    {
     "data": {
      "text/plain": [
       "31"
      ]
     },
     "execution_count": 9,
     "metadata": {},
     "output_type": "execute_result"
    }
   ],
   "source": [
    "## Maximum Circular Sub array using kadeen algorithm\n",
    "def maximumCircularSum(arr,n):\n",
    "    if (n==1):\n",
    "        return arr[0]\n",
    "    sum = 0\n",
    "    for i in range(n):\n",
    "        sum+=arr[i]\n",
    "        \n",
    "        \n",
    "    curr_max = arr[0]\n",
    "    max_so_far = arr[0]\n",
    "    curr_min = arr[0]\n",
    "    min_so_far = arr[0]\n",
    "    \n",
    "    for i in range(1,n):\n",
    "        curr_max = max(curr_max+arr[i],arr[i])\n",
    "        max_so_far = max(max_so_far,curr_max)\n",
    "        \n",
    "        curr_min = min(curr_min+arr[i],arr[i])\n",
    "        min_so_far = min(min_so_far,curr_min)\n",
    "        \n",
    "    if (min_so_far==sum):\n",
    "        return max_so_far\n",
    "    \n",
    "    return max(max_so_far,sum-min_so_far)\n",
    "\n",
    "a = [11,10,-20,5,-3,-5,8,-12,10]\n",
    "n = len(a)\n",
    "maximumCircularSum(a,n)   "
   ]
  },
  {
   "cell_type": "code",
   "execution_count": 10,
   "id": "c7e733a0",
   "metadata": {},
   "outputs": [
    {
     "name": "stdout",
     "output_type": "stream",
     "text": [
      "4\n"
     ]
    }
   ],
   "source": [
    "## Majority Element\n",
    "\n",
    "def find_majority(arr,n):\n",
    "    maxcount = 0\n",
    "    index = -1\n",
    "    for i in range(n):\n",
    "        count = 0\n",
    "        for j in range(n):\n",
    "            if (arr[i]==arr[j]):\n",
    "                count+=1\n",
    "                \n",
    "        if (count>maxcount):\n",
    "            maxcount = count\n",
    "            index = i\n",
    "            \n",
    "    if (maxcount>n//2):\n",
    "        print(arr[index])\n",
    "    else:\n",
    "        print(\"No maxcount\")\n",
    "        \n",
    "arr = [3,4,3,2,4,4,4,4]\n",
    "n = len(arr)\n",
    "find_majority(arr,n)"
   ]
  },
  {
   "cell_type": "code",
   "execution_count": 11,
   "id": "683f8e24",
   "metadata": {},
   "outputs": [
    {
     "name": "stdout",
     "output_type": "stream",
     "text": [
      "No majority candiate\n"
     ]
    }
   ],
   "source": [
    "# Efficient algorithm -> Moores Voting Algorithm\n",
    "\n",
    "def find_candiate(arr):\n",
    "    max_index = 0\n",
    "    count = 1\n",
    "    for i in range(len(arr)):\n",
    "        if (arr[max_index]==arr[i]):\n",
    "            count+=1\n",
    "        else:\n",
    "            count-=1\n",
    "            \n",
    "        if (count==0):\n",
    "            max_index=i\n",
    "            count=1\n",
    "    return arr[max_index]\n",
    "\n",
    "def is_majority(arr,cand):\n",
    "    count = 0\n",
    "    for i in range(len(arr)):\n",
    "        if (arr[i]==cand):\n",
    "            count+=1\n",
    "        if (count>len(arr)//2):\n",
    "            return True\n",
    "        else:\n",
    "            return False\n",
    "        \n",
    "def print_majority(arr):\n",
    "    cand = find_candiate(arr)\n",
    "    if is_majority(arr,cand)==True:\n",
    "        print(cand)\n",
    "    else:\n",
    "        print(\"No majority candiate\")\n",
    "        \n",
    "arr = [3,4,3,2,4,4,4,4]\n",
    "print_majority(arr)"
   ]
  },
  {
   "cell_type": "code",
   "execution_count": 12,
   "id": "1199e5c8",
   "metadata": {},
   "outputs": [
    {
     "name": "stdout",
     "output_type": "stream",
     "text": [
      "From 3 to 5\n"
     ]
    }
   ],
   "source": [
    "## Minimum consecutive flips\n",
    "\n",
    "def printgroup(arr,n):\n",
    "    \n",
    "    for i in range(1,n):\n",
    "        if (arr[i]!=arr[i-1]):\n",
    "            \n",
    "            if (arr[i]!=arr[0]):\n",
    "                print(\"From\",i,\"to\",end = \" \")\n",
    "            else:\n",
    "                print(i-1)\n",
    "                \n",
    "    if (arr[n-1]!=arr[0]):\n",
    "        print(n-1)\n",
    "        \n",
    "arr = [1,1,1,0,0,0,1,1]\n",
    "n = len(arr)\n",
    "printgroup(arr,n)"
   ]
  },
  {
   "cell_type": "code",
   "execution_count": 13,
   "id": "e10c906e",
   "metadata": {},
   "outputs": [
    {
     "data": {
      "text/plain": [
       "-9223372036854775808"
      ]
     },
     "execution_count": 13,
     "metadata": {},
     "output_type": "execute_result"
    }
   ],
   "source": [
    "## Sliding window technique\n",
    "\n",
    "import sys\n",
    "\n",
    "INT_MIN = -sys.maxsize-1\n",
    "\n",
    "def max_sum(arr,n,k):\n",
    "    \n",
    "    max_sum = INT_MIN\n",
    "    for i in range(n-k+1):\n",
    "        curr_sum = 0\n",
    "        for j in range(k):\n",
    "            curr_sum = curr_sum+arr[i+j]\n",
    "            curr_sum = max(curr_sum,max_sum)\n",
    "    return max_sum\n",
    "\n",
    "arr = [1,4,2,10,2,4,3,10,20]\n",
    "n = len(arr)\n",
    "k = 4\n",
    "max_sum(arr,n,k)"
   ]
  },
  {
   "cell_type": "code",
   "execution_count": 14,
   "id": "8d4aef23",
   "metadata": {},
   "outputs": [
    {
     "data": {
      "text/plain": [
       "37"
      ]
     },
     "execution_count": 14,
     "metadata": {},
     "output_type": "execute_result"
    }
   ],
   "source": [
    "def max_sum(arr,k):\n",
    "    n = len(arr)\n",
    "    if (n<k):\n",
    "        print(\"Invalid\")\n",
    "        return -1\n",
    "    \n",
    "    window_sum = sum(arr[:k])\n",
    "    max_sum = window_sum\n",
    "    for i in range(n-k):\n",
    "        window_sum = window_sum-arr[i]+arr[i+k]\n",
    "        max_sum = max(window_sum,max_sum)\n",
    "    return max_sum\n",
    "\n",
    "arr = [1,4,2,10,2,4,3,10,20]\n",
    "k = 4\n",
    "max_sum(arr,k)"
   ]
  },
  {
   "cell_type": "code",
   "execution_count": 15,
   "id": "035ff71c",
   "metadata": {},
   "outputs": [
    {
     "data": {
      "text/plain": [
       "True"
      ]
     },
     "execution_count": 15,
     "metadata": {},
     "output_type": "execute_result"
    }
   ],
   "source": [
    "## Subarray with the given sum\n",
    "\n",
    "def issubsum(arr,sum):\n",
    "    for i in range(len(arr)):\n",
    "        curr = 0\n",
    "        for j in range(i,len(arr)):\n",
    "            curr+=arr[j]\n",
    "            if (curr==sum):\n",
    "                return True\n",
    "        \n",
    "    return False\n",
    "\n",
    "arr = [3,2,0,4,7]\n",
    "sum = 6\n",
    "issubsum(arr,sum)"
   ]
  },
  {
   "cell_type": "code",
   "execution_count": 16,
   "id": "351a8f34",
   "metadata": {},
   "outputs": [
    {
     "data": {
      "text/plain": [
       "True"
      ]
     },
     "execution_count": 16,
     "metadata": {},
     "output_type": "execute_result"
    }
   ],
   "source": [
    "##Efficient\n",
    "\n",
    "def issubsum(arr,sum):\n",
    "    s,curr = 0,0\n",
    "    for i in range(len(arr)):\n",
    "        curr+=arr[i]\n",
    "        while(sum>curr):\n",
    "            sum-=arr[s]\n",
    "            s+=1\n",
    "        if(curr==sum):\n",
    "            return True\n",
    "    return False\n",
    "\n",
    "arr = [3,2,0,4,7]\n",
    "sum = 6\n",
    "issubsum(arr,sum)"
   ]
  },
  {
   "cell_type": "code",
   "execution_count": 17,
   "id": "e9feeac4",
   "metadata": {},
   "outputs": [
    {
     "name": "stdout",
     "output_type": "stream",
     "text": [
      "10,30,40,45,60,"
     ]
    }
   ],
   "source": [
    "## Prefix Sum\n",
    "prefixsum = [0 for i in range(n+1)]\n",
    "def prefixsumarr(arr,n,prefixsum):\n",
    "    prefixsum[0] = arr[0]\n",
    "    for i in range(1,n):\n",
    "        prefixsum[i] = prefixsum[i-1]+arr[i]\n",
    "        \n",
    "arr = [10,20,10,5,15]\n",
    "n = len(arr)\n",
    "        \n",
    "prefixsumarr(arr,n,prefixsum)\n",
    "\n",
    "for i in range(n):\n",
    "    print(prefixsum[i],end = \",\")\n",
    "        "
   ]
  },
  {
   "cell_type": "code",
   "execution_count": 18,
   "id": "5847789f",
   "metadata": {},
   "outputs": [
    {
     "data": {
      "text/plain": [
       "3"
      ]
     },
     "execution_count": 18,
     "metadata": {},
     "output_type": "execute_result"
    }
   ],
   "source": [
    "## Equilibrium Point\n",
    "\n",
    "def equilibrinum(arr):\n",
    "    leftsum = 0\n",
    "    rightsum = 0\n",
    "    n = len(arr)\n",
    "    for i in range(n):\n",
    "        leftsum = 0\n",
    "        rightsum = 0\n",
    "        for j in range(i):\n",
    "            leftsum+=arr[j]\n",
    "            \n",
    "        for j in range(i+1,n):\n",
    "            rightsum+=arr[j]\n",
    "            \n",
    "        if (leftsum==rightsum):\n",
    "            return i\n",
    "    return -1\n",
    "\n",
    "arr = [-7,1,5,2,-4,3,0]\n",
    "equilibrinum(arr)"
   ]
  },
  {
   "cell_type": "code",
   "execution_count": 19,
   "id": "9ed2c937",
   "metadata": {},
   "outputs": [
    {
     "data": {
      "text/plain": [
       "3"
      ]
     },
     "execution_count": 19,
     "metadata": {},
     "output_type": "execute_result"
    }
   ],
   "source": [
    "## Efficient approch for the equilibrium point\n",
    "\n",
    "def equilibrium(arr):\n",
    "    total_sum = sum(arr)\n",
    "    left_sum = 0\n",
    "    for i ,num in enumerate(arr):\n",
    "        total_sum-=num\n",
    "        if (left_sum==total_sum):\n",
    "            return i\n",
    "        left_sum+=num\n",
    "        \n",
    "    return -1\n",
    "arr = [-7,1,5,2,-4,3,0]\n",
    "equilibrinum(arr)"
   ]
  },
  {
   "cell_type": "code",
   "execution_count": null,
   "id": "3a58eaf5",
   "metadata": {},
   "outputs": [],
   "source": []
  }
 ],
 "metadata": {
  "kernelspec": {
   "display_name": "Python 3 (ipykernel)",
   "language": "python",
   "name": "python3"
  },
  "language_info": {
   "codemirror_mode": {
    "name": "ipython",
    "version": 3
   },
   "file_extension": ".py",
   "mimetype": "text/x-python",
   "name": "python",
   "nbconvert_exporter": "python",
   "pygments_lexer": "ipython3",
   "version": "3.9.13"
  }
 },
 "nbformat": 4,
 "nbformat_minor": 5
}
