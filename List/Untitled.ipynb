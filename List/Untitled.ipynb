{
 "cells": [
  {
   "cell_type": "code",
   "execution_count": 1,
   "id": "04ea6001",
   "metadata": {},
   "outputs": [
    {
     "data": {
      "text/plain": [
       "3"
      ]
     },
     "execution_count": 1,
     "metadata": {},
     "output_type": "execute_result"
    }
   ],
   "source": [
    "## Finding the average element from the list\n",
    "\n",
    "def average(lst):\n",
    "    return sum(lst)//len(lst)\n",
    "\n",
    "lst = [1,2,3,4,5]\n",
    "average(lst)"
   ]
  },
  {
   "cell_type": "code",
   "execution_count": 2,
   "id": "8a0a0828",
   "metadata": {},
   "outputs": [
    {
     "data": {
      "text/plain": [
       "3"
      ]
     },
     "execution_count": 2,
     "metadata": {},
     "output_type": "execute_result"
    }
   ],
   "source": [
    "def averagelist(lst):\n",
    "    \n",
    "    sum_of_list = 0\n",
    "    \n",
    "    for i in range(len(lst)):\n",
    "        sum_of_list+=lst[i]\n",
    "    return sum_of_list//len(lst)\n",
    "\n",
    "lst = [1,2,3,4,5]\n",
    "averagelist(lst)"
   ]
  },
  {
   "cell_type": "code",
   "execution_count": 3,
   "id": "c2b9016b",
   "metadata": {},
   "outputs": [],
   "source": [
    "## Seperating even and odd number\n",
    "\n",
    "def evn_odd(lst):\n",
    "    evn = []\n",
    "    odd = []\n",
    "    \n",
    "    for i in range(len(lst)):\n",
    "        \n",
    "        if i%2==0:\n",
    "            evn.append(i)\n",
    "        else:\n",
    "            odd.append(i)\n",
    "    return evn , odd\n",
    "            "
   ]
  },
  {
   "cell_type": "code",
   "execution_count": 4,
   "id": "c06b0370",
   "metadata": {},
   "outputs": [
    {
     "data": {
      "text/plain": [
       "([0, 2, 4, 6], [1, 3, 5, 7])"
      ]
     },
     "execution_count": 4,
     "metadata": {},
     "output_type": "execute_result"
    }
   ],
   "source": [
    "lst = [1,2,3,4,5,6,7,8]\n",
    "evn_odd(lst)"
   ]
  },
  {
   "cell_type": "code",
   "execution_count": 5,
   "id": "7deeb3ce",
   "metadata": {},
   "outputs": [
    {
     "data": {
      "text/plain": [
       "[7, 4, 18, 1, 2, 4, 5, 15, 16, 17]"
      ]
     },
     "execution_count": 5,
     "metadata": {},
     "output_type": "execute_result"
    }
   ],
   "source": [
    "## printing the element in the list which is smaller than given threshold\n",
    "\n",
    "def element(arr,x):\n",
    "    \n",
    "    lst = []\n",
    "    \n",
    "    for i in arr:\n",
    "        \n",
    "        if i<x:\n",
    "            lst.append(i)\n",
    "            \n",
    "    return lst\n",
    "\n",
    "arr = [7,4,45,34,23,18,1,2,4,5,15,16,17]\n",
    "element(arr,20)            "
   ]
  },
  {
   "cell_type": "code",
   "execution_count": 6,
   "id": "9e8239e5",
   "metadata": {},
   "outputs": [],
   "source": [
    "## List compression"
   ]
  },
  {
   "cell_type": "code",
   "execution_count": 7,
   "id": "f77188bf",
   "metadata": {},
   "outputs": [
    {
     "data": {
      "text/plain": [
       "[2, 4, 6, 8, 10, 12, 14]"
      ]
     },
     "execution_count": 7,
     "metadata": {},
     "output_type": "execute_result"
    }
   ],
   "source": [
    "input_list = [1,2,3,4,5,6,7,8,9,10,11,12,13,14,15]\n",
    "\n",
    "output_list = [var for var in input_list if var%2==0]\n",
    "\n",
    "output_list"
   ]
  },
  {
   "cell_type": "code",
   "execution_count": 8,
   "id": "c69e6dbe",
   "metadata": {},
   "outputs": [
    {
     "name": "stdout",
     "output_type": "stream",
     "text": [
      "{2: 8, 4: 64, 6: 216, 8: 512, 10: 1000, 12: 1728, 14: 2744}\n"
     ]
    }
   ],
   "source": [
    "input_list = [1,2,3,4,5,6,7,8,9,10,11,12,13,14,15]\n",
    "\n",
    "out_list = {var:var**3 for var in input_list if var%2==0}\n",
    "\n",
    "print(out_list)"
   ]
  },
  {
   "cell_type": "code",
   "execution_count": 9,
   "id": "9e8b1b55",
   "metadata": {},
   "outputs": [
    {
     "name": "stdout",
     "output_type": "stream",
     "text": [
      "Largest element is: 99\n"
     ]
    }
   ],
   "source": [
    "## geting the maximum element in list \n",
    "\n",
    "def mymax(arr):\n",
    "    \n",
    "    max = arr[0]\n",
    "    \n",
    "    for i in arr:\n",
    "        if i>max:\n",
    "            max = i\n",
    "    return max\n",
    "\n",
    "list1 = [10, 20, 4, 45, 99]\n",
    "print(\"Largest element is:\", mymax(list1))"
   ]
  },
  {
   "cell_type": "code",
   "execution_count": 10,
   "id": "6037e697",
   "metadata": {},
   "outputs": [
    {
     "data": {
      "text/plain": [
       "'not palindrome'"
      ]
     },
     "execution_count": 10,
     "metadata": {},
     "output_type": "execute_result"
    }
   ],
   "source": [
    "def palindrome(arr):\n",
    "\n",
    "    if arr[:]==arr[-1:]:\n",
    "        return \"arr is palindrome\"\n",
    "    else:\n",
    "        return \"not palindrome\"\n",
    "    \n",
    "arr = [1,2,1]\n",
    "palindrome(arr)"
   ]
  },
  {
   "cell_type": "code",
   "execution_count": 11,
   "id": "b1080286",
   "metadata": {},
   "outputs": [],
   "source": [
    "## Find the second largest elment in the list\n",
    "\n",
    "def secondlst(lst):\n",
    "    \n",
    "    lst.sort()\n",
    "    \n",
    "    lst = lst[::-1]\n",
    "    \n",
    "    return lst[1]"
   ]
  },
  {
   "cell_type": "code",
   "execution_count": 12,
   "id": "5a6ad84c",
   "metadata": {},
   "outputs": [
    {
     "data": {
      "text/plain": [
       "4"
      ]
     },
     "execution_count": 12,
     "metadata": {},
     "output_type": "execute_result"
    }
   ],
   "source": [
    "lst = [1,2,3,4,5]\n",
    "secondlst(lst)"
   ]
  },
  {
   "cell_type": "code",
   "execution_count": 13,
   "id": "32fa616c",
   "metadata": {},
   "outputs": [
    {
     "data": {
      "text/plain": [
       "False"
      ]
     },
     "execution_count": 13,
     "metadata": {},
     "output_type": "execute_result"
    }
   ],
   "source": [
    "## Checking the list is sorted or not\n",
    "\n",
    "def checksort(lst):\n",
    "    l=lst.sort\n",
    "    \n",
    "    if l==lst:\n",
    "        return True\n",
    "    else:\n",
    "        return False\n",
    "    \n",
    "lst = [1,2,3,4,7,8,9]\n",
    "checksort(lst)"
   ]
  },
  {
   "cell_type": "code",
   "execution_count": 14,
   "id": "68609df6",
   "metadata": {},
   "outputs": [
    {
     "name": "stdout",
     "output_type": "stream",
     "text": [
      "Yes\n"
     ]
    }
   ],
   "source": [
    "def checksorted(lst,n):\n",
    "    \n",
    "    if n==0 or n==1:\n",
    "        return True\n",
    "    \n",
    "    for i in range(1,n):\n",
    "        \n",
    "        if lst[i-1]>lst[i]:\n",
    "            return False\n",
    "    return True\n",
    "# Driver code\n",
    "arr = [20, 23, 23, 45, 78, 88]\n",
    "n = len(arr)\n",
    "if (checksorted(arr,n)):\n",
    "\tprint(\"Yes\")\n",
    "else:\n",
    "\tprint(\"No\")"
   ]
  },
  {
   "cell_type": "code",
   "execution_count": 15,
   "id": "7a24de9e",
   "metadata": {},
   "outputs": [
    {
     "name": "stdout",
     "output_type": "stream",
     "text": [
      "[5, 4, 3, 2, 1]\n",
      "[5, 4, 3, 2, 1]\n",
      "[1, 2, 3, 4, 5]\n"
     ]
    }
   ],
   "source": [
    "## Reverse the list\n",
    "\n",
    "l = [1,2,3,4,5]\n",
    "l.reverse()\n",
    "print(l)\n",
    "l2 = [1,2,3,4,5]\n",
    "new_list = list(reversed(l2))\n",
    "print(new_list)\n",
    "\n",
    "new_l = l[::-1]\n",
    "print(new_l)"
   ]
  },
  {
   "cell_type": "code",
   "execution_count": 16,
   "id": "34cb5ec8",
   "metadata": {},
   "outputs": [
    {
     "name": "stdout",
     "output_type": "stream",
     "text": [
      "[30, 20, 10]\n",
      "[30, 20, 10]\n",
      "[30, 20, 10]\n"
     ]
    }
   ],
   "source": [
    "l = [10,20,30]\n",
    "l.reverse()     # reverse given list\n",
    "print(l)\n",
    "\n",
    "l = [10,20,30]\n",
    "new_l = list(reversed(l))   # return new reversed list\n",
    "print(new_l)\n",
    "\n",
    "l = [10,20,30]\n",
    "new_l = l[::-1]             # return new reversed list\n",
    "print(new_l)"
   ]
  },
  {
   "cell_type": "code",
   "execution_count": 17,
   "id": "60f7722a",
   "metadata": {},
   "outputs": [
    {
     "name": "stdout",
     "output_type": "stream",
     "text": [
      "[30, 20, 10]\n"
     ]
    }
   ],
   "source": [
    "## Function for reversing the list\n",
    "\n",
    "\n",
    "def reverse_list(lst):\n",
    "    \n",
    "    n = len(lst)\n",
    "    \n",
    "    s = 0\n",
    "    e = n-1\n",
    "    \n",
    "    while s<e:\n",
    "        lst[s],lst[e]=lst[e],lst[s]\n",
    "        s+=1\n",
    "        e-=1\n",
    "        \n",
    "l = [10,20,30]\n",
    "reverse_list(l)\n",
    "print(l)"
   ]
  },
  {
   "cell_type": "code",
   "execution_count": 18,
   "id": "4ab6b7fc",
   "metadata": {},
   "outputs": [
    {
     "name": "stdout",
     "output_type": "stream",
     "text": [
      "1 2 3 4 5 "
     ]
    }
   ],
   "source": [
    "## Removing the duplicated in the list\n",
    "\n",
    "def removing_duplicate(arr,n):\n",
    "    \n",
    "    if n==0 or n==1:\n",
    "        return n\n",
    "    \n",
    "    temp = 0\n",
    "    \n",
    "    for i in range(0,n-1):\n",
    "        if arr[i]!=arr[i+1]:\n",
    "            arr[temp] = arr[i]\n",
    "            temp+=1\n",
    "            \n",
    "    arr[temp]=arr[n-1]\n",
    "    temp+=1\n",
    "    return temp\n",
    "\n",
    "# Driver code\n",
    "arr = [1, 2, 2, 3, 4, 4, 4, 5, 5]\n",
    "n = len(arr)\n",
    "\n",
    "# removeDuplicates() returns\n",
    "# new size of array.\n",
    "n = removing_duplicate(arr, n)\n",
    "\n",
    "# Print updated array\n",
    "for i in range(0, n):\n",
    "    print (\"%d\"%(arr[i]), end = \" \")\n",
    "            "
   ]
  },
  {
   "cell_type": "code",
   "execution_count": 19,
   "id": "9e9dde63",
   "metadata": {},
   "outputs": [
    {
     "name": "stdout",
     "output_type": "stream",
     "text": [
      "5\n"
     ]
    }
   ],
   "source": [
    "## One odd occuring element in the list\n",
    "\n",
    "def odd_occuring(arr,n):\n",
    "    for i in range(0,n):\n",
    "        count = 0 \n",
    "        for j in range(0,n):         \n",
    "            if arr[i]==arr[j]:\n",
    "                count+=1      \n",
    "        if count%2!=0:\n",
    "            return arr[i]\n",
    "    return -1\n",
    "\n",
    "arr = [2, 3, 5, 4, 5, 2, 4, 3, 5, 2, 4, 4, 2 ]\n",
    "n = len(arr)\n",
    "print(odd_occuring(arr, n))\n",
    "    "
   ]
  },
  {
   "cell_type": "code",
   "execution_count": 4,
   "id": "b0eb81be",
   "metadata": {},
   "outputs": [
    {
     "name": "stdout",
     "output_type": "stream",
     "text": [
      "[40, 50, 10, 20, 30]\n"
     ]
    }
   ],
   "source": [
    "## left rotate the list in the given d\n",
    "\n",
    "\n",
    "def left_rotate(l,d):\n",
    "    \n",
    "    for i in range(0,d):\n",
    "        l.append(l.pop(0))\n",
    "\n",
    "l = [10,20,30,40,50]\n",
    "d = 3\n",
    "left_rotate(l,d)\n",
    "print(l)\n",
    "\n",
    "# time = theta(nd)"
   ]
  },
  {
   "cell_type": "code",
   "execution_count": 9,
   "id": "a7ae1306",
   "metadata": {},
   "outputs": [
    {
     "name": "stdout",
     "output_type": "stream",
     "text": [
      "[40, 50, 10, 20, 30]\n"
     ]
    }
   ],
   "source": [
    "def reverse(l,b,e):\n",
    "    \n",
    "    while b < e:\n",
    "        l[b],l[e] = l[e],l[b]\n",
    "        b = b+1\n",
    "        e = e-1\n",
    "        \n",
    "def leftrotate(l,d):\n",
    "    \n",
    "    n = len(l)\n",
    "    \n",
    "    reverse(l,0,d-1)\n",
    "    reverse(l,d,n-1)\n",
    "    reverse(l,0,n-1)\n",
    "    \n",
    "l = [10,20,30,40,50]\n",
    "d = 3\n",
    "leftrotate(l,d)\n",
    "print(l)\n",
    "    "
   ]
  },
  {
   "cell_type": "code",
   "execution_count": 11,
   "id": "3739ef4d",
   "metadata": {},
   "outputs": [
    {
     "name": "stdout",
     "output_type": "stream",
     "text": [
      "8\n"
     ]
    }
   ],
   "source": [
    "## Maximum differenece:\n",
    "\n",
    "def max_difference(arr,n):\n",
    "    \n",
    "    res = arr[1]-arr[0]\n",
    "    \n",
    "    for i in range(0,n-1):\n",
    "        for j in range(i+1,n):\n",
    "            res = max(res,arr[j]-arr[i])\n",
    "    return res\n",
    "arr = [2,3,10,6,4,8,1]\n",
    "n = len(arr)\n",
    "print(max_difference(arr,n))\n",
    "\n",
    "# time complexity is O(n^2)"
   ]
  },
  {
   "cell_type": "code",
   "execution_count": 14,
   "id": "aded859a",
   "metadata": {},
   "outputs": [
    {
     "name": "stdout",
     "output_type": "stream",
     "text": [
      "8\n"
     ]
    }
   ],
   "source": [
    "##efficient solution\n",
    "\n",
    "def max_diff(arr,n):\n",
    "    \n",
    "    res = arr[1]-arr[0]\n",
    "    minval = arr[0]\n",
    "    \n",
    "    for i in range(1,n):\n",
    "        res = max(res,arr[i]-minval)\n",
    "        minval = min(arr[i],minval)\n",
    "    return res\n",
    "\n",
    "arr = [2,3,10,6,4,8,1]\n",
    "n = len(arr)\n",
    "print(max_diff(arr,n))"
   ]
  },
  {
   "cell_type": "code",
   "execution_count": 18,
   "id": "2a8ba177",
   "metadata": {},
   "outputs": [
    {
     "name": "stdout",
     "output_type": "stream",
     "text": [
      "9\n"
     ]
    }
   ],
   "source": [
    "def max_diff(arr,n):\n",
    "    \n",
    "    max_ele = arr[0]\n",
    "    min_ele = arr[0]\n",
    "    \n",
    "    for i in range(1,n):\n",
    "        min_ele = min(min_ele,arr[i])\n",
    "        max_ele = max(max_ele,arr[i])\n",
    "    return (max_ele-min_ele)\n",
    "\n",
    "arr = [2,3,10,6,4,8,1]\n",
    "n = len(arr)\n",
    "print(max_diff(arr,n))"
   ]
  },
  {
   "cell_type": "code",
   "execution_count": 19,
   "id": "e226b08f",
   "metadata": {},
   "outputs": [
    {
     "ename": "UnboundLocalError",
     "evalue": "local variable 'curr' referenced before assignment",
     "output_type": "error",
     "traceback": [
      "\u001b[1;31m---------------------------------------------------------------------------\u001b[0m",
      "\u001b[1;31mUnboundLocalError\u001b[0m                         Traceback (most recent call last)",
      "\u001b[1;32m~\\AppData\\Local\\Temp\\ipykernel_25100\\1551318931.py\u001b[0m in \u001b[0;36m<module>\u001b[1;34m\u001b[0m\n\u001b[0;32m     20\u001b[0m         \u001b[0mn\u001b[0m \u001b[1;33m=\u001b[0m \u001b[0mlen\u001b[0m\u001b[1;33m(\u001b[0m\u001b[0mprice\u001b[0m\u001b[1;33m)\u001b[0m\u001b[1;33m\u001b[0m\u001b[1;33m\u001b[0m\u001b[0m\n\u001b[0;32m     21\u001b[0m \u001b[1;33m\u001b[0m\u001b[0m\n\u001b[1;32m---> 22\u001b[1;33m         \u001b[0mprint\u001b[0m\u001b[1;33m(\u001b[0m\u001b[0mmax_profit\u001b[0m\u001b[1;33m(\u001b[0m\u001b[0mprice\u001b[0m\u001b[1;33m,\u001b[0m \u001b[1;36m0\u001b[0m\u001b[1;33m,\u001b[0m \u001b[0mn\u001b[0m \u001b[1;33m-\u001b[0m \u001b[1;36m1\u001b[0m\u001b[1;33m)\u001b[0m\u001b[1;33m)\u001b[0m\u001b[1;33m\u001b[0m\u001b[1;33m\u001b[0m\u001b[0m\n\u001b[0m\u001b[0;32m     23\u001b[0m \u001b[1;33m\u001b[0m\u001b[0m\n",
      "\u001b[1;32m~\\AppData\\Local\\Temp\\ipykernel_25100\\1551318931.py\u001b[0m in \u001b[0;36mmax_profit\u001b[1;34m(arr, b, e)\u001b[0m\n\u001b[0;32m     12\u001b[0m                 \u001b[0mcurr\u001b[0m \u001b[1;33m=\u001b[0m \u001b[0marr\u001b[0m\u001b[1;33m[\u001b[0m\u001b[0mj\u001b[0m\u001b[1;33m]\u001b[0m\u001b[1;33m-\u001b[0m\u001b[0marr\u001b[0m\u001b[1;33m[\u001b[0m\u001b[0mi\u001b[0m\u001b[1;33m]\u001b[0m \u001b[1;33m+\u001b[0m\u001b[0;31m\\\u001b[0m\u001b[1;33m\u001b[0m\u001b[1;33m\u001b[0m\u001b[0m\n\u001b[0;32m     13\u001b[0m                 \u001b[0mmax_profit\u001b[0m\u001b[1;33m(\u001b[0m\u001b[0marr\u001b[0m\u001b[1;33m,\u001b[0m\u001b[1;36m0\u001b[0m\u001b[1;33m,\u001b[0m\u001b[0mi\u001b[0m\u001b[1;33m-\u001b[0m\u001b[1;36m1\u001b[0m\u001b[1;33m)\u001b[0m\u001b[1;33m+\u001b[0m\u001b[0;31m\\\u001b[0m\u001b[1;33m\u001b[0m\u001b[1;33m\u001b[0m\u001b[0m\n\u001b[1;32m---> 14\u001b[1;33m                 \u001b[0mmax_profit\u001b[0m\u001b[1;33m(\u001b[0m\u001b[0marr\u001b[0m\u001b[1;33m,\u001b[0m\u001b[0mj\u001b[0m\u001b[1;33m+\u001b[0m\u001b[1;36m1\u001b[0m\u001b[1;33m,\u001b[0m\u001b[0me\u001b[0m\u001b[1;33m)\u001b[0m\u001b[1;33m\u001b[0m\u001b[1;33m\u001b[0m\u001b[0m\n\u001b[0m\u001b[0;32m     15\u001b[0m             \u001b[0mres\u001b[0m \u001b[1;33m=\u001b[0m \u001b[0mmax\u001b[0m\u001b[1;33m(\u001b[0m\u001b[0mres\u001b[0m\u001b[1;33m,\u001b[0m\u001b[0mcurr\u001b[0m\u001b[1;33m)\u001b[0m\u001b[1;33m\u001b[0m\u001b[1;33m\u001b[0m\u001b[0m\n\u001b[0;32m     16\u001b[0m     \u001b[1;32mreturn\u001b[0m \u001b[0mres\u001b[0m\u001b[1;33m\u001b[0m\u001b[1;33m\u001b[0m\u001b[0m\n",
      "\u001b[1;32m~\\AppData\\Local\\Temp\\ipykernel_25100\\1551318931.py\u001b[0m in \u001b[0;36mmax_profit\u001b[1;34m(arr, b, e)\u001b[0m\n\u001b[0;32m     12\u001b[0m                 \u001b[0mcurr\u001b[0m \u001b[1;33m=\u001b[0m \u001b[0marr\u001b[0m\u001b[1;33m[\u001b[0m\u001b[0mj\u001b[0m\u001b[1;33m]\u001b[0m\u001b[1;33m-\u001b[0m\u001b[0marr\u001b[0m\u001b[1;33m[\u001b[0m\u001b[0mi\u001b[0m\u001b[1;33m]\u001b[0m \u001b[1;33m+\u001b[0m\u001b[0;31m\\\u001b[0m\u001b[1;33m\u001b[0m\u001b[1;33m\u001b[0m\u001b[0m\n\u001b[0;32m     13\u001b[0m                 \u001b[0mmax_profit\u001b[0m\u001b[1;33m(\u001b[0m\u001b[0marr\u001b[0m\u001b[1;33m,\u001b[0m\u001b[1;36m0\u001b[0m\u001b[1;33m,\u001b[0m\u001b[0mi\u001b[0m\u001b[1;33m-\u001b[0m\u001b[1;36m1\u001b[0m\u001b[1;33m)\u001b[0m\u001b[1;33m+\u001b[0m\u001b[0;31m\\\u001b[0m\u001b[1;33m\u001b[0m\u001b[1;33m\u001b[0m\u001b[0m\n\u001b[1;32m---> 14\u001b[1;33m                 \u001b[0mmax_profit\u001b[0m\u001b[1;33m(\u001b[0m\u001b[0marr\u001b[0m\u001b[1;33m,\u001b[0m\u001b[0mj\u001b[0m\u001b[1;33m+\u001b[0m\u001b[1;36m1\u001b[0m\u001b[1;33m,\u001b[0m\u001b[0me\u001b[0m\u001b[1;33m)\u001b[0m\u001b[1;33m\u001b[0m\u001b[1;33m\u001b[0m\u001b[0m\n\u001b[0m\u001b[0;32m     15\u001b[0m             \u001b[0mres\u001b[0m \u001b[1;33m=\u001b[0m \u001b[0mmax\u001b[0m\u001b[1;33m(\u001b[0m\u001b[0mres\u001b[0m\u001b[1;33m,\u001b[0m\u001b[0mcurr\u001b[0m\u001b[1;33m)\u001b[0m\u001b[1;33m\u001b[0m\u001b[1;33m\u001b[0m\u001b[0m\n\u001b[0;32m     16\u001b[0m     \u001b[1;32mreturn\u001b[0m \u001b[0mres\u001b[0m\u001b[1;33m\u001b[0m\u001b[1;33m\u001b[0m\u001b[0m\n",
      "\u001b[1;32m~\\AppData\\Local\\Temp\\ipykernel_25100\\1551318931.py\u001b[0m in \u001b[0;36mmax_profit\u001b[1;34m(arr, b, e)\u001b[0m\n\u001b[0;32m     11\u001b[0m             \u001b[1;32mif\u001b[0m \u001b[0marr\u001b[0m\u001b[1;33m[\u001b[0m\u001b[0mj\u001b[0m\u001b[1;33m]\u001b[0m\u001b[1;33m>\u001b[0m\u001b[0marr\u001b[0m\u001b[1;33m[\u001b[0m\u001b[0mi\u001b[0m\u001b[1;33m]\u001b[0m\u001b[1;33m:\u001b[0m\u001b[1;33m\u001b[0m\u001b[1;33m\u001b[0m\u001b[0m\n\u001b[0;32m     12\u001b[0m                 \u001b[0mcurr\u001b[0m \u001b[1;33m=\u001b[0m \u001b[0marr\u001b[0m\u001b[1;33m[\u001b[0m\u001b[0mj\u001b[0m\u001b[1;33m]\u001b[0m\u001b[1;33m-\u001b[0m\u001b[0marr\u001b[0m\u001b[1;33m[\u001b[0m\u001b[0mi\u001b[0m\u001b[1;33m]\u001b[0m \u001b[1;33m+\u001b[0m\u001b[0;31m\\\u001b[0m\u001b[1;33m\u001b[0m\u001b[1;33m\u001b[0m\u001b[0m\n\u001b[1;32m---> 13\u001b[1;33m                 \u001b[0mmax_profit\u001b[0m\u001b[1;33m(\u001b[0m\u001b[0marr\u001b[0m\u001b[1;33m,\u001b[0m\u001b[1;36m0\u001b[0m\u001b[1;33m,\u001b[0m\u001b[0mi\u001b[0m\u001b[1;33m-\u001b[0m\u001b[1;36m1\u001b[0m\u001b[1;33m)\u001b[0m\u001b[1;33m+\u001b[0m\u001b[0;31m\\\u001b[0m\u001b[1;33m\u001b[0m\u001b[1;33m\u001b[0m\u001b[0m\n\u001b[0m\u001b[0;32m     14\u001b[0m                 \u001b[0mmax_profit\u001b[0m\u001b[1;33m(\u001b[0m\u001b[0marr\u001b[0m\u001b[1;33m,\u001b[0m\u001b[0mj\u001b[0m\u001b[1;33m+\u001b[0m\u001b[1;36m1\u001b[0m\u001b[1;33m,\u001b[0m\u001b[0me\u001b[0m\u001b[1;33m)\u001b[0m\u001b[1;33m\u001b[0m\u001b[1;33m\u001b[0m\u001b[0m\n\u001b[0;32m     15\u001b[0m             \u001b[0mres\u001b[0m \u001b[1;33m=\u001b[0m \u001b[0mmax\u001b[0m\u001b[1;33m(\u001b[0m\u001b[0mres\u001b[0m\u001b[1;33m,\u001b[0m\u001b[0mcurr\u001b[0m\u001b[1;33m)\u001b[0m\u001b[1;33m\u001b[0m\u001b[1;33m\u001b[0m\u001b[0m\n",
      "\u001b[1;32m~\\AppData\\Local\\Temp\\ipykernel_25100\\1551318931.py\u001b[0m in \u001b[0;36mmax_profit\u001b[1;34m(arr, b, e)\u001b[0m\n\u001b[0;32m     12\u001b[0m                 \u001b[0mcurr\u001b[0m \u001b[1;33m=\u001b[0m \u001b[0marr\u001b[0m\u001b[1;33m[\u001b[0m\u001b[0mj\u001b[0m\u001b[1;33m]\u001b[0m\u001b[1;33m-\u001b[0m\u001b[0marr\u001b[0m\u001b[1;33m[\u001b[0m\u001b[0mi\u001b[0m\u001b[1;33m]\u001b[0m \u001b[1;33m+\u001b[0m\u001b[0;31m\\\u001b[0m\u001b[1;33m\u001b[0m\u001b[1;33m\u001b[0m\u001b[0m\n\u001b[0;32m     13\u001b[0m                 \u001b[0mmax_profit\u001b[0m\u001b[1;33m(\u001b[0m\u001b[0marr\u001b[0m\u001b[1;33m,\u001b[0m\u001b[1;36m0\u001b[0m\u001b[1;33m,\u001b[0m\u001b[0mi\u001b[0m\u001b[1;33m-\u001b[0m\u001b[1;36m1\u001b[0m\u001b[1;33m)\u001b[0m\u001b[1;33m+\u001b[0m\u001b[0;31m\\\u001b[0m\u001b[1;33m\u001b[0m\u001b[1;33m\u001b[0m\u001b[0m\n\u001b[1;32m---> 14\u001b[1;33m                 \u001b[0mmax_profit\u001b[0m\u001b[1;33m(\u001b[0m\u001b[0marr\u001b[0m\u001b[1;33m,\u001b[0m\u001b[0mj\u001b[0m\u001b[1;33m+\u001b[0m\u001b[1;36m1\u001b[0m\u001b[1;33m,\u001b[0m\u001b[0me\u001b[0m\u001b[1;33m)\u001b[0m\u001b[1;33m\u001b[0m\u001b[1;33m\u001b[0m\u001b[0m\n\u001b[0m\u001b[0;32m     15\u001b[0m             \u001b[0mres\u001b[0m \u001b[1;33m=\u001b[0m \u001b[0mmax\u001b[0m\u001b[1;33m(\u001b[0m\u001b[0mres\u001b[0m\u001b[1;33m,\u001b[0m\u001b[0mcurr\u001b[0m\u001b[1;33m)\u001b[0m\u001b[1;33m\u001b[0m\u001b[1;33m\u001b[0m\u001b[0m\n\u001b[0;32m     16\u001b[0m     \u001b[1;32mreturn\u001b[0m \u001b[0mres\u001b[0m\u001b[1;33m\u001b[0m\u001b[1;33m\u001b[0m\u001b[0m\n",
      "\u001b[1;32m~\\AppData\\Local\\Temp\\ipykernel_25100\\1551318931.py\u001b[0m in \u001b[0;36mmax_profit\u001b[1;34m(arr, b, e)\u001b[0m\n\u001b[0;32m     13\u001b[0m                 \u001b[0mmax_profit\u001b[0m\u001b[1;33m(\u001b[0m\u001b[0marr\u001b[0m\u001b[1;33m,\u001b[0m\u001b[1;36m0\u001b[0m\u001b[1;33m,\u001b[0m\u001b[0mi\u001b[0m\u001b[1;33m-\u001b[0m\u001b[1;36m1\u001b[0m\u001b[1;33m)\u001b[0m\u001b[1;33m+\u001b[0m\u001b[0;31m\\\u001b[0m\u001b[1;33m\u001b[0m\u001b[1;33m\u001b[0m\u001b[0m\n\u001b[0;32m     14\u001b[0m                 \u001b[0mmax_profit\u001b[0m\u001b[1;33m(\u001b[0m\u001b[0marr\u001b[0m\u001b[1;33m,\u001b[0m\u001b[0mj\u001b[0m\u001b[1;33m+\u001b[0m\u001b[1;36m1\u001b[0m\u001b[1;33m,\u001b[0m\u001b[0me\u001b[0m\u001b[1;33m)\u001b[0m\u001b[1;33m\u001b[0m\u001b[1;33m\u001b[0m\u001b[0m\n\u001b[1;32m---> 15\u001b[1;33m             \u001b[0mres\u001b[0m \u001b[1;33m=\u001b[0m \u001b[0mmax\u001b[0m\u001b[1;33m(\u001b[0m\u001b[0mres\u001b[0m\u001b[1;33m,\u001b[0m\u001b[0mcurr\u001b[0m\u001b[1;33m)\u001b[0m\u001b[1;33m\u001b[0m\u001b[1;33m\u001b[0m\u001b[0m\n\u001b[0m\u001b[0;32m     16\u001b[0m     \u001b[1;32mreturn\u001b[0m \u001b[0mres\u001b[0m\u001b[1;33m\u001b[0m\u001b[1;33m\u001b[0m\u001b[0m\n\u001b[0;32m     17\u001b[0m \u001b[1;33m\u001b[0m\u001b[0m\n",
      "\u001b[1;31mUnboundLocalError\u001b[0m: local variable 'curr' referenced before assignment"
     ]
    }
   ],
   "source": [
    "## Buy and sell the stock\n",
    "\n",
    "def max_profit(arr,b,e):\n",
    "    \n",
    "    if (e<=b):\n",
    "        return 0\n",
    "    res = 0\n",
    "    \n",
    "    for i in range(b,e):\n",
    "        for j in range(i+1,e+1):\n",
    "            if arr[j]>arr[i]:\n",
    "                curr = arr[j]-arr[i] +\\\n",
    "                max_profit(arr,0,i-1)+\\\n",
    "                max_profit(arr,j+1,e)\n",
    "            res = max(res,curr)\n",
    "    return res\n",
    "\n",
    "if __name__ == '__main__':\n",
    "    price = [100, 180, 260, 310, 40, 535, 695]\n",
    "    n = len(price)\n",
    "    print(max_profit(price, 0, n - 1))\n",
    "    "
   ]
  },
  {
   "cell_type": "code",
   "execution_count": 21,
   "id": "30c78d3a",
   "metadata": {},
   "outputs": [
    {
     "name": "stdout",
     "output_type": "stream",
     "text": [
      "13\n"
     ]
    }
   ],
   "source": [
    "## max profit in the stock\n",
    "\n",
    "def max_profit(price,n):\n",
    "    \n",
    "    profit = 0\n",
    "    \n",
    "    for i in range(1,n):\n",
    "        if price[i]>price[i-1]:\n",
    "            profit+=price[i]-price[i-1]\n",
    "    return profit\n",
    "\n",
    "price = [1,5,3,8,12]\n",
    "n = len(price)\n",
    "\n",
    "print(max_profit(price,n))"
   ]
  },
  {
   "cell_type": "code",
   "execution_count": 22,
   "id": "02899f8b",
   "metadata": {},
   "outputs": [
    {
     "name": "stdout",
     "output_type": "stream",
     "text": [
      "[-2, -4, -6, -8]\n"
     ]
    }
   ],
   "source": [
    "def find_negative_elements(matrix):\n",
    "    negative_elements = []\n",
    "\n",
    "    for row in matrix:\n",
    "        for element in row:\n",
    "            if element < 0:\n",
    "                negative_elements.append(element)\n",
    "\n",
    "    return negative_elements\n",
    "\n",
    "\n",
    "# Example usage\n",
    "matrix = [\n",
    "    [1, -2, 3],\n",
    "    [-4, 5, -6],\n",
    "    [7, -8, 9],\n",
    "]\n",
    "\n",
    "negative_elements = find_negative_elements(matrix)\n",
    "print(negative_elements)"
   ]
  },
  {
   "cell_type": "code",
   "execution_count": 6,
   "id": "cf43c4e7",
   "metadata": {},
   "outputs": [
    {
     "name": "stdout",
     "output_type": "stream",
     "text": [
      "From 2 to 3\n",
      "From 6 to 7\n"
     ]
    }
   ],
   "source": [
    "## print the group of the lement:\n",
    "\n",
    "def print_group(arr,n):\n",
    "    \n",
    "    for i in range(1,n):\n",
    "        if (arr[i]!=arr[i-1]):\n",
    "            if (arr[i]!=arr[0]):\n",
    "                print(\"From\",i,\"to\",end = ' ')\n",
    "            else:\n",
    "                print(i-1)\n",
    "    if (arr[n-1]!=arr[0]):\n",
    "        print(n-1)\n",
    "        \n",
    "arr = [0,0,1,1,0,0,1,1,0]\n",
    "n = len(arr)\n",
    "print_group(arr,n)"
   ]
  },
  {
   "cell_type": "code",
   "execution_count": 2,
   "id": "0644d6ae",
   "metadata": {},
   "outputs": [
    {
     "name": "stdout",
     "output_type": "stream",
     "text": [
      "From 2 to 3\n",
      "From 6 to 7\n",
      "None\n"
     ]
    }
   ],
   "source": [
    "def printGroups(arr, n):\n",
    "    for i in range(1, n):\n",
    "        if(arr[i]!=arr[i-1]):\n",
    "            if(arr[i]!=arr[0]):\n",
    "                print('From', i, 'to', end=' ')\n",
    "            else:\n",
    "                print(i-1)\n",
    "    if(arr[n-1]!=arr[0]):\n",
    "        print(n-1)\n",
    "    \n",
    "n=9\n",
    "arr=[0, 0, 1, 1, 0, 0, 1, 1, 0]\n",
    "print(printGroups(arr, n))"
   ]
  },
  {
   "cell_type": "code",
   "execution_count": 9,
   "id": "cb7be929",
   "metadata": {},
   "outputs": [
    {
     "name": "stdout",
     "output_type": "stream",
     "text": [
      "53\n"
     ]
    }
   ],
   "source": [
    "## Sliding window technique\n",
    "\n",
    "def kmax_sum(arr,k):\n",
    "    curr = 0\n",
    "    for i in range(k):\n",
    "        curr+=arr[i]\n",
    "        res = curr\n",
    "    for i in range(k,len(arr)):\n",
    "        curr = curr+arr[i]-arr[k-i]\n",
    "        res = max(res,curr)\n",
    "    return res\n",
    "\n",
    "k = 4\n",
    "arr = [1,8,30,-5,20,7]\n",
    "print(kmax_sum(arr,k))"
   ]
  },
  {
   "cell_type": "code",
   "execution_count": 27,
   "id": "e903aeee",
   "metadata": {},
   "outputs": [
    {
     "name": "stdout",
     "output_type": "stream",
     "text": [
      "mr\n",
      "mr\n",
      "ms\n"
     ]
    }
   ],
   "source": [
    "name = [\"mr aswini kumar\",\"mr shiv prakash\",\"ms divya\"]\n",
    "for i in range(len(name)):\n",
    "    #name[i].split()\n",
    "    print(name[i][:2])"
   ]
  },
  {
   "cell_type": "code",
   "execution_count": null,
   "id": "f479ffe5",
   "metadata": {},
   "outputs": [],
   "source": []
  }
 ],
 "metadata": {
  "kernelspec": {
   "display_name": "Python 3 (ipykernel)",
   "language": "python",
   "name": "python3"
  },
  "language_info": {
   "codemirror_mode": {
    "name": "ipython",
    "version": 3
   },
   "file_extension": ".py",
   "mimetype": "text/x-python",
   "name": "python",
   "nbconvert_exporter": "python",
   "pygments_lexer": "ipython3",
   "version": "3.9.13"
  }
 },
 "nbformat": 4,
 "nbformat_minor": 5
}
