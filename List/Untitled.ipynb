{
 "cells": [
  {
   "cell_type": "code",
   "execution_count": 3,
   "id": "d7a42b5b",
   "metadata": {},
   "outputs": [
    {
     "name": "stdout",
     "output_type": "stream",
     "text": [
      "[40, 50, 10, 20, 30]\n"
     ]
    }
   ],
   "source": [
    "## Rotating the list upto d\n",
    "\n",
    "# def leftRotate(l,d):\n",
    "#     for i in range(0,d):\n",
    "#         l.append(l.pop(0))\n",
    "        \n",
    "    \n",
    "## Reverse method to rotate the list\n",
    "\n",
    "# def reverse(l,b,e):\n",
    "#     while b<e:\n",
    "#         l[b],l[e] = l[e],l[b]\n",
    "#         b+=1\n",
    "#         e-=1\n",
    "        \n",
    "# def leftRotate(l,d):\n",
    "#     n = len(l)\n",
    "#     reverse(l,0,d-1)\n",
    "#     reverse(l,d,n-1)\n",
    "#     reverse(l,0,n-1)\n",
    "    \n",
    "\n",
    "l = [10,20,30,40,50]\n",
    "d = 3\n",
    "leftRotate(l,d)\n",
    "print(l)"
   ]
  },
  {
   "cell_type": "code",
   "execution_count": 6,
   "id": "eebe81a9",
   "metadata": {},
   "outputs": [
    {
     "data": {
      "text/plain": [
       "4"
      ]
     },
     "execution_count": 6,
     "metadata": {},
     "output_type": "execute_result"
    }
   ],
   "source": [
    "## Maximum difference\n",
    "\n",
    "#Method 1\n",
    "\n",
    "# def maxdiff(arr,n):\n",
    "#     res = arr[1]-arr[0]\n",
    "#     for i in range(0,n-1):\n",
    "#         for j in range(i+1,n):\n",
    "#             res = max(res,arr[j]-arr[i])\n",
    "#     return res\n",
    "\n",
    "# Method 2\n",
    "\n",
    "# def maxdiff(arr,n):\n",
    "#     maxele = arr[0]\n",
    "#     minele = arr[0]\n",
    "#     for i in range(1,n):\n",
    "#         minele = min(minele,arr[i])\n",
    "#         maxele = max(maxele,arr[i])\n",
    "        \n",
    "#     return (maxele-minele)\n",
    "        \n",
    "\n",
    "# arr = [2,3,10,6,4,8,1]\n",
    "arr = [2,1,5,3]\n",
    "n = len(arr)\n",
    "maxdiff(arr,n)"
   ]
  },
  {
   "cell_type": "code",
   "execution_count": 7,
   "id": "f223c888",
   "metadata": {},
   "outputs": [
    {
     "name": "stdout",
     "output_type": "stream",
     "text": [
      "Buy on day :  0 \t Sell on day:  3\n",
      "Buy on day :  4 \t Sell on day:  6\n"
     ]
    }
   ],
   "source": [
    "## Stock Buy and Sell\n",
    "\n",
    "def stockBuySell(price,n):\n",
    "    \n",
    "    if(n==1):\n",
    "        return\n",
    "    \n",
    "    i=0\n",
    "    while(i<(n-1)):\n",
    "        \n",
    "        while((i<(n-1)) and (price[i+1]<=price[i])):\n",
    "            i+=1\n",
    "            \n",
    "        if(i==n-1):\n",
    "            break\n",
    "            \n",
    "        buy = i\n",
    "        i+=1\n",
    "        \n",
    "        while((i<n) and (price[i]>=price[i-1])):\n",
    "            i+=1\n",
    "            \n",
    "        sell = i-1\n",
    "        print(\"Buy on day : \" , buy , \"\\t\", \"Sell on day: \" , sell)\n",
    "        \n",
    "price = [100,180,260,310,40,535,695]\n",
    "n=len(price)\n",
    "stockBuySell(price,n)\n",
    "    "
   ]
  },
  {
   "cell_type": "code",
   "execution_count": 9,
   "id": "3984fc3c",
   "metadata": {},
   "outputs": [
    {
     "name": "stdout",
     "output_type": "stream",
     "text": [
      "6\n"
     ]
    }
   ],
   "source": [
    "## Trapping the rainwater\n",
    "\n",
    "def maxWater(arr,n):\n",
    "    # to store the maximum water\n",
    "    res = 0\n",
    "    \n",
    "    for i in range(1,n-1):\n",
    "        # finding the maximum in the left hand side\n",
    "        left = arr[i]\n",
    "        for j in range(i):\n",
    "            left = max(left,arr[j])\n",
    "            \n",
    "        # finding the maximum in the right hand side\n",
    "        right = arr[i]\n",
    "        for j in range(i+1,n):\n",
    "            right = max(right,arr[j])\n",
    "            \n",
    "        res = res+(min(left,right)-arr[i])\n",
    "        \n",
    "    return res\n",
    "\n",
    "arr = [0,1,0,2,1,0,1,3,2,1,2,1]\n",
    "n = len(arr)\n",
    "print(maxWater(arr,n))\n",
    "    "
   ]
  },
  {
   "cell_type": "code",
   "execution_count": 12,
   "id": "51e91724",
   "metadata": {},
   "outputs": [
    {
     "data": {
      "text/plain": [
       "6"
      ]
     },
     "execution_count": 12,
     "metadata": {},
     "output_type": "execute_result"
    }
   ],
   "source": [
    "## Trapping the rain water\n",
    "\n",
    "def traprainWater(arr,n):\n",
    "    \n",
    "    water = 0\n",
    "    \n",
    "    left = [0]*n\n",
    "    \n",
    "    right = [0]*n\n",
    "    \n",
    "    # from the left hand side\n",
    "    left[0] = arr[0]\n",
    "    for i in range(1,n):\n",
    "        left[i] = max(left[i-1],arr[i])\n",
    "        \n",
    "    #from the right hand side\n",
    "    right[n-1] = arr[n-1]\n",
    "    for i in range(n-2,-1,-1):\n",
    "        right[i] = max(right[i+1],arr[i])\n",
    "        \n",
    "    \n",
    "    for i in range(0,n):\n",
    "        water += min(left[i],right[i])-arr[i]\n",
    "        \n",
    "    return water\n",
    "\n",
    "\n",
    "arr = [0,1,0,2,1,0,1,3,2,1,2,1]\n",
    "n = len(arr)\n",
    "traprainWater(arr,n)    \n",
    "    "
   ]
  },
  {
   "cell_type": "code",
   "execution_count": 16,
   "id": "d0a25ca2",
   "metadata": {},
   "outputs": [
    {
     "name": "stdout",
     "output_type": "stream",
     "text": [
      "24\n"
     ]
    }
   ],
   "source": [
    "## Maximum Subarray Sum\n",
    "\n",
    "def maxSum(arr,n,k):\n",
    "    \n",
    "    if(n<k):\n",
    "        print(\"Invalid\")\n",
    "        return -1\n",
    "    \n",
    "    res = 0\n",
    "    for i in range(k):\n",
    "        res+=arr[i]\n",
    "        \n",
    "    curr_sum = res\n",
    "    for i in range(k,n):\n",
    "#         print(arr[i])\n",
    "#         print(arr[i-k])\n",
    "        curr_sum+=arr[i]-arr[i-k]\n",
    "#         print(curr_sum)\n",
    "        res = max(res,curr_sum)\n",
    "        \n",
    "    return res\n",
    "\n",
    "arr = [1, 4, 2, 10, 2, 3, 1, 0, 20]\n",
    "k = 4\n",
    "n = len(arr)\n",
    "print(maxSum(arr, n, k))"
   ]
  },
  {
   "cell_type": "code",
   "execution_count": 18,
   "id": "fbfe9a28",
   "metadata": {},
   "outputs": [
    {
     "name": "stdout",
     "output_type": "stream",
     "text": [
      "Maximum circular sum is :  53\n"
     ]
    }
   ],
   "source": [
    "## Maximum Circular Subarray Sum using Kadane's algorithm\n",
    "\n",
    "def maxCircularSum(a,n):\n",
    "    \n",
    "    if(n==1):\n",
    "        return a[0]\n",
    "    \n",
    "    sum = 0\n",
    "    for i in range(n):\n",
    "        sum+arr[i]\n",
    "        \n",
    "    curr_max = a[0]\n",
    "    max_so_far = a[0]\n",
    "    curr_min = a[0]\n",
    "    min_so_far = a[0]\n",
    "    \n",
    "    for i in range(1,n):\n",
    "        # Kadane's Algorithm to find maximum subarray sum\n",
    "        curr_max = max(curr_max+arr[i],arr[i])\n",
    "        max_so_far = max(max_so_far,curr_max)\n",
    "        \n",
    "        #Kadane's Algorithm to find minimum subarray sum\n",
    "        curr_min = min(curr_min+arr[i],arr[i])\n",
    "        min_so_far = min(min_so_far,curr_min)\n",
    "        \n",
    "    if(min_so_far==sum):\n",
    "        return max_so_far\n",
    "    \n",
    "    return(max_so_far-min_so_far)\n",
    "\n",
    "a = [11, 10, -20, 5, -3, -5, 8, -13, 10]\n",
    "n = len(a)\n",
    "print(\"Maximum circular sum is : \", maxCircularSum(a, n))"
   ]
  },
  {
   "cell_type": "code",
   "execution_count": 19,
   "id": "10300aab",
   "metadata": {},
   "outputs": [
    {
     "name": "stdout",
     "output_type": "stream",
     "text": [
      "5\n"
     ]
    }
   ],
   "source": [
    "## Equilibrium Point\n",
    "\n",
    "def equilibrium(arr):\n",
    "    leftsum = 0\n",
    "    rightsum = 0 \n",
    "    n = len(arr)\n",
    "    \n",
    "    for i in range(n):\n",
    "        leftsum = 0 \n",
    "        rightsum = 0\n",
    "        \n",
    "        for j in range(n):\n",
    "            leftsum+=arr[j]\n",
    "            \n",
    "        for j in range(i+1,n):\n",
    "            rightsum += arr[j]\n",
    "            \n",
    "        if leftsum==rightsum:\n",
    "            return i\n",
    "        \n",
    "    return -1\n",
    "\n",
    "arr = [-7,1,5,2,-4,3,0]\n",
    "print(equilibrium(arr))\n"
   ]
  },
  {
   "cell_type": "code",
   "execution_count": null,
   "id": "23a7dce9",
   "metadata": {},
   "outputs": [],
   "source": [
    "## Search in the infinte size of the array\n",
    "\n"
   ]
  }
 ],
 "metadata": {
  "kernelspec": {
   "display_name": "Python 3 (ipykernel)",
   "language": "python",
   "name": "python3"
  },
  "language_info": {
   "codemirror_mode": {
    "name": "ipython",
    "version": 3
   },
   "file_extension": ".py",
   "mimetype": "text/x-python",
   "name": "python",
   "nbconvert_exporter": "python",
   "pygments_lexer": "ipython3",
   "version": "3.9.13"
  }
 },
 "nbformat": 4,
 "nbformat_minor": 5
}
