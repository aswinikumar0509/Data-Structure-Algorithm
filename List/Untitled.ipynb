{
 "cells": [
  {
   "cell_type": "code",
   "execution_count": 3,
   "id": "d7a42b5b",
   "metadata": {},
   "outputs": [
    {
     "name": "stdout",
     "output_type": "stream",
     "text": [
      "[40, 50, 10, 20, 30]\n"
     ]
    }
   ],
   "source": [
    "## Rotating the list upto d\n",
    "\n",
    "# def leftRotate(l,d):\n",
    "#     for i in range(0,d):\n",
    "#         l.append(l.pop(0))\n",
    "        \n",
    "    \n",
    "## Reverse method to rotate the list\n",
    "\n",
    "# def reverse(l,b,e):\n",
    "#     while b<e:\n",
    "#         l[b],l[e] = l[e],l[b]\n",
    "#         b+=1\n",
    "#         e-=1\n",
    "        \n",
    "# def leftRotate(l,d):\n",
    "#     n = len(l)\n",
    "#     reverse(l,0,d-1)\n",
    "#     reverse(l,d,n-1)\n",
    "#     reverse(l,0,n-1)\n",
    "    \n",
    "\n",
    "l = [10,20,30,40,50]\n",
    "d = 3\n",
    "leftRotate(l,d)\n",
    "print(l)"
   ]
  },
  {
   "cell_type": "code",
   "execution_count": 6,
   "id": "1bddb005",
   "metadata": {},
   "outputs": [
    {
     "data": {
      "text/plain": [
       "4"
      ]
     },
     "execution_count": 6,
     "metadata": {},
     "output_type": "execute_result"
    }
   ],
   "source": [
    "## Maximum difference\n",
    "\n",
    "#Method 1\n",
    "\n",
    "# def maxdiff(arr,n):\n",
    "#     res = arr[1]-arr[0]\n",
    "#     for i in range(0,n-1):\n",
    "#         for j in range(i+1,n):\n",
    "#             res = max(res,arr[j]-arr[i])\n",
    "#     return res\n",
    "\n",
    "# Method 2\n",
    "\n",
    "# def maxdiff(arr,n):\n",
    "#     maxele = arr[0]\n",
    "#     minele = arr[0]\n",
    "#     for i in range(1,n):\n",
    "#         minele = min(minele,arr[i])\n",
    "#         maxele = max(maxele,arr[i])\n",
    "        \n",
    "#     return (maxele-minele)\n",
    "        \n",
    "\n",
    "# arr = [2,3,10,6,4,8,1]\n",
    "arr = [2,1,5,3]\n",
    "n = len(arr)\n",
    "maxdiff(arr,n)"
   ]
  },
  {
   "cell_type": "code",
   "execution_count": 7,
   "id": "62b78014",
   "metadata": {},
   "outputs": [
    {
     "name": "stdout",
     "output_type": "stream",
     "text": [
      "Buy on day :  0 \t Sell on day:  3\n",
      "Buy on day :  4 \t Sell on day:  6\n"
     ]
    }
   ],
   "source": [
    "## Stock Buy and Sell\n",
    "\n",
    "def stockBuySell(price,n):\n",
    "    \n",
    "    if(n==1):\n",
    "        return\n",
    "    \n",
    "    i=0\n",
    "    while(i<(n-1)):\n",
    "        \n",
    "        while((i<(n-1)) and (price[i+1]<=price[i])):\n",
    "            i+=1\n",
    "            \n",
    "        if(i==n-1):\n",
    "            break\n",
    "            \n",
    "        buy = i\n",
    "        i+=1\n",
    "        \n",
    "        while((i<n) and (price[i]>=price[i-1])):\n",
    "            i+=1\n",
    "            \n",
    "        sell = i-1\n",
    "        print(\"Buy on day : \" , buy , \"\\t\", \"Sell on day: \" , sell)\n",
    "        \n",
    "price = [100,180,260,310,40,535,695]\n",
    "n=len(price)\n",
    "stockBuySell(price,n)\n",
    "    "
   ]
  },
  {
   "cell_type": "code",
   "execution_count": null,
   "id": "2e086d96",
   "metadata": {},
   "outputs": [],
   "source": [
    "## Trapping the rainwater\n",
    "\n",
    "def maxWater(arr,n):\n",
    "    \n",
    "    \n",
    "    res = 0\n",
    "    "
   ]
  }
 ],
 "metadata": {
  "kernelspec": {
   "display_name": "Python 3 (ipykernel)",
   "language": "python",
   "name": "python3"
  },
  "language_info": {
   "codemirror_mode": {
    "name": "ipython",
    "version": 3
   },
   "file_extension": ".py",
   "mimetype": "text/x-python",
   "name": "python",
   "nbconvert_exporter": "python",
   "pygments_lexer": "ipython3",
   "version": "3.9.13"
  }
 },
 "nbformat": 4,
 "nbformat_minor": 5
}
