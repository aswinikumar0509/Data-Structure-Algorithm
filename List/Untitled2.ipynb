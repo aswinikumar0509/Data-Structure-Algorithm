{
 "cells": [
  {
   "cell_type": "code",
   "execution_count": 1,
   "id": "8be0cb5d",
   "metadata": {},
   "outputs": [],
   "source": [
    "## Practice the list question in the data structure and algorithm"
   ]
  },
  {
   "cell_type": "code",
   "execution_count": 3,
   "id": "0e9f0687",
   "metadata": {},
   "outputs": [
    {
     "data": {
      "text/plain": [
       "3"
      ]
     },
     "execution_count": 3,
     "metadata": {},
     "output_type": "execute_result"
    }
   ],
   "source": [
    "## Geting the average of the list\n",
    "\n",
    "def average_fun(l):\n",
    "    sum = 0\n",
    "    for i in range(len(l)):\n",
    "        sum+=l[i]\n",
    "        \n",
    "    avg = sum//len(l)\n",
    "    return avg\n",
    "\n",
    "l = [1,2,3,4,5]\n",
    "average_fun(l)"
   ]
  },
  {
   "cell_type": "code",
   "execution_count": 16,
   "id": "ae1d9c4a",
   "metadata": {},
   "outputs": [
    {
     "name": "stdout",
     "output_type": "stream",
     "text": [
      "Even Element :  [2, 4, 6, 8]\n",
      "Odd Element :  [1, 3, 5, 7, 9]\n"
     ]
    }
   ],
   "source": [
    "## Seperating the even and odd number\n",
    "\n",
    "def split(l):\n",
    "    \n",
    "    ev_li = []\n",
    "    od_li = []\n",
    "    \n",
    "    for i in l:\n",
    "        if (i%2==0):\n",
    "            ev_li.append(i)\n",
    "        else:\n",
    "            od_li.append(i)\n",
    "            \n",
    "    print(\"Even Element : \", ev_li)\n",
    "    print(\"Odd Element : \",od_li)\n",
    "    \n",
    "l = [1,2,3,4,5,6,7,8,9]\n",
    "split(l)"
   ]
  },
  {
   "cell_type": "code",
   "execution_count": 18,
   "id": "8cef917e",
   "metadata": {},
   "outputs": [
    {
     "data": {
      "text/plain": [
       "[3, 7, 5, 6, 4]"
      ]
     },
     "execution_count": 18,
     "metadata": {},
     "output_type": "execute_result"
    }
   ],
   "source": [
    "## Getting the smaller number in the given element k\n",
    "\n",
    "def smaller_element(arr,k):\n",
    "    value = []\n",
    "    for i in arr:\n",
    "        if i<k:\n",
    "            value.append(i)\n",
    "    return value\n",
    "\n",
    "arr = [3,7,8,5,6,4]\n",
    "k = 8\n",
    "smaller_element(arr,k)\n",
    "            "
   ]
  },
  {
   "cell_type": "code",
   "execution_count": 19,
   "id": "402a6dfb",
   "metadata": {},
   "outputs": [],
   "source": [
    "## Slicing Operation"
   ]
  },
  {
   "cell_type": "code",
   "execution_count": 22,
   "id": "aa94e520",
   "metadata": {},
   "outputs": [
    {
     "name": "stdout",
     "output_type": "stream",
     "text": [
      "Gee\n",
      "ek\n",
      "  ke o\n"
     ]
    }
   ],
   "source": [
    "str = \"Geeks for Geeks ! \"\n",
    "\n",
    "print(str[:3])\n",
    "print(str[1:5:2])\n",
    "print(str[-1:-12:-2])"
   ]
  },
  {
   "cell_type": "code",
   "execution_count": 23,
   "id": "5bc0c774",
   "metadata": {},
   "outputs": [
    {
     "name": "stdout",
     "output_type": "stream",
     "text": [
      "[70, 30, 20, 90]\n"
     ]
    }
   ],
   "source": [
    "lst = [50,70,30,20,90,10,50]\n",
    "\n",
    "print(lst[1:5])"
   ]
  },
  {
   "cell_type": "code",
   "execution_count": 25,
   "id": "68b34f47",
   "metadata": {},
   "outputs": [
    {
     "name": "stdout",
     "output_type": "stream",
     "text": [
      "(3, 4)\n"
     ]
    }
   ],
   "source": [
    "tup = (22,3,45,4,2.4,2,56,890,1)\n",
    "print(tup[1:4:2])"
   ]
  },
  {
   "cell_type": "code",
   "execution_count": 26,
   "id": "1a51413f",
   "metadata": {},
   "outputs": [
    {
     "name": "stdout",
     "output_type": "stream",
     "text": [
      "Output list using the list compression :  [2, 4, 4, 6]\n"
     ]
    }
   ],
   "source": [
    "## Seperating the element using list compression\n",
    "\n",
    "input_list = [1,2,3,4,4,5,6,7,7]\n",
    "\n",
    "list_using_comp = [var for var in input_list if var%2==0]\n",
    "\n",
    "print(\"Output list using the list compression : \", list_using_comp)"
   ]
  },
  {
   "cell_type": "code",
   "execution_count": 27,
   "id": "3ef41e4a",
   "metadata": {},
   "outputs": [
    {
     "name": "stdout",
     "output_type": "stream",
     "text": [
      "Output Dictionary using dictionary compressions : {1: 1, 3: 27, 5: 125, 7: 343}\n"
     ]
    }
   ],
   "source": [
    "input_list = [1,2,3,4,5,6,7]\n",
    "\n",
    "dict_using_comp = {var:var**3 for var in input_list if var%2!=0}\n",
    "print(\"Output Dictionary using dictionary compressions :\", dict_using_comp)"
   ]
  },
  {
   "cell_type": "code",
   "execution_count": 29,
   "id": "18e4a8fa",
   "metadata": {},
   "outputs": [
    {
     "name": "stdout",
     "output_type": "stream",
     "text": [
      "Output set using for loop :  {2, 4, 6}\n"
     ]
    }
   ],
   "source": [
    "input_list = [1,2,3,4,4,5,6,6,6,7,7]\n",
    "\n",
    "output_set = set()\n",
    "\n",
    "for var in input_list:\n",
    "    if var%2==0:\n",
    "        output_set.add(var)\n",
    "        \n",
    "print(\"Output set using for loop : \", output_set)"
   ]
  },
  {
   "cell_type": "code",
   "execution_count": 30,
   "id": "ed81aa35",
   "metadata": {},
   "outputs": [
    {
     "name": "stdout",
     "output_type": "stream",
     "text": [
      "Output Set using set comprehensions :  {2, 4, 6}\n"
     ]
    }
   ],
   "source": [
    "input_list = [1,2,3,4,5,6,6,6,7,7]\n",
    "\n",
    "set_using_comp = {var for var in input_list if var%2==0}\n",
    "\n",
    "print(\"Output Set using set comprehensions : \", set_using_comp)"
   ]
  },
  {
   "cell_type": "markdown",
   "id": "a38f0edf",
   "metadata": {},
   "source": [
    "## Generator Comprehensions\n",
    "\n",
    "Generator Compression are very similar to list compressions. One difference between them is that generator compression use circular bracket whereas list compression use square bracket.The major difference between them is that generator don't allocate memory for the whole list.Instead,they generate each value one by one which is why they are memory efficient."
   ]
  },
  {
   "cell_type": "code",
   "execution_count": 31,
   "id": "345e3f50",
   "metadata": {},
   "outputs": [
    {
     "name": "stdout",
     "output_type": "stream",
     "text": [
      "Output value using generator compressions :  2 4 4 6 "
     ]
    }
   ],
   "source": [
    "input_list = [1,2,3,4,4,5,6,7,7]\n",
    "\n",
    "output_gen = (var for var in input_list if var%2==0)\n",
    "\n",
    "print(\"Output value using generator compressions : \", end = \" \")\n",
    "\n",
    "for var in output_gen:\n",
    "    print(var , end = \" \")"
   ]
  },
  {
   "cell_type": "code",
   "execution_count": 32,
   "id": "cae46b4f",
   "metadata": {},
   "outputs": [
    {
     "name": "stdout",
     "output_type": "stream",
     "text": [
      "largest element is :  99\n"
     ]
    }
   ],
   "source": [
    "## Largest element in the list\n",
    "\n",
    "def gen_lar(arr):\n",
    "    \n",
    "    max = arr[0]\n",
    "    \n",
    "    for i in arr:\n",
    "        if i>max:\n",
    "            max = i\n",
    "            \n",
    "    return max\n",
    "\n",
    "arr = [10,20,4,45,99]\n",
    "print(\"largest element is : \" , gen_lar(arr))"
   ]
  },
  {
   "cell_type": "code",
   "execution_count": 33,
   "id": "efaf5142",
   "metadata": {},
   "outputs": [
    {
     "name": "stdout",
     "output_type": "stream",
     "text": [
      "The second largest element is \n",
      " 34\n"
     ]
    }
   ],
   "source": [
    "## Second Largest element in the list\n",
    "\n",
    "\n",
    "def print2largest(arr,arr_size):\n",
    "    \n",
    "    # check in the list their should be two element\n",
    "    \n",
    "    if(arr_size<2):\n",
    "        print(\"Invalid Input\")\n",
    "        return\n",
    "    \n",
    "    largest = second = -2454635434\n",
    "    \n",
    "    for i in range(0,arr_size):\n",
    "        largest = max(largest,arr[i])\n",
    "        \n",
    "    for i in range(0,arr_size):\n",
    "        if (arr[i]!=largest):\n",
    "            second = max(second,arr[i])\n",
    "            \n",
    "    if (second==-2454635434):\n",
    "        print(\"There os no second\"+\"largest element\")\n",
    "        \n",
    "    else:\n",
    "        print(\"The second largest \" + \"element is \\n\", second)\n",
    "\n",
    "        \n",
    "if __name__ == '__main__':\n",
    "    \n",
    "    arr = [12,35,1,10,34,1]\n",
    "    n = len(arr)\n",
    "    print2largest(arr,n)\n",
    "    "
   ]
  },
  {
   "cell_type": "code",
   "execution_count": null,
   "id": "45195ea6",
   "metadata": {},
   "outputs": [],
   "source": []
  }
 ],
 "metadata": {
  "kernelspec": {
   "display_name": "Python 3 (ipykernel)",
   "language": "python",
   "name": "python3"
  },
  "language_info": {
   "codemirror_mode": {
    "name": "ipython",
    "version": 3
   },
   "file_extension": ".py",
   "mimetype": "text/x-python",
   "name": "python",
   "nbconvert_exporter": "python",
   "pygments_lexer": "ipython3",
   "version": "3.9.13"
  }
 },
 "nbformat": 4,
 "nbformat_minor": 5
}
