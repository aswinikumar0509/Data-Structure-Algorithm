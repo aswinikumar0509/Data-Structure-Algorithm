{
 "cells": [
  {
   "cell_type": "code",
   "execution_count": 1,
   "id": "3f19bd37",
   "metadata": {},
   "outputs": [],
   "source": [
    "## Practice the question"
   ]
  },
  {
   "cell_type": "code",
   "execution_count": 2,
   "id": "6223a191",
   "metadata": {},
   "outputs": [],
   "source": [
    "## Upto k rotate\n",
    "# Method 1\n",
    "# def kRotate(arr,k):\n",
    "#     for i in range(len(arr)):\n",
    "#         arr.append(arr.pop(0))\n",
    "\n",
    "\n",
    "def reverse(arr,b,e):\n",
    "    n = len(arr)\n",
    "    while b<e:\n",
    "        arr[b],arr[e] = arr[e],arr[b]\n",
    "        b+=1\n",
    "        e-=1\n",
    "        \n",
    "def leftRotate(arr,d):\n",
    "    n = len(arr)\n",
    "    reverse(arr,0,d-1)\n",
    "    reverse(arr,d,n-1)\n",
    "    reverse(arr,0,n-1)\n",
    "        \n",
    "        \n",
    "        \n",
    "k =  3\n",
    "arr = [1,2,3,4,5]\n",
    "leftRotate(arr,k)"
   ]
  },
  {
   "cell_type": "code",
   "execution_count": 3,
   "id": "7464c240",
   "metadata": {},
   "outputs": [
    {
     "data": {
      "text/plain": [
       "4"
      ]
     },
     "execution_count": 3,
     "metadata": {},
     "output_type": "execute_result"
    }
   ],
   "source": [
    "## Maxmum difference in the array\n",
    "\n",
    "def maxDifference(arr):\n",
    "    n = len(arr)\n",
    "    res = arr[1]-arr[0]\n",
    "    for i in range(0,n-1):\n",
    "        for j in range(i+1,n):\n",
    "            res = max(res,arr[j]-arr[i])\n",
    "            \n",
    "    return res\n",
    "arr = [2,1,5,3]\n",
    "maxDifference(arr)"
   ]
  },
  {
   "cell_type": "code",
   "execution_count": 4,
   "id": "d98fb0bb",
   "metadata": {},
   "outputs": [
    {
     "data": {
      "text/plain": [
       "13"
      ]
     },
     "execution_count": 4,
     "metadata": {},
     "output_type": "execute_result"
    }
   ],
   "source": [
    "## stock buy and sales with the maximum profit\n",
    "\n",
    "def maxPofit(price,n):\n",
    "    profit = 0\n",
    "    for i in range(1,n):\n",
    "        if price[i]>price[i-1]:\n",
    "            profit += price[i] - price[i-1]\n",
    "            \n",
    "    return profit\n",
    "arr = [1,5,3,8,12]\n",
    "maxPofit(arr,len(arr))"
   ]
  },
  {
   "cell_type": "code",
   "execution_count": 5,
   "id": "55f4a2aa",
   "metadata": {},
   "outputs": [
    {
     "data": {
      "text/plain": [
       "6"
      ]
     },
     "execution_count": 5,
     "metadata": {},
     "output_type": "execute_result"
    }
   ],
   "source": [
    "## Trapping the rain water problem\n",
    "\n",
    "def trapMaxwater(arr):\n",
    "    n = len(arr)\n",
    "    \n",
    "    res = 0\n",
    "    \n",
    "    for i in range(1,n-1):\n",
    "        left = arr[i]\n",
    "        for j in range(i):\n",
    "            left = max(left,arr[j])\n",
    "#             print(left , end = \" \")\n",
    "            \n",
    "        right = arr[i]\n",
    "        for j in range(i+1,n):\n",
    "            right = max(right,arr[j])\n",
    "#             print(right,end= \"\")\n",
    "            \n",
    "            \n",
    "        res = res+(min(left,right)-arr[i])\n",
    "        \n",
    "    return res\n",
    "\n",
    "arr = [5,0,6,2,3]\n",
    "trapMaxwater(arr)"
   ]
  },
  {
   "cell_type": "code",
   "execution_count": 6,
   "id": "adf6619c",
   "metadata": {},
   "outputs": [
    {
     "data": {
      "text/plain": [
       "6"
      ]
     },
     "execution_count": 6,
     "metadata": {},
     "output_type": "execute_result"
    }
   ],
   "source": [
    "## Efficient approch for the storing the rain water\n",
    "\n",
    "def getWater(arr):\n",
    "    n = len(arr)\n",
    "    left = [0]*n\n",
    "    right = [0]*n\n",
    "    \n",
    "    res = 0\n",
    "    \n",
    "    \n",
    "    left[0] = arr[0]\n",
    "    for i in range(1,n):\n",
    "        left[i]= max(arr[i],left[i-1])\n",
    "        \n",
    "    right[n-1] = arr[n-1]\n",
    "    for i in range(n-2,-1,-1):\n",
    "        right[i]= max(arr[i],right[i+1])\n",
    "        \n",
    "        \n",
    "    for i in range(1,n-1):\n",
    "        res = res+(min(left[i],right[i])-arr[i])\n",
    "        \n",
    "    return res\n",
    "\n",
    "\n",
    "arr = [5,0,6,2,3]\n",
    "getWater(arr)"
   ]
  },
  {
   "cell_type": "code",
   "execution_count": 7,
   "id": "ec67b677",
   "metadata": {},
   "outputs": [
    {
     "name": "stdout",
     "output_type": "stream",
     "text": [
      "23\n"
     ]
    }
   ],
   "source": [
    "## Maximum subarray sum of size k \n",
    "\n",
    "def maxSum(arr,n,k):\n",
    "    \n",
    "    if n<k:\n",
    "        print(\"Invalid\")\n",
    "        return -1\n",
    "    \n",
    "    res = 0\n",
    "    for i in range(1,k):\n",
    "        res+=arr[i]\n",
    "#         print(res)\n",
    "        \n",
    "    curr_sum = res\n",
    "    for i in range(k,n):\n",
    "#         print(arr[i],arr[i-k])\n",
    "        curr_sum+=arr[i]-arr[i-k]\n",
    "#         print(curr_sum)\n",
    "        res = max(res,curr_sum)\n",
    "        \n",
    "    return res\n",
    "\n",
    "arr = [1, 4, 2, 10, 2, 3, 1, 0, 20]\n",
    "k = 4\n",
    "n = len(arr)\n",
    "print(maxSum(arr, n, k))\n",
    "        \n",
    "\n"
   ]
  },
  {
   "cell_type": "code",
   "execution_count": 8,
   "id": "c3c87a71",
   "metadata": {},
   "outputs": [
    {
     "name": "stdout",
     "output_type": "stream",
     "text": [
      "0\n"
     ]
    }
   ],
   "source": [
    "## Longest Even Odd Subarray\n",
    "\n",
    "def evenOdd(arr,n):\n",
    "    res = 1\n",
    "    for i in range(0,n):\n",
    "        count = 0\n",
    "        for j in range(i+1,n):\n",
    "            if((arr[j]%2==0 and arr[j]%2!=0 ) or (arr[j]%2!=0 and arr[j]%2==0 )):\n",
    "                count+=1\n",
    "            else:\n",
    "                break\n",
    "                \n",
    "        res = max(res,count)\n",
    "        \n",
    "    if res==1:\n",
    "        return 0\n",
    "        \n",
    "    return res\n",
    "a = [1, 2, 3, 4, 5, 7, 8]\n",
    "\n",
    "n = len(a)\n",
    "\n",
    "print(evenOdd(a, n))\n",
    "                \n",
    "            "
   ]
  },
  {
   "cell_type": "code",
   "execution_count": 9,
   "id": "d5dfe5f6",
   "metadata": {},
   "outputs": [
    {
     "name": "stdout",
     "output_type": "stream",
     "text": [
      "Maximum circular sum is 23\n"
     ]
    }
   ],
   "source": [
    "## Maximum Circular  Subarray Sum\n",
    "\n",
    "def maxsumCircular(arr,n):\n",
    "    \n",
    "    if n==1:\n",
    "        return arr[0]\n",
    "    su=0\n",
    "    for i in range(n):\n",
    "        su+=arr[i]\n",
    "        \n",
    "    curr_max = arr[0]\n",
    "    max_so_far = arr[0]\n",
    "    curr_min = arr[0]\n",
    "    min_so_far = arr[0]\n",
    "    \n",
    "    for i in range(1,n):\n",
    "        \n",
    "        curr_max = max(curr_max+arr[0],arr[0])\n",
    "        max_so_far = max(max_so_far,arr[i])\n",
    "        \n",
    "        curr_min = min(curr_min+arr[0],arr[0])\n",
    "        min_so_far = min(min_so_far,arr[i])\n",
    "        \n",
    "        \n",
    "    if(min_so_far==su):\n",
    "        return max_so_far\n",
    "    \n",
    "    return max(max_so_far,su - min_so_far)\n",
    "\n",
    "\n",
    "a = [11, 10, -20, 5, -3, -5, 8, -13, 10]\n",
    "n = len(a)\n",
    "print(\"Maximum circular sum is\", maxsumCircular(a, n))\n",
    "        "
   ]
  },
  {
   "cell_type": "code",
   "execution_count": 10,
   "id": "b7921b2c",
   "metadata": {},
   "outputs": [
    {
     "data": {
      "text/plain": [
       "-1"
      ]
     },
     "execution_count": 10,
     "metadata": {},
     "output_type": "execute_result"
    }
   ],
   "source": [
    "## Majority Element :\n",
    "\n",
    "# Majority element is the element which occur more than n//2 time\n",
    "\n",
    "def majorityElement(arr):\n",
    "    n = len(arr)\n",
    "    \n",
    "    for i in range(0,n):\n",
    "        count = 0\n",
    "        for j in range(i+1,n):\n",
    "            if arr[i]==arr[j]:\n",
    "                count+=1\n",
    "                \n",
    "        if count>=n//2:\n",
    "            return i\n",
    "        else:\n",
    "            return -1\n",
    "        \n",
    "        \n",
    "arr = [8,7,6,8,6,6,6,6]\n",
    "n = len(arr)\n",
    "majorityElement(arr)\n",
    "        "
   ]
  },
  {
   "cell_type": "code",
   "execution_count": 11,
   "id": "93feb0ef",
   "metadata": {},
   "outputs": [
    {
     "name": "stdout",
     "output_type": "stream",
     "text": [
      "No Majority Element\n"
     ]
    }
   ],
   "source": [
    "## Moore's Voting Algorithm\n",
    "\n",
    "def findCandidate(arr):\n",
    "    maj_index = 0\n",
    "    count = 1\n",
    "    for i in range(len(arr)):\n",
    "        if arr[maj_index] == arr[i]:\n",
    "            count+=1\n",
    "        else:\n",
    "            count-=1\n",
    "        if count==0:\n",
    "            maj_index = i\n",
    "            count = 1      \n",
    "    return arr[maj_index]\n",
    "\n",
    "def isMajority(arr,cand):\n",
    "    count = 0\n",
    "    for i in range(len(arr)):\n",
    "        if arr[i]==cand:\n",
    "            count+=1\n",
    "    if count > len(arr)//2:\n",
    "        return True\n",
    "    else:\n",
    "        return False\n",
    "    \n",
    "def printMajority(arr):\n",
    "    cand = findCandidate(arr)\n",
    "    if isMajority(arr,cand)== True:\n",
    "        print(cand)\n",
    "    else:\n",
    "        print(\"No Majority Element\")\n",
    "\n",
    "arr = [1, 3, 3, 1, 2]\n",
    "printMajority(arr)"
   ]
  },
  {
   "cell_type": "code",
   "execution_count": 12,
   "id": "ee7d480a",
   "metadata": {},
   "outputs": [
    {
     "name": "stdout",
     "output_type": "stream",
     "text": [
      "From  1 to 2\n",
      "From  6 to 7\n"
     ]
    }
   ],
   "source": [
    "## Minimum Consecutive Flip \n",
    "\n",
    "def printGroups(arr,n):\n",
    "    for i in range(1,n):\n",
    "        if arr[i]!=arr[i-1]:\n",
    "            if arr[i]!=arr[0]:\n",
    "                print(\"From \", i ,\"to\" , end = \" \")\n",
    "            else:\n",
    "                print(i-1)\n",
    "    if arr[n-1]!=arr[0]:\n",
    "        print(n-1)\n",
    "        \n",
    "arr = [0,1,1,0,0,0,1,1]\n",
    "n = len(arr)\n",
    "printGroups(arr,n)"
   ]
  },
  {
   "cell_type": "code",
   "execution_count": 13,
   "id": "88ecc233",
   "metadata": {},
   "outputs": [
    {
     "name": "stdout",
     "output_type": "stream",
     "text": [
      "53\n"
     ]
    }
   ],
   "source": [
    "## Maximum sum of the sub array\n",
    "\n",
    "def maxSum(arr,k):\n",
    "    curr = 0 \n",
    "    for i in range(k):\n",
    "        curr+=arr[i]\n",
    "    res = curr\n",
    "    for i in range(k,len(arr)):\n",
    "        curr = curr+arr[i]-arr[i-k]\n",
    "        res = max(res,curr)\n",
    "        \n",
    "    return res\n",
    "\n",
    "arr = [1,8,30,-5,20,7]\n",
    "k = 4\n",
    "print(maxSum(arr,k))\n",
    "    "
   ]
  },
  {
   "cell_type": "code",
   "execution_count": 14,
   "id": "6825bd53",
   "metadata": {},
   "outputs": [
    {
     "name": "stdout",
     "output_type": "stream",
     "text": [
      "True\n"
     ]
    }
   ],
   "source": [
    "## Find the sum in the array\n",
    "\n",
    "def isSubSum(arr,sum):\n",
    "    s,curr = 0,0\n",
    "    for i in range(len(arr)):\n",
    "        curr+=arr[i]\n",
    "        while(sum>curr):\n",
    "            sum-=arr[s]\n",
    "            s+=1\n",
    "        if(curr==sum):\n",
    "            return True\n",
    "    return False\n",
    "\n",
    "arr = [3,2,0,4,7]\n",
    "sum = 6\n",
    "print(isSubSum(arr,sum))"
   ]
  },
  {
   "cell_type": "code",
   "execution_count": 15,
   "id": "4bd8bf88",
   "metadata": {},
   "outputs": [
    {
     "name": "stdout",
     "output_type": "stream",
     "text": [
      "13\n",
      "20\n",
      "27\n"
     ]
    }
   ],
   "source": [
    "## Prefix Sum\n",
    "\n",
    "def getSum(arr,l,r):\n",
    "    res = 0\n",
    "    for i in range(l,r+1):\n",
    "        res+=arr[i]\n",
    "    return res\n",
    "arr = [2,8,3,9,6,5,4]\n",
    "print(getSum(arr,0,2))\n",
    "print(getSum(arr,1,3))\n",
    "print(getSum(arr,2,6))"
   ]
  },
  {
   "cell_type": "code",
   "execution_count": 16,
   "id": "47eeaa40",
   "metadata": {},
   "outputs": [
    {
     "name": "stdout",
     "output_type": "stream",
     "text": [
      "3\n"
     ]
    }
   ],
   "source": [
    "## Finding the equilibrium Sum of the array\n",
    "\n",
    "# def equilibrium(arr):\n",
    "#     leftsum = 0\n",
    "#     rightsum = 0\n",
    "#     n = len(arr)\n",
    "    \n",
    "#     for i in range(n):\n",
    "#         leftsum = 0\n",
    "#         rightsum = 0\n",
    "#         for j in range(i):\n",
    "#             leftsum+=arr[j]\n",
    "#         for j in range(i+1,n):\n",
    "#             rightsum+=arr[j]\n",
    "            \n",
    "#         if leftsum==rightsum:\n",
    "#             return i\n",
    "        \n",
    "#     return -1\n",
    "\n",
    "def equilibrium(arr):\n",
    "    total_sum = 0\n",
    "    for i in range(len(arr)):\n",
    "        total_sum+=arr[i]  \n",
    "    leftsum = 0\n",
    "    for i, num in enumerate(arr):\n",
    "        total_sum -= num  \n",
    "        if leftsum == total_sum:\n",
    "            return i  \n",
    "        leftsum += num  \n",
    "    return -1\n",
    "arr = [-7, 1, 5, 2, -4, 3, 0]\n",
    "print (equilibrium(arr))\n"
   ]
  },
  {
   "cell_type": "code",
   "execution_count": 17,
   "id": "067f4c12",
   "metadata": {},
   "outputs": [
    {
     "name": "stdout",
     "output_type": "stream",
     "text": [
      "2\n"
     ]
    }
   ],
   "source": [
    "## Rope cutting problem in recurssion\n",
    "\n",
    "def maxPeices(n,a,b,c):\n",
    "    if n==0:\n",
    "        return 0\n",
    "    if n<=-1:\n",
    "        return -1\n",
    "    res = max(maxPeices(n-a,a,b,c),\n",
    "             maxPeices(n-b,a,b,c),\n",
    "             maxPeices(n-c,a,b,c))\n",
    "    \n",
    "    if res == -1:\n",
    "        return -1\n",
    "    \n",
    "    return res+1\n",
    "\n",
    "n=23\n",
    "a=11\n",
    "b=9\n",
    "c=12\n",
    "print(maxPeices(n,a,b,c))"
   ]
  },
  {
   "cell_type": "code",
   "execution_count": 18,
   "id": "dcca085d",
   "metadata": {},
   "outputs": [
    {
     "name": "stdout",
     "output_type": "stream",
     "text": [
      "Yes\n"
     ]
    }
   ],
   "source": [
    "## Recurssive Function to check the palindrome of the string\n",
    "\n",
    "def isPalRec(st,s,e):\n",
    "    \n",
    "    if(s==e):\n",
    "        return True\n",
    "    \n",
    "    if st[s]!=st[e]:\n",
    "        return False\n",
    "    \n",
    "    if(s<e+1):\n",
    "        return isPalRec(st,s+1,e-1)\n",
    "    \n",
    "    return True\n",
    "\n",
    "def isPalindrome(st):\n",
    "    n = len(st)\n",
    "    \n",
    "    if(n==0):\n",
    "        return False\n",
    "    \n",
    "    return isPalRec(st,0,n-1)\n",
    "\n",
    "st = \"geeg\"\n",
    "\n",
    "if(isPalindrome(st)):\n",
    "    print(\"Yes\")\n",
    "else:\n",
    "    print(\"No\")\n",
    "    "
   ]
  },
  {
   "cell_type": "code",
   "execution_count": 19,
   "id": "91344047",
   "metadata": {},
   "outputs": [
    {
     "name": "stdout",
     "output_type": "stream",
     "text": [
      "Move 1 from A to C\n",
      "Move 2 from A to B\n",
      "Move 1 from C to B\n",
      "Move 3 from A to C\n",
      "Move 1 from B to A\n",
      "Move 2 from B to C\n",
      "Move 1 from A to C\n"
     ]
    }
   ],
   "source": [
    "def THO(n,A,B,C):\n",
    "    if n==1:\n",
    "        print(\"Move 1 from\",A,\"to\",C)\n",
    "    else:\n",
    "        THO(n-1,A,C,B)\n",
    "        print(\"Move\",n,\"from\",A,\"to\",C)\n",
    "        THO(n-1,B,A,C)\n",
    "        \n",
    "THO(3,'A','B','C')"
   ]
  },
  {
   "cell_type": "code",
   "execution_count": 20,
   "id": "edb0b4fc",
   "metadata": {},
   "outputs": [
    {
     "name": "stdout",
     "output_type": "stream",
     "text": [
      "3\n"
     ]
    }
   ],
   "source": [
    "## Josephus Problem using recurssion\n",
    "\n",
    "def jos(n,k):\n",
    "    if n==1:\n",
    "        return 0\n",
    "    else:\n",
    "        return (jos(n-1,k)+k)%n\n",
    "    \n",
    "print(jos(5,3))"
   ]
  },
  {
   "cell_type": "code",
   "execution_count": 21,
   "id": "240e51f6",
   "metadata": {},
   "outputs": [
    {
     "data": {
      "text/plain": [
       "2"
      ]
     },
     "execution_count": 21,
     "metadata": {},
     "output_type": "execute_result"
    }
   ],
   "source": [
    "## Counting the subset problem \n",
    "\n",
    "def countSubsetSum(arr,n,sum):\n",
    "    if n==0:\n",
    "        if sum==0:\n",
    "            return 1\n",
    "        else:\n",
    "            return 0\n",
    "        \n",
    "    return countSubsetSum(arr,n-1,sum) + countSubsetSum(arr,n-1,sum-arr[n-1])\n",
    "\n",
    "sum = 9\n",
    "arr = [3,4,5,2]\n",
    "n = len(arr)\n",
    "countSubsetSum(arr,n,sum)\n"
   ]
  },
  {
   "cell_type": "code",
   "execution_count": 22,
   "id": "4e36aef0",
   "metadata": {},
   "outputs": [
    {
     "name": "stdout",
     "output_type": "stream",
     "text": [
      "A A\n",
      "B B\n",
      "C C\n",
      "ABC\n",
      "C B\n",
      "B B\n",
      "ACB\n",
      "B A\n",
      "A A\n",
      "C C\n",
      "BAC\n",
      "C A\n",
      "A A\n",
      "BCA\n",
      "C A\n",
      "B B\n",
      "A A\n",
      "CBA\n",
      "A B\n",
      "B B\n",
      "CAB\n"
     ]
    }
   ],
   "source": [
    "def permute(a,l,r):\n",
    "    \n",
    "    if l==r:\n",
    "        print(tostring(a))\n",
    "    else:\n",
    "        for i in range(l,r):\n",
    "            a[l],a[i] = a[i],a[l]\n",
    "            print(a[l],a[i])\n",
    "            permute(a,l+1,r)\n",
    "            a[l],a[i] = a[i],a[l]\n",
    "            \n",
    "def tostring(List):\n",
    "    return ''.join(List)\n",
    "\n",
    "string = \"ABC\"\n",
    "n = len(string)\n",
    "a = list(string)\n",
    "permute(a,0,n)\n",
    "    "
   ]
  },
  {
   "cell_type": "code",
   "execution_count": 23,
   "id": "8eeb6658",
   "metadata": {},
   "outputs": [
    {
     "name": "stdout",
     "output_type": "stream",
     "text": [
      "abcd abc abd ab acd ac ad a bcd bc bd b cd c d  "
     ]
    }
   ],
   "source": [
    "## Print all the subsequnece of the string\n",
    "\n",
    "def printSubsequence(input,output):\n",
    "    \n",
    "    if(len(input)==0):\n",
    "        print(output,end=' ')\n",
    "        return\n",
    "    \n",
    "    printSubsequence(input[1:],output+input[0])\n",
    "    printSubsequence(input[1:],output)\n",
    "    \n",
    "output = ''\n",
    "input = 'abcd'\n",
    "printSubsequence(input,output)"
   ]
  },
  {
   "cell_type": "code",
   "execution_count": 24,
   "id": "c11c56fc",
   "metadata": {},
   "outputs": [
    {
     "name": "stdout",
     "output_type": "stream",
     "text": [
      "51\n"
     ]
    }
   ],
   "source": [
    " def fun(n):\n",
    "    x=1\n",
    "    if(n==1):\n",
    "        return x\n",
    "    for k in range(1,n):\n",
    "        x=x+fun(k)*fun(n-k)\n",
    "    \n",
    "    return x\n",
    "\n",
    "print(fun(5))  "
   ]
  },
  {
   "cell_type": "code",
   "execution_count": 25,
   "id": "89a8bb12",
   "metadata": {},
   "outputs": [
    {
     "data": {
      "text/plain": [
       "2"
      ]
     },
     "execution_count": 25,
     "metadata": {},
     "output_type": "execute_result"
    }
   ],
   "source": [
    "def foo(n,r):\n",
    "    if(n>0):\n",
    "        return (n%r+foo(n//r,r));\n",
    "    else:\n",
    "        return 0;\n",
    "    \n",
    "foo(513,2)"
   ]
  },
  {
   "cell_type": "code",
   "execution_count": 26,
   "id": "8a667472",
   "metadata": {},
   "outputs": [
    {
     "name": "stdout",
     "output_type": "stream",
     "text": [
      "7\n"
     ]
    }
   ],
   "source": [
    " def f(n):\n",
    "    global i\n",
    "    if(n>=5):\n",
    "        return n\n",
    "    \n",
    "    n=n+i\n",
    "    i=i+1\n",
    "    \n",
    "    return f(n)\n",
    "    \n",
    "i=1\n",
    "    \n",
    "print(f(1))"
   ]
  },
  {
   "cell_type": "code",
   "execution_count": 27,
   "id": "588e0b96",
   "metadata": {},
   "outputs": [
    {
     "name": "stdout",
     "output_type": "stream",
     "text": [
      "10 20 30 40 45 35 25 15 27 29 37 48 50 39 33 32 "
     ]
    }
   ],
   "source": [
    "## Printing the matrix in the snake formate\n",
    "\n",
    "M = 4\n",
    "N = 4\n",
    "\n",
    "def printf(mat):\n",
    "    global M, N\n",
    "    \n",
    "    for i in range(M):\n",
    "        if i%2==0:\n",
    "            for j in range(N):\n",
    "                print(str(mat[i][j]), end=\" \")\n",
    "                \n",
    "        else:\n",
    "            for j in range(N-1,-1,-1):\n",
    "                print(str(mat[i][j]), end = \" \")\n",
    "                \n",
    "                \n",
    "mat = [[10, 20, 30, 40],\n",
    "\t[15, 25, 35, 45],\n",
    "\t[27, 29, 37, 48],\n",
    "\t[32, 33, 39, 50]]\n",
    "\n",
    "printf(mat)\n",
    "                \n",
    "                "
   ]
  },
  {
   "cell_type": "code",
   "execution_count": 28,
   "id": "b30e0be2",
   "metadata": {},
   "outputs": [
    {
     "name": "stdout",
     "output_type": "stream",
     "text": [
      "1\n",
      "2\n",
      "3\n",
      "4\n",
      "5\n",
      "\n",
      "\n",
      "8\n",
      "1\n",
      "\n",
      "\n",
      "4\n",
      "5\n",
      "6\n",
      "7\n",
      "8\n",
      "\n"
     ]
    }
   ],
   "source": [
    "## Printing the boundary of the matrix\n",
    "max = 100\n",
    "def printBoundary(a,m,n):\n",
    "    for i in range(m):\n",
    "        for j in range(n):\n",
    "            if i==0:\n",
    "                print(a[i][j])\n",
    "            elif i==m-1:\n",
    "                print(a[i][j])\n",
    "            elif(j==0):\n",
    "                print(a[i][j])\n",
    "            elif j==n-1:\n",
    "                print(a[i][j])\n",
    "            else:\n",
    "                print(\"\")\n",
    "    print()\n",
    "    \n",
    "a = [[1, 2, 3, 4], [5, 6, 7, 8],[1, 2, 3, 4], [5, 6, 7, 8]]\n",
    "\n",
    "\t# Function call\n",
    "printBoundary(a, 4, 4)\n",
    "    "
   ]
  },
  {
   "cell_type": "code",
   "execution_count": 29,
   "id": "33d17ac3",
   "metadata": {},
   "outputs": [
    {
     "name": "stdout",
     "output_type": "stream",
     "text": [
      "1 2 3 4 5  \n",
      " \n",
      "8 1  \n",
      " \n",
      "4 5 6 7 8 "
     ]
    }
   ],
   "source": [
    "\n",
    "MAX = 100\n",
    "\n",
    "\n",
    "def printBoundary(a, m, n):\n",
    "\tfor i in range(m):\n",
    "\t\tfor j in range(n):\n",
    "\t\t\tif (i == 0):\n",
    "\t\t\t\tprint(a[i][j], end=\" \"),\n",
    "\t\t\telif (i == m-1):\n",
    "\t\t\t\tprint(a[i][j], end=\" \"),\n",
    "\t\t\telif (j == 0):\n",
    "\t\t\t\tprint(a[i][j], end=\" \")\n",
    "\t\t\telif (j == n-1):\n",
    "\t\t\t\tprint(a[i][j], end=\" \"),\n",
    "\t\t\telse:\n",
    "\t\t\t\tprint (\" \"),\n",
    "\t\tprint\n",
    "\n",
    "\n",
    "# Driver code\n",
    "if __name__ == \"__main__\":\n",
    "\ta = [[1, 2, 3, 4], [5, 6, 7, 8],\n",
    "\t\t[1, 2, 3, 4], [5, 6, 7, 8]]\n",
    "\n",
    "\t# Function call\n",
    "\tprintBoundary(a, 4, 4)"
   ]
  },
  {
   "cell_type": "code",
   "execution_count": 30,
   "id": "a0499218",
   "metadata": {},
   "outputs": [
    {
     "name": "stdout",
     "output_type": "stream",
     "text": [
      "Result matrix is\n",
      "1  2  3  4  \n",
      "1  2  3  4  \n",
      "1  2  3  4  \n",
      "1  2  3  4  \n"
     ]
    }
   ],
   "source": [
    "## Making the transpose of the matrix\n",
    "\n",
    "N = 4\n",
    "\n",
    "def transpose(A,B):\n",
    "    \n",
    "    for i in range(N):\n",
    "        for j in range(N):\n",
    "            B[i][j] = A[j][i]\n",
    "            \n",
    "            \n",
    "A = [[1, 1, 1, 1],\n",
    "\t[2, 2, 2, 2],\n",
    "\t[3, 3, 3, 3],\n",
    "\t[4, 4, 4, 4]]\n",
    "\n",
    "\n",
    "# To store result\n",
    "B = [[0 for x in range(N)] for y in range(N)]\n",
    "\n",
    "# Function call\n",
    "transpose(A, B)\n",
    "\n",
    "print(\"Result matrix is\")\n",
    "for i in range(N):\n",
    "\tfor j in range(N):\n",
    "\t\tprint(B[i][j], \" \", end='')\n",
    "\tprint()\n",
    "            "
   ]
  },
  {
   "cell_type": "code",
   "execution_count": 31,
   "id": "8e80205d",
   "metadata": {},
   "outputs": [
    {
     "name": "stdout",
     "output_type": "stream",
     "text": [
      "Modified matrix is\n",
      "1   2   3   4   \n",
      "1   2   3   4   \n",
      "1   2   3   4   \n",
      "1   2   3   4   \n"
     ]
    }
   ],
   "source": [
    "n = 4\n",
    "\n",
    "def transpose(A):\n",
    "    for i in range(n):\n",
    "        for j in range(i+1,n):\n",
    "            A[i][j],A[j][i] = A[j][i],A[i][j]\n",
    "            \n",
    "A = [[1,1,1,1],\n",
    "    [2,2,2,2],\n",
    "    [3,3,3,3],\n",
    "    [4,4,4,4]]\n",
    "\n",
    "transpose(A)\n",
    "\n",
    "print(\"Modified matrix is\")\n",
    "for i in range(n):\n",
    "    for j in range(n):\n",
    "        print(A[i][j],\" \",end=' ')\n",
    "    print()\n"
   ]
  },
  {
   "cell_type": "code",
   "execution_count": 32,
   "id": "8dd6b38f",
   "metadata": {},
   "outputs": [
    {
     "name": "stdout",
     "output_type": "stream",
     "text": [
      "Original matrix:\n",
      "1 2 3\n",
      "4 5 6\n",
      "7 8 9\n",
      "Rotated matrix:\n",
      "3 6 9\n",
      "2 5 8\n",
      "1 4 7\n"
     ]
    }
   ],
   "source": [
    "## Rotating the matrix\n",
    "\n",
    "def rotateMatrix(matrix):\n",
    "    n = len(matrix)\n",
    "    \n",
    "    for i in range(n):\n",
    "        for j in range(i,n):\n",
    "            matrix[i][j],matrix[j][i] = matrix[j][i],matrix[i][j]\n",
    "            \n",
    "    for i in range(n):\n",
    "        for j, k in zip(range(n//2) , range(n-1,n//2-1 , -1)):\n",
    "            matrix[j][i],matrix[k][i] = matrix[k][i] , matrix[j][i]\n",
    "            \n",
    "            \n",
    "def print_matrix(matrix):\n",
    "    for row in matrix:\n",
    "        print(' '.join(str(elem) for elem in row))\n",
    "        \n",
    "        \n",
    "matrix = [[1, 2, 3], [4, 5, 6], [7, 8, 9]]\n",
    "print(\"Original matrix:\")\n",
    "print_matrix(matrix)\n",
    "rotateMatrix(matrix)\n",
    "print(\"Rotated matrix:\")\n",
    "print_matrix(matrix)"
   ]
  },
  {
   "cell_type": "code",
   "execution_count": 34,
   "id": "3e9ea6da",
   "metadata": {},
   "outputs": [
    {
     "name": "stdout",
     "output_type": "stream",
     "text": [
      "6\n"
     ]
    }
   ],
   "source": [
    "## Union of two sorted array:\n",
    "\n",
    "def unionSize(arr1,m,arr2,n):\n",
    "    c = [0]*(m+n)\n",
    "    for i in range(m):\n",
    "        c[i]+=arr1[i]\n",
    "    for i in range(n):\n",
    "        c[i+m] = arr2[i]\n",
    "        \n",
    "    res = 0\n",
    "    for i in range(m+n):\n",
    "        flag = False\n",
    "        for j in range(i):\n",
    "            if(c[i]==c[j]):\n",
    "                flag = True\n",
    "                break\n",
    "        if(flag==False):\n",
    "            res+=1\n",
    "    return res\n",
    "\n",
    "m=7\n",
    "n=4\n",
    "arr1 = [10,15,20,15,30,30,5]\n",
    "arr2 = [30,5,30,80]\n",
    "print(unionSize(arr1,m,arr2,n))"
   ]
  },
  {
   "cell_type": "code",
   "execution_count": 38,
   "id": "b3ec88ae",
   "metadata": {},
   "outputs": [
    {
     "name": "stdout",
     "output_type": "stream",
     "text": [
      "{10}\n",
      "{10, 15}\n",
      "{10, 20, 15}\n",
      "{10, 20, 15}\n",
      "{10, 20, 30, 15}\n",
      "{10, 20, 30, 15}\n",
      "{5, 10, 15, 20, 30}\n",
      "{5, 10, 15, 20, 30}\n",
      "{5, 10, 15, 20, 30}\n",
      "{5, 10, 15, 20, 30}\n",
      "{5, 10, 15, 80, 20, 30}\n",
      "6\n"
     ]
    }
   ],
   "source": [
    "def unionSize(arr1,m,arr2,n):\n",
    "    sn = set()\n",
    "    for i in arr1:\n",
    "        sn.add(i)\n",
    "        print(sn)\n",
    "    for i in arr2:\n",
    "        sn.add(i)\n",
    "        print(sn)\n",
    "        \n",
    "    return len(sn)\n",
    "\n",
    "m=7\n",
    "n=4\n",
    "arr1 = [10,15,20,15,30,30,5]\n",
    "arr2 = [30,5,30,80]\n",
    "print(unionSize(arr1,m,arr2,n))"
   ]
  },
  {
   "cell_type": "code",
   "execution_count": 39,
   "id": "7f238338",
   "metadata": {},
   "outputs": [
    {
     "data": {
      "text/plain": [
       "True"
      ]
     },
     "execution_count": 39,
     "metadata": {},
     "output_type": "execute_result"
    }
   ],
   "source": [
    "## Pair with the sum in unsorted array\n",
    "\n",
    "def pairSum(arr,x):\n",
    "    \n",
    "    for i in range(len(arr)):\n",
    "        for j in range(i+1,len(arr)):\n",
    "            if(arr[i]+arr[j]==x):\n",
    "                return True\n",
    "    return False\n",
    "\n",
    "arr = [3,2,8,15,-8]\n",
    "x =17\n",
    "pairSum(arr,x)"
   ]
  },
  {
   "cell_type": "code",
   "execution_count": 40,
   "id": "2ae140d0",
   "metadata": {},
   "outputs": [
    {
     "data": {
      "text/plain": [
       "1"
      ]
     },
     "execution_count": 40,
     "metadata": {},
     "output_type": "execute_result"
    }
   ],
   "source": [
    "def pairSum(arr,x):\n",
    "    us = set()\n",
    "    for i in arr:\n",
    "        if x-i in us:\n",
    "            return 1\n",
    "        us.add(i)\n",
    "    return 0\n",
    "arr = [3,2,8,15,-8]\n",
    "x =17\n",
    "pairSum(arr,x)"
   ]
  },
  {
   "cell_type": "code",
   "execution_count": 46,
   "id": "f46e5ba3",
   "metadata": {},
   "outputs": [
    {
     "ename": "TypeError",
     "evalue": "'int' object is not callable",
     "output_type": "error",
     "traceback": [
      "\u001b[1;31m---------------------------------------------------------------------------\u001b[0m",
      "\u001b[1;31mTypeError\u001b[0m                                 Traceback (most recent call last)",
      "\u001b[1;32m~\\AppData\\Local\\Temp\\ipykernel_17436\\2638808896.py\u001b[0m in \u001b[0;36m<module>\u001b[1;34m\u001b[0m\n\u001b[0;32m     13\u001b[0m \u001b[0ml\u001b[0m \u001b[1;33m=\u001b[0m \u001b[1;33m[\u001b[0m\u001b[1;36m4\u001b[0m\u001b[1;33m,\u001b[0m \u001b[1;36m3\u001b[0m\u001b[1;33m,\u001b[0m \u001b[1;33m-\u001b[0m\u001b[1;36m2\u001b[0m\u001b[1;33m,\u001b[0m \u001b[1;36m1\u001b[0m\u001b[1;33m,\u001b[0m \u001b[1;36m1\u001b[0m\u001b[1;33m]\u001b[0m\u001b[1;33m\u001b[0m\u001b[1;33m\u001b[0m\u001b[0m\n\u001b[0;32m     14\u001b[0m \u001b[1;33m\u001b[0m\u001b[0m\n\u001b[1;32m---> 15\u001b[1;33m \u001b[0mprint\u001b[0m\u001b[1;33m(\u001b[0m\u001b[0misZeroSum\u001b[0m\u001b[1;33m(\u001b[0m\u001b[0ml\u001b[0m\u001b[1;33m)\u001b[0m\u001b[1;33m)\u001b[0m\u001b[1;33m\u001b[0m\u001b[1;33m\u001b[0m\u001b[0m\n\u001b[0m",
      "\u001b[1;32m~\\AppData\\Local\\Temp\\ipykernel_17436\\2638808896.py\u001b[0m in \u001b[0;36misZeroSum\u001b[1;34m(l)\u001b[0m\n\u001b[0;32m      6\u001b[0m         \u001b[1;32mfor\u001b[0m \u001b[0mj\u001b[0m \u001b[1;32min\u001b[0m \u001b[0mrange\u001b[0m\u001b[1;33m(\u001b[0m\u001b[0mi\u001b[0m \u001b[1;33m+\u001b[0m \u001b[1;36m1\u001b[0m\u001b[1;33m,\u001b[0m \u001b[0mn\u001b[0m \u001b[1;33m+\u001b[0m \u001b[1;36m1\u001b[0m\u001b[1;33m)\u001b[0m\u001b[1;33m:\u001b[0m\u001b[1;33m\u001b[0m\u001b[1;33m\u001b[0m\u001b[0m\n\u001b[0;32m      7\u001b[0m \u001b[1;33m\u001b[0m\u001b[0m\n\u001b[1;32m----> 8\u001b[1;33m             \u001b[1;32mif\u001b[0m \u001b[0msum\u001b[0m\u001b[1;33m(\u001b[0m\u001b[0ml\u001b[0m\u001b[1;33m[\u001b[0m\u001b[0mi\u001b[0m\u001b[1;33m:\u001b[0m\u001b[0mj\u001b[0m\u001b[1;33m]\u001b[0m\u001b[1;33m)\u001b[0m \u001b[1;33m==\u001b[0m \u001b[1;36m0\u001b[0m\u001b[1;33m:\u001b[0m\u001b[1;33m\u001b[0m\u001b[1;33m\u001b[0m\u001b[0m\n\u001b[0m\u001b[0;32m      9\u001b[0m                 \u001b[1;32mreturn\u001b[0m \u001b[1;32mTrue\u001b[0m\u001b[1;33m\u001b[0m\u001b[1;33m\u001b[0m\u001b[0m\n\u001b[0;32m     10\u001b[0m     \u001b[1;32mreturn\u001b[0m \u001b[1;32mFalse\u001b[0m\u001b[1;33m\u001b[0m\u001b[1;33m\u001b[0m\u001b[0m\n",
      "\u001b[1;31mTypeError\u001b[0m: 'int' object is not callable"
     ]
    }
   ],
   "source": [
    "def isZeroSum(l):\n",
    "    n = len(l)\n",
    "\n",
    "    for i in range(n):\n",
    "\n",
    "        for j in range(i + 1, n + 1):\n",
    "\n",
    "            if sum(l[i:j]) == 0:\n",
    "                return True\n",
    "    return False\n",
    "\n",
    "\n",
    "l = [4, 3, -2, 1, 1]\n",
    "\n",
    "print(isZeroSum(l))"
   ]
  },
  {
   "cell_type": "code",
   "execution_count": 1,
   "id": "e3d0e27f",
   "metadata": {},
   "outputs": [
    {
     "name": "stdout",
     "output_type": "stream",
     "text": [
      "True\n"
     ]
    }
   ],
   "source": [
    "def isZerosum(arr):\n",
    "    pre_sum = 0\n",
    "    h = set()\n",
    "    for i in range(len(arr)):\n",
    "        pre_sum+=arr[i]\n",
    "        if pre_sum==0 or pre_sum in h:\n",
    "            return True\n",
    "        h.add(pre_sum)\n",
    "    return False\n",
    "\n",
    "arr = [-3,4,-3,-1,1]\n",
    "print(isZerosum(arr))"
   ]
  },
  {
   "cell_type": "code",
   "execution_count": 3,
   "id": "e4dbeef2",
   "metadata": {},
   "outputs": [
    {
     "data": {
      "text/plain": [
       "True"
      ]
     },
     "execution_count": 3,
     "metadata": {},
     "output_type": "execute_result"
    }
   ],
   "source": [
    "# Naive Solution for the subarray\n",
    "\n",
    "# def isSubSum(arr,sum):\n",
    "    \n",
    "#     for i in range(len(arr)):\n",
    "#         curr = 0\n",
    "#         for j in range(i,len(arr)):\n",
    "#             curr+=arr[j]\n",
    "#             if (curr==sum):\n",
    "#                 return True\n",
    "#     return False\n",
    "\n",
    "\n",
    "# Efficient Approch using sliding window technique\n",
    "\n",
    "def isSubSum(arr,sum):\n",
    "    s,curr = 0,0\n",
    "    for e in range(len(arr)):\n",
    "        curr+=arr[e]\n",
    "        while (curr>sum):\n",
    "            curr-=arr[s]\n",
    "            s+=1\n",
    "        if(curr==sum):\n",
    "            return True\n",
    "    return False\n",
    "\n",
    "arr = [3,2,0,4,7]\n",
    "sum=6\n",
    "isSubSum(arr,sum)"
   ]
  },
  {
   "cell_type": "code",
   "execution_count": 8,
   "id": "73849a1c",
   "metadata": {},
   "outputs": [
    {
     "name": "stdout",
     "output_type": "stream",
     "text": [
      "Counter({'e': 4, 'g': 2, 'k': 2, 's': 2})\n"
     ]
    },
    {
     "data": {
      "text/plain": [
       "False"
      ]
     },
     "execution_count": 8,
     "metadata": {},
     "output_type": "execute_result"
    }
   ],
   "source": [
    "## Check the Palindrome Permutation\n",
    "from collections import Counter\n",
    "\n",
    "def isPalPer(s):\n",
    "    cnt = Counter(s)\n",
    "    print(cnt)\n",
    "    odd = 0\n",
    "    for freq in cnt.values():\n",
    "        if freq%2==0:\n",
    "            odd = odd+1\n",
    "            if odd > 1:\n",
    "                return False\n",
    "    return True\n",
    "    \n",
    "s = \"geeksgeeks\"\n",
    "isPalPer(s)\n"
   ]
  },
  {
   "cell_type": "code",
   "execution_count": 1,
   "id": "4cf66954",
   "metadata": {},
   "outputs": [
    {
     "data": {
      "text/plain": [
       "3"
      ]
     },
     "execution_count": 1,
     "metadata": {},
     "output_type": "execute_result"
    }
   ],
   "source": [
    "## Longest Subarray with given sum\n",
    "\n",
    "\n",
    "def longestSubarray(arr,sum1):\n",
    "    n = len(arr)\n",
    "    res = 0\n",
    "    for i in range(n):\n",
    "        curr_sum = 0\n",
    "        for j in range(i,n):\n",
    "            curr_sum+=arr[j]\n",
    "            if curr_sum==sum1:\n",
    "                res = max(res,j-i+1)\n",
    "#                 print(j-i+1)\n",
    "    return res\n",
    "\n",
    "arr = [5,8,-4,-4,9,-2,2]\n",
    "sum1=0\n",
    "longestSubarray(arr,sum1)"
   ]
  },
  {
   "cell_type": "code",
   "execution_count": 4,
   "id": "e667bf97",
   "metadata": {},
   "outputs": [
    {
     "data": {
      "text/plain": [
       "4"
      ]
     },
     "execution_count": 4,
     "metadata": {},
     "output_type": "execute_result"
    }
   ],
   "source": [
    "def longestCommomSpam(arr1,arr2):\n",
    "    n = len(arr1)\n",
    "    arr = [0]*n\n",
    "    for i in range(n):\n",
    "        arr[i] = arr1[i]-arr2[i]\n",
    "        mydict = dict()\n",
    "        Sum = 0\n",
    "        max_len=0\n",
    "        for i in range(n):\n",
    "            Sum+=arr[i]\n",
    "            if Sum==0:\n",
    "                max_len+=i\n",
    "            if Sum in mydict:\n",
    "                max_len = max(max_len,i-mydict[Sum])\n",
    "            else:\n",
    "                mydict[Sum] = i\n",
    "    return max_len\n",
    "\n",
    "arr1=[0, 1, 0, 0, 0, 0]\n",
    "arr2=[1, 0, 1, 0, 0, 1]\n",
    "\n",
    "longestCommomSpam(arr1,arr2)"
   ]
  },
  {
   "cell_type": "code",
   "execution_count": 5,
   "id": "0b95ffa5",
   "metadata": {},
   "outputs": [
    {
     "data": {
      "text/plain": [
       "3"
      ]
     },
     "execution_count": 5,
     "metadata": {},
     "output_type": "execute_result"
    }
   ],
   "source": [
    "## Longest Consecutive Subsequence\n",
    "\n",
    "def findLongest(arr):\n",
    "    n = len(arr)\n",
    "    arr.sort()\n",
    "    res = 1\n",
    "    curr = 1\n",
    "    for i in range(1,n):\n",
    "        if arr[i] == arr[i-1]+1:\n",
    "            curr+=1\n",
    "        else:\n",
    "            res = max(res,curr)\n",
    "            curr = 1\n",
    "    res = max(res,curr)\n",
    "    return res\n",
    "\n",
    "arr = [1,3,4,3,3,2,9,10]\n",
    "findLongest(arr)"
   ]
  },
  {
   "cell_type": "code",
   "execution_count": 6,
   "id": "9312069c",
   "metadata": {},
   "outputs": [
    {
     "data": {
      "text/plain": [
       "3"
      ]
     },
     "execution_count": 6,
     "metadata": {},
     "output_type": "execute_result"
    }
   ],
   "source": [
    "def findlongest(arr):\n",
    "    s = set()\n",
    "    res = 0\n",
    "    for i in arr:\n",
    "        s.add(i)\n",
    "    for i in arr:\n",
    "        if (i-1) not in s:\n",
    "            curr = 1\n",
    "            while(curr+i) in s:\n",
    "                curr+=1\n",
    "            res = max(res,curr)\n",
    "    return res\n",
    "\n",
    "arr = [3,8,4,5,7]\n",
    "findlongest(arr)"
   ]
  },
  {
   "cell_type": "code",
   "execution_count": 8,
   "id": "5de04b1a",
   "metadata": {},
   "outputs": [
    {
     "name": "stdout",
     "output_type": "stream",
     "text": [
      "3\n",
      "4\n",
      "None\n"
     ]
    }
   ],
   "source": [
    "from collections import Counter\n",
    "\n",
    "def countDist(arr,k):\n",
    "    mp = Counter(arr[0:k])\n",
    "    print(len(mp))\n",
    "    for i in range(k,len(arr)):\n",
    "        x = arr[i-k]\n",
    "        mp[x]-=1\n",
    "        mp[arr[i]]+=1\n",
    "        if(mp[x]==0):\n",
    "            del mp[x]\n",
    "        print(len(mp))\n",
    "            \n",
    "\n",
    "arr= [ 10, 20, 10, 30, 40]\n",
    "k=4\n",
    "print(countDist(arr, k))"
   ]
  },
  {
   "cell_type": "code",
   "execution_count": 1,
   "id": "58253117",
   "metadata": {},
   "outputs": [],
   "source": [
    "## Stack "
   ]
  },
  {
   "cell_type": "code",
   "execution_count": 2,
   "id": "f6f2730f",
   "metadata": {},
   "outputs": [
    {
     "name": "stdout",
     "output_type": "stream",
     "text": [
      " Number Inserted : 3 \n",
      " Number Inserted : 5 \n",
      "Minimum Element in the stack is : 3\n",
      " Number Inserted : 2 \n",
      " Number Inserted : 1 \n",
      "Minimum Element in the stack is : 1\n",
      "Top Most Element Removed : 1 \n",
      "Minimum Element in the stack is : 2\n",
      "Top Most Element Removed : 2 \n",
      "Top Most Element is : 5 \n"
     ]
    }
   ],
   "source": [
    "### Stack with getMin() in O(1)\n",
    "\n",
    "class Node:\n",
    "    \n",
    "    def __init__(self,value):\n",
    "        self.value = value\n",
    "        self.next = None\n",
    "        \n",
    "    def __str__(self):\n",
    "        return \"Node ({})\".format(self.value)\n",
    "    \n",
    "class Stack:\n",
    "    \n",
    "    def __init__(self):\n",
    "        self.top = None\n",
    "        self.count = 0\n",
    "        self.minimum = None\n",
    "        \n",
    "    def __str__(self):\n",
    "        temp = self.top\n",
    "        out = []\n",
    "        while temp:\n",
    "            out.append(str(temp.value))\n",
    "            temp = temp.next\n",
    "        out = '\\n'.join(out)\n",
    "        return ('Top {} \\n\\nStack : \\n{}'.formate(self.top,out))\n",
    "    \n",
    "    def getMin(self):\n",
    "        if self.top is None:\n",
    "            return \" Stack is Empty \"\n",
    "        else:\n",
    "            print(\"Minimum Element in the stack is : {}\".format(self.minimum))\n",
    "            \n",
    "    def isEmpty(self):\n",
    "        if self.top == None:\n",
    "            return True\n",
    "        else:\n",
    "            return False\n",
    "        \n",
    "    def __len__(self):\n",
    "        self.count = 0\n",
    "        tempNode = self.top\n",
    "        while tempNode:\n",
    "            tempNode = tempNode.next\n",
    "            self.count += 1\n",
    "        return self.count\n",
    "    \n",
    "    def peek(self):\n",
    "        if self.top is None:\n",
    "            print(\" Stack is Empty \")\n",
    "            \n",
    "        else:\n",
    "            if self.top.value < self.minimum:\n",
    "                print(\"Top Most Element is : {}\".format(self.minimum))\n",
    "            else:\n",
    "                print(\"Top Most Element is : {} \".format(self.top.value))\n",
    "                \n",
    "    def push(self , value):\n",
    "        if self.top is None:\n",
    "            self.top = Node(value)\n",
    "            self.minimum = value\n",
    "            \n",
    "        elif value < self.minimum:\n",
    "            temp = (2*value)-self.minimum\n",
    "            new_node = Node(temp)\n",
    "            new_node.next = self.top\n",
    "            self.top = new_node\n",
    "            self.minimum = value\n",
    "        else:\n",
    "            new_node = Node(value)\n",
    "            new_node.next = self.top\n",
    "            self.top = new_node\n",
    "        print(\" Number Inserted : {} \".format(value))\n",
    "        \n",
    "    def pop(self):\n",
    "        if self.top is None:\n",
    "            print(\"Stack is Empty\")\n",
    "        else:\n",
    "            removedNode = self.top.value\n",
    "            self.top = self.top.next\n",
    "            if removedNode < self.minimum:\n",
    "                print(\"Top Most Element Removed : {} \".format(self.minimum))\n",
    "                self.minimum = ((2*self.minimum) - removedNode )\n",
    "            else:\n",
    "                print(\" Top Most Element Removed : {} \".format(removedNode))\n",
    "       \n",
    "if __name__ == '__main__':\n",
    "\n",
    "  stack = Stack()\n",
    "\n",
    "  # Function calls\n",
    "  stack.push(3)\n",
    "  stack.push(5)\n",
    "  stack.getMin()\n",
    "  stack.push(2)\n",
    "  stack.push(1)\n",
    "  stack.getMin()\n",
    "  stack.pop()\n",
    "  stack.getMin()\n",
    "  stack.pop()\n",
    "  stack.peek()\n",
    "        "
   ]
  },
  {
   "cell_type": "code",
   "execution_count": 3,
   "id": "a8be364e",
   "metadata": {},
   "outputs": [
    {
     "data": {
      "text/plain": [
       "False"
      ]
     },
     "execution_count": 3,
     "metadata": {},
     "output_type": "execute_result"
    }
   ],
   "source": [
    "## Checking the balance of the parenthesis\n",
    "\n",
    "def isBalanced(expr):\n",
    "    stack = []\n",
    "    for x in expr:\n",
    "        if x in ('(','{','['):\n",
    "            stack.append(x)\n",
    "        else:\n",
    "            if not stack:\n",
    "                return False\n",
    "            elif isMatching(stack[-1],x)==False:\n",
    "                return False\n",
    "            else:\n",
    "                stack.pop()\n",
    "    if stack:\n",
    "        return False\n",
    "    else:\n",
    "        return True\n",
    "    \n",
    "def isMatching(a,b):\n",
    "    if(a=='(' and b==')') or (a=='{' and b=='}') or (a=='[' and b==']'):\n",
    "        return True\n",
    "    else:\n",
    "        return False\n",
    "    \n",
    "expr = [\"{[]{()}}\"]\n",
    "isBalanced(expr)"
   ]
  },
  {
   "cell_type": "code",
   "execution_count": 9,
   "id": "3818b4cb",
   "metadata": {},
   "outputs": [
    {
     "name": "stdout",
     "output_type": "stream",
     "text": [
      "Popped element from stack 2 is 45\n",
      "Popped element from stack 1 is 39\n",
      "Popped element from stack 0 is 7\n",
      "9\n",
      "11\n"
     ]
    }
   ],
   "source": [
    "class KStacks:\n",
    "    \n",
    "    def __init__(self,k,n):\n",
    "        self.k = k\n",
    "        self.n = n\n",
    "        \n",
    "        self.arr = [0]*self.n\n",
    "        self.top = [-1]*self.k\n",
    "        \n",
    "        self.free = 0\n",
    "        \n",
    "        self.next = [i+1 for i in range(n)]\n",
    "        self.next[self.n-1]=-1\n",
    "        \n",
    "        \n",
    "    def isEmpty(self,sn):\n",
    "        return self.top[sn]==-1\n",
    "    \n",
    "    def isFull(self):\n",
    "        return self.free == -1\n",
    "    \n",
    "    def push(self,item,sn):\n",
    "        if self.isFull():\n",
    "            print(\"Stack is Overflow\")\n",
    "            return \n",
    "        insert_at = self.free\n",
    "        self.free = self.next[self.free]\n",
    "        self.arr[insert_at] = item\n",
    "        self.next[insert_at] = self.top[sn]\n",
    "        self.top[sn] = insert_at\n",
    "        \n",
    "    def pop(self,sn):\n",
    "        if self.isEmpty(sn):\n",
    "            return None\n",
    "        \n",
    "        top_of_stack = self.top[sn]\n",
    "        self.top[sn] = self.next[self.top[sn]]\n",
    "        self.next[top_of_stack] = self.free\n",
    "        self.free = top_of_stack\n",
    "        return self.arr[top_of_stack]\n",
    "    \n",
    "    def printstack(self,sn):\n",
    "        top_index = self.top[sn]\n",
    "        while(top_index!=-1):\n",
    "            print(self.arr[top_index])\n",
    "            top_index = self.next[top_index]\n",
    "            \n",
    "            \n",
    "if __name__ == \"__main__\":\n",
    "\t\n",
    "\t# Create 3 stacks using an\n",
    "\t# array of size 10.\n",
    "\tkstacks = KStacks(3, 10)\n",
    "\n",
    "\t# Push some items onto stack number 2.\n",
    "\tkstacks.push(15, 2)\n",
    "\tkstacks.push(45, 2)\n",
    "\n",
    "\t# Push some items onto stack number 1.\n",
    "\tkstacks.push(17, 1)\n",
    "\tkstacks.push(49, 1)\n",
    "\tkstacks.push(39, 1)\n",
    "\n",
    "\t# Push some items onto stack number 0.\n",
    "\tkstacks.push(11, 0)\n",
    "\tkstacks.push(9, 0)\n",
    "\tkstacks.push(7, 0)\n",
    "\n",
    "\tprint(\"Popped element from stack 2 is \" +\n",
    "\t\t\t\t\t\tstr(kstacks.pop(2)))\n",
    "\tprint(\"Popped element from stack 1 is \" +\n",
    "\t\t\t\t\t\tstr(kstacks.pop(1)))\n",
    "\tprint(\"Popped element from stack 0 is \" +\n",
    "\t\t\t\t\t\tstr(kstacks.pop(0)))\n",
    "\n",
    "\tkstacks.printstack(0)"
   ]
  },
  {
   "cell_type": "code",
   "execution_count": null,
   "id": "88221295",
   "metadata": {},
   "outputs": [],
   "source": []
  }
 ],
 "metadata": {
  "kernelspec": {
   "display_name": "Python 3 (ipykernel)",
   "language": "python",
   "name": "python3"
  },
  "language_info": {
   "codemirror_mode": {
    "name": "ipython",
    "version": 3
   },
   "file_extension": ".py",
   "mimetype": "text/x-python",
   "name": "python",
   "nbconvert_exporter": "python",
   "pygments_lexer": "ipython3",
   "version": "3.9.13"
  }
 },
 "nbformat": 4,
 "nbformat_minor": 5
}
