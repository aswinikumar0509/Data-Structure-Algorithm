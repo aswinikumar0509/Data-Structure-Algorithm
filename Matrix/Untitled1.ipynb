{
 "cells": [
  {
   "cell_type": "code",
   "execution_count": 1,
   "id": "4e0c20ee",
   "metadata": {},
   "outputs": [
    {
     "name": "stdout",
     "output_type": "stream",
     "text": [
      "10 20 30 40 45 35 25 15 27 24 37 48 50 34 33 32 "
     ]
    }
   ],
   "source": [
    "## printing the mstrix in the snake order\n",
    "\n",
    "M = 4\n",
    "N = 4\n",
    "\n",
    "def printf(mat):\n",
    "    global M,N\n",
    "    \n",
    "    for i in range(M):\n",
    "        if i%2==0:\n",
    "            for j in range(N):\n",
    "                print(str(mat[i][j]), end = \" \")\n",
    "        else:\n",
    "            for j in range(N-1,-1,-1):\n",
    "                print(str(mat[i][j]), end = \" \")\n",
    "                \n",
    "\n",
    "mat = [[10,20,30,40,],\n",
    "      [15,25,35,45],\n",
    "      [27,24,37,48],\n",
    "      [32,33,34,50]]\n",
    "\n",
    "printf(mat)"
   ]
  },
  {
   "cell_type": "code",
   "execution_count": 2,
   "id": "fb667a28",
   "metadata": {},
   "outputs": [
    {
     "name": "stdout",
     "output_type": "stream",
     "text": [
      "[10, 20, 30, 40] [0]\n",
      "[10, 20, 30, 40] [1]\n",
      "[10, 20, 30, 40] [2]\n",
      "[10, 20, 30, 40] [3]\n",
      "\n",
      "15\n",
      " \n",
      " \n",
      "45\n",
      "\n",
      "27\n",
      " \n",
      " \n",
      "48\n",
      "\n",
      "32\n",
      "33\n",
      "34\n",
      "50\n",
      "\n"
     ]
    }
   ],
   "source": [
    "## Prinitng the boundary of the matrix\n",
    "\n",
    "# max = 100\n",
    "\n",
    "def printBoundary(a,m,n):\n",
    "    \n",
    "    for i in range(m):\n",
    "        for j in range(n):\n",
    "            if(i==0):\n",
    "                print(a[i],[j])\n",
    "            elif (i==m-1):\n",
    "                print(a[i][j])\n",
    "            elif (j==0):\n",
    "                print(a[i][j])\n",
    "            elif (j==n-1):\n",
    "                print(a[i][j])\n",
    "            else:\n",
    "                print(\" \"),\n",
    "                \n",
    "        print()\n",
    "        \n",
    "mat = [[10,20,30,40,],\n",
    "      [15,25,35,45],\n",
    "      [27,24,37,48],\n",
    "      [32,33,34,50]]\n",
    "\n",
    "printBoundary(mat,4,4)"
   ]
  },
  {
   "cell_type": "code",
   "execution_count": 3,
   "id": "13bad2fc",
   "metadata": {},
   "outputs": [
    {
     "name": "stdout",
     "output_type": "stream",
     "text": [
      "Result : \n",
      "10  15  27  32  \n",
      "20  25  24  33  \n",
      "30  35  37  34  \n",
      "40  45  48  50  \n"
     ]
    }
   ],
   "source": [
    "## transponse the matrix\n",
    "\n",
    "N = 4\n",
    "\n",
    "mat2 = [[0 for i in range(N)] for j in range(N)]\n",
    "\n",
    "def transpose_matrix(mat1,mat2):\n",
    "    for i in range(N):\n",
    "        for j in range(N):\n",
    "            mat2[i][j] = mat1[j][i]\n",
    "            \n",
    "\n",
    "mat1 = [[10,20,30,40,],\n",
    "      [15,25,35,45],\n",
    "      [27,24,37,48],\n",
    "      [32,33,34,50]]\n",
    "\n",
    "transpose_matrix(mat1,mat2)\n",
    "\n",
    "print(\"Result : \")\n",
    "for i in range(N):\n",
    "    for j in range(N):\n",
    "        print(mat2[i][j],\"\",end=\" \")\n",
    "    print()"
   ]
  },
  {
   "cell_type": "code",
   "execution_count": 4,
   "id": "55d43fc8",
   "metadata": {},
   "outputs": [
    {
     "name": "stdout",
     "output_type": "stream",
     "text": [
      "Original Matrix : \n",
      "1 2 3\n",
      "4 5 6\n",
      "7 8 9\n",
      "Rotated Matrix :\n",
      "3 6 9\n",
      "2 5 8\n",
      "1 4 7\n"
     ]
    }
   ],
   "source": [
    "## Rotate the matrix\n",
    "\n",
    "def rotate_matrix(matrix):\n",
    "    \n",
    "    n = len(matrix)\n",
    "    \n",
    "    for i in range(n):\n",
    "        for j in range(i,n):\n",
    "            matrix[i][j],matrix[j][i] = matrix[j][i],matrix[i][j]\n",
    "            \n",
    "    for i in range(n):\n",
    "        for j ,k in zip(range(n//2),range(n-1,n//2-1,-1)):\n",
    "            matrix[j][i],matrix[k][i] = matrix[k][i],matrix[j][i]\n",
    "            \n",
    "def print_matrix(matrix):\n",
    "    for row in matrix:\n",
    "        print(' '.join(str(elem) for elem in row))\n",
    "        \n",
    "matrix = [[1,2,3],[4,5,6],[7,8,9]]\n",
    "print(\"Original Matrix : \")\n",
    "print_matrix(matrix)\n",
    "\n",
    "print(\"Rotated Matrix :\")\n",
    "rotate_matrix(matrix)\n",
    "print_matrix(matrix)"
   ]
  },
  {
   "cell_type": "code",
   "execution_count": 5,
   "id": "18e6da25",
   "metadata": {},
   "outputs": [
    {
     "name": "stdout",
     "output_type": "stream",
     "text": [
      "1 2 3 6 9 8 7 4 5 "
     ]
    }
   ],
   "source": [
    "## Spiral matrix\n",
    "\n",
    "def sprial_matrix(m,n,a):\n",
    "    k = 0\n",
    "    l = 0\n",
    "    \"\"\"\n",
    "    k - starting row index,\n",
    "    m - ending row index\n",
    "    l - starting column index,\n",
    "    n - ending column index,\n",
    "    i - iterator\n",
    "    [1,2,3],\n",
    "    [4,5,6],\n",
    "    [7,8,9]\n",
    "    o/p-[1,2,3,6,9,8,7,4,5]\n",
    "    \n",
    "    \"\"\"\n",
    "    while (k<m and l<n):\n",
    "        for i in range(l,n):\n",
    "            print(a[k][i],end = \" \")\n",
    "        k+=1\n",
    "        \n",
    "        for i in range(k,m):\n",
    "            print(a[i][n-1],end = \" \")\n",
    "        n-=1\n",
    "        \n",
    "        if(k<m):\n",
    "            for i in range(n-1,l-1,-1):\n",
    "                print(a[m-1][i] , end = \" \")\n",
    "            m-=1\n",
    "        if(l<n):\n",
    "            for i in range(m-1,k-1,-1):\n",
    "                print(a[i][l] , end = \" \")\n",
    "                \n",
    "            l+=1\n",
    "            \n",
    "\n",
    "a = [[1,2,3],\n",
    "    [4,5,6],\n",
    "    [7,8,9]]\n",
    "r = 3\n",
    "c = 3\n",
    "\n",
    "sprial_matrix(r,c,a)\n"
   ]
  },
  {
   "cell_type": "code",
   "execution_count": 6,
   "id": "f91c5bf5",
   "metadata": {},
   "outputs": [
    {
     "name": "stdout",
     "output_type": "stream",
     "text": [
      "Element found at ( 1 , 1 )\n"
     ]
    },
    {
     "data": {
      "text/plain": [
       "True"
      ]
     },
     "execution_count": 6,
     "metadata": {},
     "output_type": "execute_result"
    }
   ],
   "source": [
    "## Search the element in the matrix\n",
    "\n",
    "def search_element(mat,n,x):\n",
    "    \n",
    "    if(n==0):\n",
    "        return -1\n",
    "    \n",
    "    for i in range(n):\n",
    "        for j in range(n):\n",
    "            \n",
    "            if(mat[i][j]==x):\n",
    "                print(\"Element found at (\",i,\",\",j,\")\")\n",
    "                return True\n",
    "            \n",
    "    print(\"Element Not Found\")\n",
    "    return False\n",
    "\n",
    "a = [[1,2,3],\n",
    "    [4,5,6],\n",
    "    [7,8,9]]\n",
    "n = 3\n",
    "x = 5\n",
    "search_element(a,n,x)"
   ]
  },
  {
   "cell_type": "code",
   "execution_count": 7,
   "id": "c02906ea",
   "metadata": {},
   "outputs": [
    {
     "name": "stdout",
     "output_type": "stream",
     "text": [
      "Element found at: 1,1\n"
     ]
    },
    {
     "data": {
      "text/plain": [
       "True"
      ]
     },
     "execution_count": 7,
     "metadata": {},
     "output_type": "execute_result"
    }
   ],
   "source": [
    "## Efficient way to find the element in the matrix\n",
    "\n",
    "def search_element(mat,n,x):\n",
    "    i=0\n",
    "    j=n-1\n",
    "    \n",
    "    while(i<n and j>=0):\n",
    "        if(mat[i][j]==x):\n",
    "            print(f\"Element found at: {i},{j}\")\n",
    "            return True\n",
    "        if(mat[i][j]>x):\n",
    "            j-=1\n",
    "        else:\n",
    "            i+=1\n",
    "            \n",
    "    print(f\"Element not found \")\n",
    "    return False\n",
    "\n",
    "a = [[1,2,3],\n",
    "    [4,5,6],\n",
    "    [7,8,9]]\n",
    "n = 3\n",
    "x = 5\n",
    "search_element(a,n,x)"
   ]
  },
  {
   "cell_type": "code",
   "execution_count": null,
   "id": "4cc6c89f",
   "metadata": {},
   "outputs": [],
   "source": [
    "## Median of the row wise sorted matrix\n",
    "\n"
   ]
  },
  {
   "cell_type": "code",
   "execution_count": 8,
   "id": "0ccffea7",
   "metadata": {},
   "outputs": [],
   "source": [
    "    def spirallyTraverse(self,matrix, r, c): \n",
    "        # code here \n",
    "        \n",
    "        top = 0\n",
    "        left = 0\n",
    "        right = c-1\n",
    "        bottom = r-1\n",
    "        res = []\n",
    "        \n",
    "        while(left<=right and top<=bottom):\n",
    "            \n",
    "            #first row\n",
    "            for i in range(left,right+1):\n",
    "                res.append(matrix[top][i])\n",
    "            top+=1\n",
    "            \n",
    "            #right column\n",
    "            for i in range(top,bottom+1):\n",
    "                res.append(matrix[i][right])\n",
    "            right-=1\n",
    "            \n",
    "            #bottom row\n",
    "            if(top<=bottom):\n",
    "                for i in range(right,left-1,-1):\n",
    "                    res.append(matrix[bottom][i])\n",
    "                bottom-=1\n",
    "                \n",
    "            #left row\n",
    "            if(left<=right):\n",
    "                for i in range(bottom,top-1,-1):\n",
    "                    res.append(matrix[i][left])\n",
    "                left+=1\n",
    "                    \n",
    "        return res"
   ]
  },
  {
   "cell_type": "code",
   "execution_count": null,
   "id": "7d0e9c4a",
   "metadata": {},
   "outputs": [],
   "source": []
  }
 ],
 "metadata": {
  "kernelspec": {
   "display_name": "Python 3 (ipykernel)",
   "language": "python",
   "name": "python3"
  },
  "language_info": {
   "codemirror_mode": {
    "name": "ipython",
    "version": 3
   },
   "file_extension": ".py",
   "mimetype": "text/x-python",
   "name": "python",
   "nbconvert_exporter": "python",
   "pygments_lexer": "ipython3",
   "version": "3.9.13"
  }
 },
 "nbformat": 4,
 "nbformat_minor": 5
}
