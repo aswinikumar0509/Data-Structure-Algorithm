{
 "cells": [
  {
   "cell_type": "code",
   "execution_count": 1,
   "id": "386fc643",
   "metadata": {},
   "outputs": [
    {
     "name": "stdout",
     "output_type": "stream",
     "text": [
      "10 20 30 40 45 35 25 15 27 29 37 48 50 39 33 32 None\n"
     ]
    }
   ],
   "source": [
    "## Print the snake pattern in the array\n",
    "\n",
    "def printsnake(mat):\n",
    "    m = len(mat)\n",
    "    n = len(mat[0])\n",
    "    \n",
    "    for i in range(m):\n",
    "        if i%2==0:\n",
    "            for j in range(n):\n",
    "                print(mat[i][j],end = \" \")\n",
    "        else:\n",
    "            for j in range(n-1,-1,-1):\n",
    "                print(mat[i][j],end = \" \")\n",
    "                \n",
    "\n",
    "mat = [[10, 20, 30, 40],[15, 25, 35, 45],[27, 29, 37, 48],[32, 33, 39, 50]]\n",
    "print(printsnake(mat))"
   ]
  },
  {
   "cell_type": "code",
   "execution_count": 2,
   "id": "15a526c0",
   "metadata": {},
   "outputs": [
    {
     "name": "stdout",
     "output_type": "stream",
     "text": [
      "10 20 30 40 45 35 25 15 27 29 37 48 50 39 33 32 "
     ]
    }
   ],
   "source": [
    "M = 4\n",
    "N = 4\n",
    "\n",
    "\n",
    "def printf(mat):\n",
    "\tglobal M, N\n",
    "\n",
    "\t# Traverse through all rows\n",
    "\tfor i in range(M):\n",
    "\n",
    "\t\t# If current row is\n",
    "\t\t# even, print from\n",
    "\t\t# left to right\n",
    "\t\tif i % 2 == 0:\n",
    "\t\t\tfor j in range(N):\n",
    "\t\t\t\tprint(str(mat[i][j]),\n",
    "\t\t\t\t\tend=\" \")\n",
    "\n",
    "\t\t# If current row is\n",
    "\t\t# odd, print from\n",
    "\t\t# right to left\n",
    "\t\telse:\n",
    "\t\t\tfor j in range(N - 1, -1, -1):\n",
    "\t\t\t\tprint(str(mat[i][j]),\n",
    "\t\t\t\t\tend=\" \")\n",
    "\n",
    "\n",
    "# Driver code\n",
    "mat = [[10, 20, 30, 40],\n",
    "\t[15, 25, 35, 45],\n",
    "\t[27, 29, 37, 48],\n",
    "\t[32, 33, 39, 50]]\n",
    "\n",
    "printf(mat)"
   ]
  },
  {
   "cell_type": "code",
   "execution_count": 3,
   "id": "ff88eefd",
   "metadata": {},
   "outputs": [
    {
     "name": "stdout",
     "output_type": "stream",
     "text": [
      "10 20 30 40 45 35 25 15 27 29 37 48 50 39 33 32 "
     ]
    }
   ],
   "source": [
    "## matrix boundary traversal\n",
    "\n",
    "def boundary(mat):\n",
    "    r = len(mat)\n",
    "    c = len(mat[0])\n",
    "    \n",
    "    if r==1:\n",
    "        for i in range(c):\n",
    "            print(mat[0][i],end = \" \")\n",
    "    elif c==1:\n",
    "        for i in range(r):\n",
    "            print(mat[i][0],end = \" \")\n",
    "    else:\n",
    "        for i in range(c):\n",
    "            print(mat[0][i],end = \" \")\n",
    "        for i in range(1,r):\n",
    "            print(mat[i][c-1],end = \" \")\n",
    "        for i in range(c-2,-1,-1):\n",
    "            print(mat[r-i][i],end = \" \")\n",
    "        for i in range(r-2,0,-1):\n",
    "            print(mat[i][0],end = \" \")\n",
    "            \n",
    "# Driver code\n",
    "mat=[[10, 20, 30, 40],\n",
    "\t[15, 25, 35, 45],\n",
    "\t[27, 29, 37, 48],\n",
    "\t[32, 33, 39, 50]]\n",
    "\n",
    "printf(mat)"
   ]
  },
  {
   "cell_type": "code",
   "execution_count": 4,
   "id": "eb7de4cb",
   "metadata": {},
   "outputs": [
    {
     "name": "stdout",
     "output_type": "stream",
     "text": [
      "1\n",
      "2\n",
      "3\n",
      "4\n",
      "5\n",
      " \n",
      " \n",
      "8\n",
      "1\n",
      " \n",
      " \n",
      "4\n",
      "5\n",
      "6\n",
      "7\n",
      "8\n"
     ]
    }
   ],
   "source": [
    "MAX = 100\n",
    "\n",
    "\n",
    "def printBoundary(a, m, n):\n",
    "\tfor i in range(m):\n",
    "\t\tfor j in range(n):\n",
    "\t\t\tif (i == 0):\n",
    "\t\t\t\tprint (a[i][j]),\n",
    "\t\t\telif (i == m-1):\n",
    "\t\t\t\tprint (a[i][j]),\n",
    "\t\t\telif (j == 0):\n",
    "\t\t\t\tprint (a[i][j]),\n",
    "\t\t\telif (j == n-1):\n",
    "\t\t\t\tprint (a[i][j]),\n",
    "\t\t\telse:\n",
    "\t\t\t\tprint( \" \"),\n",
    "\t\tprint\n",
    "\n",
    "\n",
    "# Driver code\n",
    "if __name__ == \"__main__\":\n",
    "\ta = [[1, 2, 3, 4], [5, 6, 7, 8],\n",
    "\t\t[1, 2, 3, 4], [5, 6, 7, 8]]\n",
    "\n",
    "\t# Function call\n",
    "\tprintBoundary(a, 4, 4)"
   ]
  },
  {
   "cell_type": "code",
   "execution_count": 5,
   "id": "6ecff045",
   "metadata": {},
   "outputs": [
    {
     "ename": "TypeError",
     "evalue": "'generator' object is not subscriptable",
     "output_type": "error",
     "traceback": [
      "\u001b[1;31m---------------------------------------------------------------------------\u001b[0m",
      "\u001b[1;31mTypeError\u001b[0m                                 Traceback (most recent call last)",
      "\u001b[1;32m~\\AppData\\Local\\Temp\\ipykernel_14444\\4004962033.py\u001b[0m in \u001b[0;36m<module>\u001b[1;34m\u001b[0m\n\u001b[0;32m     18\u001b[0m         \u001b[1;33m[\u001b[0m\u001b[1;36m27\u001b[0m\u001b[1;33m,\u001b[0m \u001b[1;36m29\u001b[0m\u001b[1;33m,\u001b[0m \u001b[1;36m37\u001b[0m\u001b[1;33m,\u001b[0m \u001b[1;36m48\u001b[0m\u001b[1;33m]\u001b[0m\u001b[1;33m,\u001b[0m\u001b[1;33m\u001b[0m\u001b[1;33m\u001b[0m\u001b[0m\n\u001b[0;32m     19\u001b[0m \t[32, 33, 39, 50]]\n\u001b[1;32m---> 20\u001b[1;33m \u001b[0mtranspose\u001b[0m\u001b[1;33m(\u001b[0m\u001b[0mmat\u001b[0m\u001b[1;33m)\u001b[0m\u001b[1;33m\u001b[0m\u001b[1;33m\u001b[0m\u001b[0m\n\u001b[0m\u001b[0;32m     21\u001b[0m \u001b[1;33m\u001b[0m\u001b[0m\n",
      "\u001b[1;32m~\\AppData\\Local\\Temp\\ipykernel_14444\\4004962033.py\u001b[0m in \u001b[0;36mtranspose\u001b[1;34m(mat)\u001b[0m\n\u001b[0;32m      7\u001b[0m     \u001b[1;32mfor\u001b[0m \u001b[0mi\u001b[0m \u001b[1;32min\u001b[0m \u001b[0mrange\u001b[0m\u001b[1;33m(\u001b[0m\u001b[0mn\u001b[0m\u001b[1;33m)\u001b[0m\u001b[1;33m:\u001b[0m\u001b[1;33m\u001b[0m\u001b[1;33m\u001b[0m\u001b[0m\n\u001b[0;32m      8\u001b[0m         \u001b[1;32mfor\u001b[0m \u001b[0mj\u001b[0m \u001b[1;32min\u001b[0m \u001b[0mrange\u001b[0m\u001b[1;33m(\u001b[0m\u001b[0mn\u001b[0m\u001b[1;33m)\u001b[0m\u001b[1;33m:\u001b[0m\u001b[1;33m\u001b[0m\u001b[1;33m\u001b[0m\u001b[0m\n\u001b[1;32m----> 9\u001b[1;33m             \u001b[0mtemp\u001b[0m\u001b[1;33m[\u001b[0m\u001b[0mi\u001b[0m\u001b[1;33m]\u001b[0m\u001b[1;33m[\u001b[0m\u001b[0mj\u001b[0m\u001b[1;33m]\u001b[0m \u001b[1;33m=\u001b[0m \u001b[0mmat\u001b[0m\u001b[1;33m[\u001b[0m\u001b[0mj\u001b[0m\u001b[1;33m]\u001b[0m\u001b[1;33m[\u001b[0m\u001b[0mi\u001b[0m\u001b[1;33m]\u001b[0m\u001b[1;33m\u001b[0m\u001b[1;33m\u001b[0m\u001b[0m\n\u001b[0m\u001b[0;32m     10\u001b[0m \u001b[1;33m\u001b[0m\u001b[0m\n\u001b[0;32m     11\u001b[0m     \u001b[1;32mfor\u001b[0m \u001b[0mi\u001b[0m \u001b[1;32min\u001b[0m \u001b[0mrange\u001b[0m\u001b[1;33m(\u001b[0m\u001b[0mn\u001b[0m\u001b[1;33m)\u001b[0m\u001b[1;33m:\u001b[0m\u001b[1;33m\u001b[0m\u001b[1;33m\u001b[0m\u001b[0m\n",
      "\u001b[1;31mTypeError\u001b[0m: 'generator' object is not subscriptable"
     ]
    }
   ],
   "source": [
    "## Transpose of the matrix\n",
    "\n",
    "def transpose(mat):\n",
    "    n = len(mat)\n",
    "    temp = (0*n for i in range(n))\n",
    "    \n",
    "    for i in range(n):\n",
    "        for j in range(n):\n",
    "            temp[i][j] = mat[j][i]\n",
    "            \n",
    "    for i in range(n):\n",
    "        for j in range(n):\n",
    "            mat[i][j] = temp[i][j]\n",
    "            \n",
    "#driver code\n",
    "mat=[[10, 20, 30, 40],\n",
    "\t[15, 25, 35, 45],\n",
    "\t[27, 29, 37, 48],\n",
    "\t[32, 33, 39, 50]]\n",
    "transpose(mat)\n",
    "\n"
   ]
  },
  {
   "cell_type": "code",
   "execution_count": 17,
   "id": "bb21b35f",
   "metadata": {},
   "outputs": [
    {
     "name": "stdout",
     "output_type": "stream",
     "text": [
      "Modified matrics\n",
      "1   2   3   4   \n",
      "1   2   3   4   \n",
      "1   2   3   4   \n",
      "1   2   3   4   \n"
     ]
    }
   ],
   "source": [
    "#efficient approch\n",
    "\n",
    "n = 4\n",
    "\n",
    "def transposemat(mat):\n",
    "    for i in range(n):\n",
    "        for j in range(i+1,n):\n",
    "            mat[i][j],mat[j][i] = mat[j][i],mat[i][j]\n",
    "            \n",
    "mat = [[1, 1, 1, 1],\n",
    "\t[2, 2, 2, 2],\n",
    "\t[3, 3, 3, 3],\n",
    "\t[4, 4, 4, 4]]\n",
    "\n",
    "transpose(mat)\n",
    "\n",
    "print(\"Modified matrics\")\n",
    "\n",
    "for i in range(n):\n",
    "    for j in range(n):\n",
    "        print(mat[i][j],\" \",end = \" \")\n",
    "    print()"
   ]
  },
  {
   "cell_type": "code",
   "execution_count": 13,
   "id": "b03b9862",
   "metadata": {},
   "outputs": [
    {
     "name": "stdout",
     "output_type": "stream",
     "text": [
      "Modified matrix is\n",
      "1  2  3  4  \n",
      "1  2  3  4  \n",
      "1  2  3  4  \n",
      "1  2  3  4  \n"
     ]
    }
   ],
   "source": [
    "def transpose(A):\n",
    "\n",
    "\tfor i in range(N):\n",
    "\t\tfor j in range(i+1, N):\n",
    "\t\t\tA[i][j], A[j][i] = A[j][i], A[i][j]\n",
    "\n",
    "\n",
    "# driver code\n",
    "A = [[1, 1, 1, 1],\n",
    "\t[2, 2, 2, 2],\n",
    "\t[3, 3, 3, 3],\n",
    "\t[4, 4, 4, 4]]\n",
    "\n",
    "transpose(A)\n",
    "\n",
    "print(\"Modified matrix is\")\n",
    "for i in range(N):\n",
    "\tfor j in range(N):\n",
    "\t\tprint(A[i][j], \" \", end='')\n",
    "\tprint()"
   ]
  },
  {
   "cell_type": "code",
   "execution_count": 1,
   "id": "2e5e007e",
   "metadata": {},
   "outputs": [
    {
     "name": "stdout",
     "output_type": "stream",
     "text": [
      "1 2 3 4 5 6 7 8 9 "
     ]
    }
   ],
   "source": [
    "## Passing 2D array as argunment\n",
    "\n",
    "def print_matrix(matrix):\n",
    "    m = len(matrix)\n",
    "    n = len(matrix[0])\n",
    "    \n",
    "    for i in range(m):\n",
    "        for j in range(n):\n",
    "            print(matrix[i][j],end=\" \")\n",
    "            \n",
    "matrix = [[1,2,3],\n",
    "         [4,5,6],\n",
    "         [7,8,9]]\n",
    "\n",
    "print_matrix(matrix)"
   ]
  },
  {
   "cell_type": "code",
   "execution_count": 1,
   "id": "5302c8c7",
   "metadata": {},
   "outputs": [],
   "source": [
    "## New Startup"
   ]
  },
  {
   "cell_type": "code",
   "execution_count": null,
   "id": "d53bc81c",
   "metadata": {},
   "outputs": [],
   "source": [
    "## Creating "
   ]
  }
 ],
 "metadata": {
  "kernelspec": {
   "display_name": "Python 3 (ipykernel)",
   "language": "python",
   "name": "python3"
  },
  "language_info": {
   "codemirror_mode": {
    "name": "ipython",
    "version": 3
   },
   "file_extension": ".py",
   "mimetype": "text/x-python",
   "name": "python",
   "nbconvert_exporter": "python",
   "pygments_lexer": "ipython3",
   "version": "3.9.13"
  }
 },
 "nbformat": 4,
 "nbformat_minor": 5
}
