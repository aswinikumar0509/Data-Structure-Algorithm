{
 "cells": [
  {
   "cell_type": "code",
   "execution_count": 1,
   "id": "e417f516",
   "metadata": {},
   "outputs": [],
   "source": [
    "# Recurssion topic "
   ]
  },
  {
   "cell_type": "code",
   "execution_count": 2,
   "id": "bdd612d1",
   "metadata": {},
   "outputs": [
    {
     "data": {
      "text/plain": [
       "2"
      ]
     },
     "execution_count": 2,
     "metadata": {},
     "output_type": "execute_result"
    }
   ],
   "source": [
    "## Finding the square root of the number\n",
    "\n",
    "def fun(n):\n",
    "    if n<=1:\n",
    "        return 0\n",
    "    else:\n",
    "        return  1 + fun(n/2)\n",
    "    \n",
    "n = 4\n",
    "fun(n)"
   ]
  },
  {
   "cell_type": "code",
   "execution_count": 3,
   "id": "a726be34",
   "metadata": {},
   "outputs": [
    {
     "name": "stdout",
     "output_type": "stream",
     "text": [
      "1\n",
      "2\n",
      "3\n",
      "4\n",
      "5\n"
     ]
    }
   ],
   "source": [
    "## printing the number from 1 to n\n",
    "\n",
    "def fun(n):\n",
    "    if n==0:\n",
    "        return \n",
    "    fun(n-1)\n",
    "    print(n)\n",
    "\n",
    "n=5\n",
    "fun(n)"
   ]
  },
  {
   "cell_type": "code",
   "execution_count": 4,
   "id": "10cc4bfb",
   "metadata": {},
   "outputs": [
    {
     "name": "stdout",
     "output_type": "stream",
     "text": [
      "5\n",
      "4\n",
      "3\n",
      "2\n",
      "1\n"
     ]
    }
   ],
   "source": [
    "## printing the number from n to 1\n",
    "\n",
    "def fun(n):\n",
    "    if n==0:\n",
    "        return\n",
    "    print(n)\n",
    "    fun(n-1)\n",
    "    \n",
    "n=5\n",
    "fun(n)"
   ]
  },
  {
   "cell_type": "code",
   "execution_count": 5,
   "id": "6d6ee777",
   "metadata": {},
   "outputs": [],
   "source": [
    "## Printing the sum of the digit using the number\n",
    "\n",
    "def fun(n):\n",
    "    if n<=10:\n",
    "        return\n",
    "    return fun(n//10)+n%10\n",
    "\n",
    "n=5\n",
    "fun(n)"
   ]
  },
  {
   "cell_type": "code",
   "execution_count": 6,
   "id": "e4d2afb3",
   "metadata": {},
   "outputs": [
    {
     "name": "stdout",
     "output_type": "stream",
     "text": [
      "Yes\n"
     ]
    }
   ],
   "source": [
    "## Writing the function for the palindrome number\n",
    "\n",
    "def is_palindrome(s,i):\n",
    "    if(i>len(s)/2):\n",
    "        return True\n",
    "    ans = False\n",
    "    if((s[i] is s[len(s)-i-1]) and is_palindrome(s,i+1)):\n",
    "        ans = True\n",
    "    return ans\n",
    "\n",
    "str = \"geeg\"\n",
    "if (is_palindrome(str,0)):\n",
    "    print(\"Yes\")\n",
    "else:\n",
    "    print(\"NO\")"
   ]
  },
  {
   "cell_type": "code",
   "execution_count": 7,
   "id": "a111d604",
   "metadata": {},
   "outputs": [
    {
     "data": {
      "text/plain": [
       "15"
      ]
     },
     "execution_count": 7,
     "metadata": {},
     "output_type": "execute_result"
    }
   ],
   "source": [
    "## Sum of the natural number using the recussion\n",
    "\n",
    "def is_rucsum(n):\n",
    "    \n",
    "    if n <=1:\n",
    "        return n\n",
    "    return n+is_rucsum(n-1)\n",
    "\n",
    "n = 5\n",
    "is_rucsum(n)"
   ]
  },
  {
   "cell_type": "code",
   "execution_count": 12,
   "id": "39ae0076",
   "metadata": {},
   "outputs": [
    {
     "data": {
      "text/plain": [
       "35"
      ]
     },
     "execution_count": 12,
     "metadata": {},
     "output_type": "execute_result"
    }
   ],
   "source": [
    "## Finding the average of the number\n",
    "\n",
    "def average_number(n):\n",
    "    \n",
    "    list = 0\n",
    "    for i in range(len(n)):\n",
    "        list+=n[i]\n",
    "        \n",
    "    return list//len(n)\n",
    "\n",
    "n = [15, 9, 55, 41, 35, 20, 62, 49]\n",
    "average_number(n)\n",
    "    "
   ]
  },
  {
   "cell_type": "code",
   "execution_count": 15,
   "id": "cfaf6f3a",
   "metadata": {},
   "outputs": [
    {
     "name": "stdout",
     "output_type": "stream",
     "text": [
      "Even lists: [0, 5, 7]\n",
      "Odd lists: [1, 2, 3, 4, 6, 8]\n"
     ]
    }
   ],
   "source": [
    "## Seperating the odd and even number in the list\n",
    "\n",
    "def odd_even(n):\n",
    "    \n",
    "    odd = []\n",
    "    even = []\n",
    "    \n",
    "    for i in range(len(n)):\n",
    "        if n[i]%2==0:\n",
    "            even.append(i)\n",
    "        else:\n",
    "            odd.append(i)\n",
    "    print(\"Even lists:\", even)\n",
    "    print(\"Odd lists:\", odd)\n",
    "    \n",
    "\n",
    "\n",
    "n = [2, 5, 13, 17, 51, 62, 73, 84, 95]\n",
    "odd_even(n)\n"
   ]
  },
  {
   "cell_type": "code",
   "execution_count": null,
   "id": "fec388ae",
   "metadata": {},
   "outputs": [],
   "source": [
    "## Get the smaller number in the given k\n"
   ]
  }
 ],
 "metadata": {
  "kernelspec": {
   "display_name": "Python 3 (ipykernel)",
   "language": "python",
   "name": "python3"
  },
  "language_info": {
   "codemirror_mode": {
    "name": "ipython",
    "version": 3
   },
   "file_extension": ".py",
   "mimetype": "text/x-python",
   "name": "python",
   "nbconvert_exporter": "python",
   "pygments_lexer": "ipython3",
   "version": "3.9.13"
  }
 },
 "nbformat": 4,
 "nbformat_minor": 5
}
