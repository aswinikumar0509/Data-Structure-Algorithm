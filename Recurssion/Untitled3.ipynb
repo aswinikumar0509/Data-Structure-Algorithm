{
 "cells": [
  {
   "cell_type": "code",
   "execution_count": 1,
   "id": "d32a2dbb",
   "metadata": {},
   "outputs": [
    {
     "data": {
      "text/plain": [
       "3"
      ]
     },
     "execution_count": 1,
     "metadata": {},
     "output_type": "execute_result"
    }
   ],
   "source": [
    "## Rop cutting problem \n",
    "\n",
    "def ropCutting(n,a,b,c):\n",
    "    if(n==0):\n",
    "        return 0\n",
    "    if(n<=-1):\n",
    "        return -1\n",
    "    res = max(ropCutting(n-a,a,b,c),\n",
    "             ropCutting(n-b,a,b,c),\n",
    "             ropCutting(n-c,a,b,c))\n",
    "    \n",
    "    if res==-1:\n",
    "        return -1\n",
    "    \n",
    "    return res+1\n",
    "\n",
    "n = 17\n",
    "a = 10\n",
    "b = 11\n",
    "c = 3\n",
    "ropCutting(n,a,b,c)"
   ]
  },
  {
   "cell_type": "code",
   "execution_count": 3,
   "id": "cef9499f",
   "metadata": {},
   "outputs": [
    {
     "name": "stdout",
     "output_type": "stream",
     "text": [
      "Yes\n"
     ]
    }
   ],
   "source": [
    "def isPalRec(st,s,e):\n",
    "    if(s==e):\n",
    "        return True\n",
    "    if(st[e]!=st[e]):\n",
    "        return False\n",
    "    if(s<e+1):\n",
    "        return isPalRec(st,s+1,e-1)\n",
    "    return True\n",
    "\n",
    "def isPalindrome(st):\n",
    "    n = len(st)\n",
    "    \n",
    "    if(n==0):\n",
    "        return True\n",
    "    return isPalRec(st,0,n-1)\n",
    "\n",
    "st = \"geeg\"\n",
    "if isPalindrome(st):\n",
    "    print(\"Yes\")\n",
    "else:\n",
    "    print(\"No\")"
   ]
  },
  {
   "cell_type": "code",
   "execution_count": 6,
   "id": "e907d170",
   "metadata": {},
   "outputs": [
    {
     "name": "stdout",
     "output_type": "stream",
     "text": [
      "abcd abc abd ab acd ac ad a bcd bc bd b cd c d  "
     ]
    }
   ],
   "source": [
    "## Priniting the subsequence of the string\n",
    "\n",
    "def sub(input,output):\n",
    "    if (len(input)==0):\n",
    "        print(output,end=' ')\n",
    "        return\n",
    "        \n",
    "    sub(input[1:],output+input[0])\n",
    "    sub(input[1:],output)\n",
    "    \n",
    "input = \"abcd\"\n",
    "output= \"\"\n",
    "sub(input,output)"
   ]
  },
  {
   "cell_type": "code",
   "execution_count": 9,
   "id": "e5734f42",
   "metadata": {},
   "outputs": [
    {
     "name": "stdout",
     "output_type": "stream",
     "text": [
      "ABC\n",
      "ACB\n",
      "BAC\n",
      "BCA\n",
      "CBA\n",
      "CAB\n"
     ]
    }
   ],
   "source": [
    "## Printing the permutation of the string\n",
    "\n",
    "def tostring(string):\n",
    "    return ''.join(string)\n",
    "\n",
    "def permutation(a,l,r):\n",
    "    if(l==r):\n",
    "        print(tostring(a))\n",
    "    else:\n",
    "        for i in range(l,r):\n",
    "            a[l],a[i] = a[i],a[l]\n",
    "            permutation(a,l+1,r)\n",
    "            a[l],a[i] = a[i],a[l]\n",
    "            \n",
    "string = \"ABC\"\n",
    "n = len(string)\n",
    "a = list(string)\n",
    "permutation(a, 0, n)"
   ]
  },
  {
   "cell_type": "code",
   "execution_count": null,
   "id": "e56cc13d",
   "metadata": {},
   "outputs": [],
   "source": []
  }
 ],
 "metadata": {
  "kernelspec": {
   "display_name": "Python 3 (ipykernel)",
   "language": "python",
   "name": "python3"
  },
  "language_info": {
   "codemirror_mode": {
    "name": "ipython",
    "version": 3
   },
   "file_extension": ".py",
   "mimetype": "text/x-python",
   "name": "python",
   "nbconvert_exporter": "python",
   "pygments_lexer": "ipython3",
   "version": "3.9.13"
  }
 },
 "nbformat": 4,
 "nbformat_minor": 5
}
