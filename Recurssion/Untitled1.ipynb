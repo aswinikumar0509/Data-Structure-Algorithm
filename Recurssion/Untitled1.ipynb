{
 "cells": [
  {
   "cell_type": "code",
   "execution_count": 1,
   "id": "8cef2f13",
   "metadata": {},
   "outputs": [
    {
     "name": "stdout",
     "output_type": "stream",
     "text": [
      "13\n"
     ]
    }
   ],
   "source": [
    "## Josephus problem\n",
    "\n",
    "def josephus(n,k):\n",
    "    \n",
    "    if (n==1):\n",
    "        return 1\n",
    "    else:\n",
    "        return (josephus(n-1,k)+k-1)%n+1\n",
    "    \n",
    "n=14\n",
    "k=2\n",
    "print(josephus(n,k))"
   ]
  },
  {
   "cell_type": "code",
   "execution_count": 2,
   "id": "2130d1ec",
   "metadata": {},
   "outputs": [
    {
     "name": "stdout",
     "output_type": "stream",
     "text": [
      "No subset with given sum\n"
     ]
    }
   ],
   "source": [
    "## subset problem\n",
    "\n",
    "def isSubset(set,n,sum):\n",
    "    \n",
    "    if (sum==0):\n",
    "        return True\n",
    "    if (n==0):\n",
    "        return False\n",
    "    \n",
    "    if(set[n-1]>sum):\n",
    "        return isSubset(set,n-1,sum)\n",
    "    \n",
    "        return isSubset(\n",
    "        set, n-1, sum) or isSubset(\n",
    "        set, n-1, sum-set[n-1])\n",
    "    \n",
    "\n",
    "set = [3, 34, 4, 12, 5, 2]\n",
    "sum = 9\n",
    "n = len(set)\n",
    "if (isSubset(set, n, sum) == True):\n",
    "    print(\"Found a subset with given sum\")\n",
    "else:\n",
    "    print(\"No subset with given sum\")\n",
    "\n",
    "# This code is contributed by Nikita Tiwari."
   ]
  },
  {
   "cell_type": "code",
   "execution_count": 3,
   "id": "d6ae4f94",
   "metadata": {},
   "outputs": [
    {
     "ename": "NameError",
     "evalue": "name 'toString' is not defined",
     "output_type": "error",
     "traceback": [
      "\u001b[1;31m---------------------------------------------------------------------------\u001b[0m",
      "\u001b[1;31mNameError\u001b[0m                                 Traceback (most recent call last)",
      "\u001b[1;32m~\\AppData\\Local\\Temp\\ipykernel_8076\\2395810630.py\u001b[0m in \u001b[0;36m<module>\u001b[1;34m\u001b[0m\n\u001b[0;32m     14\u001b[0m \u001b[0mn\u001b[0m \u001b[1;33m=\u001b[0m \u001b[0mlen\u001b[0m\u001b[1;33m(\u001b[0m\u001b[0mstring\u001b[0m\u001b[1;33m)\u001b[0m\u001b[1;33m\u001b[0m\u001b[1;33m\u001b[0m\u001b[0m\n\u001b[0;32m     15\u001b[0m \u001b[0ma\u001b[0m \u001b[1;33m=\u001b[0m \u001b[0mlist\u001b[0m\u001b[1;33m(\u001b[0m\u001b[0mstring\u001b[0m\u001b[1;33m)\u001b[0m\u001b[1;33m\u001b[0m\u001b[1;33m\u001b[0m\u001b[0m\n\u001b[1;32m---> 16\u001b[1;33m \u001b[0mpermute\u001b[0m\u001b[1;33m(\u001b[0m\u001b[0ma\u001b[0m\u001b[1;33m,\u001b[0m \u001b[1;36m0\u001b[0m\u001b[1;33m,\u001b[0m \u001b[0mn\u001b[0m\u001b[1;33m)\u001b[0m\u001b[1;33m\u001b[0m\u001b[1;33m\u001b[0m\u001b[0m\n\u001b[0m",
      "\u001b[1;32m~\\AppData\\Local\\Temp\\ipykernel_8076\\2395810630.py\u001b[0m in \u001b[0;36mpermute\u001b[1;34m(a, l, r)\u001b[0m\n\u001b[0;32m      7\u001b[0m                 \u001b[1;32mfor\u001b[0m \u001b[0mi\u001b[0m \u001b[1;32min\u001b[0m \u001b[0mrange\u001b[0m\u001b[1;33m(\u001b[0m\u001b[0ml\u001b[0m\u001b[1;33m,\u001b[0m\u001b[0mr\u001b[0m\u001b[1;33m)\u001b[0m\u001b[1;33m:\u001b[0m\u001b[1;33m\u001b[0m\u001b[1;33m\u001b[0m\u001b[0m\n\u001b[0;32m      8\u001b[0m                         \u001b[0ma\u001b[0m\u001b[1;33m[\u001b[0m\u001b[0ml\u001b[0m\u001b[1;33m]\u001b[0m\u001b[1;33m,\u001b[0m \u001b[0ma\u001b[0m\u001b[1;33m[\u001b[0m\u001b[0mi\u001b[0m\u001b[1;33m]\u001b[0m \u001b[1;33m=\u001b[0m \u001b[0ma\u001b[0m\u001b[1;33m[\u001b[0m\u001b[0mi\u001b[0m\u001b[1;33m]\u001b[0m\u001b[1;33m,\u001b[0m \u001b[0ma\u001b[0m\u001b[1;33m[\u001b[0m\u001b[0ml\u001b[0m\u001b[1;33m]\u001b[0m\u001b[1;33m\u001b[0m\u001b[1;33m\u001b[0m\u001b[0m\n\u001b[1;32m----> 9\u001b[1;33m                         \u001b[0mpermute\u001b[0m\u001b[1;33m(\u001b[0m\u001b[0ma\u001b[0m\u001b[1;33m,\u001b[0m \u001b[0ml\u001b[0m\u001b[1;33m+\u001b[0m\u001b[1;36m1\u001b[0m\u001b[1;33m,\u001b[0m \u001b[0mr\u001b[0m\u001b[1;33m)\u001b[0m\u001b[1;33m\u001b[0m\u001b[1;33m\u001b[0m\u001b[0m\n\u001b[0m\u001b[0;32m     10\u001b[0m                         \u001b[0ma\u001b[0m\u001b[1;33m[\u001b[0m\u001b[0ml\u001b[0m\u001b[1;33m]\u001b[0m\u001b[1;33m,\u001b[0m \u001b[0ma\u001b[0m\u001b[1;33m[\u001b[0m\u001b[0mi\u001b[0m\u001b[1;33m]\u001b[0m \u001b[1;33m=\u001b[0m \u001b[0ma\u001b[0m\u001b[1;33m[\u001b[0m\u001b[0mi\u001b[0m\u001b[1;33m]\u001b[0m\u001b[1;33m,\u001b[0m \u001b[0ma\u001b[0m\u001b[1;33m[\u001b[0m\u001b[0ml\u001b[0m\u001b[1;33m]\u001b[0m \u001b[1;31m# backtrack\u001b[0m\u001b[1;33m\u001b[0m\u001b[1;33m\u001b[0m\u001b[0m\n\u001b[0;32m     11\u001b[0m \u001b[1;33m\u001b[0m\u001b[0m\n",
      "\u001b[1;32m~\\AppData\\Local\\Temp\\ipykernel_8076\\2395810630.py\u001b[0m in \u001b[0;36mpermute\u001b[1;34m(a, l, r)\u001b[0m\n\u001b[0;32m      7\u001b[0m                 \u001b[1;32mfor\u001b[0m \u001b[0mi\u001b[0m \u001b[1;32min\u001b[0m \u001b[0mrange\u001b[0m\u001b[1;33m(\u001b[0m\u001b[0ml\u001b[0m\u001b[1;33m,\u001b[0m\u001b[0mr\u001b[0m\u001b[1;33m)\u001b[0m\u001b[1;33m:\u001b[0m\u001b[1;33m\u001b[0m\u001b[1;33m\u001b[0m\u001b[0m\n\u001b[0;32m      8\u001b[0m                         \u001b[0ma\u001b[0m\u001b[1;33m[\u001b[0m\u001b[0ml\u001b[0m\u001b[1;33m]\u001b[0m\u001b[1;33m,\u001b[0m \u001b[0ma\u001b[0m\u001b[1;33m[\u001b[0m\u001b[0mi\u001b[0m\u001b[1;33m]\u001b[0m \u001b[1;33m=\u001b[0m \u001b[0ma\u001b[0m\u001b[1;33m[\u001b[0m\u001b[0mi\u001b[0m\u001b[1;33m]\u001b[0m\u001b[1;33m,\u001b[0m \u001b[0ma\u001b[0m\u001b[1;33m[\u001b[0m\u001b[0ml\u001b[0m\u001b[1;33m]\u001b[0m\u001b[1;33m\u001b[0m\u001b[1;33m\u001b[0m\u001b[0m\n\u001b[1;32m----> 9\u001b[1;33m                         \u001b[0mpermute\u001b[0m\u001b[1;33m(\u001b[0m\u001b[0ma\u001b[0m\u001b[1;33m,\u001b[0m \u001b[0ml\u001b[0m\u001b[1;33m+\u001b[0m\u001b[1;36m1\u001b[0m\u001b[1;33m,\u001b[0m \u001b[0mr\u001b[0m\u001b[1;33m)\u001b[0m\u001b[1;33m\u001b[0m\u001b[1;33m\u001b[0m\u001b[0m\n\u001b[0m\u001b[0;32m     10\u001b[0m                         \u001b[0ma\u001b[0m\u001b[1;33m[\u001b[0m\u001b[0ml\u001b[0m\u001b[1;33m]\u001b[0m\u001b[1;33m,\u001b[0m \u001b[0ma\u001b[0m\u001b[1;33m[\u001b[0m\u001b[0mi\u001b[0m\u001b[1;33m]\u001b[0m \u001b[1;33m=\u001b[0m \u001b[0ma\u001b[0m\u001b[1;33m[\u001b[0m\u001b[0mi\u001b[0m\u001b[1;33m]\u001b[0m\u001b[1;33m,\u001b[0m \u001b[0ma\u001b[0m\u001b[1;33m[\u001b[0m\u001b[0ml\u001b[0m\u001b[1;33m]\u001b[0m \u001b[1;31m# backtrack\u001b[0m\u001b[1;33m\u001b[0m\u001b[1;33m\u001b[0m\u001b[0m\n\u001b[0;32m     11\u001b[0m \u001b[1;33m\u001b[0m\u001b[0m\n",
      "\u001b[1;32m~\\AppData\\Local\\Temp\\ipykernel_8076\\2395810630.py\u001b[0m in \u001b[0;36mpermute\u001b[1;34m(a, l, r)\u001b[0m\n\u001b[0;32m      7\u001b[0m                 \u001b[1;32mfor\u001b[0m \u001b[0mi\u001b[0m \u001b[1;32min\u001b[0m \u001b[0mrange\u001b[0m\u001b[1;33m(\u001b[0m\u001b[0ml\u001b[0m\u001b[1;33m,\u001b[0m\u001b[0mr\u001b[0m\u001b[1;33m)\u001b[0m\u001b[1;33m:\u001b[0m\u001b[1;33m\u001b[0m\u001b[1;33m\u001b[0m\u001b[0m\n\u001b[0;32m      8\u001b[0m                         \u001b[0ma\u001b[0m\u001b[1;33m[\u001b[0m\u001b[0ml\u001b[0m\u001b[1;33m]\u001b[0m\u001b[1;33m,\u001b[0m \u001b[0ma\u001b[0m\u001b[1;33m[\u001b[0m\u001b[0mi\u001b[0m\u001b[1;33m]\u001b[0m \u001b[1;33m=\u001b[0m \u001b[0ma\u001b[0m\u001b[1;33m[\u001b[0m\u001b[0mi\u001b[0m\u001b[1;33m]\u001b[0m\u001b[1;33m,\u001b[0m \u001b[0ma\u001b[0m\u001b[1;33m[\u001b[0m\u001b[0ml\u001b[0m\u001b[1;33m]\u001b[0m\u001b[1;33m\u001b[0m\u001b[1;33m\u001b[0m\u001b[0m\n\u001b[1;32m----> 9\u001b[1;33m                         \u001b[0mpermute\u001b[0m\u001b[1;33m(\u001b[0m\u001b[0ma\u001b[0m\u001b[1;33m,\u001b[0m \u001b[0ml\u001b[0m\u001b[1;33m+\u001b[0m\u001b[1;36m1\u001b[0m\u001b[1;33m,\u001b[0m \u001b[0mr\u001b[0m\u001b[1;33m)\u001b[0m\u001b[1;33m\u001b[0m\u001b[1;33m\u001b[0m\u001b[0m\n\u001b[0m\u001b[0;32m     10\u001b[0m                         \u001b[0ma\u001b[0m\u001b[1;33m[\u001b[0m\u001b[0ml\u001b[0m\u001b[1;33m]\u001b[0m\u001b[1;33m,\u001b[0m \u001b[0ma\u001b[0m\u001b[1;33m[\u001b[0m\u001b[0mi\u001b[0m\u001b[1;33m]\u001b[0m \u001b[1;33m=\u001b[0m \u001b[0ma\u001b[0m\u001b[1;33m[\u001b[0m\u001b[0mi\u001b[0m\u001b[1;33m]\u001b[0m\u001b[1;33m,\u001b[0m \u001b[0ma\u001b[0m\u001b[1;33m[\u001b[0m\u001b[0ml\u001b[0m\u001b[1;33m]\u001b[0m \u001b[1;31m# backtrack\u001b[0m\u001b[1;33m\u001b[0m\u001b[1;33m\u001b[0m\u001b[0m\n\u001b[0;32m     11\u001b[0m \u001b[1;33m\u001b[0m\u001b[0m\n",
      "\u001b[1;32m~\\AppData\\Local\\Temp\\ipykernel_8076\\2395810630.py\u001b[0m in \u001b[0;36mpermute\u001b[1;34m(a, l, r)\u001b[0m\n\u001b[0;32m      3\u001b[0m \u001b[1;32mdef\u001b[0m \u001b[0mpermute\u001b[0m\u001b[1;33m(\u001b[0m\u001b[0ma\u001b[0m\u001b[1;33m,\u001b[0m \u001b[0ml\u001b[0m\u001b[1;33m,\u001b[0m \u001b[0mr\u001b[0m\u001b[1;33m)\u001b[0m\u001b[1;33m:\u001b[0m\u001b[1;33m\u001b[0m\u001b[1;33m\u001b[0m\u001b[0m\n\u001b[0;32m      4\u001b[0m         \u001b[1;32mif\u001b[0m \u001b[0ml\u001b[0m\u001b[1;33m==\u001b[0m\u001b[0mr\u001b[0m\u001b[1;33m:\u001b[0m\u001b[1;33m\u001b[0m\u001b[1;33m\u001b[0m\u001b[0m\n\u001b[1;32m----> 5\u001b[1;33m                 \u001b[0mprint\u001b[0m \u001b[1;33m(\u001b[0m\u001b[0mtoString\u001b[0m\u001b[1;33m(\u001b[0m\u001b[0ma\u001b[0m\u001b[1;33m)\u001b[0m\u001b[1;33m)\u001b[0m\u001b[1;33m\u001b[0m\u001b[1;33m\u001b[0m\u001b[0m\n\u001b[0m\u001b[0;32m      6\u001b[0m         \u001b[1;32melse\u001b[0m\u001b[1;33m:\u001b[0m\u001b[1;33m\u001b[0m\u001b[1;33m\u001b[0m\u001b[0m\n\u001b[0;32m      7\u001b[0m                 \u001b[1;32mfor\u001b[0m \u001b[0mi\u001b[0m \u001b[1;32min\u001b[0m \u001b[0mrange\u001b[0m\u001b[1;33m(\u001b[0m\u001b[0ml\u001b[0m\u001b[1;33m,\u001b[0m\u001b[0mr\u001b[0m\u001b[1;33m)\u001b[0m\u001b[1;33m:\u001b[0m\u001b[1;33m\u001b[0m\u001b[1;33m\u001b[0m\u001b[0m\n",
      "\u001b[1;31mNameError\u001b[0m: name 'toString' is not defined"
     ]
    }
   ],
   "source": [
    "## Printing the permutation of the string\n",
    "\n",
    "def permute(a, l, r):\n",
    "\tif l==r:\n",
    "\t\tprint (toString(a))\n",
    "\telse:\n",
    "\t\tfor i in range(l,r):\n",
    "\t\t\ta[l], a[i] = a[i], a[l]\n",
    "\t\t\tpermute(a, l+1, r)\n",
    "\t\t\ta[l], a[i] = a[i], a[l] # backtrack\n",
    "\n",
    "# Driver program to test the above function\n",
    "string = \"ABC\"\n",
    "n = len(string)\n",
    "a = list(string)\n",
    "permute(a, 0, n)\n"
   ]
  },
  {
   "cell_type": "code",
   "execution_count": 4,
   "id": "a597b4f5",
   "metadata": {},
   "outputs": [
    {
     "data": {
      "text/plain": [
       "2"
      ]
     },
     "execution_count": 4,
     "metadata": {},
     "output_type": "execute_result"
    }
   ],
   "source": [
    "## rope cutting  problem\n",
    "\n",
    "def max_rope(n,a,b,c):\n",
    "    if n==0:\n",
    "        return 0\n",
    "    if n<=-1:\n",
    "        return -1\n",
    "    \n",
    "    res = max(max_rope(n-a,a,b,c),\n",
    "             max_rope(n-b,a,b,c),\n",
    "             max_rope(n-c,a,b,c))\n",
    "    \n",
    "    if res==-1:\n",
    "        return -1\n",
    "    \n",
    "    return res+1\n",
    "\n",
    "n=23\n",
    "a=11\n",
    "b=9\n",
    "c=12\n",
    "max_rope(n,a,b,c)"
   ]
  },
  {
   "cell_type": "code",
   "execution_count": 5,
   "id": "1d5fa672",
   "metadata": {},
   "outputs": [
    {
     "data": {
      "text/plain": [
       "False"
      ]
     },
     "execution_count": 5,
     "metadata": {},
     "output_type": "execute_result"
    }
   ],
   "source": [
    "## Checking the string is palindrome or not\n",
    "\n",
    "def palcheck(st,s,e):\n",
    "    \n",
    "    if s==e:\n",
    "        return True\n",
    "    \n",
    "    if st[s]!=st[e]:\n",
    "        return False\n",
    "    \n",
    "    \n",
    "    if(s<e+1):\n",
    "        return palcheck(st,s+1,e-1)\n",
    "\n",
    "def ispalindrome(st):\n",
    "    \n",
    "    n = len(st)\n",
    "    \n",
    "    if n==0:\n",
    "        return True\n",
    "    \n",
    "    return palcheck(st,0,e-1)\n",
    "\n",
    "st = \"geeks\"\n",
    "s = 0\n",
    "e = len(st)-1\n",
    "\n",
    "ispalindrome(st)\n"
   ]
  },
  {
   "cell_type": "code",
   "execution_count": 6,
   "id": "5ed39b1d",
   "metadata": {},
   "outputs": [
    {
     "data": {
      "text/plain": [
       "3"
      ]
     },
     "execution_count": 6,
     "metadata": {},
     "output_type": "execute_result"
    }
   ],
   "source": [
    "## pytho fro josephus problem\n",
    "\n",
    "def josephus(n,k):\n",
    "    \n",
    "    if n==0:\n",
    "        return 0\n",
    "    \n",
    "    return (josephus(n-1,k)+k-1)%n+1\n",
    "\n",
    "n=5\n",
    "k=2\n",
    "josephus(n,k)"
   ]
  },
  {
   "cell_type": "code",
   "execution_count": 7,
   "id": "e91585a4",
   "metadata": {},
   "outputs": [
    {
     "name": "stdout",
     "output_type": "stream",
     "text": [
      "Found a subset with given sum\n"
     ]
    }
   ],
   "source": [
    "def isSubsetSum(set, n, sum):\n",
    "\n",
    "    # Base Cases\n",
    "    if (sum == 0):\n",
    "        return True\n",
    "    if (n == 0):\n",
    "        return False\n",
    "\n",
    "    # If last element is greater than\n",
    "    # sum, then ignore it\n",
    "    if (set[n - 1] > sum):\n",
    "        return isSubsetSum(set, n - 1, sum)\n",
    "\n",
    "    # else, check if sum can be obtained\n",
    "    # by any of the following\n",
    "    # (a) including the last element\n",
    "    # (b) excluding the last element\n",
    "    return isSubsetSum(\n",
    "        set, n-1, sum) or isSubsetSum(\n",
    "        set, n-1, sum-set[n-1])\n",
    "\n",
    "\n",
    "# Driver code\n",
    "set = [3, 34, 4, 12, 5, 2]\n",
    "sum = 9\n",
    "n = len(set)\n",
    "if (isSubsetSum(set, n, sum) == True):\n",
    "    print(\"Found a subset with given sum\")\n",
    "else:\n",
    "    print(\"No subset with given sum\")"
   ]
  },
  {
   "cell_type": "code",
   "execution_count": 8,
   "id": "355b730c",
   "metadata": {},
   "outputs": [
    {
     "name": "stdout",
     "output_type": "stream",
     "text": [
      "ABC\n",
      "ACB\n",
      "BAC\n",
      "BCA\n",
      "CBA\n",
      "CAB\n"
     ]
    }
   ],
   "source": [
    "def toString(List):\n",
    "\treturn ''.join(List)\n",
    "\n",
    "# Function to print permutations of string\n",
    "# This function takes three parameters:\n",
    "# 1. String\n",
    "# 2. Starting index of the string\n",
    "# 3. Ending index of the string.\n",
    "def permute(a, l, r):\n",
    "\tif l==r:\n",
    "\t\tprint (toString(a))\n",
    "\telse:\n",
    "\t\tfor i in range(l,r):\n",
    "\t\t\ta[l], a[i] = a[i], a[l]\n",
    "\t\t\tpermute(a, l+1, r)\n",
    "\t\t\ta[l], a[i] = a[i], a[l] # backtrack\n",
    "\n",
    "# Driver program to test the above function\n",
    "string = \"ABC\"\n",
    "n = len(string)\n",
    "a = list(string)\n",
    "permute(a, 0, n)"
   ]
  },
  {
   "cell_type": "code",
   "execution_count": 9,
   "id": "34a437b8",
   "metadata": {},
   "outputs": [
    {
     "name": "stdout",
     "output_type": "stream",
     "text": [
      "abcd abc abd ab acd ac ad a bcd bc bd b cd c d  "
     ]
    }
   ],
   "source": [
    "def printSubsequence(input, output):\n",
    "\n",
    "\t# Base Case\n",
    "\t# if the input is empty print the output string\n",
    "\tif len(input) == 0:\n",
    "\t\tprint(output, end=' ')\n",
    "\t\treturn\n",
    "\n",
    "\t# output is passed with including the\n",
    "\t# 1st character of input string\n",
    "\tprintSubsequence(input[1:], output+input[0])\n",
    "\n",
    "\t# output is passed without including the\n",
    "\t# 1st character of input string\n",
    "\tprintSubsequence(input[1:], output)\n",
    "\n",
    "\n",
    "# Driver code\n",
    "# output is set to null before passing in\n",
    "# as a parameter\n",
    "output = \"\"\n",
    "input = \"abcd\"\n",
    "\n",
    "printSubsequence(input, output)"
   ]
  },
  {
   "cell_type": "code",
   "execution_count": 1,
   "id": "08b86b00",
   "metadata": {},
   "outputs": [],
   "source": [
    "def function(n,r):\n",
    "    \n",
    "    if n>0:\n",
    "        return (n%r+function(n//r,r))\n",
    "    else:\n",
    "        return 0"
   ]
  },
  {
   "cell_type": "code",
   "execution_count": 3,
   "id": "464795fc",
   "metadata": {},
   "outputs": [
    {
     "data": {
      "text/plain": [
       "2"
      ]
     },
     "execution_count": 3,
     "metadata": {},
     "output_type": "execute_result"
    }
   ],
   "source": [
    "function(513,2)"
   ]
  },
  {
   "cell_type": "code",
   "execution_count": 4,
   "id": "5f46a4f6",
   "metadata": {},
   "outputs": [
    {
     "name": "stdout",
     "output_type": "stream",
     "text": [
      "24\n"
     ]
    }
   ],
   "source": [
    "def function(x):\n",
    "    \n",
    "    if x==1:\n",
    "        return 1\n",
    "    else:\n",
    "        return x*function(x-1)\n",
    "    \n",
    "print(function(4))"
   ]
  },
  {
   "cell_type": "code",
   "execution_count": 5,
   "id": "e0511878",
   "metadata": {},
   "outputs": [
    {
     "name": "stdout",
     "output_type": "stream",
     "text": [
      "+\n",
      "+\n",
      "+\n",
      "+\n",
      "2\n"
     ]
    }
   ],
   "source": [
    "def function(x):\n",
    "    if x==2:\n",
    "        return 2\n",
    "    else:\n",
    "        print(\"+\")\n",
    "        return function(x-1)\n",
    "    \n",
    "print(function(6))"
   ]
  },
  {
   "cell_type": "code",
   "execution_count": 11,
   "id": "981e7da0",
   "metadata": {},
   "outputs": [
    {
     "name": "stdout",
     "output_type": "stream",
     "text": [
      "a\n",
      "a\n",
      "a\n",
      "a\n",
      "a\n",
      "a\n",
      "a\n",
      "a\n",
      "a\n",
      "a\n"
     ]
    }
   ],
   "source": [
    "def function(x):\n",
    "    if x==0:\n",
    "        \n",
    "        return\n",
    "    else:\n",
    "        print(\"a\")\n",
    "        \n",
    "    return function(x-1)\n",
    "    \n",
    "function(10)"
   ]
  },
  {
   "cell_type": "code",
   "execution_count": 12,
   "id": "d714172e",
   "metadata": {},
   "outputs": [
    {
     "name": "stdout",
     "output_type": "stream",
     "text": [
      "30\n"
     ]
    }
   ],
   "source": [
    "def function(n):\n",
    "    if n>0:\n",
    "        return (n+function(n-2))\n",
    "    else:\n",
    "        return 0\n",
    "    \n",
    "print(function(10))"
   ]
  },
  {
   "cell_type": "code",
   "execution_count": null,
   "id": "758c8053",
   "metadata": {},
   "outputs": [],
   "source": []
  }
 ],
 "metadata": {
  "kernelspec": {
   "display_name": "Python 3 (ipykernel)",
   "language": "python",
   "name": "python3"
  },
  "language_info": {
   "codemirror_mode": {
    "name": "ipython",
    "version": 3
   },
   "file_extension": ".py",
   "mimetype": "text/x-python",
   "name": "python",
   "nbconvert_exporter": "python",
   "pygments_lexer": "ipython3",
   "version": "3.9.13"
  }
 },
 "nbformat": 4,
 "nbformat_minor": 5
}
