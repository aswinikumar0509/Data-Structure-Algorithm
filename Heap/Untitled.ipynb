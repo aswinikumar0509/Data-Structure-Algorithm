{
 "cells": [
  {
   "cell_type": "code",
   "execution_count": 5,
   "id": "80f8f0a5",
   "metadata": {},
   "outputs": [
    {
     "name": "stdout",
     "output_type": "stream",
     "text": [
      "[10, 12, 15, 20, 50, 100, 25, 45, 40]\n"
     ]
    }
   ],
   "source": [
    "class myminheap:\n",
    "    \n",
    "    def __init__(self):\n",
    "        self.arr = []\n",
    "        \n",
    "    def parent(self,i):\n",
    "        return (i-1)//2\n",
    "    def lchild(self,i):\n",
    "        return(2*i+1)\n",
    "    def rchild(self,i):\n",
    "        return (2*i+2)\n",
    "    \n",
    "    def insert(self,x):\n",
    "        self.arr = arr\n",
    "        arr.append(x)\n",
    "        i = len(arr)-1\n",
    "        while i>0 and arr[self.parent(i)]>arr[i]:\n",
    "            p = self.parent(i)\n",
    "            arr[i],arr[p] = arr[p],arr[i]\n",
    "            i=p\n",
    "    def printArr(arr):\n",
    "        for i in range(len(arr)):\n",
    "            print(arr[i], end=\" \")\n",
    "            \n",
    "        \n",
    "## Driver code\n",
    "my_heap = myminheap()\n",
    "arr = [10,20,15,40,50,100,25,45]\n",
    "n = len(arr)\n",
    "my_heap.insert(12)\n",
    "print(arr)\n",
    "\n"
   ]
  },
  {
   "cell_type": "code",
   "execution_count": null,
   "id": "c5302bbd",
   "metadata": {},
   "outputs": [],
   "source": []
  }
 ],
 "metadata": {
  "kernelspec": {
   "display_name": "Python 3 (ipykernel)",
   "language": "python",
   "name": "python3"
  },
  "language_info": {
   "codemirror_mode": {
    "name": "ipython",
    "version": 3
   },
   "file_extension": ".py",
   "mimetype": "text/x-python",
   "name": "python",
   "nbconvert_exporter": "python",
   "pygments_lexer": "ipython3",
   "version": "3.9.13"
  }
 },
 "nbformat": 4,
 "nbformat_minor": 5
}
