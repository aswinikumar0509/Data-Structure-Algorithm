{
 "cells": [
  {
   "cell_type": "code",
   "execution_count": 1,
   "id": "32dcfce8",
   "metadata": {},
   "outputs": [
    {
     "name": "stdout",
     "output_type": "stream",
     "text": [
      "10\n"
     ]
    }
   ],
   "source": [
    "## sum of natural number:\n",
    "\n",
    "def sum_of_num(n):\n",
    "    sum = 0\n",
    "    x = 1\n",
    "    while x<=n:\n",
    "        sum+=x\n",
    "        x+=1\n",
    "    return sum\n",
    "\n",
    "n = 4\n",
    "print(sum_of_num(n))"
   ]
  },
  {
   "cell_type": "code",
   "execution_count": 2,
   "id": "39267813",
   "metadata": {},
   "outputs": [
    {
     "name": "stdout",
     "output_type": "stream",
     "text": [
      "10\n"
     ]
    }
   ],
   "source": [
    "def sumofnum(n):\n",
    "    if n%2==0:\n",
    "        return (n//2)*(n+1)\n",
    "    else:\n",
    "        return n*((n+1)//2)\n",
    "    \n",
    "n = 4\n",
    "print(sumofnum(n))"
   ]
  },
  {
   "cell_type": "code",
   "execution_count": 3,
   "id": "91416e26",
   "metadata": {},
   "outputs": [
    {
     "name": "stdout",
     "output_type": "stream",
     "text": [
      "4\n"
     ]
    }
   ],
   "source": [
    "## Count of digit \n",
    "\n",
    "def count_of_digit(n):\n",
    "    count = 0 \n",
    "    while n!=0:\n",
    "        n//=10\n",
    "        count+=1\n",
    "    return count\n",
    "\n",
    "n = 2019\n",
    "print(count_of_digit(n))"
   ]
  },
  {
   "cell_type": "code",
   "execution_count": 4,
   "id": "d7a20ae2",
   "metadata": {},
   "outputs": [
    {
     "name": "stdout",
     "output_type": "stream",
     "text": [
      "yes\n"
     ]
    }
   ],
   "source": [
    "## Checking the palindrome of the number\n",
    "\n",
    "def palindrome(n):\n",
    "    \n",
    "    reverse = 0\n",
    "    temp = n\n",
    "    \n",
    "    while temp!=0:\n",
    "        reverse = (reverse*10)+(temp%10)\n",
    "        temp = temp//10\n",
    "    return (reverse==n)\n",
    "\n",
    "n = 7007\n",
    "\n",
    "if palindrome(n==1):\n",
    "    print(\"yes\")\n",
    "else:\n",
    "    print(\"No\")"
   ]
  },
  {
   "cell_type": "code",
   "execution_count": 5,
   "id": "e255eef9",
   "metadata": {},
   "outputs": [
    {
     "name": "stdout",
     "output_type": "stream",
     "text": [
      "120\n"
     ]
    }
   ],
   "source": [
    "## Factorail of the number\n",
    "\n",
    "def factorail(n):\n",
    "    if n==0 or n==1:\n",
    "        return 1\n",
    "    else:\n",
    "        return n*factorail(n-1)\n",
    "    \n",
    "n = 5\n",
    "print(factorail(n))"
   ]
  },
  {
   "cell_type": "code",
   "execution_count": 6,
   "id": "2bd90b03",
   "metadata": {},
   "outputs": [
    {
     "name": "stdout",
     "output_type": "stream",
     "text": [
      "24\n"
     ]
    }
   ],
   "source": [
    "## Tailing zeros in factorial\n",
    "\n",
    "def findtailing(n):\n",
    "    count = 0\n",
    "    i=5\n",
    "    while (n/i>=1):\n",
    "        count += int(n/i)\n",
    "        i*=5\n",
    "    return int(count)\n",
    "\n",
    "n = 100\n",
    "print(findtailing(n))"
   ]
  },
  {
   "cell_type": "code",
   "execution_count": 7,
   "id": "148dc8b2",
   "metadata": {},
   "outputs": [
    {
     "name": "stdout",
     "output_type": "stream",
     "text": [
      "12\n"
     ]
    }
   ],
   "source": [
    "## gcd of two number\n",
    "\n",
    "def hcf(a,b):\n",
    "    if b==0:\n",
    "        return a\n",
    "    else:\n",
    "        return hcf(b,a%b)\n",
    "\n",
    "a = 48\n",
    "b = 60\n",
    "print(hcf(a,b))"
   ]
  },
  {
   "cell_type": "code",
   "execution_count": 8,
   "id": "ef3d49bd",
   "metadata": {},
   "outputs": [
    {
     "name": "stdout",
     "output_type": "stream",
     "text": [
      "240.0\n"
     ]
    }
   ],
   "source": [
    "## Lcm of two number\n",
    "def hcf(a,b):\n",
    "    if b==0:\n",
    "        return a\n",
    "    else:\n",
    "        return hcf(b,a%b)\n",
    "\n",
    "def lcm(a,b):\n",
    "    return (a/hcf(a,b))*b\n",
    "\n",
    "a = 48\n",
    "b = 60\n",
    "print(lcm(a,b))"
   ]
  },
  {
   "cell_type": "code",
   "execution_count": 9,
   "id": "4f776922",
   "metadata": {},
   "outputs": [
    {
     "name": "stdout",
     "output_type": "stream",
     "text": [
      "2,3,5,7,11,13,17,19,23,29,None\n"
     ]
    }
   ],
   "source": [
    "## SiveofErathoshenses concept\n",
    "\n",
    "def concept_prime(n):\n",
    "    \n",
    "    prime = [True for i in range(n+1)]\n",
    "    \n",
    "    p=2\n",
    "    \n",
    "    while (p*p<=n):\n",
    "        if prime[p]==True:\n",
    "            for i in range(p*p,n+1,p):\n",
    "                prime[i]=False\n",
    "        p+=1\n",
    "    for p in range(2,n+1):\n",
    "        if prime[p]:\n",
    "            print(p , end = \",\")\n",
    "            \n",
    "n = 30\n",
    "print(concept_prime(n))"
   ]
  },
  {
   "cell_type": "code",
   "execution_count": 10,
   "id": "3921e0ba",
   "metadata": {},
   "outputs": [
    {
     "name": "stdout",
     "output_type": "stream",
     "text": [
      "8\n"
     ]
    }
   ],
   "source": [
    "## Power computing naive approch\n",
    "\n",
    "def power1(x,n):\n",
    "    \n",
    "    pow = 1\n",
    "    for i in range(n):\n",
    "        pow = pow*x\n",
    "    return pow\n",
    "\n",
    "x = 2\n",
    "n = 3\n",
    "print(power1(x,n))"
   ]
  },
  {
   "cell_type": "code",
   "execution_count": 11,
   "id": "c5405f98",
   "metadata": {},
   "outputs": [
    {
     "name": "stdout",
     "output_type": "stream",
     "text": [
      "8\n"
     ]
    }
   ],
   "source": [
    "## Power Efficient approch\n",
    "\n",
    "def power(x,y):\n",
    "    \n",
    "    temp = 0\n",
    "    \n",
    "    if (y==0):\n",
    "        return 1\n",
    "    temp = power(x,int(y/2))\n",
    "    \n",
    "    if (y%2==0):\n",
    "        return temp*temp\n",
    "    else:\n",
    "        return x*temp*temp\n",
    "x = 2\n",
    "y = 3\n",
    "print(power1(x,y))"
   ]
  },
  {
   "cell_type": "code",
   "execution_count": 12,
   "id": "b8dedcaa",
   "metadata": {},
   "outputs": [
    {
     "name": "stdout",
     "output_type": "stream",
     "text": [
      "True\n"
     ]
    }
   ],
   "source": [
    "def isprime(n) :\n",
    "    if n == 1 :\n",
    "        return False\n",
    "    i = 2 \n",
    "    while (i * i <= n) :\n",
    "        if n % i == 0 :\n",
    "            return False\n",
    "        i += 1 \n",
    "    return True\n",
    "    \n",
    "\n",
    "n = 7\n",
    "print(isprime(n))"
   ]
  },
  {
   "cell_type": "code",
   "execution_count": null,
   "id": "16384bab",
   "metadata": {},
   "outputs": [],
   "source": []
  }
 ],
 "metadata": {
  "kernelspec": {
   "display_name": "Python 3 (ipykernel)",
   "language": "python",
   "name": "python3"
  },
  "language_info": {
   "codemirror_mode": {
    "name": "ipython",
    "version": 3
   },
   "file_extension": ".py",
   "mimetype": "text/x-python",
   "name": "python",
   "nbconvert_exporter": "python",
   "pygments_lexer": "ipython3",
   "version": "3.9.13"
  }
 },
 "nbformat": 4,
 "nbformat_minor": 5
}
