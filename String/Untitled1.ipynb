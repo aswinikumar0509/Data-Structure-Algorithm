{
 "cells": [
  {
   "cell_type": "code",
   "execution_count": 4,
   "id": "5e79a1be",
   "metadata": {},
   "outputs": [
    {
     "name": "stdout",
     "output_type": "stream",
     "text": [
      "4 "
     ]
    }
   ],
   "source": [
    "## Naive pattern search\n",
    "\n",
    "def pat_search(txt,pat):\n",
    "    n = len(txt)\n",
    "    m = len(pat)\n",
    "    \n",
    "    for i in range(n-m+1):\n",
    "        j=0\n",
    "        while j < m:\n",
    "            if pat[j]!=txt[i+j]:\n",
    "                break\n",
    "            j = j+1\n",
    "        if j==m:\n",
    "            print(i,end = \" \")\n",
    "            \n",
    "txt = \"abcdrst\"\n",
    "pat = 'rst'\n",
    "pat_search(txt,pat)"
   ]
  },
  {
   "cell_type": "code",
   "execution_count": 5,
   "id": "ce3b2c75",
   "metadata": {},
   "outputs": [
    {
     "name": "stdout",
     "output_type": "stream",
     "text": [
      "4 "
     ]
    }
   ],
   "source": [
    "## Improved Naive Pattern Search algorithm\n",
    "\n",
    "def inp_pat_search(txt,pat):\n",
    "    n = len(txt)\n",
    "    m = len(pat)\n",
    "    \n",
    "    i=0\n",
    "    \n",
    "    while i<(n-m):\n",
    "        for j in range(m):\n",
    "            if pat[j]!=txt[i+j]:\n",
    "                break\n",
    "            if j==m:\n",
    "                print(i)\n",
    "            if j==0:\n",
    "                j+=1\n",
    "            else:\n",
    "                i+=j\n",
    "txt = \"abcdrst\"\n",
    "pat = 'rst'\n",
    "pat_search(txt,pat)"
   ]
  },
  {
   "cell_type": "code",
   "execution_count": null,
   "id": "6e239015",
   "metadata": {},
   "outputs": [],
   "source": []
  }
 ],
 "metadata": {
  "kernelspec": {
   "display_name": "Python 3 (ipykernel)",
   "language": "python",
   "name": "python3"
  },
  "language_info": {
   "codemirror_mode": {
    "name": "ipython",
    "version": 3
   },
   "file_extension": ".py",
   "mimetype": "text/x-python",
   "name": "python",
   "nbconvert_exporter": "python",
   "pygments_lexer": "ipython3",
   "version": "3.9.13"
  }
 },
 "nbformat": 4,
 "nbformat_minor": 5
}
