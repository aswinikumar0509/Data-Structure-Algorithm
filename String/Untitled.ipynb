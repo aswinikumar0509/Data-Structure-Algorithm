{
 "cells": [
  {
   "cell_type": "code",
   "execution_count": 1,
   "id": "d59aa944",
   "metadata": {},
   "outputs": [],
   "source": [
    "## String\n"
   ]
  },
  {
   "cell_type": "code",
   "execution_count": 2,
   "id": "31e406af",
   "metadata": {},
   "outputs": [
    {
     "name": "stdout",
     "output_type": "stream",
     "text": [
      "97\n",
      "65\n",
      "a\n",
      "A\n"
     ]
    }
   ],
   "source": [
    "print(ord(\"a\"))\n",
    "\n",
    "print(ord(\"A\"))\n",
    "\n",
    "print(chr(97))\n",
    "\n",
    "print(chr(65))"
   ]
  },
  {
   "cell_type": "code",
   "execution_count": 3,
   "id": "d3182616",
   "metadata": {},
   "outputs": [
    {
     "name": "stdout",
     "output_type": "stream",
     "text": [
      "geek\n",
      "g\n",
      "k\n",
      "e\n",
      "e\n"
     ]
    }
   ],
   "source": [
    "s = \"geek\"\n",
    "\n",
    "print(s)\n",
    "\n",
    "print(s[0])\n",
    "print(s[-1])\n",
    "\n",
    "print(s[1])\n",
    "\n",
    "print(s[-2])"
   ]
  },
  {
   "cell_type": "code",
   "execution_count": 4,
   "id": "753bc2fd",
   "metadata": {},
   "outputs": [
    {
     "name": "stdout",
     "output_type": "stream",
     "text": [
      "\n",
      "Hi, \n",
      "This is the python course where we learn string in python\n",
      "\n"
     ]
    }
   ],
   "source": [
    "s = \"\"\"\n",
    "Hi, \n",
    "This is the python course where we learn string in python\n",
    "\"\"\"\n",
    "\n",
    "print(s)"
   ]
  },
  {
   "cell_type": "code",
   "execution_count": 5,
   "id": "2748e659",
   "metadata": {},
   "outputs": [],
   "source": [
    "## Escape Sequence and raw string"
   ]
  },
  {
   "cell_type": "code",
   "execution_count": 6,
   "id": "627bdb7c",
   "metadata": {},
   "outputs": [
    {
     "name": "stdout",
     "output_type": "stream",
     "text": [
      "Welcome to Geek's course\n"
     ]
    }
   ],
   "source": [
    "s = 'Welcome to Geek\\'s course'\n",
    "# for using the escape we have to use back slash \"\\\"\n",
    "print(s)"
   ]
  },
  {
   "cell_type": "code",
   "execution_count": 7,
   "id": "2609d041",
   "metadata": {},
   "outputs": [
    {
     "name": "stdout",
     "output_type": "stream",
     "text": [
      "A simple \\ example\n",
      "Backslash at the end\\\n",
      "\\n\n",
      "\\t\n"
     ]
    }
   ],
   "source": [
    "s1 = \"A simple \\ example\"\n",
    "\n",
    "s2  = \"Backslash at the end\\\\\"\n",
    "\n",
    "s3 = \"\\\\n\"\n",
    "\n",
    "s4 = \"\\\\t\"\n",
    "\n",
    "print(s1)\n",
    "print(s2)\n",
    "print(s3)\n",
    "print(s4)"
   ]
  },
  {
   "cell_type": "code",
   "execution_count": 8,
   "id": "cfea1735",
   "metadata": {},
   "outputs": [
    {
     "name": "stdout",
     "output_type": "stream",
     "text": [
      "True\n",
      "True\n",
      "False\n",
      "False\n",
      "False\n",
      "True\n"
     ]
    }
   ],
   "source": [
    "s1 = \"geeksforgeeks\"\n",
    "s2 = \"ide\"\n",
    "\n",
    "print(s1<s2)\n",
    "print(s1<=s2)\n",
    "print(s1>s2)\n",
    "print(s1>=s2)\n",
    "print(s1==s2)\n",
    "print(s1!=s2)"
   ]
  },
  {
   "cell_type": "code",
   "execution_count": 9,
   "id": "e9ca4d5b",
   "metadata": {},
   "outputs": [
    {
     "name": "stdout",
     "output_type": "stream",
     "text": [
      "False\n",
      "True\n",
      "False\n"
     ]
    }
   ],
   "source": [
    "S1 = \"geeksforgeeks\"\n",
    "S2 = \"geeks\"\n",
    "\n",
    "print(S1 in S2)\n",
    "print(S2 in S1)\n",
    "print(S2 not in S1)"
   ]
  },
  {
   "cell_type": "code",
   "execution_count": 10,
   "id": "c3849777",
   "metadata": {},
   "outputs": [
    {
     "name": "stdout",
     "output_type": "stream",
     "text": [
      "0\n",
      "8\n",
      "8\n"
     ]
    }
   ],
   "source": [
    "print(S1.index(S2))\n",
    "\n",
    "print(S1.rindex(S2))\n",
    "\n",
    "print(S1.index(S2,1,13))"
   ]
  },
  {
   "cell_type": "code",
   "execution_count": 11,
   "id": "9beef2bc",
   "metadata": {},
   "outputs": [
    {
     "name": "stdout",
     "output_type": "stream",
     "text": [
      "5\n",
      "GEEKS\n",
      "geeks\n",
      "False\n",
      "True\n",
      "True\n"
     ]
    }
   ],
   "source": [
    "s1 = \"geeks\"\n",
    "\n",
    "print(len(s1))\n",
    "\n",
    "s2 = s1.upper()\n",
    "print(s2)\n",
    "\n",
    "s3 = s2.lower()\n",
    "print(s3)\n",
    "\n",
    "print(s1.isupper())\n",
    "\n",
    "print(s2.isupper())\n",
    "\n",
    "print(s1.islower())"
   ]
  },
  {
   "cell_type": "code",
   "execution_count": 12,
   "id": "741fa826",
   "metadata": {},
   "outputs": [
    {
     "name": "stdout",
     "output_type": "stream",
     "text": [
      "['geeks', 'for', 'geeks']\n"
     ]
    }
   ],
   "source": [
    "s1 = \"geeks for geeks \"\n",
    "print(s1.split())"
   ]
  },
  {
   "cell_type": "code",
   "execution_count": 13,
   "id": "075328af",
   "metadata": {},
   "outputs": [
    {
     "name": "stdout",
     "output_type": "stream",
     "text": [
      "['geeks ', ' for ', ' geeks']\n"
     ]
    }
   ],
   "source": [
    "s2 = \"geeks , for , geeks\"\n",
    "print(s2.split(\",\"))"
   ]
  },
  {
   "cell_type": "code",
   "execution_count": 14,
   "id": "cba76119",
   "metadata": {},
   "outputs": [
    {
     "name": "stdout",
     "output_type": "stream",
     "text": [
      "geeksforgeeks python courses\n",
      "geeksforgeeks,python,courses\n"
     ]
    }
   ],
   "source": [
    "l = [\"geeksforgeeks\",\"python\",\"courses\"]\n",
    "print(\" \".join(l))\n",
    "print(\",\".join(l))"
   ]
  },
  {
   "cell_type": "code",
   "execution_count": 15,
   "id": "e708196f",
   "metadata": {},
   "outputs": [
    {
     "name": "stdout",
     "output_type": "stream",
     "text": [
      "geeksforgeeks\n",
      "geeksforgeeks---\n",
      "--geeksforgeeks\n"
     ]
    }
   ],
   "source": [
    "s =\"--geeksforgeeks---\"\n",
    "print(s.strip(\"-\"))\n",
    "print(s.lstrip(\"-\"))\n",
    "print(s.rstrip(\"-\"))"
   ]
  },
  {
   "cell_type": "code",
   "execution_count": 20,
   "id": "9a1f123f",
   "metadata": {},
   "outputs": [
    {
     "name": "stdout",
     "output_type": "stream",
     "text": [
      "0\n",
      "-1\n",
      "13\n",
      "8\n"
     ]
    }
   ],
   "source": [
    "s1 = \"geeksforgeeks\"\n",
    "s2 = \"geeks\"\n",
    "print(s1.find(s2))\n",
    "print(s1.find(\"gfg\"))\n",
    "n = len(s1)\n",
    "print(n)\n",
    "print(s1.find(s2,1,n))"
   ]
  },
  {
   "cell_type": "code",
   "execution_count": 5,
   "id": "b767f246",
   "metadata": {},
   "outputs": [
    {
     "data": {
      "text/plain": [
       "'iniwsa'"
      ]
     },
     "execution_count": 5,
     "metadata": {},
     "output_type": "execute_result"
    }
   ],
   "source": [
    "## reverse the string\n",
    "\n",
    "def reverse(str):\n",
    "    s = \"\"\n",
    "    for i in str:\n",
    "        s = i+s\n",
    "    return s\n",
    "\n",
    "str = \"aswini\"\n",
    "reverse(str)"
   ]
  },
  {
   "cell_type": "code",
   "execution_count": 7,
   "id": "dfe8a6bd",
   "metadata": {},
   "outputs": [
    {
     "name": "stdout",
     "output_type": "stream",
     "text": [
      "True\n"
     ]
    }
   ],
   "source": [
    "# Checking the string is rotated\n",
    "\n",
    "def arerotated(s1,s2):\n",
    "    if len(s1)!=len(s2):\n",
    "        return False\n",
    "    temp = ''\n",
    "    temp = s1+s2\n",
    "    return temp.find(s2)!=1\n",
    "\n",
    "s1 = \"ABCD\"\n",
    "s2 = \"CDAB\"\n",
    "\n",
    "print(arerotated(s1,s2))"
   ]
  },
  {
   "cell_type": "code",
   "execution_count": 9,
   "id": "7c3adca2",
   "metadata": {},
   "outputs": [
    {
     "name": "stdout",
     "output_type": "stream",
     "text": [
      "Yes\n"
     ]
    }
   ],
   "source": [
    "# checking the Palindrome\n",
    "\n",
    "def isPalindrome(s):\n",
    "    return s == s[::-1]\n",
    "\n",
    "s = \"malayalam\"\n",
    "ans = isPalindrome(s)\n",
    " \n",
    "if ans:\n",
    "    print(\"Yes\")\n",
    "else:\n",
    "    print(\"No\")"
   ]
  },
  {
   "cell_type": "code",
   "execution_count": 14,
   "id": "64452ef1",
   "metadata": {},
   "outputs": [
    {
     "name": "stdout",
     "output_type": "stream",
     "text": [
      "True\n"
     ]
    }
   ],
   "source": [
    "## Check if a String is Subsequence of Other\n",
    "\n",
    "def subsequence(s1,s2):\n",
    "    i = 0\n",
    "    j = 0\n",
    "    while (i<len(s1) and j<len(s2)):\n",
    "        if s1[i]==s2[j]:\n",
    "            j = j+1\n",
    "        i+=1\n",
    "        \n",
    "    if j == len(s2):\n",
    "        return True\n",
    "    else:\n",
    "        return False\n",
    "        \n",
    "s1 = \"ABCDEF\"\n",
    "s2 = \"ADE\"\n",
    "\n",
    "print(subsequence(s1,s2))"
   ]
  },
  {
   "cell_type": "code",
   "execution_count": 15,
   "id": "e6df3b10",
   "metadata": {},
   "outputs": [
    {
     "name": "stdout",
     "output_type": "stream",
     "text": [
      "YES\n"
     ]
    }
   ],
   "source": [
    "dp = [[-1]*1001]*1001\n",
    "\n",
    "def isSubSequence(s1,s2,i,j):\n",
    "    if (i == 0 or j == 0):\n",
    "\t    return 0\n",
    "\n",
    "    if (dp[i][j] != -1):\n",
    "\t    return dp[i][j]\n",
    "\n",
    "    if (s1[i - 1] == s2[j - 1]):\n",
    "\t    dp[i][j] = 1 + isSubSequence(s1, s2, i - 1, j - 1)\n",
    "\t    return dp[i][j]\n",
    "\n",
    "    else:\n",
    "\t    dp[i][j] = isSubSequence(s1, s2, i, j - 1)\n",
    "\t    return dp[i][j]\n",
    "\n",
    "str1 = \"gksrek\"\n",
    "str2 = \"geeksforgeeks\"\n",
    "m = len(str1)\n",
    "n = len(str2)\n",
    "\n",
    "if (m > n):\n",
    "    print(\"NO\")\n",
    "\n",
    "if (isSubSequence(str1, str2, m, n) == m):\n",
    "\tprint(\"YES\")\n",
    "\n",
    "else:\n",
    "\tprint(\"NO\")\n"
   ]
  },
  {
   "cell_type": "code",
   "execution_count": 16,
   "id": "96ee2d88",
   "metadata": {},
   "outputs": [
    {
     "name": "stdout",
     "output_type": "stream",
     "text": [
      "Enter a String:\n",
      "silent\n",
      "Enter a String:\n",
      "listen\n"
     ]
    }
   ],
   "source": [
    "s1= input(\"Enter a String:\\n\")\n",
    "s2= input(\"Enter a String:\\n\")\n",
    "\n",
    "def areAnagram(s1,s2):\n",
    "    if len(s1) != len(s2):\n",
    "        return False\n",
    "    count=[0]*256\n",
    "    for i in range(len(s1)):\n",
    "        count[ord(s1[i])]+=1\n",
    "        count[ord(s2[i])]-=1\n",
    "    for x in count:\n",
    "        if x!=0:\n",
    "            return False\n",
    "    return True"
   ]
  },
  {
   "cell_type": "code",
   "execution_count": 30,
   "id": "67728f2a",
   "metadata": {},
   "outputs": [
    {
     "name": "stdout",
     "output_type": "stream",
     "text": [
      "Enter a String:\n",
      "4\n"
     ]
    }
   ],
   "source": [
    "# s1= input(\"Enter a String:\\n\")\n",
    "s2= input(\"Enter a String:\\n\")\n",
    "\n",
    "def areAnagram(s1,s2):\n",
    "    if len(s1) != len(s2):\n",
    "        return False\n",
    "    s1=sorted(s1)\n",
    "    s2=sorted(s2)\n",
    "    return(s1==s2)"
   ]
  },
  {
   "cell_type": "code",
   "execution_count": 29,
   "id": "e2793baf",
   "metadata": {},
   "outputs": [
    {
     "name": "stdout",
     "output_type": "stream",
     "text": [
      "M\n",
      "M\n",
      "M\n"
     ]
    }
   ],
   "source": [
    "name = [\"Mr aswini Kumar\",\"Mr shiv prakash\",\"Ms diviya\"]\n",
    "n=len(name)\n",
    "for i in range(n):\n",
    "    print(name[i][0:1:2])"
   ]
  },
  {
   "cell_type": "code",
   "execution_count": null,
   "id": "f6edf7ad",
   "metadata": {},
   "outputs": [],
   "source": []
  }
 ],
 "metadata": {
  "kernelspec": {
   "display_name": "Python 3 (ipykernel)",
   "language": "python",
   "name": "python3"
  },
  "language_info": {
   "codemirror_mode": {
    "name": "ipython",
    "version": 3
   },
   "file_extension": ".py",
   "mimetype": "text/x-python",
   "name": "python",
   "nbconvert_exporter": "python",
   "pygments_lexer": "ipython3",
   "version": "3.9.13"
  }
 },
 "nbformat": 4,
 "nbformat_minor": 5
}
