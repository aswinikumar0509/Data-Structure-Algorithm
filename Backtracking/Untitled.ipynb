{
 "cells": [
  {
   "cell_type": "code",
   "execution_count": 13,
   "id": "dc2a5ace",
   "metadata": {},
   "outputs": [
    {
     "name": "stdout",
     "output_type": "stream",
     "text": [
      "1 0 0 0 \n",
      "1 1 0 0 \n",
      "0 1 0 0 \n",
      "0 1 1 1 \n"
     ]
    },
    {
     "data": {
      "text/plain": [
       "True"
      ]
     },
     "execution_count": 13,
     "metadata": {},
     "output_type": "execute_result"
    }
   ],
   "source": [
    "## Rat in the maze problem\n",
    "\n",
    "\n",
    "def printSolution(sol):\n",
    "    \n",
    "    for i in range(len(maze)):\n",
    "        for j in range(len(maze)):\n",
    "            print(sol[i][j] , end = \" \")\n",
    "    print()\n",
    "    \n",
    "    \n",
    "def issafe(i,j,maze):\n",
    "    \n",
    "    return i< len(maze) and j < len(maze) and maze[i][j]==1 \n",
    "\n",
    "def Solvemaze(maze):\n",
    "    \n",
    "    N = len(maze)\n",
    "    sol =[ [0 for j in range(N)] for i in range(N)]\n",
    "    \n",
    "    if issolveRec(maze,0,0,sol) == False:\n",
    "        print(\"Solution doesn't exists!\")\n",
    "        return False\n",
    "    printsolution(sol)\n",
    "    \n",
    "    return True\n",
    "    \n",
    "\n",
    "def issolveRec(maze,i,j,sol):\n",
    "    \n",
    "    if i == len(maze)-1 and j == len(maze)-1 and maze[i][j]==1:\n",
    "        sol[i][j]= 1 \n",
    "        return True\n",
    "    \n",
    "    if issafe(maze,i,j) == True:\n",
    "        sol[i][j]=1 \n",
    "        \n",
    "        if issolveRec(maze,i+1,j,sol) ==True:\n",
    "            return True\n",
    "        if issolveRec(maze,i,j+1,sol) ==True:\n",
    "            return True\n",
    "        sol[i][j]=0\n",
    "    return False\n",
    "\n",
    "maze = [[1,0,0,0],\n",
    "        [1,1,0,1],\n",
    "        [0,1,0,0],\n",
    "        [1,1,1,1]]\n",
    "        \n",
    "Solvemaze(maze)   "
   ]
  },
  {
   "cell_type": "code",
   "execution_count": 14,
   "id": "3cfe97ac",
   "metadata": {},
   "outputs": [
    {
     "name": "stdout",
     "output_type": "stream",
     "text": [
      "1 0 0 0 \n",
      "1 1 0 0 \n",
      "0 1 0 0 \n",
      "0 1 1 1 \n"
     ]
    },
    {
     "data": {
      "text/plain": [
       "True"
      ]
     },
     "execution_count": 14,
     "metadata": {},
     "output_type": "execute_result"
    }
   ],
   "source": [
    "def printsolution(sol):\n",
    "    \n",
    "    N = len(maze)\n",
    "    for i in range(N):\n",
    "        for j in range(N):\n",
    "            print(sol[i][j],end=\" \")\n",
    "            \n",
    "        print()\n",
    "\n",
    "\n",
    "\n",
    "def isSafe(maze,i,j):\n",
    "    return i< len(maze) and j < len(maze) and maze[i][j]==1 \n",
    "    \n",
    "def solveMaze(maze):\n",
    "    N = len(maze)\n",
    "    sol =[ [0 for j in range(N)] for i in range(N)]\n",
    "    \n",
    "    if solveMazeRec(maze,0,0,sol) == False:\n",
    "        print(\"Solution doesn't exists!\")\n",
    "        return False\n",
    "    printsolution(sol)\n",
    "    \n",
    "    return True\n",
    "    \n",
    "def solveMazeRec(maze,i,j,sol):\n",
    "    \n",
    "    if i == len(maze)-1 and j == len(maze)-1 and maze[i][j]==1:\n",
    "        sol[i][j]= 1 \n",
    "        return True\n",
    "    \n",
    "    if isSafe(maze,i,j) == True:\n",
    "        sol[i][j]=1 \n",
    "        \n",
    "        if solveMazeRec(maze,i+1,j,sol) ==True:\n",
    "            return True\n",
    "        if solveMazeRec(maze,i,j+1,sol) ==True:\n",
    "            return True\n",
    "        sol[i][j]=0\n",
    "    return False\n",
    "    \n",
    "\n",
    "maze = [[1,0,0,0],\n",
    "        [1,1,0,1],\n",
    "        [0,1,0,0],\n",
    "        [1,1,1,1]]\n",
    "        \n",
    "solveMaze(maze)"
   ]
  },
  {
   "cell_type": "code",
   "execution_count": null,
   "id": "f55b672f",
   "metadata": {},
   "outputs": [],
   "source": []
  }
 ],
 "metadata": {
  "kernelspec": {
   "display_name": "Python 3 (ipykernel)",
   "language": "python",
   "name": "python3"
  },
  "language_info": {
   "codemirror_mode": {
    "name": "ipython",
    "version": 3
   },
   "file_extension": ".py",
   "mimetype": "text/x-python",
   "name": "python",
   "nbconvert_exporter": "python",
   "pygments_lexer": "ipython3",
   "version": "3.9.13"
  }
 },
 "nbformat": 4,
 "nbformat_minor": 5
}
