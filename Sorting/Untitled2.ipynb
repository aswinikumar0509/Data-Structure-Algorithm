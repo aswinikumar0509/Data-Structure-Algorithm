{
 "cells": [
  {
   "cell_type": "code",
   "execution_count": 1,
   "id": "f24840e5",
   "metadata": {},
   "outputs": [
    {
     "data": {
      "text/plain": [
       "6"
      ]
     },
     "execution_count": 1,
     "metadata": {},
     "output_type": "execute_result"
    }
   ],
   "source": [
    "## Count inversion in the array\n",
    "\n",
    "def count_inversion(arr):\n",
    "    n = len(arr)\n",
    "    inv_count = 0\n",
    "    for i in range(n):\n",
    "        for j in range(i+1,n):\n",
    "            if (arr[i]>arr[j]):\n",
    "                inv_count+=1\n",
    "    return inv_count\n",
    "\n",
    "arr = [8,4,2,1]\n",
    "count_inversion(arr)"
   ]
  },
  {
   "cell_type": "code",
   "execution_count": 2,
   "id": "7135561d",
   "metadata": {},
   "outputs": [],
   "source": [
    "## Partition and quick sort\n",
    "\n",
    "def partition(arr,low,high):\n",
    "\n",
    "    pivot = arr[high]\n",
    "    i=(low-1)\n",
    "    for j in range(low,high):\n",
    "        if(arr[j]<=pivot):\n",
    "            i+=1\n",
    "            arr[i],arr[j]=arr[j],arr[i]\n",
    "\n",
    "    arr[i+1],arr[high]=arr[high],arr[i+1]\n",
    "    return (i+1)\n",
    "\n",
    "def quick_sort(arr,low,high):\n",
    "    if(low<high):\n",
    "        pi=partition()\n"
   ]
  },
  {
   "cell_type": "code",
   "execution_count": 3,
   "id": "c51fd5a3",
   "metadata": {},
   "outputs": [
    {
     "name": "stdout",
     "output_type": "stream",
     "text": [
      "10\n"
     ]
    }
   ],
   "source": [
    "#kth smallest element in unsorted array\n",
    "#easy approch\n",
    "\n",
    "def kthSmallest(arr,k):\n",
    "    arr.sort()\n",
    "    print(arr[k-1])\n",
    "    \n",
    "\n",
    "arr = [10,4,5,8,6,26]\n",
    "k=5\n",
    "\n",
    "kthSmallest(arr,k)\n",
    "\n",
    "    "
   ]
  },
  {
   "cell_type": "code",
   "execution_count": 4,
   "id": "cc120b78",
   "metadata": {},
   "outputs": [
    {
     "data": {
      "text/plain": [
       "4"
      ]
     },
     "execution_count": 4,
     "metadata": {},
     "output_type": "execute_result"
    }
   ],
   "source": [
    "## Efficient approch:\n",
    "\n",
    "def partition(arr,l,h):\n",
    "    x = arr[h]\n",
    "    i = l\n",
    "    for j in range(l,h):\n",
    "        if(arr[j]<=x):\n",
    "            arr[i],arr[j] = arr[j],arr[i]\n",
    "            i+=1\n",
    "    arr[i],arr[h] = arr[h],arr[i]\n",
    "    return i\n",
    "\n",
    "def kthSmallest(arr,k):\n",
    "    l=0\n",
    "    h = len(arr)-1\n",
    "    while(l<=h):\n",
    "        p = partition(arr,l,h)\n",
    "        if (p==k-1):\n",
    "            return p\n",
    "        elif( p>k-1):\n",
    "            h = p-1\n",
    "        else:\n",
    "            l=p+1\n",
    "    return -1\n",
    "\n",
    "arr = [10,4,5,8,6,26]\n",
    "k=5\n",
    "\n",
    "kthSmallest(arr,k)"
   ]
  },
  {
   "cell_type": "code",
   "execution_count": 5,
   "id": "4bc87edc",
   "metadata": {},
   "outputs": [
    {
     "name": "stdout",
     "output_type": "stream",
     "text": [
      "2\n"
     ]
    }
   ],
   "source": [
    "## Minimum difference in the array\n",
    "\n",
    "def minDiff(arr):\n",
    "    res = arr[0]\n",
    "    for i in range(1,len(arr)):\n",
    "        for j in range(i):\n",
    "            res = min(res,abs(arr[i]-arr[j]))\n",
    "    print(res)\n",
    "    \n",
    "arr=[5,3,8]\n",
    "minDiff(arr)"
   ]
  },
  {
   "cell_type": "code",
   "execution_count": 6,
   "id": "d25ebbfb",
   "metadata": {},
   "outputs": [
    {
     "name": "stdout",
     "output_type": "stream",
     "text": [
      "1\n"
     ]
    }
   ],
   "source": [
    "## Efficient approch\n",
    "\n",
    "def minDiff(arr):\n",
    "    res = arr[0]\n",
    "    arr.sort()\n",
    "    for i in range(1,len(arr)):\n",
    "        for j in range(i):\n",
    "            res = min(res,abs(arr[i]-arr[j]))\n",
    "    print(res)\n",
    "    \n",
    "arr = [1,5,3,19,18,25]\n",
    "minDiff(arr)"
   ]
  },
  {
   "cell_type": "code",
   "execution_count": 7,
   "id": "9da03c98",
   "metadata": {},
   "outputs": [
    {
     "name": "stdout",
     "output_type": "stream",
     "text": [
      "2\n"
     ]
    }
   ],
   "source": [
    "## Chocolate Distribution\n",
    "\n",
    "def minDiff(arr,m):\n",
    "    if(m==0 or len(arr)==0):\n",
    "        return 0\n",
    "    if(len(arr)<m):\n",
    "        return -1\n",
    "    arr.sort()\n",
    "    res = arr[m-1]-arr[0]\n",
    "    for i in range(1,len(arr)-m+1):\n",
    "        res = min(res,abs(arr[i+m-1]-arr[i]))\n",
    "    print(res)\n",
    "\n",
    "arr = [7,3,1,8,9,12,56]\n",
    "minDiff(arr,3)"
   ]
  },
  {
   "cell_type": "code",
   "execution_count": 8,
   "id": "4a3e3138",
   "metadata": {},
   "outputs": [
    {
     "name": "stdout",
     "output_type": "stream",
     "text": [
      "[-12, -10, 18, 15]\n"
     ]
    }
   ],
   "source": [
    "# Sort an array with two type of element->Naive approch\n",
    "\n",
    "def sort(arr):\n",
    "    n = len(arr)\n",
    "    temp = [0]*n\n",
    "    i=0\n",
    "    for j in range(0,n):\n",
    "        if(arr[j]<0):\n",
    "            temp[i] = arr[j]\n",
    "            i+=1\n",
    "    for j in range(0,n):\n",
    "        if(arr[j]>=0):\n",
    "            temp[i] = arr[j]\n",
    "            i+=1\n",
    "    arr[:] = temp\n",
    "    print(arr)\n",
    "    \n",
    "arr = [-12,18,-10,15]\n",
    "sort(arr)"
   ]
  },
  {
   "cell_type": "code",
   "execution_count": 15,
   "id": "7962b491",
   "metadata": {},
   "outputs": [
    {
     "name": "stdout",
     "output_type": "stream",
     "text": [
      "[0, 1, 2, 2, 1, 1]\n"
     ]
    }
   ],
   "source": [
    "# Sort an array with three type of element->approch\n",
    "\n",
    "def sortarr(arr):\n",
    "    l,mid,h = 0,0,(len(arr)-1)\n",
    "    while(l<h):\n",
    "        if(arr[mid]==0):\n",
    "            arr[l],arr[mid]=arr[mid],arr[l]\n",
    "            l+=1\n",
    "            mid+=1\n",
    "        elif(arr[mid]==1):\n",
    "            mid+=1\n",
    "        else:\n",
    "            arr[h],arr[mid] = arr[mid],arr[h]\n",
    "            h-=1\n",
    "    print(arr)\n",
    "    \n",
    "arr = [0,1,2,1,1,2]\n",
    "sortarr(arr)"
   ]
  },
  {
   "cell_type": "code",
   "execution_count": 16,
   "id": "0f30c7db",
   "metadata": {},
   "outputs": [
    {
     "data": {
      "text/plain": [
       "[0, 0, 1, 1, 1, 2]"
      ]
     },
     "execution_count": 16,
     "metadata": {},
     "output_type": "execute_result"
    }
   ],
   "source": [
    "# Sort an array with three type of element\n",
    "\n",
    "temp = []\n",
    "def sortarr(arr):\n",
    "    temp = []\n",
    "    for i in arr:\n",
    "        if(i==0):\n",
    "            temp.append(i)\n",
    "    for i in arr:\n",
    "        if(i==1):\n",
    "            temp.append(i)\n",
    "    for i in arr:\n",
    "        if(i==2):\n",
    "            temp.append(i)\n",
    "    for i in range(len(arr)):\n",
    "        arr[i] = temp[i]\n",
    "        \n",
    "    return temp\n",
    "\n",
    "arr = [0,1,1,2,0,1]\n",
    "sortarr(arr)"
   ]
  },
  {
   "cell_type": "code",
   "execution_count": null,
   "id": "c60333dd",
   "metadata": {},
   "outputs": [],
   "source": []
  }
 ],
 "metadata": {
  "kernelspec": {
   "display_name": "Python 3 (ipykernel)",
   "language": "python",
   "name": "python3"
  },
  "language_info": {
   "codemirror_mode": {
    "name": "ipython",
    "version": 3
   },
   "file_extension": ".py",
   "mimetype": "text/x-python",
   "name": "python",
   "nbconvert_exporter": "python",
   "pygments_lexer": "ipython3",
   "version": "3.9.13"
  }
 },
 "nbformat": 4,
 "nbformat_minor": 5
}
