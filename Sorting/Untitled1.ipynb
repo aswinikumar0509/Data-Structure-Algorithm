{
 "cells": [
  {
   "cell_type": "code",
   "execution_count": 1,
   "id": "ed6d6514",
   "metadata": {},
   "outputs": [
    {
     "name": "stdout",
     "output_type": "stream",
     "text": [
      "[3, 4, 5, 7, 8, 9, 10]\n"
     ]
    }
   ],
   "source": [
    "## Tail call elimination in the quick sort\n",
    "\n",
    "## def quick sort\n",
    "def quickSort(arr,l,h):\n",
    "    while l < h:\n",
    "        p = partititon(arr,l,h)\n",
    "        quickSort(arr,l,p)\n",
    "        l = p+1\n",
    "\n",
    "## Def partitton function\n",
    "\n",
    "def partititon(arr, l, h):\n",
    "    pivot = arr[l]\n",
    "    \n",
    "    i = l-1\n",
    "    j = h+1\n",
    "    \n",
    "    while True:\n",
    "        i=i+1\n",
    "        while arr[i]<pivot:\n",
    "            i = i+1\n",
    "        j=j-1\n",
    "        while arr[j]>pivot:\n",
    "            j = j-1\n",
    "        if i>=j:\n",
    "            return j\n",
    "        arr[i],arr[j] = arr[j],arr[i]\n",
    "        \n",
    "arr=[8,4,7,9,3,10,5]\n",
    "l = 0\n",
    "h = len(arr)-1\n",
    "quickSort(arr,l,h)\n",
    "print(arr)"
   ]
  },
  {
   "cell_type": "code",
   "execution_count": 2,
   "id": "17266b10",
   "metadata": {},
   "outputs": [],
   "source": [
    "## Finding the k smallest element in the array\n",
    "\n",
    "def k_smallest(arr,k):\n",
    "    arr.sort()\n",
    "    return arr[k-1]"
   ]
  },
  {
   "cell_type": "code",
   "execution_count": 3,
   "id": "689ba5ba",
   "metadata": {},
   "outputs": [
    {
     "data": {
      "text/plain": [
       "2"
      ]
     },
     "execution_count": 3,
     "metadata": {},
     "output_type": "execute_result"
    }
   ],
   "source": [
    "arr = [1,4,2,3]\n",
    "k = 2\n",
    "k_smallest(arr,k)"
   ]
  },
  {
   "cell_type": "code",
   "execution_count": 12,
   "id": "125d9187",
   "metadata": {},
   "outputs": [
    {
     "name": "stdout",
     "output_type": "stream",
     "text": [
      "4\n"
     ]
    }
   ],
   "source": [
    "## Efficient approch for the k smallest array\n",
    "\n",
    "## Lonuto partititon\n",
    "\n",
    "def partition(arr, l, r):\n",
    " \n",
    "    x = arr[r]\n",
    "    i = l\n",
    "    for j in range(l, r):\n",
    "        if (arr[j] <= x):\n",
    "            arr[i], arr[j] = arr[j], arr[i]\n",
    "            i += 1\n",
    "    arr[i], arr[r] = arr[r], arr[i]\n",
    "    return i\n",
    "\n",
    "## Defining the k smallest element in the array\n",
    "\n",
    "def k_smallest(arr,k):\n",
    "    l = 0\n",
    "    r = len(arr)-1\n",
    "    \n",
    "    while l<=r:\n",
    "        p = partition(arr,l,r)\n",
    "        if p==k-1:\n",
    "            return p\n",
    "        elif p>k-1:\n",
    "            r = p-1\n",
    "        else:\n",
    "            l = p+1\n",
    "    return -1\n",
    "\n",
    "# Driver code\n",
    "arr = [10,4,5,8,6,26]\n",
    "k = 5 \n",
    "\n",
    "print(k_smallest(arr, k))\n",
    "            "
   ]
  },
  {
   "cell_type": "code",
   "execution_count": 8,
   "id": "8ff46909",
   "metadata": {},
   "outputs": [
    {
     "name": "stdout",
     "output_type": "stream",
     "text": [
      "4\n"
     ]
    }
   ],
   "source": [
    "def partition(arr, l, r):\n",
    " \n",
    "    x = arr[r]\n",
    "    i = l\n",
    "    for j in range(l, r):\n",
    "        if (arr[j] <= x):\n",
    "            arr[i], arr[j] = arr[j], arr[i]\n",
    "            i += 1\n",
    "    arr[i], arr[r] = arr[r], arr[i]\n",
    "    return i\n",
    "\n",
    "def kthsmallest(arr, k) :\n",
    "    l = 0 \n",
    "    r = len(arr) - 1 \n",
    "    while l <= r :\n",
    "        p = partition(arr,l,r) \n",
    "        if p == k-1 :\n",
    "            return p \n",
    "                \n",
    "        elif p > k-1 :\n",
    "            r = p - 1 \n",
    "                \n",
    "        else :\n",
    "            l = p + 1 \n",
    "    return -1\n",
    "\n",
    "arr = [10,4,5,8,6,26]\n",
    "k = 5 \n",
    "\n",
    "print(kthsmallest(arr, k))"
   ]
  },
  {
   "cell_type": "code",
   "execution_count": 13,
   "id": "be4ed717",
   "metadata": {},
   "outputs": [
    {
     "data": {
      "text/plain": [
       "2"
      ]
     },
     "execution_count": 13,
     "metadata": {},
     "output_type": "execute_result"
    }
   ],
   "source": [
    "##finding  the minimum differnece in the array\n",
    "\n",
    "def min_diff(arr):\n",
    "    res = float('inf')\n",
    "    arr.sort()\n",
    "    for i in range(1,len(arr)):\n",
    "        res = min(res,(arr[i]-arr[i-1]))\n",
    "    return res\n",
    "\n",
    "arr = [5,3,8]\n",
    "min_diff(arr)"
   ]
  },
  {
   "cell_type": "code",
   "execution_count": 21,
   "id": "47f20e5f",
   "metadata": {},
   "outputs": [
    {
     "data": {
      "text/plain": [
       "2"
      ]
     },
     "execution_count": 21,
     "metadata": {},
     "output_type": "execute_result"
    }
   ],
   "source": [
    "## Chocolate distribution problem\n",
    "\n",
    "def distribution(arr,m):\n",
    "    if (m==0 or len(arr)==0):\n",
    "        return 0\n",
    "    if len(arr)<m:\n",
    "        return -1\n",
    "    \n",
    "    arr.sort()\n",
    "    res = arr[m-1]-arr[0]\n",
    "    for i in range(1,len(arr)-m+1):\n",
    "        res = min(res,arr[i+m-1]-arr[i])\n",
    "    return res\n",
    "\n",
    "arr = [7,3,1,8,9,12,56]\n",
    "m=3\n",
    "distribution(arr,m)"
   ]
  },
  {
   "cell_type": "code",
   "execution_count": 35,
   "id": "ad4360ed",
   "metadata": {},
   "outputs": [
    {
     "data": {
      "text/plain": [
       "[0, 0, 1, 1, 1]"
      ]
     },
     "execution_count": 35,
     "metadata": {},
     "output_type": "execute_result"
    }
   ],
   "source": [
    "## Sort an array with two type\n",
    "\n",
    "def sort_array(arr):\n",
    "    n = len(arr)\n",
    "    temp = [0]*n\n",
    "    i=0\n",
    "    \n",
    "    for j in range(0,n):\n",
    "        if arr[j] <= 0:\n",
    "            temp[i] = arr[j]\n",
    "            i+=1\n",
    "    for j in range(0,n):\n",
    "        if arr[j] > 0:\n",
    "            temp[i]=arr[j]\n",
    "            i+=1\n",
    "    arr[:] = temp\n",
    "    \n",
    "    return arr\n",
    "    \n",
    "arr = [0,1,1,1,0]\n",
    "sort_array(arr)"
   ]
  },
  {
   "cell_type": "code",
   "execution_count": 33,
   "id": "51d91bbd",
   "metadata": {},
   "outputs": [
    {
     "name": "stdout",
     "output_type": "stream",
     "text": [
      "[-12, -10, 18, 15]\n"
     ]
    }
   ],
   "source": [
    "def sort(arr) :\n",
    "    n = len(arr)\n",
    "    temp = [0] * n \n",
    "    i = 0 \n",
    "    for j in range(0,n) :\n",
    "        if arr[j] < 0 :\n",
    "            temp[i] = arr[j]\n",
    "            i += 1 \n",
    "            \n",
    "    for j in range(0,n) :\n",
    "        if arr[j] >= 0 :\n",
    "            temp[i] = arr[j]\n",
    "            i += 1 \n",
    "    arr[:] = temp\n",
    "    \n",
    "    print(arr)\n",
    "    \n",
    "    \n",
    "arr = [-12,18,-10,15]\n",
    "A = sort(arr)"
   ]
  },
  {
   "cell_type": "code",
   "execution_count": 42,
   "id": "d2a7f392",
   "metadata": {},
   "outputs": [
    {
     "name": "stdout",
     "output_type": "stream",
     "text": [
      "None\n"
     ]
    }
   ],
   "source": [
    "## Efficient solution\n",
    "\n",
    "def sort(arr):\n",
    "    i,j = -1,len(arr) \n",
    "    while True :\n",
    "        i += 1 \n",
    "        while arr[i] < 0 :\n",
    "            i += 1 \n",
    "        j -= 1 \n",
    "        while arr[j] >= 0 :\n",
    "            j -= 1 \n",
    "        if i >= j :\n",
    "            return\n",
    "        arr[i],arr[j] = arr[j],arr[i]\n",
    "    \n",
    "arr = [-12,18,-10,15]\n",
    "print(sort(arr))\n"
   ]
  },
  {
   "cell_type": "code",
   "execution_count": 45,
   "id": "712093a5",
   "metadata": {},
   "outputs": [
    {
     "name": "stdout",
     "output_type": "stream",
     "text": [
      "None\n"
     ]
    }
   ],
   "source": [
    "def sort(arr) :\n",
    "    i,j = -1,len(arr) \n",
    "    while True :\n",
    "        i += 1 \n",
    "        while arr[i] < 0 :\n",
    "            i += 1 \n",
    "        j -= 1 \n",
    "        while arr[j] >= 0 :\n",
    "            j -= 1 \n",
    "        if i >= j :\n",
    "            return\n",
    "        arr[i],arr[j] = arr[j],arr[i]\n",
    "        \n",
    "    return arr\n",
    "        \n",
    "arr = [-12,18,-10,15]\n",
    "print(sort(arr))"
   ]
  },
  {
   "cell_type": "code",
   "execution_count": 1,
   "id": "18d48887",
   "metadata": {},
   "outputs": [
    {
     "data": {
      "text/plain": [
       "2"
      ]
     },
     "execution_count": 1,
     "metadata": {},
     "output_type": "execute_result"
    }
   ],
   "source": [
    "## maximum guest metting\n",
    "\n",
    "def max_guest_meeting(arr, dep):\n",
    "    \n",
    "    n = len(arr)\n",
    "    arr.sort()\n",
    "    dep.sort()\n",
    "    \n",
    "    i,j = 1,0\n",
    "    curr , res = 1,1\n",
    "    \n",
    "    while (i<n and j<n):\n",
    "        if arr[i]<=dep[j]:\n",
    "            curr+=1\n",
    "            i+=1\n",
    "        else:\n",
    "            curr-=1\n",
    "            j+=1\n",
    "        res = max(res,curr)\n",
    "    return res\n",
    "\n",
    "arr = [900,600,700]\n",
    "dep = [1000,800,730]\n",
    "\n",
    "max_guest_meeting(arr,dep)"
   ]
  },
  {
   "cell_type": "code",
   "execution_count": null,
   "id": "dd37c1bd",
   "metadata": {},
   "outputs": [],
   "source": []
  }
 ],
 "metadata": {
  "kernelspec": {
   "display_name": "Python 3 (ipykernel)",
   "language": "python",
   "name": "python3"
  },
  "language_info": {
   "codemirror_mode": {
    "name": "ipython",
    "version": 3
   },
   "file_extension": ".py",
   "mimetype": "text/x-python",
   "name": "python",
   "nbconvert_exporter": "python",
   "pygments_lexer": "ipython3",
   "version": "3.9.13"
  }
 },
 "nbformat": 4,
 "nbformat_minor": 5
}
