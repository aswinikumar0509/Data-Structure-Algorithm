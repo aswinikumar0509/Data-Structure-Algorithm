{
 "cells": [
  {
   "cell_type": "code",
   "execution_count": 1,
   "id": "2bc59974",
   "metadata": {},
   "outputs": [],
   "source": [
    "## Sorting"
   ]
  },
  {
   "cell_type": "code",
   "execution_count": 2,
   "id": "2d5b4539",
   "metadata": {},
   "outputs": [
    {
     "name": "stdout",
     "output_type": "stream",
     "text": [
      "[1, 4, 5, 10, 23]\n"
     ]
    }
   ],
   "source": [
    "l1= [5,10,4,23,1]\n",
    "l1.sort()\n",
    "print(l1)"
   ]
  },
  {
   "cell_type": "code",
   "execution_count": 3,
   "id": "e09961b9",
   "metadata": {},
   "outputs": [
    {
     "name": "stdout",
     "output_type": "stream",
     "text": [
      "[10, 5, 3, 1]\n"
     ]
    }
   ],
   "source": [
    "l2 = [1,5,3,10]\n",
    "l2.sort(reverse = True)\n",
    "print(l2)"
   ]
  },
  {
   "cell_type": "code",
   "execution_count": 4,
   "id": "586a7255",
   "metadata": {},
   "outputs": [
    {
     "name": "stdout",
     "output_type": "stream",
     "text": [
      "['cources', 'gfg', 'ide']\n"
     ]
    }
   ],
   "source": [
    "l3 = [\"gfg\",\"ide\",\"cources\"]\n",
    "l3.sort()\n",
    "print(l3)"
   ]
  },
  {
   "cell_type": "code",
   "execution_count": 5,
   "id": "4e49c49a",
   "metadata": {},
   "outputs": [
    {
     "name": "stdout",
     "output_type": "stream",
     "text": [
      "['bng', 'gddf', 'judbv']\n"
     ]
    }
   ],
   "source": [
    "def myfun(x):\n",
    "    return len(x)\n",
    "x = [\"gddf\",\"bng\",\"judbv\"]\n",
    "x.sort(key = myfun)\n",
    "print(x)"
   ]
  },
  {
   "cell_type": "code",
   "execution_count": 6,
   "id": "02c4c080",
   "metadata": {},
   "outputs": [
    {
     "name": "stdout",
     "output_type": "stream",
     "text": [
      "['judbv', 'gddf', 'bng']\n"
     ]
    }
   ],
   "source": [
    "x.sort(key = myfun , reverse = True)\n",
    "print(x)"
   ]
  },
  {
   "cell_type": "code",
   "execution_count": 7,
   "id": "cefbf7c1",
   "metadata": {},
   "outputs": [
    {
     "name": "stdout",
     "output_type": "stream",
     "text": [
      "1 8\n",
      "1 15\n",
      "10 5\n"
     ]
    }
   ],
   "source": [
    "class point:\n",
    "    \n",
    "    def __init__(self,x,y):\n",
    "        self.x = x\n",
    "        self.y = y\n",
    "        \n",
    "        \n",
    "def myfun(p):\n",
    "    return p.x , p.y\n",
    "\n",
    "l = [point(1,15),point(10,5),point(1,8)]\n",
    "l.sort(key = myfun)\n",
    "\n",
    "for i in l:\n",
    "    print(i.x,i.y)  "
   ]
  },
  {
   "cell_type": "code",
   "execution_count": 8,
   "id": "36dcabec",
   "metadata": {},
   "outputs": [
    {
     "name": "stdout",
     "output_type": "stream",
     "text": [
      "1 15\n",
      "1 8\n",
      "10 5\n"
     ]
    }
   ],
   "source": [
    "class point:\n",
    "    \n",
    "    def __init__(self,x,y):\n",
    "        self.x = x\n",
    "        self.y = y\n",
    "        \n",
    "    def __lt__(self,other):\n",
    "        return self.x < other.x\n",
    "    \n",
    "l = [point(1,15),point(10,5),point(1,8)]\n",
    "l.sort()\n",
    "\n",
    "for i in l:\n",
    "    print(i.x , i.y)"
   ]
  },
  {
   "cell_type": "code",
   "execution_count": 9,
   "id": "4cf132aa",
   "metadata": {},
   "outputs": [
    {
     "name": "stdout",
     "output_type": "stream",
     "text": [
      "1 8\n",
      "1 15\n",
      "10 5\n"
     ]
    }
   ],
   "source": [
    "class point:\n",
    "    \n",
    "    def __init__(self,x,y):\n",
    "        self.x = x\n",
    "        self.y = y\n",
    "        \n",
    "    def __lt__(self,other):\n",
    "        \n",
    "        if self.x == other.x:\n",
    "            return self.y < other.y\n",
    "        else:\n",
    "            return self.x < other.x\n",
    "        \n",
    "l = [point(1,15),point(10,5),point(1,8)]\n",
    "l.sort()\n",
    "\n",
    "for i in l:\n",
    "    print(i.x , i.y)"
   ]
  },
  {
   "cell_type": "code",
   "execution_count": 10,
   "id": "7fabce7e",
   "metadata": {},
   "outputs": [
    {
     "name": "stdout",
     "output_type": "stream",
     "text": [
      "[10, 20, 14]\n",
      "[10, 14, 20]\n",
      "[-15, 10, -2, 1]\n"
     ]
    }
   ],
   "source": [
    "l = [10,20,14]\n",
    "ls = sorted(l)\n",
    "print(l)\n",
    "print(ls)\n",
    "\n",
    "l = [10,-15,-2,1]\n",
    "ls = sorted(l,key=abs,reverse = True)\n",
    "print(ls)"
   ]
  },
  {
   "cell_type": "code",
   "execution_count": 11,
   "id": "9a0ba244",
   "metadata": {},
   "outputs": [
    {
     "name": "stdout",
     "output_type": "stream",
     "text": [
      "[1, 5, 10, 12]\n",
      "['courses', 'gfg', 'python']\n",
      "['f', 'g', 'g']\n",
      "[5, 10, 15]\n",
      "[(1, 8), (2, 3), (10, 15)]\n"
     ]
    }
   ],
   "source": [
    "t = (10,12,5,1)\n",
    "print(sorted(t))\n",
    "\n",
    "s = {'gfg','courses','python'}\n",
    "print(sorted(s))\n",
    "\n",
    "st = 'gfg'\n",
    "print(sorted(st))\n",
    "\n",
    "d = {10:'gfg',15:'ide',5:'courses'}\n",
    "print(sorted(d))\n",
    "\n",
    "l = [(10,15),(1,8),(2,3)]\n",
    "print(sorted(l))"
   ]
  },
  {
   "cell_type": "code",
   "execution_count": 12,
   "id": "6b7bdda0",
   "metadata": {},
   "outputs": [
    {
     "name": "stdout",
     "output_type": "stream",
     "text": [
      "{1, 2, 3, 4, 5, 6}\n"
     ]
    }
   ],
   "source": [
    "x = {1,2,3,4,5}\n",
    "x.add(5)\n",
    "x.add(6)\n",
    "print(x)"
   ]
  },
  {
   "cell_type": "code",
   "execution_count": 13,
   "id": "17b29a4e",
   "metadata": {},
   "outputs": [
    {
     "name": "stdout",
     "output_type": "stream",
     "text": [
      "[1, 5, 10, 12]\n",
      "['courses', 'gfg', 'python']\n",
      "['f', 'g', 'g']\n",
      "[5, 10, 15]\n",
      "[(1, 8), (2, 3), (10, 15)]\n"
     ]
    }
   ],
   "source": [
    "l = t = (10,12,5,1)\n",
    "print(sorted(t))\n",
    "\n",
    "s = {'gfg','courses','python'}\n",
    "print(sorted(s))\n",
    "\n",
    "st = 'gfg'\n",
    "print(sorted(st))\n",
    "\n",
    "d = {10:'gfg',15:'ide',5:'courses'}\n",
    "print(sorted(d))\n",
    "\n",
    "l = [(10,15),(1,8),(2,3)]\n",
    "print(sorted(l))"
   ]
  },
  {
   "cell_type": "code",
   "execution_count": 14,
   "id": "058f1812",
   "metadata": {},
   "outputs": [
    {
     "name": "stdout",
     "output_type": "stream",
     "text": [
      "[1, 2, 3, 1, 2, 3, 1, 2, 3]\n"
     ]
    }
   ],
   "source": [
    "l=[1,2,3]*3\n",
    "print(l)"
   ]
  },
  {
   "cell_type": "code",
   "execution_count": 15,
   "id": "acaf8222",
   "metadata": {},
   "outputs": [
    {
     "name": "stdout",
     "output_type": "stream",
     "text": [
      "the number is 3\n"
     ]
    }
   ],
   "source": [
    "number = 3\n",
    "print(f\"the number is {number}\")"
   ]
  },
  {
   "cell_type": "code",
   "execution_count": 16,
   "id": "2529b639",
   "metadata": {},
   "outputs": [
    {
     "name": "stdout",
     "output_type": "stream",
     "text": [
      "[3 4]\n"
     ]
    }
   ],
   "source": [
    "import numpy as np\n",
    "\n",
    "table = np.array([[1,3],[2,4]])\n",
    "print(table.max(axis = 1))"
   ]
  },
  {
   "cell_type": "code",
   "execution_count": 17,
   "id": "7d18caca",
   "metadata": {},
   "outputs": [
    {
     "name": "stdout",
     "output_type": "stream",
     "text": [
      "[(1, 2), (2, 3), (3, 4), (4, 5)]\n"
     ]
    }
   ],
   "source": [
    "l = [(x,x+1) for x in range(1,5)]\n",
    "print(l)"
   ]
  },
  {
   "cell_type": "code",
   "execution_count": 18,
   "id": "035fe4d3",
   "metadata": {},
   "outputs": [],
   "source": [
    "## bubble sort\n",
    "\n",
    "def bubblesort(l):\n",
    "    \n",
    "    n = len(l)\n",
    "    for i in range(n-1):\n",
    "        for j in range(n-i-1):\n",
    "            if l[j] > l[j+1]:\n",
    "                l[j],l[j+1] = l[j+1],l[j]\n"
   ]
  },
  {
   "cell_type": "code",
   "execution_count": 19,
   "id": "e6bba73a",
   "metadata": {},
   "outputs": [
    {
     "name": "stdout",
     "output_type": "stream",
     "text": [
      "[1, 12, 20, 21, 50]\n"
     ]
    }
   ],
   "source": [
    "arr = [20,50,1,21,12]\n",
    "bubblesort(arr)\n",
    "print(arr)"
   ]
  },
  {
   "cell_type": "code",
   "execution_count": 20,
   "id": "ca2dcd97",
   "metadata": {},
   "outputs": [],
   "source": [
    "## Selection sort\n",
    "\n",
    "def selectSort(l):\n",
    "    n = len(l)\n",
    "\n",
    "    for i in range(n - 1):\n",
    "        min_ind = i\n",
    "        for j in range(i + 1, n):\n",
    "\n",
    "            if l[j] < l[min_ind]:\n",
    "                min_ind = j\n",
    "\n",
    "        l[min_ind], l[i] = l[i], l[min_ind]"
   ]
  },
  {
   "cell_type": "code",
   "execution_count": 21,
   "id": "dd6376df",
   "metadata": {},
   "outputs": [
    {
     "name": "stdout",
     "output_type": "stream",
     "text": [
      "[2, 5, 8, 10, 18, 20]\n"
     ]
    }
   ],
   "source": [
    "l = [10, 5, 8, 20, 2, 18]\n",
    "\n",
    "selectSort(l)\n",
    "\n",
    "print(l)"
   ]
  },
  {
   "cell_type": "code",
   "execution_count": 22,
   "id": "129efe84",
   "metadata": {},
   "outputs": [],
   "source": [
    "def insertionSort(l):\n",
    "\n",
    "    for i in range(1,len(l)):\n",
    "        x = l[i]\n",
    "        j = i-1\n",
    "\n",
    "        while j>=0 and x<l[j]:\n",
    "            l[j+1] = l[j]\n",
    "            j = j-1\n",
    "\n",
    "        l[j+1] = x"
   ]
  },
  {
   "cell_type": "code",
   "execution_count": 23,
   "id": "03782b15",
   "metadata": {},
   "outputs": [
    {
     "name": "stdout",
     "output_type": "stream",
     "text": [
      "5 10 20 30 40 60\n"
     ]
    }
   ],
   "source": [
    "l = [20, 5, 40, 60, 10, 30]\n",
    "\n",
    "insertionSort(l)\n",
    "print(*l)"
   ]
  },
  {
   "cell_type": "code",
   "execution_count": 24,
   "id": "4f9c40b0",
   "metadata": {},
   "outputs": [],
   "source": [
    "# Merging two sub array using merge sort:\n",
    "\n",
    "def merge(a, low, mid, high):\n",
    "    left = a[low:mid + 1]\n",
    "    right = a[mid + 1:high + 1]\n",
    "\n",
    "    i = j = 0\n",
    "    k = low\n",
    "\n",
    "    while i < len(left) and j < len(right):\n",
    "\n",
    "        if left[i] < right[j]:\n",
    "            a[k] = left[i]\n",
    "\n",
    "            k += 1\n",
    "            i += 1\n",
    "        else:\n",
    "            a[k] = right[j]\n",
    "            k += 1\n",
    "            j += 1\n",
    "\n",
    "    while i < len(left):\n",
    "        a[k] = left[i]\n",
    "        i += 1\n",
    "        k += 1\n",
    "\n",
    "    while j < len(right):\n",
    "        a[k] = right[j]\n",
    "        j += 1\n",
    "        k += 1"
   ]
  },
  {
   "cell_type": "code",
   "execution_count": 25,
   "id": "6e949441",
   "metadata": {},
   "outputs": [
    {
     "name": "stdout",
     "output_type": "stream",
     "text": [
      "8 10 11 15 20 40 55\n"
     ]
    }
   ],
   "source": [
    "a = [10, 15, 20, 40, 8, 11, 55]\n",
    "\n",
    "merge(a, 0, 3, 6)\n",
    "\n",
    "print(*a)"
   ]
  },
  {
   "cell_type": "code",
   "execution_count": 26,
   "id": "c09a1b82",
   "metadata": {},
   "outputs": [
    {
     "name": "stdout",
     "output_type": "stream",
     "text": [
      "5 7 10 15 30\n"
     ]
    }
   ],
   "source": [
    "def merge(a, low, mid, high):\n",
    "    left = a[low:mid + 1]\n",
    "    right = a[mid + 1:high + 1]\n",
    "\n",
    "    i = j = 0\n",
    "    k = low\n",
    "\n",
    "    while i < len(left) and j < len(right):\n",
    "\n",
    "        if left[i] < right[j]:\n",
    "            a[k] = left[i]\n",
    "\n",
    "            k += 1\n",
    "            i += 1\n",
    "        else:\n",
    "            a[k] = right[j]\n",
    "            k += 1\n",
    "            j += 1\n",
    "\n",
    "    while i < len(left):\n",
    "        a[k] = left[i]\n",
    "        i += 1\n",
    "        k += 1\n",
    "\n",
    "    while j < len(right):\n",
    "        a[k] = right[j]\n",
    "        j += 1\n",
    "        k += 1\n",
    "\n",
    "\n",
    "def mergeSort(arr, l, r):\n",
    "    if r > l:\n",
    "        m = (r + l) // 2\n",
    "        mergeSort(arr, l, m)\n",
    "        mergeSort(arr, m + 1, r)\n",
    "        merge(arr, l, m, r)\n",
    "\n",
    "\n",
    "arr = [10, 5, 30, 15, 7]\n",
    "\n",
    "mergeSort(arr, 0, 4)\n",
    "print(*arr)"
   ]
  },
  {
   "cell_type": "code",
   "execution_count": 27,
   "id": "0e44346f",
   "metadata": {},
   "outputs": [
    {
     "name": "stdout",
     "output_type": "stream",
     "text": [
      "5 7 10 15 30\n"
     ]
    }
   ],
   "source": [
    "def merge(a, low, mid, high):\n",
    "    left = a[low:mid+1]\n",
    "    right = a[mid+1:high+1]\n",
    "\n",
    "    i = j = 0\n",
    "    k = low\n",
    "\n",
    "    while i < len(left) and j < len(right):\n",
    "        if left[i] < right[j]:\n",
    "            a[k] = left[i]\n",
    "            k += 1\n",
    "            i += 1\n",
    "        else:\n",
    "            a[k] = right[j]\n",
    "            k += 1\n",
    "            j += 1\n",
    "\n",
    "    while i < len(left):\n",
    "        a[k] = left[i]\n",
    "        k += 1\n",
    "        i += 1\n",
    "\n",
    "    while j < len(right):\n",
    "        a[k] = right[j]\n",
    "        j += 1\n",
    "        k += 1\n",
    "\n",
    "\n",
    "def mergesort(arr, l, r):\n",
    "    if l < r:\n",
    "        m = (l + r) // 2\n",
    "        mergesort(arr, l, m)\n",
    "        mergesort(arr, m+1, r)\n",
    "        merge(arr, l, m, r)\n",
    "\n",
    "\n",
    "# Driver code\n",
    "arr = [10, 5, 30, 15, 7]\n",
    "mergesort(arr, 0, len(arr)-1)\n",
    "print(*arr)"
   ]
  },
  {
   "cell_type": "code",
   "execution_count": 28,
   "id": "5f6f53cc",
   "metadata": {},
   "outputs": [],
   "source": [
    "## Union Shorting\n",
    "def printunion(a,b):\n",
    "    i = 0 \n",
    "    j = 0\n",
    "    while (i<len(a) and j < len(b)):\n",
    "        if(i>0 and a[i]==a[i-1]):\n",
    "            i = i+1\n",
    "        elif(j>0 and b[j]==b[j-1]):\n",
    "            j = j+1\n",
    "        elif(a[i]<b[j]):\n",
    "            print(a[i],end = \" \")\n",
    "            i = i+1\n",
    "        elif(a[i]>b[j]):\n",
    "            print(b[j],end = \" \")\n",
    "            j = j+1\n",
    "        else:\n",
    "            print(a[i], end = \" \")\n",
    "            i = i+1\n",
    "            j = j+1\n",
    "            \n",
    "    while(i<len(a)):\n",
    "        if(i>0 and a[i]!=a[i-1]):\n",
    "            print(a[i],end = \" \")\n",
    "            i = i+1\n",
    "            \n",
    "    while(j<len(b)):\n",
    "        if(j>0 and b[j]!=b[j-1]):\n",
    "            print(b[j],end = \" \")\n",
    "            j = j+1"
   ]
  },
  {
   "cell_type": "code",
   "execution_count": 29,
   "id": "d62ad671",
   "metadata": {},
   "outputs": [],
   "source": [
    "## Partititon  of the array using sorting"
   ]
  },
  {
   "cell_type": "code",
   "execution_count": 30,
   "id": "8db973ae",
   "metadata": {},
   "outputs": [],
   "source": [
    "## bubble sort\n",
    "\n",
    "def bubblesort(l):\n",
    "    \n",
    "    n =len(l) \n",
    "    for i in range(n-1):\n",
    "        swapper = False\n",
    "        for j in range(n-i-1):\n",
    "            if l[j]>l[j+1]:\n",
    "                l[j],l[j+1]=l[j+1],l[j]\n",
    "                swapper = True\n",
    "    if swapper==False:\n",
    "        return"
   ]
  },
  {
   "cell_type": "code",
   "execution_count": 31,
   "id": "a324ee5e",
   "metadata": {},
   "outputs": [
    {
     "name": "stdout",
     "output_type": "stream",
     "text": [
      "5 8 10 20\n"
     ]
    }
   ],
   "source": [
    "l = [10,8,20,5]\n",
    "bubblesort(l)\n",
    "print(*l)"
   ]
  },
  {
   "cell_type": "code",
   "execution_count": 32,
   "id": "421f2b02",
   "metadata": {},
   "outputs": [],
   "source": [
    "## Insertation sort\n",
    "\n",
    "def insertationsort(l):\n",
    "    \n",
    "    for i in range(1,len(l)):\n",
    "        x = l[i]\n",
    "        j = i-1\n",
    "        \n",
    "        while j>=0 and x<l[j]:\n",
    "            l[j+1] = l[j]\n",
    "            j = j-1\n",
    "            \n",
    "        l[j+1]=x"
   ]
  },
  {
   "cell_type": "code",
   "execution_count": 33,
   "id": "55b3d076",
   "metadata": {},
   "outputs": [
    {
     "name": "stdout",
     "output_type": "stream",
     "text": [
      "5 10 20 30 40 60\n"
     ]
    }
   ],
   "source": [
    "l = [20,5,40,60,10,30]\n",
    "insertationsort(l)\n",
    "print(*l)"
   ]
  },
  {
   "cell_type": "code",
   "execution_count": 34,
   "id": "fbbf126f",
   "metadata": {},
   "outputs": [],
   "source": [
    "## Selelction sort\n",
    "\n",
    "def selectionsort(l):\n",
    "    \n",
    "    n = len(l)\n",
    "    \n",
    "    for i in range(n-1):\n",
    "        min_ind = i\n",
    "        for j in range(i+1,n):\n",
    "            if l[j] < l[min_ind]:\n",
    "                min_ind = j\n",
    "        l[min_ind],l[i] = l[i],l[min_ind]"
   ]
  },
  {
   "cell_type": "code",
   "execution_count": 35,
   "id": "bb76394d",
   "metadata": {},
   "outputs": [
    {
     "name": "stdout",
     "output_type": "stream",
     "text": [
      "2 5 8 10 18 20\n"
     ]
    }
   ],
   "source": [
    "l = [10, 5, 8, 20, 2, 18]\n",
    "selectionsort(l)\n",
    "print(*l)"
   ]
  },
  {
   "cell_type": "code",
   "execution_count": 36,
   "id": "d57eb178",
   "metadata": {},
   "outputs": [],
   "source": [
    "## merging towo array in sorted order\n",
    "\n",
    "def merge(a,b):\n",
    "    \n",
    "    res = []\n",
    "    \n",
    "    m = len(a)\n",
    "    n = len(b)\n",
    "    i=j=0\n",
    "    \n",
    "    while i<m and j<n:\n",
    "        if a[i]<b[j]:\n",
    "            res.append(a[i])\n",
    "            i = i+1\n",
    "        else:\n",
    "            res.append(b[j])\n",
    "            j = j+1\n",
    "            \n",
    "    while i<m:\n",
    "        res.append(a[i])\n",
    "        i = i+1\n",
    "    \n",
    "    while j<n:\n",
    "        res.append(b[j])\n",
    "        j = j+1\n",
    "        \n",
    "    return res\n",
    "            "
   ]
  },
  {
   "cell_type": "code",
   "execution_count": 37,
   "id": "3263333b",
   "metadata": {},
   "outputs": [
    {
     "name": "stdout",
     "output_type": "stream",
     "text": [
      "5 6 6 10 15 30 40\n"
     ]
    }
   ],
   "source": [
    "a = [10, 15]\n",
    "b = [5, 6, 6, 30, 40]\n",
    "\n",
    "print(*merge(a, b))"
   ]
  },
  {
   "cell_type": "code",
   "execution_count": 38,
   "id": "f61db570",
   "metadata": {},
   "outputs": [
    {
     "name": "stdout",
     "output_type": "stream",
     "text": [
      "8 10 11 15 20 40 55\n"
     ]
    }
   ],
   "source": [
    "# merge the sub array\n",
    "\n",
    "def merge(a, low, mid, high):\n",
    "    left = a[low:mid + 1]\n",
    "    right = a[mid + 1:high + 1]\n",
    "\n",
    "    i = j = 0\n",
    "    k = low\n",
    "\n",
    "    while i < len(left) and j < len(right):\n",
    "\n",
    "        if left[i] < right[j]:\n",
    "            a[k] = left[i]\n",
    "\n",
    "            k += 1\n",
    "            i += 1\n",
    "        else:\n",
    "            a[k] = right[j]\n",
    "            k += 1\n",
    "            j += 1\n",
    "\n",
    "    while i < len(left):\n",
    "        a[k] = left[i]\n",
    "        i += 1\n",
    "        k += 1\n",
    "\n",
    "    while j < len(right):\n",
    "        a[k] = right[j]\n",
    "        j += 1\n",
    "        k += 1\n",
    "\n",
    "\n",
    "a = [10, 15, 20, 40, 8, 11, 55]\n",
    "\n",
    "merge(a, 0, 3, 6)\n",
    "\n",
    "print(*a)"
   ]
  },
  {
   "cell_type": "code",
   "execution_count": 39,
   "id": "861daba2",
   "metadata": {},
   "outputs": [],
   "source": [
    "# union of two array\n",
    "\n",
    "def printunion(a,b):\n",
    "    i=0\n",
    "    j=0\n",
    "    \n",
    "    while(i<len(a) and j<len(b)):\n",
    "        if (i>0 and a[i]==a[i-1]):\n",
    "            i = i+1\n",
    "        elif(j>0 and b[j]==b[j-1]):\n",
    "            j = j+1\n",
    "        elif(a[i]<b[j]):\n",
    "            print(a[i],end = \" \")\n",
    "            i = i+1\n",
    "        elif (a[i]>b[j]):\n",
    "            print(b[j],end = \" \")\n",
    "            j = j+1\n",
    "        else:\n",
    "            print(a[i],end=\" \")\n",
    "            i = i+1\n",
    "            j = j+1\n",
    "    while (i<len(a)):\n",
    "        if(i>0 and a[i]!=a[i-1]):\n",
    "            print(a[i],end = \" \")\n",
    "            i = i+1\n",
    "    while (j<len(b)):\n",
    "        if(j>0 and b[j]!=b[j-1]):\n",
    "            print(b[j],end=\" \")\n",
    "            j = j+1"
   ]
  },
  {
   "cell_type": "code",
   "execution_count": 40,
   "id": "87fb6bd7",
   "metadata": {},
   "outputs": [],
   "source": [
    "## Insertation of two sorted array\n"
   ]
  },
  {
   "cell_type": "code",
   "execution_count": 41,
   "id": "1120fac4",
   "metadata": {},
   "outputs": [],
   "source": [
    "## count inversion \n",
    "\n",
    "def count(arr) :\n",
    "    n = len(arr)\n",
    "    res = 0\n",
    "    \n",
    "    for i in range(n-1):\n",
    "        for j in range(i+1,n):\n",
    "            if arr[i]>arr[j]:\n",
    "                res+=1\n",
    "    return res"
   ]
  },
  {
   "cell_type": "code",
   "execution_count": 42,
   "id": "f333284a",
   "metadata": {},
   "outputs": [
    {
     "name": "stdout",
     "output_type": "stream",
     "text": [
      "3\n"
     ]
    }
   ],
   "source": [
    "arr = [2,4,1,3,5]\n",
    "print(count(arr))"
   ]
  },
  {
   "cell_type": "code",
   "execution_count": null,
   "id": "120f2483",
   "metadata": {},
   "outputs": [],
   "source": [
    "##efficient solution"
   ]
  }
 ],
 "metadata": {
  "kernelspec": {
   "display_name": "Python 3 (ipykernel)",
   "language": "python",
   "name": "python3"
  },
  "language_info": {
   "codemirror_mode": {
    "name": "ipython",
    "version": 3
   },
   "file_extension": ".py",
   "mimetype": "text/x-python",
   "name": "python",
   "nbconvert_exporter": "python",
   "pygments_lexer": "ipython3",
   "version": "3.9.13"
  }
 },
 "nbformat": 4,
 "nbformat_minor": 5
}
