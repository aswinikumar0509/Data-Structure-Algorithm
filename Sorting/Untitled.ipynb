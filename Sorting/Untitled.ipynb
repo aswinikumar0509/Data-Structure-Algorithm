{
 "cells": [
  {
   "cell_type": "code",
   "execution_count": 1,
   "id": "a15223eb",
   "metadata": {},
   "outputs": [
    {
     "name": "stdout",
     "output_type": "stream",
     "text": [
      "[1, 2, 3, 5, 6]\n"
     ]
    }
   ],
   "source": [
    "num = [6,5,2,3,1]\n",
    "num.sort()\n",
    "print(num)"
   ]
  },
  {
   "cell_type": "code",
   "execution_count": 2,
   "id": "7164447b",
   "metadata": {},
   "outputs": [
    {
     "name": "stdout",
     "output_type": "stream",
     "text": [
      "[2, 3, 4, 6, 8]\n"
     ]
    }
   ],
   "source": [
    "##Bubble sorting algorithm\n",
    "\n",
    "def bubble_sort(num):\n",
    "    \n",
    "    n = len(num)\n",
    "    \n",
    "    for i in range(n-1):\n",
    "        for j in range(n-i-1):\n",
    "            if num[j]>num[j+1]:\n",
    "                num[j],num[j+1] = num[j+1],num[j]\n",
    "                \n",
    "num = [8,4,6,3,2]\n",
    "bubble_sort(num)\n",
    "print(num)"
   ]
  },
  {
   "cell_type": "code",
   "execution_count": 3,
   "id": "67eb9da3",
   "metadata": {},
   "outputs": [
    {
     "name": "stdout",
     "output_type": "stream",
     "text": [
      "[2, 3, 4, 6, 8]\n"
     ]
    }
   ],
   "source": [
    "##Selection Sort\n",
    "\n",
    "def selection_sort(l):\n",
    "    \n",
    "    n = len(l)\n",
    "    \n",
    "    for i in range(n-1):\n",
    "        min_idx = i\n",
    "        \n",
    "        for j in range(i+1,n):\n",
    "            \n",
    "            if l[j]<l[min_idx]:\n",
    "                min_idx = j\n",
    "                \n",
    "        l[min_idx],l[i] = l[i],l[min_idx]\n",
    "                \n",
    "num = [8,4,6,3,2]\n",
    "selection_sort(num)\n",
    "print(num)"
   ]
  },
  {
   "cell_type": "code",
   "execution_count": 4,
   "id": "1abec154",
   "metadata": {},
   "outputs": [
    {
     "name": "stdout",
     "output_type": "stream",
     "text": [
      "[5, 10, 20, 30, 40, 60]\n"
     ]
    }
   ],
   "source": [
    "## Insertation sort\n",
    "\n",
    "def insertation_sort(l):\n",
    "    n = len(l)\n",
    "    for i in range(1,n):\n",
    "        x = l[i]\n",
    "        j = i-1\n",
    "        \n",
    "        while j>=0 and x<l[j]:\n",
    "            l[j+1] = l[j]\n",
    "            j = j-1\n",
    "            \n",
    "            l[j+1] = x\n",
    "            \n",
    "l = [20, 5, 40, 60, 10, 30]\n",
    "\n",
    "insertation_sort(l)\n",
    "print(l)"
   ]
  },
  {
   "cell_type": "code",
   "execution_count": 5,
   "id": "cbb5221e",
   "metadata": {},
   "outputs": [
    {
     "name": "stdout",
     "output_type": "stream",
     "text": [
      "5 6 6 10 15 30 40\n"
     ]
    }
   ],
   "source": [
    "## Merge two sorted array\n",
    "\n",
    "def merge_two_array(arr1,arr2):\n",
    "    m = len(arr1)\n",
    "    n = len(arr2)\n",
    "    i=j=0\n",
    "    res = []\n",
    "    while i<m and j<n:\n",
    "        if arr1[i]<arr2[j]:\n",
    "            res.append(arr1[i])\n",
    "            i+=1\n",
    "        else:\n",
    "            res.append(arr2[j])\n",
    "            j+=1\n",
    "            \n",
    "    \n",
    "    while i<m:\n",
    "        res.append(arr1[i])\n",
    "        i+=1\n",
    "    while j<n:\n",
    "        res.append(arr2[j])\n",
    "        j+=1\n",
    "        \n",
    "    return res\n",
    "\n",
    "a = [10, 15]\n",
    "b = [5, 6, 6, 30, 40]\n",
    "\n",
    "print(*merge_two_array(a, b))"
   ]
  },
  {
   "cell_type": "code",
   "execution_count": 6,
   "id": "441e5872",
   "metadata": {},
   "outputs": [
    {
     "name": "stdout",
     "output_type": "stream",
     "text": [
      "8 10 11 15 20 40 55\n"
     ]
    }
   ],
   "source": [
    "def merge(a, low, mid, high):\n",
    "    left = a[low:mid + 1]\n",
    "    right = a[mid + 1:high + 1]\n",
    "\n",
    "    i = j = 0\n",
    "    k = low\n",
    "\n",
    "    while i < len(left) and j < len(right):\n",
    "\n",
    "        if left[i] < right[j]:\n",
    "            a[k] = left[i]\n",
    "\n",
    "            k += 1\n",
    "            i += 1\n",
    "        else:\n",
    "            a[k] = right[j]\n",
    "            k += 1\n",
    "            j += 1\n",
    "\n",
    "    while i < len(left):\n",
    "        a[k] = left[i]\n",
    "        i += 1\n",
    "        k += 1\n",
    "\n",
    "    while j < len(right):\n",
    "        a[k] = right[j]\n",
    "        j += 1\n",
    "        k += 1\n",
    "\n",
    "\n",
    "a = [10, 15, 20, 40, 8, 11, 55]\n",
    "\n",
    "merge(a, 0, 3, 6)\n",
    "\n",
    "print(*a)"
   ]
  },
  {
   "cell_type": "code",
   "execution_count": 7,
   "id": "64efbc5e",
   "metadata": {},
   "outputs": [],
   "source": [
    "## Union of the array\n",
    "\n",
    "\n",
    "def union_array(a,b,m,n):\n",
    "    \n",
    "    result = [0 for i in range(m+n)]\n",
    "    left=right=index = 0\n",
    "    \n",
    "    while left<m and right<n:\n",
    "        if a[left]<b[right]:\n",
    "            if index!=0 and a[left]==result[index-1]:\n",
    "                left+=1\n",
    "            else:\n",
    "                result[index] = a[left]\n",
    "                left += 1\n",
    "                index += 1\n",
    "        else:\n",
    "            if index!=0 and b[right]==result[index-1]:\n",
    "                right+=1\n",
    "            else:\n",
    "                result[index]=b[right]\n",
    "                right+=1\n",
    "                index+=1\n",
    "    while(left < n):\n",
    "        if(index != 0 and a[left] == result[index-1]):\n",
    "            left += 1\n",
    "        else:\n",
    "            result[index] = a[left]\n",
    "            left += 1\n",
    "            index += 1\n",
    " \n",
    "    while(right < m):\n",
    "        if(index != 0 and b[right] == result[index - 1]):\n",
    "            right += 1\n",
    "        else:\n",
    "            result[index] = b[right]\n",
    "            right += 1\n",
    "            index += 1\n",
    "    print(\"Union:\", *result[:index])\n",
    "                \n"
   ]
  },
  {
   "cell_type": "code",
   "execution_count": 8,
   "id": "ff76fa3b",
   "metadata": {},
   "outputs": [
    {
     "name": "stdout",
     "output_type": "stream",
     "text": [
      "2 5 "
     ]
    }
   ],
   "source": [
    "## Insertation Sort Algorithm\n",
    "\n",
    "def printIntersection(arr1, arr2, m, n):\n",
    "    i, j = 0, 0\n",
    "    while i < m and j < n:\n",
    "        if arr1[i] < arr2[j]:\n",
    "            i += 1\n",
    "        elif arr2[j] < arr1[i]:\n",
    "            j+= 1\n",
    "        else:\n",
    "            print(arr2[j],end=\" \")\n",
    "            j += 1\n",
    "            i += 1\n",
    "\n",
    "# Driver program to test above function\n",
    "arr1 = [1, 2, 4, 5, 6]\n",
    "arr2 = [2, 3, 5, 7]\n",
    "m = len(arr1)\n",
    "n = len(arr2)\n",
    "printIntersection(arr1, arr2, m, n)\n"
   ]
  },
  {
   "cell_type": "code",
   "execution_count": 9,
   "id": "f574129a",
   "metadata": {},
   "outputs": [
    {
     "name": "stdout",
     "output_type": "stream",
     "text": [
      "3\n"
     ]
    }
   ],
   "source": [
    "##Inversion Count\n",
    "\n",
    "def inversion_count(arr):\n",
    "    n = len(arr)\n",
    "    res = 0\n",
    "    \n",
    "    for i in range(n):\n",
    "        for j in range(i+1,n):\n",
    "            if arr[i]>arr[j]:\n",
    "                res+=1\n",
    "    return res\n",
    "\n",
    "arr= [2,4,1,3,5]\n",
    "print(inversion_count(arr))"
   ]
  },
  {
   "cell_type": "code",
   "execution_count": 10,
   "id": "c9b61633",
   "metadata": {},
   "outputs": [
    {
     "name": "stdout",
     "output_type": "stream",
     "text": [
      "Sorted array:\n",
      "1 5 7 8 9 10 \n"
     ]
    }
   ],
   "source": [
    "## Quick Sort\n",
    "\n",
    "\n",
    "def partititon(arr, low,high):\n",
    "    \n",
    "    ## creat the pivot\n",
    "    pivot = arr[high]\n",
    "    \n",
    "    i = low-1\n",
    "    for j in range(low,high):\n",
    "        if arr[j]<=pivot:\n",
    "            i+=1\n",
    "            arr[i],arr[j] = arr[j],arr[i]\n",
    "    arr[i+1],arr[high] = arr[high],arr[i+1]\n",
    "    return i+1\n",
    "\n",
    "def quick_sort(arr,low,high):\n",
    "    \n",
    "    if low<high:\n",
    "    \n",
    "        pi = partititon(arr,low,high)\n",
    "\n",
    "        quick_sort(arr,low,pi-1)\n",
    "        quick_sort(arr,pi+1,high)\n",
    "    \n",
    "def printArray(arr, size):\n",
    "     \n",
    "    for i in range(size):\n",
    "        print(arr[i], end = \" \")\n",
    "    print()\n",
    "\n",
    "arr = [10, 7, 8, 9, 1, 5]\n",
    "n = len(arr)\n",
    "quick_sort(arr, 0, n - 1)\n",
    "print(\"Sorted array:\")\n",
    "printArray(arr, n)   "
   ]
  },
  {
   "cell_type": "code",
   "execution_count": 13,
   "id": "2c6c8046",
   "metadata": {},
   "outputs": [
    {
     "name": "stdout",
     "output_type": "stream",
     "text": [
      "8 4 7 9 3 10 5\n"
     ]
    }
   ],
   "source": [
    "## Hoares Partititon\n",
    "\n",
    "def haore_partation(arr,l,h):\n",
    "    \n",
    "    pivot = arr[l]\n",
    "    \n",
    "    i = l-1\n",
    "    j = h+1\n",
    "    \n",
    "    while True:\n",
    "        i = i+1\n",
    "        \n",
    "        while arr[i]>pivot:\n",
    "            i = i+1\n",
    "        j = j-1\n",
    "        \n",
    "        while arr[j]>pivot:\n",
    "            j = j-1\n",
    "        if i>=j:\n",
    "            return j\n",
    "    arr[i],arr[j] = arr[j],arr[i]\n",
    "    \n",
    "def qSort(arr, l, h):\n",
    "    if l < h:\n",
    "        p = haore_partation(arr, l, h)\n",
    "        qSort(arr, l, p)\n",
    "        qSort(arr, p + 1, h)\n",
    "\n",
    "\n",
    "arr = [8, 4, 7, 9, 3, 10, 5]\n",
    "\n",
    "qSort(arr, 0, 6)\n",
    "\n",
    "print(*arr)"
   ]
  },
  {
   "cell_type": "code",
   "execution_count": null,
   "id": "e3d12f64",
   "metadata": {},
   "outputs": [],
   "source": []
  }
 ],
 "metadata": {
  "kernelspec": {
   "display_name": "Python 3 (ipykernel)",
   "language": "python",
   "name": "python3"
  },
  "language_info": {
   "codemirror_mode": {
    "name": "ipython",
    "version": 3
   },
   "file_extension": ".py",
   "mimetype": "text/x-python",
   "name": "python",
   "nbconvert_exporter": "python",
   "pygments_lexer": "ipython3",
   "version": "3.9.13"
  }
 },
 "nbformat": 4,
 "nbformat_minor": 5
}
