{
 "cells": [
  {
   "cell_type": "code",
   "execution_count": 6,
   "id": "7d66939b",
   "metadata": {},
   "outputs": [
    {
     "name": "stdout",
     "output_type": "stream",
     "text": [
      "[3, 4, 5, 7, 8, 9, 10]\n"
     ]
    }
   ],
   "source": [
    "## Tail Call Recurssion\n",
    "\n",
    "def hoursePartation(arr,l,h):\n",
    "    \n",
    "    pivot = arr[l]\n",
    "    \n",
    "    i = l-1\n",
    "    j = h+1\n",
    "    \n",
    "    while True:\n",
    "        \n",
    "        i = i + 1\n",
    "        while arr[i] < pivot:\n",
    "            i = i + 1\n",
    "\n",
    "        j = j - 1\n",
    "        while arr[j] > pivot:\n",
    "            j = j - 1\n",
    "\n",
    "        if i >= j:\n",
    "            return j\n",
    "        \n",
    "        arr[i],arr[j] = arr[j],arr[i]\n",
    "        \n",
    "def qsort(arr,l,h):\n",
    "    \n",
    "    if l<h:\n",
    "        p = hoursePartation(arr,l,h)\n",
    "        \n",
    "        qsort(arr,l,p)\n",
    "        qsort(arr,p+1,h)\n",
    "            \n",
    "\n",
    "arr = [8,4,7,9,3,10,5]\n",
    "qsort(arr,0,6)\n",
    "print(arr)\n",
    "        "
   ]
  },
  {
   "cell_type": "code",
   "execution_count": 9,
   "id": "21927ae7",
   "metadata": {},
   "outputs": [
    {
     "name": "stdout",
     "output_type": "stream",
     "text": [
      "3\n"
     ]
    }
   ],
   "source": [
    "## kth Smallest Element\n",
    "\n",
    "def ksmallest(arr,n,k):\n",
    "    arr.sort()\n",
    "    print(arr[k-1])\n",
    "    \n",
    "arr = [-2,3,54,45,32,0]\n",
    "A = ksmallest(arr,6,3)"
   ]
  },
  {
   "cell_type": "code",
   "execution_count": null,
   "id": "c3b0e0e1",
   "metadata": {},
   "outputs": [],
   "source": []
  }
 ],
 "metadata": {
  "kernelspec": {
   "display_name": "Python 3 (ipykernel)",
   "language": "python",
   "name": "python3"
  },
  "language_info": {
   "codemirror_mode": {
    "name": "ipython",
    "version": 3
   },
   "file_extension": ".py",
   "mimetype": "text/x-python",
   "name": "python",
   "nbconvert_exporter": "python",
   "pygments_lexer": "ipython3",
   "version": "3.9.13"
  }
 },
 "nbformat": 4,
 "nbformat_minor": 5
}
