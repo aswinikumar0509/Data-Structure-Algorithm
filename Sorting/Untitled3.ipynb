{
 "cells": [
  {
   "cell_type": "code",
   "execution_count": 1,
   "id": "d3775a46",
   "metadata": {},
   "outputs": [],
   "source": [
    "## Sorting"
   ]
  },
  {
   "cell_type": "code",
   "execution_count": 2,
   "id": "0b0e2948",
   "metadata": {},
   "outputs": [
    {
     "name": "stdout",
     "output_type": "stream",
     "text": [
      "2 7 8 10\n"
     ]
    }
   ],
   "source": [
    "## Bubble sort\n",
    "\n",
    "def bubble_sort(arr):\n",
    "    n = len(arr)\n",
    "    for i in range(n-1):\n",
    "        swapper = False\n",
    "        for j in range(n-i-1):\n",
    "            if arr[j]>arr[j+1]:\n",
    "                arr[j],arr[j+1]=arr[j+1],arr[j]\n",
    "                swapper = True\n",
    "        if swapper == False:\n",
    "            return \n",
    "      \n",
    "arr = [2,10,8,7]\n",
    "bubble_sort(arr)\n",
    "print(*arr)"
   ]
  },
  {
   "cell_type": "code",
   "execution_count": 4,
   "id": "df8f90b5",
   "metadata": {},
   "outputs": [
    {
     "name": "stdout",
     "output_type": "stream",
     "text": [
      "2 7 8 10\n"
     ]
    }
   ],
   "source": [
    "## Selection sort\n",
    "\n",
    "def selection_sort(arr):\n",
    "    \n",
    "    for i in range(len(arr)):\n",
    "        min_ind = i\n",
    "        \n",
    "        for j in range(i+1,len(arr)):\n",
    "            if arr[j]<arr[min_ind]:\n",
    "                min_ind = j\n",
    "                \n",
    "        arr[min_ind],arr[i] = arr[i],arr[min_ind]\n",
    "\n",
    "arr = [2,10,8,7]\n",
    "selection_sort(arr)\n",
    "print(*arr)\n",
    "                "
   ]
  },
  {
   "cell_type": "code",
   "execution_count": 6,
   "id": "1d267fee",
   "metadata": {},
   "outputs": [
    {
     "name": "stdout",
     "output_type": "stream",
     "text": [
      "2 7 8 10\n"
     ]
    }
   ],
   "source": [
    "## Insertion Sort\n",
    "\n",
    "def insertation_sort(l):\n",
    "    for i in range(1,len(l)):\n",
    "        x = l[i]\n",
    "        j = i-1\n",
    "\n",
    "        while j>=0 and x<l[j]:\n",
    "            l[j+1] = l[j]\n",
    "            j = j-1\n",
    "\n",
    "        l[j+1] = x\n",
    "        \n",
    "arr = [2,10,8,7]\n",
    "insertation_sort(arr)\n",
    "print(*arr)"
   ]
  },
  {
   "cell_type": "code",
   "execution_count": 8,
   "id": "63132a50",
   "metadata": {},
   "outputs": [
    {
     "name": "stdout",
     "output_type": "stream",
     "text": [
      "5 6 6 10 15 30 40\n"
     ]
    }
   ],
   "source": [
    "## Merge two sorted array\n",
    "\n",
    "def merger_sort(arr1,arr2,m,n):\n",
    "    res = []\n",
    "    i,j = 0,0\n",
    "    while i <m and j<n:\n",
    "        \n",
    "        if arr1[i]<arr2[j]:\n",
    "            res.append(arr1[i])\n",
    "            i+=1\n",
    "        else:\n",
    "            res.append(arr2[j])\n",
    "            j+=1\n",
    "            \n",
    "    while i<m:\n",
    "        res.append(arr1[i])\n",
    "        i+=1\n",
    "        \n",
    "    while j<n:\n",
    "        res.append(arr2[j])\n",
    "        j+=1\n",
    "        \n",
    "    return res\n",
    "\n",
    "a = [10, 15]\n",
    "b = [5, 6, 6, 30, 40]\n",
    "\n",
    "n = len(a)\n",
    "m = len(b)\n",
    "print(*merger_sort(a,b,n,m))"
   ]
  },
  {
   "cell_type": "code",
   "execution_count": null,
   "id": "a4b86cc8",
   "metadata": {},
   "outputs": [],
   "source": [
    "## Merge subarray\n",
    "\n",
    "def merge_sub_aaray(arr,low,mid,high)"
   ]
  },
  {
   "cell_type": "code",
   "execution_count": 10,
   "id": "bdbe0b10",
   "metadata": {},
   "outputs": [
    {
     "name": "stdout",
     "output_type": "stream",
     "text": [
      "Original Doubly Linked List:\n",
      "1\n",
      "\n",
      "Flattened Doubly Linked List:\n",
      "1\n"
     ]
    }
   ],
   "source": [
    "class Node:\n",
    "    def __init__(self, val, prev=None, next=None, child=None):\n",
    "        self.val = val\n",
    "        self.prev = prev\n",
    "        self.next = next\n",
    "        self.child = child\n",
    "\n",
    "    def flatten_multilevel_dll(head):\n",
    "        if not head:\n",
    "            return None\n",
    "\n",
    "        current = head\n",
    "\n",
    "        while current:\n",
    "            if current.child:\n",
    "                next_node = current.next\n",
    "                child_tail = flatten_multilevel_dll(current.child)\n",
    "\n",
    "                current.next = current.child\n",
    "                current.child.prev = current\n",
    "\n",
    "                if next_node:\n",
    "                    child_tail.next = next_node\n",
    "                    next_node.prev = child_tail\n",
    "\n",
    "                current.child = None\n",
    "\n",
    "            if current.next:\n",
    "                current = current.next\n",
    "            else:\n",
    "                break\n",
    "\n",
    "        return current\n",
    "\n",
    "    def print_dll(head):\n",
    "        result = []\n",
    "        while head:\n",
    "            result.append(head.val)\n",
    "            head = head.next\n",
    "        print(\" -> \".join(map(str, result)))\n",
    "\n",
    "# Example usage:\n",
    "# Construct a sample multilevel doubly linked list\n",
    "# 1 <-> 2 <-> 3 <-> 4 <-> 5 <-> 6 <-> 7\n",
    "#           |\n",
    "#           v\n",
    "#           8 <-> 9 <-> 10\n",
    "#               |\n",
    "#               v\n",
    "#               11 <-> 12\n",
    "\n",
    "head = Node(1)\n",
    "node2 = Node(2, head)\n",
    "node3 = Node(3, node2)\n",
    "node4 = Node(4, node3)\n",
    "node5 = Node(5, node4)\n",
    "node6 = Node(6, node5)\n",
    "node7 = Node(7, node6)\n",
    "\n",
    "node8 = Node(8, node4)\n",
    "node9 = Node(9, node8)\n",
    "node10 = Node(10, node9)\n",
    "\n",
    "node11 = Node(11, node9)\n",
    "node12 = Node(12, node11)\n",
    "\n",
    "# Set child pointers\n",
    "node3.child = node8\n",
    "node9.child = node11\n",
    "\n",
    "print(\"Original Doubly Linked List:\")\n",
    "print_dll(head)\n",
    "\n",
    "# Flatten the multilevel doubly linked list\n",
    "flatten_multilevel_dll(head)\n",
    "\n",
    "print(\"\\nFlattened Doubly Linked List:\")\n",
    "print_dll(head)\n"
   ]
  },
  {
   "cell_type": "code",
   "execution_count": 13,
   "id": "b0e57c20",
   "metadata": {},
   "outputs": [
    {
     "name": "stdout",
     "output_type": "stream",
     "text": [
      "Linked list before calling swapNodes() \n",
      "1 2 3 4 5 6 7 \n",
      "Linked list after calling swapNodes() \n",
      "1 2 4 3 5 6 7 "
     ]
    }
   ],
   "source": [
    "class LinkedList(object):\n",
    "    def __init__(self):\n",
    "        self.head = None\n",
    "\n",
    "    class Node(object):\n",
    "        def __init__(self, d):\n",
    "            self.data = d\n",
    "            self.next = None\n",
    "\n",
    "    def swapNodes(self, x, y):\n",
    " \n",
    "        \n",
    "        if x == y:\n",
    "            return\n",
    " \n",
    "        \n",
    "        prevX = None\n",
    "        currX = self.head\n",
    "        while currX != None and currX.data != x:\n",
    "            prevX = currX\n",
    "            currX = currX.next\n",
    " \n",
    "        prevY = None\n",
    "        currY = self.head\n",
    "        while currY != None and currY.data != y:\n",
    "            prevY = currY\n",
    "            currY = currY.next\n",
    " \n",
    "        if currX == None or currY == None:\n",
    "            return\n",
    "        \n",
    "        if prevX != None:\n",
    "            prevX.next = currY\n",
    "        else:  \n",
    "            self.head = currY\n",
    " \n",
    "        if prevY != None:\n",
    "            prevY.next = currX\n",
    "        else: \n",
    "            self.head = currX\n",
    " \n",
    "    \n",
    "        temp = currX.next\n",
    "        currX.next = currY.next\n",
    "        currY.next = temp\n",
    " \n",
    "    \n",
    "    def push(self, new_data):\n",
    " \n",
    "        \n",
    "        new_Node = self.Node(new_data)\n",
    " \n",
    "        \n",
    "        new_Node.next = self.head\n",
    " \n",
    "        self.head = new_Node\n",
    " \n",
    "    def printList(self):\n",
    "        tNode = self.head\n",
    "        while tNode != None:\n",
    "            print(tNode.data,end = \" \")\n",
    "            tNode = tNode.next\n",
    " \n",
    " \n",
    "# Driver program to test above function\n",
    "llist = LinkedList()\n",
    "# The constructed linked list is:\n",
    "# 1->2->3->4->5->6->7\n",
    "llist.push(7)\n",
    "llist.push(6)\n",
    "llist.push(5)\n",
    "llist.push(4)\n",
    "llist.push(3)\n",
    "llist.push(2)\n",
    "llist.push(1)\n",
    "print (\"Linked list before calling swapNodes() \")\n",
    "llist.printList()\n",
    "llist.swapNodes(4, 3)\n",
    "print (\"\\nLinked list after calling swapNodes() \")\n",
    "llist.printList()"
   ]
  },
  {
   "cell_type": "code",
   "execution_count": 14,
   "id": "dc76d0ea",
   "metadata": {},
   "outputs": [
    {
     "name": "stdout",
     "output_type": "stream",
     "text": [
      "Original Linked List:\n",
      "1 2 3 4 5 \n",
      "\n",
      "Linked List after swapping in pairs:\n",
      "2 1 4 3 5 \n"
     ]
    }
   ],
   "source": [
    "class Node:\n",
    "    def __init__(self, data):\n",
    "        self.data = data\n",
    "        self.next = None\n",
    "\n",
    "class LL:\n",
    "    def __init__(self):\n",
    "        self.head = None\n",
    "\n",
    "    def swap_in_pair(self):\n",
    "        temp = self.head\n",
    "        if temp is None:\n",
    "            return\n",
    "\n",
    "        while temp and temp.next:\n",
    "            temp.data, temp.next.data = temp.next.data, temp.data\n",
    "            temp = temp.next.next if temp.next.next else None\n",
    "\n",
    "    def print_list(self):\n",
    "        temp = self.head\n",
    "        while temp:\n",
    "            print(temp.data, end=\" \")\n",
    "            temp = temp.next\n",
    "        print()\n",
    "\n",
    "linked_list = LL()\n",
    "linked_list.head = Node(1)\n",
    "linked_list.head.next = Node(2)\n",
    "linked_list.head.next.next = Node(3)\n",
    "linked_list.head.next.next.next = Node(4)\n",
    "linked_list.head.next.next.next.next = Node(5)\n",
    "\n",
    "print(\"Original Linked List:\")\n",
    "linked_list.print_list()\n",
    "\n",
    "linked_list.swap_in_pair()\n",
    "\n",
    "print(\"\\nLinked List after swapping in pairs:\")\n",
    "linked_list.print_list()\n"
   ]
  },
  {
   "cell_type": "code",
   "execution_count": null,
   "id": "f41a70c2",
   "metadata": {},
   "outputs": [],
   "source": []
  }
 ],
 "metadata": {
  "kernelspec": {
   "display_name": "Python 3 (ipykernel)",
   "language": "python",
   "name": "python3"
  },
  "language_info": {
   "codemirror_mode": {
    "name": "ipython",
    "version": 3
   },
   "file_extension": ".py",
   "mimetype": "text/x-python",
   "name": "python",
   "nbconvert_exporter": "python",
   "pygments_lexer": "ipython3",
   "version": "3.9.13"
  }
 },
 "nbformat": 4,
 "nbformat_minor": 5
}
