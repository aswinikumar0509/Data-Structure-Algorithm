{
 "cells": [
  {
   "cell_type": "code",
   "execution_count": 1,
   "id": "5d4351f7",
   "metadata": {},
   "outputs": [
    {
     "name": "stdout",
     "output_type": "stream",
     "text": [
      "1\n"
     ]
    }
   ],
   "source": [
    "## Finding the k smallest number\n",
    "\n",
    "# Method 1\n",
    "\n",
    "# def kSmallest(arr,k):\n",
    "#     arr.sort()\n",
    "#     return arr[k-1]\n",
    "\n",
    "# Method 2\n",
    "\n",
    "def lomutoPartition(arr,l,h):\n",
    "    pivot = arr[h]\n",
    "    i = l-1\n",
    "    for j in range(l,h):\n",
    "        if arr[j]<pivot:\n",
    "            i = i+1\n",
    "            arr[i],arr[j] = arr[j],arr[i]\n",
    "    arr[i+1],arr[h] = arr[h],arr[i+1]\n",
    "    \n",
    "    return i+1\n",
    "\n",
    "def kSmallest(arr,k):\n",
    "    l=0\n",
    "    r = len(arr)-1\n",
    "    while l<=r:\n",
    "        p = lomutoPartition(arr,l,r)\n",
    "        if p==k-1:\n",
    "            return p\n",
    "        elif p>k-1:\n",
    "            r = p-1\n",
    "        else:\n",
    "            l = p+1\n",
    "    return -1\n",
    "\n",
    "arr = [3,2,5,4,7,7,1]\n",
    "k=2\n",
    "print(kSmallest(arr,k))"
   ]
  },
  {
   "cell_type": "code",
   "execution_count": 2,
   "id": "b11a23e1",
   "metadata": {},
   "outputs": [
    {
     "name": "stdout",
     "output_type": "stream",
     "text": [
      "3\n"
     ]
    }
   ],
   "source": [
    "## Minimum difference in the array\n",
    "\n",
    "# Methods 1\n",
    "\n",
    "# def min_diff(arr):\n",
    "#     res = float('inf')\n",
    "#     for i in range(1,len(arr)):\n",
    "#         for j in range(i):\n",
    "#             res = min(res,abs(arr[i]-arr[j]))\n",
    "#     return res\n",
    "            \n",
    "\n",
    "# Method 2\n",
    "\n",
    "def min_diff(arr):\n",
    "    res = float('inf')\n",
    "    arr.sort()\n",
    "    for i in range(1,len(arr)):\n",
    "        res = min(res,(arr[i]-arr[i-1]))\n",
    "    return res\n",
    "arr = [1,8,12,5,18]\n",
    "print(min_diff(arr))"
   ]
  },
  {
   "cell_type": "code",
   "execution_count": 3,
   "id": "6f468577",
   "metadata": {},
   "outputs": [
    {
     "data": {
      "text/plain": [
       "2"
      ]
     },
     "execution_count": 3,
     "metadata": {},
     "output_type": "execute_result"
    }
   ],
   "source": [
    "## Chocolate distribution problem\n",
    "\n",
    "def minDiff(arr,m):\n",
    "    if(m==0 or len(arr)==0):\n",
    "        return 0\n",
    "    if (len(arr)<m):\n",
    "        return -1\n",
    "    \n",
    "    arr.sort()\n",
    "    res = arr[m-1]-arr[0]\n",
    "    for i in range(1,len(arr)-m+1):\n",
    "        res = min(res,arr[i+m-1]-arr[i])\n",
    "    return res\n",
    "\n",
    "arr = [7,3,2,4,9,12,56]\n",
    "m=3\n",
    "minDiff(arr,m)"
   ]
  },
  {
   "cell_type": "code",
   "execution_count": 4,
   "id": "611e07c3",
   "metadata": {},
   "outputs": [
    {
     "name": "stdout",
     "output_type": "stream",
     "text": [
      "None\n"
     ]
    }
   ],
   "source": [
    "## Sort an Array woth two type\n",
    "\n",
    "def sort(arr):\n",
    "    n = len(arr)\n",
    "    temp = [0]*n\n",
    "    i=0\n",
    "    for j in range(0,n):\n",
    "        if arr[j]<0:\n",
    "            temp[i] = temp[j]\n",
    "            i+=1\n",
    "    for j in range(0,n):\n",
    "        if arr[j]>=0:\n",
    "            temp[i]=arr[j]\n",
    "            i+=1\n",
    "    arr[:] = temp\n",
    "    \n",
    "arr = [0,1,1,1,0]\n",
    "print(sort(arr))"
   ]
  },
  {
   "cell_type": "code",
   "execution_count": 5,
   "id": "f6115878",
   "metadata": {},
   "outputs": [
    {
     "name": "stdout",
     "output_type": "stream",
     "text": [
      "[2, 15] [18, 30] "
     ]
    }
   ],
   "source": [
    "## Merge overlapping interval\n",
    "\n",
    "def mergeInterval(arr):\n",
    "    \n",
    "    arr.sort(key = lambda x:x[0])\n",
    "    res = 0\n",
    "    for i in range(1,len(arr)):\n",
    "        if(arr[res][1] >= arr[i][0]):\n",
    "            arr[res][1] = max(arr[res][1],arr[i][1])\n",
    "        else:\n",
    "            res+=1\n",
    "            arr[res] = arr[i]\n",
    "            \n",
    "    for i in range(res+1):\n",
    "        print(arr[i],end=\" \")\n",
    "        \n",
    "\n",
    "arr = [[5,10],[3,15],[18,30],[2,7]]\n",
    "mergeInterval(arr)\n",
    "    "
   ]
  },
  {
   "cell_type": "code",
   "execution_count": null,
   "id": "1751fc0c",
   "metadata": {},
   "outputs": [],
   "source": [
    "def maxGuest(arr,dep):\n",
    "    \n",
    "    arr.sort()\n",
    "    dep.sort()\n",
    "    "
   ]
  },
  {
   "cell_type": "code",
   "execution_count": 8,
   "id": "35ba2f80",
   "metadata": {},
   "outputs": [
    {
     "name": "stdout",
     "output_type": "stream",
     "text": [
      "[0, 1, 1, 1, 4, 4]\n"
     ]
    }
   ],
   "source": [
    "## Counting Sort Algorithm\n",
    "\n",
    "def counting(arr,k):\n",
    "    count = [0]*k\n",
    "    output = [0]*len(arr)\n",
    "    \n",
    "    for x in arr:\n",
    "        count[x]+=1\n",
    "        \n",
    "    for i in range(1,k):\n",
    "        count[i]+=count[i-1]\n",
    "        \n",
    "    for x in reversed(arr):\n",
    "        output[count[x]-1]=x\n",
    "        count[x]-=1\n",
    "        \n",
    "    for i in range(len(arr)):\n",
    "        arr[i] = output[i]\n",
    "        \n",
    "    return arr\n",
    "        \n",
    "arr = [1,4,4,1,0,1]\n",
    "k = 5\n",
    "print(counting(arr,k))"
   ]
  },
  {
   "cell_type": "code",
   "execution_count": null,
   "id": "b8b14a6c",
   "metadata": {},
   "outputs": [],
   "source": []
  }
 ],
 "metadata": {
  "kernelspec": {
   "display_name": "Python 3 (ipykernel)",
   "language": "python",
   "name": "python3"
  },
  "language_info": {
   "codemirror_mode": {
    "name": "ipython",
    "version": 3
   },
   "file_extension": ".py",
   "mimetype": "text/x-python",
   "name": "python",
   "nbconvert_exporter": "python",
   "pygments_lexer": "ipython3",
   "version": "3.9.13"
  }
 },
 "nbformat": 4,
 "nbformat_minor": 5
}
