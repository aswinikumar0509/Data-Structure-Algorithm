{
 "cells": [
  {
   "cell_type": "markdown",
   "id": "92a47608",
   "metadata": {},
   "source": [
    "List Introduction and Working of the List in python"
   ]
  },
  {
   "cell_type": "code",
   "execution_count": 1,
   "id": "5615216b",
   "metadata": {},
   "outputs": [
    {
     "name": "stdout",
     "output_type": "stream",
     "text": [
      "['Geeks', 'for', 'Geeks']\n"
     ]
    }
   ],
   "source": [
    "var = [\"Geeks\",\"for\" , \"Geeks\"]\n",
    "print(var)"
   ]
  },
  {
   "cell_type": "code",
   "execution_count": 2,
   "id": "9c0141cd",
   "metadata": {},
   "outputs": [
    {
     "data": {
      "text/plain": [
       "5.75"
      ]
     },
     "execution_count": 2,
     "metadata": {},
     "output_type": "execute_result"
    }
   ],
   "source": [
    "## Average of the element\n",
    "\n",
    "def average_of_list(arr):\n",
    "    return sum(arr)/len(arr)\n",
    "\n",
    "arr = [4,5,1,2,9,7,10,8]\n",
    "average_of_list(arr)"
   ]
  },
  {
   "cell_type": "code",
   "execution_count": 3,
   "id": "7376be49",
   "metadata": {},
   "outputs": [
    {
     "data": {
      "text/plain": [
       "'Even number [2, 4, 6, 8] odd number [1, 3, 5, 7, 9]'"
      ]
     },
     "execution_count": 3,
     "metadata": {},
     "output_type": "execute_result"
    }
   ],
   "source": [
    "## Seperating even and odd number\n",
    "\n",
    "def even_odd(arr):\n",
    "    \n",
    "    even = []\n",
    "    odd = []\n",
    "    \n",
    "    for i in arr:\n",
    "        if i%2==0:\n",
    "            even.append(i)\n",
    "        else:\n",
    "            odd.append(i)\n",
    "            \n",
    "    return f\"Even number {even} odd number {odd}\"\n",
    "\n",
    "arr = [1,2,3,4,5,6,7,8,9]\n",
    "even_odd(arr)"
   ]
  },
  {
   "cell_type": "code",
   "execution_count": 4,
   "id": "154c282c",
   "metadata": {},
   "outputs": [
    {
     "data": {
      "text/plain": [
       "[2, 4, 6]"
      ]
     },
     "execution_count": 4,
     "metadata": {},
     "output_type": "execute_result"
    }
   ],
   "source": [
    "## Geting the smaller number in the array\n",
    "\n",
    "def small_element(arr,ele):\n",
    "    lst = []\n",
    "    for i in arr:\n",
    "        if i<ele:\n",
    "            lst.append(i)\n",
    "    return lst\n",
    "arr = [2,4,6,8,10]\n",
    "ele = 8\n",
    "small_element(arr,ele)"
   ]
  },
  {
   "cell_type": "code",
   "execution_count": 5,
   "id": "69542cb1",
   "metadata": {},
   "outputs": [
    {
     "data": {
      "text/plain": [
       "99"
      ]
     },
     "execution_count": 5,
     "metadata": {},
     "output_type": "execute_result"
    }
   ],
   "source": [
    "## Largest element in the list\n",
    "\n",
    "def largest_element(l):\n",
    "    if not l:\n",
    "        return None\n",
    "    else:\n",
    "        res = l[0]\n",
    "        for i in range(1,len(l)):\n",
    "            if l[i]>res:\n",
    "                res = l[i]\n",
    "        return res\n",
    "    \n",
    "list1 = [10, 20, 4, 45, 99]\n",
    "largest_element(list1)"
   ]
  },
  {
   "cell_type": "code",
   "execution_count": 7,
   "id": "642afecc",
   "metadata": {},
   "outputs": [
    {
     "data": {
      "text/plain": [
       "20"
      ]
     },
     "execution_count": 7,
     "metadata": {},
     "output_type": "execute_result"
    }
   ],
   "source": [
    "## Second Largest element in the list\n",
    "# Naive solution\n",
    "\n",
    "def lar_element(lst):\n",
    "    res = lst[0]\n",
    "    for i in range(1,len(lst)):\n",
    "        res = max(res,lst[i])\n",
    "        return res\n",
    "    \n",
    "    \n",
    "    \n",
    "def second_lar_element(lst):\n",
    "    \n",
    "    if len(lst)<=1:\n",
    "        return None\n",
    "    lar = lar_element(lst)\n",
    "    slar = None\n",
    "    \n",
    "    for i in lst:\n",
    "        if i!=lar:\n",
    "            if slar==None:\n",
    "                slar=i\n",
    "            else:\n",
    "                slar = max(slar,i)\n",
    "    return slar\n",
    "    \n",
    "list1 = [10, 20, 4, 45, 99]\n",
    "lar_element(list1)"
   ]
  },
  {
   "cell_type": "code",
   "execution_count": null,
   "id": "b39130c5",
   "metadata": {},
   "outputs": [],
   "source": []
  },
  {
   "cell_type": "code",
   "execution_count": null,
   "id": "9db59fc8",
   "metadata": {},
   "outputs": [],
   "source": []
  },
  {
   "cell_type": "code",
   "execution_count": null,
   "id": "4e52d2e2",
   "metadata": {},
   "outputs": [],
   "source": []
  },
  {
   "cell_type": "code",
   "execution_count": null,
   "id": "bfd6eee5",
   "metadata": {},
   "outputs": [],
   "source": []
  }
 ],
 "metadata": {
  "kernelspec": {
   "display_name": "Python 3 (ipykernel)",
   "language": "python",
   "name": "python3"
  },
  "language_info": {
   "codemirror_mode": {
    "name": "ipython",
    "version": 3
   },
   "file_extension": ".py",
   "mimetype": "text/x-python",
   "name": "python",
   "nbconvert_exporter": "python",
   "pygments_lexer": "ipython3",
   "version": "3.9.13"
  }
 },
 "nbformat": 4,
 "nbformat_minor": 5
}
