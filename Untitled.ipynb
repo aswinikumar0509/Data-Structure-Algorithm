{
 "cells": [
  {
   "cell_type": "code",
   "execution_count": 2,
   "id": "55ad2e3c",
   "metadata": {},
   "outputs": [
    {
     "name": "stdout",
     "output_type": "stream",
     "text": [
      "10 20 30 40 45 35 25 15 27 29 37 48 50 39 33 32 "
     ]
    }
   ],
   "source": [
    "m = 4\n",
    "n = 4\n",
    "\n",
    "def printf(mat):\n",
    "    global m , n\n",
    "    \n",
    "    for i in range(m):\n",
    "        if i%2==0:\n",
    "            for j in range(n):\n",
    "                print(str(mat[i][j]), end = \" \")\n",
    "        else:\n",
    "            for j in range(n-1,-1,-1):\n",
    "                print(str(mat[i][j]), end = \" \")\n",
    "                \n",
    "                \n",
    "mat = [[10,20,30,40],\n",
    "      [15,25,35,45],\n",
    "      [27,29,37,48],\n",
    "      [32,33,39,50]]\n",
    "\n",
    "printf(mat)"
   ]
  },
  {
   "cell_type": "code",
   "execution_count": 6,
   "id": "2a1e4879",
   "metadata": {},
   "outputs": [
    {
     "name": "stdout",
     "output_type": "stream",
     "text": [
      "1\n",
      "2\n",
      "3\n",
      "4\n",
      "5\n",
      "8\n",
      "1\n",
      "4\n",
      "5\n",
      "6\n",
      "7\n",
      "8\n"
     ]
    }
   ],
   "source": [
    "### Printing the bounday of the matrix\n",
    "\n",
    "max = 100\n",
    "\n",
    "def printBoundary(a,m,n):\n",
    "    for i in range(m):\n",
    "        for j in range(n):\n",
    "            if(i==0):\n",
    "                print(a[i][j])\n",
    "            elif(i==m-1):\n",
    "                print(a[i][j])\n",
    "            elif(j==0):\n",
    "                print(a[i][j])\n",
    "            elif(j==n-1):\n",
    "                print(a[i][j])\n",
    "\n",
    "a = [[1, 2, 3, 4], [5, 6, 7, 8],[1, 2, 3, 4], [5, 6, 7, 8]]\n",
    "printBoundary(a,4,4)"
   ]
  },
  {
   "cell_type": "code",
   "execution_count": 8,
   "id": "5ec11932",
   "metadata": {},
   "outputs": [
    {
     "name": "stdout",
     "output_type": "stream",
     "text": [
      " Matrix Transpose\n",
      "0 0 0 0 \n",
      "0 0 0 0 \n",
      "0 0 0 0 \n",
      "0 0 0 0 \n"
     ]
    }
   ],
   "source": [
    "## Transpose of the matrix\n",
    "\n",
    "def transpose(a,b):\n",
    "    for i in range(n):\n",
    "        for j in range(n):\n",
    "            b[i][j]=a[j][i]\n",
    "            \n",
    "            \n",
    "a = [[1,2,3,4],\n",
    "    [5,6,7,8],\n",
    "    [9,10,11,12],\n",
    "    [13,14,15,16]]\n",
    "\n",
    "b = [[0 for i in range(n)] for j in range(n)]\n",
    "\n",
    "print(\" Matrix Transpose\")\n",
    "for i in range(n):\n",
    "    for j in range(n):\n",
    "        print(b[i][j],end = \" \")\n",
    "    print()\n",
    "\n",
    "transpose(a,b)"
   ]
  },
  {
   "cell_type": "code",
   "execution_count": 12,
   "id": "b19a2103",
   "metadata": {},
   "outputs": [
    {
     "name": "stdout",
     "output_type": "stream",
     "text": [
      "Original matrix:\n",
      "123\n",
      "456\n",
      "789\n",
      "Rotated matrix:\n",
      "149\n",
      "258\n",
      "146\n"
     ]
    }
   ],
   "source": [
    "def rotate_matrix(matrix):\n",
    "    n = len(matrix)\n",
    "    \n",
    "    for i in range(n):\n",
    "        for j in range(i,n):\n",
    "            matrix[i][j],matrix[j][i] = matrix[j][i],matrix[i][j]\n",
    "    for i in range(n):\n",
    "        for j,k in zip(range(n//2),range(n-1,n//2-1,-1)):\n",
    "            matrix[j][k],matrix[k][i] = matrix[k][i],matrix[j][i]\n",
    "            \n",
    "    \n",
    "def print_matrix(matrix):\n",
    "    for row in matrix:\n",
    "        print(''.join(str(elem) for elem in row))\n",
    "\n",
    " \n",
    "matrix = [[1, 2, 3], [4, 5, 6], [7, 8, 9]]\n",
    "print(\"Original matrix:\")\n",
    "print_matrix(matrix)\n",
    "rotate_matrix(matrix)\n",
    "print(\"Rotated matrix:\")\n",
    "print_matrix(matrix)\n",
    "    "
   ]
  },
  {
   "cell_type": "code",
   "execution_count": 15,
   "id": "2adf5fab",
   "metadata": {},
   "outputs": [
    {
     "name": "stdout",
     "output_type": "stream",
     "text": [
      "1 2 3 4 8 12 16 15 14 13 9 5 6 7 11 10 "
     ]
    }
   ],
   "source": [
    "### Spiral of the matrix\n",
    "\n",
    "def spiralPrint(m,n,a):\n",
    "    k = 0\n",
    "    l = 0\n",
    "    \n",
    "    while(k<m and l<n):\n",
    "        \n",
    "        for i in range(l,n):\n",
    "            print(a[k][i],end=\" \")\n",
    "            \n",
    "        k+=1\n",
    "        \n",
    "        for i in range(k,m):\n",
    "            print(a[i][n-1],end = \" \")\n",
    "            \n",
    "        n-=1\n",
    "        \n",
    "        if(k<m):\n",
    "            \n",
    "            for i in range(n-1,(l-1),-1):\n",
    "                print(a[m-1][i],end=\" \")\n",
    "                \n",
    "            m-=1\n",
    "            \n",
    "        if(l<n):\n",
    "            for i in range(m-1,k-1,-1):\n",
    "                print(a[i][l],end = \" \")\n",
    "                \n",
    "            l+=1\n",
    "            \n",
    "a = [[1,2,3,4],\n",
    "    [5,6,7,8],\n",
    "    [9,10,11,12],\n",
    "    [13,14,15,16]]\n",
    "\n",
    "spiralPrint(4,4,a)\n"
   ]
  },
  {
   "cell_type": "code",
   "execution_count": null,
   "id": "caa9a079",
   "metadata": {},
   "outputs": [],
   "source": []
  }
 ],
 "metadata": {
  "kernelspec": {
   "display_name": "Python 3 (ipykernel)",
   "language": "python",
   "name": "python3"
  },
  "language_info": {
   "codemirror_mode": {
    "name": "ipython",
    "version": 3
   },
   "file_extension": ".py",
   "mimetype": "text/x-python",
   "name": "python",
   "nbconvert_exporter": "python",
   "pygments_lexer": "ipython3",
   "version": "3.9.13"
  }
 },
 "nbformat": 4,
 "nbformat_minor": 5
}
