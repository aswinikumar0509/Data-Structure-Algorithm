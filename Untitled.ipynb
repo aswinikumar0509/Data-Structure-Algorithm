{
 "cells": [
  {
   "cell_type": "code",
   "execution_count": 1,
   "id": "5d4351f7",
   "metadata": {},
   "outputs": [
    {
     "name": "stdout",
     "output_type": "stream",
     "text": [
      "1\n"
     ]
    }
   ],
   "source": [
    "## Finding the k smallest number\n",
    "\n",
    "# Method 1\n",
    "\n",
    "# def kSmallest(arr,k):\n",
    "#     arr.sort()\n",
    "#     return arr[k-1]\n",
    "\n",
    "# Method 2\n",
    "\n",
    "def lomutoPartition(arr,l,h):\n",
    "    pivot = arr[h]\n",
    "    i = l-1\n",
    "    for j in range(l,h):\n",
    "        if arr[j]<pivot:\n",
    "            i = i+1\n",
    "            arr[i],arr[j] = arr[j],arr[i]\n",
    "    arr[i+1],arr[h] = arr[h],arr[i+1]\n",
    "    \n",
    "    return i+1\n",
    "\n",
    "def kSmallest(arr,k):\n",
    "    l=0\n",
    "    r = len(arr)-1\n",
    "    while l<=r:\n",
    "        p = lomutoPartition(arr,l,r)\n",
    "        if p==k-1:\n",
    "            return p\n",
    "        elif p>k-1:\n",
    "            r = p-1\n",
    "        else:\n",
    "            l = p+1\n",
    "    return -1\n",
    "\n",
    "arr = [3,2,5,4,7,7,1]\n",
    "k=2\n",
    "print(kSmallest(arr,k))"
   ]
  },
  {
   "cell_type": "code",
   "execution_count": 2,
   "id": "b11a23e1",
   "metadata": {},
   "outputs": [
    {
     "name": "stdout",
     "output_type": "stream",
     "text": [
      "3\n"
     ]
    }
   ],
   "source": [
    "## Minimum difference in the array\n",
    "\n",
    "# Methods 1\n",
    "\n",
    "# def min_diff(arr):\n",
    "#     res = float('inf')\n",
    "#     for i in range(1,len(arr)):\n",
    "#         for j in range(i):\n",
    "#             res = min(res,abs(arr[i]-arr[j]))\n",
    "#     return res\n",
    "            \n",
    "\n",
    "# Method 2\n",
    "\n",
    "def min_diff(arr):\n",
    "    res = float('inf')\n",
    "    arr.sort()\n",
    "    for i in range(1,len(arr)):\n",
    "        res = min(res,(arr[i]-arr[i-1]))\n",
    "    return res\n",
    "arr = [1,8,12,5,18]\n",
    "print(min_diff(arr))"
   ]
  },
  {
   "cell_type": "code",
   "execution_count": 3,
   "id": "6f468577",
   "metadata": {},
   "outputs": [
    {
     "data": {
      "text/plain": [
       "2"
      ]
     },
     "execution_count": 3,
     "metadata": {},
     "output_type": "execute_result"
    }
   ],
   "source": [
    "## Chocolate distribution problem\n",
    "\n",
    "def minDiff(arr,m):\n",
    "    if(m==0 or len(arr)==0):\n",
    "        return 0\n",
    "    if (len(arr)<m):\n",
    "        return -1\n",
    "    \n",
    "    arr.sort()\n",
    "    res = arr[m-1]-arr[0]\n",
    "    for i in range(1,len(arr)-m+1):\n",
    "        res = min(res,arr[i+m-1]-arr[i])\n",
    "    return res\n",
    "\n",
    "arr = [7,3,2,4,9,12,56]\n",
    "m=3\n",
    "minDiff(arr,m)"
   ]
  },
  {
   "cell_type": "code",
   "execution_count": 4,
   "id": "611e07c3",
   "metadata": {},
   "outputs": [
    {
     "name": "stdout",
     "output_type": "stream",
     "text": [
      "None\n"
     ]
    }
   ],
   "source": [
    "## Sort an Array woth two type\n",
    "\n",
    "def sort(arr):\n",
    "    n = len(arr)\n",
    "    temp = [0]*n\n",
    "    i=0\n",
    "    for j in range(0,n):\n",
    "        if arr[j]<0:\n",
    "            temp[i] = temp[j]\n",
    "            i+=1\n",
    "    for j in range(0,n):\n",
    "        if arr[j]>=0:\n",
    "            temp[i]=arr[j]\n",
    "            i+=1\n",
    "    arr[:] = temp\n",
    "    \n",
    "arr = [0,1,1,1,0]\n",
    "print(sort(arr))"
   ]
  },
  {
   "cell_type": "code",
   "execution_count": 5,
   "id": "f6115878",
   "metadata": {},
   "outputs": [
    {
     "name": "stdout",
     "output_type": "stream",
     "text": [
      "[2, 15] [18, 30] "
     ]
    }
   ],
   "source": [
    "## Merge overlapping interval\n",
    "\n",
    "def mergeInterval(arr):\n",
    "    \n",
    "    arr.sort(key = lambda x:x[0])\n",
    "    res = 0\n",
    "    for i in range(1,len(arr)):\n",
    "        if(arr[res][1] >= arr[i][0]):\n",
    "            arr[res][1] = max(arr[res][1],arr[i][1])\n",
    "        else:\n",
    "            res+=1\n",
    "            arr[res] = arr[i]\n",
    "            \n",
    "    for i in range(res+1):\n",
    "        print(arr[i],end=\" \")\n",
    "        \n",
    "\n",
    "arr = [[5,10],[3,15],[18,30],[2,7]]\n",
    "mergeInterval(arr)\n",
    "    "
   ]
  },
  {
   "cell_type": "code",
   "execution_count": null,
   "id": "1751fc0c",
   "metadata": {},
   "outputs": [],
   "source": [
    "def maxGuest(arr,dep):\n",
    "    \n",
    "    arr.sort()\n",
    "    dep.sort()\n",
    "    "
   ]
  },
  {
   "cell_type": "code",
   "execution_count": 8,
   "id": "35ba2f80",
   "metadata": {},
   "outputs": [
    {
     "name": "stdout",
     "output_type": "stream",
     "text": [
      "[0, 1, 1, 1, 4, 4]\n"
     ]
    }
   ],
   "source": [
    "## Counting Sort Algorithm\n",
    "\n",
    "def counting(arr,k):\n",
    "    count = [0]*k\n",
    "    output = [0]*len(arr)\n",
    "    \n",
    "    for x in arr:\n",
    "        count[x]+=1\n",
    "        \n",
    "    for i in range(1,k):\n",
    "        count[i]+=count[i-1]\n",
    "        \n",
    "    for x in reversed(arr):\n",
    "        output[count[x]-1]=x\n",
    "        count[x]-=1\n",
    "        \n",
    "    for i in range(len(arr)):\n",
    "        arr[i] = output[i]\n",
    "        \n",
    "    return arr\n",
    "        \n",
    "arr = [1,4,4,1,0,1]\n",
    "k = 5\n",
    "print(counting(arr,k))"
   ]
  },
  {
   "cell_type": "code",
   "execution_count": 7,
   "id": "b8b14a6c",
   "metadata": {},
   "outputs": [
    {
     "name": "stdout",
     "output_type": "stream",
     "text": [
      "[1, 12, 20, 21, 50]\n"
     ]
    }
   ],
   "source": [
    "## Bubble sort\n",
    "\n",
    "def bubblesort(l):\n",
    "    \n",
    "    n = len(arr)\n",
    "#     print(n)\n",
    "    for i in range(n-1):\n",
    "#         print(i)\n",
    "        for j in range(n-i-1):\n",
    "#             print(j)\n",
    "            if l[j] > l[j+1]:\n",
    "                l[j],l[j+1] = l[j+1],l[j]\n",
    "            \n",
    "arr = [20,50,1,21,12]\n",
    "bubblesort(arr)\n",
    "print(arr)"
   ]
  },
  {
   "cell_type": "code",
   "execution_count": 14,
   "id": "aa98124f",
   "metadata": {},
   "outputs": [
    {
     "name": "stdout",
     "output_type": "stream",
     "text": [
      "[2, 5, 8, 10, 18, 20]\n"
     ]
    }
   ],
   "source": [
    "## Selection Sort\n",
    "\n",
    "def selctionSort(arr):\n",
    "    n = len(arr)\n",
    "    \n",
    "    for i in range(n-1):\n",
    "        min_ind = i\n",
    "#         print(min_ind)\n",
    "        for j in range(i+1,n):\n",
    "            if arr[j]<arr[min_ind]:\n",
    "                min_ind = j\n",
    "            \n",
    "        arr[min_ind],arr[i] = arr[i] , arr[min_ind]\n",
    "            \n",
    "    \n",
    "arr = [10, 5, 8, 20, 2, 18]\n",
    "\n",
    "selctionSort(arr)\n",
    "print(arr)"
   ]
  },
  {
   "cell_type": "code",
   "execution_count": 17,
   "id": "c1f6de73",
   "metadata": {},
   "outputs": [
    {
     "name": "stdout",
     "output_type": "stream",
     "text": [
      "20 20 20 40 40 60\n"
     ]
    }
   ],
   "source": [
    "## Insertation Sort\n",
    "\n",
    "def insertationSort(arr):\n",
    "    \n",
    "    for i in range(1,len(arr)):\n",
    "        x = arr[i]\n",
    "        j = i-1\n",
    "        \n",
    "        while j>=0 and x<arr[j]:\n",
    "            arr[j+1] =  arr[j]\n",
    "            j = j-1\n",
    "            \n",
    "        l[j+1]=x\n",
    "        \n",
    "arr = [20,5,40,60,10,30]\n",
    "insertationSort(arr)\n",
    "print(*arr)"
   ]
  },
  {
   "cell_type": "code",
   "execution_count": 6,
   "id": "32b2ea46",
   "metadata": {},
   "outputs": [
    {
     "name": "stdout",
     "output_type": "stream",
     "text": [
      "6 2 8 3 5 10 5 20 1 4\n"
     ]
    }
   ],
   "source": [
    "## Merging tow sorted array\n",
    "\n",
    "def mergeSortedarray(a,b):\n",
    "    \n",
    "    res = []\n",
    "    \n",
    "    m = len(a)\n",
    "    n = len(b)\n",
    "    \n",
    "    i=j=0\n",
    "    \n",
    "    while i<m and j<n:\n",
    "        if a[i]<b[j]:\n",
    "            res.append(a[i])\n",
    "            i+=1\n",
    "        else:\n",
    "            res.append(b[j])\n",
    "            j+=1\n",
    "            \n",
    "            \n",
    "    while i<m:\n",
    "        res.append(a[i])\n",
    "        i+=1\n",
    "    while j<n:\n",
    "        res.append(b[j])\n",
    "        j+=1\n",
    "        \n",
    "    return res\n",
    "\n",
    "a = [10,5,20,1,4]\n",
    "b = [6,2,8,3,5]\n",
    "print(*mergeSortedarray(a,b))"
   ]
  },
  {
   "cell_type": "code",
   "execution_count": 8,
   "id": "90efd6a3",
   "metadata": {},
   "outputs": [
    {
     "name": "stdout",
     "output_type": "stream",
     "text": [
      "8 10 11 15 20 40 55\n"
     ]
    }
   ],
   "source": [
    "## Merge the subarray:\n",
    "\n",
    "def mergeArray(a,low,mid,high):\n",
    "    left = a[low:mid+1]\n",
    "    right = a[mid+1:high]\n",
    "    \n",
    "    i=j=0\n",
    "    k = low\n",
    "    \n",
    "    while i<len(left) and j<len(right):\n",
    "        if(left[i]<right[j]):\n",
    "            a[k] = left[i]\n",
    "            i+=1\n",
    "            k+=1\n",
    "        else:\n",
    "            a[k] = right[j]\n",
    "            j+=1\n",
    "            k+=1\n",
    "            \n",
    "    while i<len(left):\n",
    "        a[k] = left[i]\n",
    "        i+=1\n",
    "        k+=1\n",
    "    \n",
    "    while j<len(right):\n",
    "        a[k] = right[j]\n",
    "        j+=1\n",
    "        k+=1\n",
    "        \n",
    "a = [10,15,20,40,8,11,55]\n",
    "mergeArray(a,0,3,6)\n",
    "print(*a)"
   ]
  },
  {
   "cell_type": "code",
   "execution_count": 9,
   "id": "4f1d1e99",
   "metadata": {},
   "outputs": [
    {
     "ename": "NameError",
     "evalue": "name 'c' is not defined",
     "output_type": "error",
     "traceback": [
      "\u001b[1;31m---------------------------------------------------------------------------\u001b[0m",
      "\u001b[1;31mNameError\u001b[0m                                 Traceback (most recent call last)",
      "\u001b[1;32m~\\AppData\\Local\\Temp\\ipykernel_23592\\2001823341.py\u001b[0m in \u001b[0;36m<module>\u001b[1;34m\u001b[0m\n\u001b[1;32m----> 1\u001b[1;33m \u001b[1;33m(\u001b[0m\u001b[0mm\u001b[0m\u001b[1;33m,\u001b[0m \u001b[0mn\u001b[0m\u001b[1;33m,\u001b[0m \u001b[0mo\u001b[0m\u001b[1;33m)\u001b[0m \u001b[1;33m=\u001b[0m \u001b[1;33m(\u001b[0m\u001b[0mlen\u001b[0m\u001b[1;33m(\u001b[0m\u001b[0ma\u001b[0m\u001b[1;33m)\u001b[0m\u001b[1;33m,\u001b[0m \u001b[0mlen\u001b[0m\u001b[1;33m(\u001b[0m\u001b[0mb\u001b[0m\u001b[1;33m)\u001b[0m\u001b[1;33m,\u001b[0m \u001b[0mlen\u001b[0m\u001b[1;33m(\u001b[0m\u001b[0mc\u001b[0m\u001b[1;33m)\u001b[0m\u001b[1;33m)\u001b[0m\u001b[1;33m\u001b[0m\u001b[1;33m\u001b[0m\u001b[0m\n\u001b[0m\u001b[0;32m      2\u001b[0m \u001b[0mi\u001b[0m \u001b[1;33m=\u001b[0m \u001b[0mj\u001b[0m \u001b[1;33m=\u001b[0m \u001b[0mk\u001b[0m \u001b[1;33m=\u001b[0m \u001b[1;36m0\u001b[0m\u001b[1;33m\u001b[0m\u001b[1;33m\u001b[0m\u001b[0m\n\u001b[0;32m      3\u001b[0m \u001b[1;33m\u001b[0m\u001b[0m\n\u001b[0;32m      4\u001b[0m \u001b[1;31m# Destination array\u001b[0m\u001b[1;33m\u001b[0m\u001b[1;33m\u001b[0m\u001b[0m\n\u001b[0;32m      5\u001b[0m \u001b[0md\u001b[0m \u001b[1;33m=\u001b[0m \u001b[1;33m[\u001b[0m\u001b[1;33m]\u001b[0m\u001b[1;33m\u001b[0m\u001b[1;33m\u001b[0m\u001b[0m\n",
      "\u001b[1;31mNameError\u001b[0m: name 'c' is not defined"
     ]
    }
   ],
   "source": [
    "    (m, n, o) = (len(a), len(b), len(c))\n",
    "    i = j = k = 0\n",
    " \n",
    "    # Destination array\n",
    "    d = []\n",
    " \n",
    "    while i < m and j < n and k < o:\n",
    " \n",
    "        # Get Minimum element\n",
    "        mini = min(a[i], b[j], c[k])\n",
    " \n",
    "        # Add m to D\n",
    "        d.append(mini)\n",
    " \n",
    "        # Increment the source pointer which\n",
    "        # gives m\n",
    "        if a[i] == mini:\n",
    "            i += 1\n",
    "        elif b[j] == mini:\n",
    "            j += 1\n",
    "        elif c[k] == mini:\n",
    "            k += 1\n",
    " \n",
    "    # Merge a and b if c has exhausted\n",
    "    while i < m and j < n:\n",
    "        if a[i] <= b[j]:\n",
    "            d.append(a[i])\n",
    "            i += 1\n",
    "        else:\n",
    "            d.append(b[j])\n",
    "            j += 1\n",
    " \n",
    "    # Merge b and c if a has exhausted\n",
    "    while j < n and k < o:\n",
    "        if b[j] <= c[k]:\n",
    "            d.append(b[j])\n",
    "            j += 1\n",
    "        else:\n",
    "            d.append(c[k])\n",
    "            k += 1\n",
    " \n",
    "    # Merge a and c if b has exhausted\n",
    "    while i < m and k < o:\n",
    "        if a[i] <= c[k]:\n",
    "            d.append(a[i])\n",
    "            i += 1\n",
    "        else:\n",
    "            d.append(c[k])\n",
    "            k += 1\n",
    " \n",
    "    # Take elements from a if b and c\n",
    "    # have exhausted\n",
    "    while i < m:\n",
    "        d.append(a[i])\n",
    "        i += 1\n",
    " \n",
    "    # Take elements from b if a and c\n",
    "    # have exhausted\n",
    "    while j < n:\n",
    "        d.append(b[j])\n",
    "        j += 1\n",
    " \n",
    "    # Take elements from c if a and\n",
    "    # b have exhausted\n",
    "    while k < o:\n",
    "        d.append(c[k])\n",
    "        k += 1\n",
    " \n",
    "    return d"
   ]
  },
  {
   "cell_type": "code",
   "execution_count": 12,
   "id": "48320e15",
   "metadata": {},
   "outputs": [
    {
     "name": "stdout",
     "output_type": "stream",
     "text": [
      "Total number of triangles possible is 6\n"
     ]
    }
   ],
   "source": [
    "## Count the number of possible traingle from the array\n",
    "\n",
    "def countTraingle(arr,n):\n",
    "    \n",
    "    count = 0\n",
    "    \n",
    "    for i in range(n):\n",
    "        for j in range(i+1,n):\n",
    "            for k in range(j+1,n):\n",
    "                if(arr[i]+arr[j]>arr[k] and \n",
    "                   arr[i]+arr[k]>j and \n",
    "                   arr[j]+arr[k]>arr[i]):\n",
    "                    count+=1\n",
    "    return count\n",
    "\n",
    "arr = [10, 21, 22, 100, 101, 200, 300]\n",
    "size = len(arr)\n",
    "print(\"Total number of triangles possible is\",countTraingle(arr, size))"
   ]
  },
  {
   "cell_type": "code",
   "execution_count": 7,
   "id": "9e0b03c7",
   "metadata": {},
   "outputs": [
    {
     "data": {
      "text/plain": [
       "[5, 9, 10, 3, 2]"
      ]
     },
     "execution_count": 7,
     "metadata": {},
     "output_type": "execute_result"
    }
   ],
   "source": [
    "def sortarray(a,n,k):\n",
    "    m = {}\n",
    "    \n",
    "    for i in range(n):\n",
    "        m[arr[i]] = abs(k-arr[i])\n",
    "        \n",
    "    m = {x: v for x ,v in sorted(m.items(),key = lambda item:item[1])}\n",
    "    \n",
    "    i = 0\n",
    "    \n",
    "    for it in m.keys():\n",
    "        a[i] = it\n",
    "        i+=1\n",
    "        \n",
    "    return a\n",
    "arr = [10,5,3,9,2]\n",
    "n = len(arr)\n",
    "k = 7\n",
    "sortarray(arr,n,k)"
   ]
  },
  {
   "cell_type": "code",
   "execution_count": 10,
   "id": "921d9b25",
   "metadata": {},
   "outputs": [
    {
     "name": "stdout",
     "output_type": "stream",
     "text": [
      "1-> 2-> 3-> 6<- 5<- 4<- 7-> 8-> 9-> "
     ]
    }
   ],
   "source": [
    "## Printing the snakes in the matrix\n",
    "\n",
    "def snakmatrix(mat,m,n):\n",
    "    \n",
    "    for i in range(m):\n",
    "        if i%2==0:\n",
    "            for j in range(n):\n",
    "                print(mat[i][j], end=\"-> \")\n",
    "        else:\n",
    "            for j in range(n-1,-1,-1):\n",
    "                print(mat[i][j] , end = \"<- \")\n",
    "                \n",
    "mat = [[1,2,3],[4,5,6],[7,8,9]]\n",
    "m = 3\n",
    "n = 3\n",
    "snakmatrix(mat,m,n)"
   ]
  },
  {
   "cell_type": "code",
   "execution_count": 34,
   "id": "10d34788",
   "metadata": {},
   "outputs": [
    {
     "name": "stdout",
     "output_type": "stream",
     "text": [
      "1\n",
      "2\n",
      "3\n",
      "2\n",
      "7\n",
      "8\n",
      "9\n"
     ]
    }
   ],
   "source": [
    "## Printing the bounday of the matrix\n",
    "\n",
    "def boundarymatrix(mat,m,n):\n",
    "    \n",
    "    for i in range(m):\n",
    "        for j in range(n):\n",
    "            if i==0:\n",
    "                print(mat[i][j]),\n",
    "            elif i==m-1:\n",
    "                print(mat[i][j])\n",
    "            elif j==0:\n",
    "                print(mat[j][i])\n",
    "            elif j==n-1:\n",
    "                print(mat[i][j]),\n",
    "            else:\n",
    "                print(\" \")\n",
    "        print()\n",
    "                \n",
    "                \n",
    "                \n",
    "mat = [[1,2,3],[4,5,6],[7,8,9]]\n",
    "m = 3\n",
    "n = 3\n",
    "boundarymatrix(mat,m,n)\n",
    "            "
   ]
  },
  {
   "cell_type": "code",
   "execution_count": null,
   "id": "ca857698",
   "metadata": {},
   "outputs": [],
   "source": []
  }
 ],
 "metadata": {
  "kernelspec": {
   "display_name": "Python 3 (ipykernel)",
   "language": "python",
   "name": "python3"
  },
  "language_info": {
   "codemirror_mode": {
    "name": "ipython",
    "version": 3
   },
   "file_extension": ".py",
   "mimetype": "text/x-python",
   "name": "python",
   "nbconvert_exporter": "python",
   "pygments_lexer": "ipython3",
   "version": "3.9.13"
  }
 },
 "nbformat": 4,
 "nbformat_minor": 5
}
