{
 "cells": [
  {
   "cell_type": "code",
   "execution_count": 1,
   "id": "9e5fad1b",
   "metadata": {},
   "outputs": [],
   "source": [
    "## implementation of the chaning in python"
   ]
  },
  {
   "cell_type": "code",
   "execution_count": 2,
   "id": "fbca6d5e",
   "metadata": {},
   "outputs": [
    {
     "name": "stdout",
     "output_type": "stream",
     "text": [
      "True\n"
     ]
    },
    {
     "data": {
      "text/plain": [
       "[[7], [8], [], [3], [], [5], [6]]"
      ]
     },
     "execution_count": 2,
     "metadata": {},
     "output_type": "execute_result"
    }
   ],
   "source": [
    "class myhash:\n",
    "    \n",
    "    def __init__(self,b):\n",
    "        self.bucket = b\n",
    "        self.table = [[] for x in range(b)]\n",
    "        \n",
    "    def insert(self,x):\n",
    "        i = x%self.bucket\n",
    "        self.table[i].append(x)\n",
    "        \n",
    "    def search(self,x):\n",
    "        i = x%self.bucket\n",
    "        return x in self.table[i]\n",
    "    \n",
    "    def remove(self,x):\n",
    "        i = x%self.bucket\n",
    "        if x in self.table[i]:\n",
    "            self.table[i].remove(x)\n",
    "            \n",
    "    def display(self):\n",
    "        return self.table\n",
    "    \n",
    "    \n",
    "h = myhash(7)\n",
    "\n",
    "h.insert(5)\n",
    "h.insert(6)\n",
    "h.insert(7)\n",
    "h.insert(8)\n",
    "h.insert(2)\n",
    "h.insert(3)\n",
    "\n",
    "#h.search(1)\n",
    "\n",
    "print(h.search(3))\n",
    "\n",
    "#print(h.display())\n",
    "\n",
    "h.remove(2)\n",
    "\n",
    "h.display()\n",
    "            \n",
    "    "
   ]
  },
  {
   "cell_type": "code",
   "execution_count": 3,
   "id": "df52fce6",
   "metadata": {},
   "outputs": [
    {
     "name": "stdout",
     "output_type": "stream",
     "text": [
      "Intersection Point in a and b 0 0 0 0 0 0 0 0\n"
     ]
    }
   ],
   "source": [
    "##Intersection of two arr of length n and m\n",
    "\n",
    "def intersection(a,b,n,m):\n",
    "    i,j,k = 0,0,0\n",
    "    result  = [0 for i in range(n+m)]\n",
    "    while (i<n and j<m):\n",
    "        if (a[i]<b[j]):\n",
    "            i+=1\n",
    "        elif(a[i]>b[j]):\n",
    "            j+=1\n",
    "        else:\n",
    "            if(k!=0 and a[i]==result[k-1]):\n",
    "                i+=1\n",
    "                j+=1\n",
    "            else:\n",
    "                result[k]=a[i]\n",
    "                i+=1\n",
    "                j+=1\n",
    "                k+=1\n",
    "    print(\"Intersection Point in a and b\",*result)\n",
    "    \n",
    "a = [1,2,3,4]\n",
    "b = [5,2,4,6]\n",
    "n = len(a)\n",
    "m = len(b)\n",
    "intersection(a,b,n,m)"
   ]
  },
  {
   "cell_type": "code",
   "execution_count": 4,
   "id": "4e2a1b86",
   "metadata": {},
   "outputs": [
    {
     "name": "stdout",
     "output_type": "stream",
     "text": [
      "Intersection:\n"
     ]
    }
   ],
   "source": [
    "def intersection(a, b, n, m):\n",
    "    i, j, k = 0, 0, 0\n",
    "    result = [0 for _ in range(n + m)]\n",
    "    while i < n and j < m:\n",
    "        if a[i] < b[j]:\n",
    "            i += 1\n",
    "        elif a[i] > b[j]:\n",
    "            j += 1\n",
    "        else:\n",
    "            if k != 0 and a[i] == result[k - 1]:\n",
    "                i += 1\n",
    "                j += 1\n",
    "            else:\n",
    "                result[k] = a[i]\n",
    "                i += 1\n",
    "                j += 1\n",
    "                k += 1\n",
    "    print(\"Intersection:\", *result[:k])\n",
    "\n",
    "a = [1,2,3,4]\n",
    "b = [5,2,4,6]\n",
    "n = len(a)\n",
    "m = len(b)\n",
    "intersection(a,b,n,m)"
   ]
  },
  {
   "cell_type": "code",
   "execution_count": 5,
   "id": "3180b086",
   "metadata": {},
   "outputs": [
    {
     "data": {
      "text/plain": [
       "True"
      ]
     },
     "execution_count": 5,
     "metadata": {},
     "output_type": "execute_result"
    }
   ],
   "source": [
    "##Find if there is the subarray with zero sum\n",
    "# NaiveApproch\n",
    "def subarry_sum(arr):\n",
    "    n = len(arr)\n",
    "    for i in range(n):\n",
    "        for j in range(i+1,n+1):\n",
    "            if sum(arr[i:j])==0:\n",
    "                return True\n",
    "    return False\n",
    "\n",
    "arr = [4,2,-3,1,6]\n",
    "subarry_sum(arr)"
   ]
  },
  {
   "cell_type": "code",
   "execution_count": 6,
   "id": "2c173232",
   "metadata": {},
   "outputs": [
    {
     "data": {
      "text/plain": [
       "True"
      ]
     },
     "execution_count": 6,
     "metadata": {},
     "output_type": "execute_result"
    }
   ],
   "source": [
    "def subarray_sum(arr):\n",
    "    \n",
    "    pre_sum = 0\n",
    "    h = set()\n",
    "    \n",
    "    for i in range(len(arr)):\n",
    "        pre_sum+=arr[i]\n",
    "        if pre_sum==0 or pre_sum in h:\n",
    "            return True\n",
    "        h.add(pre_sum)\n",
    "    return False\n",
    "\n",
    "arr = [4,3,-2,1,1]\n",
    "subarray_sum(arr)"
   ]
  },
  {
   "cell_type": "code",
   "execution_count": 7,
   "id": "d1e7a54d",
   "metadata": {},
   "outputs": [
    {
     "data": {
      "text/plain": [
       "True"
      ]
     },
     "execution_count": 7,
     "metadata": {},
     "output_type": "execute_result"
    }
   ],
   "source": [
    "## Find the sum of the array in the given sum\n",
    "\n",
    "def issubsum(arr,sum):\n",
    "    s,curr = 0,0\n",
    "    for i in range(len(arr)):\n",
    "        curr+=arr[i]\n",
    "        while(sum>curr):\n",
    "            sum-=arr[s]\n",
    "            s+=1\n",
    "        if(curr==sum):\n",
    "            return True\n",
    "        \n",
    "    return False\n",
    "\n",
    "arr = [3,2,0,4,7]\n",
    "sum = 6\n",
    "issubsum(arr,sum)\n"
   ]
  },
  {
   "cell_type": "code",
   "execution_count": null,
   "id": "ea42b594",
   "metadata": {},
   "outputs": [],
   "source": []
  }
 ],
 "metadata": {
  "kernelspec": {
   "display_name": "Python 3 (ipykernel)",
   "language": "python",
   "name": "python3"
  },
  "language_info": {
   "codemirror_mode": {
    "name": "ipython",
    "version": 3
   },
   "file_extension": ".py",
   "mimetype": "text/x-python",
   "name": "python",
   "nbconvert_exporter": "python",
   "pygments_lexer": "ipython3",
   "version": "3.9.13"
  }
 },
 "nbformat": 4,
 "nbformat_minor": 5
}
