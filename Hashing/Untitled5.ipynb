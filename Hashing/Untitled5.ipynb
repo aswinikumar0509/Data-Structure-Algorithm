{
 "cells": [
  {
   "cell_type": "markdown",
   "id": "815abf40",
   "metadata": {},
   "source": [
    "19. Write a function called ‘calculate_mean’ that takes a list of numbers as input and returns the mean (average) of the numbers. The function should calculate the mean using the sum of the numbers divided by the total count."
   ]
  },
  {
   "cell_type": "code",
   "execution_count": null,
   "id": "ec75e54c",
   "metadata": {},
   "outputs": [],
   "source": [
    "def calucluate_mean(nums):\n",
    "    count = sum(nums)\n",
    "    total = len(nums)\n",
    "    mean = count//total\n",
    "    return mean\n",
    "\n",
    "nums = [10,15,20,25,30]\n",
    "c"
   ]
  }
 ],
 "metadata": {
  "kernelspec": {
   "display_name": "Python 3 (ipykernel)",
   "language": "python",
   "name": "python3"
  },
  "language_info": {
   "codemirror_mode": {
    "name": "ipython",
    "version": 3
   },
   "file_extension": ".py",
   "mimetype": "text/x-python",
   "name": "python",
   "nbconvert_exporter": "python",
   "pygments_lexer": "ipython3",
   "version": "3.9.13"
  }
 },
 "nbformat": 4,
 "nbformat_minor": 5
}
