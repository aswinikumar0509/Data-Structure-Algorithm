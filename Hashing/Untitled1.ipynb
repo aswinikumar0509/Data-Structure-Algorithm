{
 "cells": [
  {
   "cell_type": "code",
   "execution_count": 1,
   "id": "2a8693fa",
   "metadata": {},
   "outputs": [
    {
     "name": "stdout",
     "output_type": "stream",
     "text": [
      "3 2\n",
      "5 2\n",
      "2 1\n",
      "3 1\n",
      "5 1\n"
     ]
    }
   ],
   "source": [
    "## Counting the frequency of the element\n",
    "\n",
    "def count_freq(arr,n):\n",
    "    \n",
    "    visited = [False for i in range(n)]\n",
    "    \n",
    "    for i in range(n):\n",
    "        if arr[i]==True:\n",
    "            continue\n",
    "        \n",
    "        count = 1\n",
    "        for j in range(i+1,n):\n",
    "            if arr[i]==arr[j]:\n",
    "                visited[j] = True\n",
    "                count+=1\n",
    "        print(arr[i],count)\n",
    "        \n",
    "arr = [1,3,5,2,1,3,5]\n",
    "n = len(arr)\n",
    "count_freq(arr,n)"
   ]
  },
  {
   "cell_type": "code",
   "execution_count": 2,
   "id": "f93b9663",
   "metadata": {},
   "outputs": [
    {
     "name": "stdout",
     "output_type": "stream",
     "text": [
      "10 3\n",
      "20 4\n",
      "5 1\n"
     ]
    }
   ],
   "source": [
    "## Efficient approch for the frequency of the element\n",
    "\n",
    "def count_feq(arr,n):\n",
    "    \n",
    "    mp = {}\n",
    "    \n",
    "    # Traverse through array elements and\n",
    "    # count frequencies\n",
    "    for i in range(n):\n",
    "        if arr[i] not in mp:\n",
    "            mp[arr[i]] = 0\n",
    "        mp[arr[i]] += 1\n",
    "        \n",
    "    # To print elements according to first\n",
    "    # occurrence, traverse array one more time\n",
    "    # print frequencies of elements and mark\n",
    "    # frequencies as -1 so that same element\n",
    "    # is not printed multiple times.\n",
    "    for i in range(n):\n",
    "        if (mp[arr[i]] != -1):\n",
    "            print(arr[i],mp[arr[i]])\n",
    "        mp[arr[i]] = -1\n",
    "        \n",
    "arr = [10, 20, 20, 10, 10, 20, 5, 20]\n",
    "n = len(arr)\n",
    "count_feq(arr, n)"
   ]
  },
  {
   "cell_type": "code",
   "execution_count": 3,
   "id": "08b3197e",
   "metadata": {},
   "outputs": [
    {
     "name": "stdout",
     "output_type": "stream",
     "text": [
      "True\n",
      "False\n"
     ]
    }
   ],
   "source": [
    "#implement of openaddressing in python\n",
    "\n",
    "class myhash:\n",
    "    \n",
    "    def __init__(self,c):\n",
    "        self.cap = c\n",
    "        self.table = [-1]*c\n",
    "        self.size = 0\n",
    "        \n",
    "    def hash(self,x):\n",
    "        return x%self.cap\n",
    "        \n",
    "    def search(self,x):\n",
    "        h = self.hash(x)\n",
    "        t = self.table\n",
    "        i = h\n",
    "        while t[i]!=-1:\n",
    "            if t[i]==x:\n",
    "                return True\n",
    "            i = (i+1)%self.cap\n",
    "            if i==h:\n",
    "                return False\n",
    "        return False\n",
    "    \n",
    "    def insert(self,x):\n",
    "        if self.size==self.cap:\n",
    "            return True\n",
    "        \n",
    "        if self.search(x)==True:\n",
    "            return False\n",
    "        \n",
    "        i = self.hash(x)\n",
    "        t = self.table\n",
    "        while t[i] not in (-1,-2):\n",
    "            i = (i+1)%self.cap\n",
    "            \n",
    "        t[i]=x\n",
    "        self.size =  self.size+1\n",
    "        return True\n",
    "    \n",
    "    def remove(self,x):\n",
    "        h = self.hash(x)\n",
    "        t = self.table\n",
    "        i = h\n",
    "        while t[i]!=-1:\n",
    "            if t[i]==x:\n",
    "                t[i]=-2\n",
    "                return True\n",
    "            i = (i+1)%self.cap\n",
    "            if i==h:\n",
    "                return False\n",
    "        return False\n",
    "    \n",
    "h = myhash(7)\n",
    "h.insert(70)\n",
    "h.insert(71)\n",
    "h.insert(9)\n",
    "h.insert(56)\n",
    "h.insert(72)\n",
    "print(h.search(56))\n",
    "h.remove(56)\n",
    "print(h.search(56))\n",
    "#h.remove(56)\n",
    "        "
   ]
  },
  {
   "cell_type": "code",
   "execution_count": 4,
   "id": "5ebce006",
   "metadata": {},
   "outputs": [
    {
     "data": {
      "text/plain": [
       "3"
      ]
     },
     "execution_count": 4,
     "metadata": {},
     "output_type": "execute_result"
    }
   ],
   "source": [
    "## Count of distinct element in the array\n",
    "\n",
    "def distinct_element(arr,n):\n",
    "    res = 0\n",
    "    for i in range(1,n):\n",
    "        j = 0\n",
    "        for j in range(i):\n",
    "            if arr[i]==arr[j]:\n",
    "                break\n",
    "        if(i==j+1):\n",
    "            res+=1\n",
    "    return res\n",
    "\n",
    "arr = [10,20,10,30,30,20]\n",
    "n = len(arr)\n",
    "\n",
    "distinct_element(arr,n)"
   ]
  },
  {
   "cell_type": "code",
   "execution_count": 5,
   "id": "c449c3b6",
   "metadata": {},
   "outputs": [
    {
     "data": {
      "text/plain": [
       "5"
      ]
     },
     "execution_count": 5,
     "metadata": {},
     "output_type": "execute_result"
    }
   ],
   "source": [
    "## Count of distinct element in the array:\n",
    "\n",
    "def distinct_element(arr,n):\n",
    "    res = 0\n",
    "    for i in range(1,n):\n",
    "        j=0\n",
    "        for j in range(i):\n",
    "            if arr[i]==[j]:\n",
    "                break\n",
    "        if i == j+1:\n",
    "            res+=1\n",
    "    return res\n",
    "\n",
    "arr = [10,20,20,10,30,10]\n",
    "n = len(arr)\n",
    "distinct_element(arr,n)"
   ]
  },
  {
   "cell_type": "code",
   "execution_count": 6,
   "id": "7c932219",
   "metadata": {},
   "outputs": [
    {
     "name": "stdout",
     "output_type": "stream",
     "text": [
      "20 1\n"
     ]
    }
   ],
   "source": [
    "## Counting the frequency of the element\n",
    "\n",
    "def count_frequency(arr):\n",
    "    n = len(arr)\n",
    "    visited = [False for i in range(n)]\n",
    "    \n",
    "    for i in range(n):\n",
    "        if visited[i]==True:\n",
    "            continue\n",
    "        count = 1\n",
    "        for j in range(i+1,n,1):\n",
    "            if arr[i]==arr[j]:\n",
    "                visited[j]=True\n",
    "                count+=1\n",
    "    print(arr[i],count)\n",
    "    \n",
    "arr = [10,20,20,10,10,20,5,20]\n",
    "count_frequency(arr)"
   ]
  },
  {
   "cell_type": "code",
   "execution_count": 7,
   "id": "249bc67f",
   "metadata": {},
   "outputs": [
    {
     "data": {
      "text/plain": [
       "3"
      ]
     },
     "execution_count": 7,
     "metadata": {},
     "output_type": "execute_result"
    }
   ],
   "source": [
    "## Count of distinct element in the array\n",
    "\n",
    "def count(arr,n):\n",
    "    res = 0\n",
    "    for i in range(1,n):\n",
    "        j = 0\n",
    "        for j in range(i):\n",
    "            if arr[i]==arr[j]:\n",
    "                break\n",
    "        if (i==j+1):\n",
    "            res+=1\n",
    "    return res\n",
    "\n",
    "arr = [10,20,20,10,30,10]\n",
    "n = len(arr)\n",
    "count(arr,n)"
   ]
  },
  {
   "cell_type": "code",
   "execution_count": 8,
   "id": "262aa96a",
   "metadata": {},
   "outputs": [
    {
     "data": {
      "text/plain": [
       "0"
      ]
     },
     "execution_count": 8,
     "metadata": {},
     "output_type": "execute_result"
    }
   ],
   "source": [
    "# Intersection of two array\n",
    "\n",
    "def intersection(arr1,m,arr2,n):\n",
    "    res = 0\n",
    "    for i in range(m):\n",
    "        flag = False\n",
    "        for j in range(i-1):\n",
    "            if arr1[i]==arr1[j]:\n",
    "                flag = True\n",
    "                break\n",
    "            if flag == True:\n",
    "                for j in range(n):\n",
    "                    if arr1[i]==arr2[j]:\n",
    "                        res+=1\n",
    "                        break\n",
    "    return res\n",
    "\n",
    "\n",
    "arr1 = [10,20]\n",
    "m = len(arr1)\n",
    "arr2 = [20,30]\n",
    "n = len(arr2)\n",
    "intersection(arr1,m,arr2,n)"
   ]
  },
  {
   "cell_type": "code",
   "execution_count": 9,
   "id": "3eebf585",
   "metadata": {},
   "outputs": [
    {
     "data": {
      "text/plain": [
       "0"
      ]
     },
     "execution_count": 9,
     "metadata": {},
     "output_type": "execute_result"
    }
   ],
   "source": [
    "def intersection(arr1,m,arr2,n):\n",
    "    sn = set()\n",
    "    for i in range(m):\n",
    "        sn.add(arr1[i])\n",
    "    res = 0\n",
    "    for j in range(n):\n",
    "        if arr2[i] in sn:\n",
    "            res+=1\n",
    "            sn.remove(arr2[i])\n",
    "    return res\n",
    "\n",
    "arr1 = [10,20]\n",
    "m = len(arr1)\n",
    "arr2 = [20,30]\n",
    "n = len(arr2)\n",
    "intersection(arr1,m,arr2,n)"
   ]
  },
  {
   "cell_type": "code",
   "execution_count": 10,
   "id": "e583488b",
   "metadata": {},
   "outputs": [
    {
     "data": {
      "text/plain": [
       "1"
      ]
     },
     "execution_count": 10,
     "metadata": {},
     "output_type": "execute_result"
    }
   ],
   "source": [
    "#unionn of two unsorted array\n",
    "\n",
    "def union_array(arr1,m,arr2,n):\n",
    "    c = [0]*(m+n)\n",
    "    \n",
    "    for i in range(m):\n",
    "        c[i] = arr1[i]\n",
    "    for i in range(n):\n",
    "        c[m+i]=arr2[i]\n",
    "        \n",
    "    res = 0\n",
    "    for i in range(m+n):\n",
    "        flag = False\n",
    "        for j in range(i):\n",
    "            if c[i]==c[j]:\n",
    "                flag = True\n",
    "                break\n",
    "            if flag == False:\n",
    "                res+=1\n",
    "                \n",
    "    return res\n",
    "\n",
    "arr1 = [15,20,5,15]\n",
    "\n",
    "arr2 = [15,15,15,20,10]\n",
    "\n",
    "\n",
    "union_array(arr1,m,arr2,n)\n"
   ]
  },
  {
   "cell_type": "code",
   "execution_count": 11,
   "id": "25c4261e",
   "metadata": {},
   "outputs": [
    {
     "data": {
      "text/plain": [
       "12"
      ]
     },
     "execution_count": 11,
     "metadata": {},
     "output_type": "execute_result"
    }
   ],
   "source": [
    "## optimize solution using the set\n",
    "\n",
    "def union_size(arr1,m,arr2,n):\n",
    "    sn = set()\n",
    "    for i in arr1:\n",
    "        sn.add(i)\n",
    "    for j in arr2:\n",
    "        sn.add(j)\n",
    "    return len(sn)\n",
    "\n",
    "arr1 = [15,20,5,15]\n",
    "m = len(arr1)\n",
    "\n",
    "arr2 = [15,15,15,20,10]\n",
    "n = len(arr2)\n",
    "\n",
    "\n",
    "union_array(arr1,m,arr2,n)"
   ]
  },
  {
   "cell_type": "code",
   "execution_count": 12,
   "id": "0dfe6143",
   "metadata": {},
   "outputs": [
    {
     "data": {
      "text/plain": [
       "(2, 15, True)"
      ]
     },
     "execution_count": 12,
     "metadata": {},
     "output_type": "execute_result"
    }
   ],
   "source": [
    "## Pair with given sum in unsorted array\n",
    "\n",
    "def pairsum(arr,sum)->bool:\n",
    "    for i in range(len(arr)):\n",
    "        for j in range(i+1,len(arr)):\n",
    "            if arr[i]+arr[j]==sum:\n",
    "                return (arr[i],arr[j],True)\n",
    "    return (f\"Elemenet not found {False}\")\n",
    "\n",
    "arr = [3,2,8,15,-8]\n",
    "sum = 17\n",
    "pairsum(arr,sum)"
   ]
  },
  {
   "cell_type": "code",
   "execution_count": 13,
   "id": "8ed170cd",
   "metadata": {},
   "outputs": [
    {
     "data": {
      "text/plain": [
       "True"
      ]
     },
     "execution_count": 13,
     "metadata": {},
     "output_type": "execute_result"
    }
   ],
   "source": [
    "def pair_sum(arr,sum)->bool:\n",
    "    s = set()\n",
    "    res = []\n",
    "    for i in arr:\n",
    "        if sum-i in s:\n",
    "            return True\n",
    "        s.add(i)\n",
    "    return False\n",
    "arr = [3,2,8,15,-8]\n",
    "sum = 17\n",
    "pair_sum(arr,sum)"
   ]
  },
  {
   "cell_type": "code",
   "execution_count": 14,
   "id": "966ea2e0",
   "metadata": {},
   "outputs": [
    {
     "ename": "TypeError",
     "evalue": "'int' object is not callable",
     "output_type": "error",
     "traceback": [
      "\u001b[1;31m---------------------------------------------------------------------------\u001b[0m",
      "\u001b[1;31mTypeError\u001b[0m                                 Traceback (most recent call last)",
      "\u001b[1;32m~\\AppData\\Local\\Temp\\ipykernel_35548\\515818285.py\u001b[0m in \u001b[0;36m<module>\u001b[1;34m\u001b[0m\n\u001b[0;32m     14\u001b[0m \u001b[0ml\u001b[0m \u001b[1;33m=\u001b[0m \u001b[1;33m[\u001b[0m\u001b[1;36m4\u001b[0m\u001b[1;33m,\u001b[0m \u001b[1;36m3\u001b[0m\u001b[1;33m,\u001b[0m \u001b[1;33m-\u001b[0m\u001b[1;36m2\u001b[0m\u001b[1;33m,\u001b[0m \u001b[1;36m1\u001b[0m\u001b[1;33m,\u001b[0m \u001b[1;36m1\u001b[0m\u001b[1;33m]\u001b[0m\u001b[1;33m\u001b[0m\u001b[1;33m\u001b[0m\u001b[0m\n\u001b[0;32m     15\u001b[0m \u001b[1;33m\u001b[0m\u001b[0m\n\u001b[1;32m---> 16\u001b[1;33m \u001b[0mprint\u001b[0m\u001b[1;33m(\u001b[0m\u001b[0misZeroSum\u001b[0m\u001b[1;33m(\u001b[0m\u001b[0ml\u001b[0m\u001b[1;33m)\u001b[0m\u001b[1;33m)\u001b[0m\u001b[1;33m\u001b[0m\u001b[1;33m\u001b[0m\u001b[0m\n\u001b[0m",
      "\u001b[1;32m~\\AppData\\Local\\Temp\\ipykernel_35548\\515818285.py\u001b[0m in \u001b[0;36misZeroSum\u001b[1;34m(l)\u001b[0m\n\u001b[0;32m      7\u001b[0m         \u001b[1;32mfor\u001b[0m \u001b[0mj\u001b[0m \u001b[1;32min\u001b[0m \u001b[0mrange\u001b[0m\u001b[1;33m(\u001b[0m\u001b[0mi\u001b[0m \u001b[1;33m+\u001b[0m \u001b[1;36m1\u001b[0m\u001b[1;33m,\u001b[0m \u001b[0mn\u001b[0m \u001b[1;33m+\u001b[0m \u001b[1;36m1\u001b[0m\u001b[1;33m)\u001b[0m\u001b[1;33m:\u001b[0m\u001b[1;33m\u001b[0m\u001b[1;33m\u001b[0m\u001b[0m\n\u001b[0;32m      8\u001b[0m \u001b[1;33m\u001b[0m\u001b[0m\n\u001b[1;32m----> 9\u001b[1;33m             \u001b[1;32mif\u001b[0m \u001b[0msum\u001b[0m\u001b[1;33m(\u001b[0m\u001b[0ml\u001b[0m\u001b[1;33m[\u001b[0m\u001b[0mi\u001b[0m\u001b[1;33m:\u001b[0m\u001b[0mj\u001b[0m\u001b[1;33m]\u001b[0m\u001b[1;33m)\u001b[0m \u001b[1;33m==\u001b[0m \u001b[1;36m0\u001b[0m\u001b[1;33m:\u001b[0m\u001b[1;33m\u001b[0m\u001b[1;33m\u001b[0m\u001b[0m\n\u001b[0m\u001b[0;32m     10\u001b[0m                 \u001b[1;32mreturn\u001b[0m \u001b[1;32mTrue\u001b[0m\u001b[1;33m\u001b[0m\u001b[1;33m\u001b[0m\u001b[0m\n\u001b[0;32m     11\u001b[0m     \u001b[1;32mreturn\u001b[0m \u001b[1;32mFalse\u001b[0m\u001b[1;33m\u001b[0m\u001b[1;33m\u001b[0m\u001b[0m\n",
      "\u001b[1;31mTypeError\u001b[0m: 'int' object is not callable"
     ]
    }
   ],
   "source": [
    "## sub array with zero sum in python\n",
    "def isZeroSum(l):\n",
    "    n = len(l)\n",
    "\n",
    "    for i in range(n):\n",
    "\n",
    "        for j in range(i + 1, n + 1):\n",
    "\n",
    "            if sum(l[i:j]) == 0:\n",
    "                return True\n",
    "    return False\n",
    "\n",
    "\n",
    "l = [4, 3, -2, 1, 1]\n",
    "\n",
    "print(isZeroSum(l))"
   ]
  },
  {
   "cell_type": "code",
   "execution_count": 15,
   "id": "fe33d476",
   "metadata": {},
   "outputs": [
    {
     "name": "stdout",
     "output_type": "stream",
     "text": [
      "True\n"
     ]
    }
   ],
   "source": [
    "def isZeroSum(l):\n",
    "    pre_sum = 0\n",
    "\n",
    "    h = set()\n",
    "\n",
    "    for i in range(len(l)):\n",
    "        pre_sum += l[i]\n",
    "        if pre_sum == 0 or pre_sum in h:\n",
    "            return True\n",
    "        h.add(pre_sum)\n",
    "\n",
    "    return False\n",
    "\n",
    "l = [4, 3, -2, 1, 1]\n",
    "\n",
    "print(isZeroSum(l))"
   ]
  },
  {
   "cell_type": "code",
   "execution_count": 16,
   "id": "cfdca39b",
   "metadata": {},
   "outputs": [
    {
     "name": "stdout",
     "output_type": "stream",
     "text": [
      "4\n"
     ]
    }
   ],
   "source": [
    "def issubsum(arr,sum) :\n",
    "    \n",
    "    #for i in range(len(arr)) :\n",
    "        curr = 0 \n",
    "        for j in range(1,len(arr)) :\n",
    "            curr += arr[j]\n",
    "            if (curr == sum) :\n",
    "                return arr[j]\n",
    "    \n",
    "        return False\n",
    "    \n",
    "    \n",
    "arr = [3,2,0,4,7]\n",
    "sum = 6\n",
    "print(issubsum(arr,sum))"
   ]
  },
  {
   "cell_type": "code",
   "execution_count": 17,
   "id": "9b0a4de6",
   "metadata": {},
   "outputs": [
    {
     "name": "stdout",
     "output_type": "stream",
     "text": [
      "True\n"
     ]
    }
   ],
   "source": [
    "##Find the subarray with the given sum\n",
    "\n",
    "def issubsum(arr,sum):\n",
    "    for i in range(len(arr)):\n",
    "        curr = 0 \n",
    "        for j in range(i,len(arr)):\n",
    "            curr+=arr[j]\n",
    "            if (curr==sum):\n",
    "                return True\n",
    "    return False\n",
    "arr = [3,2,0,4,7]\n",
    "sum = 6\n",
    "print(issubsum(arr,sum))"
   ]
  },
  {
   "cell_type": "code",
   "execution_count": 19,
   "id": "a397bc78",
   "metadata": {},
   "outputs": [
    {
     "name": "stdout",
     "output_type": "stream",
     "text": [
      "True\n"
     ]
    }
   ],
   "source": [
    "## Optimize solution\n",
    "\n",
    "def issubsum(arr,sum) :\n",
    "    s,curr = 0,0\n",
    "    for i in range(len(arr)) :\n",
    "        curr += arr[i]\n",
    "        while (sum > curr) :\n",
    "            sum -= arr[s]\n",
    "            s += 1 \n",
    "        if (curr == sum) :\n",
    "            return True\n",
    "    \n",
    "    return False\n",
    "\n",
    "arr = [3,2,0,4,7]\n",
    "sum = 6\n",
    "print(issubsum(arr,sum))"
   ]
  },
  {
   "cell_type": "code",
   "execution_count": 20,
   "id": "4bbd2a0e",
   "metadata": {},
   "outputs": [
    {
     "ename": "SyntaxError",
     "evalue": "invalid syntax (551025595.py, line 8)",
     "output_type": "error",
     "traceback": [
      "\u001b[1;36m  File \u001b[1;32m\"C:\\Users\\aswin\\AppData\\Local\\Temp\\ipykernel_35548\\551025595.py\"\u001b[1;36m, line \u001b[1;32m8\u001b[0m\n\u001b[1;33m    from freq in cnt.values():\u001b[0m\n\u001b[1;37m              ^\u001b[0m\n\u001b[1;31mSyntaxError\u001b[0m\u001b[1;31m:\u001b[0m invalid syntax\n"
     ]
    }
   ],
   "source": [
    "## Checking th epalindrome permutation\n",
    "\n",
    "from collection import counter\n",
    "\n",
    "def isPalPer(s):\n",
    "    snt = counter(s)\n",
    "    odd = 0\n",
    "    from freq in cnt.values():\n",
    "        if freq%2!=0:\n",
    "            odd = odd+1\n",
    "            if odd>1:\n",
    "                return False\n",
    "    return True\n",
    "\n",
    "s = \"geeksgeeks\"\n",
    "isPalPer(s)"
   ]
  },
  {
   "cell_type": "code",
   "execution_count": 24,
   "id": "f5548051",
   "metadata": {},
   "outputs": [
    {
     "data": {
      "text/plain": [
       "True"
      ]
     },
     "execution_count": 24,
     "metadata": {},
     "output_type": "execute_result"
    }
   ],
   "source": [
    "no_of_chars = 256\n",
    "\n",
    "def ispalper(s):\n",
    "    \n",
    "    count = [0]*no_of_chars\n",
    "    \n",
    "    for i in range(len(s)):\n",
    "        count[ord(s[i])] = count[ord(s[i])]+1\n",
    "    odd = 0\n",
    "    for i in range(0, no_of_chars):\n",
    "        if (count[i] & 1):\n",
    "            odd = odd + 1\n",
    "            if (odd > 1):\n",
    "                return False\n",
    "    return True\n",
    "\n",
    "s = \"geeksgeeks\"\n",
    "ispalper(s)"
   ]
  },
  {
   "cell_type": "code",
   "execution_count": 29,
   "id": "f7c17528",
   "metadata": {},
   "outputs": [
    {
     "data": {
      "text/plain": [
       "3"
      ]
     },
     "execution_count": 29,
     "metadata": {},
     "output_type": "execute_result"
    }
   ],
   "source": [
    "## Longest subarray sum\n",
    "\n",
    "def longest_arr(arr,sum):\n",
    "    res = 0\n",
    "    for i in range(len(arr)):\n",
    "        curr = 0\n",
    "        for j in range(i,len(arr)):\n",
    "            curr+=arr[j]\n",
    "            if (curr==sum):\n",
    "                res = max(res,j-i+1)\n",
    "    return (res)\n",
    "arr = [3,2,0,4,7]\n",
    "sum = 6\n",
    "longest_arr(arr,sum)"
   ]
  },
  {
   "cell_type": "code",
   "execution_count": 30,
   "id": "8fe7c5b2",
   "metadata": {},
   "outputs": [
    {
     "name": "stdout",
     "output_type": "stream",
     "text": [
      "3\n"
     ]
    }
   ],
   "source": [
    "def longestsubarraywithsum(arr,sum) :\n",
    "    n = len(arr)\n",
    "    my_dict = dict()\n",
    "    pre_sum = 0\n",
    "    res = 0\n",
    "    \n",
    "    for i in range(n) :\n",
    "        pre_sum += arr[i]\n",
    "        if pre_sum == sum :\n",
    "            res = i+1 \n",
    "        if pre_sum not in my_dict :\n",
    "            my_dict[pre_sum] = i\n",
    "        if pre_sum in my_dict :\n",
    "            res = max(res,i-my_dict[pre_sum])\n",
    "    \n",
    "    return res\n",
    "    \n",
    "    \n",
    "arr = [8,3,1,5,-6,6,2,2]\n",
    "sum = 4\n",
    "print(longestsubarraywithsum(arr,sum))"
   ]
  },
  {
   "cell_type": "code",
   "execution_count": 32,
   "id": "bb1f07c4",
   "metadata": {},
   "outputs": [
    {
     "data": {
      "text/plain": [
       "6"
      ]
     },
     "execution_count": 32,
     "metadata": {},
     "output_type": "execute_result"
    }
   ],
   "source": [
    "# Longest subarray with equal zero and ones\n",
    "#Naive\n",
    "\n",
    "def longestzero_ones(arr):\n",
    "    res = 0\n",
    "    for i in range(len(arr)):\n",
    "        c_0 = 0\n",
    "        c_1 = 0\n",
    "        for j in range(i,len(arr)):\n",
    "            if arr[j]==0:\n",
    "                c_0+=1\n",
    "            else:\n",
    "                c_1+=1\n",
    "        if (c_0==c_1):\n",
    "            res = max(res,j-i+1)\n",
    "    return res\n",
    "arr = [1,0,1,1,1,0,0]\n",
    "longestzero_ones(arr)"
   ]
  },
  {
   "cell_type": "code",
   "execution_count": 33,
   "id": "93f2d89c",
   "metadata": {},
   "outputs": [],
   "source": [
    "## Longest common subarray with given sum\n",
    "\n"
   ]
  },
  {
   "cell_type": "code",
   "execution_count": null,
   "id": "2d435eb7",
   "metadata": {},
   "outputs": [],
   "source": [
    "# Count of distinct element in the array\n",
    "\n"
   ]
  }
 ],
 "metadata": {
  "kernelspec": {
   "display_name": "Python 3 (ipykernel)",
   "language": "python",
   "name": "python3"
  },
  "language_info": {
   "codemirror_mode": {
    "name": "ipython",
    "version": 3
   },
   "file_extension": ".py",
   "mimetype": "text/x-python",
   "name": "python",
   "nbconvert_exporter": "python",
   "pygments_lexer": "ipython3",
   "version": "3.9.13"
  }
 },
 "nbformat": 4,
 "nbformat_minor": 5
}
