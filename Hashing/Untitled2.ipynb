{
 "cells": [
  {
   "cell_type": "code",
   "execution_count": 1,
   "id": "513961bf",
   "metadata": {},
   "outputs": [],
   "source": [
    "## generator , iterable and iterator"
   ]
  },
  {
   "cell_type": "code",
   "execution_count": 2,
   "id": "614d2fbc",
   "metadata": {},
   "outputs": [],
   "source": [
    "mylist = [1,2,3,4] # iterable"
   ]
  },
  {
   "cell_type": "code",
   "execution_count": 3,
   "id": "b64ba871",
   "metadata": {},
   "outputs": [],
   "source": [
    "a = 10\n",
    "b = 10.6"
   ]
  },
  {
   "cell_type": "code",
   "execution_count": 7,
   "id": "999eef30",
   "metadata": {},
   "outputs": [
    {
     "data": {
      "text/plain": [
       "int"
      ]
     },
     "execution_count": 7,
     "metadata": {},
     "output_type": "execute_result"
    }
   ],
   "source": [
    "type(a)"
   ]
  },
  {
   "cell_type": "code",
   "execution_count": 8,
   "id": "3fa8bcf4",
   "metadata": {},
   "outputs": [
    {
     "data": {
      "text/plain": [
       "list"
      ]
     },
     "execution_count": 8,
     "metadata": {},
     "output_type": "execute_result"
    }
   ],
   "source": [
    "type(mylist)"
   ]
  },
  {
   "cell_type": "code",
   "execution_count": 10,
   "id": "225120c7",
   "metadata": {},
   "outputs": [
    {
     "data": {
      "text/plain": [
       "['__add__',\n",
       " '__class__',\n",
       " '__class_getitem__',\n",
       " '__contains__',\n",
       " '__delattr__',\n",
       " '__delitem__',\n",
       " '__dir__',\n",
       " '__doc__',\n",
       " '__eq__',\n",
       " '__format__',\n",
       " '__ge__',\n",
       " '__getattribute__',\n",
       " '__getitem__',\n",
       " '__gt__',\n",
       " '__hash__',\n",
       " '__iadd__',\n",
       " '__imul__',\n",
       " '__init__',\n",
       " '__init_subclass__',\n",
       " '__iter__',\n",
       " '__le__',\n",
       " '__len__',\n",
       " '__lt__',\n",
       " '__mul__',\n",
       " '__ne__',\n",
       " '__new__',\n",
       " '__reduce__',\n",
       " '__reduce_ex__',\n",
       " '__repr__',\n",
       " '__reversed__',\n",
       " '__rmul__',\n",
       " '__setattr__',\n",
       " '__setitem__',\n",
       " '__sizeof__',\n",
       " '__str__',\n",
       " '__subclasshook__',\n",
       " 'append',\n",
       " 'clear',\n",
       " 'copy',\n",
       " 'count',\n",
       " 'extend',\n",
       " 'index',\n",
       " 'insert',\n",
       " 'pop',\n",
       " 'remove',\n",
       " 'reverse',\n",
       " 'sort']"
      ]
     },
     "execution_count": 10,
     "metadata": {},
     "output_type": "execute_result"
    }
   ],
   "source": [
    "dir(mylist)"
   ]
  },
  {
   "cell_type": "code",
   "execution_count": 11,
   "id": "bb1a6b50",
   "metadata": {},
   "outputs": [
    {
     "name": "stdout",
     "output_type": "stream",
     "text": [
      "1\n",
      "2\n",
      "3\n",
      "4\n"
     ]
    }
   ],
   "source": [
    "for i in mylist:\n",
    "    print(i)"
   ]
  },
  {
   "cell_type": "code",
   "execution_count": 12,
   "id": "82513088",
   "metadata": {},
   "outputs": [],
   "source": [
    "## mylist-->iterable-->itrator-->itration"
   ]
  },
  {
   "cell_type": "code",
   "execution_count": 13,
   "id": "d5ce9048",
   "metadata": {},
   "outputs": [
    {
     "name": "stdout",
     "output_type": "stream",
     "text": [
      "[1, 2, 3, 4, 5, 6, 7, 8]\n"
     ]
    }
   ],
   "source": [
    "#mylist-->itrable->iter()-->next()\n",
    "mylist2 = [1,2,3,4,5,6,7,8]\n",
    "print(mylist2)"
   ]
  },
  {
   "cell_type": "code",
   "execution_count": 14,
   "id": "25c86d1a",
   "metadata": {},
   "outputs": [
    {
     "data": {
      "text/plain": [
       "['__add__',\n",
       " '__class__',\n",
       " '__class_getitem__',\n",
       " '__contains__',\n",
       " '__delattr__',\n",
       " '__delitem__',\n",
       " '__dir__',\n",
       " '__doc__',\n",
       " '__eq__',\n",
       " '__format__',\n",
       " '__ge__',\n",
       " '__getattribute__',\n",
       " '__getitem__',\n",
       " '__gt__',\n",
       " '__hash__',\n",
       " '__iadd__',\n",
       " '__imul__',\n",
       " '__init__',\n",
       " '__init_subclass__',\n",
       " '__iter__',\n",
       " '__le__',\n",
       " '__len__',\n",
       " '__lt__',\n",
       " '__mul__',\n",
       " '__ne__',\n",
       " '__new__',\n",
       " '__reduce__',\n",
       " '__reduce_ex__',\n",
       " '__repr__',\n",
       " '__reversed__',\n",
       " '__rmul__',\n",
       " '__setattr__',\n",
       " '__setitem__',\n",
       " '__sizeof__',\n",
       " '__str__',\n",
       " '__subclasshook__',\n",
       " 'append',\n",
       " 'clear',\n",
       " 'copy',\n",
       " 'count',\n",
       " 'extend',\n",
       " 'index',\n",
       " 'insert',\n",
       " 'pop',\n",
       " 'remove',\n",
       " 'reverse',\n",
       " 'sort']"
      ]
     },
     "execution_count": 14,
     "metadata": {},
     "output_type": "execute_result"
    }
   ],
   "source": [
    "dir(mylist2)"
   ]
  },
  {
   "cell_type": "code",
   "execution_count": 15,
   "id": "e66af192",
   "metadata": {},
   "outputs": [],
   "source": [
    "obj = iter(mylist2)"
   ]
  },
  {
   "cell_type": "code",
   "execution_count": 16,
   "id": "37ae2315",
   "metadata": {},
   "outputs": [
    {
     "data": {
      "text/plain": [
       "1"
      ]
     },
     "execution_count": 16,
     "metadata": {},
     "output_type": "execute_result"
    }
   ],
   "source": [
    "next(obj)"
   ]
  },
  {
   "cell_type": "code",
   "execution_count": 17,
   "id": "7da383bb",
   "metadata": {},
   "outputs": [
    {
     "data": {
      "text/plain": [
       "2"
      ]
     },
     "execution_count": 17,
     "metadata": {},
     "output_type": "execute_result"
    }
   ],
   "source": [
    "next(obj)"
   ]
  },
  {
   "cell_type": "code",
   "execution_count": 19,
   "id": "f80ee075",
   "metadata": {},
   "outputs": [],
   "source": [
    "def my_for_loop(iterble):\n",
    "    iterator=iter(iterable)\n",
    "    while True:\n",
    "        try:\n",
    "            print(next(iterable))\n",
    "        except StopIteration:\n",
    "            break\n",
    "            "
   ]
  },
  {
   "cell_type": "code",
   "execution_count": 20,
   "id": "ec08c21f",
   "metadata": {},
   "outputs": [
    {
     "ename": "NameError",
     "evalue": "name 'iterable' is not defined",
     "output_type": "error",
     "traceback": [
      "\u001b[1;31m---------------------------------------------------------------------------\u001b[0m",
      "\u001b[1;31mNameError\u001b[0m                                 Traceback (most recent call last)",
      "\u001b[1;32m~\\AppData\\Local\\Temp\\ipykernel_29460\\1870000424.py\u001b[0m in \u001b[0;36m<module>\u001b[1;34m\u001b[0m\n\u001b[1;32m----> 1\u001b[1;33m \u001b[0mmy_for_loop\u001b[0m\u001b[1;33m(\u001b[0m\u001b[1;33m[\u001b[0m\u001b[1;36m1\u001b[0m\u001b[1;33m,\u001b[0m\u001b[1;36m2\u001b[0m\u001b[1;33m,\u001b[0m\u001b[1;36m3\u001b[0m\u001b[1;33m,\u001b[0m\u001b[1;36m4\u001b[0m\u001b[1;33m,\u001b[0m\u001b[1;36m5\u001b[0m\u001b[1;33m,\u001b[0m\u001b[1;36m6\u001b[0m\u001b[1;33m,\u001b[0m\u001b[1;36m7\u001b[0m\u001b[1;33m,\u001b[0m\u001b[1;36m7\u001b[0m\u001b[1;33m]\u001b[0m\u001b[1;33m)\u001b[0m\u001b[1;33m\u001b[0m\u001b[1;33m\u001b[0m\u001b[0m\n\u001b[0m",
      "\u001b[1;32m~\\AppData\\Local\\Temp\\ipykernel_29460\\3128110054.py\u001b[0m in \u001b[0;36mmy_for_loop\u001b[1;34m(iterble)\u001b[0m\n\u001b[0;32m      1\u001b[0m \u001b[1;32mdef\u001b[0m \u001b[0mmy_for_loop\u001b[0m\u001b[1;33m(\u001b[0m\u001b[0miterble\u001b[0m\u001b[1;33m)\u001b[0m\u001b[1;33m:\u001b[0m\u001b[1;33m\u001b[0m\u001b[1;33m\u001b[0m\u001b[0m\n\u001b[1;32m----> 2\u001b[1;33m     \u001b[0miterator\u001b[0m\u001b[1;33m=\u001b[0m\u001b[0miter\u001b[0m\u001b[1;33m(\u001b[0m\u001b[0miterable\u001b[0m\u001b[1;33m)\u001b[0m\u001b[1;33m\u001b[0m\u001b[1;33m\u001b[0m\u001b[0m\n\u001b[0m\u001b[0;32m      3\u001b[0m     \u001b[1;32mwhile\u001b[0m \u001b[1;32mTrue\u001b[0m\u001b[1;33m:\u001b[0m\u001b[1;33m\u001b[0m\u001b[1;33m\u001b[0m\u001b[0m\n\u001b[0;32m      4\u001b[0m         \u001b[1;32mtry\u001b[0m\u001b[1;33m:\u001b[0m\u001b[1;33m\u001b[0m\u001b[1;33m\u001b[0m\u001b[0m\n\u001b[0;32m      5\u001b[0m             \u001b[0mprint\u001b[0m\u001b[1;33m(\u001b[0m\u001b[0mnext\u001b[0m\u001b[1;33m(\u001b[0m\u001b[0miterable\u001b[0m\u001b[1;33m)\u001b[0m\u001b[1;33m)\u001b[0m\u001b[1;33m\u001b[0m\u001b[1;33m\u001b[0m\u001b[0m\n",
      "\u001b[1;31mNameError\u001b[0m: name 'iterable' is not defined"
     ]
    }
   ],
   "source": [
    "my_for_loop([1,2,3,4,5,6,7,7])"
   ]
  },
  {
   "cell_type": "code",
   "execution_count": 22,
   "id": "108d1266",
   "metadata": {},
   "outputs": [
    {
     "data": {
      "text/plain": [
       "120"
      ]
     },
     "execution_count": 22,
     "metadata": {},
     "output_type": "execute_result"
    }
   ],
   "source": [
    "import sys\n",
    "sys.getsizeof(mylist2)"
   ]
  },
  {
   "cell_type": "code",
   "execution_count": 25,
   "id": "8bd6cbfa",
   "metadata": {},
   "outputs": [],
   "source": [
    "def gen_demo(n):\n",
    "    return n**2"
   ]
  },
  {
   "cell_type": "code",
   "execution_count": 26,
   "id": "68ce7b71",
   "metadata": {},
   "outputs": [
    {
     "data": {
      "text/plain": [
       "100"
      ]
     },
     "execution_count": 26,
     "metadata": {},
     "output_type": "execute_result"
    }
   ],
   "source": [
    "gen_demo(10)"
   ]
  },
  {
   "cell_type": "code",
   "execution_count": 27,
   "id": "73d8541b",
   "metadata": {},
   "outputs": [],
   "source": [
    "def gen_gemo(n):\n",
    "    yield n**2"
   ]
  },
  {
   "cell_type": "code",
   "execution_count": 28,
   "id": "c7272724",
   "metadata": {},
   "outputs": [
    {
     "data": {
      "text/plain": [
       "<generator object gen_gemo at 0x00000171BC5FF740>"
      ]
     },
     "execution_count": 28,
     "metadata": {},
     "output_type": "execute_result"
    }
   ],
   "source": [
    "gen_gemo(10)"
   ]
  },
  {
   "cell_type": "code",
   "execution_count": 38,
   "id": "a5bd2735",
   "metadata": {},
   "outputs": [],
   "source": [
    "def fibonaci_series(nums):\n",
    "    x , y = 0,1\n",
    "    for _ in range(nums):\n",
    "        x,y = y,x+y\n",
    "        yield x"
   ]
  },
  {
   "cell_type": "code",
   "execution_count": 39,
   "id": "731277ec",
   "metadata": {},
   "outputs": [],
   "source": [
    "obj = fibonaci_series(10)"
   ]
  },
  {
   "cell_type": "code",
   "execution_count": 40,
   "id": "9df960c5",
   "metadata": {},
   "outputs": [
    {
     "data": {
      "text/plain": [
       "1"
      ]
     },
     "execution_count": 40,
     "metadata": {},
     "output_type": "execute_result"
    }
   ],
   "source": [
    "next(obj)"
   ]
  },
  {
   "cell_type": "code",
   "execution_count": 41,
   "id": "e1463459",
   "metadata": {},
   "outputs": [],
   "source": [
    "## super() method"
   ]
  },
  {
   "cell_type": "code",
   "execution_count": 43,
   "id": "27e2173e",
   "metadata": {},
   "outputs": [],
   "source": [
    "class rectangle:\n",
    "    \n",
    "    def __init__(self):\n",
    "        self.l = 10\n",
    "        self.b = 20\n",
    "        \n",
    "class cuboid(rectangle):\n",
    "    \n",
    "        def __init__(self):\n",
    "            rectangle.__init__(self)\n",
    "            self.h = 30\n",
    "            \n",
    "        def volume(self):\n",
    "            print(f\"the volumne of the cuboid is {self.l*self.b*self.h}\")\n",
    "            "
   ]
  },
  {
   "cell_type": "code",
   "execution_count": 45,
   "id": "e5889628",
   "metadata": {},
   "outputs": [
    {
     "name": "stdout",
     "output_type": "stream",
     "text": [
      "the volumne of the cuboid is 6000\n"
     ]
    }
   ],
   "source": [
    "obj=cuboid()\n",
    "obj.volume()"
   ]
  },
  {
   "cell_type": "code",
   "execution_count": 48,
   "id": "0f267803",
   "metadata": {},
   "outputs": [],
   "source": [
    "class rectangle:\n",
    "    \n",
    "    def __init__(self):\n",
    "        self.l = 10\n",
    "        self.b = 20\n",
    "        \n",
    "class cuboid(rectangle):\n",
    "    \n",
    "        def __init__(self):\n",
    "            super().__init__();\n",
    "            self.h = 30\n",
    "            \n",
    "        def volume(self):\n",
    "            print(f\"the volumne of the cuboid is {self.l*self.b*self.h}\")"
   ]
  },
  {
   "cell_type": "code",
   "execution_count": 49,
   "id": "9f295a9e",
   "metadata": {},
   "outputs": [
    {
     "name": "stdout",
     "output_type": "stream",
     "text": [
      "the volumne of the cuboid is 6000\n"
     ]
    }
   ],
   "source": [
    "obj=cuboid()\n",
    "obj.volume()"
   ]
  },
  {
   "cell_type": "code",
   "execution_count": null,
   "id": "6a460bf6",
   "metadata": {},
   "outputs": [],
   "source": [
    "class employee:\n",
    "    \n",
    "    def "
   ]
  }
 ],
 "metadata": {
  "kernelspec": {
   "display_name": "Python 3 (ipykernel)",
   "language": "python",
   "name": "python3"
  },
  "language_info": {
   "codemirror_mode": {
    "name": "ipython",
    "version": 3
   },
   "file_extension": ".py",
   "mimetype": "text/x-python",
   "name": "python",
   "nbconvert_exporter": "python",
   "pygments_lexer": "ipython3",
   "version": "3.9.13"
  }
 },
 "nbformat": 4,
 "nbformat_minor": 5
}
