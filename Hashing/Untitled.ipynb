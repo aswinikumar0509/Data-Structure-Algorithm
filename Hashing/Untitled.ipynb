{
 "cells": [
  {
   "cell_type": "code",
   "execution_count": 1,
   "id": "1bb01153",
   "metadata": {},
   "outputs": [],
   "source": [
    "#Implementation of the chain\n",
    "\n",
    "class myhash:\n",
    "    \n",
    "    def __init__(self,b):\n",
    "        self.bucket = b\n",
    "        self.table = [[] for x in range(b)]\n",
    "        \n",
    "    def insert(self,x):\n",
    "        i = x%self.bucket\n",
    "        self.table[i].append(x)\n",
    "    \n",
    "    def remove(self,x):\n",
    "        i = x%self.bucket\n",
    "        if x in self.table[i]:\n",
    "            self.table[i].remove(x)\n",
    "            \n",
    "    def search(self,x):\n",
    "        i = x%self.bucket\n",
    "        return x in self.table[i]\n",
    "    \n",
    "    "
   ]
  },
  {
   "cell_type": "code",
   "execution_count": 2,
   "id": "dcfd3f45",
   "metadata": {},
   "outputs": [
    {
     "name": "stdout",
     "output_type": "stream",
     "text": [
      "True\n",
      "False\n"
     ]
    }
   ],
   "source": [
    "h = myhash(7)\n",
    "h.insert(35)\n",
    "h.insert(48)\n",
    "h.insert(56)\n",
    "h.insert(59)\n",
    "print(h.search(56))\n",
    "h.remove(56)\n",
    "print(h.search(56))"
   ]
  },
  {
   "cell_type": "code",
   "execution_count": 9,
   "id": "0b9f42f0",
   "metadata": {},
   "outputs": [],
   "source": [
    "## Frequency of the element\n",
    "## [10,12,10,34,12]\n",
    "def freqelement(arr,n):\n",
    "    for i in range(n):\n",
    "        flag = False\n",
    "        \n",
    "        for j in range(i):\n",
    "            if arr[i]==arr[j]:\n",
    "                flag = True\n",
    "                break\n",
    "                \n",
    "        if flag == True:\n",
    "            continue\n",
    "                \n",
    "        freq = 1\n",
    "        for j in range(i+1,n,1):\n",
    "            arr[i]==arr[j]\n",
    "            freq+=1\n",
    "            \n",
    "    print(arr[i],freq)"
   ]
  },
  {
   "cell_type": "code",
   "execution_count": 10,
   "id": "dee2d1ad",
   "metadata": {},
   "outputs": [
    {
     "name": "stdout",
     "output_type": "stream",
     "text": [
      "12 2\n",
      "None\n"
     ]
    }
   ],
   "source": [
    "arr =[10,12,10,34,12]\n",
    "n = len(arr)\n",
    "print(freqelement(arr,n))\n",
    " "
   ]
  },
  {
   "cell_type": "code",
   "execution_count": 23,
   "id": "8f3a882a",
   "metadata": {},
   "outputs": [],
   "source": [
    "def count(arr,n):\n",
    "    \n",
    "    #Mark the element not visisted\n",
    "    \n",
    "    visited = [False for i in range(n)]\n",
    "    \n",
    "    for i in range(n):\n",
    "        if (visited[i] == True):\n",
    "            continue\n",
    "          \n",
    "        count = 1\n",
    "        for j in range(i+1,n,1):\n",
    "            if arr[i]==arr[j]:\n",
    "                visited[j]==True\n",
    "                count+=1\n",
    "        print(arr[i],count)       "
   ]
  },
  {
   "cell_type": "code",
   "execution_count": 24,
   "id": "041a32ed",
   "metadata": {},
   "outputs": [
    {
     "name": "stdout",
     "output_type": "stream",
     "text": [
      "10 2\n",
      "12 2\n",
      "10 1\n",
      "34 1\n",
      "12 1\n"
     ]
    }
   ],
   "source": [
    "arr =[10,12,10,34,12]\n",
    "n = len(arr)\n",
    "count(arr,n)\n"
   ]
  },
  {
   "cell_type": "code",
   "execution_count": 28,
   "id": "a5536b4c",
   "metadata": {},
   "outputs": [],
   "source": [
    "#efficient solution\n",
    "\n",
    "def countfreq(arr,n):\n",
    "    hmp = dict()\n",
    "    \n",
    "    for i in range(n):\n",
    "        if arr[i] in hmp.keys():\n",
    "            hmp[arr[i]]+=1\n",
    "        else:\n",
    "            hmp[arr[i]]=1\n",
    "            \n",
    "    for x in hmp:\n",
    "        print(x,\" \",hmp[x])"
   ]
  },
  {
   "cell_type": "code",
   "execution_count": 29,
   "id": "51b01b21",
   "metadata": {},
   "outputs": [
    {
     "name": "stdout",
     "output_type": "stream",
     "text": [
      "10   2\n",
      "12   2\n",
      "34   1\n"
     ]
    }
   ],
   "source": [
    "arr =[10,12,10,34,12]\n",
    "n = len(arr)\n",
    "countfreq(arr,n)"
   ]
  },
  {
   "cell_type": "code",
   "execution_count": 1,
   "id": "301ea417",
   "metadata": {},
   "outputs": [],
   "source": [
    "# Creating the hash table insert , search and remove the element from the table\n"
   ]
  },
  {
   "cell_type": "code",
   "execution_count": null,
   "id": "75611da7",
   "metadata": {},
   "outputs": [],
   "source": [
    "class myhash:\n",
    "    \n",
    "    def __init__(self,x):\n",
    "        self.x = x\n",
    "        self.table = [[] for i in range(x)]\n",
    "def insert(self,x):\n",
    "    i = x%self.x\n",
    "    self.table[i].append(x)\n",
    "    \n",
    "        "
   ]
  }
 ],
 "metadata": {
  "kernelspec": {
   "display_name": "Python 3 (ipykernel)",
   "language": "python",
   "name": "python3"
  },
  "language_info": {
   "codemirror_mode": {
    "name": "ipython",
    "version": 3
   },
   "file_extension": ".py",
   "mimetype": "text/x-python",
   "name": "python",
   "nbconvert_exporter": "python",
   "pygments_lexer": "ipython3",
   "version": "3.9.13"
  }
 },
 "nbformat": 4,
 "nbformat_minor": 5
}
