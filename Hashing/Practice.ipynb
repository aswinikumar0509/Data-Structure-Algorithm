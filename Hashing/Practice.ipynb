{
 "cells": [
  {
   "cell_type": "code",
   "execution_count": 1,
   "id": "c6fb779e",
   "metadata": {},
   "outputs": [
    {
     "name": "stdout",
     "output_type": "stream",
     "text": [
      "\n",
      "True\n",
      "False\n"
     ]
    }
   ],
   "source": [
    "class myhash:\n",
    "    \n",
    "    def __init__(self,b):\n",
    "        self.bucket = b\n",
    "        self.table = [[] for x in range(b)]\n",
    "        \n",
    "    def insert(self,x):\n",
    "        i = x%self.bucket\n",
    "        self.table[i].append(x)\n",
    "        return self.table[i]\n",
    "        \n",
    "    def remove_element(self,x):\n",
    "        i = x%self.bucket\n",
    "        \n",
    "        if x in self.table[i]:\n",
    "            self.table[i].remove(x)\n",
    "            \n",
    "    def search(self,x):\n",
    "        i = x%self.bucket\n",
    "        \n",
    "        return x in self.table[i]\n",
    "    \n",
    "    \n",
    "    \n",
    "h = myhash(7)\n",
    "h.insert(70)\n",
    "h.insert(71)\n",
    "h.insert(9)\n",
    "h.insert(56)\n",
    "h.insert(72)\n",
    "print()\n",
    "print(h.search(56))\n",
    "h.remove_element(56)\n",
    "print(h.search(56))\n",
    "h.remove_element(56)"
   ]
  },
  {
   "cell_type": "code",
   "execution_count": 2,
   "id": "e39af676",
   "metadata": {},
   "outputs": [
    {
     "name": "stdout",
     "output_type": "stream",
     "text": [
      "10 3\n",
      "20 2\n"
     ]
    }
   ],
   "source": [
    "## Counting the frequency of the element\n",
    "\n",
    "def count_freq(arr,n):\n",
    "    \n",
    "    for i in range(n):\n",
    "        flag = False\n",
    "        \n",
    "        for j in range(i):\n",
    "            if arr[i]==arr[j]:\n",
    "                flag = True\n",
    "                break\n",
    "                \n",
    "        if flag==True:\n",
    "            continue\n",
    "                \n",
    "        freq = 1\n",
    "        \n",
    "        for j in range(i+1,n):\n",
    "            if arr[i]==arr[j]:\n",
    "                freq+=1\n",
    "        print(arr[i],freq)\n",
    "        \n",
    "        \n",
    "arr  = [10,20,10,20,10]\n",
    "n = len(arr)\n",
    "count_freq(arr,n)"
   ]
  },
  {
   "cell_type": "code",
   "execution_count": 3,
   "id": "c601c350",
   "metadata": {},
   "outputs": [
    {
     "name": "stdout",
     "output_type": "stream",
     "text": [
      "10   3\n",
      "20   2\n"
     ]
    }
   ],
   "source": [
    "##  Efficient way\n",
    "\n",
    "def count_freq(arr,n):\n",
    "    \n",
    "    hmp = dict()\n",
    "    \n",
    "    for i in range(n):\n",
    "        \n",
    "        if arr[i] in hmp.keys():\n",
    "            hmp[arr[i]]+=1\n",
    "        else:\n",
    "            hmp[arr[i]] = 1\n",
    "            \n",
    "    for x in hmp:\n",
    "        print(x ,\" \",hmp[x])\n",
    "        \n",
    "arr  = [10,20,10,20,10]\n",
    "n = len(arr)\n",
    "count_freq(arr,n)"
   ]
  },
  {
   "cell_type": "code",
   "execution_count": 4,
   "id": "a472b026",
   "metadata": {},
   "outputs": [
    {
     "name": "stdout",
     "output_type": "stream",
     "text": [
      "True\n",
      "False\n"
     ]
    },
    {
     "data": {
      "text/plain": [
       "False"
      ]
     },
     "execution_count": 4,
     "metadata": {},
     "output_type": "execute_result"
    }
   ],
   "source": [
    "## Open addrasing and chaining\n",
    "\n",
    "class MyHash:\n",
    "    def __init__(self, c):\n",
    "        self.cap = c\n",
    "        self.table = [-1] * c\n",
    "        self.size = 0\n",
    "\n",
    "    def hash(self, x):\n",
    "        return x % self.cap\n",
    "\n",
    "    def search(self, x):\n",
    "        h = self.hash(x)\n",
    "        t = self.table\n",
    "        i = h\n",
    "        while t[i] != -1:\n",
    "            if t[i] == x:\n",
    "                return True\n",
    "            i = (i + 1) % self.cap\n",
    "            if i == h:\n",
    "                return False\n",
    "        return False\n",
    "    \n",
    "    def insert(self, x):\n",
    "        if self.size == self.cap:\n",
    "            return False\n",
    "\n",
    "        if self.search(x) == True:\n",
    "            return False\n",
    "        i = self.hash(x)\n",
    "        t = self.table\n",
    "        while t[i] not in (-1, -2):\n",
    "            i = (i + 1) % self.cap\n",
    "\n",
    "        t[i] = x\n",
    "        self.size = self.size + 1\n",
    "        return True\n",
    "\n",
    "    def remove(self, x):\n",
    "        h = self.hash(x)\n",
    "        t = self.table\n",
    "        i = h\n",
    "        while t[i] != -1:\n",
    "            if t[i] == x:\n",
    "                t[i] = -2\n",
    "                return True\n",
    "            i = (i + 1) % self.cap\n",
    "            if i == h:\n",
    "                return False\n",
    "        return False\n",
    "\n",
    "\n",
    "h = MyHash(7)\n",
    "h.insert(70)\n",
    "h.insert(71)\n",
    "h.insert(9)\n",
    "h.insert(56)\n",
    "h.insert(72)\n",
    "print(h.search(56))\n",
    "h.remove(56)\n",
    "print(h.search(56))\n",
    "h.remove(56)"
   ]
  },
  {
   "cell_type": "code",
   "execution_count": 5,
   "id": "13fb1e09",
   "metadata": {},
   "outputs": [
    {
     "data": {
      "text/plain": [
       "3"
      ]
     },
     "execution_count": 5,
     "metadata": {},
     "output_type": "execute_result"
    }
   ],
   "source": [
    "## Count of distinct element in the list\n",
    "\n",
    "def cdistinct(arr,n):\n",
    "    \n",
    "    res = 1\n",
    "    for i in range(n):\n",
    "        if arr[i] not in arr[0:i]:\n",
    "            res+=1\n",
    "            \n",
    "    return res\n",
    "\n",
    "arr = [10,10,20,10,20,20]\n",
    "n = len(arr)\n",
    "cdistinct(arr,n)"
   ]
  },
  {
   "cell_type": "code",
   "execution_count": 6,
   "id": "76df9557",
   "metadata": {},
   "outputs": [
    {
     "name": "stdout",
     "output_type": "stream",
     "text": [
      "3\n"
     ]
    }
   ],
   "source": [
    "## Insertation of two array\n",
    "\n",
    "def count_distinct(arr1,arr2,m,n):\n",
    "    \n",
    "    res = 0\n",
    "    for i in range(m):\n",
    "        flag = False\n",
    "        \n",
    "        for j in range(i-1):\n",
    "            if arr1[i]==arr1[j]:\n",
    "                flag = True\n",
    "                break\n",
    "                \n",
    "                \n",
    "        if flag == True:\n",
    "            continue\n",
    "            \n",
    "        for j in range(n):\n",
    "            if arr1[i]==arr2[j]:\n",
    "                res+=1\n",
    "                flag = True\n",
    "                break\n",
    "            \n",
    "    return res\n",
    "                \n",
    "    \n",
    "m=7 \n",
    "n=4\n",
    "arr1=[10, 15, 20, 15, 30, 30, 5]\n",
    "arr2=[30, 5, 30, 80]\n",
    "print(count_distinct(arr1,arr2,m,n))           "
   ]
  },
  {
   "cell_type": "code",
   "execution_count": 7,
   "id": "d3e8a238",
   "metadata": {},
   "outputs": [
    {
     "name": "stdout",
     "output_type": "stream",
     "text": [
      "2\n"
     ]
    }
   ],
   "source": [
    "## Efficient approch intersection of two element\n",
    "\n",
    "def intersection(arr1,m,arr2,n):\n",
    "    \n",
    "    sn = set()\n",
    "    \n",
    "    for i in range(m):\n",
    "        sn.add(arr1[i])\n",
    "        \n",
    "    res = 0\n",
    "    \n",
    "    for i in range(n):\n",
    "        if arr2[i] in sn:\n",
    "            res+=1\n",
    "            sn.remove(arr2[i])\n",
    "            \n",
    "    return res\n",
    "\n",
    "m=7 \n",
    "n=4\n",
    "arr1=[10, 15, 20, 15, 30, 30, 5]\n",
    "arr2=[30, 5, 30, 80]\n",
    "print(intersection(arr1,m,arr2,n))"
   ]
  },
  {
   "cell_type": "code",
   "execution_count": 8,
   "id": "bd8417dd",
   "metadata": {},
   "outputs": [
    {
     "name": "stdout",
     "output_type": "stream",
     "text": [
      "6\n"
     ]
    }
   ],
   "source": [
    "## union of two unsorted array\n",
    "\n",
    "def union_sorted(arr1,m,arr2,n):\n",
    "    \n",
    "    c = [0]*(m+n)\n",
    "    res = 0\n",
    "    \n",
    "    for i in range(m):\n",
    "        c[i] = arr1[i]\n",
    "        \n",
    "        for i in range(n):\n",
    "            c[i+m] = arr2[i]\n",
    "            \n",
    "    for i in range(m+n):\n",
    "        flag = False\n",
    "        \n",
    "        for j in range(i):\n",
    "            if c[i]==c[j]:\n",
    "                flag=True\n",
    "                break\n",
    "                \n",
    "        if flag==False:\n",
    "            res+=1\n",
    "            \n",
    "    return res\n",
    "\n",
    "m=7 \n",
    "n=4\n",
    "arr1=[10, 15, 20, 15, 30, 30, 5]\n",
    "arr2=[30, 5, 30, 80]\n",
    "print(union_sorted(arr1, m, arr2, n))\n"
   ]
  },
  {
   "cell_type": "code",
   "execution_count": 11,
   "id": "8a1ddb9f",
   "metadata": {},
   "outputs": [
    {
     "name": "stdout",
     "output_type": "stream",
     "text": [
      "6\n"
     ]
    }
   ],
   "source": [
    "## union of two array\n",
    "\n",
    "def union_size(arr1,m,arr2,n):\n",
    "    sn = set()\n",
    "    \n",
    "    for i in range(m):\n",
    "        sn.add(arr1[i])\n",
    "        \n",
    "    for j in range(n):\n",
    "        sn.add(arr2[j])\n",
    "        \n",
    "    return len(sn)\n",
    "\n",
    "m=7 \n",
    "n=4\n",
    "arr1=[10, 15, 20, 15, 30, 30, 5]\n",
    "arr2=[30, 5, 30, 80]\n",
    "print(union_size(arr1, m, arr2, n))"
   ]
  },
  {
   "cell_type": "code",
   "execution_count": 12,
   "id": "e60992c4",
   "metadata": {},
   "outputs": [
    {
     "name": "stdout",
     "output_type": "stream",
     "text": [
      "True\n"
     ]
    }
   ],
   "source": [
    "# Check the pair suum in the array\n",
    "\n",
    "def pair_sum(arr,m,x):\n",
    "    \n",
    "    for i in range(m):\n",
    "        for j in range(i+1,m):\n",
    "            if (arr[i]+arr[j]==x):\n",
    "                return True\n",
    "            \n",
    "    return False\n",
    "\n",
    "arr = [1,3,5,2]\n",
    "x = 7\n",
    "m = len(arr)\n",
    "print(pair_sum(arr,m,x))"
   ]
  },
  {
   "cell_type": "code",
   "execution_count": 15,
   "id": "45c8db03",
   "metadata": {},
   "outputs": [
    {
     "name": "stdout",
     "output_type": "stream",
     "text": [
      "True\n"
     ]
    }
   ],
   "source": [
    "## Efficient approch\n",
    "\n",
    "def pair_sum(arr,m,x):\n",
    "    \n",
    "    sn = set()\n",
    "    \n",
    "    for i in range(m):\n",
    "        if x-i in sn:\n",
    "            return True\n",
    "        sn.add(i)\n",
    "        \n",
    "    return False\n",
    "\n",
    "arr = [3,2,8,15,-8]\n",
    "x = 7\n",
    "m = len(arr)\n",
    "print(pair_sum(arr,m,x))"
   ]
  },
  {
   "cell_type": "code",
   "execution_count": 16,
   "id": "82531b4e",
   "metadata": {},
   "outputs": [
    {
     "name": "stdout",
     "output_type": "stream",
     "text": [
      "True\n"
     ]
    }
   ],
   "source": [
    "## checking the subarray having the summ equal to zero\n",
    "\n",
    "def zero_sum(arr,n):\n",
    "    \n",
    "    for i in range(n):\n",
    "        for j in range(i+1,n+1):\n",
    "            if sum(arr[i:j])==0:\n",
    "                return True\n",
    "    return False\n",
    "\n",
    "arr = [4,3,-2,1,1]\n",
    "n = len(arr)\n",
    "print(zero_sum(arr,n))"
   ]
  },
  {
   "cell_type": "code",
   "execution_count": 18,
   "id": "2ecce643",
   "metadata": {},
   "outputs": [
    {
     "name": "stdout",
     "output_type": "stream",
     "text": [
      "True\n"
     ]
    }
   ],
   "source": [
    "## Efficient way to solve the problem\n",
    "\n",
    "def zero_sum(arr,n):\n",
    "    \n",
    "    hsh = set()\n",
    "    pre_sum = 0\n",
    "    \n",
    "    for i in range(n):\n",
    "        pre_sum+=arr[i]\n",
    "        \n",
    "        if pre_sum==0 or pre_sum in hsh:\n",
    "            return True\n",
    "        hsh.add(pre_sum)\n",
    "        \n",
    "    return False\n",
    "\n",
    "arr = [-3,4,-3,1,1]\n",
    "n = len(arr)\n",
    "print(zero_sum(arr,n))"
   ]
  },
  {
   "cell_type": "code",
   "execution_count": 26,
   "id": "89495ee0",
   "metadata": {},
   "outputs": [
    {
     "name": "stdout",
     "output_type": "stream",
     "text": [
      "True\n"
     ]
    }
   ],
   "source": [
    "## Finding the subarray with the given sum\n",
    "\n",
    "def subarray_sum(arr,n,x):\n",
    "    \n",
    "    count = 0\n",
    "    \n",
    "    for i in range(n):\n",
    "        \n",
    "        for j in range(i+1,n+1):\n",
    "            \n",
    "            count+=arr[i]\n",
    "            \n",
    "            if count==x:\n",
    "                return True\n",
    "            \n",
    "    return False\n",
    "            \n",
    "arr = [3,2,0,4,7]\n",
    "x = 6\n",
    "\n",
    "n = len(arr)\n",
    "\n",
    "print(subarray_sum(arr,n,x))"
   ]
  },
  {
   "cell_type": "code",
   "execution_count": 28,
   "id": "421d07a9",
   "metadata": {},
   "outputs": [
    {
     "name": "stdout",
     "output_type": "stream",
     "text": [
      "True\n"
     ]
    }
   ],
   "source": [
    "## Efficient approch \n",
    "\n",
    "def subarray_sum(arr,n,x):\n",
    "    \n",
    "    s,curr = 0,0\n",
    "    \n",
    "    for i in range(n):\n",
    "        curr+=arr[i]\n",
    "        while (curr > x):\n",
    "            curr-=arr[s]\n",
    "            s+=1\n",
    "        if curr==x:\n",
    "            return True\n",
    "        \n",
    "    return False\n",
    "\n",
    "arr = [4,8,12,5]\n",
    "x = 17\n",
    "n = len(arr)\n",
    "print(subarray_sum(arr,n,x))            "
   ]
  },
  {
   "cell_type": "code",
   "execution_count": null,
   "id": "32f87602",
   "metadata": {},
   "outputs": [],
   "source": []
  }
 ],
 "metadata": {
  "kernelspec": {
   "display_name": "Python 3 (ipykernel)",
   "language": "python",
   "name": "python3"
  },
  "language_info": {
   "codemirror_mode": {
    "name": "ipython",
    "version": 3
   },
   "file_extension": ".py",
   "mimetype": "text/x-python",
   "name": "python",
   "nbconvert_exporter": "python",
   "pygments_lexer": "ipython3",
   "version": "3.9.13"
  }
 },
 "nbformat": 4,
 "nbformat_minor": 5
}
